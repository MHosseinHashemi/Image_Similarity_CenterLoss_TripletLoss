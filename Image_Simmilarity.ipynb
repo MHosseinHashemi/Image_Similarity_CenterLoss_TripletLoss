{
  "nbformat": 4,
  "nbformat_minor": 0,
  "metadata": {
    "colab": {
      "provenance": [],
      "gpuType": "T4",
      "mount_file_id": "1QvDNKNMeYVr46COBosk-f0rH0BotJUMq",
      "authorship_tag": "ABX9TyMXVX6ojK/tgrqeoGT0dSL4",
      "include_colab_link": true
    },
    "kernelspec": {
      "name": "python3",
      "display_name": "Python 3"
    },
    "language_info": {
      "name": "python"
    },
    "accelerator": "GPU"
  },
  "cells": [
    {
      "cell_type": "markdown",
      "metadata": {
        "id": "view-in-github",
        "colab_type": "text"
      },
      "source": [
        "<a href=\"https://colab.research.google.com/github/MHosseinHashemi/Image_Sim/blob/main/Image_Simmilarity.ipynb\" target=\"_parent\"><img src=\"https://colab.research.google.com/assets/colab-badge.svg\" alt=\"Open In Colab\"/></a>"
      ]
    },
    {
      "cell_type": "code",
      "execution_count": 1,
      "metadata": {
        "id": "KLGuBu_H_71L"
      },
      "outputs": [],
      "source": [
        "import tensorflow as tf\n",
        "import tensorflow_hub as hub\n",
        "import tensorflow_datasets as tfds\n",
        "import numpy as np\n",
        "import matplotlib.pyplot as plt\n",
        "import functools"
      ]
    },
    {
      "cell_type": "code",
      "source": [
        "(train_ds, valid_ds), info = tfds.load(\"oxford_flowers102\", split=[\"train\", \"validation\"], as_supervised=True, with_info=True)"
      ],
      "metadata": {
        "id": "chsOvx8HF3um"
      },
      "execution_count": 2,
      "outputs": []
    },
    {
      "cell_type": "code",
      "source": [
        "IMG_WIDTH = IMG_HEIGHT = 256"
      ],
      "metadata": {
        "id": "J2bOnOddGGYJ"
      },
      "execution_count": 3,
      "outputs": []
    },
    {
      "cell_type": "code",
      "source": [
        "CLASSES_TO_CONSIDER = list(range(10)) # Only the first 10 classes"
      ],
      "metadata": {
        "id": "L0RApuXOGGar"
      },
      "execution_count": 4,
      "outputs": []
    },
    {
      "cell_type": "code",
      "source": [
        "# A function to Prep the images\n",
        "def preprocess_image(image, label, height, width):\n",
        "    image = tf.image.resize_with_crop_or_pad(image, target_height=height, target_width=width)\n",
        "    image = tf.cast(image, tf.float32) / 255.0\n",
        "    return image, label"
      ],
      "metadata": {
        "id": "5PfvKqYjGGdE"
      },
      "execution_count": 5,
      "outputs": []
    },
    {
      "cell_type": "code",
      "source": [
        "# A function to filter out unwanted labels ! You should remove it after test training ....\n",
        "def filter_by_classes(img, label):\n",
        "  # Only picks the selected labels\n",
        "  bools = tf.equal(label, CLASSES_TO_CONSIDER)\n",
        "  return tf.reduce_any(bools)"
      ],
      "metadata": {
        "id": "EVivHPZMGGfB"
      },
      "execution_count": 6,
      "outputs": []
    },
    {
      "cell_type": "code",
      "source": [
        "# Create a new function to prep the\n",
        "partial_preprocess_image = functools.partial(preprocess_image, height=IMG_HEIGHT, width=IMG_WIDTH)\n",
        "train_ds = train_ds.filter(filter_by_classes).map(partial_preprocess_image).cache().shuffle(buffer_size=1000)\n",
        "valid_ds = valid_ds.filter(filter_by_classes).map(partial_preprocess_image).cache().shuffle(buffer_size=1000)"
      ],
      "metadata": {
        "id": "jZbWUIWLKMRo"
      },
      "execution_count": 7,
      "outputs": []
    },
    {
      "cell_type": "code",
      "source": [
        "def get_x_y_from_ds(ds):\n",
        "    x, y = [], []\n",
        "    for img, label in ds.cache().as_numpy_iterator():\n",
        "        x.append(img)\n",
        "        y.append(label)\n",
        "\n",
        "    return np.array(x), np.array(y)"
      ],
      "metadata": {
        "id": "anwwa80rNFZ0"
      },
      "execution_count": 8,
      "outputs": []
    },
    {
      "cell_type": "code",
      "source": [
        "x_train, y_train = get_x_y_from_ds(train_ds)"
      ],
      "metadata": {
        "id": "wkr2EVrAOENB"
      },
      "execution_count": 9,
      "outputs": []
    },
    {
      "cell_type": "code",
      "source": [
        "x_test, y_test = get_x_y_from_ds(valid_ds)"
      ],
      "metadata": {
        "id": "SnZPkLLGOKAh"
      },
      "execution_count": 10,
      "outputs": []
    },
    {
      "cell_type": "code",
      "source": [
        "print(f\"number of {len(x_train)} samples\\nnumber of {len(y_train)} samples\\nnumber of {len(x_test)} samples\\nnumber of {len(y_test)} samples\")"
      ],
      "metadata": {
        "colab": {
          "base_uri": "https://localhost:8080/"
        },
        "id": "tiJw2aNmOT-Q",
        "outputId": "2707170a-c8a7-4a6a-c589-afe30aad5c0e"
      },
      "execution_count": 11,
      "outputs": [
        {
          "output_type": "stream",
          "name": "stdout",
          "text": [
            "number of 100 samples\n",
            "number of 100 samples\n",
            "number of 100 samples\n",
            "number of 100 samples\n"
          ]
        }
      ]
    },
    {
      "cell_type": "code",
      "source": [
        "# Model\n",
        "MODEL_URL = \"https://tfhub.dev/google/imagenet/efficientnet_v2_imagenet1k_s/feature_vector/2\"\n",
        "\n",
        "model = tf.keras.Sequential([\n",
        "    tf.keras.layers.RandomFlip(\"horizontal_and_vertical\"),\n",
        "    tf.keras.layers.RandomRotation(0.3),\n",
        "    hub.KerasLayer(MODEL_URL, trainable=True),\n",
        "    tf.keras.layers.Dropout(0.2),\n",
        "    tf.keras.layers.Dense(256, activation=None), # No activation on final dense layer\n",
        "    tf.keras.layers.Lambda(lambda x: tf.math.l2_normalize(x, axis=1)) # L2 normalize embeddings\n",
        "])\n",
        "\n",
        "model.build([None, IMG_HEIGHT, IMG_WIDTH, 3])\n",
        "model.summary()"
      ],
      "metadata": {
        "colab": {
          "base_uri": "https://localhost:8080/"
        },
        "id": "USAxUjmLOwmm",
        "outputId": "1b878830-e54b-493a-aa8d-1ee558cb1b1e"
      },
      "execution_count": 12,
      "outputs": [
        {
          "output_type": "stream",
          "name": "stdout",
          "text": [
            "Model: \"sequential\"\n",
            "_________________________________________________________________\n",
            " Layer (type)                Output Shape              Param #   \n",
            "=================================================================\n",
            " random_flip (RandomFlip)    (None, 256, 256, 3)       0         \n",
            "                                                                 \n",
            " random_rotation (RandomRota  (None, 256, 256, 3)      0         \n",
            " tion)                                                           \n",
            "                                                                 \n",
            " keras_layer (KerasLayer)    (None, 1280)              20331360  \n",
            "                                                                 \n",
            " dropout (Dropout)           (None, 1280)              0         \n",
            "                                                                 \n",
            " dense (Dense)               (None, 256)               327936    \n",
            "                                                                 \n",
            " lambda (Lambda)             (None, 256)               0         \n",
            "                                                                 \n",
            "=================================================================\n",
            "Total params: 20,659,296\n",
            "Trainable params: 20,505,424\n",
            "Non-trainable params: 153,872\n",
            "_________________________________________________________________\n"
          ]
        }
      ]
    },
    {
      "cell_type": "code",
      "source": [
        "from collections import defaultdict\n",
        "import random\n",
        "\n",
        "def get_training_batch(images, labels, batch_size=128, n_examples_per_class=4):\n",
        "    examples_per_class = defaultdict(list)\n",
        "    for x, y in zip(images, labels):\n",
        "        examples_per_class[y].append(x)\n",
        "\n",
        "    while True:\n",
        "        batch_X, batch_y = [], []\n",
        "        while len(batch_X) < batch_size:\n",
        "            for cls, examples in examples_per_class.items():\n",
        "                n_sample = min(n_examples_per_class, (batch_size - len(batch_X)))\n",
        "                if n_sample == 0:\n",
        "                    break\n",
        "                samples = random.sample(examples, k=n_sample)\n",
        "                batch_X.extend(samples)\n",
        "                batch_y.extend([cls] * len(samples))\n",
        "\n",
        "        yield np.array(batch_X), np.array(batch_y)"
      ],
      "metadata": {
        "id": "WM07pLS9UqHJ"
      },
      "execution_count": 13,
      "outputs": []
    },
    {
      "cell_type": "code",
      "source": [
        "# !pip install tensorflow_addons"
      ],
      "metadata": {
        "id": "n3sRCSeXUqJo"
      },
      "execution_count": 14,
      "outputs": []
    },
    {
      "cell_type": "code",
      "source": [
        "bs = 24\n",
        "n_examples_per_class = 3\n",
        "initial_lr = 0.0001\n",
        "epochs = 80\n",
        "import tensorflow_addons as tfa\n",
        "\n",
        "model.compile(optimizer=tf.keras.optimizers.Adam(learning_rate=initial_lr),\n",
        "                         loss=tfa.losses.TripletSemiHardLoss())\n",
        "\n",
        "history = model.fit(get_training_batch(images=x_train, labels=y_train, batch_size=bs, n_examples_per_class=n_examples_per_class),\n",
        "                               epochs=epochs,\n",
        "                               steps_per_epoch=len(x_train)//bs,\n",
        "                               validation_data=(x_test, y_test),\n",
        "                               validation_batch_size=bs,\n",
        "                              )"
      ],
      "metadata": {
        "colab": {
          "base_uri": "https://localhost:8080/"
        },
        "id": "0LCpHPxPUqMA",
        "outputId": "43084fcc-297b-410e-92ad-bc4f3510e81f"
      },
      "execution_count": 18,
      "outputs": [
        {
          "output_type": "stream",
          "name": "stdout",
          "text": [
            "Epoch 1/80\n",
            "4/4 [==============================] - 99s 1s/step - loss: 0.8097 - val_loss: nan\n",
            "Epoch 2/80\n",
            "4/4 [==============================] - 2s 597ms/step - loss: 0.7671 - val_loss: nan\n",
            "Epoch 3/80\n",
            "4/4 [==============================] - 2s 594ms/step - loss: 0.6984 - val_loss: nan\n",
            "Epoch 4/80\n",
            "4/4 [==============================] - 2s 595ms/step - loss: 0.6572 - val_loss: nan\n",
            "Epoch 5/80\n",
            "4/4 [==============================] - 2s 652ms/step - loss: 0.6052 - val_loss: nan\n",
            "Epoch 6/80\n",
            "4/4 [==============================] - 2s 656ms/step - loss: 0.5349 - val_loss: nan\n",
            "Epoch 7/80\n",
            "4/4 [==============================] - 2s 600ms/step - loss: 0.4920 - val_loss: nan\n",
            "Epoch 8/80\n",
            "4/4 [==============================] - 2s 648ms/step - loss: 0.4238 - val_loss: nan\n",
            "Epoch 9/80\n",
            "4/4 [==============================] - 2s 606ms/step - loss: 0.3766 - val_loss: nan\n",
            "Epoch 10/80\n",
            "4/4 [==============================] - 2s 649ms/step - loss: 0.3112 - val_loss: nan\n",
            "Epoch 11/80\n",
            "4/4 [==============================] - 2s 624ms/step - loss: 0.2747 - val_loss: nan\n",
            "Epoch 12/80\n",
            "4/4 [==============================] - 2s 661ms/step - loss: 0.2371 - val_loss: nan\n",
            "Epoch 13/80\n",
            "4/4 [==============================] - 2s 599ms/step - loss: 0.2109 - val_loss: nan\n",
            "Epoch 14/80\n",
            "4/4 [==============================] - 2s 646ms/step - loss: 0.1526 - val_loss: nan\n",
            "Epoch 15/80\n",
            "4/4 [==============================] - 2s 647ms/step - loss: 0.1673 - val_loss: nan\n",
            "Epoch 16/80\n",
            "4/4 [==============================] - 2s 596ms/step - loss: 0.1102 - val_loss: nan\n",
            "Epoch 17/80\n",
            "4/4 [==============================] - 2s 606ms/step - loss: 0.0870 - val_loss: nan\n",
            "Epoch 18/80\n",
            "4/4 [==============================] - 2s 672ms/step - loss: 0.0724 - val_loss: nan\n",
            "Epoch 19/80\n",
            "4/4 [==============================] - 2s 635ms/step - loss: 0.0749 - val_loss: nan\n",
            "Epoch 20/80\n",
            "4/4 [==============================] - 2s 646ms/step - loss: 0.0455 - val_loss: nan\n",
            "Epoch 21/80\n",
            "4/4 [==============================] - 2s 640ms/step - loss: 0.0324 - val_loss: nan\n",
            "Epoch 22/80\n",
            "4/4 [==============================] - 2s 591ms/step - loss: 0.0250 - val_loss: nan\n",
            "Epoch 23/80\n",
            "4/4 [==============================] - 2s 644ms/step - loss: 0.0215 - val_loss: nan\n",
            "Epoch 24/80\n",
            "4/4 [==============================] - 2s 623ms/step - loss: 0.0190 - val_loss: nan\n",
            "Epoch 25/80\n",
            "4/4 [==============================] - 2s 684ms/step - loss: 0.0120 - val_loss: nan\n",
            "Epoch 26/80\n",
            "4/4 [==============================] - 2s 590ms/step - loss: 0.0160 - val_loss: nan\n",
            "Epoch 27/80\n",
            "4/4 [==============================] - 2s 585ms/step - loss: 0.0115 - val_loss: nan\n",
            "Epoch 28/80\n",
            "4/4 [==============================] - 2s 637ms/step - loss: 0.0082 - val_loss: nan\n",
            "Epoch 29/80\n",
            "4/4 [==============================] - 2s 634ms/step - loss: 0.0065 - val_loss: nan\n",
            "Epoch 30/80\n",
            "4/4 [==============================] - 3s 735ms/step - loss: 0.0097 - val_loss: nan\n",
            "Epoch 31/80\n",
            "4/4 [==============================] - 2s 648ms/step - loss: 0.0059 - val_loss: nan\n",
            "Epoch 32/80\n",
            "4/4 [==============================] - 2s 635ms/step - loss: 0.0033 - val_loss: nan\n",
            "Epoch 33/80\n",
            "4/4 [==============================] - 2s 586ms/step - loss: 0.0024 - val_loss: nan\n",
            "Epoch 34/80\n",
            "4/4 [==============================] - 2s 637ms/step - loss: 0.0051 - val_loss: nan\n",
            "Epoch 35/80\n",
            "4/4 [==============================] - 2s 587ms/step - loss: 0.0017 - val_loss: nan\n",
            "Epoch 36/80\n",
            "4/4 [==============================] - 2s 645ms/step - loss: 0.0020 - val_loss: nan\n",
            "Epoch 37/80\n",
            "4/4 [==============================] - 2s 608ms/step - loss: 7.6143e-04 - val_loss: nan\n",
            "Epoch 38/80\n",
            "4/4 [==============================] - 2s 588ms/step - loss: 0.0016 - val_loss: nan\n",
            "Epoch 39/80\n",
            "4/4 [==============================] - 2s 640ms/step - loss: 0.0033 - val_loss: nan\n",
            "Epoch 40/80\n",
            "4/4 [==============================] - 2s 594ms/step - loss: 0.0018 - val_loss: nan\n",
            "Epoch 41/80\n",
            "4/4 [==============================] - 2s 642ms/step - loss: 0.0028 - val_loss: nan\n",
            "Epoch 42/80\n",
            "4/4 [==============================] - 2s 606ms/step - loss: 0.0023 - val_loss: nan\n",
            "Epoch 43/80\n",
            "4/4 [==============================] - 2s 610ms/step - loss: 0.0017 - val_loss: nan\n",
            "Epoch 44/80\n",
            "4/4 [==============================] - 2s 639ms/step - loss: 0.0010 - val_loss: nan\n",
            "Epoch 45/80\n",
            "4/4 [==============================] - 2s 633ms/step - loss: 0.0021 - val_loss: nan\n",
            "Epoch 46/80\n",
            "4/4 [==============================] - 2s 596ms/step - loss: 0.0024 - val_loss: nan\n",
            "Epoch 47/80\n",
            "4/4 [==============================] - 2s 631ms/step - loss: 1.0536e-04 - val_loss: nan\n",
            "Epoch 48/80\n",
            "4/4 [==============================] - 2s 647ms/step - loss: 3.3129e-04 - val_loss: nan\n",
            "Epoch 49/80\n",
            "4/4 [==============================] - 2s 660ms/step - loss: 0.0010 - val_loss: nan\n",
            "Epoch 50/80\n",
            "4/4 [==============================] - 2s 639ms/step - loss: 0.0015 - val_loss: nan\n",
            "Epoch 51/80\n",
            "4/4 [==============================] - 2s 589ms/step - loss: 6.4637e-04 - val_loss: nan\n",
            "Epoch 52/80\n",
            "4/4 [==============================] - 2s 628ms/step - loss: 0.0041 - val_loss: nan\n",
            "Epoch 53/80\n",
            "4/4 [==============================] - 2s 637ms/step - loss: 4.0314e-05 - val_loss: nan\n",
            "Epoch 54/80\n",
            "4/4 [==============================] - 2s 648ms/step - loss: 0.0010 - val_loss: nan\n",
            "Epoch 55/80\n",
            "4/4 [==============================] - 3s 733ms/step - loss: 9.7433e-05 - val_loss: nan\n",
            "Epoch 56/80\n",
            "4/4 [==============================] - 2s 583ms/step - loss: 0.0020 - val_loss: nan\n",
            "Epoch 57/80\n",
            "4/4 [==============================] - 2s 636ms/step - loss: 1.4398e-04 - val_loss: nan\n",
            "Epoch 58/80\n",
            "4/4 [==============================] - 2s 585ms/step - loss: 1.8479e-04 - val_loss: nan\n",
            "Epoch 59/80\n",
            "4/4 [==============================] - 2s 629ms/step - loss: 0.0017 - val_loss: nan\n",
            "Epoch 60/80\n",
            "4/4 [==============================] - 2s 641ms/step - loss: 3.6382e-04 - val_loss: nan\n",
            "Epoch 61/80\n",
            "4/4 [==============================] - 2s 642ms/step - loss: 7.0874e-04 - val_loss: nan\n",
            "Epoch 62/80\n",
            "4/4 [==============================] - 2s 582ms/step - loss: 6.5775e-04 - val_loss: nan\n",
            "Epoch 63/80\n",
            "4/4 [==============================] - 2s 633ms/step - loss: 3.5430e-04 - val_loss: nan\n",
            "Epoch 64/80\n",
            "4/4 [==============================] - 2s 629ms/step - loss: 2.3986e-04 - val_loss: nan\n",
            "Epoch 65/80\n",
            "4/4 [==============================] - 2s 589ms/step - loss: 0.0013 - val_loss: nan\n",
            "Epoch 66/80\n",
            "4/4 [==============================] - 2s 642ms/step - loss: 2.0509e-04 - val_loss: nan\n",
            "Epoch 67/80\n",
            "4/4 [==============================] - 2s 646ms/step - loss: 5.5009e-04 - val_loss: nan\n",
            "Epoch 68/80\n",
            "4/4 [==============================] - 3s 708ms/step - loss: 4.3806e-05 - val_loss: nan\n",
            "Epoch 69/80\n",
            "4/4 [==============================] - 3s 779ms/step - loss: 1.6835e-04 - val_loss: nan\n",
            "Epoch 70/80\n",
            "4/4 [==============================] - 3s 728ms/step - loss: 8.2267e-08 - val_loss: nan\n",
            "Epoch 71/80\n",
            "4/4 [==============================] - 3s 805ms/step - loss: 5.5624e-04 - val_loss: nan\n",
            "Epoch 72/80\n",
            "4/4 [==============================] - 4s 1s/step - loss: 4.7074e-04 - val_loss: nan\n",
            "Epoch 73/80\n",
            "4/4 [==============================] - 3s 721ms/step - loss: 4.0906e-04 - val_loss: nan\n",
            "Epoch 74/80\n",
            "4/4 [==============================] - 3s 751ms/step - loss: 6.0567e-04 - val_loss: nan\n",
            "Epoch 75/80\n",
            "4/4 [==============================] - 3s 784ms/step - loss: 0.0015 - val_loss: nan\n",
            "Epoch 76/80\n",
            "4/4 [==============================] - 3s 679ms/step - loss: 4.4724e-04 - val_loss: nan\n",
            "Epoch 77/80\n",
            "4/4 [==============================] - 3s 744ms/step - loss: 1.5628e-04 - val_loss: nan\n",
            "Epoch 78/80\n",
            "4/4 [==============================] - 2s 601ms/step - loss: 2.2951e-04 - val_loss: nan\n",
            "Epoch 79/80\n",
            "4/4 [==============================] - 2s 589ms/step - loss: 2.1910e-04 - val_loss: nan\n",
            "Epoch 80/80\n",
            "4/4 [==============================] - 2s 632ms/step - loss: 1.2770e-04 - val_loss: nan\n"
          ]
        }
      ]
    },
    {
      "cell_type": "code",
      "source": [
        "print(\"Done\")"
      ],
      "metadata": {
        "colab": {
          "base_uri": "https://localhost:8080/"
        },
        "id": "FzWTfLDqjukh",
        "outputId": "ce98fd0a-0dd4-463d-b6f4-07d83bfb16d6"
      },
      "execution_count": 19,
      "outputs": [
        {
          "output_type": "stream",
          "name": "stdout",
          "text": [
            "Done\n"
          ]
        }
      ]
    },
    {
      "cell_type": "code",
      "source": [
        "# plot model performance\n",
        "\n",
        "\n",
        "loss = history.history['loss']\n",
        "val_loss = history.history['val_loss']\n",
        "epochs_range = range(1, len(history.epoch) + 1)\n",
        "\n",
        "plt.figure(figsize=(15,5))\n",
        "\n",
        "plt.plot(epochs_range, loss, label='Train Set')\n",
        "plt.plot(epochs_range, val_loss, label='Val Set')\n",
        "plt.legend(loc=\"best\")\n",
        "plt.xlabel('Epochs')\n",
        "plt.ylabel('Loss')\n",
        "plt.title('Model Loss')\n",
        "\n",
        "plt.tight_layout()\n",
        "plt.show()"
      ],
      "metadata": {
        "colab": {
          "base_uri": "https://localhost:8080/",
          "height": 342
        },
        "id": "4mdgV9GdyKfK",
        "outputId": "aa493067-3f0a-401b-edd7-f5c33a8f8fb1"
      },
      "execution_count": 31,
      "outputs": [
        {
          "output_type": "display_data",
          "data": {
            "text/plain": [
              "<Figure size 1500x500 with 1 Axes>"
            ],
            "image/png": "[encoded data removed]"
          },
          "metadata": {}
        }
      ]
    },
    {
      "cell_type": "markdown",
      "source": [
        "# Logs"
      ],
      "metadata": {
        "id": "a1wsabkv1kPW"
      }
    },
    {
      "cell_type": "markdown",
      "source": [
        "###### - 30 Epocsh Seems to be enough\n",
        "###### - 32 batch is the maximum number\n",
        "###### - Validation Loss is not a Number !?!?!"
      ],
      "metadata": {
        "id": "fb5ahLBZ1Gfv"
      }
    },
    {
      "cell_type": "code",
      "source": [],
      "metadata": {
        "id": "FPDwmiVK1K3k"
      },
      "execution_count": null,
      "outputs": []
    }
  ]
}