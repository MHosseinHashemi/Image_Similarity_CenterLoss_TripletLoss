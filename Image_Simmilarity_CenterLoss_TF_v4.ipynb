{
  "nbformat": 4,
  "nbformat_minor": 0,
  "metadata": {
    "colab": {
      "provenance": [],
      "authorship_tag": "ABX9TyP3M9FLkeKGF/fHL6JOyDh2",
      "include_colab_link": true
    },
    "kernelspec": {
      "name": "python3",
      "display_name": "Python 3"
    },
    "language_info": {
      "name": "python"
    }
  },
  "cells": [
    {
      "cell_type": "markdown",
      "metadata": {
        "id": "view-in-github",
        "colab_type": "text"
      },
      "source": [
        "<a href=\"https://colab.research.google.com/github/MHosseinHashemi/Image_Similarity/blob/main/Image_Simmilarity_CenterLoss_TF_v4.ipynb\" target=\"_parent\"><img src=\"https://colab.research.google.com/assets/colab-badge.svg\" alt=\"Open In Colab\"/></a>"
      ]
    },
    {
      "cell_type": "code",
      "execution_count": 2,
      "metadata": {
        "id": "LESsrUWdiKeV"
      },
      "outputs": [],
      "source": [
        "import random\n",
        "import numpy as np\n",
        "import tensorflow as tf\n",
        "import tensorflow_hub as hub\n",
        "import matplotlib.pyplot as plt\n",
        "import tensorflow_datasets as tfds\n",
        "from tensorflow.keras.models import Model\n",
        "from tensorflow.keras.layers import Input, RandomFlip, RandomRotation, Dense, Dropout, Lambda\n",
        "\n",
        "from tqdm import tqdm\n",
        "from collections import defaultdict"
      ]
    },
    {
      "cell_type": "code",
      "source": [
        "(train_data, test_data, validation_data), info = tfds.load(\"oxford_flowers102\", split=['train', 'validation', 'test'], as_supervised=True, with_info=True)"
      ],
      "metadata": {
        "id": "TsP2sQmQiTo2"
      },
      "execution_count": 3,
      "outputs": []
    },
    {
      "cell_type": "code",
      "source": [
        "height = 128\n",
        "width = 128\n",
        "\n",
        "def preprocess_images(image, label, height, width):\n",
        "    # image = tf.image.resize_with_crop_or_pad(image, target_height=height, target_width=width)\n",
        "    image = tf.image.resize(image, [width, height])\n",
        "    image = tf.cast(image, tf.float32) / 255.0\n",
        "    return image, label\n"
      ],
      "metadata": {
        "id": "hs5-5Z9YiUSB"
      },
      "execution_count": 4,
      "outputs": []
    },
    {
      "cell_type": "code",
      "source": [
        "train_ds = train_data.map(lambda image, label: preprocess_images(image, label, height, width))"
      ],
      "metadata": {
        "id": "XkPAI7_qiUUS"
      },
      "execution_count": 5,
      "outputs": []
    },
    {
      "cell_type": "code",
      "source": [
        "test_ds = test_data.map(lambda image, label: preprocess_images(image, label, height, width))"
      ],
      "metadata": {
        "id": "J_pYE9-EiUW6"
      },
      "execution_count": 6,
      "outputs": []
    },
    {
      "cell_type": "code",
      "source": [
        "def data_loader(data):\n",
        "  x = []\n",
        "  y = []\n",
        "  for img, label in tqdm(data.as_numpy_iterator()):\n",
        "    x.append(img)\n",
        "    y.append(label)\n",
        "\n",
        "  return x, y"
      ],
      "metadata": {
        "id": "KktpIh3LiUZb"
      },
      "execution_count": 7,
      "outputs": []
    },
    {
      "cell_type": "code",
      "source": [
        "x_train, y_train = data_loader(train_ds)"
      ],
      "metadata": {
        "colab": {
          "base_uri": "https://localhost:8080/"
        },
        "id": "gpAEgn23iUbS",
        "outputId": "76ad6046-6805-4b0f-d030-2ec9166067ea"
      },
      "execution_count": 8,
      "outputs": [
        {
          "output_type": "stream",
          "name": "stderr",
          "text": [
            "1020it [00:02, 451.41it/s]\n"
          ]
        }
      ]
    },
    {
      "cell_type": "code",
      "source": [
        "x_test, y_test = data_loader(test_ds)"
      ],
      "metadata": {
        "colab": {
          "base_uri": "https://localhost:8080/"
        },
        "id": "DGHyCXxoihTz",
        "outputId": "5e216f53-0c04-41f6-b937-4c373e2804ff"
      },
      "execution_count": 9,
      "outputs": [
        {
          "output_type": "stream",
          "name": "stderr",
          "text": [
            "1020it [00:02, 458.73it/s]\n"
          ]
        }
      ]
    },
    {
      "cell_type": "code",
      "source": [
        "# Base Model\n",
        "MODEL_URL = \"https://tfhub.dev/google/imagenet/efficientnet_v2_imagenet1k_s/feature_vector/2\"\n",
        "\n",
        "# model = tf.keras.Sequential([\n",
        "#     tf.keras.layers.RandomFlip(),\n",
        "#     tf.keras.layers.RandomRotation(0.3),\n",
        "#     hub.KerasLayer(MODEL_URL, trainable=True),\n",
        "#     tf.keras.layers.Dropout(0.25),\n",
        "#     tf.keras.layers.Dense(128, activation=None),\n",
        "#     tf.keras.layers.Dense(102, activation='softmax')\n",
        "#     # tf.keras.layers.Lambda(lambda x: tf.math.l2_normalize(x, axis=1)) # L2 normalize embeddings\n",
        "# ])\n",
        "\n",
        "# model.build([None, height, height, 3])\n",
        "# model.summary()\n",
        "\n",
        "# With Functional API to prevent Further Err\n",
        "input_layer = Input(shape=(height, width, 3))\n",
        "x = RandomFlip()(input_layer)\n",
        "x = RandomRotation(0.3)(x)\n",
        "x = hub.KerasLayer(MODEL_URL, trainable=True)(x)\n",
        "x = Dropout(0.25)(x)\n",
        "x = Dense(128, activation=None)(x)\n",
        "x = Lambda(lambda x: tf.math.l2_normalize(x, axis=1))(x)  # L2 normalize embeddings\n",
        "output_layer = Dense(102, activation='softmax')(x)\n",
        "\n",
        "model = tf.keras.Model(inputs=input_layer, outputs=output_layer)\n",
        "\n",
        "model.summary()\n",
        "\n"
      ],
      "metadata": {
        "colab": {
          "base_uri": "https://localhost:8080/"
        },
        "id": "2DmQk9fAihWB",
        "outputId": "891dcbad-abda-4b0c-9e0c-99d06ca5b32a"
      },
      "execution_count": 10,
      "outputs": [
        {
          "output_type": "stream",
          "name": "stdout",
          "text": [
            "Model: \"model\"\n",
            "_________________________________________________________________\n",
            " Layer (type)                Output Shape              Param #   \n",
            "=================================================================\n",
            " input_1 (InputLayer)        [(None, 128, 128, 3)]     0         \n",
            "                                                                 \n",
            " random_flip (RandomFlip)    (None, 128, 128, 3)       0         \n",
            "                                                                 \n",
            " random_rotation (RandomRota  (None, 128, 128, 3)      0         \n",
            " tion)                                                           \n",
            "                                                                 \n",
            " keras_layer (KerasLayer)    (None, 1280)              20331360  \n",
            "                                                                 \n",
            " dropout (Dropout)           (None, 1280)              0         \n",
            "                                                                 \n",
            " dense (Dense)               (None, 128)               163968    \n",
            "                                                                 \n",
            " lambda (Lambda)             (None, 128)               0         \n",
            "                                                                 \n",
            " dense_1 (Dense)             (None, 102)               13158     \n",
            "                                                                 \n",
            "=================================================================\n",
            "Total params: 20,508,486\n",
            "Trainable params: 20,354,614\n",
            "Non-trainable params: 153,872\n",
            "_________________________________________________________________\n"
          ]
        }
      ]
    },
    {
      "cell_type": "code",
      "source": [
        "def batch_me(images, labels, batch_size, samples_per_class):\n",
        "  temp_dict = defaultdict(list) # A Dic of Lists to save img, label pairs as one object\n",
        "  for img, label in zip(images, labels):\n",
        "    temp_dict[label].append(img)\n",
        "\n",
        "  while True:\n",
        "    batch_x = []\n",
        "    batch_y = []\n",
        "    while len(batch_x) < batch_size:\n",
        "      for category, examples in temp_dict.items():\n",
        "        # Only feed as large as the \"samples per class\"\n",
        "        # If the batch did not had enough space, feed as much as it has\n",
        "        n_samples = min(samples_per_class, (batch_size - len(batch_x)))\n",
        "        if n_samples == 0:\n",
        "          break\n",
        "        # Pick randomly from simmilar images of the same category\n",
        "        samples = random.sample(examples, k=n_samples)\n",
        "        # Add corresponding x, y values to the batch\n",
        "        batch_x.extend(samples)\n",
        "        batch_y.extend([category] * len(samples))\n",
        "\n",
        "    # It should be a continous operation\n",
        "    yield np.array(batch_x), np.array(batch_y)\n"
      ],
      "metadata": {
        "id": "wUEsVIwEihYl"
      },
      "execution_count": 11,
      "outputs": []
    },
    {
      "cell_type": "code",
      "source": [
        "def center_loss(feature_vector, center):\n",
        "    difference = feature_vector - center\n",
        "    loss = tf.reduce_mean(tf.reduce_sum(difference**2, axis=1))\n",
        "\n",
        "    return loss"
      ],
      "metadata": {
        "id": "wOQRKkqNwmG5"
      },
      "execution_count": 12,
      "outputs": []
    },
    {
      "cell_type": "markdown",
      "source": [
        "# Debug"
      ],
      "metadata": {
        "id": "wIDeIkRWoe6G"
      }
    },
    {
      "cell_type": "code",
      "source": [
        "# x_train[0].shape"
      ],
      "metadata": {
        "id": "GFkGtozyoGPp"
      },
      "execution_count": 13,
      "outputs": []
    },
    {
      "cell_type": "code",
      "source": [
        "# temp=np.expand_dims(x_train[0], axis=0)\n",
        "# temp.shape"
      ],
      "metadata": {
        "id": "zgQNaiIxoegW"
      },
      "execution_count": 14,
      "outputs": []
    },
    {
      "cell_type": "code",
      "source": [
        "# feature_extraction_model = Model(inputs=model.input, outputs=model.layers[-2].output)"
      ],
      "metadata": {
        "id": "_DdFnrdtuF64"
      },
      "execution_count": 19,
      "outputs": []
    },
    {
      "cell_type": "code",
      "source": [
        "# feature_extraction_model.predict(temp).shape"
      ],
      "metadata": {
        "id": "R3HriaQLnsoo"
      },
      "execution_count": 16,
      "outputs": []
    },
    {
      "cell_type": "code",
      "source": [
        "# l_1 = [21, 12, 33, 46]\n",
        "# l_2 = [15, 16, 17, 18]\n",
        "\n",
        "# result_dict = {key: value for key, value in zip(l_1, l_2)}\n",
        "\n",
        "# print(result_dict)"
      ],
      "metadata": {
        "id": "6XlZGov1_H6H"
      },
      "execution_count": 17,
      "outputs": []
    },
    {
      "cell_type": "markdown",
      "source": [
        "# End of Debug"
      ],
      "metadata": {
        "id": "nK7pcdXVohII"
      }
    },
    {
      "cell_type": "code",
      "source": [
        "feature_extraction_model = Model(inputs=model.input, outputs=model.layers[-2].output)"
      ],
      "metadata": {
        "id": "id5Jbcj7Ong9"
      },
      "execution_count": 20,
      "outputs": []
    },
    {
      "cell_type": "code",
      "source": [
        "# # Extarct All feature vectors and their corresponding centers\n",
        "# raw_features = {}\n",
        "# for k in tqdm(range(len(x_train))):\n",
        "#     if y_train[k] in raw_features.keys():\n",
        "#         # Avergae the new center with the previous one and replace it\n",
        "#         new_center = feature_extraction_model.predict(np.expand_dims(x_train[k], axis=0)).mean()\n",
        "#         prev_center = raw_features[y_train[k]]\n",
        "#         raw_features[y_train[k]] = [(prev_center + new_center )/2] * 128\n",
        "#         del new_center, prev_center\n",
        "\n",
        "#     else:\n",
        "#         raw_features[y_train[k]].append([feature_extraction_model.predict(np.expand_dims(x_train[k], axis=0)).mean()] * 128)\n",
        "\n",
        "\n",
        "# all_features = {key: value for key, value in raw_features.items()}\n",
        "\n",
        "# del raw_features,\n",
        "# all_features"
      ],
      "metadata": {
        "id": "2VuaST8e5ouV"
      },
      "execution_count": 17,
      "outputs": []
    },
    {
      "cell_type": "code",
      "source": [
        "# raw_features = {}\n",
        "\n",
        "# for k, (x, y) in tqdm(enumerate(zip(x_train, y_train))):\n",
        "#     if y in raw_features:\n",
        "#         new_center = feature_extraction_model.predict(np.expand_dims(x, axis=0)).mean()\n",
        "#         prev_center = raw_features[y]\n",
        "#         averaged_center = [(prev + new_center) / 2 for prev in prev_center]\n",
        "#         raw_features[y] = [averaged_center] * 128\n",
        "#     else:\n",
        "#         feature_vector = feature_extraction_model.predict(np.expand_dims(x, axis=0)).mean()\n",
        "#         raw_features[y] = [feature_vector] * 128\n",
        "\n",
        "# all_features = {key: value for key, value in raw_features.items()}"
      ],
      "metadata": {
        "id": "CAinT3Y_MgRW"
      },
      "execution_count": null,
      "outputs": []
    },
    {
      "cell_type": "code",
      "source": [
        "raw_features = {}\n",
        "class_feature_vectors = {}  # Store pre-calculated feature vectors for each class\n",
        "\n",
        "# Calculate and store class feature vectors\n",
        "for x, y in tqdm(zip(x_train, y_train)):\n",
        "    if y not in class_feature_vectors:\n",
        "        feature_vector = feature_extraction_model.predict(np.expand_dims(x, axis=0)).mean()\n",
        "        class_feature_vectors[y] = feature_vector\n",
        "\n",
        "# Calculate raw_features using class_feature_vectors\n",
        "for x, y in tqdm(zip(x_train, y_train)):\n",
        "    if y in raw_features:\n",
        "        new_center = feature_extraction_model.predict(np.expand_dims(x, axis=0)).mean()\n",
        "        raw_features[y] = [(prev + new_center) / 2 for prev in raw_features[y]]\n",
        "    else:\n",
        "        raw_features[y] = [class_feature_vectors[y]] * 128\n",
        "\n",
        "all_features = {key: value for key, value in raw_features.items()}\n",
        "\n",
        "# Clean up memory by releasing unnecessary variables\n",
        "del class_feature_vectors\n"
      ],
      "metadata": {
        "colab": {
          "base_uri": "https://localhost:8080/"
        },
        "id": "HE02PKJdOL0A",
        "outputId": "d8d4e5ed-2dc5-4f1b-c0d1-6bb69146d911"
      },
      "execution_count": 21,
      "outputs": [
        {
          "output_type": "stream",
          "name": "stderr",
          "text": [
            "\r0it [00:00, ?it/s]"
          ]
        },
        {
          "output_type": "stream",
          "name": "stdout",
          "text": [
            "1/1 [==============================] - 3s 3s/step\n"
          ]
        },
        {
          "output_type": "stream",
          "name": "stderr",
          "text": [
            "\r1it [00:02,  2.93s/it]"
          ]
        },
        {
          "output_type": "stream",
          "name": "stdout",
          "text": [
            "1/1 [==============================] - 0s 110ms/step\n"
          ]
        },
        {
          "output_type": "stream",
          "name": "stderr",
          "text": [
            "\r2it [00:03,  1.30s/it]"
          ]
        },
        {
          "output_type": "stream",
          "name": "stdout",
          "text": [
            "1/1 [==============================] - 0s 107ms/step\n"
          ]
        },
        {
          "output_type": "stream",
          "name": "stderr",
          "text": [
            "\r3it [00:03,  1.27it/s]"
          ]
        },
        {
          "output_type": "stream",
          "name": "stdout",
          "text": [
            "1/1 [==============================] - 0s 96ms/step\n"
          ]
        },
        {
          "output_type": "stream",
          "name": "stderr",
          "text": [
            "\r4it [00:03,  1.87it/s]"
          ]
        },
        {
          "output_type": "stream",
          "name": "stdout",
          "text": [
            "1/1 [==============================] - 0s 143ms/step\n"
          ]
        },
        {
          "output_type": "stream",
          "name": "stderr",
          "text": [
            "\r5it [00:03,  2.36it/s]"
          ]
        },
        {
          "output_type": "stream",
          "name": "stdout",
          "text": [
            "1/1 [==============================] - 0s 98ms/step\n"
          ]
        },
        {
          "output_type": "stream",
          "name": "stderr",
          "text": [
            "\r6it [00:03,  3.02it/s]"
          ]
        },
        {
          "output_type": "stream",
          "name": "stdout",
          "text": [
            "1/1 [==============================] - 0s 102ms/step\n"
          ]
        },
        {
          "output_type": "stream",
          "name": "stderr",
          "text": [
            "\r7it [00:03,  3.65it/s]"
          ]
        },
        {
          "output_type": "stream",
          "name": "stdout",
          "text": [
            "1/1 [==============================] - 0s 102ms/step\n"
          ]
        },
        {
          "output_type": "stream",
          "name": "stderr",
          "text": [
            "\r8it [00:04,  4.21it/s]"
          ]
        },
        {
          "output_type": "stream",
          "name": "stdout",
          "text": [
            "1/1 [==============================] - 0s 96ms/step\n"
          ]
        },
        {
          "output_type": "stream",
          "name": "stderr",
          "text": [
            "\r9it [00:04,  4.77it/s]"
          ]
        },
        {
          "output_type": "stream",
          "name": "stdout",
          "text": [
            "1/1 [==============================] - 0s 104ms/step\n"
          ]
        },
        {
          "output_type": "stream",
          "name": "stderr",
          "text": [
            "\r10it [00:04,  5.18it/s]"
          ]
        },
        {
          "output_type": "stream",
          "name": "stdout",
          "text": [
            "1/1 [==============================] - 0s 103ms/step\n"
          ]
        },
        {
          "output_type": "stream",
          "name": "stderr",
          "text": [
            "\r12it [00:04,  7.18it/s]"
          ]
        },
        {
          "output_type": "stream",
          "name": "stdout",
          "text": [
            "1/1 [==============================] - 0s 89ms/step\n"
          ]
        },
        {
          "output_type": "stream",
          "name": "stderr",
          "text": [
            "\r13it [00:04,  7.18it/s]"
          ]
        },
        {
          "output_type": "stream",
          "name": "stdout",
          "text": [
            "1/1 [==============================] - 0s 91ms/step\n"
          ]
        },
        {
          "output_type": "stream",
          "name": "stderr",
          "text": [
            "\r14it [00:04,  7.15it/s]"
          ]
        },
        {
          "output_type": "stream",
          "name": "stdout",
          "text": [
            "1/1 [==============================] - 0s 94ms/step\n"
          ]
        },
        {
          "output_type": "stream",
          "name": "stderr",
          "text": [
            "\r15it [00:05,  6.89it/s]"
          ]
        },
        {
          "output_type": "stream",
          "name": "stdout",
          "text": [
            "1/1 [==============================] - 0s 97ms/step\n"
          ]
        },
        {
          "output_type": "stream",
          "name": "stderr",
          "text": [
            "\r16it [00:05,  6.82it/s]"
          ]
        },
        {
          "output_type": "stream",
          "name": "stdout",
          "text": [
            "1/1 [==============================] - 0s 98ms/step\n"
          ]
        },
        {
          "output_type": "stream",
          "name": "stderr",
          "text": [
            "\r17it [00:05,  6.79it/s]"
          ]
        },
        {
          "output_type": "stream",
          "name": "stdout",
          "text": [
            "1/1 [==============================] - 0s 102ms/step\n"
          ]
        },
        {
          "output_type": "stream",
          "name": "stderr",
          "text": [
            "\r19it [00:05,  8.67it/s]"
          ]
        },
        {
          "output_type": "stream",
          "name": "stdout",
          "text": [
            "1/1 [==============================] - 0s 103ms/step\n"
          ]
        },
        {
          "output_type": "stream",
          "name": "stderr",
          "text": [
            "\r22it [00:05, 11.93it/s]"
          ]
        },
        {
          "output_type": "stream",
          "name": "stdout",
          "text": [
            "1/1 [==============================] - 0s 96ms/step\n",
            "1/1 [==============================] - 0s 95ms/step\n"
          ]
        },
        {
          "output_type": "stream",
          "name": "stderr",
          "text": [
            "\r24it [00:05,  9.75it/s]"
          ]
        },
        {
          "output_type": "stream",
          "name": "stdout",
          "text": [
            "1/1 [==============================] - 0s 96ms/step\n",
            "1/1 [==============================] - 0s 101ms/step\n"
          ]
        },
        {
          "output_type": "stream",
          "name": "stderr",
          "text": [
            "\r26it [00:06,  8.45it/s]"
          ]
        },
        {
          "output_type": "stream",
          "name": "stdout",
          "text": [
            "1/1 [==============================] - 0s 97ms/step\n"
          ]
        },
        {
          "output_type": "stream",
          "name": "stderr",
          "text": [
            "\r28it [00:06,  9.53it/s]"
          ]
        },
        {
          "output_type": "stream",
          "name": "stdout",
          "text": [
            "1/1 [==============================] - 0s 94ms/step\n"
          ]
        },
        {
          "output_type": "stream",
          "name": "stderr",
          "text": [
            "\r30it [00:06, 10.57it/s]"
          ]
        },
        {
          "output_type": "stream",
          "name": "stdout",
          "text": [
            "1/1 [==============================] - 0s 99ms/step\n"
          ]
        },
        {
          "output_type": "stream",
          "name": "stderr",
          "text": [
            "\r32it [00:06, 11.26it/s]"
          ]
        },
        {
          "output_type": "stream",
          "name": "stdout",
          "text": [
            "1/1 [==============================] - 0s 90ms/step\n",
            "1/1 [==============================] - 0s 93ms/step\n"
          ]
        },
        {
          "output_type": "stream",
          "name": "stderr",
          "text": [
            "\r34it [00:06,  9.64it/s]"
          ]
        },
        {
          "output_type": "stream",
          "name": "stdout",
          "text": [
            "1/1 [==============================] - 0s 101ms/step\n"
          ]
        },
        {
          "output_type": "stream",
          "name": "stderr",
          "text": [
            "\r36it [00:07, 10.25it/s]"
          ]
        },
        {
          "output_type": "stream",
          "name": "stdout",
          "text": [
            "1/1 [==============================] - 0s 94ms/step\n",
            "1/1 [==============================] - 0s 91ms/step\n"
          ]
        },
        {
          "output_type": "stream",
          "name": "stderr",
          "text": [
            "\r38it [00:07,  8.25it/s]"
          ]
        },
        {
          "output_type": "stream",
          "name": "stdout",
          "text": [
            "1/1 [==============================] - 0s 107ms/step\n"
          ]
        },
        {
          "output_type": "stream",
          "name": "stderr",
          "text": [
            "\r39it [00:07,  7.75it/s]"
          ]
        },
        {
          "output_type": "stream",
          "name": "stdout",
          "text": [
            "1/1 [==============================] - 0s 92ms/step\n"
          ]
        },
        {
          "output_type": "stream",
          "name": "stderr",
          "text": [
            "\r40it [00:07,  7.57it/s]"
          ]
        },
        {
          "output_type": "stream",
          "name": "stdout",
          "text": [
            "1/1 [==============================] - 0s 95ms/step\n"
          ]
        },
        {
          "output_type": "stream",
          "name": "stderr",
          "text": [
            "\r42it [00:07,  9.08it/s]"
          ]
        },
        {
          "output_type": "stream",
          "name": "stdout",
          "text": [
            "1/1 [==============================] - 0s 94ms/step\n"
          ]
        },
        {
          "output_type": "stream",
          "name": "stderr",
          "text": [
            "\r43it [00:08,  8.51it/s]"
          ]
        },
        {
          "output_type": "stream",
          "name": "stdout",
          "text": [
            "1/1 [==============================] - 0s 104ms/step\n"
          ]
        },
        {
          "output_type": "stream",
          "name": "stderr",
          "text": [
            "\r45it [00:08,  9.54it/s]"
          ]
        },
        {
          "output_type": "stream",
          "name": "stdout",
          "text": [
            "1/1 [==============================] - 0s 92ms/step\n"
          ]
        },
        {
          "output_type": "stream",
          "name": "stderr",
          "text": [
            "\r46it [00:08,  8.80it/s]"
          ]
        },
        {
          "output_type": "stream",
          "name": "stdout",
          "text": [
            "1/1 [==============================] - 0s 92ms/step\n"
          ]
        },
        {
          "output_type": "stream",
          "name": "stderr",
          "text": [
            "\r48it [00:08,  9.08it/s]"
          ]
        },
        {
          "output_type": "stream",
          "name": "stdout",
          "text": [
            "1/1 [==============================] - 0s 90ms/step\n"
          ]
        },
        {
          "output_type": "stream",
          "name": "stderr",
          "text": [
            "\r49it [00:08,  8.53it/s]"
          ]
        },
        {
          "output_type": "stream",
          "name": "stdout",
          "text": [
            "1/1 [==============================] - 0s 92ms/step\n"
          ]
        },
        {
          "output_type": "stream",
          "name": "stderr",
          "text": [
            "\r53it [00:08, 13.82it/s]"
          ]
        },
        {
          "output_type": "stream",
          "name": "stdout",
          "text": [
            "1/1 [==============================] - 0s 96ms/step\n",
            "1/1 [==============================] - 0s 105ms/step\n"
          ]
        },
        {
          "output_type": "stream",
          "name": "stderr",
          "text": [
            "\r55it [00:09, 10.41it/s]"
          ]
        },
        {
          "output_type": "stream",
          "name": "stdout",
          "text": [
            "1/1 [==============================] - 0s 96ms/step\n"
          ]
        },
        {
          "output_type": "stream",
          "name": "stderr",
          "text": [
            "\r60it [00:09, 15.98it/s]"
          ]
        },
        {
          "output_type": "stream",
          "name": "stdout",
          "text": [
            "1/1 [==============================] - 0s 94ms/step\n",
            "1/1 [==============================] - 0s 101ms/step\n"
          ]
        },
        {
          "output_type": "stream",
          "name": "stderr",
          "text": [
            "\r62it [00:09, 12.32it/s]"
          ]
        },
        {
          "output_type": "stream",
          "name": "stdout",
          "text": [
            "1/1 [==============================] - 0s 92ms/step\n",
            "1/1 [==============================] - 0s 91ms/step\n"
          ]
        },
        {
          "output_type": "stream",
          "name": "stderr",
          "text": [
            "\r64it [00:09, 10.41it/s]"
          ]
        },
        {
          "output_type": "stream",
          "name": "stdout",
          "text": [
            "1/1 [==============================] - 0s 109ms/step\n"
          ]
        },
        {
          "output_type": "stream",
          "name": "stderr",
          "text": [
            "\r66it [00:10, 10.81it/s]"
          ]
        },
        {
          "output_type": "stream",
          "name": "stdout",
          "text": [
            "1/1 [==============================] - 0s 92ms/step\n"
          ]
        },
        {
          "output_type": "stream",
          "name": "stderr",
          "text": [
            "\r69it [00:10, 13.03it/s]"
          ]
        },
        {
          "output_type": "stream",
          "name": "stdout",
          "text": [
            "1/1 [==============================] - 0s 100ms/step\n"
          ]
        },
        {
          "output_type": "stream",
          "name": "stderr",
          "text": [
            "\r71it [00:10, 12.89it/s]"
          ]
        },
        {
          "output_type": "stream",
          "name": "stdout",
          "text": [
            "1/1 [==============================] - 0s 99ms/step\n",
            "1/1 [==============================] - 0s 103ms/step\n"
          ]
        },
        {
          "output_type": "stream",
          "name": "stderr",
          "text": [
            "\r73it [00:10, 10.28it/s]"
          ]
        },
        {
          "output_type": "stream",
          "name": "stdout",
          "text": [
            "1/1 [==============================] - 0s 104ms/step\n"
          ]
        },
        {
          "output_type": "stream",
          "name": "stderr",
          "text": [
            "\r75it [00:10, 10.91it/s]"
          ]
        },
        {
          "output_type": "stream",
          "name": "stdout",
          "text": [
            "1/1 [==============================] - 0s 96ms/step\n",
            "1/1 [==============================] - 0s 96ms/step\n"
          ]
        },
        {
          "output_type": "stream",
          "name": "stderr",
          "text": [
            "\r77it [00:11,  9.36it/s]"
          ]
        },
        {
          "output_type": "stream",
          "name": "stdout",
          "text": [
            "1/1 [==============================] - 0s 91ms/step\n"
          ]
        },
        {
          "output_type": "stream",
          "name": "stderr",
          "text": [
            "\r80it [00:11, 11.80it/s]"
          ]
        },
        {
          "output_type": "stream",
          "name": "stdout",
          "text": [
            "1/1 [==============================] - 0s 93ms/step\n",
            "1/1 [==============================] - 0s 92ms/step\n"
          ]
        },
        {
          "output_type": "stream",
          "name": "stderr",
          "text": [
            "\r82it [00:11, 10.05it/s]"
          ]
        },
        {
          "output_type": "stream",
          "name": "stdout",
          "text": [
            "1/1 [==============================] - 0s 106ms/step\n"
          ]
        },
        {
          "output_type": "stream",
          "name": "stderr",
          "text": [
            "\r84it [00:11, 10.53it/s]"
          ]
        },
        {
          "output_type": "stream",
          "name": "stdout",
          "text": [
            "1/1 [==============================] - 0s 97ms/step\n"
          ]
        },
        {
          "output_type": "stream",
          "name": "stderr",
          "text": [
            "\r89it [00:11, 15.98it/s]"
          ]
        },
        {
          "output_type": "stream",
          "name": "stdout",
          "text": [
            "1/1 [==============================] - 0s 91ms/step\n"
          ]
        },
        {
          "output_type": "stream",
          "name": "stderr",
          "text": [
            "\r91it [00:11, 15.40it/s]"
          ]
        },
        {
          "output_type": "stream",
          "name": "stdout",
          "text": [
            "1/1 [==============================] - 0s 100ms/step\n"
          ]
        },
        {
          "output_type": "stream",
          "name": "stderr",
          "text": [
            "\r93it [00:12, 14.85it/s]"
          ]
        },
        {
          "output_type": "stream",
          "name": "stdout",
          "text": [
            "1/1 [==============================] - 0s 99ms/step\n"
          ]
        },
        {
          "output_type": "stream",
          "name": "stderr",
          "text": [
            "\r95it [00:12, 14.42it/s]"
          ]
        },
        {
          "output_type": "stream",
          "name": "stdout",
          "text": [
            "1/1 [==============================] - 0s 91ms/step\n"
          ]
        },
        {
          "output_type": "stream",
          "name": "stderr",
          "text": [
            "\r97it [00:12, 14.09it/s]"
          ]
        },
        {
          "output_type": "stream",
          "name": "stdout",
          "text": [
            "1/1 [==============================] - 0s 138ms/step\n"
          ]
        },
        {
          "output_type": "stream",
          "name": "stderr",
          "text": [
            "\r107it [00:12, 26.95it/s]"
          ]
        },
        {
          "output_type": "stream",
          "name": "stdout",
          "text": [
            "1/1 [==============================] - 0s 155ms/step\n"
          ]
        },
        {
          "output_type": "stream",
          "name": "stderr",
          "text": [
            "\r110it [00:12, 21.78it/s]"
          ]
        },
        {
          "output_type": "stream",
          "name": "stdout",
          "text": [
            "1/1 [==============================] - 0s 154ms/step\n",
            "1/1 [==============================] - 0s 170ms/step\n"
          ]
        },
        {
          "output_type": "stream",
          "name": "stderr",
          "text": [
            "\r113it [00:13, 13.65it/s]"
          ]
        },
        {
          "output_type": "stream",
          "name": "stdout",
          "text": [
            "1/1 [==============================] - 0s 154ms/step\n"
          ]
        },
        {
          "output_type": "stream",
          "name": "stderr",
          "text": [
            "\r121it [00:13, 19.15it/s]"
          ]
        },
        {
          "output_type": "stream",
          "name": "stdout",
          "text": [
            "1/1 [==============================] - 0s 164ms/step\n"
          ]
        },
        {
          "output_type": "stream",
          "name": "stderr",
          "text": [
            "\r124it [00:13, 17.45it/s]"
          ]
        },
        {
          "output_type": "stream",
          "name": "stdout",
          "text": [
            "1/1 [==============================] - 0s 152ms/step\n"
          ]
        },
        {
          "output_type": "stream",
          "name": "stderr",
          "text": [
            "\r126it [00:14, 14.93it/s]"
          ]
        },
        {
          "output_type": "stream",
          "name": "stdout",
          "text": [
            "1/1 [==============================] - 0s 151ms/step\n"
          ]
        },
        {
          "output_type": "stream",
          "name": "stderr",
          "text": [
            "\r130it [00:14, 15.65it/s]"
          ]
        },
        {
          "output_type": "stream",
          "name": "stdout",
          "text": [
            "1/1 [==============================] - 0s 107ms/step\n"
          ]
        },
        {
          "output_type": "stream",
          "name": "stderr",
          "text": [
            "\r133it [00:14, 16.39it/s]"
          ]
        },
        {
          "output_type": "stream",
          "name": "stdout",
          "text": [
            "1/1 [==============================] - 0s 96ms/step\n"
          ]
        },
        {
          "output_type": "stream",
          "name": "stderr",
          "text": [
            "\r138it [00:14, 20.32it/s]"
          ]
        },
        {
          "output_type": "stream",
          "name": "stdout",
          "text": [
            "1/1 [==============================] - 0s 91ms/step\n",
            "1/1 [==============================] - 0s 102ms/step\n"
          ]
        },
        {
          "output_type": "stream",
          "name": "stderr",
          "text": [
            "\r141it [00:14, 16.16it/s]"
          ]
        },
        {
          "output_type": "stream",
          "name": "stdout",
          "text": [
            "1/1 [==============================] - 0s 95ms/step\n"
          ]
        },
        {
          "output_type": "stream",
          "name": "stderr",
          "text": [
            "\r143it [00:15, 15.34it/s]"
          ]
        },
        {
          "output_type": "stream",
          "name": "stdout",
          "text": [
            "1/1 [==============================] - 0s 99ms/step\n"
          ]
        },
        {
          "output_type": "stream",
          "name": "stderr",
          "text": [
            "\r146it [00:15,  9.07it/s]"
          ]
        },
        {
          "output_type": "stream",
          "name": "stdout",
          "text": [
            "1/1 [==============================] - 0s 110ms/step\n"
          ]
        },
        {
          "output_type": "stream",
          "name": "stderr",
          "text": [
            "\r148it [00:15,  9.60it/s]"
          ]
        },
        {
          "output_type": "stream",
          "name": "stdout",
          "text": [
            "1/1 [==============================] - 0s 110ms/step\n"
          ]
        },
        {
          "output_type": "stream",
          "name": "stderr",
          "text": [
            "\r150it [00:16, 10.15it/s]"
          ]
        },
        {
          "output_type": "stream",
          "name": "stdout",
          "text": [
            "1/1 [==============================] - 0s 98ms/step\n"
          ]
        },
        {
          "output_type": "stream",
          "name": "stderr",
          "text": [
            "\r157it [00:16, 17.67it/s]"
          ]
        },
        {
          "output_type": "stream",
          "name": "stdout",
          "text": [
            "1/1 [==============================] - 0s 97ms/step\n"
          ]
        },
        {
          "output_type": "stream",
          "name": "stderr",
          "text": [
            "\r162it [00:16, 21.00it/s]"
          ]
        },
        {
          "output_type": "stream",
          "name": "stdout",
          "text": [
            "1/1 [==============================] - 0s 98ms/step\n"
          ]
        },
        {
          "output_type": "stream",
          "name": "stderr",
          "text": [
            "\r167it [00:16, 24.04it/s]"
          ]
        },
        {
          "output_type": "stream",
          "name": "stdout",
          "text": [
            "1/1 [==============================] - 0s 93ms/step\n",
            "1/1 [==============================] - 0s 96ms/step\n"
          ]
        },
        {
          "output_type": "stream",
          "name": "stderr",
          "text": [
            "\r170it [00:16, 18.38it/s]"
          ]
        },
        {
          "output_type": "stream",
          "name": "stdout",
          "text": [
            "1/1 [==============================] - 0s 97ms/step\n"
          ]
        },
        {
          "output_type": "stream",
          "name": "stderr",
          "text": [
            "\r173it [00:16, 18.03it/s]"
          ]
        },
        {
          "output_type": "stream",
          "name": "stdout",
          "text": [
            "1/1 [==============================] - 0s 102ms/step\n"
          ]
        },
        {
          "output_type": "stream",
          "name": "stderr",
          "text": [
            "\r177it [00:17, 19.83it/s]"
          ]
        },
        {
          "output_type": "stream",
          "name": "stdout",
          "text": [
            "1/1 [==============================] - 0s 96ms/step\n"
          ]
        },
        {
          "output_type": "stream",
          "name": "stderr",
          "text": [
            "\r182it [00:17, 23.27it/s]"
          ]
        },
        {
          "output_type": "stream",
          "name": "stdout",
          "text": [
            "1/1 [==============================] - 0s 90ms/step\n",
            "1/1 [==============================] - 0s 98ms/step\n"
          ]
        },
        {
          "output_type": "stream",
          "name": "stderr",
          "text": [
            "\r185it [00:17, 17.90it/s]"
          ]
        },
        {
          "output_type": "stream",
          "name": "stdout",
          "text": [
            "1/1 [==============================] - 0s 93ms/step\n"
          ]
        },
        {
          "output_type": "stream",
          "name": "stderr",
          "text": [
            "\r204it [00:17, 43.01it/s]"
          ]
        },
        {
          "output_type": "stream",
          "name": "stdout",
          "text": [
            "1/1 [==============================] - 0s 103ms/step\n",
            "1/1 [==============================] - 0s 101ms/step\n",
            "1/1 [==============================] - 0s 98ms/step\n"
          ]
        },
        {
          "output_type": "stream",
          "name": "stderr",
          "text": [
            "\r210it [00:18, 28.19it/s]"
          ]
        },
        {
          "output_type": "stream",
          "name": "stdout",
          "text": [
            "1/1 [==============================] - 0s 98ms/step\n"
          ]
        },
        {
          "output_type": "stream",
          "name": "stderr",
          "text": [
            "\r224it [00:18, 40.04it/s]"
          ]
        },
        {
          "output_type": "stream",
          "name": "stdout",
          "text": [
            "1/1 [==============================] - 0s 106ms/step\n"
          ]
        },
        {
          "output_type": "stream",
          "name": "stderr",
          "text": [
            "\r230it [00:18, 39.47it/s]"
          ]
        },
        {
          "output_type": "stream",
          "name": "stdout",
          "text": [
            "1/1 [==============================] - 0s 95ms/step\n"
          ]
        },
        {
          "output_type": "stream",
          "name": "stderr",
          "text": [
            "\r235it [00:18, 38.26it/s]"
          ]
        },
        {
          "output_type": "stream",
          "name": "stdout",
          "text": [
            "1/1 [==============================] - 0s 94ms/step\n"
          ]
        },
        {
          "output_type": "stream",
          "name": "stderr",
          "text": [
            "\r268it [00:18, 84.04it/s]"
          ]
        },
        {
          "output_type": "stream",
          "name": "stdout",
          "text": [
            "1/1 [==============================] - 0s 109ms/step\n"
          ]
        },
        {
          "output_type": "stream",
          "name": "stderr",
          "text": [
            "\r290it [00:18, 97.43it/s]"
          ]
        },
        {
          "output_type": "stream",
          "name": "stdout",
          "text": [
            "1/1 [==============================] - 0s 94ms/step\n"
          ]
        },
        {
          "output_type": "stream",
          "name": "stderr",
          "text": [
            "\r301it [00:19, 91.26it/s]"
          ]
        },
        {
          "output_type": "stream",
          "name": "stdout",
          "text": [
            "1/1 [==============================] - 0s 93ms/step\n"
          ]
        },
        {
          "output_type": "stream",
          "name": "stderr",
          "text": [
            "\r318it [00:19, 97.40it/s]"
          ]
        },
        {
          "output_type": "stream",
          "name": "stdout",
          "text": [
            "1/1 [==============================] - 0s 96ms/step\n"
          ]
        },
        {
          "output_type": "stream",
          "name": "stderr",
          "text": [
            "\r329it [00:19, 90.43it/s]"
          ]
        },
        {
          "output_type": "stream",
          "name": "stdout",
          "text": [
            "1/1 [==============================] - 0s 106ms/step\n"
          ]
        },
        {
          "output_type": "stream",
          "name": "stderr",
          "text": [
            "1020it [00:19, 52.17it/s]\n",
            "0it [00:00, ?it/s]"
          ]
        },
        {
          "output_type": "stream",
          "name": "stdout",
          "text": [
            "1/1 [==============================] - 0s 94ms/step\n"
          ]
        },
        {
          "output_type": "stream",
          "name": "stderr",
          "text": [
            "\r11it [00:00, 66.20it/s]"
          ]
        },
        {
          "output_type": "stream",
          "name": "stdout",
          "text": [
            "1/1 [==============================] - 0s 101ms/step\n"
          ]
        },
        {
          "output_type": "stream",
          "name": "stderr",
          "text": [
            "\r18it [00:00, 54.84it/s]"
          ]
        },
        {
          "output_type": "stream",
          "name": "stdout",
          "text": [
            "1/1 [==============================] - 0s 105ms/step\n",
            "1/1 [==============================] - 0s 101ms/step\n"
          ]
        },
        {
          "output_type": "stream",
          "name": "stderr",
          "text": [
            "\r24it [00:00, 31.81it/s]"
          ]
        },
        {
          "output_type": "stream",
          "name": "stdout",
          "text": [
            "1/1 [==============================] - 0s 95ms/step\n"
          ]
        },
        {
          "output_type": "stream",
          "name": "stderr",
          "text": [
            "\r28it [00:00, 30.57it/s]"
          ]
        },
        {
          "output_type": "stream",
          "name": "stdout",
          "text": [
            "1/1 [==============================] - 0s 99ms/step\n",
            "1/1 [==============================] - 0s 96ms/step\n"
          ]
        },
        {
          "output_type": "stream",
          "name": "stderr",
          "text": [
            "\r32it [00:01, 22.80it/s]"
          ]
        },
        {
          "output_type": "stream",
          "name": "stdout",
          "text": [
            "1/1 [==============================] - 0s 90ms/step\n"
          ]
        },
        {
          "output_type": "stream",
          "name": "stderr",
          "text": [
            "\r36it [00:01, 24.24it/s]"
          ]
        },
        {
          "output_type": "stream",
          "name": "stdout",
          "text": [
            "1/1 [==============================] - 0s 100ms/step\n"
          ]
        },
        {
          "output_type": "stream",
          "name": "stderr",
          "text": [
            "\r41it [00:01, 26.84it/s]"
          ]
        },
        {
          "output_type": "stream",
          "name": "stdout",
          "text": [
            "1/1 [==============================] - 0s 114ms/step\n"
          ]
        },
        {
          "output_type": "stream",
          "name": "stderr",
          "text": [
            "\r44it [00:01, 23.44it/s]"
          ]
        },
        {
          "output_type": "stream",
          "name": "stdout",
          "text": [
            "1/1 [==============================] - 0s 98ms/step\n"
          ]
        },
        {
          "output_type": "stream",
          "name": "stderr",
          "text": [
            "\r47it [00:01, 22.25it/s]"
          ]
        },
        {
          "output_type": "stream",
          "name": "stdout",
          "text": [
            "1/1 [==============================] - 0s 94ms/step\n"
          ]
        },
        {
          "output_type": "stream",
          "name": "stderr",
          "text": [
            "\r50it [00:01, 21.62it/s]"
          ]
        },
        {
          "output_type": "stream",
          "name": "stdout",
          "text": [
            "1/1 [==============================] - 0s 102ms/step\n",
            "1/1 [==============================] - 0s 97ms/step\n"
          ]
        },
        {
          "output_type": "stream",
          "name": "stderr",
          "text": [
            "\r53it [00:02, 16.22it/s]"
          ]
        },
        {
          "output_type": "stream",
          "name": "stdout",
          "text": [
            "1/1 [==============================] - 0s 95ms/step\n"
          ]
        },
        {
          "output_type": "stream",
          "name": "stderr",
          "text": [
            "\r56it [00:02, 17.34it/s]"
          ]
        },
        {
          "output_type": "stream",
          "name": "stdout",
          "text": [
            "1/1 [==============================] - 0s 99ms/step\n",
            "1/1 [==============================] - 0s 102ms/step\n"
          ]
        },
        {
          "output_type": "stream",
          "name": "stderr",
          "text": [
            "\r58it [00:02, 12.61it/s]"
          ]
        },
        {
          "output_type": "stream",
          "name": "stdout",
          "text": [
            "1/1 [==============================] - 0s 95ms/step\n"
          ]
        },
        {
          "output_type": "stream",
          "name": "stderr",
          "text": [
            "\r60it [00:02, 12.62it/s]"
          ]
        },
        {
          "output_type": "stream",
          "name": "stdout",
          "text": [
            "1/1 [==============================] - 0s 103ms/step\n"
          ]
        },
        {
          "output_type": "stream",
          "name": "stderr",
          "text": [
            "\r66it [00:02, 18.88it/s]"
          ]
        },
        {
          "output_type": "stream",
          "name": "stdout",
          "text": [
            "1/1 [==============================] - 0s 94ms/step\n",
            "1/1 [==============================] - 0s 94ms/step\n"
          ]
        },
        {
          "output_type": "stream",
          "name": "stderr",
          "text": [
            "\r69it [00:03, 15.69it/s]"
          ]
        },
        {
          "output_type": "stream",
          "name": "stdout",
          "text": [
            "1/1 [==============================] - 0s 99ms/step\n"
          ]
        },
        {
          "output_type": "stream",
          "name": "stderr",
          "text": [
            "\r71it [00:03, 15.06it/s]"
          ]
        },
        {
          "output_type": "stream",
          "name": "stdout",
          "text": [
            "1/1 [==============================] - 0s 94ms/step\n"
          ]
        },
        {
          "output_type": "stream",
          "name": "stderr",
          "text": [
            "\r74it [00:03, 16.17it/s]"
          ]
        },
        {
          "output_type": "stream",
          "name": "stdout",
          "text": [
            "1/1 [==============================] - 0s 102ms/step\n"
          ]
        },
        {
          "output_type": "stream",
          "name": "stderr",
          "text": [
            "\r78it [00:03, 18.90it/s]"
          ]
        },
        {
          "output_type": "stream",
          "name": "stdout",
          "text": [
            "1/1 [==============================] - 0s 105ms/step\n"
          ]
        },
        {
          "output_type": "stream",
          "name": "stderr",
          "text": [
            "\r81it [00:03, 18.94it/s]"
          ]
        },
        {
          "output_type": "stream",
          "name": "stdout",
          "text": [
            "1/1 [==============================] - 0s 93ms/step\n"
          ]
        },
        {
          "output_type": "stream",
          "name": "stderr",
          "text": [
            "\r83it [00:03, 17.37it/s]"
          ]
        },
        {
          "output_type": "stream",
          "name": "stdout",
          "text": [
            "1/1 [==============================] - 0s 97ms/step\n"
          ]
        },
        {
          "output_type": "stream",
          "name": "stderr",
          "text": [
            "\r85it [00:04, 16.04it/s]"
          ]
        },
        {
          "output_type": "stream",
          "name": "stdout",
          "text": [
            "1/1 [==============================] - 0s 99ms/step\n",
            "1/1 [==============================] - 0s 104ms/step\n"
          ]
        },
        {
          "output_type": "stream",
          "name": "stderr",
          "text": [
            "\r87it [00:04, 11.81it/s]"
          ]
        },
        {
          "output_type": "stream",
          "name": "stdout",
          "text": [
            "1/1 [==============================] - 0s 105ms/step\n"
          ]
        },
        {
          "output_type": "stream",
          "name": "stderr",
          "text": [
            "\r89it [00:04, 11.92it/s]"
          ]
        },
        {
          "output_type": "stream",
          "name": "stdout",
          "text": [
            "1/1 [==============================] - 0s 125ms/step\n"
          ]
        },
        {
          "output_type": "stream",
          "name": "stderr",
          "text": [
            "\r91it [00:04, 11.79it/s]"
          ]
        },
        {
          "output_type": "stream",
          "name": "stdout",
          "text": [
            "1/1 [==============================] - 0s 151ms/step\n"
          ]
        },
        {
          "output_type": "stream",
          "name": "stderr",
          "text": [
            "\r93it [00:05, 10.60it/s]"
          ]
        },
        {
          "output_type": "stream",
          "name": "stdout",
          "text": [
            "1/1 [==============================] - 0s 154ms/step\n"
          ]
        },
        {
          "output_type": "stream",
          "name": "stderr",
          "text": [
            "\r95it [00:05, 10.06it/s]"
          ]
        },
        {
          "output_type": "stream",
          "name": "stdout",
          "text": [
            "1/1 [==============================] - 0s 156ms/step\n"
          ]
        },
        {
          "output_type": "stream",
          "name": "stderr",
          "text": [
            "\r97it [00:05,  9.62it/s]"
          ]
        },
        {
          "output_type": "stream",
          "name": "stdout",
          "text": [
            "1/1 [==============================] - 0s 154ms/step\n",
            "1/1 [==============================] - 0s 153ms/step\n"
          ]
        },
        {
          "output_type": "stream",
          "name": "stderr",
          "text": [
            "\r99it [00:05,  7.15it/s]"
          ]
        },
        {
          "output_type": "stream",
          "name": "stdout",
          "text": [
            "1/1 [==============================] - 0s 153ms/step\n"
          ]
        },
        {
          "output_type": "stream",
          "name": "stderr",
          "text": [
            "\r100it [00:06,  6.40it/s]"
          ]
        },
        {
          "output_type": "stream",
          "name": "stdout",
          "text": [
            "1/1 [==============================] - 0s 158ms/step\n"
          ]
        },
        {
          "output_type": "stream",
          "name": "stderr",
          "text": [
            "\r101it [00:06,  5.82it/s]"
          ]
        },
        {
          "output_type": "stream",
          "name": "stdout",
          "text": [
            "1/1 [==============================] - 0s 144ms/step\n"
          ]
        },
        {
          "output_type": "stream",
          "name": "stderr",
          "text": [
            "\r102it [00:06,  5.49it/s]"
          ]
        },
        {
          "output_type": "stream",
          "name": "stdout",
          "text": [
            "1/1 [==============================] - 0s 99ms/step\n"
          ]
        },
        {
          "output_type": "stream",
          "name": "stderr",
          "text": [
            "\r103it [00:06,  5.75it/s]"
          ]
        },
        {
          "output_type": "stream",
          "name": "stdout",
          "text": [
            "1/1 [==============================] - 0s 91ms/step\n"
          ]
        },
        {
          "output_type": "stream",
          "name": "stderr",
          "text": [
            "\r104it [00:06,  6.01it/s]"
          ]
        },
        {
          "output_type": "stream",
          "name": "stdout",
          "text": [
            "1/1 [==============================] - 0s 95ms/step\n"
          ]
        },
        {
          "output_type": "stream",
          "name": "stderr",
          "text": [
            "\r105it [00:07,  6.20it/s]"
          ]
        },
        {
          "output_type": "stream",
          "name": "stdout",
          "text": [
            "1/1 [==============================] - 0s 107ms/step\n"
          ]
        },
        {
          "output_type": "stream",
          "name": "stderr",
          "text": [
            "\r106it [00:07,  6.24it/s]"
          ]
        },
        {
          "output_type": "stream",
          "name": "stdout",
          "text": [
            "1/1 [==============================] - 0s 95ms/step\n"
          ]
        },
        {
          "output_type": "stream",
          "name": "stderr",
          "text": [
            "\r108it [00:07,  8.06it/s]"
          ]
        },
        {
          "output_type": "stream",
          "name": "stdout",
          "text": [
            "1/1 [==============================] - 0s 96ms/step\n"
          ]
        },
        {
          "output_type": "stream",
          "name": "stderr",
          "text": [
            "\r110it [00:07,  9.50it/s]"
          ]
        },
        {
          "output_type": "stream",
          "name": "stdout",
          "text": [
            "1/1 [==============================] - 0s 101ms/step\n"
          ]
        },
        {
          "output_type": "stream",
          "name": "stderr",
          "text": [
            "\r113it [00:07, 12.06it/s]"
          ]
        },
        {
          "output_type": "stream",
          "name": "stdout",
          "text": [
            "1/1 [==============================] - 0s 96ms/step\n",
            "1/1 [==============================] - 0s 92ms/step\n"
          ]
        },
        {
          "output_type": "stream",
          "name": "stderr",
          "text": [
            "\r115it [00:07,  9.86it/s]"
          ]
        },
        {
          "output_type": "stream",
          "name": "stdout",
          "text": [
            "1/1 [==============================] - 0s 92ms/step\n",
            "1/1 [==============================] - 0s 91ms/step\n"
          ]
        },
        {
          "output_type": "stream",
          "name": "stderr",
          "text": [
            "\r117it [00:08,  8.71it/s]"
          ]
        },
        {
          "output_type": "stream",
          "name": "stdout",
          "text": [
            "1/1 [==============================] - 0s 95ms/step\n"
          ]
        },
        {
          "output_type": "stream",
          "name": "stderr",
          "text": [
            "\r118it [00:08,  8.30it/s]"
          ]
        },
        {
          "output_type": "stream",
          "name": "stdout",
          "text": [
            "1/1 [==============================] - 0s 95ms/step\n"
          ]
        },
        {
          "output_type": "stream",
          "name": "stderr",
          "text": [
            "\r119it [00:08,  7.95it/s]"
          ]
        },
        {
          "output_type": "stream",
          "name": "stdout",
          "text": [
            "1/1 [==============================] - 0s 96ms/step\n"
          ]
        },
        {
          "output_type": "stream",
          "name": "stderr",
          "text": [
            "\r120it [00:08,  7.46it/s]"
          ]
        },
        {
          "output_type": "stream",
          "name": "stdout",
          "text": [
            "1/1 [==============================] - 0s 93ms/step\n"
          ]
        },
        {
          "output_type": "stream",
          "name": "stderr",
          "text": [
            "\r122it [00:08,  8.94it/s]"
          ]
        },
        {
          "output_type": "stream",
          "name": "stdout",
          "text": [
            "1/1 [==============================] - 0s 92ms/step\n"
          ]
        },
        {
          "output_type": "stream",
          "name": "stderr",
          "text": [
            "\r123it [00:09,  8.37it/s]"
          ]
        },
        {
          "output_type": "stream",
          "name": "stdout",
          "text": [
            "1/1 [==============================] - 0s 91ms/step\n"
          ]
        },
        {
          "output_type": "stream",
          "name": "stderr",
          "text": [
            "\r125it [00:09,  9.99it/s]"
          ]
        },
        {
          "output_type": "stream",
          "name": "stdout",
          "text": [
            "1/1 [==============================] - 0s 105ms/step\n"
          ]
        },
        {
          "output_type": "stream",
          "name": "stderr",
          "text": [
            "\r127it [00:09, 10.70it/s]"
          ]
        },
        {
          "output_type": "stream",
          "name": "stdout",
          "text": [
            "1/1 [==============================] - 0s 95ms/step\n",
            "1/1 [==============================] - 0s 104ms/step\n"
          ]
        },
        {
          "output_type": "stream",
          "name": "stderr",
          "text": [
            "\r129it [00:09,  8.94it/s]"
          ]
        },
        {
          "output_type": "stream",
          "name": "stdout",
          "text": [
            "1/1 [==============================] - 0s 106ms/step\n"
          ]
        },
        {
          "output_type": "stream",
          "name": "stderr",
          "text": [
            "\r131it [00:09,  9.88it/s]"
          ]
        },
        {
          "output_type": "stream",
          "name": "stdout",
          "text": [
            "1/1 [==============================] - 0s 97ms/step\n"
          ]
        },
        {
          "output_type": "stream",
          "name": "stderr",
          "text": [
            "\r133it [00:09, 10.64it/s]"
          ]
        },
        {
          "output_type": "stream",
          "name": "stdout",
          "text": [
            "1/1 [==============================] - 0s 94ms/step\n",
            "1/1 [==============================] - 0s 102ms/step\n"
          ]
        },
        {
          "output_type": "stream",
          "name": "stderr",
          "text": [
            "\r135it [00:10,  8.76it/s]"
          ]
        },
        {
          "output_type": "stream",
          "name": "stdout",
          "text": [
            "1/1 [==============================] - 0s 95ms/step\n"
          ]
        },
        {
          "output_type": "stream",
          "name": "stderr",
          "text": [
            "\r136it [00:10,  8.27it/s]"
          ]
        },
        {
          "output_type": "stream",
          "name": "stdout",
          "text": [
            "1/1 [==============================] - 0s 94ms/step\n"
          ]
        },
        {
          "output_type": "stream",
          "name": "stderr",
          "text": [
            "\r137it [00:10,  7.83it/s]"
          ]
        },
        {
          "output_type": "stream",
          "name": "stdout",
          "text": [
            "1/1 [==============================] - 0s 113ms/step\n"
          ]
        },
        {
          "output_type": "stream",
          "name": "stderr",
          "text": [
            "\r141it [00:10, 12.42it/s]"
          ]
        },
        {
          "output_type": "stream",
          "name": "stdout",
          "text": [
            "1/1 [==============================] - 0s 96ms/step\n"
          ]
        },
        {
          "output_type": "stream",
          "name": "stderr",
          "text": [
            "\r143it [00:10, 12.51it/s]"
          ]
        },
        {
          "output_type": "stream",
          "name": "stdout",
          "text": [
            "1/1 [==============================] - 0s 93ms/step\n",
            "1/1 [==============================] - 0s 95ms/step\n"
          ]
        },
        {
          "output_type": "stream",
          "name": "stderr",
          "text": [
            "\r145it [00:11, 10.09it/s]"
          ]
        },
        {
          "output_type": "stream",
          "name": "stdout",
          "text": [
            "1/1 [==============================] - 0s 98ms/step\n"
          ]
        },
        {
          "output_type": "stream",
          "name": "stderr",
          "text": [
            "\r147it [00:11, 10.92it/s]"
          ]
        },
        {
          "output_type": "stream",
          "name": "stdout",
          "text": [
            "1/1 [==============================] - 0s 104ms/step\n"
          ]
        },
        {
          "output_type": "stream",
          "name": "stderr",
          "text": [
            "\r150it [00:11, 12.73it/s]"
          ]
        },
        {
          "output_type": "stream",
          "name": "stdout",
          "text": [
            "1/1 [==============================] - 0s 101ms/step\n",
            "1/1 [==============================] - 0s 103ms/step\n"
          ]
        },
        {
          "output_type": "stream",
          "name": "stderr",
          "text": [
            "\r152it [00:11,  9.95it/s]"
          ]
        },
        {
          "output_type": "stream",
          "name": "stdout",
          "text": [
            "1/1 [==============================] - 0s 105ms/step\n",
            "1/1 [==============================] - 0s 95ms/step\n"
          ]
        },
        {
          "output_type": "stream",
          "name": "stderr",
          "text": [
            "\r154it [00:12,  8.74it/s]"
          ]
        },
        {
          "output_type": "stream",
          "name": "stdout",
          "text": [
            "1/1 [==============================] - 0s 102ms/step\n"
          ]
        },
        {
          "output_type": "stream",
          "name": "stderr",
          "text": [
            "\r155it [00:12,  8.27it/s]"
          ]
        },
        {
          "output_type": "stream",
          "name": "stdout",
          "text": [
            "1/1 [==============================] - 0s 99ms/step\n"
          ]
        },
        {
          "output_type": "stream",
          "name": "stderr",
          "text": [
            "\r156it [00:12,  7.82it/s]"
          ]
        },
        {
          "output_type": "stream",
          "name": "stdout",
          "text": [
            "1/1 [==============================] - 0s 94ms/step\n"
          ]
        },
        {
          "output_type": "stream",
          "name": "stderr",
          "text": [
            "\r158it [00:12,  8.35it/s]"
          ]
        },
        {
          "output_type": "stream",
          "name": "stdout",
          "text": [
            "1/1 [==============================] - 0s 105ms/step\n"
          ]
        },
        {
          "output_type": "stream",
          "name": "stderr",
          "text": [
            "\r159it [00:12,  7.81it/s]"
          ]
        },
        {
          "output_type": "stream",
          "name": "stdout",
          "text": [
            "1/1 [==============================] - 0s 97ms/step\n"
          ]
        },
        {
          "output_type": "stream",
          "name": "stderr",
          "text": [
            "\r160it [00:12,  7.28it/s]"
          ]
        },
        {
          "output_type": "stream",
          "name": "stdout",
          "text": [
            "1/1 [==============================] - 0s 94ms/step\n"
          ]
        },
        {
          "output_type": "stream",
          "name": "stderr",
          "text": [
            "\r161it [00:13,  6.47it/s]"
          ]
        },
        {
          "output_type": "stream",
          "name": "stdout",
          "text": [
            "1/1 [==============================] - 0s 97ms/step\n"
          ]
        },
        {
          "output_type": "stream",
          "name": "stderr",
          "text": [
            "\r163it [00:13,  8.15it/s]"
          ]
        },
        {
          "output_type": "stream",
          "name": "stdout",
          "text": [
            "1/1 [==============================] - 0s 97ms/step\n"
          ]
        },
        {
          "output_type": "stream",
          "name": "stderr",
          "text": [
            "\r164it [00:13,  7.76it/s]"
          ]
        },
        {
          "output_type": "stream",
          "name": "stdout",
          "text": [
            "1/1 [==============================] - 0s 94ms/step\n"
          ]
        },
        {
          "output_type": "stream",
          "name": "stderr",
          "text": [
            "\r165it [00:13,  7.46it/s]"
          ]
        },
        {
          "output_type": "stream",
          "name": "stdout",
          "text": [
            "1/1 [==============================] - 0s 115ms/step\n"
          ]
        },
        {
          "output_type": "stream",
          "name": "stderr",
          "text": [
            "\r166it [00:13,  6.78it/s]"
          ]
        },
        {
          "output_type": "stream",
          "name": "stdout",
          "text": [
            "1/1 [==============================] - 0s 94ms/step\n"
          ]
        },
        {
          "output_type": "stream",
          "name": "stderr",
          "text": [
            "\r169it [00:13, 10.33it/s]"
          ]
        },
        {
          "output_type": "stream",
          "name": "stdout",
          "text": [
            "1/1 [==============================] - 0s 106ms/step\n"
          ]
        },
        {
          "output_type": "stream",
          "name": "stderr",
          "text": [
            "\r171it [00:14, 10.93it/s]"
          ]
        },
        {
          "output_type": "stream",
          "name": "stdout",
          "text": [
            "1/1 [==============================] - 0s 91ms/step\n"
          ]
        },
        {
          "output_type": "stream",
          "name": "stderr",
          "text": [
            "\r173it [00:14, 11.67it/s]"
          ]
        },
        {
          "output_type": "stream",
          "name": "stdout",
          "text": [
            "1/1 [==============================] - 0s 94ms/step\n",
            "1/1 [==============================] - 0s 94ms/step\n"
          ]
        },
        {
          "output_type": "stream",
          "name": "stderr",
          "text": [
            "\r175it [00:14,  9.32it/s]"
          ]
        },
        {
          "output_type": "stream",
          "name": "stdout",
          "text": [
            "1/1 [==============================] - 0s 101ms/step\n"
          ]
        },
        {
          "output_type": "stream",
          "name": "stderr",
          "text": [
            "\r177it [00:14, 10.10it/s]"
          ]
        },
        {
          "output_type": "stream",
          "name": "stdout",
          "text": [
            "1/1 [==============================] - 0s 95ms/step\n",
            "1/1 [==============================] - 0s 93ms/step\n"
          ]
        },
        {
          "output_type": "stream",
          "name": "stderr",
          "text": [
            "\r179it [00:15,  8.71it/s]"
          ]
        },
        {
          "output_type": "stream",
          "name": "stdout",
          "text": [
            "1/1 [==============================] - 0s 96ms/step\n"
          ]
        },
        {
          "output_type": "stream",
          "name": "stderr",
          "text": [
            "\r180it [00:15,  8.23it/s]"
          ]
        },
        {
          "output_type": "stream",
          "name": "stdout",
          "text": [
            "1/1 [==============================] - 0s 94ms/step\n"
          ]
        },
        {
          "output_type": "stream",
          "name": "stderr",
          "text": [
            "\r181it [00:15,  7.87it/s]"
          ]
        },
        {
          "output_type": "stream",
          "name": "stdout",
          "text": [
            "1/1 [==============================] - 0s 92ms/step\n"
          ]
        },
        {
          "output_type": "stream",
          "name": "stderr",
          "text": [
            "\r183it [00:15,  9.34it/s]"
          ]
        },
        {
          "output_type": "stream",
          "name": "stdout",
          "text": [
            "1/1 [==============================] - 0s 96ms/step\n"
          ]
        },
        {
          "output_type": "stream",
          "name": "stderr",
          "text": [
            "\r186it [00:15, 12.02it/s]"
          ]
        },
        {
          "output_type": "stream",
          "name": "stdout",
          "text": [
            "1/1 [==============================] - 0s 101ms/step\n",
            "1/1 [==============================] - 0s 91ms/step\n"
          ]
        },
        {
          "output_type": "stream",
          "name": "stderr",
          "text": [
            "\r188it [00:15,  9.71it/s]"
          ]
        },
        {
          "output_type": "stream",
          "name": "stdout",
          "text": [
            "1/1 [==============================] - 0s 99ms/step\n",
            "1/1 [==============================] - 0s 97ms/step\n"
          ]
        },
        {
          "output_type": "stream",
          "name": "stderr",
          "text": [
            "\r190it [00:16,  8.60it/s]"
          ]
        },
        {
          "output_type": "stream",
          "name": "stdout",
          "text": [
            "1/1 [==============================] - 0s 93ms/step\n"
          ]
        },
        {
          "output_type": "stream",
          "name": "stderr",
          "text": [
            "\r191it [00:16,  8.21it/s]"
          ]
        },
        {
          "output_type": "stream",
          "name": "stdout",
          "text": [
            "1/1 [==============================] - 0s 105ms/step\n"
          ]
        },
        {
          "output_type": "stream",
          "name": "stderr",
          "text": [
            "\r192it [00:16,  7.78it/s]"
          ]
        },
        {
          "output_type": "stream",
          "name": "stdout",
          "text": [
            "1/1 [==============================] - 0s 146ms/step\n"
          ]
        },
        {
          "output_type": "stream",
          "name": "stderr",
          "text": [
            "\r193it [00:16,  6.92it/s]"
          ]
        },
        {
          "output_type": "stream",
          "name": "stdout",
          "text": [
            "1/1 [==============================] - 0s 150ms/step\n"
          ]
        },
        {
          "output_type": "stream",
          "name": "stderr",
          "text": [
            "\r194it [00:17,  5.87it/s]"
          ]
        },
        {
          "output_type": "stream",
          "name": "stdout",
          "text": [
            "1/1 [==============================] - 0s 164ms/step\n"
          ]
        },
        {
          "output_type": "stream",
          "name": "stderr",
          "text": [
            "\r195it [00:17,  5.28it/s]"
          ]
        },
        {
          "output_type": "stream",
          "name": "stdout",
          "text": [
            "1/1 [==============================] - 0s 156ms/step\n"
          ]
        },
        {
          "output_type": "stream",
          "name": "stderr",
          "text": [
            "\r196it [00:17,  5.00it/s]"
          ]
        },
        {
          "output_type": "stream",
          "name": "stdout",
          "text": [
            "1/1 [==============================] - 0s 152ms/step\n"
          ]
        },
        {
          "output_type": "stream",
          "name": "stderr",
          "text": [
            "\r197it [00:17,  4.83it/s]"
          ]
        },
        {
          "output_type": "stream",
          "name": "stdout",
          "text": [
            "1/1 [==============================] - 0s 159ms/step\n"
          ]
        },
        {
          "output_type": "stream",
          "name": "stderr",
          "text": [
            "\r198it [00:17,  4.62it/s]"
          ]
        },
        {
          "output_type": "stream",
          "name": "stdout",
          "text": [
            "1/1 [==============================] - 0s 153ms/step\n"
          ]
        },
        {
          "output_type": "stream",
          "name": "stderr",
          "text": [
            "\r199it [00:18,  4.59it/s]"
          ]
        },
        {
          "output_type": "stream",
          "name": "stdout",
          "text": [
            "1/1 [==============================] - 0s 149ms/step\n"
          ]
        },
        {
          "output_type": "stream",
          "name": "stderr",
          "text": [
            "\r200it [00:18,  4.57it/s]"
          ]
        },
        {
          "output_type": "stream",
          "name": "stdout",
          "text": [
            "1/1 [==============================] - 0s 96ms/step\n"
          ]
        },
        {
          "output_type": "stream",
          "name": "stderr",
          "text": [
            "\r201it [00:18,  4.92it/s]"
          ]
        },
        {
          "output_type": "stream",
          "name": "stdout",
          "text": [
            "1/1 [==============================] - 0s 104ms/step\n"
          ]
        },
        {
          "output_type": "stream",
          "name": "stderr",
          "text": [
            "\r202it [00:18,  5.26it/s]"
          ]
        },
        {
          "output_type": "stream",
          "name": "stdout",
          "text": [
            "1/1 [==============================] - 0s 90ms/step\n"
          ]
        },
        {
          "output_type": "stream",
          "name": "stderr",
          "text": [
            "\r203it [00:18,  5.73it/s]"
          ]
        },
        {
          "output_type": "stream",
          "name": "stdout",
          "text": [
            "1/1 [==============================] - 0s 91ms/step\n"
          ]
        },
        {
          "output_type": "stream",
          "name": "stderr",
          "text": [
            "\r207it [00:19, 10.96it/s]"
          ]
        },
        {
          "output_type": "stream",
          "name": "stdout",
          "text": [
            "1/1 [==============================] - 0s 102ms/step\n"
          ]
        },
        {
          "output_type": "stream",
          "name": "stderr",
          "text": [
            "\r209it [00:19, 11.50it/s]"
          ]
        },
        {
          "output_type": "stream",
          "name": "stdout",
          "text": [
            "1/1 [==============================] - 0s 95ms/step\n",
            "1/1 [==============================] - 0s 94ms/step\n"
          ]
        },
        {
          "output_type": "stream",
          "name": "stderr",
          "text": [
            "\r211it [00:19,  9.54it/s]"
          ]
        },
        {
          "output_type": "stream",
          "name": "stdout",
          "text": [
            "1/1 [==============================] - 0s 101ms/step\n",
            "1/1 [==============================] - 0s 97ms/step\n"
          ]
        },
        {
          "output_type": "stream",
          "name": "stderr",
          "text": [
            "\r213it [00:19,  8.39it/s]"
          ]
        },
        {
          "output_type": "stream",
          "name": "stdout",
          "text": [
            "1/1 [==============================] - 0s 101ms/step\n"
          ]
        },
        {
          "output_type": "stream",
          "name": "stderr",
          "text": [
            "\r214it [00:19,  8.01it/s]"
          ]
        },
        {
          "output_type": "stream",
          "name": "stdout",
          "text": [
            "1/1 [==============================] - 0s 92ms/step\n"
          ]
        },
        {
          "output_type": "stream",
          "name": "stderr",
          "text": [
            "\r215it [00:20,  7.80it/s]"
          ]
        },
        {
          "output_type": "stream",
          "name": "stdout",
          "text": [
            "1/1 [==============================] - 0s 100ms/step\n"
          ]
        },
        {
          "output_type": "stream",
          "name": "stderr",
          "text": [
            "\r216it [00:20,  7.48it/s]"
          ]
        },
        {
          "output_type": "stream",
          "name": "stdout",
          "text": [
            "1/1 [==============================] - 0s 94ms/step\n"
          ]
        },
        {
          "output_type": "stream",
          "name": "stderr",
          "text": [
            "\r217it [00:20,  7.15it/s]"
          ]
        },
        {
          "output_type": "stream",
          "name": "stdout",
          "text": [
            "1/1 [==============================] - 0s 95ms/step\n"
          ]
        },
        {
          "output_type": "stream",
          "name": "stderr",
          "text": [
            "\r218it [00:20,  6.92it/s]"
          ]
        },
        {
          "output_type": "stream",
          "name": "stdout",
          "text": [
            "1/1 [==============================] - 0s 105ms/step\n"
          ]
        },
        {
          "output_type": "stream",
          "name": "stderr",
          "text": [
            "\r219it [00:20,  6.77it/s]"
          ]
        },
        {
          "output_type": "stream",
          "name": "stdout",
          "text": [
            "1/1 [==============================] - 0s 101ms/step\n"
          ]
        },
        {
          "output_type": "stream",
          "name": "stderr",
          "text": [
            "\r220it [00:20,  6.59it/s]"
          ]
        },
        {
          "output_type": "stream",
          "name": "stdout",
          "text": [
            "1/1 [==============================] - 0s 104ms/step\n"
          ]
        },
        {
          "output_type": "stream",
          "name": "stderr",
          "text": [
            "\r221it [00:21,  6.45it/s]"
          ]
        },
        {
          "output_type": "stream",
          "name": "stdout",
          "text": [
            "1/1 [==============================] - 0s 98ms/step\n"
          ]
        },
        {
          "output_type": "stream",
          "name": "stderr",
          "text": [
            "\r222it [00:21,  6.41it/s]"
          ]
        },
        {
          "output_type": "stream",
          "name": "stdout",
          "text": [
            "1/1 [==============================] - 0s 99ms/step\n"
          ]
        },
        {
          "output_type": "stream",
          "name": "stderr",
          "text": [
            "\r223it [00:21,  6.47it/s]"
          ]
        },
        {
          "output_type": "stream",
          "name": "stdout",
          "text": [
            "1/1 [==============================] - 0s 111ms/step\n"
          ]
        },
        {
          "output_type": "stream",
          "name": "stderr",
          "text": [
            "\r225it [00:21,  8.10it/s]"
          ]
        },
        {
          "output_type": "stream",
          "name": "stdout",
          "text": [
            "1/1 [==============================] - 0s 99ms/step\n"
          ]
        },
        {
          "output_type": "stream",
          "name": "stderr",
          "text": [
            "\r226it [00:21,  7.48it/s]"
          ]
        },
        {
          "output_type": "stream",
          "name": "stdout",
          "text": [
            "1/1 [==============================] - 0s 91ms/step\n"
          ]
        },
        {
          "output_type": "stream",
          "name": "stderr",
          "text": [
            "\r227it [00:21,  7.23it/s]"
          ]
        },
        {
          "output_type": "stream",
          "name": "stdout",
          "text": [
            "1/1 [==============================] - 0s 101ms/step\n"
          ]
        },
        {
          "output_type": "stream",
          "name": "stderr",
          "text": [
            "\r229it [00:21,  8.77it/s]"
          ]
        },
        {
          "output_type": "stream",
          "name": "stdout",
          "text": [
            "1/1 [==============================] - 0s 92ms/step\n"
          ]
        },
        {
          "output_type": "stream",
          "name": "stderr",
          "text": [
            "\r230it [00:22,  8.25it/s]"
          ]
        },
        {
          "output_type": "stream",
          "name": "stdout",
          "text": [
            "1/1 [==============================] - 0s 91ms/step\n"
          ]
        },
        {
          "output_type": "stream",
          "name": "stderr",
          "text": [
            "\r232it [00:22,  9.70it/s]"
          ]
        },
        {
          "output_type": "stream",
          "name": "stdout",
          "text": [
            "1/1 [==============================] - 0s 100ms/step\n"
          ]
        },
        {
          "output_type": "stream",
          "name": "stderr",
          "text": [
            "\r233it [00:22,  8.61it/s]"
          ]
        },
        {
          "output_type": "stream",
          "name": "stdout",
          "text": [
            "1/1 [==============================] - 0s 93ms/step\n"
          ]
        },
        {
          "output_type": "stream",
          "name": "stderr",
          "text": [
            "\r234it [00:22,  8.04it/s]"
          ]
        },
        {
          "output_type": "stream",
          "name": "stdout",
          "text": [
            "1/1 [==============================] - 0s 107ms/step\n"
          ]
        },
        {
          "output_type": "stream",
          "name": "stderr",
          "text": [
            "\r235it [00:22,  7.50it/s]"
          ]
        },
        {
          "output_type": "stream",
          "name": "stdout",
          "text": [
            "1/1 [==============================] - 0s 90ms/step\n"
          ]
        },
        {
          "output_type": "stream",
          "name": "stderr",
          "text": [
            "\r236it [00:22,  7.27it/s]"
          ]
        },
        {
          "output_type": "stream",
          "name": "stdout",
          "text": [
            "1/1 [==============================] - 0s 98ms/step\n"
          ]
        },
        {
          "output_type": "stream",
          "name": "stderr",
          "text": [
            "\r237it [00:23,  6.92it/s]"
          ]
        },
        {
          "output_type": "stream",
          "name": "stdout",
          "text": [
            "1/1 [==============================] - 0s 99ms/step\n"
          ]
        },
        {
          "output_type": "stream",
          "name": "stderr",
          "text": [
            "\r238it [00:23,  6.79it/s]"
          ]
        },
        {
          "output_type": "stream",
          "name": "stdout",
          "text": [
            "1/1 [==============================] - 0s 97ms/step\n"
          ]
        },
        {
          "output_type": "stream",
          "name": "stderr",
          "text": [
            "\r239it [00:23,  6.69it/s]"
          ]
        },
        {
          "output_type": "stream",
          "name": "stdout",
          "text": [
            "1/1 [==============================] - 0s 101ms/step\n"
          ]
        },
        {
          "output_type": "stream",
          "name": "stderr",
          "text": [
            "\r240it [00:23,  6.60it/s]"
          ]
        },
        {
          "output_type": "stream",
          "name": "stdout",
          "text": [
            "1/1 [==============================] - 0s 93ms/step\n"
          ]
        },
        {
          "output_type": "stream",
          "name": "stderr",
          "text": [
            "\r241it [00:23,  6.51it/s]"
          ]
        },
        {
          "output_type": "stream",
          "name": "stdout",
          "text": [
            "1/1 [==============================] - 0s 93ms/step\n"
          ]
        },
        {
          "output_type": "stream",
          "name": "stderr",
          "text": [
            "\r242it [00:23,  6.46it/s]"
          ]
        },
        {
          "output_type": "stream",
          "name": "stdout",
          "text": [
            "1/1 [==============================] - 0s 96ms/step\n"
          ]
        },
        {
          "output_type": "stream",
          "name": "stderr",
          "text": [
            "\r243it [00:24,  6.48it/s]"
          ]
        },
        {
          "output_type": "stream",
          "name": "stdout",
          "text": [
            "1/1 [==============================] - 0s 95ms/step\n"
          ]
        },
        {
          "output_type": "stream",
          "name": "stderr",
          "text": [
            "\r244it [00:24,  6.38it/s]"
          ]
        },
        {
          "output_type": "stream",
          "name": "stdout",
          "text": [
            "1/1 [==============================] - 0s 94ms/step\n"
          ]
        },
        {
          "output_type": "stream",
          "name": "stderr",
          "text": [
            "\r245it [00:24,  6.36it/s]"
          ]
        },
        {
          "output_type": "stream",
          "name": "stdout",
          "text": [
            "1/1 [==============================] - 0s 101ms/step\n"
          ]
        },
        {
          "output_type": "stream",
          "name": "stderr",
          "text": [
            "\r246it [00:24,  6.29it/s]"
          ]
        },
        {
          "output_type": "stream",
          "name": "stdout",
          "text": [
            "1/1 [==============================] - 0s 97ms/step\n"
          ]
        },
        {
          "output_type": "stream",
          "name": "stderr",
          "text": [
            "\r247it [00:24,  6.36it/s]"
          ]
        },
        {
          "output_type": "stream",
          "name": "stdout",
          "text": [
            "1/1 [==============================] - 0s 98ms/step\n"
          ]
        },
        {
          "output_type": "stream",
          "name": "stderr",
          "text": [
            "\r248it [00:24,  6.35it/s]"
          ]
        },
        {
          "output_type": "stream",
          "name": "stdout",
          "text": [
            "1/1 [==============================] - 0s 99ms/step\n"
          ]
        },
        {
          "output_type": "stream",
          "name": "stderr",
          "text": [
            "\r249it [00:24,  6.43it/s]"
          ]
        },
        {
          "output_type": "stream",
          "name": "stdout",
          "text": [
            "1/1 [==============================] - 0s 104ms/step\n"
          ]
        },
        {
          "output_type": "stream",
          "name": "stderr",
          "text": [
            "\r250it [00:25,  6.36it/s]"
          ]
        },
        {
          "output_type": "stream",
          "name": "stdout",
          "text": [
            "1/1 [==============================] - 0s 95ms/step\n"
          ]
        },
        {
          "output_type": "stream",
          "name": "stderr",
          "text": [
            "\r251it [00:25,  6.28it/s]"
          ]
        },
        {
          "output_type": "stream",
          "name": "stdout",
          "text": [
            "1/1 [==============================] - 0s 100ms/step\n"
          ]
        },
        {
          "output_type": "stream",
          "name": "stderr",
          "text": [
            "\r252it [00:25,  6.23it/s]"
          ]
        },
        {
          "output_type": "stream",
          "name": "stdout",
          "text": [
            "1/1 [==============================] - 0s 96ms/step\n"
          ]
        },
        {
          "output_type": "stream",
          "name": "stderr",
          "text": [
            "\r253it [00:25,  6.23it/s]"
          ]
        },
        {
          "output_type": "stream",
          "name": "stdout",
          "text": [
            "1/1 [==============================] - 0s 98ms/step\n"
          ]
        },
        {
          "output_type": "stream",
          "name": "stderr",
          "text": [
            "\r254it [00:25,  6.30it/s]"
          ]
        },
        {
          "output_type": "stream",
          "name": "stdout",
          "text": [
            "1/1 [==============================] - 0s 97ms/step\n"
          ]
        },
        {
          "output_type": "stream",
          "name": "stderr",
          "text": [
            "\r255it [00:25,  6.28it/s]"
          ]
        },
        {
          "output_type": "stream",
          "name": "stdout",
          "text": [
            "1/1 [==============================] - 0s 103ms/step\n"
          ]
        },
        {
          "output_type": "stream",
          "name": "stderr",
          "text": [
            "\r256it [00:26,  6.24it/s]"
          ]
        },
        {
          "output_type": "stream",
          "name": "stdout",
          "text": [
            "1/1 [==============================] - 0s 98ms/step\n"
          ]
        },
        {
          "output_type": "stream",
          "name": "stderr",
          "text": [
            "\r257it [00:26,  6.24it/s]"
          ]
        },
        {
          "output_type": "stream",
          "name": "stdout",
          "text": [
            "1/1 [==============================] - 0s 93ms/step\n"
          ]
        },
        {
          "output_type": "stream",
          "name": "stderr",
          "text": [
            "\r258it [00:26,  6.36it/s]"
          ]
        },
        {
          "output_type": "stream",
          "name": "stdout",
          "text": [
            "1/1 [==============================] - 0s 94ms/step\n"
          ]
        },
        {
          "output_type": "stream",
          "name": "stderr",
          "text": [
            "\r259it [00:26,  6.31it/s]"
          ]
        },
        {
          "output_type": "stream",
          "name": "stdout",
          "text": [
            "1/1 [==============================] - 0s 96ms/step\n"
          ]
        },
        {
          "output_type": "stream",
          "name": "stderr",
          "text": [
            "\r260it [00:26,  6.40it/s]"
          ]
        },
        {
          "output_type": "stream",
          "name": "stdout",
          "text": [
            "1/1 [==============================] - 0s 93ms/step\n"
          ]
        },
        {
          "output_type": "stream",
          "name": "stderr",
          "text": [
            "\r261it [00:26,  6.32it/s]"
          ]
        },
        {
          "output_type": "stream",
          "name": "stdout",
          "text": [
            "1/1 [==============================] - 0s 95ms/step\n"
          ]
        },
        {
          "output_type": "stream",
          "name": "stderr",
          "text": [
            "\r262it [00:27,  6.32it/s]"
          ]
        },
        {
          "output_type": "stream",
          "name": "stdout",
          "text": [
            "1/1 [==============================] - 0s 98ms/step\n"
          ]
        },
        {
          "output_type": "stream",
          "name": "stderr",
          "text": [
            "\r263it [00:27,  6.31it/s]"
          ]
        },
        {
          "output_type": "stream",
          "name": "stdout",
          "text": [
            "1/1 [==============================] - 0s 95ms/step\n"
          ]
        },
        {
          "output_type": "stream",
          "name": "stderr",
          "text": [
            "\r264it [00:27,  6.30it/s]"
          ]
        },
        {
          "output_type": "stream",
          "name": "stdout",
          "text": [
            "1/1 [==============================] - 0s 99ms/step\n"
          ]
        },
        {
          "output_type": "stream",
          "name": "stderr",
          "text": [
            "\r265it [00:27,  6.30it/s]"
          ]
        },
        {
          "output_type": "stream",
          "name": "stdout",
          "text": [
            "1/1 [==============================] - 0s 103ms/step\n"
          ]
        },
        {
          "output_type": "stream",
          "name": "stderr",
          "text": [
            "\r266it [00:27,  6.22it/s]"
          ]
        },
        {
          "output_type": "stream",
          "name": "stdout",
          "text": [
            "1/1 [==============================] - 0s 98ms/step\n"
          ]
        },
        {
          "output_type": "stream",
          "name": "stderr",
          "text": [
            "\r267it [00:27,  6.28it/s]"
          ]
        },
        {
          "output_type": "stream",
          "name": "stdout",
          "text": [
            "1/1 [==============================] - 0s 92ms/step\n"
          ]
        },
        {
          "output_type": "stream",
          "name": "stderr",
          "text": [
            "\r269it [00:27,  8.35it/s]"
          ]
        },
        {
          "output_type": "stream",
          "name": "stdout",
          "text": [
            "1/1 [==============================] - 0s 109ms/step\n"
          ]
        },
        {
          "output_type": "stream",
          "name": "stderr",
          "text": [
            "\r270it [00:28,  7.70it/s]"
          ]
        },
        {
          "output_type": "stream",
          "name": "stdout",
          "text": [
            "1/1 [==============================] - 0s 96ms/step\n"
          ]
        },
        {
          "output_type": "stream",
          "name": "stderr",
          "text": [
            "\r271it [00:28,  7.40it/s]"
          ]
        },
        {
          "output_type": "stream",
          "name": "stdout",
          "text": [
            "1/1 [==============================] - 0s 104ms/step\n"
          ]
        },
        {
          "output_type": "stream",
          "name": "stderr",
          "text": [
            "\r272it [00:28,  7.01it/s]"
          ]
        },
        {
          "output_type": "stream",
          "name": "stdout",
          "text": [
            "1/1 [==============================] - 0s 159ms/step\n"
          ]
        },
        {
          "output_type": "stream",
          "name": "stderr",
          "text": [
            "\r273it [00:28,  5.95it/s]"
          ]
        },
        {
          "output_type": "stream",
          "name": "stdout",
          "text": [
            "1/1 [==============================] - 0s 150ms/step\n"
          ]
        },
        {
          "output_type": "stream",
          "name": "stderr",
          "text": [
            "\r274it [00:28,  5.28it/s]"
          ]
        },
        {
          "output_type": "stream",
          "name": "stdout",
          "text": [
            "1/1 [==============================] - 0s 151ms/step\n"
          ]
        },
        {
          "output_type": "stream",
          "name": "stderr",
          "text": [
            "\r275it [00:29,  4.93it/s]"
          ]
        },
        {
          "output_type": "stream",
          "name": "stdout",
          "text": [
            "1/1 [==============================] - 0s 152ms/step\n"
          ]
        },
        {
          "output_type": "stream",
          "name": "stderr",
          "text": [
            "\r276it [00:29,  4.65it/s]"
          ]
        },
        {
          "output_type": "stream",
          "name": "stdout",
          "text": [
            "1/1 [==============================] - 0s 152ms/step\n"
          ]
        },
        {
          "output_type": "stream",
          "name": "stderr",
          "text": [
            "\r277it [00:29,  4.59it/s]"
          ]
        },
        {
          "output_type": "stream",
          "name": "stdout",
          "text": [
            "1/1 [==============================] - 0s 155ms/step\n"
          ]
        },
        {
          "output_type": "stream",
          "name": "stderr",
          "text": [
            "\r278it [00:29,  4.57it/s]"
          ]
        },
        {
          "output_type": "stream",
          "name": "stdout",
          "text": [
            "1/1 [==============================] - 0s 175ms/step\n"
          ]
        },
        {
          "output_type": "stream",
          "name": "stderr",
          "text": [
            "\r279it [00:30,  4.45it/s]"
          ]
        },
        {
          "output_type": "stream",
          "name": "stdout",
          "text": [
            "1/1 [==============================] - 0s 165ms/step\n"
          ]
        },
        {
          "output_type": "stream",
          "name": "stderr",
          "text": [
            "\r280it [00:30,  4.40it/s]"
          ]
        },
        {
          "output_type": "stream",
          "name": "stdout",
          "text": [
            "1/1 [==============================] - 0s 115ms/step\n"
          ]
        },
        {
          "output_type": "stream",
          "name": "stderr",
          "text": [
            "\r281it [00:30,  4.62it/s]"
          ]
        },
        {
          "output_type": "stream",
          "name": "stdout",
          "text": [
            "1/1 [==============================] - 0s 95ms/step\n"
          ]
        },
        {
          "output_type": "stream",
          "name": "stderr",
          "text": [
            "\r282it [00:30,  5.01it/s]"
          ]
        },
        {
          "output_type": "stream",
          "name": "stdout",
          "text": [
            "1/1 [==============================] - 0s 101ms/step\n"
          ]
        },
        {
          "output_type": "stream",
          "name": "stderr",
          "text": [
            "\r283it [00:30,  5.29it/s]"
          ]
        },
        {
          "output_type": "stream",
          "name": "stdout",
          "text": [
            "1/1 [==============================] - 0s 99ms/step\n"
          ]
        },
        {
          "output_type": "stream",
          "name": "stderr",
          "text": [
            "\r284it [00:30,  5.62it/s]"
          ]
        },
        {
          "output_type": "stream",
          "name": "stdout",
          "text": [
            "1/1 [==============================] - 0s 100ms/step\n"
          ]
        },
        {
          "output_type": "stream",
          "name": "stderr",
          "text": [
            "\r285it [00:31,  5.83it/s]"
          ]
        },
        {
          "output_type": "stream",
          "name": "stdout",
          "text": [
            "1/1 [==============================] - 0s 107ms/step\n"
          ]
        },
        {
          "output_type": "stream",
          "name": "stderr",
          "text": [
            "\r286it [00:31,  5.92it/s]"
          ]
        },
        {
          "output_type": "stream",
          "name": "stdout",
          "text": [
            "1/1 [==============================] - 0s 99ms/step\n"
          ]
        },
        {
          "output_type": "stream",
          "name": "stderr",
          "text": [
            "\r287it [00:31,  5.94it/s]"
          ]
        },
        {
          "output_type": "stream",
          "name": "stdout",
          "text": [
            "1/1 [==============================] - 0s 93ms/step\n"
          ]
        },
        {
          "output_type": "stream",
          "name": "stderr",
          "text": [
            "\r288it [00:31,  6.17it/s]"
          ]
        },
        {
          "output_type": "stream",
          "name": "stdout",
          "text": [
            "1/1 [==============================] - 0s 94ms/step\n"
          ]
        },
        {
          "output_type": "stream",
          "name": "stderr",
          "text": [
            "\r289it [00:31,  6.34it/s]"
          ]
        },
        {
          "output_type": "stream",
          "name": "stdout",
          "text": [
            "1/1 [==============================] - 0s 95ms/step\n"
          ]
        },
        {
          "output_type": "stream",
          "name": "stderr",
          "text": [
            "\r291it [00:31,  8.28it/s]"
          ]
        },
        {
          "output_type": "stream",
          "name": "stdout",
          "text": [
            "1/1 [==============================] - 0s 98ms/step\n"
          ]
        },
        {
          "output_type": "stream",
          "name": "stderr",
          "text": [
            "\r292it [00:32,  7.56it/s]"
          ]
        },
        {
          "output_type": "stream",
          "name": "stdout",
          "text": [
            "1/1 [==============================] - 0s 93ms/step\n"
          ]
        },
        {
          "output_type": "stream",
          "name": "stderr",
          "text": [
            "\r293it [00:32,  7.30it/s]"
          ]
        },
        {
          "output_type": "stream",
          "name": "stdout",
          "text": [
            "1/1 [==============================] - 0s 106ms/step\n"
          ]
        },
        {
          "output_type": "stream",
          "name": "stderr",
          "text": [
            "\r294it [00:32,  6.73it/s]"
          ]
        },
        {
          "output_type": "stream",
          "name": "stdout",
          "text": [
            "1/1 [==============================] - 0s 96ms/step\n"
          ]
        },
        {
          "output_type": "stream",
          "name": "stderr",
          "text": [
            "\r295it [00:32,  6.67it/s]"
          ]
        },
        {
          "output_type": "stream",
          "name": "stdout",
          "text": [
            "1/1 [==============================] - 0s 94ms/step\n"
          ]
        },
        {
          "output_type": "stream",
          "name": "stderr",
          "text": [
            "\r296it [00:32,  6.62it/s]"
          ]
        },
        {
          "output_type": "stream",
          "name": "stdout",
          "text": [
            "1/1 [==============================] - 0s 100ms/step\n"
          ]
        },
        {
          "output_type": "stream",
          "name": "stderr",
          "text": [
            "\r297it [00:32,  6.59it/s]"
          ]
        },
        {
          "output_type": "stream",
          "name": "stdout",
          "text": [
            "1/1 [==============================] - 0s 97ms/step\n"
          ]
        },
        {
          "output_type": "stream",
          "name": "stderr",
          "text": [
            "\r298it [00:33,  6.49it/s]"
          ]
        },
        {
          "output_type": "stream",
          "name": "stdout",
          "text": [
            "1/1 [==============================] - 0s 96ms/step\n"
          ]
        },
        {
          "output_type": "stream",
          "name": "stderr",
          "text": [
            "\r299it [00:33,  6.54it/s]"
          ]
        },
        {
          "output_type": "stream",
          "name": "stdout",
          "text": [
            "1/1 [==============================] - 0s 112ms/step\n"
          ]
        },
        {
          "output_type": "stream",
          "name": "stderr",
          "text": [
            "\r300it [00:33,  6.37it/s]"
          ]
        },
        {
          "output_type": "stream",
          "name": "stdout",
          "text": [
            "1/1 [==============================] - 0s 97ms/step\n"
          ]
        },
        {
          "output_type": "stream",
          "name": "stderr",
          "text": [
            "\r302it [00:33,  8.10it/s]"
          ]
        },
        {
          "output_type": "stream",
          "name": "stdout",
          "text": [
            "1/1 [==============================] - 0s 97ms/step\n"
          ]
        },
        {
          "output_type": "stream",
          "name": "stderr",
          "text": [
            "\r303it [00:33,  7.58it/s]"
          ]
        },
        {
          "output_type": "stream",
          "name": "stdout",
          "text": [
            "1/1 [==============================] - 0s 100ms/step\n"
          ]
        },
        {
          "output_type": "stream",
          "name": "stderr",
          "text": [
            "\r304it [00:33,  7.04it/s]"
          ]
        },
        {
          "output_type": "stream",
          "name": "stdout",
          "text": [
            "1/1 [==============================] - 0s 95ms/step\n"
          ]
        },
        {
          "output_type": "stream",
          "name": "stderr",
          "text": [
            "\r305it [00:33,  6.95it/s]"
          ]
        },
        {
          "output_type": "stream",
          "name": "stdout",
          "text": [
            "1/1 [==============================] - 0s 92ms/step\n"
          ]
        },
        {
          "output_type": "stream",
          "name": "stderr",
          "text": [
            "\r306it [00:34,  6.89it/s]"
          ]
        },
        {
          "output_type": "stream",
          "name": "stdout",
          "text": [
            "1/1 [==============================] - 0s 94ms/step\n"
          ]
        },
        {
          "output_type": "stream",
          "name": "stderr",
          "text": [
            "\r307it [00:34,  6.83it/s]"
          ]
        },
        {
          "output_type": "stream",
          "name": "stdout",
          "text": [
            "1/1 [==============================] - 0s 96ms/step\n"
          ]
        },
        {
          "output_type": "stream",
          "name": "stderr",
          "text": [
            "\r308it [00:34,  6.55it/s]"
          ]
        },
        {
          "output_type": "stream",
          "name": "stdout",
          "text": [
            "1/1 [==============================] - 0s 93ms/step\n"
          ]
        },
        {
          "output_type": "stream",
          "name": "stderr",
          "text": [
            "\r309it [00:34,  6.61it/s]"
          ]
        },
        {
          "output_type": "stream",
          "name": "stdout",
          "text": [
            "1/1 [==============================] - 0s 102ms/step\n"
          ]
        },
        {
          "output_type": "stream",
          "name": "stderr",
          "text": [
            "\r310it [00:34,  6.60it/s]"
          ]
        },
        {
          "output_type": "stream",
          "name": "stdout",
          "text": [
            "1/1 [==============================] - 0s 98ms/step\n"
          ]
        },
        {
          "output_type": "stream",
          "name": "stderr",
          "text": [
            "\r311it [00:34,  6.47it/s]"
          ]
        },
        {
          "output_type": "stream",
          "name": "stdout",
          "text": [
            "1/1 [==============================] - 0s 92ms/step\n"
          ]
        },
        {
          "output_type": "stream",
          "name": "stderr",
          "text": [
            "\r312it [00:35,  6.45it/s]"
          ]
        },
        {
          "output_type": "stream",
          "name": "stdout",
          "text": [
            "1/1 [==============================] - 0s 96ms/step\n"
          ]
        },
        {
          "output_type": "stream",
          "name": "stderr",
          "text": [
            "\r313it [00:35,  6.52it/s]"
          ]
        },
        {
          "output_type": "stream",
          "name": "stdout",
          "text": [
            "1/1 [==============================] - 0s 109ms/step\n"
          ]
        },
        {
          "output_type": "stream",
          "name": "stderr",
          "text": [
            "\r314it [00:35,  6.37it/s]"
          ]
        },
        {
          "output_type": "stream",
          "name": "stdout",
          "text": [
            "1/1 [==============================] - 0s 94ms/step\n"
          ]
        },
        {
          "output_type": "stream",
          "name": "stderr",
          "text": [
            "\r315it [00:35,  6.44it/s]"
          ]
        },
        {
          "output_type": "stream",
          "name": "stdout",
          "text": [
            "1/1 [==============================] - 0s 96ms/step\n"
          ]
        },
        {
          "output_type": "stream",
          "name": "stderr",
          "text": [
            "\r316it [00:35,  6.36it/s]"
          ]
        },
        {
          "output_type": "stream",
          "name": "stdout",
          "text": [
            "1/1 [==============================] - 0s 110ms/step\n"
          ]
        },
        {
          "output_type": "stream",
          "name": "stderr",
          "text": [
            "\r317it [00:35,  6.23it/s]"
          ]
        },
        {
          "output_type": "stream",
          "name": "stdout",
          "text": [
            "1/1 [==============================] - 0s 92ms/step\n"
          ]
        },
        {
          "output_type": "stream",
          "name": "stderr",
          "text": [
            "\r319it [00:36,  8.35it/s]"
          ]
        },
        {
          "output_type": "stream",
          "name": "stdout",
          "text": [
            "1/1 [==============================] - 0s 93ms/step\n"
          ]
        },
        {
          "output_type": "stream",
          "name": "stderr",
          "text": [
            "\r320it [00:36,  7.90it/s]"
          ]
        },
        {
          "output_type": "stream",
          "name": "stdout",
          "text": [
            "1/1 [==============================] - 0s 93ms/step\n"
          ]
        },
        {
          "output_type": "stream",
          "name": "stderr",
          "text": [
            "\r321it [00:36,  7.49it/s]"
          ]
        },
        {
          "output_type": "stream",
          "name": "stdout",
          "text": [
            "1/1 [==============================] - 0s 96ms/step\n"
          ]
        },
        {
          "output_type": "stream",
          "name": "stderr",
          "text": [
            "\r322it [00:36,  7.04it/s]"
          ]
        },
        {
          "output_type": "stream",
          "name": "stdout",
          "text": [
            "1/1 [==============================] - 0s 95ms/step\n"
          ]
        },
        {
          "output_type": "stream",
          "name": "stderr",
          "text": [
            "\r323it [00:36,  6.67it/s]"
          ]
        },
        {
          "output_type": "stream",
          "name": "stdout",
          "text": [
            "1/1 [==============================] - 0s 97ms/step\n"
          ]
        },
        {
          "output_type": "stream",
          "name": "stderr",
          "text": [
            "\r324it [00:36,  6.72it/s]"
          ]
        },
        {
          "output_type": "stream",
          "name": "stdout",
          "text": [
            "1/1 [==============================] - 0s 96ms/step\n"
          ]
        },
        {
          "output_type": "stream",
          "name": "stderr",
          "text": [
            "\r325it [00:36,  6.66it/s]"
          ]
        },
        {
          "output_type": "stream",
          "name": "stdout",
          "text": [
            "1/1 [==============================] - 0s 94ms/step\n"
          ]
        },
        {
          "output_type": "stream",
          "name": "stderr",
          "text": [
            "\r327it [00:37,  8.67it/s]"
          ]
        },
        {
          "output_type": "stream",
          "name": "stdout",
          "text": [
            "1/1 [==============================] - 0s 92ms/step\n"
          ]
        },
        {
          "output_type": "stream",
          "name": "stderr",
          "text": [
            "\r328it [00:37,  8.10it/s]"
          ]
        },
        {
          "output_type": "stream",
          "name": "stdout",
          "text": [
            "1/1 [==============================] - 0s 102ms/step\n"
          ]
        },
        {
          "output_type": "stream",
          "name": "stderr",
          "text": [
            "\r329it [00:37,  7.58it/s]"
          ]
        },
        {
          "output_type": "stream",
          "name": "stdout",
          "text": [
            "1/1 [==============================] - 0s 97ms/step\n"
          ]
        },
        {
          "output_type": "stream",
          "name": "stderr",
          "text": [
            "\r330it [00:37,  7.14it/s]"
          ]
        },
        {
          "output_type": "stream",
          "name": "stdout",
          "text": [
            "1/1 [==============================] - 0s 93ms/step\n"
          ]
        },
        {
          "output_type": "stream",
          "name": "stderr",
          "text": [
            "\r331it [00:37,  6.83it/s]"
          ]
        },
        {
          "output_type": "stream",
          "name": "stdout",
          "text": [
            "1/1 [==============================] - 0s 96ms/step\n"
          ]
        },
        {
          "output_type": "stream",
          "name": "stderr",
          "text": [
            "\r332it [00:37,  6.83it/s]"
          ]
        },
        {
          "output_type": "stream",
          "name": "stdout",
          "text": [
            "1/1 [==============================] - 0s 92ms/step\n"
          ]
        },
        {
          "output_type": "stream",
          "name": "stderr",
          "text": [
            "\r333it [00:38,  6.83it/s]"
          ]
        },
        {
          "output_type": "stream",
          "name": "stdout",
          "text": [
            "1/1 [==============================] - 0s 97ms/step\n"
          ]
        },
        {
          "output_type": "stream",
          "name": "stderr",
          "text": [
            "\r334it [00:38,  6.63it/s]"
          ]
        },
        {
          "output_type": "stream",
          "name": "stdout",
          "text": [
            "1/1 [==============================] - 0s 96ms/step\n"
          ]
        },
        {
          "output_type": "stream",
          "name": "stderr",
          "text": [
            "\r335it [00:38,  6.63it/s]"
          ]
        },
        {
          "output_type": "stream",
          "name": "stdout",
          "text": [
            "1/1 [==============================] - 0s 108ms/step\n"
          ]
        },
        {
          "output_type": "stream",
          "name": "stderr",
          "text": [
            "\r336it [00:38,  6.53it/s]"
          ]
        },
        {
          "output_type": "stream",
          "name": "stdout",
          "text": [
            "1/1 [==============================] - 0s 96ms/step\n"
          ]
        },
        {
          "output_type": "stream",
          "name": "stderr",
          "text": [
            "\r337it [00:38,  6.38it/s]"
          ]
        },
        {
          "output_type": "stream",
          "name": "stdout",
          "text": [
            "1/1 [==============================] - 0s 95ms/step\n"
          ]
        },
        {
          "output_type": "stream",
          "name": "stderr",
          "text": [
            "\r338it [00:38,  6.44it/s]"
          ]
        },
        {
          "output_type": "stream",
          "name": "stdout",
          "text": [
            "1/1 [==============================] - 0s 95ms/step\n"
          ]
        },
        {
          "output_type": "stream",
          "name": "stderr",
          "text": [
            "\r339it [00:38,  6.14it/s]"
          ]
        },
        {
          "output_type": "stream",
          "name": "stdout",
          "text": [
            "1/1 [==============================] - 0s 96ms/step\n"
          ]
        },
        {
          "output_type": "stream",
          "name": "stderr",
          "text": [
            "\r340it [00:39,  6.16it/s]"
          ]
        },
        {
          "output_type": "stream",
          "name": "stdout",
          "text": [
            "1/1 [==============================] - 0s 98ms/step\n"
          ]
        },
        {
          "output_type": "stream",
          "name": "stderr",
          "text": [
            "\r341it [00:39,  6.25it/s]"
          ]
        },
        {
          "output_type": "stream",
          "name": "stdout",
          "text": [
            "1/1 [==============================] - 0s 106ms/step\n"
          ]
        },
        {
          "output_type": "stream",
          "name": "stderr",
          "text": [
            "\r342it [00:39,  6.20it/s]"
          ]
        },
        {
          "output_type": "stream",
          "name": "stdout",
          "text": [
            "1/1 [==============================] - 0s 96ms/step\n"
          ]
        },
        {
          "output_type": "stream",
          "name": "stderr",
          "text": [
            "\r343it [00:39,  6.26it/s]"
          ]
        },
        {
          "output_type": "stream",
          "name": "stdout",
          "text": [
            "1/1 [==============================] - 0s 106ms/step\n"
          ]
        },
        {
          "output_type": "stream",
          "name": "stderr",
          "text": [
            "\r344it [00:39,  6.21it/s]"
          ]
        },
        {
          "output_type": "stream",
          "name": "stdout",
          "text": [
            "1/1 [==============================] - 0s 92ms/step\n"
          ]
        },
        {
          "output_type": "stream",
          "name": "stderr",
          "text": [
            "\r345it [00:39,  6.36it/s]"
          ]
        },
        {
          "output_type": "stream",
          "name": "stdout",
          "text": [
            "1/1 [==============================] - 0s 96ms/step\n"
          ]
        },
        {
          "output_type": "stream",
          "name": "stderr",
          "text": [
            "\r347it [00:40,  8.34it/s]"
          ]
        },
        {
          "output_type": "stream",
          "name": "stdout",
          "text": [
            "1/1 [==============================] - 0s 90ms/step\n"
          ]
        },
        {
          "output_type": "stream",
          "name": "stderr",
          "text": [
            "\r348it [00:40,  7.64it/s]"
          ]
        },
        {
          "output_type": "stream",
          "name": "stdout",
          "text": [
            "1/1 [==============================] - 0s 93ms/step\n"
          ]
        },
        {
          "output_type": "stream",
          "name": "stderr",
          "text": [
            "\r349it [00:40,  7.30it/s]"
          ]
        },
        {
          "output_type": "stream",
          "name": "stdout",
          "text": [
            "1/1 [==============================] - 0s 152ms/step\n"
          ]
        },
        {
          "output_type": "stream",
          "name": "stderr",
          "text": [
            "\r350it [00:40,  5.78it/s]"
          ]
        },
        {
          "output_type": "stream",
          "name": "stdout",
          "text": [
            "1/1 [==============================] - 0s 159ms/step\n"
          ]
        },
        {
          "output_type": "stream",
          "name": "stderr",
          "text": [
            "\r351it [00:40,  5.18it/s]"
          ]
        },
        {
          "output_type": "stream",
          "name": "stdout",
          "text": [
            "1/1 [==============================] - 0s 148ms/step\n"
          ]
        },
        {
          "output_type": "stream",
          "name": "stderr",
          "text": [
            "\r352it [00:41,  4.99it/s]"
          ]
        },
        {
          "output_type": "stream",
          "name": "stdout",
          "text": [
            "1/1 [==============================] - 0s 155ms/step\n"
          ]
        },
        {
          "output_type": "stream",
          "name": "stderr",
          "text": [
            "\r353it [00:41,  4.88it/s]"
          ]
        },
        {
          "output_type": "stream",
          "name": "stdout",
          "text": [
            "1/1 [==============================] - 0s 162ms/step\n"
          ]
        },
        {
          "output_type": "stream",
          "name": "stderr",
          "text": [
            "\r354it [00:41,  4.54it/s]"
          ]
        },
        {
          "output_type": "stream",
          "name": "stdout",
          "text": [
            "1/1 [==============================] - 0s 150ms/step\n"
          ]
        },
        {
          "output_type": "stream",
          "name": "stderr",
          "text": [
            "\r355it [00:41,  4.52it/s]"
          ]
        },
        {
          "output_type": "stream",
          "name": "stdout",
          "text": [
            "1/1 [==============================] - 0s 151ms/step\n"
          ]
        },
        {
          "output_type": "stream",
          "name": "stderr",
          "text": [
            "\r356it [00:42,  4.48it/s]"
          ]
        },
        {
          "output_type": "stream",
          "name": "stdout",
          "text": [
            "1/1 [==============================] - 0s 149ms/step\n"
          ]
        },
        {
          "output_type": "stream",
          "name": "stderr",
          "text": [
            "\r357it [00:42,  4.52it/s]"
          ]
        },
        {
          "output_type": "stream",
          "name": "stdout",
          "text": [
            "1/1 [==============================] - 0s 116ms/step\n"
          ]
        },
        {
          "output_type": "stream",
          "name": "stderr",
          "text": [
            "\r358it [00:42,  4.55it/s]"
          ]
        },
        {
          "output_type": "stream",
          "name": "stdout",
          "text": [
            "1/1 [==============================] - 0s 95ms/step\n"
          ]
        },
        {
          "output_type": "stream",
          "name": "stderr",
          "text": [
            "\r359it [00:42,  4.90it/s]"
          ]
        },
        {
          "output_type": "stream",
          "name": "stdout",
          "text": [
            "1/1 [==============================] - 0s 91ms/step\n"
          ]
        },
        {
          "output_type": "stream",
          "name": "stderr",
          "text": [
            "\r360it [00:42,  5.39it/s]"
          ]
        },
        {
          "output_type": "stream",
          "name": "stdout",
          "text": [
            "1/1 [==============================] - 0s 91ms/step\n"
          ]
        },
        {
          "output_type": "stream",
          "name": "stderr",
          "text": [
            "\r361it [00:42,  5.69it/s]"
          ]
        },
        {
          "output_type": "stream",
          "name": "stdout",
          "text": [
            "1/1 [==============================] - 0s 90ms/step\n"
          ]
        },
        {
          "output_type": "stream",
          "name": "stderr",
          "text": [
            "\r362it [00:43,  5.96it/s]"
          ]
        },
        {
          "output_type": "stream",
          "name": "stdout",
          "text": [
            "1/1 [==============================] - 0s 93ms/step\n"
          ]
        },
        {
          "output_type": "stream",
          "name": "stderr",
          "text": [
            "\r363it [00:43,  6.16it/s]"
          ]
        },
        {
          "output_type": "stream",
          "name": "stdout",
          "text": [
            "1/1 [==============================] - 0s 94ms/step\n"
          ]
        },
        {
          "output_type": "stream",
          "name": "stderr",
          "text": [
            "\r364it [00:43,  6.32it/s]"
          ]
        },
        {
          "output_type": "stream",
          "name": "stdout",
          "text": [
            "1/1 [==============================] - 0s 114ms/step\n"
          ]
        },
        {
          "output_type": "stream",
          "name": "stderr",
          "text": [
            "\r365it [00:43,  6.25it/s]"
          ]
        },
        {
          "output_type": "stream",
          "name": "stdout",
          "text": [
            "1/1 [==============================] - 0s 94ms/step\n"
          ]
        },
        {
          "output_type": "stream",
          "name": "stderr",
          "text": [
            "\r366it [00:43,  6.18it/s]"
          ]
        },
        {
          "output_type": "stream",
          "name": "stdout",
          "text": [
            "1/1 [==============================] - 0s 96ms/step\n"
          ]
        },
        {
          "output_type": "stream",
          "name": "stderr",
          "text": [
            "\r367it [00:43,  6.22it/s]"
          ]
        },
        {
          "output_type": "stream",
          "name": "stdout",
          "text": [
            "1/1 [==============================] - 0s 95ms/step\n"
          ]
        },
        {
          "output_type": "stream",
          "name": "stderr",
          "text": [
            "\r368it [00:44,  6.23it/s]"
          ]
        },
        {
          "output_type": "stream",
          "name": "stdout",
          "text": [
            "1/1 [==============================] - 0s 89ms/step\n"
          ]
        },
        {
          "output_type": "stream",
          "name": "stderr",
          "text": [
            "\r369it [00:44,  6.44it/s]"
          ]
        },
        {
          "output_type": "stream",
          "name": "stdout",
          "text": [
            "1/1 [==============================] - 0s 91ms/step\n"
          ]
        },
        {
          "output_type": "stream",
          "name": "stderr",
          "text": [
            "\r370it [00:44,  6.53it/s]"
          ]
        },
        {
          "output_type": "stream",
          "name": "stdout",
          "text": [
            "1/1 [==============================] - 0s 103ms/step\n"
          ]
        },
        {
          "output_type": "stream",
          "name": "stderr",
          "text": [
            "\r371it [00:44,  6.35it/s]"
          ]
        },
        {
          "output_type": "stream",
          "name": "stdout",
          "text": [
            "1/1 [==============================] - 0s 95ms/step\n"
          ]
        },
        {
          "output_type": "stream",
          "name": "stderr",
          "text": [
            "\r372it [00:44,  6.32it/s]"
          ]
        },
        {
          "output_type": "stream",
          "name": "stdout",
          "text": [
            "1/1 [==============================] - 0s 96ms/step\n"
          ]
        },
        {
          "output_type": "stream",
          "name": "stderr",
          "text": [
            "\r373it [00:44,  6.41it/s]"
          ]
        },
        {
          "output_type": "stream",
          "name": "stdout",
          "text": [
            "1/1 [==============================] - 0s 91ms/step\n"
          ]
        },
        {
          "output_type": "stream",
          "name": "stderr",
          "text": [
            "\r374it [00:44,  6.41it/s]"
          ]
        },
        {
          "output_type": "stream",
          "name": "stdout",
          "text": [
            "1/1 [==============================] - 0s 104ms/step\n"
          ]
        },
        {
          "output_type": "stream",
          "name": "stderr",
          "text": [
            "\r375it [00:45,  6.43it/s]"
          ]
        },
        {
          "output_type": "stream",
          "name": "stdout",
          "text": [
            "1/1 [==============================] - 0s 93ms/step\n"
          ]
        },
        {
          "output_type": "stream",
          "name": "stderr",
          "text": [
            "\r376it [00:45,  6.33it/s]"
          ]
        },
        {
          "output_type": "stream",
          "name": "stdout",
          "text": [
            "1/1 [==============================] - 0s 93ms/step\n"
          ]
        },
        {
          "output_type": "stream",
          "name": "stderr",
          "text": [
            "\r377it [00:45,  6.39it/s]"
          ]
        },
        {
          "output_type": "stream",
          "name": "stdout",
          "text": [
            "1/1 [==============================] - 0s 99ms/step\n"
          ]
        },
        {
          "output_type": "stream",
          "name": "stderr",
          "text": [
            "\r378it [00:45,  6.40it/s]"
          ]
        },
        {
          "output_type": "stream",
          "name": "stdout",
          "text": [
            "1/1 [==============================] - 0s 97ms/step\n"
          ]
        },
        {
          "output_type": "stream",
          "name": "stderr",
          "text": [
            "\r379it [00:45,  6.34it/s]"
          ]
        },
        {
          "output_type": "stream",
          "name": "stdout",
          "text": [
            "1/1 [==============================] - 0s 95ms/step\n"
          ]
        },
        {
          "output_type": "stream",
          "name": "stderr",
          "text": [
            "\r380it [00:45,  6.44it/s]"
          ]
        },
        {
          "output_type": "stream",
          "name": "stdout",
          "text": [
            "1/1 [==============================] - 0s 106ms/step\n"
          ]
        },
        {
          "output_type": "stream",
          "name": "stderr",
          "text": [
            "\r381it [00:46,  6.27it/s]"
          ]
        },
        {
          "output_type": "stream",
          "name": "stdout",
          "text": [
            "1/1 [==============================] - 0s 98ms/step\n"
          ]
        },
        {
          "output_type": "stream",
          "name": "stderr",
          "text": [
            "\r382it [00:46,  6.35it/s]"
          ]
        },
        {
          "output_type": "stream",
          "name": "stdout",
          "text": [
            "1/1 [==============================] - 0s 98ms/step\n"
          ]
        },
        {
          "output_type": "stream",
          "name": "stderr",
          "text": [
            "\r383it [00:46,  6.39it/s]"
          ]
        },
        {
          "output_type": "stream",
          "name": "stdout",
          "text": [
            "1/1 [==============================] - 0s 103ms/step\n"
          ]
        },
        {
          "output_type": "stream",
          "name": "stderr",
          "text": [
            "\r384it [00:46,  6.41it/s]"
          ]
        },
        {
          "output_type": "stream",
          "name": "stdout",
          "text": [
            "1/1 [==============================] - 0s 107ms/step\n"
          ]
        },
        {
          "output_type": "stream",
          "name": "stderr",
          "text": [
            "\r385it [00:46,  6.07it/s]"
          ]
        },
        {
          "output_type": "stream",
          "name": "stdout",
          "text": [
            "1/1 [==============================] - 0s 97ms/step\n"
          ]
        },
        {
          "output_type": "stream",
          "name": "stderr",
          "text": [
            "\r386it [00:46,  6.14it/s]"
          ]
        },
        {
          "output_type": "stream",
          "name": "stdout",
          "text": [
            "1/1 [==============================] - 0s 94ms/step\n"
          ]
        },
        {
          "output_type": "stream",
          "name": "stderr",
          "text": [
            "\r387it [00:47,  6.21it/s]"
          ]
        },
        {
          "output_type": "stream",
          "name": "stdout",
          "text": [
            "1/1 [==============================] - 0s 87ms/step\n"
          ]
        },
        {
          "output_type": "stream",
          "name": "stderr",
          "text": [
            "\r388it [00:47,  6.32it/s]"
          ]
        },
        {
          "output_type": "stream",
          "name": "stdout",
          "text": [
            "1/1 [==============================] - 0s 89ms/step\n"
          ]
        },
        {
          "output_type": "stream",
          "name": "stderr",
          "text": [
            "\r389it [00:47,  6.48it/s]"
          ]
        },
        {
          "output_type": "stream",
          "name": "stdout",
          "text": [
            "1/1 [==============================] - 0s 96ms/step\n"
          ]
        },
        {
          "output_type": "stream",
          "name": "stderr",
          "text": [
            "\r390it [00:47,  6.42it/s]"
          ]
        },
        {
          "output_type": "stream",
          "name": "stdout",
          "text": [
            "1/1 [==============================] - 0s 106ms/step\n"
          ]
        },
        {
          "output_type": "stream",
          "name": "stderr",
          "text": [
            "\r391it [00:47,  6.34it/s]"
          ]
        },
        {
          "output_type": "stream",
          "name": "stdout",
          "text": [
            "1/1 [==============================] - 0s 92ms/step\n"
          ]
        },
        {
          "output_type": "stream",
          "name": "stderr",
          "text": [
            "\r392it [00:47,  6.42it/s]"
          ]
        },
        {
          "output_type": "stream",
          "name": "stdout",
          "text": [
            "1/1 [==============================] - 0s 98ms/step\n"
          ]
        },
        {
          "output_type": "stream",
          "name": "stderr",
          "text": [
            "\r393it [00:47,  6.39it/s]"
          ]
        },
        {
          "output_type": "stream",
          "name": "stdout",
          "text": [
            "1/1 [==============================] - 0s 100ms/step\n"
          ]
        },
        {
          "output_type": "stream",
          "name": "stderr",
          "text": [
            "\r394it [00:48,  6.20it/s]"
          ]
        },
        {
          "output_type": "stream",
          "name": "stdout",
          "text": [
            "1/1 [==============================] - 0s 100ms/step\n"
          ]
        },
        {
          "output_type": "stream",
          "name": "stderr",
          "text": [
            "\r395it [00:48,  6.14it/s]"
          ]
        },
        {
          "output_type": "stream",
          "name": "stdout",
          "text": [
            "1/1 [==============================] - 0s 96ms/step\n"
          ]
        },
        {
          "output_type": "stream",
          "name": "stderr",
          "text": [
            "\r396it [00:48,  6.28it/s]"
          ]
        },
        {
          "output_type": "stream",
          "name": "stdout",
          "text": [
            "1/1 [==============================] - 0s 93ms/step\n"
          ]
        },
        {
          "output_type": "stream",
          "name": "stderr",
          "text": [
            "\r397it [00:48,  6.34it/s]"
          ]
        },
        {
          "output_type": "stream",
          "name": "stdout",
          "text": [
            "1/1 [==============================] - 0s 94ms/step\n"
          ]
        },
        {
          "output_type": "stream",
          "name": "stderr",
          "text": [
            "\r398it [00:48,  6.34it/s]"
          ]
        },
        {
          "output_type": "stream",
          "name": "stdout",
          "text": [
            "1/1 [==============================] - 0s 106ms/step\n"
          ]
        },
        {
          "output_type": "stream",
          "name": "stderr",
          "text": [
            "\r399it [00:48,  6.27it/s]"
          ]
        },
        {
          "output_type": "stream",
          "name": "stdout",
          "text": [
            "1/1 [==============================] - 0s 92ms/step\n"
          ]
        },
        {
          "output_type": "stream",
          "name": "stderr",
          "text": [
            "\r400it [00:49,  6.35it/s]"
          ]
        },
        {
          "output_type": "stream",
          "name": "stdout",
          "text": [
            "1/1 [==============================] - 0s 95ms/step\n"
          ]
        },
        {
          "output_type": "stream",
          "name": "stderr",
          "text": [
            "\r401it [00:49,  6.45it/s]"
          ]
        },
        {
          "output_type": "stream",
          "name": "stdout",
          "text": [
            "1/1 [==============================] - 0s 101ms/step\n"
          ]
        },
        {
          "output_type": "stream",
          "name": "stderr",
          "text": [
            "\r402it [00:49,  5.84it/s]"
          ]
        },
        {
          "output_type": "stream",
          "name": "stdout",
          "text": [
            "1/1 [==============================] - 0s 97ms/step\n"
          ]
        },
        {
          "output_type": "stream",
          "name": "stderr",
          "text": [
            "\r403it [00:49,  5.91it/s]"
          ]
        },
        {
          "output_type": "stream",
          "name": "stdout",
          "text": [
            "1/1 [==============================] - 0s 106ms/step\n"
          ]
        },
        {
          "output_type": "stream",
          "name": "stderr",
          "text": [
            "\r404it [00:49,  6.01it/s]"
          ]
        },
        {
          "output_type": "stream",
          "name": "stdout",
          "text": [
            "1/1 [==============================] - 0s 104ms/step\n"
          ]
        },
        {
          "output_type": "stream",
          "name": "stderr",
          "text": [
            "\r405it [00:49,  5.98it/s]"
          ]
        },
        {
          "output_type": "stream",
          "name": "stdout",
          "text": [
            "1/1 [==============================] - 0s 100ms/step\n"
          ]
        },
        {
          "output_type": "stream",
          "name": "stderr",
          "text": [
            "\r406it [00:50,  6.06it/s]"
          ]
        },
        {
          "output_type": "stream",
          "name": "stdout",
          "text": [
            "1/1 [==============================] - 0s 96ms/step\n"
          ]
        },
        {
          "output_type": "stream",
          "name": "stderr",
          "text": [
            "\r407it [00:50,  6.17it/s]"
          ]
        },
        {
          "output_type": "stream",
          "name": "stdout",
          "text": [
            "1/1 [==============================] - 0s 92ms/step\n"
          ]
        },
        {
          "output_type": "stream",
          "name": "stderr",
          "text": [
            "\r408it [00:50,  6.29it/s]"
          ]
        },
        {
          "output_type": "stream",
          "name": "stdout",
          "text": [
            "1/1 [==============================] - 0s 104ms/step\n"
          ]
        },
        {
          "output_type": "stream",
          "name": "stderr",
          "text": [
            "\r409it [00:50,  6.28it/s]"
          ]
        },
        {
          "output_type": "stream",
          "name": "stdout",
          "text": [
            "1/1 [==============================] - 0s 104ms/step\n"
          ]
        },
        {
          "output_type": "stream",
          "name": "stderr",
          "text": [
            "\r410it [00:50,  6.26it/s]"
          ]
        },
        {
          "output_type": "stream",
          "name": "stdout",
          "text": [
            "1/1 [==============================] - 0s 98ms/step\n"
          ]
        },
        {
          "output_type": "stream",
          "name": "stderr",
          "text": [
            "\r411it [00:50,  6.38it/s]"
          ]
        },
        {
          "output_type": "stream",
          "name": "stdout",
          "text": [
            "1/1 [==============================] - 0s 103ms/step\n"
          ]
        },
        {
          "output_type": "stream",
          "name": "stderr",
          "text": [
            "\r412it [00:51,  6.22it/s]"
          ]
        },
        {
          "output_type": "stream",
          "name": "stdout",
          "text": [
            "1/1 [==============================] - 0s 96ms/step\n"
          ]
        },
        {
          "output_type": "stream",
          "name": "stderr",
          "text": [
            "\r413it [00:51,  6.32it/s]"
          ]
        },
        {
          "output_type": "stream",
          "name": "stdout",
          "text": [
            "1/1 [==============================] - 0s 97ms/step\n"
          ]
        },
        {
          "output_type": "stream",
          "name": "stderr",
          "text": [
            "\r414it [00:51,  6.36it/s]"
          ]
        },
        {
          "output_type": "stream",
          "name": "stdout",
          "text": [
            "1/1 [==============================] - 0s 101ms/step\n"
          ]
        },
        {
          "output_type": "stream",
          "name": "stderr",
          "text": [
            "\r415it [00:51,  6.30it/s]"
          ]
        },
        {
          "output_type": "stream",
          "name": "stdout",
          "text": [
            "1/1 [==============================] - 0s 95ms/step\n"
          ]
        },
        {
          "output_type": "stream",
          "name": "stderr",
          "text": [
            "\r416it [00:51,  6.34it/s]"
          ]
        },
        {
          "output_type": "stream",
          "name": "stdout",
          "text": [
            "1/1 [==============================] - 0s 108ms/step\n"
          ]
        },
        {
          "output_type": "stream",
          "name": "stderr",
          "text": [
            "\r417it [00:51,  6.12it/s]"
          ]
        },
        {
          "output_type": "stream",
          "name": "stdout",
          "text": [
            "1/1 [==============================] - 0s 100ms/step\n"
          ]
        },
        {
          "output_type": "stream",
          "name": "stderr",
          "text": [
            "\r418it [00:52,  6.20it/s]"
          ]
        },
        {
          "output_type": "stream",
          "name": "stdout",
          "text": [
            "1/1 [==============================] - 0s 94ms/step\n"
          ]
        },
        {
          "output_type": "stream",
          "name": "stderr",
          "text": [
            "\r419it [00:52,  6.32it/s]"
          ]
        },
        {
          "output_type": "stream",
          "name": "stdout",
          "text": [
            "1/1 [==============================] - 0s 100ms/step\n"
          ]
        },
        {
          "output_type": "stream",
          "name": "stderr",
          "text": [
            "\r420it [00:52,  6.29it/s]"
          ]
        },
        {
          "output_type": "stream",
          "name": "stdout",
          "text": [
            "1/1 [==============================] - 0s 136ms/step\n"
          ]
        },
        {
          "output_type": "stream",
          "name": "stderr",
          "text": [
            "\r421it [00:52,  5.86it/s]"
          ]
        },
        {
          "output_type": "stream",
          "name": "stdout",
          "text": [
            "1/1 [==============================] - 0s 156ms/step\n"
          ]
        },
        {
          "output_type": "stream",
          "name": "stderr",
          "text": [
            "\r422it [00:52,  5.35it/s]"
          ]
        },
        {
          "output_type": "stream",
          "name": "stdout",
          "text": [
            "1/1 [==============================] - 0s 175ms/step\n"
          ]
        },
        {
          "output_type": "stream",
          "name": "stderr",
          "text": [
            "\r423it [00:53,  4.76it/s]"
          ]
        },
        {
          "output_type": "stream",
          "name": "stdout",
          "text": [
            "1/1 [==============================] - 0s 146ms/step\n"
          ]
        },
        {
          "output_type": "stream",
          "name": "stderr",
          "text": [
            "\r424it [00:53,  4.67it/s]"
          ]
        },
        {
          "output_type": "stream",
          "name": "stdout",
          "text": [
            "1/1 [==============================] - 0s 163ms/step\n"
          ]
        },
        {
          "output_type": "stream",
          "name": "stderr",
          "text": [
            "\r425it [00:53,  4.61it/s]"
          ]
        },
        {
          "output_type": "stream",
          "name": "stdout",
          "text": [
            "1/1 [==============================] - 0s 150ms/step\n"
          ]
        },
        {
          "output_type": "stream",
          "name": "stderr",
          "text": [
            "\r426it [00:53,  4.63it/s]"
          ]
        },
        {
          "output_type": "stream",
          "name": "stdout",
          "text": [
            "1/1 [==============================] - 0s 157ms/step\n"
          ]
        },
        {
          "output_type": "stream",
          "name": "stderr",
          "text": [
            "\r427it [00:53,  4.60it/s]"
          ]
        },
        {
          "output_type": "stream",
          "name": "stdout",
          "text": [
            "1/1 [==============================] - 0s 163ms/step\n"
          ]
        },
        {
          "output_type": "stream",
          "name": "stderr",
          "text": [
            "\r428it [00:54,  4.46it/s]"
          ]
        },
        {
          "output_type": "stream",
          "name": "stdout",
          "text": [
            "1/1 [==============================] - 0s 158ms/step\n"
          ]
        },
        {
          "output_type": "stream",
          "name": "stderr",
          "text": [
            "\r429it [00:54,  4.42it/s]"
          ]
        },
        {
          "output_type": "stream",
          "name": "stdout",
          "text": [
            "1/1 [==============================] - 0s 127ms/step\n"
          ]
        },
        {
          "output_type": "stream",
          "name": "stderr",
          "text": [
            "\r430it [00:54,  4.52it/s]"
          ]
        },
        {
          "output_type": "stream",
          "name": "stdout",
          "text": [
            "1/1 [==============================] - 0s 95ms/step\n"
          ]
        },
        {
          "output_type": "stream",
          "name": "stderr",
          "text": [
            "\r431it [00:54,  4.94it/s]"
          ]
        },
        {
          "output_type": "stream",
          "name": "stdout",
          "text": [
            "1/1 [==============================] - 0s 107ms/step\n"
          ]
        },
        {
          "output_type": "stream",
          "name": "stderr",
          "text": [
            "\r432it [00:54,  5.30it/s]"
          ]
        },
        {
          "output_type": "stream",
          "name": "stdout",
          "text": [
            "1/1 [==============================] - 0s 92ms/step\n"
          ]
        },
        {
          "output_type": "stream",
          "name": "stderr",
          "text": [
            "\r433it [00:55,  5.57it/s]"
          ]
        },
        {
          "output_type": "stream",
          "name": "stdout",
          "text": [
            "1/1 [==============================] - 0s 92ms/step\n"
          ]
        },
        {
          "output_type": "stream",
          "name": "stderr",
          "text": [
            "\r434it [00:55,  5.81it/s]"
          ]
        },
        {
          "output_type": "stream",
          "name": "stdout",
          "text": [
            "1/1 [==============================] - 0s 103ms/step\n"
          ]
        },
        {
          "output_type": "stream",
          "name": "stderr",
          "text": [
            "\r435it [00:55,  5.89it/s]"
          ]
        },
        {
          "output_type": "stream",
          "name": "stdout",
          "text": [
            "1/1 [==============================] - 0s 94ms/step\n"
          ]
        },
        {
          "output_type": "stream",
          "name": "stderr",
          "text": [
            "\r436it [00:55,  6.11it/s]"
          ]
        },
        {
          "output_type": "stream",
          "name": "stdout",
          "text": [
            "1/1 [==============================] - 0s 91ms/step\n"
          ]
        },
        {
          "output_type": "stream",
          "name": "stderr",
          "text": [
            "\r437it [00:55,  6.27it/s]"
          ]
        },
        {
          "output_type": "stream",
          "name": "stdout",
          "text": [
            "1/1 [==============================] - 0s 95ms/step\n"
          ]
        },
        {
          "output_type": "stream",
          "name": "stderr",
          "text": [
            "\r438it [00:55,  6.20it/s]"
          ]
        },
        {
          "output_type": "stream",
          "name": "stdout",
          "text": [
            "1/1 [==============================] - 0s 108ms/step\n"
          ]
        },
        {
          "output_type": "stream",
          "name": "stderr",
          "text": [
            "\r439it [00:56,  6.06it/s]"
          ]
        },
        {
          "output_type": "stream",
          "name": "stdout",
          "text": [
            "1/1 [==============================] - 0s 91ms/step\n"
          ]
        },
        {
          "output_type": "stream",
          "name": "stderr",
          "text": [
            "\r440it [00:56,  6.16it/s]"
          ]
        },
        {
          "output_type": "stream",
          "name": "stdout",
          "text": [
            "1/1 [==============================] - 0s 92ms/step\n"
          ]
        },
        {
          "output_type": "stream",
          "name": "stderr",
          "text": [
            "\r441it [00:56,  6.30it/s]"
          ]
        },
        {
          "output_type": "stream",
          "name": "stdout",
          "text": [
            "1/1 [==============================] - 0s 95ms/step\n"
          ]
        },
        {
          "output_type": "stream",
          "name": "stderr",
          "text": [
            "\r442it [00:56,  6.45it/s]"
          ]
        },
        {
          "output_type": "stream",
          "name": "stdout",
          "text": [
            "1/1 [==============================] - 0s 97ms/step\n"
          ]
        },
        {
          "output_type": "stream",
          "name": "stderr",
          "text": [
            "\r443it [00:56,  6.47it/s]"
          ]
        },
        {
          "output_type": "stream",
          "name": "stdout",
          "text": [
            "1/1 [==============================] - 0s 93ms/step\n"
          ]
        },
        {
          "output_type": "stream",
          "name": "stderr",
          "text": [
            "\r444it [00:56,  6.58it/s]"
          ]
        },
        {
          "output_type": "stream",
          "name": "stdout",
          "text": [
            "1/1 [==============================] - 0s 101ms/step\n"
          ]
        },
        {
          "output_type": "stream",
          "name": "stderr",
          "text": [
            "\r445it [00:56,  6.45it/s]"
          ]
        },
        {
          "output_type": "stream",
          "name": "stdout",
          "text": [
            "1/1 [==============================] - 0s 93ms/step\n"
          ]
        },
        {
          "output_type": "stream",
          "name": "stderr",
          "text": [
            "\r446it [00:57,  6.36it/s]"
          ]
        },
        {
          "output_type": "stream",
          "name": "stdout",
          "text": [
            "1/1 [==============================] - 0s 92ms/step\n"
          ]
        },
        {
          "output_type": "stream",
          "name": "stderr",
          "text": [
            "\r447it [00:57,  6.42it/s]"
          ]
        },
        {
          "output_type": "stream",
          "name": "stdout",
          "text": [
            "1/1 [==============================] - 0s 93ms/step\n"
          ]
        },
        {
          "output_type": "stream",
          "name": "stderr",
          "text": [
            "\r448it [00:57,  6.28it/s]"
          ]
        },
        {
          "output_type": "stream",
          "name": "stdout",
          "text": [
            "1/1 [==============================] - 0s 103ms/step\n"
          ]
        },
        {
          "output_type": "stream",
          "name": "stderr",
          "text": [
            "\r449it [00:57,  6.25it/s]"
          ]
        },
        {
          "output_type": "stream",
          "name": "stdout",
          "text": [
            "1/1 [==============================] - 0s 96ms/step\n"
          ]
        },
        {
          "output_type": "stream",
          "name": "stderr",
          "text": [
            "\r450it [00:57,  6.31it/s]"
          ]
        },
        {
          "output_type": "stream",
          "name": "stdout",
          "text": [
            "1/1 [==============================] - 0s 94ms/step\n"
          ]
        },
        {
          "output_type": "stream",
          "name": "stderr",
          "text": [
            "\r451it [00:57,  6.46it/s]"
          ]
        },
        {
          "output_type": "stream",
          "name": "stdout",
          "text": [
            "1/1 [==============================] - 0s 95ms/step\n"
          ]
        },
        {
          "output_type": "stream",
          "name": "stderr",
          "text": [
            "\r452it [00:58,  6.30it/s]"
          ]
        },
        {
          "output_type": "stream",
          "name": "stdout",
          "text": [
            "1/1 [==============================] - 0s 93ms/step\n"
          ]
        },
        {
          "output_type": "stream",
          "name": "stderr",
          "text": [
            "\r453it [00:58,  6.39it/s]"
          ]
        },
        {
          "output_type": "stream",
          "name": "stdout",
          "text": [
            "1/1 [==============================] - 0s 93ms/step\n"
          ]
        },
        {
          "output_type": "stream",
          "name": "stderr",
          "text": [
            "\r454it [00:58,  6.53it/s]"
          ]
        },
        {
          "output_type": "stream",
          "name": "stdout",
          "text": [
            "1/1 [==============================] - 0s 93ms/step\n"
          ]
        },
        {
          "output_type": "stream",
          "name": "stderr",
          "text": [
            "\r455it [00:58,  6.49it/s]"
          ]
        },
        {
          "output_type": "stream",
          "name": "stdout",
          "text": [
            "1/1 [==============================] - 0s 100ms/step\n"
          ]
        },
        {
          "output_type": "stream",
          "name": "stderr",
          "text": [
            "\r456it [00:58,  6.34it/s]"
          ]
        },
        {
          "output_type": "stream",
          "name": "stdout",
          "text": [
            "1/1 [==============================] - 0s 92ms/step\n"
          ]
        },
        {
          "output_type": "stream",
          "name": "stderr",
          "text": [
            "\r457it [00:58,  6.37it/s]"
          ]
        },
        {
          "output_type": "stream",
          "name": "stdout",
          "text": [
            "1/1 [==============================] - 0s 103ms/step\n"
          ]
        },
        {
          "output_type": "stream",
          "name": "stderr",
          "text": [
            "\r458it [00:58,  6.35it/s]"
          ]
        },
        {
          "output_type": "stream",
          "name": "stdout",
          "text": [
            "1/1 [==============================] - 0s 93ms/step\n"
          ]
        },
        {
          "output_type": "stream",
          "name": "stderr",
          "text": [
            "\r459it [00:59,  5.72it/s]"
          ]
        },
        {
          "output_type": "stream",
          "name": "stdout",
          "text": [
            "1/1 [==============================] - 0s 92ms/step\n"
          ]
        },
        {
          "output_type": "stream",
          "name": "stderr",
          "text": [
            "\r460it [00:59,  6.02it/s]"
          ]
        },
        {
          "output_type": "stream",
          "name": "stdout",
          "text": [
            "1/1 [==============================] - 0s 97ms/step\n"
          ]
        },
        {
          "output_type": "stream",
          "name": "stderr",
          "text": [
            "\r461it [00:59,  6.04it/s]"
          ]
        },
        {
          "output_type": "stream",
          "name": "stdout",
          "text": [
            "1/1 [==============================] - 0s 95ms/step\n"
          ]
        },
        {
          "output_type": "stream",
          "name": "stderr",
          "text": [
            "\r462it [00:59,  6.10it/s]"
          ]
        },
        {
          "output_type": "stream",
          "name": "stdout",
          "text": [
            "1/1 [==============================] - 0s 93ms/step\n"
          ]
        },
        {
          "output_type": "stream",
          "name": "stderr",
          "text": [
            "\r463it [00:59,  6.27it/s]"
          ]
        },
        {
          "output_type": "stream",
          "name": "stdout",
          "text": [
            "1/1 [==============================] - 0s 94ms/step\n"
          ]
        },
        {
          "output_type": "stream",
          "name": "stderr",
          "text": [
            "\r464it [00:59,  6.23it/s]"
          ]
        },
        {
          "output_type": "stream",
          "name": "stdout",
          "text": [
            "1/1 [==============================] - 0s 95ms/step\n"
          ]
        },
        {
          "output_type": "stream",
          "name": "stderr",
          "text": [
            "\r465it [01:00,  6.12it/s]"
          ]
        },
        {
          "output_type": "stream",
          "name": "stdout",
          "text": [
            "1/1 [==============================] - 0s 100ms/step\n"
          ]
        },
        {
          "output_type": "stream",
          "name": "stderr",
          "text": [
            "\r466it [01:00,  6.10it/s]"
          ]
        },
        {
          "output_type": "stream",
          "name": "stdout",
          "text": [
            "1/1 [==============================] - 0s 96ms/step\n"
          ]
        },
        {
          "output_type": "stream",
          "name": "stderr",
          "text": [
            "\r467it [01:00,  6.08it/s]"
          ]
        },
        {
          "output_type": "stream",
          "name": "stdout",
          "text": [
            "1/1 [==============================] - 0s 92ms/step\n"
          ]
        },
        {
          "output_type": "stream",
          "name": "stderr",
          "text": [
            "\r468it [01:00,  6.32it/s]"
          ]
        },
        {
          "output_type": "stream",
          "name": "stdout",
          "text": [
            "1/1 [==============================] - 0s 100ms/step\n"
          ]
        },
        {
          "output_type": "stream",
          "name": "stderr",
          "text": [
            "\r469it [01:00,  6.27it/s]"
          ]
        },
        {
          "output_type": "stream",
          "name": "stdout",
          "text": [
            "1/1 [==============================] - 0s 97ms/step\n"
          ]
        },
        {
          "output_type": "stream",
          "name": "stderr",
          "text": [
            "\r470it [01:00,  6.39it/s]"
          ]
        },
        {
          "output_type": "stream",
          "name": "stdout",
          "text": [
            "1/1 [==============================] - 0s 105ms/step\n"
          ]
        },
        {
          "output_type": "stream",
          "name": "stderr",
          "text": [
            "\r471it [01:01,  6.32it/s]"
          ]
        },
        {
          "output_type": "stream",
          "name": "stdout",
          "text": [
            "1/1 [==============================] - 0s 92ms/step\n"
          ]
        },
        {
          "output_type": "stream",
          "name": "stderr",
          "text": [
            "\r472it [01:01,  6.40it/s]"
          ]
        },
        {
          "output_type": "stream",
          "name": "stdout",
          "text": [
            "1/1 [==============================] - 0s 103ms/step\n"
          ]
        },
        {
          "output_type": "stream",
          "name": "stderr",
          "text": [
            "\r473it [01:01,  6.21it/s]"
          ]
        },
        {
          "output_type": "stream",
          "name": "stdout",
          "text": [
            "1/1 [==============================] - 0s 101ms/step\n"
          ]
        },
        {
          "output_type": "stream",
          "name": "stderr",
          "text": [
            "\r474it [01:01,  6.11it/s]"
          ]
        },
        {
          "output_type": "stream",
          "name": "stdout",
          "text": [
            "1/1 [==============================] - 0s 96ms/step\n"
          ]
        },
        {
          "output_type": "stream",
          "name": "stderr",
          "text": [
            "\r475it [01:01,  6.16it/s]"
          ]
        },
        {
          "output_type": "stream",
          "name": "stdout",
          "text": [
            "1/1 [==============================] - 0s 94ms/step\n"
          ]
        },
        {
          "output_type": "stream",
          "name": "stderr",
          "text": [
            "\r476it [01:01,  6.16it/s]"
          ]
        },
        {
          "output_type": "stream",
          "name": "stdout",
          "text": [
            "1/1 [==============================] - 0s 105ms/step\n"
          ]
        },
        {
          "output_type": "stream",
          "name": "stderr",
          "text": [
            "\r477it [01:02,  6.15it/s]"
          ]
        },
        {
          "output_type": "stream",
          "name": "stdout",
          "text": [
            "1/1 [==============================] - 0s 90ms/step\n"
          ]
        },
        {
          "output_type": "stream",
          "name": "stderr",
          "text": [
            "\r478it [01:02,  6.31it/s]"
          ]
        },
        {
          "output_type": "stream",
          "name": "stdout",
          "text": [
            "1/1 [==============================] - 0s 93ms/step\n"
          ]
        },
        {
          "output_type": "stream",
          "name": "stderr",
          "text": [
            "\r479it [01:02,  6.40it/s]"
          ]
        },
        {
          "output_type": "stream",
          "name": "stdout",
          "text": [
            "1/1 [==============================] - 0s 95ms/step\n"
          ]
        },
        {
          "output_type": "stream",
          "name": "stderr",
          "text": [
            "\r480it [01:02,  6.39it/s]"
          ]
        },
        {
          "output_type": "stream",
          "name": "stdout",
          "text": [
            "1/1 [==============================] - 0s 90ms/step\n"
          ]
        },
        {
          "output_type": "stream",
          "name": "stderr",
          "text": [
            "\r481it [01:02,  6.49it/s]"
          ]
        },
        {
          "output_type": "stream",
          "name": "stdout",
          "text": [
            "1/1 [==============================] - 0s 94ms/step\n"
          ]
        },
        {
          "output_type": "stream",
          "name": "stderr",
          "text": [
            "\r482it [01:02,  6.47it/s]"
          ]
        },
        {
          "output_type": "stream",
          "name": "stdout",
          "text": [
            "1/1 [==============================] - 0s 92ms/step\n"
          ]
        },
        {
          "output_type": "stream",
          "name": "stderr",
          "text": [
            "\r483it [01:02,  6.41it/s]"
          ]
        },
        {
          "output_type": "stream",
          "name": "stdout",
          "text": [
            "1/1 [==============================] - 0s 107ms/step\n"
          ]
        },
        {
          "output_type": "stream",
          "name": "stderr",
          "text": [
            "\r484it [01:03,  6.33it/s]"
          ]
        },
        {
          "output_type": "stream",
          "name": "stdout",
          "text": [
            "1/1 [==============================] - 0s 98ms/step\n"
          ]
        },
        {
          "output_type": "stream",
          "name": "stderr",
          "text": [
            "\r485it [01:03,  6.31it/s]"
          ]
        },
        {
          "output_type": "stream",
          "name": "stdout",
          "text": [
            "1/1 [==============================] - 0s 102ms/step\n"
          ]
        },
        {
          "output_type": "stream",
          "name": "stderr",
          "text": [
            "\r486it [01:03,  6.22it/s]"
          ]
        },
        {
          "output_type": "stream",
          "name": "stdout",
          "text": [
            "1/1 [==============================] - 0s 93ms/step\n"
          ]
        },
        {
          "output_type": "stream",
          "name": "stderr",
          "text": [
            "\r487it [01:03,  6.34it/s]"
          ]
        },
        {
          "output_type": "stream",
          "name": "stdout",
          "text": [
            "1/1 [==============================] - 0s 95ms/step\n"
          ]
        },
        {
          "output_type": "stream",
          "name": "stderr",
          "text": [
            "\r488it [01:03,  6.45it/s]"
          ]
        },
        {
          "output_type": "stream",
          "name": "stdout",
          "text": [
            "1/1 [==============================] - 0s 97ms/step\n"
          ]
        },
        {
          "output_type": "stream",
          "name": "stderr",
          "text": [
            "\r489it [01:03,  6.48it/s]"
          ]
        },
        {
          "output_type": "stream",
          "name": "stdout",
          "text": [
            "1/1 [==============================] - 0s 99ms/step\n"
          ]
        },
        {
          "output_type": "stream",
          "name": "stderr",
          "text": [
            "\r490it [01:04,  6.38it/s]"
          ]
        },
        {
          "output_type": "stream",
          "name": "stdout",
          "text": [
            "1/1 [==============================] - 0s 111ms/step\n"
          ]
        },
        {
          "output_type": "stream",
          "name": "stderr",
          "text": [
            "\r491it [01:04,  6.09it/s]"
          ]
        },
        {
          "output_type": "stream",
          "name": "stdout",
          "text": [
            "1/1 [==============================] - 0s 103ms/step\n"
          ]
        },
        {
          "output_type": "stream",
          "name": "stderr",
          "text": [
            "\r492it [01:04,  6.04it/s]"
          ]
        },
        {
          "output_type": "stream",
          "name": "stdout",
          "text": [
            "1/1 [==============================] - 0s 139ms/step\n"
          ]
        },
        {
          "output_type": "stream",
          "name": "stderr",
          "text": [
            "\r493it [01:04,  5.74it/s]"
          ]
        },
        {
          "output_type": "stream",
          "name": "stdout",
          "text": [
            "1/1 [==============================] - 0s 155ms/step\n"
          ]
        },
        {
          "output_type": "stream",
          "name": "stderr",
          "text": [
            "\r494it [01:04,  5.27it/s]"
          ]
        },
        {
          "output_type": "stream",
          "name": "stdout",
          "text": [
            "1/1 [==============================] - 0s 157ms/step\n"
          ]
        },
        {
          "output_type": "stream",
          "name": "stderr",
          "text": [
            "\r495it [01:05,  4.86it/s]"
          ]
        },
        {
          "output_type": "stream",
          "name": "stdout",
          "text": [
            "1/1 [==============================] - 0s 157ms/step\n"
          ]
        },
        {
          "output_type": "stream",
          "name": "stderr",
          "text": [
            "\r496it [01:05,  4.62it/s]"
          ]
        },
        {
          "output_type": "stream",
          "name": "stdout",
          "text": [
            "1/1 [==============================] - 0s 154ms/step\n"
          ]
        },
        {
          "output_type": "stream",
          "name": "stderr",
          "text": [
            "\r497it [01:05,  4.54it/s]"
          ]
        },
        {
          "output_type": "stream",
          "name": "stdout",
          "text": [
            "1/1 [==============================] - 0s 153ms/step\n"
          ]
        },
        {
          "output_type": "stream",
          "name": "stderr",
          "text": [
            "\r498it [01:05,  4.44it/s]"
          ]
        },
        {
          "output_type": "stream",
          "name": "stdout",
          "text": [
            "1/1 [==============================] - 0s 156ms/step\n"
          ]
        },
        {
          "output_type": "stream",
          "name": "stderr",
          "text": [
            "\r499it [01:06,  4.43it/s]"
          ]
        },
        {
          "output_type": "stream",
          "name": "stdout",
          "text": [
            "1/1 [==============================] - 0s 171ms/step\n"
          ]
        },
        {
          "output_type": "stream",
          "name": "stderr",
          "text": [
            "\r500it [01:06,  4.22it/s]"
          ]
        },
        {
          "output_type": "stream",
          "name": "stdout",
          "text": [
            "1/1 [==============================] - 0s 161ms/step\n"
          ]
        },
        {
          "output_type": "stream",
          "name": "stderr",
          "text": [
            "\r501it [01:06,  4.12it/s]"
          ]
        },
        {
          "output_type": "stream",
          "name": "stdout",
          "text": [
            "1/1 [==============================] - 0s 98ms/step\n"
          ]
        },
        {
          "output_type": "stream",
          "name": "stderr",
          "text": [
            "\r502it [01:06,  4.57it/s]"
          ]
        },
        {
          "output_type": "stream",
          "name": "stdout",
          "text": [
            "1/1 [==============================] - 0s 93ms/step\n"
          ]
        },
        {
          "output_type": "stream",
          "name": "stderr",
          "text": [
            "\r503it [01:06,  4.96it/s]"
          ]
        },
        {
          "output_type": "stream",
          "name": "stdout",
          "text": [
            "1/1 [==============================] - 0s 102ms/step\n"
          ]
        },
        {
          "output_type": "stream",
          "name": "stderr",
          "text": [
            "\r504it [01:07,  5.26it/s]"
          ]
        },
        {
          "output_type": "stream",
          "name": "stdout",
          "text": [
            "1/1 [==============================] - 0s 105ms/step\n"
          ]
        },
        {
          "output_type": "stream",
          "name": "stderr",
          "text": [
            "\r505it [01:07,  5.53it/s]"
          ]
        },
        {
          "output_type": "stream",
          "name": "stdout",
          "text": [
            "1/1 [==============================] - 0s 96ms/step\n"
          ]
        },
        {
          "output_type": "stream",
          "name": "stderr",
          "text": [
            "\r506it [01:07,  5.72it/s]"
          ]
        },
        {
          "output_type": "stream",
          "name": "stdout",
          "text": [
            "1/1 [==============================] - 0s 94ms/step\n"
          ]
        },
        {
          "output_type": "stream",
          "name": "stderr",
          "text": [
            "\r507it [01:07,  5.83it/s]"
          ]
        },
        {
          "output_type": "stream",
          "name": "stdout",
          "text": [
            "1/1 [==============================] - 0s 91ms/step\n"
          ]
        },
        {
          "output_type": "stream",
          "name": "stderr",
          "text": [
            "\r508it [01:07,  6.03it/s]"
          ]
        },
        {
          "output_type": "stream",
          "name": "stdout",
          "text": [
            "1/1 [==============================] - 0s 93ms/step\n"
          ]
        },
        {
          "output_type": "stream",
          "name": "stderr",
          "text": [
            "\r509it [01:07,  6.08it/s]"
          ]
        },
        {
          "output_type": "stream",
          "name": "stdout",
          "text": [
            "1/1 [==============================] - 0s 92ms/step\n"
          ]
        },
        {
          "output_type": "stream",
          "name": "stderr",
          "text": [
            "\r510it [01:07,  6.22it/s]"
          ]
        },
        {
          "output_type": "stream",
          "name": "stdout",
          "text": [
            "1/1 [==============================] - 0s 93ms/step\n"
          ]
        },
        {
          "output_type": "stream",
          "name": "stderr",
          "text": [
            "\r511it [01:08,  6.23it/s]"
          ]
        },
        {
          "output_type": "stream",
          "name": "stdout",
          "text": [
            "1/1 [==============================] - 0s 106ms/step\n"
          ]
        },
        {
          "output_type": "stream",
          "name": "stderr",
          "text": [
            "\r512it [01:08,  6.22it/s]"
          ]
        },
        {
          "output_type": "stream",
          "name": "stdout",
          "text": [
            "1/1 [==============================] - 0s 94ms/step\n"
          ]
        },
        {
          "output_type": "stream",
          "name": "stderr",
          "text": [
            "\r513it [01:08,  6.30it/s]"
          ]
        },
        {
          "output_type": "stream",
          "name": "stdout",
          "text": [
            "1/1 [==============================] - 0s 97ms/step\n"
          ]
        },
        {
          "output_type": "stream",
          "name": "stderr",
          "text": [
            "\r514it [01:08,  6.35it/s]"
          ]
        },
        {
          "output_type": "stream",
          "name": "stdout",
          "text": [
            "1/1 [==============================] - 0s 98ms/step\n"
          ]
        },
        {
          "output_type": "stream",
          "name": "stderr",
          "text": [
            "\r515it [01:08,  6.36it/s]"
          ]
        },
        {
          "output_type": "stream",
          "name": "stdout",
          "text": [
            "1/1 [==============================] - 0s 96ms/step\n"
          ]
        },
        {
          "output_type": "stream",
          "name": "stderr",
          "text": [
            "\r516it [01:08,  6.26it/s]"
          ]
        },
        {
          "output_type": "stream",
          "name": "stdout",
          "text": [
            "1/1 [==============================] - 0s 97ms/step\n"
          ]
        },
        {
          "output_type": "stream",
          "name": "stderr",
          "text": [
            "\r517it [01:09,  6.34it/s]"
          ]
        },
        {
          "output_type": "stream",
          "name": "stdout",
          "text": [
            "1/1 [==============================] - 0s 93ms/step\n"
          ]
        },
        {
          "output_type": "stream",
          "name": "stderr",
          "text": [
            "\r518it [01:09,  6.34it/s]"
          ]
        },
        {
          "output_type": "stream",
          "name": "stdout",
          "text": [
            "1/1 [==============================] - 0s 109ms/step\n"
          ]
        },
        {
          "output_type": "stream",
          "name": "stderr",
          "text": [
            "\r519it [01:09,  6.12it/s]"
          ]
        },
        {
          "output_type": "stream",
          "name": "stdout",
          "text": [
            "1/1 [==============================] - 0s 93ms/step\n"
          ]
        },
        {
          "output_type": "stream",
          "name": "stderr",
          "text": [
            "\r520it [01:09,  6.16it/s]"
          ]
        },
        {
          "output_type": "stream",
          "name": "stdout",
          "text": [
            "1/1 [==============================] - 0s 101ms/step\n"
          ]
        },
        {
          "output_type": "stream",
          "name": "stderr",
          "text": [
            "\r521it [01:09,  6.12it/s]"
          ]
        },
        {
          "output_type": "stream",
          "name": "stdout",
          "text": [
            "1/1 [==============================] - 0s 94ms/step\n"
          ]
        },
        {
          "output_type": "stream",
          "name": "stderr",
          "text": [
            "\r522it [01:09,  6.17it/s]"
          ]
        },
        {
          "output_type": "stream",
          "name": "stdout",
          "text": [
            "1/1 [==============================] - 0s 95ms/step\n"
          ]
        },
        {
          "output_type": "stream",
          "name": "stderr",
          "text": [
            "\r523it [01:10,  5.85it/s]"
          ]
        },
        {
          "output_type": "stream",
          "name": "stdout",
          "text": [
            "1/1 [==============================] - 0s 100ms/step\n"
          ]
        },
        {
          "output_type": "stream",
          "name": "stderr",
          "text": [
            "\r524it [01:10,  5.79it/s]"
          ]
        },
        {
          "output_type": "stream",
          "name": "stdout",
          "text": [
            "1/1 [==============================] - 0s 97ms/step\n"
          ]
        },
        {
          "output_type": "stream",
          "name": "stderr",
          "text": [
            "\r525it [01:10,  5.87it/s]"
          ]
        },
        {
          "output_type": "stream",
          "name": "stdout",
          "text": [
            "1/1 [==============================] - 0s 96ms/step\n"
          ]
        },
        {
          "output_type": "stream",
          "name": "stderr",
          "text": [
            "\r526it [01:10,  5.92it/s]"
          ]
        },
        {
          "output_type": "stream",
          "name": "stdout",
          "text": [
            "1/1 [==============================] - 0s 94ms/step\n"
          ]
        },
        {
          "output_type": "stream",
          "name": "stderr",
          "text": [
            "\r527it [01:10,  6.08it/s]"
          ]
        },
        {
          "output_type": "stream",
          "name": "stdout",
          "text": [
            "1/1 [==============================] - 0s 99ms/step\n"
          ]
        },
        {
          "output_type": "stream",
          "name": "stderr",
          "text": [
            "\r528it [01:10,  6.12it/s]"
          ]
        },
        {
          "output_type": "stream",
          "name": "stdout",
          "text": [
            "1/1 [==============================] - 0s 95ms/step\n"
          ]
        },
        {
          "output_type": "stream",
          "name": "stderr",
          "text": [
            "\r529it [01:11,  6.19it/s]"
          ]
        },
        {
          "output_type": "stream",
          "name": "stdout",
          "text": [
            "1/1 [==============================] - 0s 91ms/step\n"
          ]
        },
        {
          "output_type": "stream",
          "name": "stderr",
          "text": [
            "\r530it [01:11,  6.27it/s]"
          ]
        },
        {
          "output_type": "stream",
          "name": "stdout",
          "text": [
            "1/1 [==============================] - 0s 104ms/step\n"
          ]
        },
        {
          "output_type": "stream",
          "name": "stderr",
          "text": [
            "\r531it [01:11,  6.21it/s]"
          ]
        },
        {
          "output_type": "stream",
          "name": "stdout",
          "text": [
            "1/1 [==============================] - 0s 91ms/step\n"
          ]
        },
        {
          "output_type": "stream",
          "name": "stderr",
          "text": [
            "\r532it [01:11,  6.26it/s]"
          ]
        },
        {
          "output_type": "stream",
          "name": "stdout",
          "text": [
            "1/1 [==============================] - 0s 106ms/step\n"
          ]
        },
        {
          "output_type": "stream",
          "name": "stderr",
          "text": [
            "\r533it [01:11,  6.05it/s]"
          ]
        },
        {
          "output_type": "stream",
          "name": "stdout",
          "text": [
            "1/1 [==============================] - 0s 101ms/step\n"
          ]
        },
        {
          "output_type": "stream",
          "name": "stderr",
          "text": [
            "\r534it [01:11,  6.13it/s]"
          ]
        },
        {
          "output_type": "stream",
          "name": "stdout",
          "text": [
            "1/1 [==============================] - 0s 100ms/step\n"
          ]
        },
        {
          "output_type": "stream",
          "name": "stderr",
          "text": [
            "\r535it [01:12,  6.06it/s]"
          ]
        },
        {
          "output_type": "stream",
          "name": "stdout",
          "text": [
            "1/1 [==============================] - 0s 98ms/step\n"
          ]
        },
        {
          "output_type": "stream",
          "name": "stderr",
          "text": [
            "\r536it [01:12,  6.05it/s]"
          ]
        },
        {
          "output_type": "stream",
          "name": "stdout",
          "text": [
            "1/1 [==============================] - 0s 104ms/step\n"
          ]
        },
        {
          "output_type": "stream",
          "name": "stderr",
          "text": [
            "\r537it [01:12,  6.05it/s]"
          ]
        },
        {
          "output_type": "stream",
          "name": "stdout",
          "text": [
            "1/1 [==============================] - 0s 96ms/step\n"
          ]
        },
        {
          "output_type": "stream",
          "name": "stderr",
          "text": [
            "\r538it [01:12,  6.03it/s]"
          ]
        },
        {
          "output_type": "stream",
          "name": "stdout",
          "text": [
            "1/1 [==============================] - 0s 97ms/step\n"
          ]
        },
        {
          "output_type": "stream",
          "name": "stderr",
          "text": [
            "\r539it [01:12,  6.15it/s]"
          ]
        },
        {
          "output_type": "stream",
          "name": "stdout",
          "text": [
            "1/1 [==============================] - 0s 95ms/step\n"
          ]
        },
        {
          "output_type": "stream",
          "name": "stderr",
          "text": [
            "\r540it [01:12,  6.24it/s]"
          ]
        },
        {
          "output_type": "stream",
          "name": "stdout",
          "text": [
            "1/1 [==============================] - 0s 93ms/step\n"
          ]
        },
        {
          "output_type": "stream",
          "name": "stderr",
          "text": [
            "\r541it [01:13,  6.33it/s]"
          ]
        },
        {
          "output_type": "stream",
          "name": "stdout",
          "text": [
            "1/1 [==============================] - 0s 111ms/step\n"
          ]
        },
        {
          "output_type": "stream",
          "name": "stderr",
          "text": [
            "\r542it [01:13,  6.12it/s]"
          ]
        },
        {
          "output_type": "stream",
          "name": "stdout",
          "text": [
            "1/1 [==============================] - 0s 97ms/step\n"
          ]
        },
        {
          "output_type": "stream",
          "name": "stderr",
          "text": [
            "\r543it [01:13,  6.06it/s]"
          ]
        },
        {
          "output_type": "stream",
          "name": "stdout",
          "text": [
            "1/1 [==============================] - 0s 100ms/step\n"
          ]
        },
        {
          "output_type": "stream",
          "name": "stderr",
          "text": [
            "\r544it [01:13,  5.91it/s]"
          ]
        },
        {
          "output_type": "stream",
          "name": "stdout",
          "text": [
            "1/1 [==============================] - 0s 102ms/step\n"
          ]
        },
        {
          "output_type": "stream",
          "name": "stderr",
          "text": [
            "\r545it [01:13,  5.89it/s]"
          ]
        },
        {
          "output_type": "stream",
          "name": "stdout",
          "text": [
            "1/1 [==============================] - 0s 102ms/step\n"
          ]
        },
        {
          "output_type": "stream",
          "name": "stderr",
          "text": [
            "\r546it [01:13,  5.96it/s]"
          ]
        },
        {
          "output_type": "stream",
          "name": "stdout",
          "text": [
            "1/1 [==============================] - 0s 98ms/step\n"
          ]
        },
        {
          "output_type": "stream",
          "name": "stderr",
          "text": [
            "\r547it [01:14,  6.01it/s]"
          ]
        },
        {
          "output_type": "stream",
          "name": "stdout",
          "text": [
            "1/1 [==============================] - 0s 93ms/step\n"
          ]
        },
        {
          "output_type": "stream",
          "name": "stderr",
          "text": [
            "\r548it [01:14,  6.11it/s]"
          ]
        },
        {
          "output_type": "stream",
          "name": "stdout",
          "text": [
            "1/1 [==============================] - 0s 96ms/step\n"
          ]
        },
        {
          "output_type": "stream",
          "name": "stderr",
          "text": [
            "\r549it [01:14,  6.09it/s]"
          ]
        },
        {
          "output_type": "stream",
          "name": "stdout",
          "text": [
            "1/1 [==============================] - 0s 106ms/step\n"
          ]
        },
        {
          "output_type": "stream",
          "name": "stderr",
          "text": [
            "\r550it [01:14,  5.83it/s]"
          ]
        },
        {
          "output_type": "stream",
          "name": "stdout",
          "text": [
            "1/1 [==============================] - 0s 98ms/step\n"
          ]
        },
        {
          "output_type": "stream",
          "name": "stderr",
          "text": [
            "\r551it [01:14,  5.96it/s]"
          ]
        },
        {
          "output_type": "stream",
          "name": "stdout",
          "text": [
            "1/1 [==============================] - 0s 100ms/step\n"
          ]
        },
        {
          "output_type": "stream",
          "name": "stderr",
          "text": [
            "\r552it [01:14,  6.09it/s]"
          ]
        },
        {
          "output_type": "stream",
          "name": "stdout",
          "text": [
            "1/1 [==============================] - 0s 96ms/step\n"
          ]
        },
        {
          "output_type": "stream",
          "name": "stderr",
          "text": [
            "\r553it [01:15,  6.03it/s]"
          ]
        },
        {
          "output_type": "stream",
          "name": "stdout",
          "text": [
            "1/1 [==============================] - 0s 103ms/step\n"
          ]
        },
        {
          "output_type": "stream",
          "name": "stderr",
          "text": [
            "\r554it [01:15,  5.97it/s]"
          ]
        },
        {
          "output_type": "stream",
          "name": "stdout",
          "text": [
            "1/1 [==============================] - 0s 97ms/step\n"
          ]
        },
        {
          "output_type": "stream",
          "name": "stderr",
          "text": [
            "\r555it [01:15,  6.02it/s]"
          ]
        },
        {
          "output_type": "stream",
          "name": "stdout",
          "text": [
            "1/1 [==============================] - 0s 103ms/step\n"
          ]
        },
        {
          "output_type": "stream",
          "name": "stderr",
          "text": [
            "\r556it [01:15,  5.72it/s]"
          ]
        },
        {
          "output_type": "stream",
          "name": "stdout",
          "text": [
            "1/1 [==============================] - 0s 95ms/step\n"
          ]
        },
        {
          "output_type": "stream",
          "name": "stderr",
          "text": [
            "\r557it [01:15,  5.82it/s]"
          ]
        },
        {
          "output_type": "stream",
          "name": "stdout",
          "text": [
            "1/1 [==============================] - 0s 99ms/step\n"
          ]
        },
        {
          "output_type": "stream",
          "name": "stderr",
          "text": [
            "\r558it [01:15,  5.97it/s]"
          ]
        },
        {
          "output_type": "stream",
          "name": "stdout",
          "text": [
            "1/1 [==============================] - 0s 95ms/step\n"
          ]
        },
        {
          "output_type": "stream",
          "name": "stderr",
          "text": [
            "\r559it [01:16,  6.14it/s]"
          ]
        },
        {
          "output_type": "stream",
          "name": "stdout",
          "text": [
            "1/1 [==============================] - 0s 93ms/step\n"
          ]
        },
        {
          "output_type": "stream",
          "name": "stderr",
          "text": [
            "\r560it [01:16,  6.11it/s]"
          ]
        },
        {
          "output_type": "stream",
          "name": "stdout",
          "text": [
            "1/1 [==============================] - 0s 94ms/step\n"
          ]
        },
        {
          "output_type": "stream",
          "name": "stderr",
          "text": [
            "\r561it [01:16,  6.10it/s]"
          ]
        },
        {
          "output_type": "stream",
          "name": "stdout",
          "text": [
            "1/1 [==============================] - 0s 116ms/step\n"
          ]
        },
        {
          "output_type": "stream",
          "name": "stderr",
          "text": [
            "\r562it [01:16,  5.83it/s]"
          ]
        },
        {
          "output_type": "stream",
          "name": "stdout",
          "text": [
            "1/1 [==============================] - 0s 144ms/step\n"
          ]
        },
        {
          "output_type": "stream",
          "name": "stderr",
          "text": [
            "\r563it [01:16,  5.27it/s]"
          ]
        },
        {
          "output_type": "stream",
          "name": "stdout",
          "text": [
            "1/1 [==============================] - 0s 161ms/step\n"
          ]
        },
        {
          "output_type": "stream",
          "name": "stderr",
          "text": [
            "\r564it [01:17,  4.83it/s]"
          ]
        },
        {
          "output_type": "stream",
          "name": "stdout",
          "text": [
            "1/1 [==============================] - 0s 153ms/step\n"
          ]
        },
        {
          "output_type": "stream",
          "name": "stderr",
          "text": [
            "\r565it [01:17,  4.73it/s]"
          ]
        },
        {
          "output_type": "stream",
          "name": "stdout",
          "text": [
            "1/1 [==============================] - 0s 171ms/step\n"
          ]
        },
        {
          "output_type": "stream",
          "name": "stderr",
          "text": [
            "\r566it [01:17,  4.33it/s]"
          ]
        },
        {
          "output_type": "stream",
          "name": "stdout",
          "text": [
            "1/1 [==============================] - 0s 167ms/step\n"
          ]
        },
        {
          "output_type": "stream",
          "name": "stderr",
          "text": [
            "\r567it [01:17,  4.21it/s]"
          ]
        },
        {
          "output_type": "stream",
          "name": "stdout",
          "text": [
            "1/1 [==============================] - 0s 164ms/step\n"
          ]
        },
        {
          "output_type": "stream",
          "name": "stderr",
          "text": [
            "\r568it [01:18,  4.20it/s]"
          ]
        },
        {
          "output_type": "stream",
          "name": "stdout",
          "text": [
            "1/1 [==============================] - 0s 148ms/step\n"
          ]
        },
        {
          "output_type": "stream",
          "name": "stderr",
          "text": [
            "\r569it [01:18,  4.15it/s]"
          ]
        },
        {
          "output_type": "stream",
          "name": "stdout",
          "text": [
            "1/1 [==============================] - 0s 160ms/step\n"
          ]
        },
        {
          "output_type": "stream",
          "name": "stderr",
          "text": [
            "\r570it [01:18,  4.14it/s]"
          ]
        },
        {
          "output_type": "stream",
          "name": "stdout",
          "text": [
            "1/1 [==============================] - 0s 96ms/step\n"
          ]
        },
        {
          "output_type": "stream",
          "name": "stderr",
          "text": [
            "\r571it [01:18,  4.46it/s]"
          ]
        },
        {
          "output_type": "stream",
          "name": "stdout",
          "text": [
            "1/1 [==============================] - 0s 108ms/step\n"
          ]
        },
        {
          "output_type": "stream",
          "name": "stderr",
          "text": [
            "\r572it [01:18,  4.82it/s]"
          ]
        },
        {
          "output_type": "stream",
          "name": "stdout",
          "text": [
            "1/1 [==============================] - 0s 93ms/step\n"
          ]
        },
        {
          "output_type": "stream",
          "name": "stderr",
          "text": [
            "\r573it [01:19,  5.19it/s]"
          ]
        },
        {
          "output_type": "stream",
          "name": "stdout",
          "text": [
            "1/1 [==============================] - 0s 100ms/step\n"
          ]
        },
        {
          "output_type": "stream",
          "name": "stderr",
          "text": [
            "\r574it [01:19,  5.44it/s]"
          ]
        },
        {
          "output_type": "stream",
          "name": "stdout",
          "text": [
            "1/1 [==============================] - 0s 110ms/step\n"
          ]
        },
        {
          "output_type": "stream",
          "name": "stderr",
          "text": [
            "\r575it [01:19,  5.56it/s]"
          ]
        },
        {
          "output_type": "stream",
          "name": "stdout",
          "text": [
            "1/1 [==============================] - 0s 101ms/step\n"
          ]
        },
        {
          "output_type": "stream",
          "name": "stderr",
          "text": [
            "\r576it [01:19,  5.58it/s]"
          ]
        },
        {
          "output_type": "stream",
          "name": "stdout",
          "text": [
            "1/1 [==============================] - 0s 97ms/step\n"
          ]
        },
        {
          "output_type": "stream",
          "name": "stderr",
          "text": [
            "\r577it [01:19,  5.76it/s]"
          ]
        },
        {
          "output_type": "stream",
          "name": "stdout",
          "text": [
            "1/1 [==============================] - 0s 93ms/step\n"
          ]
        },
        {
          "output_type": "stream",
          "name": "stderr",
          "text": [
            "\r578it [01:19,  5.96it/s]"
          ]
        },
        {
          "output_type": "stream",
          "name": "stdout",
          "text": [
            "1/1 [==============================] - 0s 95ms/step\n"
          ]
        },
        {
          "output_type": "stream",
          "name": "stderr",
          "text": [
            "\r579it [01:20,  6.07it/s]"
          ]
        },
        {
          "output_type": "stream",
          "name": "stdout",
          "text": [
            "1/1 [==============================] - 0s 96ms/step\n"
          ]
        },
        {
          "output_type": "stream",
          "name": "stderr",
          "text": [
            "\r580it [01:20,  6.07it/s]"
          ]
        },
        {
          "output_type": "stream",
          "name": "stdout",
          "text": [
            "1/1 [==============================] - 0s 93ms/step\n"
          ]
        },
        {
          "output_type": "stream",
          "name": "stderr",
          "text": [
            "\r581it [01:20,  6.21it/s]"
          ]
        },
        {
          "output_type": "stream",
          "name": "stdout",
          "text": [
            "1/1 [==============================] - 0s 93ms/step\n"
          ]
        },
        {
          "output_type": "stream",
          "name": "stderr",
          "text": [
            "\r582it [01:20,  6.19it/s]"
          ]
        },
        {
          "output_type": "stream",
          "name": "stdout",
          "text": [
            "1/1 [==============================] - 0s 103ms/step\n"
          ]
        },
        {
          "output_type": "stream",
          "name": "stderr",
          "text": [
            "\r583it [01:20,  6.12it/s]"
          ]
        },
        {
          "output_type": "stream",
          "name": "stdout",
          "text": [
            "1/1 [==============================] - 0s 97ms/step\n"
          ]
        },
        {
          "output_type": "stream",
          "name": "stderr",
          "text": [
            "\r584it [01:20,  6.19it/s]"
          ]
        },
        {
          "output_type": "stream",
          "name": "stdout",
          "text": [
            "1/1 [==============================] - 0s 93ms/step\n"
          ]
        },
        {
          "output_type": "stream",
          "name": "stderr",
          "text": [
            "\r585it [01:20,  6.28it/s]"
          ]
        },
        {
          "output_type": "stream",
          "name": "stdout",
          "text": [
            "1/1 [==============================] - 0s 100ms/step\n"
          ]
        },
        {
          "output_type": "stream",
          "name": "stderr",
          "text": [
            "\r586it [01:21,  6.28it/s]"
          ]
        },
        {
          "output_type": "stream",
          "name": "stdout",
          "text": [
            "1/1 [==============================] - 0s 95ms/step\n"
          ]
        },
        {
          "output_type": "stream",
          "name": "stderr",
          "text": [
            "\r587it [01:21,  6.24it/s]"
          ]
        },
        {
          "output_type": "stream",
          "name": "stdout",
          "text": [
            "1/1 [==============================] - 0s 94ms/step\n"
          ]
        },
        {
          "output_type": "stream",
          "name": "stderr",
          "text": [
            "\r588it [01:21,  6.24it/s]"
          ]
        },
        {
          "output_type": "stream",
          "name": "stdout",
          "text": [
            "1/1 [==============================] - 0s 114ms/step\n"
          ]
        },
        {
          "output_type": "stream",
          "name": "stderr",
          "text": [
            "\r589it [01:21,  6.05it/s]"
          ]
        },
        {
          "output_type": "stream",
          "name": "stdout",
          "text": [
            "1/1 [==============================] - 0s 97ms/step\n"
          ]
        },
        {
          "output_type": "stream",
          "name": "stderr",
          "text": [
            "\r590it [01:21,  6.02it/s]"
          ]
        },
        {
          "output_type": "stream",
          "name": "stdout",
          "text": [
            "1/1 [==============================] - 0s 102ms/step\n"
          ]
        },
        {
          "output_type": "stream",
          "name": "stderr",
          "text": [
            "\r591it [01:21,  6.05it/s]"
          ]
        },
        {
          "output_type": "stream",
          "name": "stdout",
          "text": [
            "1/1 [==============================] - 0s 100ms/step\n"
          ]
        },
        {
          "output_type": "stream",
          "name": "stderr",
          "text": [
            "\r592it [01:22,  6.08it/s]"
          ]
        },
        {
          "output_type": "stream",
          "name": "stdout",
          "text": [
            "1/1 [==============================] - 0s 101ms/step\n"
          ]
        },
        {
          "output_type": "stream",
          "name": "stderr",
          "text": [
            "\r593it [01:22,  6.13it/s]"
          ]
        },
        {
          "output_type": "stream",
          "name": "stdout",
          "text": [
            "1/1 [==============================] - 0s 99ms/step\n"
          ]
        },
        {
          "output_type": "stream",
          "name": "stderr",
          "text": [
            "\r594it [01:22,  6.09it/s]"
          ]
        },
        {
          "output_type": "stream",
          "name": "stdout",
          "text": [
            "1/1 [==============================] - 0s 95ms/step\n"
          ]
        },
        {
          "output_type": "stream",
          "name": "stderr",
          "text": [
            "\r595it [01:22,  6.16it/s]"
          ]
        },
        {
          "output_type": "stream",
          "name": "stdout",
          "text": [
            "1/1 [==============================] - 0s 101ms/step\n"
          ]
        },
        {
          "output_type": "stream",
          "name": "stderr",
          "text": [
            "\r596it [01:22,  6.05it/s]"
          ]
        },
        {
          "output_type": "stream",
          "name": "stdout",
          "text": [
            "1/1 [==============================] - 0s 95ms/step\n"
          ]
        },
        {
          "output_type": "stream",
          "name": "stderr",
          "text": [
            "\r597it [01:22,  5.99it/s]"
          ]
        },
        {
          "output_type": "stream",
          "name": "stdout",
          "text": [
            "1/1 [==============================] - 0s 93ms/step\n"
          ]
        },
        {
          "output_type": "stream",
          "name": "stderr",
          "text": [
            "\r598it [01:23,  6.18it/s]"
          ]
        },
        {
          "output_type": "stream",
          "name": "stdout",
          "text": [
            "1/1 [==============================] - 0s 93ms/step\n"
          ]
        },
        {
          "output_type": "stream",
          "name": "stderr",
          "text": [
            "\r599it [01:23,  6.08it/s]"
          ]
        },
        {
          "output_type": "stream",
          "name": "stdout",
          "text": [
            "1/1 [==============================] - 0s 96ms/step\n"
          ]
        },
        {
          "output_type": "stream",
          "name": "stderr",
          "text": [
            "\r600it [01:23,  6.20it/s]"
          ]
        },
        {
          "output_type": "stream",
          "name": "stdout",
          "text": [
            "1/1 [==============================] - 0s 93ms/step\n"
          ]
        },
        {
          "output_type": "stream",
          "name": "stderr",
          "text": [
            "\r601it [01:23,  6.22it/s]"
          ]
        },
        {
          "output_type": "stream",
          "name": "stdout",
          "text": [
            "1/1 [==============================] - 0s 104ms/step\n"
          ]
        },
        {
          "output_type": "stream",
          "name": "stderr",
          "text": [
            "\r602it [01:23,  6.17it/s]"
          ]
        },
        {
          "output_type": "stream",
          "name": "stdout",
          "text": [
            "1/1 [==============================] - 0s 96ms/step\n"
          ]
        },
        {
          "output_type": "stream",
          "name": "stderr",
          "text": [
            "\r603it [01:23,  6.20it/s]"
          ]
        },
        {
          "output_type": "stream",
          "name": "stdout",
          "text": [
            "1/1 [==============================] - 0s 92ms/step\n"
          ]
        },
        {
          "output_type": "stream",
          "name": "stderr",
          "text": [
            "\r604it [01:24,  6.29it/s]"
          ]
        },
        {
          "output_type": "stream",
          "name": "stdout",
          "text": [
            "1/1 [==============================] - 0s 100ms/step\n"
          ]
        },
        {
          "output_type": "stream",
          "name": "stderr",
          "text": [
            "\r605it [01:24,  6.15it/s]"
          ]
        },
        {
          "output_type": "stream",
          "name": "stdout",
          "text": [
            "1/1 [==============================] - 0s 95ms/step\n"
          ]
        },
        {
          "output_type": "stream",
          "name": "stderr",
          "text": [
            "\r606it [01:24,  6.16it/s]"
          ]
        },
        {
          "output_type": "stream",
          "name": "stdout",
          "text": [
            "1/1 [==============================] - 0s 93ms/step\n"
          ]
        },
        {
          "output_type": "stream",
          "name": "stderr",
          "text": [
            "\r607it [01:24,  6.16it/s]"
          ]
        },
        {
          "output_type": "stream",
          "name": "stdout",
          "text": [
            "1/1 [==============================] - 0s 100ms/step\n"
          ]
        },
        {
          "output_type": "stream",
          "name": "stderr",
          "text": [
            "\r608it [01:24,  6.19it/s]"
          ]
        },
        {
          "output_type": "stream",
          "name": "stdout",
          "text": [
            "1/1 [==============================] - 0s 92ms/step\n"
          ]
        },
        {
          "output_type": "stream",
          "name": "stderr",
          "text": [
            "\r609it [01:24,  6.13it/s]"
          ]
        },
        {
          "output_type": "stream",
          "name": "stdout",
          "text": [
            "1/1 [==============================] - 0s 94ms/step\n"
          ]
        },
        {
          "output_type": "stream",
          "name": "stderr",
          "text": [
            "\r610it [01:25,  6.23it/s]"
          ]
        },
        {
          "output_type": "stream",
          "name": "stdout",
          "text": [
            "1/1 [==============================] - 0s 94ms/step\n"
          ]
        },
        {
          "output_type": "stream",
          "name": "stderr",
          "text": [
            "\r611it [01:25,  6.32it/s]"
          ]
        },
        {
          "output_type": "stream",
          "name": "stdout",
          "text": [
            "1/1 [==============================] - 0s 94ms/step\n"
          ]
        },
        {
          "output_type": "stream",
          "name": "stderr",
          "text": [
            "\r612it [01:25,  6.32it/s]"
          ]
        },
        {
          "output_type": "stream",
          "name": "stdout",
          "text": [
            "1/1 [==============================] - 0s 95ms/step\n"
          ]
        },
        {
          "output_type": "stream",
          "name": "stderr",
          "text": [
            "\r613it [01:25,  6.36it/s]"
          ]
        },
        {
          "output_type": "stream",
          "name": "stdout",
          "text": [
            "1/1 [==============================] - 0s 97ms/step\n"
          ]
        },
        {
          "output_type": "stream",
          "name": "stderr",
          "text": [
            "\r614it [01:25,  6.35it/s]"
          ]
        },
        {
          "output_type": "stream",
          "name": "stdout",
          "text": [
            "1/1 [==============================] - 0s 111ms/step\n"
          ]
        },
        {
          "output_type": "stream",
          "name": "stderr",
          "text": [
            "\r615it [01:25,  6.08it/s]"
          ]
        },
        {
          "output_type": "stream",
          "name": "stdout",
          "text": [
            "1/1 [==============================] - 0s 92ms/step\n"
          ]
        },
        {
          "output_type": "stream",
          "name": "stderr",
          "text": [
            "\r616it [01:26,  6.17it/s]"
          ]
        },
        {
          "output_type": "stream",
          "name": "stdout",
          "text": [
            "1/1 [==============================] - 0s 100ms/step\n"
          ]
        },
        {
          "output_type": "stream",
          "name": "stderr",
          "text": [
            "\r617it [01:26,  6.11it/s]"
          ]
        },
        {
          "output_type": "stream",
          "name": "stdout",
          "text": [
            "1/1 [==============================] - 0s 95ms/step\n"
          ]
        },
        {
          "output_type": "stream",
          "name": "stderr",
          "text": [
            "\r618it [01:26,  6.31it/s]"
          ]
        },
        {
          "output_type": "stream",
          "name": "stdout",
          "text": [
            "1/1 [==============================] - 0s 103ms/step\n"
          ]
        },
        {
          "output_type": "stream",
          "name": "stderr",
          "text": [
            "\r619it [01:26,  6.25it/s]"
          ]
        },
        {
          "output_type": "stream",
          "name": "stdout",
          "text": [
            "1/1 [==============================] - 0s 95ms/step\n"
          ]
        },
        {
          "output_type": "stream",
          "name": "stderr",
          "text": [
            "\r620it [01:26,  6.31it/s]"
          ]
        },
        {
          "output_type": "stream",
          "name": "stdout",
          "text": [
            "1/1 [==============================] - 0s 103ms/step\n"
          ]
        },
        {
          "output_type": "stream",
          "name": "stderr",
          "text": [
            "\r621it [01:26,  6.29it/s]"
          ]
        },
        {
          "output_type": "stream",
          "name": "stdout",
          "text": [
            "1/1 [==============================] - 0s 92ms/step\n"
          ]
        },
        {
          "output_type": "stream",
          "name": "stderr",
          "text": [
            "\r622it [01:26,  6.35it/s]"
          ]
        },
        {
          "output_type": "stream",
          "name": "stdout",
          "text": [
            "1/1 [==============================] - 0s 95ms/step\n"
          ]
        },
        {
          "output_type": "stream",
          "name": "stderr",
          "text": [
            "\r623it [01:27,  6.28it/s]"
          ]
        },
        {
          "output_type": "stream",
          "name": "stdout",
          "text": [
            "1/1 [==============================] - 0s 96ms/step\n"
          ]
        },
        {
          "output_type": "stream",
          "name": "stderr",
          "text": [
            "\r624it [01:27,  6.24it/s]"
          ]
        },
        {
          "output_type": "stream",
          "name": "stdout",
          "text": [
            "1/1 [==============================] - 0s 95ms/step\n"
          ]
        },
        {
          "output_type": "stream",
          "name": "stderr",
          "text": [
            "\r625it [01:27,  6.23it/s]"
          ]
        },
        {
          "output_type": "stream",
          "name": "stdout",
          "text": [
            "1/1 [==============================] - 0s 94ms/step\n"
          ]
        },
        {
          "output_type": "stream",
          "name": "stderr",
          "text": [
            "\r626it [01:27,  6.25it/s]"
          ]
        },
        {
          "output_type": "stream",
          "name": "stdout",
          "text": [
            "1/1 [==============================] - 0s 93ms/step\n"
          ]
        },
        {
          "output_type": "stream",
          "name": "stderr",
          "text": [
            "\r627it [01:27,  6.35it/s]"
          ]
        },
        {
          "output_type": "stream",
          "name": "stdout",
          "text": [
            "1/1 [==============================] - 0s 104ms/step\n"
          ]
        },
        {
          "output_type": "stream",
          "name": "stderr",
          "text": [
            "\r628it [01:27,  6.19it/s]"
          ]
        },
        {
          "output_type": "stream",
          "name": "stdout",
          "text": [
            "1/1 [==============================] - 0s 93ms/step\n"
          ]
        },
        {
          "output_type": "stream",
          "name": "stderr",
          "text": [
            "\r629it [01:28,  6.27it/s]"
          ]
        },
        {
          "output_type": "stream",
          "name": "stdout",
          "text": [
            "1/1 [==============================] - 0s 96ms/step\n"
          ]
        },
        {
          "output_type": "stream",
          "name": "stderr",
          "text": [
            "\r630it [01:28,  6.28it/s]"
          ]
        },
        {
          "output_type": "stream",
          "name": "stdout",
          "text": [
            "1/1 [==============================] - 0s 97ms/step\n"
          ]
        },
        {
          "output_type": "stream",
          "name": "stderr",
          "text": [
            "\r631it [01:28,  6.29it/s]"
          ]
        },
        {
          "output_type": "stream",
          "name": "stdout",
          "text": [
            "1/1 [==============================] - 0s 124ms/step\n"
          ]
        },
        {
          "output_type": "stream",
          "name": "stderr",
          "text": [
            "\r632it [01:28,  5.83it/s]"
          ]
        },
        {
          "output_type": "stream",
          "name": "stdout",
          "text": [
            "1/1 [==============================] - 0s 155ms/step\n"
          ]
        },
        {
          "output_type": "stream",
          "name": "stderr",
          "text": [
            "\r633it [01:28,  5.28it/s]"
          ]
        },
        {
          "output_type": "stream",
          "name": "stdout",
          "text": [
            "1/1 [==============================] - 0s 167ms/step\n"
          ]
        },
        {
          "output_type": "stream",
          "name": "stderr",
          "text": [
            "\r634it [01:29,  4.63it/s]"
          ]
        },
        {
          "output_type": "stream",
          "name": "stdout",
          "text": [
            "1/1 [==============================] - 0s 170ms/step\n"
          ]
        },
        {
          "output_type": "stream",
          "name": "stderr",
          "text": [
            "\r635it [01:29,  4.43it/s]"
          ]
        },
        {
          "output_type": "stream",
          "name": "stdout",
          "text": [
            "1/1 [==============================] - 0s 152ms/step\n"
          ]
        },
        {
          "output_type": "stream",
          "name": "stderr",
          "text": [
            "\r636it [01:29,  4.31it/s]"
          ]
        },
        {
          "output_type": "stream",
          "name": "stdout",
          "text": [
            "1/1 [==============================] - 0s 148ms/step\n"
          ]
        },
        {
          "output_type": "stream",
          "name": "stderr",
          "text": [
            "\r637it [01:29,  4.43it/s]"
          ]
        },
        {
          "output_type": "stream",
          "name": "stdout",
          "text": [
            "1/1 [==============================] - 0s 151ms/step\n"
          ]
        },
        {
          "output_type": "stream",
          "name": "stderr",
          "text": [
            "\r638it [01:30,  4.21it/s]"
          ]
        },
        {
          "output_type": "stream",
          "name": "stdout",
          "text": [
            "1/1 [==============================] - 0s 162ms/step\n"
          ]
        },
        {
          "output_type": "stream",
          "name": "stderr",
          "text": [
            "\r639it [01:30,  4.11it/s]"
          ]
        },
        {
          "output_type": "stream",
          "name": "stdout",
          "text": [
            "1/1 [==============================] - 0s 161ms/step\n"
          ]
        },
        {
          "output_type": "stream",
          "name": "stderr",
          "text": [
            "\r640it [01:30,  4.06it/s]"
          ]
        },
        {
          "output_type": "stream",
          "name": "stdout",
          "text": [
            "1/1 [==============================] - 0s 103ms/step\n"
          ]
        },
        {
          "output_type": "stream",
          "name": "stderr",
          "text": [
            "\r641it [01:30,  4.09it/s]"
          ]
        },
        {
          "output_type": "stream",
          "name": "stdout",
          "text": [
            "1/1 [==============================] - 0s 106ms/step\n"
          ]
        },
        {
          "output_type": "stream",
          "name": "stderr",
          "text": [
            "\r642it [01:30,  4.55it/s]"
          ]
        },
        {
          "output_type": "stream",
          "name": "stdout",
          "text": [
            "1/1 [==============================] - 0s 90ms/step\n"
          ]
        },
        {
          "output_type": "stream",
          "name": "stderr",
          "text": [
            "\r643it [01:31,  4.94it/s]"
          ]
        },
        {
          "output_type": "stream",
          "name": "stdout",
          "text": [
            "1/1 [==============================] - 0s 94ms/step\n"
          ]
        },
        {
          "output_type": "stream",
          "name": "stderr",
          "text": [
            "\r644it [01:31,  5.35it/s]"
          ]
        },
        {
          "output_type": "stream",
          "name": "stdout",
          "text": [
            "1/1 [==============================] - 0s 90ms/step\n"
          ]
        },
        {
          "output_type": "stream",
          "name": "stderr",
          "text": [
            "\r645it [01:31,  5.63it/s]"
          ]
        },
        {
          "output_type": "stream",
          "name": "stdout",
          "text": [
            "1/1 [==============================] - 0s 108ms/step\n"
          ]
        },
        {
          "output_type": "stream",
          "name": "stderr",
          "text": [
            "\r646it [01:31,  5.65it/s]"
          ]
        },
        {
          "output_type": "stream",
          "name": "stdout",
          "text": [
            "1/1 [==============================] - 0s 91ms/step\n"
          ]
        },
        {
          "output_type": "stream",
          "name": "stderr",
          "text": [
            "\r647it [01:31,  5.94it/s]"
          ]
        },
        {
          "output_type": "stream",
          "name": "stdout",
          "text": [
            "1/1 [==============================] - 0s 93ms/step\n"
          ]
        },
        {
          "output_type": "stream",
          "name": "stderr",
          "text": [
            "\r648it [01:31,  5.99it/s]"
          ]
        },
        {
          "output_type": "stream",
          "name": "stdout",
          "text": [
            "1/1 [==============================] - 0s 92ms/step\n"
          ]
        },
        {
          "output_type": "stream",
          "name": "stderr",
          "text": [
            "\r649it [01:32,  6.10it/s]"
          ]
        },
        {
          "output_type": "stream",
          "name": "stdout",
          "text": [
            "1/1 [==============================] - 0s 106ms/step\n"
          ]
        },
        {
          "output_type": "stream",
          "name": "stderr",
          "text": [
            "\r650it [01:32,  5.99it/s]"
          ]
        },
        {
          "output_type": "stream",
          "name": "stdout",
          "text": [
            "1/1 [==============================] - 0s 99ms/step\n"
          ]
        },
        {
          "output_type": "stream",
          "name": "stderr",
          "text": [
            "\r651it [01:32,  6.05it/s]"
          ]
        },
        {
          "output_type": "stream",
          "name": "stdout",
          "text": [
            "1/1 [==============================] - 0s 95ms/step\n"
          ]
        },
        {
          "output_type": "stream",
          "name": "stderr",
          "text": [
            "\r652it [01:32,  6.03it/s]"
          ]
        },
        {
          "output_type": "stream",
          "name": "stdout",
          "text": [
            "1/1 [==============================] - 0s 94ms/step\n"
          ]
        },
        {
          "output_type": "stream",
          "name": "stderr",
          "text": [
            "\r653it [01:32,  6.23it/s]"
          ]
        },
        {
          "output_type": "stream",
          "name": "stdout",
          "text": [
            "1/1 [==============================] - 0s 95ms/step\n"
          ]
        },
        {
          "output_type": "stream",
          "name": "stderr",
          "text": [
            "\r654it [01:32,  6.20it/s]"
          ]
        },
        {
          "output_type": "stream",
          "name": "stdout",
          "text": [
            "1/1 [==============================] - 0s 105ms/step\n"
          ]
        },
        {
          "output_type": "stream",
          "name": "stderr",
          "text": [
            "\r655it [01:33,  6.09it/s]"
          ]
        },
        {
          "output_type": "stream",
          "name": "stdout",
          "text": [
            "1/1 [==============================] - 0s 97ms/step\n"
          ]
        },
        {
          "output_type": "stream",
          "name": "stderr",
          "text": [
            "\r656it [01:33,  6.18it/s]"
          ]
        },
        {
          "output_type": "stream",
          "name": "stdout",
          "text": [
            "1/1 [==============================] - 0s 101ms/step\n"
          ]
        },
        {
          "output_type": "stream",
          "name": "stderr",
          "text": [
            "\r657it [01:33,  6.21it/s]"
          ]
        },
        {
          "output_type": "stream",
          "name": "stdout",
          "text": [
            "1/1 [==============================] - 0s 101ms/step\n"
          ]
        },
        {
          "output_type": "stream",
          "name": "stderr",
          "text": [
            "\r658it [01:33,  5.97it/s]"
          ]
        },
        {
          "output_type": "stream",
          "name": "stdout",
          "text": [
            "1/1 [==============================] - 0s 97ms/step\n"
          ]
        },
        {
          "output_type": "stream",
          "name": "stderr",
          "text": [
            "\r659it [01:33,  6.10it/s]"
          ]
        },
        {
          "output_type": "stream",
          "name": "stdout",
          "text": [
            "1/1 [==============================] - 0s 96ms/step\n"
          ]
        },
        {
          "output_type": "stream",
          "name": "stderr",
          "text": [
            "\r660it [01:33,  6.19it/s]"
          ]
        },
        {
          "output_type": "stream",
          "name": "stdout",
          "text": [
            "1/1 [==============================] - 0s 102ms/step\n"
          ]
        },
        {
          "output_type": "stream",
          "name": "stderr",
          "text": [
            "\r661it [01:34,  6.08it/s]"
          ]
        },
        {
          "output_type": "stream",
          "name": "stdout",
          "text": [
            "1/1 [==============================] - 0s 93ms/step\n"
          ]
        },
        {
          "output_type": "stream",
          "name": "stderr",
          "text": [
            "\r662it [01:34,  6.14it/s]"
          ]
        },
        {
          "output_type": "stream",
          "name": "stdout",
          "text": [
            "1/1 [==============================] - 0s 99ms/step\n"
          ]
        },
        {
          "output_type": "stream",
          "name": "stderr",
          "text": [
            "\r663it [01:34,  6.08it/s]"
          ]
        },
        {
          "output_type": "stream",
          "name": "stdout",
          "text": [
            "1/1 [==============================] - 0s 103ms/step\n"
          ]
        },
        {
          "output_type": "stream",
          "name": "stderr",
          "text": [
            "\r664it [01:34,  6.00it/s]"
          ]
        },
        {
          "output_type": "stream",
          "name": "stdout",
          "text": [
            "1/1 [==============================] - 0s 101ms/step\n"
          ]
        },
        {
          "output_type": "stream",
          "name": "stderr",
          "text": [
            "\r665it [01:34,  6.13it/s]"
          ]
        },
        {
          "output_type": "stream",
          "name": "stdout",
          "text": [
            "1/1 [==============================] - 0s 93ms/step\n"
          ]
        },
        {
          "output_type": "stream",
          "name": "stderr",
          "text": [
            "\r666it [01:34,  6.20it/s]"
          ]
        },
        {
          "output_type": "stream",
          "name": "stdout",
          "text": [
            "1/1 [==============================] - 0s 101ms/step\n"
          ]
        },
        {
          "output_type": "stream",
          "name": "stderr",
          "text": [
            "\r667it [01:35,  5.99it/s]"
          ]
        },
        {
          "output_type": "stream",
          "name": "stdout",
          "text": [
            "1/1 [==============================] - 0s 96ms/step\n"
          ]
        },
        {
          "output_type": "stream",
          "name": "stderr",
          "text": [
            "\r668it [01:35,  5.95it/s]"
          ]
        },
        {
          "output_type": "stream",
          "name": "stdout",
          "text": [
            "1/1 [==============================] - 0s 96ms/step\n"
          ]
        },
        {
          "output_type": "stream",
          "name": "stderr",
          "text": [
            "\r669it [01:35,  6.05it/s]"
          ]
        },
        {
          "output_type": "stream",
          "name": "stdout",
          "text": [
            "1/1 [==============================] - 0s 97ms/step\n"
          ]
        },
        {
          "output_type": "stream",
          "name": "stderr",
          "text": [
            "\r670it [01:35,  6.12it/s]"
          ]
        },
        {
          "output_type": "stream",
          "name": "stdout",
          "text": [
            "1/1 [==============================] - 0s 107ms/step\n"
          ]
        },
        {
          "output_type": "stream",
          "name": "stderr",
          "text": [
            "\r671it [01:35,  5.98it/s]"
          ]
        },
        {
          "output_type": "stream",
          "name": "stdout",
          "text": [
            "1/1 [==============================] - 0s 94ms/step\n"
          ]
        },
        {
          "output_type": "stream",
          "name": "stderr",
          "text": [
            "\r672it [01:35,  5.99it/s]"
          ]
        },
        {
          "output_type": "stream",
          "name": "stdout",
          "text": [
            "1/1 [==============================] - 0s 93ms/step\n"
          ]
        },
        {
          "output_type": "stream",
          "name": "stderr",
          "text": [
            "\r673it [01:36,  6.00it/s]"
          ]
        },
        {
          "output_type": "stream",
          "name": "stdout",
          "text": [
            "1/1 [==============================] - 0s 97ms/step\n"
          ]
        },
        {
          "output_type": "stream",
          "name": "stderr",
          "text": [
            "\r674it [01:36,  6.04it/s]"
          ]
        },
        {
          "output_type": "stream",
          "name": "stdout",
          "text": [
            "1/1 [==============================] - 0s 100ms/step\n"
          ]
        },
        {
          "output_type": "stream",
          "name": "stderr",
          "text": [
            "\r675it [01:36,  6.01it/s]"
          ]
        },
        {
          "output_type": "stream",
          "name": "stdout",
          "text": [
            "1/1 [==============================] - 0s 104ms/step\n"
          ]
        },
        {
          "output_type": "stream",
          "name": "stderr",
          "text": [
            "\r676it [01:36,  5.86it/s]"
          ]
        },
        {
          "output_type": "stream",
          "name": "stdout",
          "text": [
            "1/1 [==============================] - 0s 99ms/step\n"
          ]
        },
        {
          "output_type": "stream",
          "name": "stderr",
          "text": [
            "\r677it [01:36,  5.97it/s]"
          ]
        },
        {
          "output_type": "stream",
          "name": "stdout",
          "text": [
            "1/1 [==============================] - 0s 94ms/step\n"
          ]
        },
        {
          "output_type": "stream",
          "name": "stderr",
          "text": [
            "\r678it [01:36,  6.06it/s]"
          ]
        },
        {
          "output_type": "stream",
          "name": "stdout",
          "text": [
            "1/1 [==============================] - 0s 96ms/step\n"
          ]
        },
        {
          "output_type": "stream",
          "name": "stderr",
          "text": [
            "\r679it [01:37,  6.05it/s]"
          ]
        },
        {
          "output_type": "stream",
          "name": "stdout",
          "text": [
            "1/1 [==============================] - 0s 92ms/step\n"
          ]
        },
        {
          "output_type": "stream",
          "name": "stderr",
          "text": [
            "\r680it [01:37,  6.12it/s]"
          ]
        },
        {
          "output_type": "stream",
          "name": "stdout",
          "text": [
            "1/1 [==============================] - 0s 109ms/step\n"
          ]
        },
        {
          "output_type": "stream",
          "name": "stderr",
          "text": [
            "\r681it [01:37,  5.91it/s]"
          ]
        },
        {
          "output_type": "stream",
          "name": "stdout",
          "text": [
            "1/1 [==============================] - 0s 101ms/step\n"
          ]
        },
        {
          "output_type": "stream",
          "name": "stderr",
          "text": [
            "\r682it [01:37,  5.93it/s]"
          ]
        },
        {
          "output_type": "stream",
          "name": "stdout",
          "text": [
            "1/1 [==============================] - 0s 94ms/step\n"
          ]
        },
        {
          "output_type": "stream",
          "name": "stderr",
          "text": [
            "\r683it [01:37,  6.00it/s]"
          ]
        },
        {
          "output_type": "stream",
          "name": "stdout",
          "text": [
            "1/1 [==============================] - 0s 102ms/step\n"
          ]
        },
        {
          "output_type": "stream",
          "name": "stderr",
          "text": [
            "\r684it [01:37,  5.93it/s]"
          ]
        },
        {
          "output_type": "stream",
          "name": "stdout",
          "text": [
            "1/1 [==============================] - 0s 99ms/step\n"
          ]
        },
        {
          "output_type": "stream",
          "name": "stderr",
          "text": [
            "\r685it [01:38,  5.91it/s]"
          ]
        },
        {
          "output_type": "stream",
          "name": "stdout",
          "text": [
            "1/1 [==============================] - 0s 97ms/step\n"
          ]
        },
        {
          "output_type": "stream",
          "name": "stderr",
          "text": [
            "\r686it [01:38,  5.83it/s]"
          ]
        },
        {
          "output_type": "stream",
          "name": "stdout",
          "text": [
            "1/1 [==============================] - 0s 98ms/step\n"
          ]
        },
        {
          "output_type": "stream",
          "name": "stderr",
          "text": [
            "\r687it [01:38,  5.92it/s]"
          ]
        },
        {
          "output_type": "stream",
          "name": "stdout",
          "text": [
            "1/1 [==============================] - 0s 105ms/step\n"
          ]
        },
        {
          "output_type": "stream",
          "name": "stderr",
          "text": [
            "\r688it [01:38,  5.87it/s]"
          ]
        },
        {
          "output_type": "stream",
          "name": "stdout",
          "text": [
            "1/1 [==============================] - 0s 103ms/step\n"
          ]
        },
        {
          "output_type": "stream",
          "name": "stderr",
          "text": [
            "\r689it [01:38,  5.93it/s]"
          ]
        },
        {
          "output_type": "stream",
          "name": "stdout",
          "text": [
            "1/1 [==============================] - 0s 92ms/step\n"
          ]
        },
        {
          "output_type": "stream",
          "name": "stderr",
          "text": [
            "\r690it [01:38,  6.11it/s]"
          ]
        },
        {
          "output_type": "stream",
          "name": "stdout",
          "text": [
            "1/1 [==============================] - 0s 102ms/step\n"
          ]
        },
        {
          "output_type": "stream",
          "name": "stderr",
          "text": [
            "\r691it [01:39,  6.08it/s]"
          ]
        },
        {
          "output_type": "stream",
          "name": "stdout",
          "text": [
            "1/1 [==============================] - 0s 102ms/step\n"
          ]
        },
        {
          "output_type": "stream",
          "name": "stderr",
          "text": [
            "\r692it [01:39,  6.06it/s]"
          ]
        },
        {
          "output_type": "stream",
          "name": "stdout",
          "text": [
            "1/1 [==============================] - 0s 100ms/step\n"
          ]
        },
        {
          "output_type": "stream",
          "name": "stderr",
          "text": [
            "\r693it [01:39,  6.02it/s]"
          ]
        },
        {
          "output_type": "stream",
          "name": "stdout",
          "text": [
            "1/1 [==============================] - 0s 100ms/step\n"
          ]
        },
        {
          "output_type": "stream",
          "name": "stderr",
          "text": [
            "\r694it [01:39,  5.95it/s]"
          ]
        },
        {
          "output_type": "stream",
          "name": "stdout",
          "text": [
            "1/1 [==============================] - 0s 96ms/step\n"
          ]
        },
        {
          "output_type": "stream",
          "name": "stderr",
          "text": [
            "\r695it [01:39,  6.01it/s]"
          ]
        },
        {
          "output_type": "stream",
          "name": "stdout",
          "text": [
            "1/1 [==============================] - 0s 97ms/step\n"
          ]
        },
        {
          "output_type": "stream",
          "name": "stderr",
          "text": [
            "\r696it [01:39,  6.09it/s]"
          ]
        },
        {
          "output_type": "stream",
          "name": "stdout",
          "text": [
            "1/1 [==============================] - 0s 102ms/step\n"
          ]
        },
        {
          "output_type": "stream",
          "name": "stderr",
          "text": [
            "\r697it [01:40,  6.06it/s]"
          ]
        },
        {
          "output_type": "stream",
          "name": "stdout",
          "text": [
            "1/1 [==============================] - 0s 106ms/step\n"
          ]
        },
        {
          "output_type": "stream",
          "name": "stderr",
          "text": [
            "\r698it [01:40,  6.01it/s]"
          ]
        },
        {
          "output_type": "stream",
          "name": "stdout",
          "text": [
            "1/1 [==============================] - 0s 97ms/step\n"
          ]
        },
        {
          "output_type": "stream",
          "name": "stderr",
          "text": [
            "\r699it [01:40,  6.03it/s]"
          ]
        },
        {
          "output_type": "stream",
          "name": "stdout",
          "text": [
            "1/1 [==============================] - 0s 93ms/step\n"
          ]
        },
        {
          "output_type": "stream",
          "name": "stderr",
          "text": [
            "\r700it [01:40,  5.99it/s]"
          ]
        },
        {
          "output_type": "stream",
          "name": "stdout",
          "text": [
            "1/1 [==============================] - 0s 144ms/step\n"
          ]
        },
        {
          "output_type": "stream",
          "name": "stderr",
          "text": [
            "\r701it [01:40,  5.62it/s]"
          ]
        },
        {
          "output_type": "stream",
          "name": "stdout",
          "text": [
            "1/1 [==============================] - 0s 156ms/step\n"
          ]
        },
        {
          "output_type": "stream",
          "name": "stderr",
          "text": [
            "\r702it [01:41,  5.09it/s]"
          ]
        },
        {
          "output_type": "stream",
          "name": "stdout",
          "text": [
            "1/1 [==============================] - 0s 161ms/step\n"
          ]
        },
        {
          "output_type": "stream",
          "name": "stderr",
          "text": [
            "\r703it [01:41,  4.56it/s]"
          ]
        },
        {
          "output_type": "stream",
          "name": "stdout",
          "text": [
            "1/1 [==============================] - 0s 173ms/step\n"
          ]
        },
        {
          "output_type": "stream",
          "name": "stderr",
          "text": [
            "\r704it [01:41,  4.37it/s]"
          ]
        },
        {
          "output_type": "stream",
          "name": "stdout",
          "text": [
            "1/1 [==============================] - 0s 158ms/step\n"
          ]
        },
        {
          "output_type": "stream",
          "name": "stderr",
          "text": [
            "\r705it [01:41,  4.27it/s]"
          ]
        },
        {
          "output_type": "stream",
          "name": "stdout",
          "text": [
            "1/1 [==============================] - 0s 159ms/step\n"
          ]
        },
        {
          "output_type": "stream",
          "name": "stderr",
          "text": [
            "\r706it [01:42,  4.27it/s]"
          ]
        },
        {
          "output_type": "stream",
          "name": "stdout",
          "text": [
            "1/1 [==============================] - 0s 147ms/step\n"
          ]
        },
        {
          "output_type": "stream",
          "name": "stderr",
          "text": [
            "\r707it [01:42,  4.41it/s]"
          ]
        },
        {
          "output_type": "stream",
          "name": "stdout",
          "text": [
            "1/1 [==============================] - 0s 161ms/step\n"
          ]
        },
        {
          "output_type": "stream",
          "name": "stderr",
          "text": [
            "\r708it [01:42,  4.30it/s]"
          ]
        },
        {
          "output_type": "stream",
          "name": "stdout",
          "text": [
            "1/1 [==============================] - 0s 125ms/step\n"
          ]
        },
        {
          "output_type": "stream",
          "name": "stderr",
          "text": [
            "\r709it [01:42,  4.39it/s]"
          ]
        },
        {
          "output_type": "stream",
          "name": "stdout",
          "text": [
            "1/1 [==============================] - 0s 92ms/step\n"
          ]
        },
        {
          "output_type": "stream",
          "name": "stderr",
          "text": [
            "\r710it [01:42,  4.88it/s]"
          ]
        },
        {
          "output_type": "stream",
          "name": "stdout",
          "text": [
            "1/1 [==============================] - 0s 104ms/step\n"
          ]
        },
        {
          "output_type": "stream",
          "name": "stderr",
          "text": [
            "\r711it [01:43,  5.02it/s]"
          ]
        },
        {
          "output_type": "stream",
          "name": "stdout",
          "text": [
            "1/1 [==============================] - 0s 97ms/step\n"
          ]
        },
        {
          "output_type": "stream",
          "name": "stderr",
          "text": [
            "\r712it [01:43,  5.33it/s]"
          ]
        },
        {
          "output_type": "stream",
          "name": "stdout",
          "text": [
            "1/1 [==============================] - 0s 110ms/step\n"
          ]
        },
        {
          "output_type": "stream",
          "name": "stderr",
          "text": [
            "\r713it [01:43,  5.45it/s]"
          ]
        },
        {
          "output_type": "stream",
          "name": "stdout",
          "text": [
            "1/1 [==============================] - 0s 98ms/step\n"
          ]
        },
        {
          "output_type": "stream",
          "name": "stderr",
          "text": [
            "\r714it [01:43,  5.62it/s]"
          ]
        },
        {
          "output_type": "stream",
          "name": "stdout",
          "text": [
            "1/1 [==============================] - 0s 93ms/step\n"
          ]
        },
        {
          "output_type": "stream",
          "name": "stderr",
          "text": [
            "\r715it [01:43,  5.78it/s]"
          ]
        },
        {
          "output_type": "stream",
          "name": "stdout",
          "text": [
            "1/1 [==============================] - 0s 91ms/step\n"
          ]
        },
        {
          "output_type": "stream",
          "name": "stderr",
          "text": [
            "\r716it [01:43,  6.03it/s]"
          ]
        },
        {
          "output_type": "stream",
          "name": "stdout",
          "text": [
            "1/1 [==============================] - 0s 92ms/step\n"
          ]
        },
        {
          "output_type": "stream",
          "name": "stderr",
          "text": [
            "\r717it [01:44,  6.03it/s]"
          ]
        },
        {
          "output_type": "stream",
          "name": "stdout",
          "text": [
            "1/1 [==============================] - 0s 107ms/step\n"
          ]
        },
        {
          "output_type": "stream",
          "name": "stderr",
          "text": [
            "\r718it [01:44,  6.01it/s]"
          ]
        },
        {
          "output_type": "stream",
          "name": "stdout",
          "text": [
            "1/1 [==============================] - 0s 95ms/step\n"
          ]
        },
        {
          "output_type": "stream",
          "name": "stderr",
          "text": [
            "\r719it [01:44,  6.09it/s]"
          ]
        },
        {
          "output_type": "stream",
          "name": "stdout",
          "text": [
            "1/1 [==============================] - 0s 98ms/step\n"
          ]
        },
        {
          "output_type": "stream",
          "name": "stderr",
          "text": [
            "\r720it [01:44,  5.85it/s]"
          ]
        },
        {
          "output_type": "stream",
          "name": "stdout",
          "text": [
            "1/1 [==============================] - 0s 109ms/step\n"
          ]
        },
        {
          "output_type": "stream",
          "name": "stderr",
          "text": [
            "\r721it [01:44,  5.69it/s]"
          ]
        },
        {
          "output_type": "stream",
          "name": "stdout",
          "text": [
            "1/1 [==============================] - 0s 93ms/step\n"
          ]
        },
        {
          "output_type": "stream",
          "name": "stderr",
          "text": [
            "\r722it [01:44,  6.00it/s]"
          ]
        },
        {
          "output_type": "stream",
          "name": "stdout",
          "text": [
            "1/1 [==============================] - 0s 93ms/step\n"
          ]
        },
        {
          "output_type": "stream",
          "name": "stderr",
          "text": [
            "\r723it [01:45,  6.02it/s]"
          ]
        },
        {
          "output_type": "stream",
          "name": "stdout",
          "text": [
            "1/1 [==============================] - 0s 90ms/step\n"
          ]
        },
        {
          "output_type": "stream",
          "name": "stderr",
          "text": [
            "\r724it [01:45,  6.17it/s]"
          ]
        },
        {
          "output_type": "stream",
          "name": "stdout",
          "text": [
            "1/1 [==============================] - 0s 93ms/step\n"
          ]
        },
        {
          "output_type": "stream",
          "name": "stderr",
          "text": [
            "\r725it [01:45,  6.13it/s]"
          ]
        },
        {
          "output_type": "stream",
          "name": "stdout",
          "text": [
            "1/1 [==============================] - 0s 96ms/step\n"
          ]
        },
        {
          "output_type": "stream",
          "name": "stderr",
          "text": [
            "\r726it [01:45,  6.03it/s]"
          ]
        },
        {
          "output_type": "stream",
          "name": "stdout",
          "text": [
            "1/1 [==============================] - 0s 89ms/step\n"
          ]
        },
        {
          "output_type": "stream",
          "name": "stderr",
          "text": [
            "\r727it [01:45,  6.19it/s]"
          ]
        },
        {
          "output_type": "stream",
          "name": "stdout",
          "text": [
            "1/1 [==============================] - 0s 97ms/step\n"
          ]
        },
        {
          "output_type": "stream",
          "name": "stderr",
          "text": [
            "\r728it [01:45,  6.11it/s]"
          ]
        },
        {
          "output_type": "stream",
          "name": "stdout",
          "text": [
            "1/1 [==============================] - 0s 96ms/step\n"
          ]
        },
        {
          "output_type": "stream",
          "name": "stderr",
          "text": [
            "\r729it [01:46,  5.91it/s]"
          ]
        },
        {
          "output_type": "stream",
          "name": "stdout",
          "text": [
            "1/1 [==============================] - 0s 93ms/step\n"
          ]
        },
        {
          "output_type": "stream",
          "name": "stderr",
          "text": [
            "\r730it [01:46,  5.92it/s]"
          ]
        },
        {
          "output_type": "stream",
          "name": "stdout",
          "text": [
            "1/1 [==============================] - 0s 97ms/step\n"
          ]
        },
        {
          "output_type": "stream",
          "name": "stderr",
          "text": [
            "\r731it [01:46,  5.93it/s]"
          ]
        },
        {
          "output_type": "stream",
          "name": "stdout",
          "text": [
            "1/1 [==============================] - 0s 106ms/step\n"
          ]
        },
        {
          "output_type": "stream",
          "name": "stderr",
          "text": [
            "\r732it [01:46,  5.93it/s]"
          ]
        },
        {
          "output_type": "stream",
          "name": "stdout",
          "text": [
            "1/1 [==============================] - 0s 90ms/step\n"
          ]
        },
        {
          "output_type": "stream",
          "name": "stderr",
          "text": [
            "\r733it [01:46,  6.01it/s]"
          ]
        },
        {
          "output_type": "stream",
          "name": "stdout",
          "text": [
            "1/1 [==============================] - 0s 91ms/step\n"
          ]
        },
        {
          "output_type": "stream",
          "name": "stderr",
          "text": [
            "\r734it [01:46,  6.19it/s]"
          ]
        },
        {
          "output_type": "stream",
          "name": "stdout",
          "text": [
            "1/1 [==============================] - 0s 95ms/step\n"
          ]
        },
        {
          "output_type": "stream",
          "name": "stderr",
          "text": [
            "\r735it [01:46,  6.22it/s]"
          ]
        },
        {
          "output_type": "stream",
          "name": "stdout",
          "text": [
            "1/1 [==============================] - 0s 91ms/step\n"
          ]
        },
        {
          "output_type": "stream",
          "name": "stderr",
          "text": [
            "\r736it [01:47,  6.21it/s]"
          ]
        },
        {
          "output_type": "stream",
          "name": "stdout",
          "text": [
            "1/1 [==============================] - 0s 90ms/step\n"
          ]
        },
        {
          "output_type": "stream",
          "name": "stderr",
          "text": [
            "\r737it [01:47,  6.37it/s]"
          ]
        },
        {
          "output_type": "stream",
          "name": "stdout",
          "text": [
            "1/1 [==============================] - 0s 123ms/step\n"
          ]
        },
        {
          "output_type": "stream",
          "name": "stderr",
          "text": [
            "\r738it [01:47,  5.92it/s]"
          ]
        },
        {
          "output_type": "stream",
          "name": "stdout",
          "text": [
            "1/1 [==============================] - 0s 96ms/step\n"
          ]
        },
        {
          "output_type": "stream",
          "name": "stderr",
          "text": [
            "\r739it [01:47,  6.00it/s]"
          ]
        },
        {
          "output_type": "stream",
          "name": "stdout",
          "text": [
            "1/1 [==============================] - 0s 95ms/step\n"
          ]
        },
        {
          "output_type": "stream",
          "name": "stderr",
          "text": [
            "\r740it [01:47,  6.11it/s]"
          ]
        },
        {
          "output_type": "stream",
          "name": "stdout",
          "text": [
            "1/1 [==============================] - 0s 93ms/step\n"
          ]
        },
        {
          "output_type": "stream",
          "name": "stderr",
          "text": [
            "\r741it [01:47,  6.15it/s]"
          ]
        },
        {
          "output_type": "stream",
          "name": "stdout",
          "text": [
            "1/1 [==============================] - 0s 100ms/step\n"
          ]
        },
        {
          "output_type": "stream",
          "name": "stderr",
          "text": [
            "\r742it [01:48,  6.16it/s]"
          ]
        },
        {
          "output_type": "stream",
          "name": "stdout",
          "text": [
            "1/1 [==============================] - 0s 92ms/step\n"
          ]
        },
        {
          "output_type": "stream",
          "name": "stderr",
          "text": [
            "\r743it [01:48,  6.29it/s]"
          ]
        },
        {
          "output_type": "stream",
          "name": "stdout",
          "text": [
            "1/1 [==============================] - 0s 98ms/step\n"
          ]
        },
        {
          "output_type": "stream",
          "name": "stderr",
          "text": [
            "\r744it [01:48,  6.21it/s]"
          ]
        },
        {
          "output_type": "stream",
          "name": "stdout",
          "text": [
            "1/1 [==============================] - 0s 95ms/step\n"
          ]
        },
        {
          "output_type": "stream",
          "name": "stderr",
          "text": [
            "\r745it [01:48,  6.08it/s]"
          ]
        },
        {
          "output_type": "stream",
          "name": "stdout",
          "text": [
            "1/1 [==============================] - 0s 106ms/step\n"
          ]
        },
        {
          "output_type": "stream",
          "name": "stderr",
          "text": [
            "\r746it [01:48,  6.00it/s]"
          ]
        },
        {
          "output_type": "stream",
          "name": "stdout",
          "text": [
            "1/1 [==============================] - 0s 95ms/step\n"
          ]
        },
        {
          "output_type": "stream",
          "name": "stderr",
          "text": [
            "\r747it [01:48,  5.99it/s]"
          ]
        },
        {
          "output_type": "stream",
          "name": "stdout",
          "text": [
            "1/1 [==============================] - 0s 103ms/step\n"
          ]
        },
        {
          "output_type": "stream",
          "name": "stderr",
          "text": [
            "\r748it [01:49,  5.89it/s]"
          ]
        },
        {
          "output_type": "stream",
          "name": "stdout",
          "text": [
            "1/1 [==============================] - 0s 92ms/step\n"
          ]
        },
        {
          "output_type": "stream",
          "name": "stderr",
          "text": [
            "\r749it [01:49,  6.04it/s]"
          ]
        },
        {
          "output_type": "stream",
          "name": "stdout",
          "text": [
            "1/1 [==============================] - 0s 97ms/step\n"
          ]
        },
        {
          "output_type": "stream",
          "name": "stderr",
          "text": [
            "\r750it [01:49,  5.99it/s]"
          ]
        },
        {
          "output_type": "stream",
          "name": "stdout",
          "text": [
            "1/1 [==============================] - 0s 95ms/step\n"
          ]
        },
        {
          "output_type": "stream",
          "name": "stderr",
          "text": [
            "\r751it [01:49,  5.87it/s]"
          ]
        },
        {
          "output_type": "stream",
          "name": "stdout",
          "text": [
            "1/1 [==============================] - 0s 92ms/step\n"
          ]
        },
        {
          "output_type": "stream",
          "name": "stderr",
          "text": [
            "\r752it [01:49,  6.07it/s]"
          ]
        },
        {
          "output_type": "stream",
          "name": "stdout",
          "text": [
            "1/1 [==============================] - 0s 103ms/step\n"
          ]
        },
        {
          "output_type": "stream",
          "name": "stderr",
          "text": [
            "\r753it [01:49,  5.98it/s]"
          ]
        },
        {
          "output_type": "stream",
          "name": "stdout",
          "text": [
            "1/1 [==============================] - 0s 101ms/step\n"
          ]
        },
        {
          "output_type": "stream",
          "name": "stderr",
          "text": [
            "\r754it [01:50,  6.04it/s]"
          ]
        },
        {
          "output_type": "stream",
          "name": "stdout",
          "text": [
            "1/1 [==============================] - 0s 95ms/step\n"
          ]
        },
        {
          "output_type": "stream",
          "name": "stderr",
          "text": [
            "\r755it [01:50,  6.16it/s]"
          ]
        },
        {
          "output_type": "stream",
          "name": "stdout",
          "text": [
            "1/1 [==============================] - 0s 96ms/step\n"
          ]
        },
        {
          "output_type": "stream",
          "name": "stderr",
          "text": [
            "\r756it [01:50,  6.00it/s]"
          ]
        },
        {
          "output_type": "stream",
          "name": "stdout",
          "text": [
            "1/1 [==============================] - 0s 105ms/step\n"
          ]
        },
        {
          "output_type": "stream",
          "name": "stderr",
          "text": [
            "\r757it [01:50,  5.85it/s]"
          ]
        },
        {
          "output_type": "stream",
          "name": "stdout",
          "text": [
            "1/1 [==============================] - 0s 96ms/step\n"
          ]
        },
        {
          "output_type": "stream",
          "name": "stderr",
          "text": [
            "\r758it [01:50,  5.98it/s]"
          ]
        },
        {
          "output_type": "stream",
          "name": "stdout",
          "text": [
            "1/1 [==============================] - 0s 94ms/step\n"
          ]
        },
        {
          "output_type": "stream",
          "name": "stderr",
          "text": [
            "\r759it [01:50,  6.07it/s]"
          ]
        },
        {
          "output_type": "stream",
          "name": "stdout",
          "text": [
            "1/1 [==============================] - 0s 100ms/step\n"
          ]
        },
        {
          "output_type": "stream",
          "name": "stderr",
          "text": [
            "\r760it [01:51,  6.04it/s]"
          ]
        },
        {
          "output_type": "stream",
          "name": "stdout",
          "text": [
            "1/1 [==============================] - 0s 111ms/step\n"
          ]
        },
        {
          "output_type": "stream",
          "name": "stderr",
          "text": [
            "\r761it [01:51,  5.97it/s]"
          ]
        },
        {
          "output_type": "stream",
          "name": "stdout",
          "text": [
            "1/1 [==============================] - 0s 110ms/step\n"
          ]
        },
        {
          "output_type": "stream",
          "name": "stderr",
          "text": [
            "\r762it [01:51,  5.88it/s]"
          ]
        },
        {
          "output_type": "stream",
          "name": "stdout",
          "text": [
            "1/1 [==============================] - 0s 101ms/step\n"
          ]
        },
        {
          "output_type": "stream",
          "name": "stderr",
          "text": [
            "\r763it [01:51,  5.92it/s]"
          ]
        },
        {
          "output_type": "stream",
          "name": "stdout",
          "text": [
            "1/1 [==============================] - 0s 95ms/step\n"
          ]
        },
        {
          "output_type": "stream",
          "name": "stderr",
          "text": [
            "\r764it [01:51,  5.92it/s]"
          ]
        },
        {
          "output_type": "stream",
          "name": "stdout",
          "text": [
            "1/1 [==============================] - 0s 96ms/step\n"
          ]
        },
        {
          "output_type": "stream",
          "name": "stderr",
          "text": [
            "\r765it [01:51,  5.92it/s]"
          ]
        },
        {
          "output_type": "stream",
          "name": "stdout",
          "text": [
            "1/1 [==============================] - 0s 108ms/step\n"
          ]
        },
        {
          "output_type": "stream",
          "name": "stderr",
          "text": [
            "\r766it [01:52,  5.87it/s]"
          ]
        },
        {
          "output_type": "stream",
          "name": "stdout",
          "text": [
            "1/1 [==============================] - 0s 93ms/step\n"
          ]
        },
        {
          "output_type": "stream",
          "name": "stderr",
          "text": [
            "\r767it [01:52,  6.02it/s]"
          ]
        },
        {
          "output_type": "stream",
          "name": "stdout",
          "text": [
            "1/1 [==============================] - 0s 100ms/step\n"
          ]
        },
        {
          "output_type": "stream",
          "name": "stderr",
          "text": [
            "\r768it [01:52,  5.97it/s]"
          ]
        },
        {
          "output_type": "stream",
          "name": "stdout",
          "text": [
            "1/1 [==============================] - 0s 107ms/step\n"
          ]
        },
        {
          "output_type": "stream",
          "name": "stderr",
          "text": [
            "\r769it [01:52,  5.91it/s]"
          ]
        },
        {
          "output_type": "stream",
          "name": "stdout",
          "text": [
            "1/1 [==============================] - 0s 158ms/step\n"
          ]
        },
        {
          "output_type": "stream",
          "name": "stderr",
          "text": [
            "\r770it [01:52,  5.17it/s]"
          ]
        },
        {
          "output_type": "stream",
          "name": "stdout",
          "text": [
            "1/1 [==============================] - 0s 155ms/step\n"
          ]
        },
        {
          "output_type": "stream",
          "name": "stderr",
          "text": [
            "\r771it [01:53,  4.78it/s]"
          ]
        },
        {
          "output_type": "stream",
          "name": "stdout",
          "text": [
            "1/1 [==============================] - 0s 178ms/step\n"
          ]
        },
        {
          "output_type": "stream",
          "name": "stderr",
          "text": [
            "\r772it [01:53,  4.40it/s]"
          ]
        },
        {
          "output_type": "stream",
          "name": "stdout",
          "text": [
            "1/1 [==============================] - 0s 174ms/step\n"
          ]
        },
        {
          "output_type": "stream",
          "name": "stderr",
          "text": [
            "\r773it [01:53,  4.22it/s]"
          ]
        },
        {
          "output_type": "stream",
          "name": "stdout",
          "text": [
            "1/1 [==============================] - 0s 149ms/step\n"
          ]
        },
        {
          "output_type": "stream",
          "name": "stderr",
          "text": [
            "\r774it [01:53,  4.29it/s]"
          ]
        },
        {
          "output_type": "stream",
          "name": "stdout",
          "text": [
            "1/1 [==============================] - 0s 172ms/step\n"
          ]
        },
        {
          "output_type": "stream",
          "name": "stderr",
          "text": [
            "\r775it [01:54,  4.24it/s]"
          ]
        },
        {
          "output_type": "stream",
          "name": "stdout",
          "text": [
            "1/1 [==============================] - 0s 154ms/step\n"
          ]
        },
        {
          "output_type": "stream",
          "name": "stderr",
          "text": [
            "\r776it [01:54,  4.19it/s]"
          ]
        },
        {
          "output_type": "stream",
          "name": "stdout",
          "text": [
            "1/1 [==============================] - 0s 144ms/step\n"
          ]
        },
        {
          "output_type": "stream",
          "name": "stderr",
          "text": [
            "\r777it [01:54,  4.24it/s]"
          ]
        },
        {
          "output_type": "stream",
          "name": "stdout",
          "text": [
            "1/1 [==============================] - 0s 102ms/step\n"
          ]
        },
        {
          "output_type": "stream",
          "name": "stderr",
          "text": [
            "\r778it [01:54,  4.50it/s]"
          ]
        },
        {
          "output_type": "stream",
          "name": "stdout",
          "text": [
            "1/1 [==============================] - 0s 92ms/step\n"
          ]
        },
        {
          "output_type": "stream",
          "name": "stderr",
          "text": [
            "\r779it [01:54,  4.94it/s]"
          ]
        },
        {
          "output_type": "stream",
          "name": "stdout",
          "text": [
            "1/1 [==============================] - 0s 93ms/step\n"
          ]
        },
        {
          "output_type": "stream",
          "name": "stderr",
          "text": [
            "\r780it [01:55,  5.28it/s]"
          ]
        },
        {
          "output_type": "stream",
          "name": "stdout",
          "text": [
            "1/1 [==============================] - 0s 93ms/step\n"
          ]
        },
        {
          "output_type": "stream",
          "name": "stderr",
          "text": [
            "\r781it [01:55,  5.61it/s]"
          ]
        },
        {
          "output_type": "stream",
          "name": "stdout",
          "text": [
            "1/1 [==============================] - 0s 98ms/step\n"
          ]
        },
        {
          "output_type": "stream",
          "name": "stderr",
          "text": [
            "\r782it [01:55,  5.63it/s]"
          ]
        },
        {
          "output_type": "stream",
          "name": "stdout",
          "text": [
            "1/1 [==============================] - 0s 97ms/step\n"
          ]
        },
        {
          "output_type": "stream",
          "name": "stderr",
          "text": [
            "\r783it [01:55,  5.69it/s]"
          ]
        },
        {
          "output_type": "stream",
          "name": "stdout",
          "text": [
            "1/1 [==============================] - 0s 103ms/step\n"
          ]
        },
        {
          "output_type": "stream",
          "name": "stderr",
          "text": [
            "\r784it [01:55,  5.65it/s]"
          ]
        },
        {
          "output_type": "stream",
          "name": "stdout",
          "text": [
            "1/1 [==============================] - 0s 93ms/step\n"
          ]
        },
        {
          "output_type": "stream",
          "name": "stderr",
          "text": [
            "\r785it [01:55,  5.74it/s]"
          ]
        },
        {
          "output_type": "stream",
          "name": "stdout",
          "text": [
            "1/1 [==============================] - 0s 95ms/step\n"
          ]
        },
        {
          "output_type": "stream",
          "name": "stderr",
          "text": [
            "\r786it [01:56,  5.91it/s]"
          ]
        },
        {
          "output_type": "stream",
          "name": "stdout",
          "text": [
            "1/1 [==============================] - 0s 94ms/step\n"
          ]
        },
        {
          "output_type": "stream",
          "name": "stderr",
          "text": [
            "\r787it [01:56,  5.98it/s]"
          ]
        },
        {
          "output_type": "stream",
          "name": "stdout",
          "text": [
            "1/1 [==============================] - 0s 96ms/step\n"
          ]
        },
        {
          "output_type": "stream",
          "name": "stderr",
          "text": [
            "\r788it [01:56,  5.97it/s]"
          ]
        },
        {
          "output_type": "stream",
          "name": "stdout",
          "text": [
            "1/1 [==============================] - 0s 96ms/step\n"
          ]
        },
        {
          "output_type": "stream",
          "name": "stderr",
          "text": [
            "\r789it [01:56,  6.03it/s]"
          ]
        },
        {
          "output_type": "stream",
          "name": "stdout",
          "text": [
            "1/1 [==============================] - 0s 103ms/step\n"
          ]
        },
        {
          "output_type": "stream",
          "name": "stderr",
          "text": [
            "\r790it [01:56,  6.02it/s]"
          ]
        },
        {
          "output_type": "stream",
          "name": "stdout",
          "text": [
            "1/1 [==============================] - 0s 95ms/step\n"
          ]
        },
        {
          "output_type": "stream",
          "name": "stderr",
          "text": [
            "\r791it [01:56,  6.04it/s]"
          ]
        },
        {
          "output_type": "stream",
          "name": "stdout",
          "text": [
            "1/1 [==============================] - 0s 100ms/step\n"
          ]
        },
        {
          "output_type": "stream",
          "name": "stderr",
          "text": [
            "\r792it [01:57,  5.98it/s]"
          ]
        },
        {
          "output_type": "stream",
          "name": "stdout",
          "text": [
            "1/1 [==============================] - 0s 96ms/step\n"
          ]
        },
        {
          "output_type": "stream",
          "name": "stderr",
          "text": [
            "\r793it [01:57,  6.04it/s]"
          ]
        },
        {
          "output_type": "stream",
          "name": "stdout",
          "text": [
            "1/1 [==============================] - 0s 96ms/step\n"
          ]
        },
        {
          "output_type": "stream",
          "name": "stderr",
          "text": [
            "\r794it [01:57,  6.09it/s]"
          ]
        },
        {
          "output_type": "stream",
          "name": "stdout",
          "text": [
            "1/1 [==============================] - 0s 93ms/step\n"
          ]
        },
        {
          "output_type": "stream",
          "name": "stderr",
          "text": [
            "\r795it [01:57,  6.05it/s]"
          ]
        },
        {
          "output_type": "stream",
          "name": "stdout",
          "text": [
            "1/1 [==============================] - 0s 109ms/step\n"
          ]
        },
        {
          "output_type": "stream",
          "name": "stderr",
          "text": [
            "\r796it [01:57,  5.97it/s]"
          ]
        },
        {
          "output_type": "stream",
          "name": "stdout",
          "text": [
            "1/1 [==============================] - 0s 93ms/step\n"
          ]
        },
        {
          "output_type": "stream",
          "name": "stderr",
          "text": [
            "\r797it [01:57,  6.06it/s]"
          ]
        },
        {
          "output_type": "stream",
          "name": "stdout",
          "text": [
            "1/1 [==============================] - 0s 96ms/step\n"
          ]
        },
        {
          "output_type": "stream",
          "name": "stderr",
          "text": [
            "\r798it [01:58,  6.10it/s]"
          ]
        },
        {
          "output_type": "stream",
          "name": "stdout",
          "text": [
            "1/1 [==============================] - 0s 96ms/step\n"
          ]
        },
        {
          "output_type": "stream",
          "name": "stderr",
          "text": [
            "\r799it [01:58,  6.03it/s]"
          ]
        },
        {
          "output_type": "stream",
          "name": "stdout",
          "text": [
            "1/1 [==============================] - 0s 101ms/step\n"
          ]
        },
        {
          "output_type": "stream",
          "name": "stderr",
          "text": [
            "\r800it [01:58,  5.88it/s]"
          ]
        },
        {
          "output_type": "stream",
          "name": "stdout",
          "text": [
            "1/1 [==============================] - 0s 110ms/step\n"
          ]
        },
        {
          "output_type": "stream",
          "name": "stderr",
          "text": [
            "\r801it [01:58,  5.75it/s]"
          ]
        },
        {
          "output_type": "stream",
          "name": "stdout",
          "text": [
            "1/1 [==============================] - 0s 102ms/step\n"
          ]
        },
        {
          "output_type": "stream",
          "name": "stderr",
          "text": [
            "\r802it [01:58,  5.87it/s]"
          ]
        },
        {
          "output_type": "stream",
          "name": "stdout",
          "text": [
            "1/1 [==============================] - 0s 93ms/step\n"
          ]
        },
        {
          "output_type": "stream",
          "name": "stderr",
          "text": [
            "\r803it [01:58,  6.00it/s]"
          ]
        },
        {
          "output_type": "stream",
          "name": "stdout",
          "text": [
            "1/1 [==============================] - 0s 92ms/step\n"
          ]
        },
        {
          "output_type": "stream",
          "name": "stderr",
          "text": [
            "\r804it [01:59,  6.17it/s]"
          ]
        },
        {
          "output_type": "stream",
          "name": "stdout",
          "text": [
            "1/1 [==============================] - 0s 93ms/step\n"
          ]
        },
        {
          "output_type": "stream",
          "name": "stderr",
          "text": [
            "\r805it [01:59,  6.17it/s]"
          ]
        },
        {
          "output_type": "stream",
          "name": "stdout",
          "text": [
            "1/1 [==============================] - 0s 93ms/step\n"
          ]
        },
        {
          "output_type": "stream",
          "name": "stderr",
          "text": [
            "\r806it [01:59,  6.22it/s]"
          ]
        },
        {
          "output_type": "stream",
          "name": "stdout",
          "text": [
            "1/1 [==============================] - 0s 95ms/step\n"
          ]
        },
        {
          "output_type": "stream",
          "name": "stderr",
          "text": [
            "\r807it [01:59,  6.20it/s]"
          ]
        },
        {
          "output_type": "stream",
          "name": "stdout",
          "text": [
            "1/1 [==============================] - 0s 98ms/step\n"
          ]
        },
        {
          "output_type": "stream",
          "name": "stderr",
          "text": [
            "\r808it [01:59,  6.08it/s]"
          ]
        },
        {
          "output_type": "stream",
          "name": "stdout",
          "text": [
            "1/1 [==============================] - 0s 94ms/step\n"
          ]
        },
        {
          "output_type": "stream",
          "name": "stderr",
          "text": [
            "\r809it [01:59,  5.88it/s]"
          ]
        },
        {
          "output_type": "stream",
          "name": "stdout",
          "text": [
            "1/1 [==============================] - 0s 98ms/step\n"
          ]
        },
        {
          "output_type": "stream",
          "name": "stderr",
          "text": [
            "\r810it [02:00,  5.90it/s]"
          ]
        },
        {
          "output_type": "stream",
          "name": "stdout",
          "text": [
            "1/1 [==============================] - 0s 98ms/step\n"
          ]
        },
        {
          "output_type": "stream",
          "name": "stderr",
          "text": [
            "\r811it [02:00,  5.90it/s]"
          ]
        },
        {
          "output_type": "stream",
          "name": "stdout",
          "text": [
            "1/1 [==============================] - 0s 99ms/step\n"
          ]
        },
        {
          "output_type": "stream",
          "name": "stderr",
          "text": [
            "\r812it [02:00,  5.95it/s]"
          ]
        },
        {
          "output_type": "stream",
          "name": "stdout",
          "text": [
            "1/1 [==============================] - 0s 100ms/step\n"
          ]
        },
        {
          "output_type": "stream",
          "name": "stderr",
          "text": [
            "\r813it [02:00,  5.79it/s]"
          ]
        },
        {
          "output_type": "stream",
          "name": "stdout",
          "text": [
            "1/1 [==============================] - 0s 97ms/step\n"
          ]
        },
        {
          "output_type": "stream",
          "name": "stderr",
          "text": [
            "\r814it [02:00,  5.91it/s]"
          ]
        },
        {
          "output_type": "stream",
          "name": "stdout",
          "text": [
            "1/1 [==============================] - 0s 96ms/step\n"
          ]
        },
        {
          "output_type": "stream",
          "name": "stderr",
          "text": [
            "\r815it [02:00,  5.84it/s]"
          ]
        },
        {
          "output_type": "stream",
          "name": "stdout",
          "text": [
            "1/1 [==============================] - 0s 93ms/step\n"
          ]
        },
        {
          "output_type": "stream",
          "name": "stderr",
          "text": [
            "\r816it [02:01,  5.93it/s]"
          ]
        },
        {
          "output_type": "stream",
          "name": "stdout",
          "text": [
            "1/1 [==============================] - 0s 101ms/step\n"
          ]
        },
        {
          "output_type": "stream",
          "name": "stderr",
          "text": [
            "\r817it [02:01,  5.87it/s]"
          ]
        },
        {
          "output_type": "stream",
          "name": "stdout",
          "text": [
            "1/1 [==============================] - 0s 97ms/step\n"
          ]
        },
        {
          "output_type": "stream",
          "name": "stderr",
          "text": [
            "\r818it [02:01,  6.05it/s]"
          ]
        },
        {
          "output_type": "stream",
          "name": "stdout",
          "text": [
            "1/1 [==============================] - 0s 96ms/step\n"
          ]
        },
        {
          "output_type": "stream",
          "name": "stderr",
          "text": [
            "\r819it [02:01,  5.99it/s]"
          ]
        },
        {
          "output_type": "stream",
          "name": "stdout",
          "text": [
            "1/1 [==============================] - 0s 94ms/step\n"
          ]
        },
        {
          "output_type": "stream",
          "name": "stderr",
          "text": [
            "\r820it [02:01,  6.00it/s]"
          ]
        },
        {
          "output_type": "stream",
          "name": "stdout",
          "text": [
            "1/1 [==============================] - 0s 103ms/step\n"
          ]
        },
        {
          "output_type": "stream",
          "name": "stderr",
          "text": [
            "\r821it [02:01,  5.97it/s]"
          ]
        },
        {
          "output_type": "stream",
          "name": "stdout",
          "text": [
            "1/1 [==============================] - 0s 96ms/step\n"
          ]
        },
        {
          "output_type": "stream",
          "name": "stderr",
          "text": [
            "\r822it [02:02,  5.93it/s]"
          ]
        },
        {
          "output_type": "stream",
          "name": "stdout",
          "text": [
            "1/1 [==============================] - 0s 96ms/step\n"
          ]
        },
        {
          "output_type": "stream",
          "name": "stderr",
          "text": [
            "\r823it [02:02,  5.85it/s]"
          ]
        },
        {
          "output_type": "stream",
          "name": "stdout",
          "text": [
            "1/1 [==============================] - 0s 95ms/step\n"
          ]
        },
        {
          "output_type": "stream",
          "name": "stderr",
          "text": [
            "\r824it [02:02,  6.04it/s]"
          ]
        },
        {
          "output_type": "stream",
          "name": "stdout",
          "text": [
            "1/1 [==============================] - 0s 107ms/step\n"
          ]
        },
        {
          "output_type": "stream",
          "name": "stderr",
          "text": [
            "\r825it [02:02,  5.81it/s]"
          ]
        },
        {
          "output_type": "stream",
          "name": "stdout",
          "text": [
            "1/1 [==============================] - 0s 96ms/step\n"
          ]
        },
        {
          "output_type": "stream",
          "name": "stderr",
          "text": [
            "\r826it [02:02,  5.79it/s]"
          ]
        },
        {
          "output_type": "stream",
          "name": "stdout",
          "text": [
            "1/1 [==============================] - 0s 104ms/step\n"
          ]
        },
        {
          "output_type": "stream",
          "name": "stderr",
          "text": [
            "\r827it [02:02,  5.84it/s]"
          ]
        },
        {
          "output_type": "stream",
          "name": "stdout",
          "text": [
            "1/1 [==============================] - 0s 95ms/step\n"
          ]
        },
        {
          "output_type": "stream",
          "name": "stderr",
          "text": [
            "\r828it [02:03,  5.84it/s]"
          ]
        },
        {
          "output_type": "stream",
          "name": "stdout",
          "text": [
            "1/1 [==============================] - 0s 103ms/step\n"
          ]
        },
        {
          "output_type": "stream",
          "name": "stderr",
          "text": [
            "\r829it [02:03,  5.77it/s]"
          ]
        },
        {
          "output_type": "stream",
          "name": "stdout",
          "text": [
            "1/1 [==============================] - 0s 102ms/step\n"
          ]
        },
        {
          "output_type": "stream",
          "name": "stderr",
          "text": [
            "\r830it [02:03,  5.86it/s]"
          ]
        },
        {
          "output_type": "stream",
          "name": "stdout",
          "text": [
            "1/1 [==============================] - 0s 93ms/step\n"
          ]
        },
        {
          "output_type": "stream",
          "name": "stderr",
          "text": [
            "\r831it [02:03,  5.90it/s]"
          ]
        },
        {
          "output_type": "stream",
          "name": "stdout",
          "text": [
            "1/1 [==============================] - 0s 101ms/step\n"
          ]
        },
        {
          "output_type": "stream",
          "name": "stderr",
          "text": [
            "\r832it [02:03,  5.91it/s]"
          ]
        },
        {
          "output_type": "stream",
          "name": "stdout",
          "text": [
            "1/1 [==============================] - 0s 110ms/step\n"
          ]
        },
        {
          "output_type": "stream",
          "name": "stderr",
          "text": [
            "\r833it [02:04,  5.84it/s]"
          ]
        },
        {
          "output_type": "stream",
          "name": "stdout",
          "text": [
            "1/1 [==============================] - 0s 103ms/step\n"
          ]
        },
        {
          "output_type": "stream",
          "name": "stderr",
          "text": [
            "\r834it [02:04,  5.67it/s]"
          ]
        },
        {
          "output_type": "stream",
          "name": "stdout",
          "text": [
            "1/1 [==============================] - 0s 97ms/step\n"
          ]
        },
        {
          "output_type": "stream",
          "name": "stderr",
          "text": [
            "\r835it [02:04,  5.73it/s]"
          ]
        },
        {
          "output_type": "stream",
          "name": "stdout",
          "text": [
            "1/1 [==============================] - 0s 99ms/step\n"
          ]
        },
        {
          "output_type": "stream",
          "name": "stderr",
          "text": [
            "\r836it [02:04,  5.78it/s]"
          ]
        },
        {
          "output_type": "stream",
          "name": "stdout",
          "text": [
            "1/1 [==============================] - 0s 125ms/step\n"
          ]
        },
        {
          "output_type": "stream",
          "name": "stderr",
          "text": [
            "\r837it [02:04,  5.55it/s]"
          ]
        },
        {
          "output_type": "stream",
          "name": "stdout",
          "text": [
            "1/1 [==============================] - 0s 174ms/step\n"
          ]
        },
        {
          "output_type": "stream",
          "name": "stderr",
          "text": [
            "\r838it [02:04,  4.95it/s]"
          ]
        },
        {
          "output_type": "stream",
          "name": "stdout",
          "text": [
            "1/1 [==============================] - 0s 152ms/step\n"
          ]
        },
        {
          "output_type": "stream",
          "name": "stderr",
          "text": [
            "\r839it [02:05,  4.61it/s]"
          ]
        },
        {
          "output_type": "stream",
          "name": "stdout",
          "text": [
            "1/1 [==============================] - 0s 157ms/step\n"
          ]
        },
        {
          "output_type": "stream",
          "name": "stderr",
          "text": [
            "\r840it [02:05,  4.26it/s]"
          ]
        },
        {
          "output_type": "stream",
          "name": "stdout",
          "text": [
            "1/1 [==============================] - 0s 164ms/step\n"
          ]
        },
        {
          "output_type": "stream",
          "name": "stderr",
          "text": [
            "\r841it [02:05,  4.23it/s]"
          ]
        },
        {
          "output_type": "stream",
          "name": "stdout",
          "text": [
            "1/1 [==============================] - 0s 177ms/step\n"
          ]
        },
        {
          "output_type": "stream",
          "name": "stderr",
          "text": [
            "\r842it [02:06,  4.19it/s]"
          ]
        },
        {
          "output_type": "stream",
          "name": "stdout",
          "text": [
            "1/1 [==============================] - 0s 164ms/step\n"
          ]
        },
        {
          "output_type": "stream",
          "name": "stderr",
          "text": [
            "\r843it [02:06,  4.09it/s]"
          ]
        },
        {
          "output_type": "stream",
          "name": "stdout",
          "text": [
            "1/1 [==============================] - 0s 151ms/step\n"
          ]
        },
        {
          "output_type": "stream",
          "name": "stderr",
          "text": [
            "\r844it [02:06,  4.24it/s]"
          ]
        },
        {
          "output_type": "stream",
          "name": "stdout",
          "text": [
            "1/1 [==============================] - 0s 169ms/step\n"
          ]
        },
        {
          "output_type": "stream",
          "name": "stderr",
          "text": [
            "\r845it [02:06,  4.01it/s]"
          ]
        },
        {
          "output_type": "stream",
          "name": "stdout",
          "text": [
            "1/1 [==============================] - 0s 113ms/step\n"
          ]
        },
        {
          "output_type": "stream",
          "name": "stderr",
          "text": [
            "\r846it [02:06,  4.21it/s]"
          ]
        },
        {
          "output_type": "stream",
          "name": "stdout",
          "text": [
            "1/1 [==============================] - 0s 101ms/step\n"
          ]
        },
        {
          "output_type": "stream",
          "name": "stderr",
          "text": [
            "\r847it [02:07,  4.61it/s]"
          ]
        },
        {
          "output_type": "stream",
          "name": "stdout",
          "text": [
            "1/1 [==============================] - 0s 95ms/step\n"
          ]
        },
        {
          "output_type": "stream",
          "name": "stderr",
          "text": [
            "\r848it [02:07,  5.03it/s]"
          ]
        },
        {
          "output_type": "stream",
          "name": "stdout",
          "text": [
            "1/1 [==============================] - 0s 101ms/step\n"
          ]
        },
        {
          "output_type": "stream",
          "name": "stderr",
          "text": [
            "\r849it [02:07,  5.21it/s]"
          ]
        },
        {
          "output_type": "stream",
          "name": "stdout",
          "text": [
            "1/1 [==============================] - 0s 97ms/step\n"
          ]
        },
        {
          "output_type": "stream",
          "name": "stderr",
          "text": [
            "\r850it [02:07,  5.53it/s]"
          ]
        },
        {
          "output_type": "stream",
          "name": "stdout",
          "text": [
            "1/1 [==============================] - 0s 96ms/step\n"
          ]
        },
        {
          "output_type": "stream",
          "name": "stderr",
          "text": [
            "\r851it [02:07,  5.68it/s]"
          ]
        },
        {
          "output_type": "stream",
          "name": "stdout",
          "text": [
            "1/1 [==============================] - 0s 100ms/step\n"
          ]
        },
        {
          "output_type": "stream",
          "name": "stderr",
          "text": [
            "\r852it [02:07,  5.68it/s]"
          ]
        },
        {
          "output_type": "stream",
          "name": "stdout",
          "text": [
            "1/1 [==============================] - 0s 110ms/step\n"
          ]
        },
        {
          "output_type": "stream",
          "name": "stderr",
          "text": [
            "\r853it [02:08,  5.62it/s]"
          ]
        },
        {
          "output_type": "stream",
          "name": "stdout",
          "text": [
            "1/1 [==============================] - 0s 93ms/step\n"
          ]
        },
        {
          "output_type": "stream",
          "name": "stderr",
          "text": [
            "\r854it [02:08,  5.77it/s]"
          ]
        },
        {
          "output_type": "stream",
          "name": "stdout",
          "text": [
            "1/1 [==============================] - 0s 97ms/step\n"
          ]
        },
        {
          "output_type": "stream",
          "name": "stderr",
          "text": [
            "\r855it [02:08,  5.81it/s]"
          ]
        },
        {
          "output_type": "stream",
          "name": "stdout",
          "text": [
            "1/1 [==============================] - 0s 102ms/step\n"
          ]
        },
        {
          "output_type": "stream",
          "name": "stderr",
          "text": [
            "\r856it [02:08,  5.82it/s]"
          ]
        },
        {
          "output_type": "stream",
          "name": "stdout",
          "text": [
            "1/1 [==============================] - 0s 106ms/step\n"
          ]
        },
        {
          "output_type": "stream",
          "name": "stderr",
          "text": [
            "\r857it [02:08,  5.69it/s]"
          ]
        },
        {
          "output_type": "stream",
          "name": "stdout",
          "text": [
            "1/1 [==============================] - 0s 93ms/step\n"
          ]
        },
        {
          "output_type": "stream",
          "name": "stderr",
          "text": [
            "\r858it [02:09,  5.81it/s]"
          ]
        },
        {
          "output_type": "stream",
          "name": "stdout",
          "text": [
            "1/1 [==============================] - 0s 96ms/step\n"
          ]
        },
        {
          "output_type": "stream",
          "name": "stderr",
          "text": [
            "\r859it [02:09,  5.88it/s]"
          ]
        },
        {
          "output_type": "stream",
          "name": "stdout",
          "text": [
            "1/1 [==============================] - 0s 95ms/step\n"
          ]
        },
        {
          "output_type": "stream",
          "name": "stderr",
          "text": [
            "\r860it [02:09,  5.86it/s]"
          ]
        },
        {
          "output_type": "stream",
          "name": "stdout",
          "text": [
            "1/1 [==============================] - 0s 98ms/step\n"
          ]
        },
        {
          "output_type": "stream",
          "name": "stderr",
          "text": [
            "\r861it [02:09,  5.79it/s]"
          ]
        },
        {
          "output_type": "stream",
          "name": "stdout",
          "text": [
            "1/1 [==============================] - 0s 98ms/step\n"
          ]
        },
        {
          "output_type": "stream",
          "name": "stderr",
          "text": [
            "\r862it [02:09,  5.89it/s]"
          ]
        },
        {
          "output_type": "stream",
          "name": "stdout",
          "text": [
            "1/1 [==============================] - 0s 92ms/step\n"
          ]
        },
        {
          "output_type": "stream",
          "name": "stderr",
          "text": [
            "\r863it [02:09,  5.88it/s]"
          ]
        },
        {
          "output_type": "stream",
          "name": "stdout",
          "text": [
            "1/1 [==============================] - 0s 97ms/step\n"
          ]
        },
        {
          "output_type": "stream",
          "name": "stderr",
          "text": [
            "\r864it [02:10,  5.92it/s]"
          ]
        },
        {
          "output_type": "stream",
          "name": "stdout",
          "text": [
            "1/1 [==============================] - 0s 107ms/step\n"
          ]
        },
        {
          "output_type": "stream",
          "name": "stderr",
          "text": [
            "\r865it [02:10,  5.85it/s]"
          ]
        },
        {
          "output_type": "stream",
          "name": "stdout",
          "text": [
            "1/1 [==============================] - 0s 105ms/step\n"
          ]
        },
        {
          "output_type": "stream",
          "name": "stderr",
          "text": [
            "\r866it [02:10,  5.72it/s]"
          ]
        },
        {
          "output_type": "stream",
          "name": "stdout",
          "text": [
            "1/1 [==============================] - 0s 95ms/step\n"
          ]
        },
        {
          "output_type": "stream",
          "name": "stderr",
          "text": [
            "\r867it [02:10,  5.85it/s]"
          ]
        },
        {
          "output_type": "stream",
          "name": "stdout",
          "text": [
            "1/1 [==============================] - 0s 94ms/step\n"
          ]
        },
        {
          "output_type": "stream",
          "name": "stderr",
          "text": [
            "\r868it [02:10,  5.93it/s]"
          ]
        },
        {
          "output_type": "stream",
          "name": "stdout",
          "text": [
            "1/1 [==============================] - 0s 91ms/step\n"
          ]
        },
        {
          "output_type": "stream",
          "name": "stderr",
          "text": [
            "\r869it [02:10,  6.01it/s]"
          ]
        },
        {
          "output_type": "stream",
          "name": "stdout",
          "text": [
            "1/1 [==============================] - 0s 96ms/step\n"
          ]
        },
        {
          "output_type": "stream",
          "name": "stderr",
          "text": [
            "\r870it [02:11,  5.89it/s]"
          ]
        },
        {
          "output_type": "stream",
          "name": "stdout",
          "text": [
            "1/1 [==============================] - 0s 99ms/step\n"
          ]
        },
        {
          "output_type": "stream",
          "name": "stderr",
          "text": [
            "\r871it [02:11,  5.88it/s]"
          ]
        },
        {
          "output_type": "stream",
          "name": "stdout",
          "text": [
            "1/1 [==============================] - 0s 101ms/step\n"
          ]
        },
        {
          "output_type": "stream",
          "name": "stderr",
          "text": [
            "\r872it [02:11,  5.77it/s]"
          ]
        },
        {
          "output_type": "stream",
          "name": "stdout",
          "text": [
            "1/1 [==============================] - 0s 94ms/step\n"
          ]
        },
        {
          "output_type": "stream",
          "name": "stderr",
          "text": [
            "\r873it [02:11,  5.85it/s]"
          ]
        },
        {
          "output_type": "stream",
          "name": "stdout",
          "text": [
            "1/1 [==============================] - 0s 98ms/step\n"
          ]
        },
        {
          "output_type": "stream",
          "name": "stderr",
          "text": [
            "\r874it [02:11,  5.98it/s]"
          ]
        },
        {
          "output_type": "stream",
          "name": "stdout",
          "text": [
            "1/1 [==============================] - 0s 95ms/step\n"
          ]
        },
        {
          "output_type": "stream",
          "name": "stderr",
          "text": [
            "\r875it [02:11,  5.95it/s]"
          ]
        },
        {
          "output_type": "stream",
          "name": "stdout",
          "text": [
            "1/1 [==============================] - 0s 97ms/step\n"
          ]
        },
        {
          "output_type": "stream",
          "name": "stderr",
          "text": [
            "\r876it [02:12,  5.92it/s]"
          ]
        },
        {
          "output_type": "stream",
          "name": "stdout",
          "text": [
            "1/1 [==============================] - 0s 94ms/step\n"
          ]
        },
        {
          "output_type": "stream",
          "name": "stderr",
          "text": [
            "\r877it [02:12,  5.94it/s]"
          ]
        },
        {
          "output_type": "stream",
          "name": "stdout",
          "text": [
            "1/1 [==============================] - 0s 106ms/step\n"
          ]
        },
        {
          "output_type": "stream",
          "name": "stderr",
          "text": [
            "\r878it [02:12,  5.62it/s]"
          ]
        },
        {
          "output_type": "stream",
          "name": "stdout",
          "text": [
            "1/1 [==============================] - 0s 96ms/step\n"
          ]
        },
        {
          "output_type": "stream",
          "name": "stderr",
          "text": [
            "\r879it [02:12,  5.71it/s]"
          ]
        },
        {
          "output_type": "stream",
          "name": "stdout",
          "text": [
            "1/1 [==============================] - 0s 97ms/step\n"
          ]
        },
        {
          "output_type": "stream",
          "name": "stderr",
          "text": [
            "\r880it [02:12,  5.74it/s]"
          ]
        },
        {
          "output_type": "stream",
          "name": "stdout",
          "text": [
            "1/1 [==============================] - 0s 95ms/step\n"
          ]
        },
        {
          "output_type": "stream",
          "name": "stderr",
          "text": [
            "\r881it [02:12,  5.76it/s]"
          ]
        },
        {
          "output_type": "stream",
          "name": "stdout",
          "text": [
            "1/1 [==============================] - 0s 112ms/step\n"
          ]
        },
        {
          "output_type": "stream",
          "name": "stderr",
          "text": [
            "\r882it [02:13,  5.65it/s]"
          ]
        },
        {
          "output_type": "stream",
          "name": "stdout",
          "text": [
            "1/1 [==============================] - 0s 94ms/step\n"
          ]
        },
        {
          "output_type": "stream",
          "name": "stderr",
          "text": [
            "\r883it [02:13,  5.82it/s]"
          ]
        },
        {
          "output_type": "stream",
          "name": "stdout",
          "text": [
            "1/1 [==============================] - 0s 93ms/step\n"
          ]
        },
        {
          "output_type": "stream",
          "name": "stderr",
          "text": [
            "\r884it [02:13,  5.81it/s]"
          ]
        },
        {
          "output_type": "stream",
          "name": "stdout",
          "text": [
            "1/1 [==============================] - 0s 96ms/step\n"
          ]
        },
        {
          "output_type": "stream",
          "name": "stderr",
          "text": [
            "\r885it [02:13,  5.86it/s]"
          ]
        },
        {
          "output_type": "stream",
          "name": "stdout",
          "text": [
            "1/1 [==============================] - 0s 96ms/step\n"
          ]
        },
        {
          "output_type": "stream",
          "name": "stderr",
          "text": [
            "\r886it [02:13,  5.91it/s]"
          ]
        },
        {
          "output_type": "stream",
          "name": "stdout",
          "text": [
            "1/1 [==============================] - 0s 97ms/step\n"
          ]
        },
        {
          "output_type": "stream",
          "name": "stderr",
          "text": [
            "\r887it [02:13,  5.83it/s]"
          ]
        },
        {
          "output_type": "stream",
          "name": "stdout",
          "text": [
            "1/1 [==============================] - 0s 97ms/step\n"
          ]
        },
        {
          "output_type": "stream",
          "name": "stderr",
          "text": [
            "\r888it [02:14,  5.93it/s]"
          ]
        },
        {
          "output_type": "stream",
          "name": "stdout",
          "text": [
            "1/1 [==============================] - 0s 95ms/step\n"
          ]
        },
        {
          "output_type": "stream",
          "name": "stderr",
          "text": [
            "\r889it [02:14,  6.02it/s]"
          ]
        },
        {
          "output_type": "stream",
          "name": "stdout",
          "text": [
            "1/1 [==============================] - 0s 109ms/step\n"
          ]
        },
        {
          "output_type": "stream",
          "name": "stderr",
          "text": [
            "\r890it [02:14,  5.81it/s]"
          ]
        },
        {
          "output_type": "stream",
          "name": "stdout",
          "text": [
            "1/1 [==============================] - 0s 93ms/step\n"
          ]
        },
        {
          "output_type": "stream",
          "name": "stderr",
          "text": [
            "\r891it [02:14,  5.82it/s]"
          ]
        },
        {
          "output_type": "stream",
          "name": "stdout",
          "text": [
            "1/1 [==============================] - 0s 90ms/step\n"
          ]
        },
        {
          "output_type": "stream",
          "name": "stderr",
          "text": [
            "\r892it [02:14,  5.91it/s]"
          ]
        },
        {
          "output_type": "stream",
          "name": "stdout",
          "text": [
            "1/1 [==============================] - 0s 90ms/step\n"
          ]
        },
        {
          "output_type": "stream",
          "name": "stderr",
          "text": [
            "\r893it [02:14,  5.97it/s]"
          ]
        },
        {
          "output_type": "stream",
          "name": "stdout",
          "text": [
            "1/1 [==============================] - 0s 99ms/step\n"
          ]
        },
        {
          "output_type": "stream",
          "name": "stderr",
          "text": [
            "\r894it [02:15,  5.99it/s]"
          ]
        },
        {
          "output_type": "stream",
          "name": "stdout",
          "text": [
            "1/1 [==============================] - 0s 98ms/step\n"
          ]
        },
        {
          "output_type": "stream",
          "name": "stderr",
          "text": [
            "\r895it [02:15,  6.00it/s]"
          ]
        },
        {
          "output_type": "stream",
          "name": "stdout",
          "text": [
            "1/1 [==============================] - 0s 102ms/step\n"
          ]
        },
        {
          "output_type": "stream",
          "name": "stderr",
          "text": [
            "\r896it [02:15,  5.85it/s]"
          ]
        },
        {
          "output_type": "stream",
          "name": "stdout",
          "text": [
            "1/1 [==============================] - 0s 103ms/step\n"
          ]
        },
        {
          "output_type": "stream",
          "name": "stderr",
          "text": [
            "\r897it [02:15,  5.87it/s]"
          ]
        },
        {
          "output_type": "stream",
          "name": "stdout",
          "text": [
            "1/1 [==============================] - 0s 98ms/step\n"
          ]
        },
        {
          "output_type": "stream",
          "name": "stderr",
          "text": [
            "\r898it [02:15,  5.86it/s]"
          ]
        },
        {
          "output_type": "stream",
          "name": "stdout",
          "text": [
            "1/1 [==============================] - 0s 95ms/step\n"
          ]
        },
        {
          "output_type": "stream",
          "name": "stderr",
          "text": [
            "\r899it [02:15,  5.92it/s]"
          ]
        },
        {
          "output_type": "stream",
          "name": "stdout",
          "text": [
            "1/1 [==============================] - 0s 92ms/step\n"
          ]
        },
        {
          "output_type": "stream",
          "name": "stderr",
          "text": [
            "\r900it [02:16,  6.04it/s]"
          ]
        },
        {
          "output_type": "stream",
          "name": "stdout",
          "text": [
            "1/1 [==============================] - 0s 91ms/step\n"
          ]
        },
        {
          "output_type": "stream",
          "name": "stderr",
          "text": [
            "\r901it [02:16,  6.12it/s]"
          ]
        },
        {
          "output_type": "stream",
          "name": "stdout",
          "text": [
            "1/1 [==============================] - 0s 104ms/step\n"
          ]
        },
        {
          "output_type": "stream",
          "name": "stderr",
          "text": [
            "\r902it [02:16,  6.03it/s]"
          ]
        },
        {
          "output_type": "stream",
          "name": "stdout",
          "text": [
            "1/1 [==============================] - 0s 92ms/step\n"
          ]
        },
        {
          "output_type": "stream",
          "name": "stderr",
          "text": [
            "\r903it [02:16,  6.13it/s]"
          ]
        },
        {
          "output_type": "stream",
          "name": "stdout",
          "text": [
            "1/1 [==============================] - 0s 105ms/step\n"
          ]
        },
        {
          "output_type": "stream",
          "name": "stderr",
          "text": [
            "\r904it [02:16,  6.06it/s]"
          ]
        },
        {
          "output_type": "stream",
          "name": "stdout",
          "text": [
            "1/1 [==============================] - 0s 136ms/step\n"
          ]
        },
        {
          "output_type": "stream",
          "name": "stderr",
          "text": [
            "\r905it [02:17,  5.64it/s]"
          ]
        },
        {
          "output_type": "stream",
          "name": "stdout",
          "text": [
            "1/1 [==============================] - 0s 167ms/step\n"
          ]
        },
        {
          "output_type": "stream",
          "name": "stderr",
          "text": [
            "\r906it [02:17,  4.79it/s]"
          ]
        },
        {
          "output_type": "stream",
          "name": "stdout",
          "text": [
            "1/1 [==============================] - 0s 176ms/step\n"
          ]
        },
        {
          "output_type": "stream",
          "name": "stderr",
          "text": [
            "\r907it [02:17,  4.31it/s]"
          ]
        },
        {
          "output_type": "stream",
          "name": "stdout",
          "text": [
            "1/1 [==============================] - 0s 186ms/step\n"
          ]
        },
        {
          "output_type": "stream",
          "name": "stderr",
          "text": [
            "\r908it [02:17,  3.96it/s]"
          ]
        },
        {
          "output_type": "stream",
          "name": "stdout",
          "text": [
            "1/1 [==============================] - 0s 154ms/step\n"
          ]
        },
        {
          "output_type": "stream",
          "name": "stderr",
          "text": [
            "\r909it [02:18,  3.91it/s]"
          ]
        },
        {
          "output_type": "stream",
          "name": "stdout",
          "text": [
            "1/1 [==============================] - 0s 163ms/step\n"
          ]
        },
        {
          "output_type": "stream",
          "name": "stderr",
          "text": [
            "\r910it [02:18,  3.91it/s]"
          ]
        },
        {
          "output_type": "stream",
          "name": "stdout",
          "text": [
            "1/1 [==============================] - 0s 175ms/step\n"
          ]
        },
        {
          "output_type": "stream",
          "name": "stderr",
          "text": [
            "\r911it [02:18,  3.92it/s]"
          ]
        },
        {
          "output_type": "stream",
          "name": "stdout",
          "text": [
            "1/1 [==============================] - 0s 124ms/step\n"
          ]
        },
        {
          "output_type": "stream",
          "name": "stderr",
          "text": [
            "\r912it [02:18,  4.09it/s]"
          ]
        },
        {
          "output_type": "stream",
          "name": "stdout",
          "text": [
            "1/1 [==============================] - 0s 92ms/step\n"
          ]
        },
        {
          "output_type": "stream",
          "name": "stderr",
          "text": [
            "\r913it [02:19,  4.56it/s]"
          ]
        },
        {
          "output_type": "stream",
          "name": "stdout",
          "text": [
            "1/1 [==============================] - 0s 93ms/step\n"
          ]
        },
        {
          "output_type": "stream",
          "name": "stderr",
          "text": [
            "\r914it [02:19,  4.96it/s]"
          ]
        },
        {
          "output_type": "stream",
          "name": "stdout",
          "text": [
            "1/1 [==============================] - 0s 96ms/step\n"
          ]
        },
        {
          "output_type": "stream",
          "name": "stderr",
          "text": [
            "\r915it [02:19,  5.25it/s]"
          ]
        },
        {
          "output_type": "stream",
          "name": "stdout",
          "text": [
            "1/1 [==============================] - 0s 101ms/step\n"
          ]
        },
        {
          "output_type": "stream",
          "name": "stderr",
          "text": [
            "\r916it [02:19,  5.42it/s]"
          ]
        },
        {
          "output_type": "stream",
          "name": "stdout",
          "text": [
            "1/1 [==============================] - 0s 101ms/step\n"
          ]
        },
        {
          "output_type": "stream",
          "name": "stderr",
          "text": [
            "\r917it [02:19,  5.39it/s]"
          ]
        },
        {
          "output_type": "stream",
          "name": "stdout",
          "text": [
            "1/1 [==============================] - 0s 97ms/step\n"
          ]
        },
        {
          "output_type": "stream",
          "name": "stderr",
          "text": [
            "\r918it [02:19,  5.66it/s]"
          ]
        },
        {
          "output_type": "stream",
          "name": "stdout",
          "text": [
            "1/1 [==============================] - 0s 96ms/step\n"
          ]
        },
        {
          "output_type": "stream",
          "name": "stderr",
          "text": [
            "\r919it [02:20,  5.80it/s]"
          ]
        },
        {
          "output_type": "stream",
          "name": "stdout",
          "text": [
            "1/1 [==============================] - 0s 91ms/step\n"
          ]
        },
        {
          "output_type": "stream",
          "name": "stderr",
          "text": [
            "\r920it [02:20,  5.93it/s]"
          ]
        },
        {
          "output_type": "stream",
          "name": "stdout",
          "text": [
            "1/1 [==============================] - 0s 93ms/step\n"
          ]
        },
        {
          "output_type": "stream",
          "name": "stderr",
          "text": [
            "\r921it [02:20,  6.04it/s]"
          ]
        },
        {
          "output_type": "stream",
          "name": "stdout",
          "text": [
            "1/1 [==============================] - 0s 98ms/step\n"
          ]
        },
        {
          "output_type": "stream",
          "name": "stderr",
          "text": [
            "\r922it [02:20,  5.97it/s]"
          ]
        },
        {
          "output_type": "stream",
          "name": "stdout",
          "text": [
            "1/1 [==============================] - 0s 97ms/step\n"
          ]
        },
        {
          "output_type": "stream",
          "name": "stderr",
          "text": [
            "\r923it [02:20,  5.80it/s]"
          ]
        },
        {
          "output_type": "stream",
          "name": "stdout",
          "text": [
            "1/1 [==============================] - 0s 94ms/step\n"
          ]
        },
        {
          "output_type": "stream",
          "name": "stderr",
          "text": [
            "\r924it [02:20,  5.93it/s]"
          ]
        },
        {
          "output_type": "stream",
          "name": "stdout",
          "text": [
            "1/1 [==============================] - 0s 100ms/step\n"
          ]
        },
        {
          "output_type": "stream",
          "name": "stderr",
          "text": [
            "\r925it [02:21,  5.97it/s]"
          ]
        },
        {
          "output_type": "stream",
          "name": "stdout",
          "text": [
            "1/1 [==============================] - 0s 107ms/step\n"
          ]
        },
        {
          "output_type": "stream",
          "name": "stderr",
          "text": [
            "\r926it [02:21,  5.87it/s]"
          ]
        },
        {
          "output_type": "stream",
          "name": "stdout",
          "text": [
            "1/1 [==============================] - 0s 108ms/step\n"
          ]
        },
        {
          "output_type": "stream",
          "name": "stderr",
          "text": [
            "\r927it [02:21,  5.67it/s]"
          ]
        },
        {
          "output_type": "stream",
          "name": "stdout",
          "text": [
            "1/1 [==============================] - 0s 94ms/step\n"
          ]
        },
        {
          "output_type": "stream",
          "name": "stderr",
          "text": [
            "\r928it [02:21,  5.76it/s]"
          ]
        },
        {
          "output_type": "stream",
          "name": "stdout",
          "text": [
            "1/1 [==============================] - 0s 97ms/step\n"
          ]
        },
        {
          "output_type": "stream",
          "name": "stderr",
          "text": [
            "\r929it [02:21,  5.78it/s]"
          ]
        },
        {
          "output_type": "stream",
          "name": "stdout",
          "text": [
            "1/1 [==============================] - 0s 94ms/step\n"
          ]
        },
        {
          "output_type": "stream",
          "name": "stderr",
          "text": [
            "\r930it [02:21,  5.86it/s]"
          ]
        },
        {
          "output_type": "stream",
          "name": "stdout",
          "text": [
            "1/1 [==============================] - 0s 105ms/step\n"
          ]
        },
        {
          "output_type": "stream",
          "name": "stderr",
          "text": [
            "\r931it [02:22,  5.82it/s]"
          ]
        },
        {
          "output_type": "stream",
          "name": "stdout",
          "text": [
            "1/1 [==============================] - 0s 96ms/step\n"
          ]
        },
        {
          "output_type": "stream",
          "name": "stderr",
          "text": [
            "\r932it [02:22,  5.78it/s]"
          ]
        },
        {
          "output_type": "stream",
          "name": "stdout",
          "text": [
            "1/1 [==============================] - 0s 107ms/step\n"
          ]
        },
        {
          "output_type": "stream",
          "name": "stderr",
          "text": [
            "\r933it [02:22,  5.74it/s]"
          ]
        },
        {
          "output_type": "stream",
          "name": "stdout",
          "text": [
            "1/1 [==============================] - 0s 97ms/step\n"
          ]
        },
        {
          "output_type": "stream",
          "name": "stderr",
          "text": [
            "\r934it [02:22,  5.68it/s]"
          ]
        },
        {
          "output_type": "stream",
          "name": "stdout",
          "text": [
            "1/1 [==============================] - 0s 102ms/step\n"
          ]
        },
        {
          "output_type": "stream",
          "name": "stderr",
          "text": [
            "\r935it [02:22,  5.57it/s]"
          ]
        },
        {
          "output_type": "stream",
          "name": "stdout",
          "text": [
            "1/1 [==============================] - 0s 95ms/step\n"
          ]
        },
        {
          "output_type": "stream",
          "name": "stderr",
          "text": [
            "\r936it [02:22,  5.69it/s]"
          ]
        },
        {
          "output_type": "stream",
          "name": "stdout",
          "text": [
            "1/1 [==============================] - 0s 92ms/step\n"
          ]
        },
        {
          "output_type": "stream",
          "name": "stderr",
          "text": [
            "\r937it [02:23,  5.81it/s]"
          ]
        },
        {
          "output_type": "stream",
          "name": "stdout",
          "text": [
            "1/1 [==============================] - 0s 101ms/step\n"
          ]
        },
        {
          "output_type": "stream",
          "name": "stderr",
          "text": [
            "\r938it [02:23,  5.84it/s]"
          ]
        },
        {
          "output_type": "stream",
          "name": "stdout",
          "text": [
            "1/1 [==============================] - 0s 102ms/step\n"
          ]
        },
        {
          "output_type": "stream",
          "name": "stderr",
          "text": [
            "\r939it [02:23,  5.88it/s]"
          ]
        },
        {
          "output_type": "stream",
          "name": "stdout",
          "text": [
            "1/1 [==============================] - 0s 96ms/step\n"
          ]
        },
        {
          "output_type": "stream",
          "name": "stderr",
          "text": [
            "\r940it [02:23,  5.94it/s]"
          ]
        },
        {
          "output_type": "stream",
          "name": "stdout",
          "text": [
            "1/1 [==============================] - 0s 96ms/step\n"
          ]
        },
        {
          "output_type": "stream",
          "name": "stderr",
          "text": [
            "\r941it [02:23,  5.77it/s]"
          ]
        },
        {
          "output_type": "stream",
          "name": "stdout",
          "text": [
            "1/1 [==============================] - 0s 95ms/step\n"
          ]
        },
        {
          "output_type": "stream",
          "name": "stderr",
          "text": [
            "\r942it [02:23,  5.86it/s]"
          ]
        },
        {
          "output_type": "stream",
          "name": "stdout",
          "text": [
            "1/1 [==============================] - 0s 99ms/step\n"
          ]
        },
        {
          "output_type": "stream",
          "name": "stderr",
          "text": [
            "\r943it [02:24,  5.87it/s]"
          ]
        },
        {
          "output_type": "stream",
          "name": "stdout",
          "text": [
            "1/1 [==============================] - 0s 96ms/step\n"
          ]
        },
        {
          "output_type": "stream",
          "name": "stderr",
          "text": [
            "\r944it [02:24,  5.88it/s]"
          ]
        },
        {
          "output_type": "stream",
          "name": "stdout",
          "text": [
            "1/1 [==============================] - 0s 96ms/step\n"
          ]
        },
        {
          "output_type": "stream",
          "name": "stderr",
          "text": [
            "\r945it [02:24,  5.85it/s]"
          ]
        },
        {
          "output_type": "stream",
          "name": "stdout",
          "text": [
            "1/1 [==============================] - 0s 91ms/step\n"
          ]
        },
        {
          "output_type": "stream",
          "name": "stderr",
          "text": [
            "\r946it [02:24,  5.92it/s]"
          ]
        },
        {
          "output_type": "stream",
          "name": "stdout",
          "text": [
            "1/1 [==============================] - 0s 97ms/step\n"
          ]
        },
        {
          "output_type": "stream",
          "name": "stderr",
          "text": [
            "\r947it [02:24,  5.84it/s]"
          ]
        },
        {
          "output_type": "stream",
          "name": "stdout",
          "text": [
            "1/1 [==============================] - 0s 94ms/step\n"
          ]
        },
        {
          "output_type": "stream",
          "name": "stderr",
          "text": [
            "\r948it [02:25,  5.83it/s]"
          ]
        },
        {
          "output_type": "stream",
          "name": "stdout",
          "text": [
            "1/1 [==============================] - 0s 92ms/step\n"
          ]
        },
        {
          "output_type": "stream",
          "name": "stderr",
          "text": [
            "\r949it [02:25,  5.92it/s]"
          ]
        },
        {
          "output_type": "stream",
          "name": "stdout",
          "text": [
            "1/1 [==============================] - 0s 94ms/step\n"
          ]
        },
        {
          "output_type": "stream",
          "name": "stderr",
          "text": [
            "\r950it [02:25,  5.89it/s]"
          ]
        },
        {
          "output_type": "stream",
          "name": "stdout",
          "text": [
            "1/1 [==============================] - 0s 96ms/step\n"
          ]
        },
        {
          "output_type": "stream",
          "name": "stderr",
          "text": [
            "\r951it [02:25,  5.90it/s]"
          ]
        },
        {
          "output_type": "stream",
          "name": "stdout",
          "text": [
            "1/1 [==============================] - 0s 92ms/step\n"
          ]
        },
        {
          "output_type": "stream",
          "name": "stderr",
          "text": [
            "\r952it [02:25,  5.88it/s]"
          ]
        },
        {
          "output_type": "stream",
          "name": "stdout",
          "text": [
            "1/1 [==============================] - 0s 97ms/step\n"
          ]
        },
        {
          "output_type": "stream",
          "name": "stderr",
          "text": [
            "\r953it [02:25,  5.82it/s]"
          ]
        },
        {
          "output_type": "stream",
          "name": "stdout",
          "text": [
            "1/1 [==============================] - 0s 90ms/step\n"
          ]
        },
        {
          "output_type": "stream",
          "name": "stderr",
          "text": [
            "\r954it [02:26,  5.95it/s]"
          ]
        },
        {
          "output_type": "stream",
          "name": "stdout",
          "text": [
            "1/1 [==============================] - 0s 92ms/step\n"
          ]
        },
        {
          "output_type": "stream",
          "name": "stderr",
          "text": [
            "\r955it [02:26,  6.07it/s]"
          ]
        },
        {
          "output_type": "stream",
          "name": "stdout",
          "text": [
            "1/1 [==============================] - 0s 94ms/step\n"
          ]
        },
        {
          "output_type": "stream",
          "name": "stderr",
          "text": [
            "\r956it [02:26,  6.13it/s]"
          ]
        },
        {
          "output_type": "stream",
          "name": "stdout",
          "text": [
            "1/1 [==============================] - 0s 103ms/step\n"
          ]
        },
        {
          "output_type": "stream",
          "name": "stderr",
          "text": [
            "\r957it [02:26,  6.05it/s]"
          ]
        },
        {
          "output_type": "stream",
          "name": "stdout",
          "text": [
            "1/1 [==============================] - 0s 97ms/step\n"
          ]
        },
        {
          "output_type": "stream",
          "name": "stderr",
          "text": [
            "\r958it [02:26,  5.93it/s]"
          ]
        },
        {
          "output_type": "stream",
          "name": "stdout",
          "text": [
            "1/1 [==============================] - 0s 93ms/step\n"
          ]
        },
        {
          "output_type": "stream",
          "name": "stderr",
          "text": [
            "\r959it [02:26,  5.94it/s]"
          ]
        },
        {
          "output_type": "stream",
          "name": "stdout",
          "text": [
            "1/1 [==============================] - 0s 92ms/step\n"
          ]
        },
        {
          "output_type": "stream",
          "name": "stderr",
          "text": [
            "\r960it [02:27,  6.03it/s]"
          ]
        },
        {
          "output_type": "stream",
          "name": "stdout",
          "text": [
            "1/1 [==============================] - 0s 96ms/step\n"
          ]
        },
        {
          "output_type": "stream",
          "name": "stderr",
          "text": [
            "\r961it [02:27,  6.02it/s]"
          ]
        },
        {
          "output_type": "stream",
          "name": "stdout",
          "text": [
            "1/1 [==============================] - 0s 94ms/step\n"
          ]
        },
        {
          "output_type": "stream",
          "name": "stderr",
          "text": [
            "\r962it [02:27,  6.16it/s]"
          ]
        },
        {
          "output_type": "stream",
          "name": "stdout",
          "text": [
            "1/1 [==============================] - 0s 94ms/step\n"
          ]
        },
        {
          "output_type": "stream",
          "name": "stderr",
          "text": [
            "\r963it [02:27,  6.13it/s]"
          ]
        },
        {
          "output_type": "stream",
          "name": "stdout",
          "text": [
            "1/1 [==============================] - 0s 94ms/step\n"
          ]
        },
        {
          "output_type": "stream",
          "name": "stderr",
          "text": [
            "\r964it [02:27,  6.08it/s]"
          ]
        },
        {
          "output_type": "stream",
          "name": "stdout",
          "text": [
            "1/1 [==============================] - 0s 112ms/step\n"
          ]
        },
        {
          "output_type": "stream",
          "name": "stderr",
          "text": [
            "\r965it [02:27,  5.48it/s]"
          ]
        },
        {
          "output_type": "stream",
          "name": "stdout",
          "text": [
            "1/1 [==============================] - 0s 93ms/step\n"
          ]
        },
        {
          "output_type": "stream",
          "name": "stderr",
          "text": [
            "\r966it [02:28,  5.71it/s]"
          ]
        },
        {
          "output_type": "stream",
          "name": "stdout",
          "text": [
            "1/1 [==============================] - 0s 95ms/step\n"
          ]
        },
        {
          "output_type": "stream",
          "name": "stderr",
          "text": [
            "\r967it [02:28,  5.77it/s]"
          ]
        },
        {
          "output_type": "stream",
          "name": "stdout",
          "text": [
            "1/1 [==============================] - 0s 101ms/step\n"
          ]
        },
        {
          "output_type": "stream",
          "name": "stderr",
          "text": [
            "\r968it [02:28,  5.72it/s]"
          ]
        },
        {
          "output_type": "stream",
          "name": "stdout",
          "text": [
            "1/1 [==============================] - 0s 95ms/step\n"
          ]
        },
        {
          "output_type": "stream",
          "name": "stderr",
          "text": [
            "\r969it [02:28,  5.88it/s]"
          ]
        },
        {
          "output_type": "stream",
          "name": "stdout",
          "text": [
            "1/1 [==============================] - 0s 92ms/step\n"
          ]
        },
        {
          "output_type": "stream",
          "name": "stderr",
          "text": [
            "\r970it [02:28,  5.99it/s]"
          ]
        },
        {
          "output_type": "stream",
          "name": "stdout",
          "text": [
            "1/1 [==============================] - 0s 128ms/step\n"
          ]
        },
        {
          "output_type": "stream",
          "name": "stderr",
          "text": [
            "\r971it [02:28,  5.76it/s]"
          ]
        },
        {
          "output_type": "stream",
          "name": "stdout",
          "text": [
            "1/1 [==============================] - 0s 151ms/step\n"
          ]
        },
        {
          "output_type": "stream",
          "name": "stderr",
          "text": [
            "\r972it [02:29,  5.18it/s]"
          ]
        },
        {
          "output_type": "stream",
          "name": "stdout",
          "text": [
            "1/1 [==============================] - 0s 160ms/step\n"
          ]
        },
        {
          "output_type": "stream",
          "name": "stderr",
          "text": [
            "\r973it [02:29,  4.75it/s]"
          ]
        },
        {
          "output_type": "stream",
          "name": "stdout",
          "text": [
            "1/1 [==============================] - 0s 157ms/step\n"
          ]
        },
        {
          "output_type": "stream",
          "name": "stderr",
          "text": [
            "\r974it [02:29,  4.47it/s]"
          ]
        },
        {
          "output_type": "stream",
          "name": "stdout",
          "text": [
            "1/1 [==============================] - 0s 180ms/step\n"
          ]
        },
        {
          "output_type": "stream",
          "name": "stderr",
          "text": [
            "\r975it [02:29,  4.30it/s]"
          ]
        },
        {
          "output_type": "stream",
          "name": "stdout",
          "text": [
            "1/1 [==============================] - 0s 177ms/step\n"
          ]
        },
        {
          "output_type": "stream",
          "name": "stderr",
          "text": [
            "\r976it [02:30,  4.10it/s]"
          ]
        },
        {
          "output_type": "stream",
          "name": "stdout",
          "text": [
            "1/1 [==============================] - 0s 154ms/step\n"
          ]
        },
        {
          "output_type": "stream",
          "name": "stderr",
          "text": [
            "\r977it [02:30,  4.11it/s]"
          ]
        },
        {
          "output_type": "stream",
          "name": "stdout",
          "text": [
            "1/1 [==============================] - 0s 150ms/step\n"
          ]
        },
        {
          "output_type": "stream",
          "name": "stderr",
          "text": [
            "\r978it [02:30,  4.01it/s]"
          ]
        },
        {
          "output_type": "stream",
          "name": "stdout",
          "text": [
            "1/1 [==============================] - 0s 167ms/step\n"
          ]
        },
        {
          "output_type": "stream",
          "name": "stderr",
          "text": [
            "\r979it [02:30,  4.01it/s]"
          ]
        },
        {
          "output_type": "stream",
          "name": "stdout",
          "text": [
            "1/1 [==============================] - 0s 123ms/step\n"
          ]
        },
        {
          "output_type": "stream",
          "name": "stderr",
          "text": [
            "\r980it [02:31,  4.18it/s]"
          ]
        },
        {
          "output_type": "stream",
          "name": "stdout",
          "text": [
            "1/1 [==============================] - 0s 97ms/step\n"
          ]
        },
        {
          "output_type": "stream",
          "name": "stderr",
          "text": [
            "\r981it [02:31,  4.57it/s]"
          ]
        },
        {
          "output_type": "stream",
          "name": "stdout",
          "text": [
            "1/1 [==============================] - 0s 97ms/step\n"
          ]
        },
        {
          "output_type": "stream",
          "name": "stderr",
          "text": [
            "\r982it [02:31,  4.94it/s]"
          ]
        },
        {
          "output_type": "stream",
          "name": "stdout",
          "text": [
            "1/1 [==============================] - 0s 95ms/step\n"
          ]
        },
        {
          "output_type": "stream",
          "name": "stderr",
          "text": [
            "\r983it [02:31,  5.21it/s]"
          ]
        },
        {
          "output_type": "stream",
          "name": "stdout",
          "text": [
            "1/1 [==============================] - 0s 101ms/step\n"
          ]
        },
        {
          "output_type": "stream",
          "name": "stderr",
          "text": [
            "\r984it [02:31,  5.38it/s]"
          ]
        },
        {
          "output_type": "stream",
          "name": "stdout",
          "text": [
            "1/1 [==============================] - 0s 105ms/step\n"
          ]
        },
        {
          "output_type": "stream",
          "name": "stderr",
          "text": [
            "\r985it [02:31,  5.37it/s]"
          ]
        },
        {
          "output_type": "stream",
          "name": "stdout",
          "text": [
            "1/1 [==============================] - 0s 104ms/step\n"
          ]
        },
        {
          "output_type": "stream",
          "name": "stderr",
          "text": [
            "\r986it [02:32,  5.46it/s]"
          ]
        },
        {
          "output_type": "stream",
          "name": "stdout",
          "text": [
            "1/1 [==============================] - 0s 91ms/step\n"
          ]
        },
        {
          "output_type": "stream",
          "name": "stderr",
          "text": [
            "\r987it [02:32,  5.71it/s]"
          ]
        },
        {
          "output_type": "stream",
          "name": "stdout",
          "text": [
            "1/1 [==============================] - 0s 95ms/step\n"
          ]
        },
        {
          "output_type": "stream",
          "name": "stderr",
          "text": [
            "\r988it [02:32,  5.81it/s]"
          ]
        },
        {
          "output_type": "stream",
          "name": "stdout",
          "text": [
            "1/1 [==============================] - 0s 94ms/step\n"
          ]
        },
        {
          "output_type": "stream",
          "name": "stderr",
          "text": [
            "\r989it [02:32,  5.87it/s]"
          ]
        },
        {
          "output_type": "stream",
          "name": "stdout",
          "text": [
            "1/1 [==============================] - 0s 95ms/step\n"
          ]
        },
        {
          "output_type": "stream",
          "name": "stderr",
          "text": [
            "\r990it [02:32,  6.00it/s]"
          ]
        },
        {
          "output_type": "stream",
          "name": "stdout",
          "text": [
            "1/1 [==============================] - 0s 105ms/step\n"
          ]
        },
        {
          "output_type": "stream",
          "name": "stderr",
          "text": [
            "\r991it [02:32,  5.92it/s]"
          ]
        },
        {
          "output_type": "stream",
          "name": "stdout",
          "text": [
            "1/1 [==============================] - 0s 98ms/step\n"
          ]
        },
        {
          "output_type": "stream",
          "name": "stderr",
          "text": [
            "\r992it [02:33,  5.96it/s]"
          ]
        },
        {
          "output_type": "stream",
          "name": "stdout",
          "text": [
            "1/1 [==============================] - 0s 104ms/step\n"
          ]
        },
        {
          "output_type": "stream",
          "name": "stderr",
          "text": [
            "\r993it [02:33,  5.92it/s]"
          ]
        },
        {
          "output_type": "stream",
          "name": "stdout",
          "text": [
            "1/1 [==============================] - 0s 97ms/step\n"
          ]
        },
        {
          "output_type": "stream",
          "name": "stderr",
          "text": [
            "\r994it [02:33,  5.90it/s]"
          ]
        },
        {
          "output_type": "stream",
          "name": "stdout",
          "text": [
            "1/1 [==============================] - 0s 92ms/step\n"
          ]
        },
        {
          "output_type": "stream",
          "name": "stderr",
          "text": [
            "\r995it [02:33,  5.91it/s]"
          ]
        },
        {
          "output_type": "stream",
          "name": "stdout",
          "text": [
            "1/1 [==============================] - 0s 94ms/step\n"
          ]
        },
        {
          "output_type": "stream",
          "name": "stderr",
          "text": [
            "\r996it [02:33,  5.98it/s]"
          ]
        },
        {
          "output_type": "stream",
          "name": "stdout",
          "text": [
            "1/1 [==============================] - 0s 101ms/step\n"
          ]
        },
        {
          "output_type": "stream",
          "name": "stderr",
          "text": [
            "\r997it [02:34,  5.97it/s]"
          ]
        },
        {
          "output_type": "stream",
          "name": "stdout",
          "text": [
            "1/1 [==============================] - 0s 94ms/step\n"
          ]
        },
        {
          "output_type": "stream",
          "name": "stderr",
          "text": [
            "\r998it [02:34,  6.04it/s]"
          ]
        },
        {
          "output_type": "stream",
          "name": "stdout",
          "text": [
            "1/1 [==============================] - 0s 104ms/step\n"
          ]
        },
        {
          "output_type": "stream",
          "name": "stderr",
          "text": [
            "\r999it [02:34,  5.92it/s]"
          ]
        },
        {
          "output_type": "stream",
          "name": "stdout",
          "text": [
            "1/1 [==============================] - 0s 101ms/step\n"
          ]
        },
        {
          "output_type": "stream",
          "name": "stderr",
          "text": [
            "\r1000it [02:34,  5.89it/s]"
          ]
        },
        {
          "output_type": "stream",
          "name": "stdout",
          "text": [
            "1/1 [==============================] - 0s 90ms/step\n"
          ]
        },
        {
          "output_type": "stream",
          "name": "stderr",
          "text": [
            "\r1001it [02:34,  6.00it/s]"
          ]
        },
        {
          "output_type": "stream",
          "name": "stdout",
          "text": [
            "1/1 [==============================] - 0s 97ms/step\n"
          ]
        },
        {
          "output_type": "stream",
          "name": "stderr",
          "text": [
            "\r1002it [02:34,  5.43it/s]"
          ]
        },
        {
          "output_type": "stream",
          "name": "stdout",
          "text": [
            "1/1 [==============================] - 0s 101ms/step\n"
          ]
        },
        {
          "output_type": "stream",
          "name": "stderr",
          "text": [
            "\r1003it [02:35,  5.64it/s]"
          ]
        },
        {
          "output_type": "stream",
          "name": "stdout",
          "text": [
            "1/1 [==============================] - 0s 92ms/step\n"
          ]
        },
        {
          "output_type": "stream",
          "name": "stderr",
          "text": [
            "\r1004it [02:35,  5.82it/s]"
          ]
        },
        {
          "output_type": "stream",
          "name": "stdout",
          "text": [
            "1/1 [==============================] - 0s 95ms/step\n"
          ]
        },
        {
          "output_type": "stream",
          "name": "stderr",
          "text": [
            "\r1005it [02:35,  5.85it/s]"
          ]
        },
        {
          "output_type": "stream",
          "name": "stdout",
          "text": [
            "1/1 [==============================] - 0s 96ms/step\n"
          ]
        },
        {
          "output_type": "stream",
          "name": "stderr",
          "text": [
            "\r1006it [02:35,  5.95it/s]"
          ]
        },
        {
          "output_type": "stream",
          "name": "stdout",
          "text": [
            "1/1 [==============================] - 0s 95ms/step\n"
          ]
        },
        {
          "output_type": "stream",
          "name": "stderr",
          "text": [
            "\r1007it [02:35,  6.00it/s]"
          ]
        },
        {
          "output_type": "stream",
          "name": "stdout",
          "text": [
            "1/1 [==============================] - 0s 97ms/step\n"
          ]
        },
        {
          "output_type": "stream",
          "name": "stderr",
          "text": [
            "\r1008it [02:35,  5.94it/s]"
          ]
        },
        {
          "output_type": "stream",
          "name": "stdout",
          "text": [
            "1/1 [==============================] - 0s 109ms/step\n"
          ]
        },
        {
          "output_type": "stream",
          "name": "stderr",
          "text": [
            "\r1009it [02:36,  5.82it/s]"
          ]
        },
        {
          "output_type": "stream",
          "name": "stdout",
          "text": [
            "1/1 [==============================] - 0s 92ms/step\n"
          ]
        },
        {
          "output_type": "stream",
          "name": "stderr",
          "text": [
            "\r1010it [02:36,  5.97it/s]"
          ]
        },
        {
          "output_type": "stream",
          "name": "stdout",
          "text": [
            "1/1 [==============================] - 0s 94ms/step\n"
          ]
        },
        {
          "output_type": "stream",
          "name": "stderr",
          "text": [
            "\r1011it [02:36,  5.93it/s]"
          ]
        },
        {
          "output_type": "stream",
          "name": "stdout",
          "text": [
            "1/1 [==============================] - 0s 93ms/step\n"
          ]
        },
        {
          "output_type": "stream",
          "name": "stderr",
          "text": [
            "\r1012it [02:36,  5.83it/s]"
          ]
        },
        {
          "output_type": "stream",
          "name": "stdout",
          "text": [
            "1/1 [==============================] - 0s 97ms/step\n"
          ]
        },
        {
          "output_type": "stream",
          "name": "stderr",
          "text": [
            "\r1013it [02:36,  5.85it/s]"
          ]
        },
        {
          "output_type": "stream",
          "name": "stdout",
          "text": [
            "1/1 [==============================] - 0s 93ms/step\n"
          ]
        },
        {
          "output_type": "stream",
          "name": "stderr",
          "text": [
            "\r1014it [02:36,  6.01it/s]"
          ]
        },
        {
          "output_type": "stream",
          "name": "stdout",
          "text": [
            "1/1 [==============================] - 0s 104ms/step\n"
          ]
        },
        {
          "output_type": "stream",
          "name": "stderr",
          "text": [
            "\r1015it [02:37,  5.85it/s]"
          ]
        },
        {
          "output_type": "stream",
          "name": "stdout",
          "text": [
            "1/1 [==============================] - 0s 92ms/step\n"
          ]
        },
        {
          "output_type": "stream",
          "name": "stderr",
          "text": [
            "\r1016it [02:37,  5.94it/s]"
          ]
        },
        {
          "output_type": "stream",
          "name": "stdout",
          "text": [
            "1/1 [==============================] - 0s 94ms/step\n"
          ]
        },
        {
          "output_type": "stream",
          "name": "stderr",
          "text": [
            "\r1017it [02:37,  6.05it/s]"
          ]
        },
        {
          "output_type": "stream",
          "name": "stdout",
          "text": [
            "1/1 [==============================] - 0s 92ms/step\n"
          ]
        },
        {
          "output_type": "stream",
          "name": "stderr",
          "text": [
            "\r1018it [02:37,  6.20it/s]"
          ]
        },
        {
          "output_type": "stream",
          "name": "stdout",
          "text": [
            "1/1 [==============================] - 0s 102ms/step\n"
          ]
        },
        {
          "output_type": "stream",
          "name": "stderr",
          "text": [
            "\r1019it [02:37,  6.06it/s]"
          ]
        },
        {
          "output_type": "stream",
          "name": "stdout",
          "text": [
            "1/1 [==============================] - 0s 96ms/step\n"
          ]
        },
        {
          "output_type": "stream",
          "name": "stderr",
          "text": [
            "1020it [02:37,  6.46it/s]\n"
          ]
        }
      ]
    },
    {
      "cell_type": "code",
      "source": [
        "all_features"
      ],
      "metadata": {
        "colab": {
          "base_uri": "https://localhost:8080/"
        },
        "id": "UP9THNn6Plmt",
        "outputId": "b3a40d91-de9a-47b7-91ea-245e14c5c1a1"
      },
      "execution_count": 22,
      "outputs": [
        {
          "output_type": "execute_result",
          "data": {
            "text/plain": [
              "{72: [-0.005025452923291596,\n",
              "  -0.005025452923291596,\n",
              "  -0.005025452923291596,\n",
              "  -0.005025452923291596,\n",
              "  -0.005025452923291596,\n",
              "  -0.005025452923291596,\n",
              "  -0.005025452923291596,\n",
              "  -0.005025452923291596,\n",
              "  -0.005025452923291596,\n",
              "  -0.005025452923291596,\n",
              "  -0.005025452923291596,\n",
              "  -0.005025452923291596,\n",
              "  -0.005025452923291596,\n",
              "  -0.005025452923291596,\n",
              "  -0.005025452923291596,\n",
              "  -0.005025452923291596,\n",
              "  -0.005025452923291596,\n",
              "  -0.005025452923291596,\n",
              "  -0.005025452923291596,\n",
              "  -0.005025452923291596,\n",
              "  -0.005025452923291596,\n",
              "  -0.005025452923291596,\n",
              "  -0.005025452923291596,\n",
              "  -0.005025452923291596,\n",
              "  -0.005025452923291596,\n",
              "  -0.005025452923291596,\n",
              "  -0.005025452923291596,\n",
              "  -0.005025452923291596,\n",
              "  -0.005025452923291596,\n",
              "  -0.005025452923291596,\n",
              "  -0.005025452923291596,\n",
              "  -0.005025452923291596,\n",
              "  -0.005025452923291596,\n",
              "  -0.005025452923291596,\n",
              "  -0.005025452923291596,\n",
              "  -0.005025452923291596,\n",
              "  -0.005025452923291596,\n",
              "  -0.005025452923291596,\n",
              "  -0.005025452923291596,\n",
              "  -0.005025452923291596,\n",
              "  -0.005025452923291596,\n",
              "  -0.005025452923291596,\n",
              "  -0.005025452923291596,\n",
              "  -0.005025452923291596,\n",
              "  -0.005025452923291596,\n",
              "  -0.005025452923291596,\n",
              "  -0.005025452923291596,\n",
              "  -0.005025452923291596,\n",
              "  -0.005025452923291596,\n",
              "  -0.005025452923291596,\n",
              "  -0.005025452923291596,\n",
              "  -0.005025452923291596,\n",
              "  -0.005025452923291596,\n",
              "  -0.005025452923291596,\n",
              "  -0.005025452923291596,\n",
              "  -0.005025452923291596,\n",
              "  -0.005025452923291596,\n",
              "  -0.005025452923291596,\n",
              "  -0.005025452923291596,\n",
              "  -0.005025452923291596,\n",
              "  -0.005025452923291596,\n",
              "  -0.005025452923291596,\n",
              "  -0.005025452923291596,\n",
              "  -0.005025452923291596,\n",
              "  -0.005025452923291596,\n",
              "  -0.005025452923291596,\n",
              "  -0.005025452923291596,\n",
              "  -0.005025452923291596,\n",
              "  -0.005025452923291596,\n",
              "  -0.005025452923291596,\n",
              "  -0.005025452923291596,\n",
              "  -0.005025452923291596,\n",
              "  -0.005025452923291596,\n",
              "  -0.005025452923291596,\n",
              "  -0.005025452923291596,\n",
              "  -0.005025452923291596,\n",
              "  -0.005025452923291596,\n",
              "  -0.005025452923291596,\n",
              "  -0.005025452923291596,\n",
              "  -0.005025452923291596,\n",
              "  -0.005025452923291596,\n",
              "  -0.005025452923291596,\n",
              "  -0.005025452923291596,\n",
              "  -0.005025452923291596,\n",
              "  -0.005025452923291596,\n",
              "  -0.005025452923291596,\n",
              "  -0.005025452923291596,\n",
              "  -0.005025452923291596,\n",
              "  -0.005025452923291596,\n",
              "  -0.005025452923291596,\n",
              "  -0.005025452923291596,\n",
              "  -0.005025452923291596,\n",
              "  -0.005025452923291596,\n",
              "  -0.005025452923291596,\n",
              "  -0.005025452923291596,\n",
              "  -0.005025452923291596,\n",
              "  -0.005025452923291596,\n",
              "  -0.005025452923291596,\n",
              "  -0.005025452923291596,\n",
              "  -0.005025452923291596,\n",
              "  -0.005025452923291596,\n",
              "  -0.005025452923291596,\n",
              "  -0.005025452923291596,\n",
              "  -0.005025452923291596,\n",
              "  -0.005025452923291596,\n",
              "  -0.005025452923291596,\n",
              "  -0.005025452923291596,\n",
              "  -0.005025452923291596,\n",
              "  -0.005025452923291596,\n",
              "  -0.005025452923291596,\n",
              "  -0.005025452923291596,\n",
              "  -0.005025452923291596,\n",
              "  -0.005025452923291596,\n",
              "  -0.005025452923291596,\n",
              "  -0.005025452923291596,\n",
              "  -0.005025452923291596,\n",
              "  -0.005025452923291596,\n",
              "  -0.005025452923291596,\n",
              "  -0.005025452923291596,\n",
              "  -0.005025452923291596,\n",
              "  -0.005025452923291596,\n",
              "  -0.005025452923291596,\n",
              "  -0.005025452923291596,\n",
              "  -0.005025452923291596,\n",
              "  -0.005025452923291596,\n",
              "  -0.005025452923291596,\n",
              "  -0.005025452923291596,\n",
              "  -0.005025452923291596],\n",
              " 84: [-0.0009402430441696197,\n",
              "  -0.0009402430441696197,\n",
              "  -0.0009402430441696197,\n",
              "  -0.0009402430441696197,\n",
              "  -0.0009402430441696197,\n",
              "  -0.0009402430441696197,\n",
              "  -0.0009402430441696197,\n",
              "  -0.0009402430441696197,\n",
              "  -0.0009402430441696197,\n",
              "  -0.0009402430441696197,\n",
              "  -0.0009402430441696197,\n",
              "  -0.0009402430441696197,\n",
              "  -0.0009402430441696197,\n",
              "  -0.0009402430441696197,\n",
              "  -0.0009402430441696197,\n",
              "  -0.0009402430441696197,\n",
              "  -0.0009402430441696197,\n",
              "  -0.0009402430441696197,\n",
              "  -0.0009402430441696197,\n",
              "  -0.0009402430441696197,\n",
              "  -0.0009402430441696197,\n",
              "  -0.0009402430441696197,\n",
              "  -0.0009402430441696197,\n",
              "  -0.0009402430441696197,\n",
              "  -0.0009402430441696197,\n",
              "  -0.0009402430441696197,\n",
              "  -0.0009402430441696197,\n",
              "  -0.0009402430441696197,\n",
              "  -0.0009402430441696197,\n",
              "  -0.0009402430441696197,\n",
              "  -0.0009402430441696197,\n",
              "  -0.0009402430441696197,\n",
              "  -0.0009402430441696197,\n",
              "  -0.0009402430441696197,\n",
              "  -0.0009402430441696197,\n",
              "  -0.0009402430441696197,\n",
              "  -0.0009402430441696197,\n",
              "  -0.0009402430441696197,\n",
              "  -0.0009402430441696197,\n",
              "  -0.0009402430441696197,\n",
              "  -0.0009402430441696197,\n",
              "  -0.0009402430441696197,\n",
              "  -0.0009402430441696197,\n",
              "  -0.0009402430441696197,\n",
              "  -0.0009402430441696197,\n",
              "  -0.0009402430441696197,\n",
              "  -0.0009402430441696197,\n",
              "  -0.0009402430441696197,\n",
              "  -0.0009402430441696197,\n",
              "  -0.0009402430441696197,\n",
              "  -0.0009402430441696197,\n",
              "  -0.0009402430441696197,\n",
              "  -0.0009402430441696197,\n",
              "  -0.0009402430441696197,\n",
              "  -0.0009402430441696197,\n",
              "  -0.0009402430441696197,\n",
              "  -0.0009402430441696197,\n",
              "  -0.0009402430441696197,\n",
              "  -0.0009402430441696197,\n",
              "  -0.0009402430441696197,\n",
              "  -0.0009402430441696197,\n",
              "  -0.0009402430441696197,\n",
              "  -0.0009402430441696197,\n",
              "  -0.0009402430441696197,\n",
              "  -0.0009402430441696197,\n",
              "  -0.0009402430441696197,\n",
              "  -0.0009402430441696197,\n",
              "  -0.0009402430441696197,\n",
              "  -0.0009402430441696197,\n",
              "  -0.0009402430441696197,\n",
              "  -0.0009402430441696197,\n",
              "  -0.0009402430441696197,\n",
              "  -0.0009402430441696197,\n",
              "  -0.0009402430441696197,\n",
              "  -0.0009402430441696197,\n",
              "  -0.0009402430441696197,\n",
              "  -0.0009402430441696197,\n",
              "  -0.0009402430441696197,\n",
              "  -0.0009402430441696197,\n",
              "  -0.0009402430441696197,\n",
              "  -0.0009402430441696197,\n",
              "  -0.0009402430441696197,\n",
              "  -0.0009402430441696197,\n",
              "  -0.0009402430441696197,\n",
              "  -0.0009402430441696197,\n",
              "  -0.0009402430441696197,\n",
              "  -0.0009402430441696197,\n",
              "  -0.0009402430441696197,\n",
              "  -0.0009402430441696197,\n",
              "  -0.0009402430441696197,\n",
              "  -0.0009402430441696197,\n",
              "  -0.0009402430441696197,\n",
              "  -0.0009402430441696197,\n",
              "  -0.0009402430441696197,\n",
              "  -0.0009402430441696197,\n",
              "  -0.0009402430441696197,\n",
              "  -0.0009402430441696197,\n",
              "  -0.0009402430441696197,\n",
              "  -0.0009402430441696197,\n",
              "  -0.0009402430441696197,\n",
              "  -0.0009402430441696197,\n",
              "  -0.0009402430441696197,\n",
              "  -0.0009402430441696197,\n",
              "  -0.0009402430441696197,\n",
              "  -0.0009402430441696197,\n",
              "  -0.0009402430441696197,\n",
              "  -0.0009402430441696197,\n",
              "  -0.0009402430441696197,\n",
              "  -0.0009402430441696197,\n",
              "  -0.0009402430441696197,\n",
              "  -0.0009402430441696197,\n",
              "  -0.0009402430441696197,\n",
              "  -0.0009402430441696197,\n",
              "  -0.0009402430441696197,\n",
              "  -0.0009402430441696197,\n",
              "  -0.0009402430441696197,\n",
              "  -0.0009402430441696197,\n",
              "  -0.0009402430441696197,\n",
              "  -0.0009402430441696197,\n",
              "  -0.0009402430441696197,\n",
              "  -0.0009402430441696197,\n",
              "  -0.0009402430441696197,\n",
              "  -0.0009402430441696197,\n",
              "  -0.0009402430441696197,\n",
              "  -0.0009402430441696197,\n",
              "  -0.0009402430441696197,\n",
              "  -0.0009402430441696197,\n",
              "  -0.0009402430441696197],\n",
              " 70: [-0.00411626734330639,\n",
              "  -0.00411626734330639,\n",
              "  -0.00411626734330639,\n",
              "  -0.00411626734330639,\n",
              "  -0.00411626734330639,\n",
              "  -0.00411626734330639,\n",
              "  -0.00411626734330639,\n",
              "  -0.00411626734330639,\n",
              "  -0.00411626734330639,\n",
              "  -0.00411626734330639,\n",
              "  -0.00411626734330639,\n",
              "  -0.00411626734330639,\n",
              "  -0.00411626734330639,\n",
              "  -0.00411626734330639,\n",
              "  -0.00411626734330639,\n",
              "  -0.00411626734330639,\n",
              "  -0.00411626734330639,\n",
              "  -0.00411626734330639,\n",
              "  -0.00411626734330639,\n",
              "  -0.00411626734330639,\n",
              "  -0.00411626734330639,\n",
              "  -0.00411626734330639,\n",
              "  -0.00411626734330639,\n",
              "  -0.00411626734330639,\n",
              "  -0.00411626734330639,\n",
              "  -0.00411626734330639,\n",
              "  -0.00411626734330639,\n",
              "  -0.00411626734330639,\n",
              "  -0.00411626734330639,\n",
              "  -0.00411626734330639,\n",
              "  -0.00411626734330639,\n",
              "  -0.00411626734330639,\n",
              "  -0.00411626734330639,\n",
              "  -0.00411626734330639,\n",
              "  -0.00411626734330639,\n",
              "  -0.00411626734330639,\n",
              "  -0.00411626734330639,\n",
              "  -0.00411626734330639,\n",
              "  -0.00411626734330639,\n",
              "  -0.00411626734330639,\n",
              "  -0.00411626734330639,\n",
              "  -0.00411626734330639,\n",
              "  -0.00411626734330639,\n",
              "  -0.00411626734330639,\n",
              "  -0.00411626734330639,\n",
              "  -0.00411626734330639,\n",
              "  -0.00411626734330639,\n",
              "  -0.00411626734330639,\n",
              "  -0.00411626734330639,\n",
              "  -0.00411626734330639,\n",
              "  -0.00411626734330639,\n",
              "  -0.00411626734330639,\n",
              "  -0.00411626734330639,\n",
              "  -0.00411626734330639,\n",
              "  -0.00411626734330639,\n",
              "  -0.00411626734330639,\n",
              "  -0.00411626734330639,\n",
              "  -0.00411626734330639,\n",
              "  -0.00411626734330639,\n",
              "  -0.00411626734330639,\n",
              "  -0.00411626734330639,\n",
              "  -0.00411626734330639,\n",
              "  -0.00411626734330639,\n",
              "  -0.00411626734330639,\n",
              "  -0.00411626734330639,\n",
              "  -0.00411626734330639,\n",
              "  -0.00411626734330639,\n",
              "  -0.00411626734330639,\n",
              "  -0.00411626734330639,\n",
              "  -0.00411626734330639,\n",
              "  -0.00411626734330639,\n",
              "  -0.00411626734330639,\n",
              "  -0.00411626734330639,\n",
              "  -0.00411626734330639,\n",
              "  -0.00411626734330639,\n",
              "  -0.00411626734330639,\n",
              "  -0.00411626734330639,\n",
              "  -0.00411626734330639,\n",
              "  -0.00411626734330639,\n",
              "  -0.00411626734330639,\n",
              "  -0.00411626734330639,\n",
              "  -0.00411626734330639,\n",
              "  -0.00411626734330639,\n",
              "  -0.00411626734330639,\n",
              "  -0.00411626734330639,\n",
              "  -0.00411626734330639,\n",
              "  -0.00411626734330639,\n",
              "  -0.00411626734330639,\n",
              "  -0.00411626734330639,\n",
              "  -0.00411626734330639,\n",
              "  -0.00411626734330639,\n",
              "  -0.00411626734330639,\n",
              "  -0.00411626734330639,\n",
              "  -0.00411626734330639,\n",
              "  -0.00411626734330639,\n",
              "  -0.00411626734330639,\n",
              "  -0.00411626734330639,\n",
              "  -0.00411626734330639,\n",
              "  -0.00411626734330639,\n",
              "  -0.00411626734330639,\n",
              "  -0.00411626734330639,\n",
              "  -0.00411626734330639,\n",
              "  -0.00411626734330639,\n",
              "  -0.00411626734330639,\n",
              "  -0.00411626734330639,\n",
              "  -0.00411626734330639,\n",
              "  -0.00411626734330639,\n",
              "  -0.00411626734330639,\n",
              "  -0.00411626734330639,\n",
              "  -0.00411626734330639,\n",
              "  -0.00411626734330639,\n",
              "  -0.00411626734330639,\n",
              "  -0.00411626734330639,\n",
              "  -0.00411626734330639,\n",
              "  -0.00411626734330639,\n",
              "  -0.00411626734330639,\n",
              "  -0.00411626734330639,\n",
              "  -0.00411626734330639,\n",
              "  -0.00411626734330639,\n",
              "  -0.00411626734330639,\n",
              "  -0.00411626734330639,\n",
              "  -0.00411626734330639,\n",
              "  -0.00411626734330639,\n",
              "  -0.00411626734330639,\n",
              "  -0.00411626734330639,\n",
              "  -0.00411626734330639,\n",
              "  -0.00411626734330639,\n",
              "  -0.00411626734330639],\n",
              " 51: [-0.0001300552075917949,\n",
              "  -0.0001300552075917949,\n",
              "  -0.0001300552075917949,\n",
              "  -0.0001300552075917949,\n",
              "  -0.0001300552075917949,\n",
              "  -0.0001300552075917949,\n",
              "  -0.0001300552075917949,\n",
              "  -0.0001300552075917949,\n",
              "  -0.0001300552075917949,\n",
              "  -0.0001300552075917949,\n",
              "  -0.0001300552075917949,\n",
              "  -0.0001300552075917949,\n",
              "  -0.0001300552075917949,\n",
              "  -0.0001300552075917949,\n",
              "  -0.0001300552075917949,\n",
              "  -0.0001300552075917949,\n",
              "  -0.0001300552075917949,\n",
              "  -0.0001300552075917949,\n",
              "  -0.0001300552075917949,\n",
              "  -0.0001300552075917949,\n",
              "  -0.0001300552075917949,\n",
              "  -0.0001300552075917949,\n",
              "  -0.0001300552075917949,\n",
              "  -0.0001300552075917949,\n",
              "  -0.0001300552075917949,\n",
              "  -0.0001300552075917949,\n",
              "  -0.0001300552075917949,\n",
              "  -0.0001300552075917949,\n",
              "  -0.0001300552075917949,\n",
              "  -0.0001300552075917949,\n",
              "  -0.0001300552075917949,\n",
              "  -0.0001300552075917949,\n",
              "  -0.0001300552075917949,\n",
              "  -0.0001300552075917949,\n",
              "  -0.0001300552075917949,\n",
              "  -0.0001300552075917949,\n",
              "  -0.0001300552075917949,\n",
              "  -0.0001300552075917949,\n",
              "  -0.0001300552075917949,\n",
              "  -0.0001300552075917949,\n",
              "  -0.0001300552075917949,\n",
              "  -0.0001300552075917949,\n",
              "  -0.0001300552075917949,\n",
              "  -0.0001300552075917949,\n",
              "  -0.0001300552075917949,\n",
              "  -0.0001300552075917949,\n",
              "  -0.0001300552075917949,\n",
              "  -0.0001300552075917949,\n",
              "  -0.0001300552075917949,\n",
              "  -0.0001300552075917949,\n",
              "  -0.0001300552075917949,\n",
              "  -0.0001300552075917949,\n",
              "  -0.0001300552075917949,\n",
              "  -0.0001300552075917949,\n",
              "  -0.0001300552075917949,\n",
              "  -0.0001300552075917949,\n",
              "  -0.0001300552075917949,\n",
              "  -0.0001300552075917949,\n",
              "  -0.0001300552075917949,\n",
              "  -0.0001300552075917949,\n",
              "  -0.0001300552075917949,\n",
              "  -0.0001300552075917949,\n",
              "  -0.0001300552075917949,\n",
              "  -0.0001300552075917949,\n",
              "  -0.0001300552075917949,\n",
              "  -0.0001300552075917949,\n",
              "  -0.0001300552075917949,\n",
              "  -0.0001300552075917949,\n",
              "  -0.0001300552075917949,\n",
              "  -0.0001300552075917949,\n",
              "  -0.0001300552075917949,\n",
              "  -0.0001300552075917949,\n",
              "  -0.0001300552075917949,\n",
              "  -0.0001300552075917949,\n",
              "  -0.0001300552075917949,\n",
              "  -0.0001300552075917949,\n",
              "  -0.0001300552075917949,\n",
              "  -0.0001300552075917949,\n",
              "  -0.0001300552075917949,\n",
              "  -0.0001300552075917949,\n",
              "  -0.0001300552075917949,\n",
              "  -0.0001300552075917949,\n",
              "  -0.0001300552075917949,\n",
              "  -0.0001300552075917949,\n",
              "  -0.0001300552075917949,\n",
              "  -0.0001300552075917949,\n",
              "  -0.0001300552075917949,\n",
              "  -0.0001300552075917949,\n",
              "  -0.0001300552075917949,\n",
              "  -0.0001300552075917949,\n",
              "  -0.0001300552075917949,\n",
              "  -0.0001300552075917949,\n",
              "  -0.0001300552075917949,\n",
              "  -0.0001300552075917949,\n",
              "  -0.0001300552075917949,\n",
              "  -0.0001300552075917949,\n",
              "  -0.0001300552075917949,\n",
              "  -0.0001300552075917949,\n",
              "  -0.0001300552075917949,\n",
              "  -0.0001300552075917949,\n",
              "  -0.0001300552075917949,\n",
              "  -0.0001300552075917949,\n",
              "  -0.0001300552075917949,\n",
              "  -0.0001300552075917949,\n",
              "  -0.0001300552075917949,\n",
              "  -0.0001300552075917949,\n",
              "  -0.0001300552075917949,\n",
              "  -0.0001300552075917949,\n",
              "  -0.0001300552075917949,\n",
              "  -0.0001300552075917949,\n",
              "  -0.0001300552075917949,\n",
              "  -0.0001300552075917949,\n",
              "  -0.0001300552075917949,\n",
              "  -0.0001300552075917949,\n",
              "  -0.0001300552075917949,\n",
              "  -0.0001300552075917949,\n",
              "  -0.0001300552075917949,\n",
              "  -0.0001300552075917949,\n",
              "  -0.0001300552075917949,\n",
              "  -0.0001300552075917949,\n",
              "  -0.0001300552075917949,\n",
              "  -0.0001300552075917949,\n",
              "  -0.0001300552075917949,\n",
              "  -0.0001300552075917949,\n",
              "  -0.0001300552075917949,\n",
              "  -0.0001300552075917949,\n",
              "  -0.0001300552075917949,\n",
              "  -0.0001300552075917949],\n",
              " 48: [0.00016953387967078015,\n",
              "  0.00016953387967078015,\n",
              "  0.00016953387967078015,\n",
              "  0.00016953387967078015,\n",
              "  0.00016953387967078015,\n",
              "  0.00016953387967078015,\n",
              "  0.00016953387967078015,\n",
              "  0.00016953387967078015,\n",
              "  0.00016953387967078015,\n",
              "  0.00016953387967078015,\n",
              "  0.00016953387967078015,\n",
              "  0.00016953387967078015,\n",
              "  0.00016953387967078015,\n",
              "  0.00016953387967078015,\n",
              "  0.00016953387967078015,\n",
              "  0.00016953387967078015,\n",
              "  0.00016953387967078015,\n",
              "  0.00016953387967078015,\n",
              "  0.00016953387967078015,\n",
              "  0.00016953387967078015,\n",
              "  0.00016953387967078015,\n",
              "  0.00016953387967078015,\n",
              "  0.00016953387967078015,\n",
              "  0.00016953387967078015,\n",
              "  0.00016953387967078015,\n",
              "  0.00016953387967078015,\n",
              "  0.00016953387967078015,\n",
              "  0.00016953387967078015,\n",
              "  0.00016953387967078015,\n",
              "  0.00016953387967078015,\n",
              "  0.00016953387967078015,\n",
              "  0.00016953387967078015,\n",
              "  0.00016953387967078015,\n",
              "  0.00016953387967078015,\n",
              "  0.00016953387967078015,\n",
              "  0.00016953387967078015,\n",
              "  0.00016953387967078015,\n",
              "  0.00016953387967078015,\n",
              "  0.00016953387967078015,\n",
              "  0.00016953387967078015,\n",
              "  0.00016953387967078015,\n",
              "  0.00016953387967078015,\n",
              "  0.00016953387967078015,\n",
              "  0.00016953387967078015,\n",
              "  0.00016953387967078015,\n",
              "  0.00016953387967078015,\n",
              "  0.00016953387967078015,\n",
              "  0.00016953387967078015,\n",
              "  0.00016953387967078015,\n",
              "  0.00016953387967078015,\n",
              "  0.00016953387967078015,\n",
              "  0.00016953387967078015,\n",
              "  0.00016953387967078015,\n",
              "  0.00016953387967078015,\n",
              "  0.00016953387967078015,\n",
              "  0.00016953387967078015,\n",
              "  0.00016953387967078015,\n",
              "  0.00016953387967078015,\n",
              "  0.00016953387967078015,\n",
              "  0.00016953387967078015,\n",
              "  0.00016953387967078015,\n",
              "  0.00016953387967078015,\n",
              "  0.00016953387967078015,\n",
              "  0.00016953387967078015,\n",
              "  0.00016953387967078015,\n",
              "  0.00016953387967078015,\n",
              "  0.00016953387967078015,\n",
              "  0.00016953387967078015,\n",
              "  0.00016953387967078015,\n",
              "  0.00016953387967078015,\n",
              "  0.00016953387967078015,\n",
              "  0.00016953387967078015,\n",
              "  0.00016953387967078015,\n",
              "  0.00016953387967078015,\n",
              "  0.00016953387967078015,\n",
              "  0.00016953387967078015,\n",
              "  0.00016953387967078015,\n",
              "  0.00016953387967078015,\n",
              "  0.00016953387967078015,\n",
              "  0.00016953387967078015,\n",
              "  0.00016953387967078015,\n",
              "  0.00016953387967078015,\n",
              "  0.00016953387967078015,\n",
              "  0.00016953387967078015,\n",
              "  0.00016953387967078015,\n",
              "  0.00016953387967078015,\n",
              "  0.00016953387967078015,\n",
              "  0.00016953387967078015,\n",
              "  0.00016953387967078015,\n",
              "  0.00016953387967078015,\n",
              "  0.00016953387967078015,\n",
              "  0.00016953387967078015,\n",
              "  0.00016953387967078015,\n",
              "  0.00016953387967078015,\n",
              "  0.00016953387967078015,\n",
              "  0.00016953387967078015,\n",
              "  0.00016953387967078015,\n",
              "  0.00016953387967078015,\n",
              "  0.00016953387967078015,\n",
              "  0.00016953387967078015,\n",
              "  0.00016953387967078015,\n",
              "  0.00016953387967078015,\n",
              "  0.00016953387967078015,\n",
              "  0.00016953387967078015,\n",
              "  0.00016953387967078015,\n",
              "  0.00016953387967078015,\n",
              "  0.00016953387967078015,\n",
              "  0.00016953387967078015,\n",
              "  0.00016953387967078015,\n",
              "  0.00016953387967078015,\n",
              "  0.00016953387967078015,\n",
              "  0.00016953387967078015,\n",
              "  0.00016953387967078015,\n",
              "  0.00016953387967078015,\n",
              "  0.00016953387967078015,\n",
              "  0.00016953387967078015,\n",
              "  0.00016953387967078015,\n",
              "  0.00016953387967078015,\n",
              "  0.00016953387967078015,\n",
              "  0.00016953387967078015,\n",
              "  0.00016953387967078015,\n",
              "  0.00016953387967078015,\n",
              "  0.00016953387967078015,\n",
              "  0.00016953387967078015,\n",
              "  0.00016953387967078015,\n",
              "  0.00016953387967078015,\n",
              "  0.00016953387967078015,\n",
              "  0.00016953387967078015],\n",
              " 83: [-0.0032909991932683624,\n",
              "  -0.0032909991932683624,\n",
              "  -0.0032909991932683624,\n",
              "  -0.0032909991932683624,\n",
              "  -0.0032909991932683624,\n",
              "  -0.0032909991932683624,\n",
              "  -0.0032909991932683624,\n",
              "  -0.0032909991932683624,\n",
              "  -0.0032909991932683624,\n",
              "  -0.0032909991932683624,\n",
              "  -0.0032909991932683624,\n",
              "  -0.0032909991932683624,\n",
              "  -0.0032909991932683624,\n",
              "  -0.0032909991932683624,\n",
              "  -0.0032909991932683624,\n",
              "  -0.0032909991932683624,\n",
              "  -0.0032909991932683624,\n",
              "  -0.0032909991932683624,\n",
              "  -0.0032909991932683624,\n",
              "  -0.0032909991932683624,\n",
              "  -0.0032909991932683624,\n",
              "  -0.0032909991932683624,\n",
              "  -0.0032909991932683624,\n",
              "  -0.0032909991932683624,\n",
              "  -0.0032909991932683624,\n",
              "  -0.0032909991932683624,\n",
              "  -0.0032909991932683624,\n",
              "  -0.0032909991932683624,\n",
              "  -0.0032909991932683624,\n",
              "  -0.0032909991932683624,\n",
              "  -0.0032909991932683624,\n",
              "  -0.0032909991932683624,\n",
              "  -0.0032909991932683624,\n",
              "  -0.0032909991932683624,\n",
              "  -0.0032909991932683624,\n",
              "  -0.0032909991932683624,\n",
              "  -0.0032909991932683624,\n",
              "  -0.0032909991932683624,\n",
              "  -0.0032909991932683624,\n",
              "  -0.0032909991932683624,\n",
              "  -0.0032909991932683624,\n",
              "  -0.0032909991932683624,\n",
              "  -0.0032909991932683624,\n",
              "  -0.0032909991932683624,\n",
              "  -0.0032909991932683624,\n",
              "  -0.0032909991932683624,\n",
              "  -0.0032909991932683624,\n",
              "  -0.0032909991932683624,\n",
              "  -0.0032909991932683624,\n",
              "  -0.0032909991932683624,\n",
              "  -0.0032909991932683624,\n",
              "  -0.0032909991932683624,\n",
              "  -0.0032909991932683624,\n",
              "  -0.0032909991932683624,\n",
              "  -0.0032909991932683624,\n",
              "  -0.0032909991932683624,\n",
              "  -0.0032909991932683624,\n",
              "  -0.0032909991932683624,\n",
              "  -0.0032909991932683624,\n",
              "  -0.0032909991932683624,\n",
              "  -0.0032909991932683624,\n",
              "  -0.0032909991932683624,\n",
              "  -0.0032909991932683624,\n",
              "  -0.0032909991932683624,\n",
              "  -0.0032909991932683624,\n",
              "  -0.0032909991932683624,\n",
              "  -0.0032909991932683624,\n",
              "  -0.0032909991932683624,\n",
              "  -0.0032909991932683624,\n",
              "  -0.0032909991932683624,\n",
              "  -0.0032909991932683624,\n",
              "  -0.0032909991932683624,\n",
              "  -0.0032909991932683624,\n",
              "  -0.0032909991932683624,\n",
              "  -0.0032909991932683624,\n",
              "  -0.0032909991932683624,\n",
              "  -0.0032909991932683624,\n",
              "  -0.0032909991932683624,\n",
              "  -0.0032909991932683624,\n",
              "  -0.0032909991932683624,\n",
              "  -0.0032909991932683624,\n",
              "  -0.0032909991932683624,\n",
              "  -0.0032909991932683624,\n",
              "  -0.0032909991932683624,\n",
              "  -0.0032909991932683624,\n",
              "  -0.0032909991932683624,\n",
              "  -0.0032909991932683624,\n",
              "  -0.0032909991932683624,\n",
              "  -0.0032909991932683624,\n",
              "  -0.0032909991932683624,\n",
              "  -0.0032909991932683624,\n",
              "  -0.0032909991932683624,\n",
              "  -0.0032909991932683624,\n",
              "  -0.0032909991932683624,\n",
              "  -0.0032909991932683624,\n",
              "  -0.0032909991932683624,\n",
              "  -0.0032909991932683624,\n",
              "  -0.0032909991932683624,\n",
              "  -0.0032909991932683624,\n",
              "  -0.0032909991932683624,\n",
              "  -0.0032909991932683624,\n",
              "  -0.0032909991932683624,\n",
              "  -0.0032909991932683624,\n",
              "  -0.0032909991932683624,\n",
              "  -0.0032909991932683624,\n",
              "  -0.0032909991932683624,\n",
              "  -0.0032909991932683624,\n",
              "  -0.0032909991932683624,\n",
              "  -0.0032909991932683624,\n",
              "  -0.0032909991932683624,\n",
              "  -0.0032909991932683624,\n",
              "  -0.0032909991932683624,\n",
              "  -0.0032909991932683624,\n",
              "  -0.0032909991932683624,\n",
              "  -0.0032909991932683624,\n",
              "  -0.0032909991932683624,\n",
              "  -0.0032909991932683624,\n",
              "  -0.0032909991932683624,\n",
              "  -0.0032909991932683624,\n",
              "  -0.0032909991932683624,\n",
              "  -0.0032909991932683624,\n",
              "  -0.0032909991932683624,\n",
              "  -0.0032909991932683624,\n",
              "  -0.0032909991932683624,\n",
              "  -0.0032909991932683624,\n",
              "  -0.0032909991932683624,\n",
              "  -0.0032909991932683624,\n",
              "  -0.0032909991932683624],\n",
              " 42: [0.006383588647622673,\n",
              "  0.006383588647622673,\n",
              "  0.006383588647622673,\n",
              "  0.006383588647622673,\n",
              "  0.006383588647622673,\n",
              "  0.006383588647622673,\n",
              "  0.006383588647622673,\n",
              "  0.006383588647622673,\n",
              "  0.006383588647622673,\n",
              "  0.006383588647622673,\n",
              "  0.006383588647622673,\n",
              "  0.006383588647622673,\n",
              "  0.006383588647622673,\n",
              "  0.006383588647622673,\n",
              "  0.006383588647622673,\n",
              "  0.006383588647622673,\n",
              "  0.006383588647622673,\n",
              "  0.006383588647622673,\n",
              "  0.006383588647622673,\n",
              "  0.006383588647622673,\n",
              "  0.006383588647622673,\n",
              "  0.006383588647622673,\n",
              "  0.006383588647622673,\n",
              "  0.006383588647622673,\n",
              "  0.006383588647622673,\n",
              "  0.006383588647622673,\n",
              "  0.006383588647622673,\n",
              "  0.006383588647622673,\n",
              "  0.006383588647622673,\n",
              "  0.006383588647622673,\n",
              "  0.006383588647622673,\n",
              "  0.006383588647622673,\n",
              "  0.006383588647622673,\n",
              "  0.006383588647622673,\n",
              "  0.006383588647622673,\n",
              "  0.006383588647622673,\n",
              "  0.006383588647622673,\n",
              "  0.006383588647622673,\n",
              "  0.006383588647622673,\n",
              "  0.006383588647622673,\n",
              "  0.006383588647622673,\n",
              "  0.006383588647622673,\n",
              "  0.006383588647622673,\n",
              "  0.006383588647622673,\n",
              "  0.006383588647622673,\n",
              "  0.006383588647622673,\n",
              "  0.006383588647622673,\n",
              "  0.006383588647622673,\n",
              "  0.006383588647622673,\n",
              "  0.006383588647622673,\n",
              "  0.006383588647622673,\n",
              "  0.006383588647622673,\n",
              "  0.006383588647622673,\n",
              "  0.006383588647622673,\n",
              "  0.006383588647622673,\n",
              "  0.006383588647622673,\n",
              "  0.006383588647622673,\n",
              "  0.006383588647622673,\n",
              "  0.006383588647622673,\n",
              "  0.006383588647622673,\n",
              "  0.006383588647622673,\n",
              "  0.006383588647622673,\n",
              "  0.006383588647622673,\n",
              "  0.006383588647622673,\n",
              "  0.006383588647622673,\n",
              "  0.006383588647622673,\n",
              "  0.006383588647622673,\n",
              "  0.006383588647622673,\n",
              "  0.006383588647622673,\n",
              "  0.006383588647622673,\n",
              "  0.006383588647622673,\n",
              "  0.006383588647622673,\n",
              "  0.006383588647622673,\n",
              "  0.006383588647622673,\n",
              "  0.006383588647622673,\n",
              "  0.006383588647622673,\n",
              "  0.006383588647622673,\n",
              "  0.006383588647622673,\n",
              "  0.006383588647622673,\n",
              "  0.006383588647622673,\n",
              "  0.006383588647622673,\n",
              "  0.006383588647622673,\n",
              "  0.006383588647622673,\n",
              "  0.006383588647622673,\n",
              "  0.006383588647622673,\n",
              "  0.006383588647622673,\n",
              "  0.006383588647622673,\n",
              "  0.006383588647622673,\n",
              "  0.006383588647622673,\n",
              "  0.006383588647622673,\n",
              "  0.006383588647622673,\n",
              "  0.006383588647622673,\n",
              "  0.006383588647622673,\n",
              "  0.006383588647622673,\n",
              "  0.006383588647622673,\n",
              "  0.006383588647622673,\n",
              "  0.006383588647622673,\n",
              "  0.006383588647622673,\n",
              "  0.006383588647622673,\n",
              "  0.006383588647622673,\n",
              "  0.006383588647622673,\n",
              "  0.006383588647622673,\n",
              "  0.006383588647622673,\n",
              "  0.006383588647622673,\n",
              "  0.006383588647622673,\n",
              "  0.006383588647622673,\n",
              "  0.006383588647622673,\n",
              "  0.006383588647622673,\n",
              "  0.006383588647622673,\n",
              "  0.006383588647622673,\n",
              "  0.006383588647622673,\n",
              "  0.006383588647622673,\n",
              "  0.006383588647622673,\n",
              "  0.006383588647622673,\n",
              "  0.006383588647622673,\n",
              "  0.006383588647622673,\n",
              "  0.006383588647622673,\n",
              "  0.006383588647622673,\n",
              "  0.006383588647622673,\n",
              "  0.006383588647622673,\n",
              "  0.006383588647622673,\n",
              "  0.006383588647622673,\n",
              "  0.006383588647622673,\n",
              "  0.006383588647622673,\n",
              "  0.006383588647622673,\n",
              "  0.006383588647622673,\n",
              "  0.006383588647622673,\n",
              "  0.006383588647622673],\n",
              " 58: [-0.005910173507800209,\n",
              "  -0.005910173507800209,\n",
              "  -0.005910173507800209,\n",
              "  -0.005910173507800209,\n",
              "  -0.005910173507800209,\n",
              "  -0.005910173507800209,\n",
              "  -0.005910173507800209,\n",
              "  -0.005910173507800209,\n",
              "  -0.005910173507800209,\n",
              "  -0.005910173507800209,\n",
              "  -0.005910173507800209,\n",
              "  -0.005910173507800209,\n",
              "  -0.005910173507800209,\n",
              "  -0.005910173507800209,\n",
              "  -0.005910173507800209,\n",
              "  -0.005910173507800209,\n",
              "  -0.005910173507800209,\n",
              "  -0.005910173507800209,\n",
              "  -0.005910173507800209,\n",
              "  -0.005910173507800209,\n",
              "  -0.005910173507800209,\n",
              "  -0.005910173507800209,\n",
              "  -0.005910173507800209,\n",
              "  -0.005910173507800209,\n",
              "  -0.005910173507800209,\n",
              "  -0.005910173507800209,\n",
              "  -0.005910173507800209,\n",
              "  -0.005910173507800209,\n",
              "  -0.005910173507800209,\n",
              "  -0.005910173507800209,\n",
              "  -0.005910173507800209,\n",
              "  -0.005910173507800209,\n",
              "  -0.005910173507800209,\n",
              "  -0.005910173507800209,\n",
              "  -0.005910173507800209,\n",
              "  -0.005910173507800209,\n",
              "  -0.005910173507800209,\n",
              "  -0.005910173507800209,\n",
              "  -0.005910173507800209,\n",
              "  -0.005910173507800209,\n",
              "  -0.005910173507800209,\n",
              "  -0.005910173507800209,\n",
              "  -0.005910173507800209,\n",
              "  -0.005910173507800209,\n",
              "  -0.005910173507800209,\n",
              "  -0.005910173507800209,\n",
              "  -0.005910173507800209,\n",
              "  -0.005910173507800209,\n",
              "  -0.005910173507800209,\n",
              "  -0.005910173507800209,\n",
              "  -0.005910173507800209,\n",
              "  -0.005910173507800209,\n",
              "  -0.005910173507800209,\n",
              "  -0.005910173507800209,\n",
              "  -0.005910173507800209,\n",
              "  -0.005910173507800209,\n",
              "  -0.005910173507800209,\n",
              "  -0.005910173507800209,\n",
              "  -0.005910173507800209,\n",
              "  -0.005910173507800209,\n",
              "  -0.005910173507800209,\n",
              "  -0.005910173507800209,\n",
              "  -0.005910173507800209,\n",
              "  -0.005910173507800209,\n",
              "  -0.005910173507800209,\n",
              "  -0.005910173507800209,\n",
              "  -0.005910173507800209,\n",
              "  -0.005910173507800209,\n",
              "  -0.005910173507800209,\n",
              "  -0.005910173507800209,\n",
              "  -0.005910173507800209,\n",
              "  -0.005910173507800209,\n",
              "  -0.005910173507800209,\n",
              "  -0.005910173507800209,\n",
              "  -0.005910173507800209,\n",
              "  -0.005910173507800209,\n",
              "  -0.005910173507800209,\n",
              "  -0.005910173507800209,\n",
              "  -0.005910173507800209,\n",
              "  -0.005910173507800209,\n",
              "  -0.005910173507800209,\n",
              "  -0.005910173507800209,\n",
              "  -0.005910173507800209,\n",
              "  -0.005910173507800209,\n",
              "  -0.005910173507800209,\n",
              "  -0.005910173507800209,\n",
              "  -0.005910173507800209,\n",
              "  -0.005910173507800209,\n",
              "  -0.005910173507800209,\n",
              "  -0.005910173507800209,\n",
              "  -0.005910173507800209,\n",
              "  -0.005910173507800209,\n",
              "  -0.005910173507800209,\n",
              "  -0.005910173507800209,\n",
              "  -0.005910173507800209,\n",
              "  -0.005910173507800209,\n",
              "  -0.005910173507800209,\n",
              "  -0.005910173507800209,\n",
              "  -0.005910173507800209,\n",
              "  -0.005910173507800209,\n",
              "  -0.005910173507800209,\n",
              "  -0.005910173507800209,\n",
              "  -0.005910173507800209,\n",
              "  -0.005910173507800209,\n",
              "  -0.005910173507800209,\n",
              "  -0.005910173507800209,\n",
              "  -0.005910173507800209,\n",
              "  -0.005910173507800209,\n",
              "  -0.005910173507800209,\n",
              "  -0.005910173507800209,\n",
              "  -0.005910173507800209,\n",
              "  -0.005910173507800209,\n",
              "  -0.005910173507800209,\n",
              "  -0.005910173507800209,\n",
              "  -0.005910173507800209,\n",
              "  -0.005910173507800209,\n",
              "  -0.005910173507800209,\n",
              "  -0.005910173507800209,\n",
              "  -0.005910173507800209,\n",
              "  -0.005910173507800209,\n",
              "  -0.005910173507800209,\n",
              "  -0.005910173507800209,\n",
              "  -0.005910173507800209,\n",
              "  -0.005910173507800209,\n",
              "  -0.005910173507800209,\n",
              "  -0.005910173507800209,\n",
              "  -0.005910173507800209,\n",
              "  -0.005910173507800209],\n",
              " 40: [-0.004341257801115717,\n",
              "  -0.004341257801115717,\n",
              "  -0.004341257801115717,\n",
              "  -0.004341257801115717,\n",
              "  -0.004341257801115717,\n",
              "  -0.004341257801115717,\n",
              "  -0.004341257801115717,\n",
              "  -0.004341257801115717,\n",
              "  -0.004341257801115717,\n",
              "  -0.004341257801115717,\n",
              "  -0.004341257801115717,\n",
              "  -0.004341257801115717,\n",
              "  -0.004341257801115717,\n",
              "  -0.004341257801115717,\n",
              "  -0.004341257801115717,\n",
              "  -0.004341257801115717,\n",
              "  -0.004341257801115717,\n",
              "  -0.004341257801115717,\n",
              "  -0.004341257801115717,\n",
              "  -0.004341257801115717,\n",
              "  -0.004341257801115717,\n",
              "  -0.004341257801115717,\n",
              "  -0.004341257801115717,\n",
              "  -0.004341257801115717,\n",
              "  -0.004341257801115717,\n",
              "  -0.004341257801115717,\n",
              "  -0.004341257801115717,\n",
              "  -0.004341257801115717,\n",
              "  -0.004341257801115717,\n",
              "  -0.004341257801115717,\n",
              "  -0.004341257801115717,\n",
              "  -0.004341257801115717,\n",
              "  -0.004341257801115717,\n",
              "  -0.004341257801115717,\n",
              "  -0.004341257801115717,\n",
              "  -0.004341257801115717,\n",
              "  -0.004341257801115717,\n",
              "  -0.004341257801115717,\n",
              "  -0.004341257801115717,\n",
              "  -0.004341257801115717,\n",
              "  -0.004341257801115717,\n",
              "  -0.004341257801115717,\n",
              "  -0.004341257801115717,\n",
              "  -0.004341257801115717,\n",
              "  -0.004341257801115717,\n",
              "  -0.004341257801115717,\n",
              "  -0.004341257801115717,\n",
              "  -0.004341257801115717,\n",
              "  -0.004341257801115717,\n",
              "  -0.004341257801115717,\n",
              "  -0.004341257801115717,\n",
              "  -0.004341257801115717,\n",
              "  -0.004341257801115717,\n",
              "  -0.004341257801115717,\n",
              "  -0.004341257801115717,\n",
              "  -0.004341257801115717,\n",
              "  -0.004341257801115717,\n",
              "  -0.004341257801115717,\n",
              "  -0.004341257801115717,\n",
              "  -0.004341257801115717,\n",
              "  -0.004341257801115717,\n",
              "  -0.004341257801115717,\n",
              "  -0.004341257801115717,\n",
              "  -0.004341257801115717,\n",
              "  -0.004341257801115717,\n",
              "  -0.004341257801115717,\n",
              "  -0.004341257801115717,\n",
              "  -0.004341257801115717,\n",
              "  -0.004341257801115717,\n",
              "  -0.004341257801115717,\n",
              "  -0.004341257801115717,\n",
              "  -0.004341257801115717,\n",
              "  -0.004341257801115717,\n",
              "  -0.004341257801115717,\n",
              "  -0.004341257801115717,\n",
              "  -0.004341257801115717,\n",
              "  -0.004341257801115717,\n",
              "  -0.004341257801115717,\n",
              "  -0.004341257801115717,\n",
              "  -0.004341257801115717,\n",
              "  -0.004341257801115717,\n",
              "  -0.004341257801115717,\n",
              "  -0.004341257801115717,\n",
              "  -0.004341257801115717,\n",
              "  -0.004341257801115717,\n",
              "  -0.004341257801115717,\n",
              "  -0.004341257801115717,\n",
              "  -0.004341257801115717,\n",
              "  -0.004341257801115717,\n",
              "  -0.004341257801115717,\n",
              "  -0.004341257801115717,\n",
              "  -0.004341257801115717,\n",
              "  -0.004341257801115717,\n",
              "  -0.004341257801115717,\n",
              "  -0.004341257801115717,\n",
              "  -0.004341257801115717,\n",
              "  -0.004341257801115717,\n",
              "  -0.004341257801115717,\n",
              "  -0.004341257801115717,\n",
              "  -0.004341257801115717,\n",
              "  -0.004341257801115717,\n",
              "  -0.004341257801115717,\n",
              "  -0.004341257801115717,\n",
              "  -0.004341257801115717,\n",
              "  -0.004341257801115717,\n",
              "  -0.004341257801115717,\n",
              "  -0.004341257801115717,\n",
              "  -0.004341257801115717,\n",
              "  -0.004341257801115717,\n",
              "  -0.004341257801115717,\n",
              "  -0.004341257801115717,\n",
              "  -0.004341257801115717,\n",
              "  -0.004341257801115717,\n",
              "  -0.004341257801115717,\n",
              "  -0.004341257801115717,\n",
              "  -0.004341257801115717,\n",
              "  -0.004341257801115717,\n",
              "  -0.004341257801115717,\n",
              "  -0.004341257801115717,\n",
              "  -0.004341257801115717,\n",
              "  -0.004341257801115717,\n",
              "  -0.004341257801115717,\n",
              "  -0.004341257801115717,\n",
              "  -0.004341257801115717,\n",
              "  -0.004341257801115717,\n",
              "  -0.004341257801115717,\n",
              "  -0.004341257801115717,\n",
              "  -0.004341257801115717],\n",
              " 35: [-0.000970421931015153,\n",
              "  -0.000970421931015153,\n",
              "  -0.000970421931015153,\n",
              "  -0.000970421931015153,\n",
              "  -0.000970421931015153,\n",
              "  -0.000970421931015153,\n",
              "  -0.000970421931015153,\n",
              "  -0.000970421931015153,\n",
              "  -0.000970421931015153,\n",
              "  -0.000970421931015153,\n",
              "  -0.000970421931015153,\n",
              "  -0.000970421931015153,\n",
              "  -0.000970421931015153,\n",
              "  -0.000970421931015153,\n",
              "  -0.000970421931015153,\n",
              "  -0.000970421931015153,\n",
              "  -0.000970421931015153,\n",
              "  -0.000970421931015153,\n",
              "  -0.000970421931015153,\n",
              "  -0.000970421931015153,\n",
              "  -0.000970421931015153,\n",
              "  -0.000970421931015153,\n",
              "  -0.000970421931015153,\n",
              "  -0.000970421931015153,\n",
              "  -0.000970421931015153,\n",
              "  -0.000970421931015153,\n",
              "  -0.000970421931015153,\n",
              "  -0.000970421931015153,\n",
              "  -0.000970421931015153,\n",
              "  -0.000970421931015153,\n",
              "  -0.000970421931015153,\n",
              "  -0.000970421931015153,\n",
              "  -0.000970421931015153,\n",
              "  -0.000970421931015153,\n",
              "  -0.000970421931015153,\n",
              "  -0.000970421931015153,\n",
              "  -0.000970421931015153,\n",
              "  -0.000970421931015153,\n",
              "  -0.000970421931015153,\n",
              "  -0.000970421931015153,\n",
              "  -0.000970421931015153,\n",
              "  -0.000970421931015153,\n",
              "  -0.000970421931015153,\n",
              "  -0.000970421931015153,\n",
              "  -0.000970421931015153,\n",
              "  -0.000970421931015153,\n",
              "  -0.000970421931015153,\n",
              "  -0.000970421931015153,\n",
              "  -0.000970421931015153,\n",
              "  -0.000970421931015153,\n",
              "  -0.000970421931015153,\n",
              "  -0.000970421931015153,\n",
              "  -0.000970421931015153,\n",
              "  -0.000970421931015153,\n",
              "  -0.000970421931015153,\n",
              "  -0.000970421931015153,\n",
              "  -0.000970421931015153,\n",
              "  -0.000970421931015153,\n",
              "  -0.000970421931015153,\n",
              "  -0.000970421931015153,\n",
              "  -0.000970421931015153,\n",
              "  -0.000970421931015153,\n",
              "  -0.000970421931015153,\n",
              "  -0.000970421931015153,\n",
              "  -0.000970421931015153,\n",
              "  -0.000970421931015153,\n",
              "  -0.000970421931015153,\n",
              "  -0.000970421931015153,\n",
              "  -0.000970421931015153,\n",
              "  -0.000970421931015153,\n",
              "  -0.000970421931015153,\n",
              "  -0.000970421931015153,\n",
              "  -0.000970421931015153,\n",
              "  -0.000970421931015153,\n",
              "  -0.000970421931015153,\n",
              "  -0.000970421931015153,\n",
              "  -0.000970421931015153,\n",
              "  -0.000970421931015153,\n",
              "  -0.000970421931015153,\n",
              "  -0.000970421931015153,\n",
              "  -0.000970421931015153,\n",
              "  -0.000970421931015153,\n",
              "  -0.000970421931015153,\n",
              "  -0.000970421931015153,\n",
              "  -0.000970421931015153,\n",
              "  -0.000970421931015153,\n",
              "  -0.000970421931015153,\n",
              "  -0.000970421931015153,\n",
              "  -0.000970421931015153,\n",
              "  -0.000970421931015153,\n",
              "  -0.000970421931015153,\n",
              "  -0.000970421931015153,\n",
              "  -0.000970421931015153,\n",
              "  -0.000970421931015153,\n",
              "  -0.000970421931015153,\n",
              "  -0.000970421931015153,\n",
              "  -0.000970421931015153,\n",
              "  -0.000970421931015153,\n",
              "  -0.000970421931015153,\n",
              "  -0.000970421931015153,\n",
              "  -0.000970421931015153,\n",
              "  -0.000970421931015153,\n",
              "  -0.000970421931015153,\n",
              "  -0.000970421931015153,\n",
              "  -0.000970421931015153,\n",
              "  -0.000970421931015153,\n",
              "  -0.000970421931015153,\n",
              "  -0.000970421931015153,\n",
              "  -0.000970421931015153,\n",
              "  -0.000970421931015153,\n",
              "  -0.000970421931015153,\n",
              "  -0.000970421931015153,\n",
              "  -0.000970421931015153,\n",
              "  -0.000970421931015153,\n",
              "  -0.000970421931015153,\n",
              "  -0.000970421931015153,\n",
              "  -0.000970421931015153,\n",
              "  -0.000970421931015153,\n",
              "  -0.000970421931015153,\n",
              "  -0.000970421931015153,\n",
              "  -0.000970421931015153,\n",
              "  -0.000970421931015153,\n",
              "  -0.000970421931015153,\n",
              "  -0.000970421931015153,\n",
              "  -0.000970421931015153,\n",
              "  -0.000970421931015153,\n",
              "  -0.000970421931015153,\n",
              "  -0.000970421931015153],\n",
              " 60: [-0.0009934041454471298,\n",
              "  -0.0009934041454471298,\n",
              "  -0.0009934041454471298,\n",
              "  -0.0009934041454471298,\n",
              "  -0.0009934041454471298,\n",
              "  -0.0009934041454471298,\n",
              "  -0.0009934041454471298,\n",
              "  -0.0009934041454471298,\n",
              "  -0.0009934041454471298,\n",
              "  -0.0009934041454471298,\n",
              "  -0.0009934041454471298,\n",
              "  -0.0009934041454471298,\n",
              "  -0.0009934041454471298,\n",
              "  -0.0009934041454471298,\n",
              "  -0.0009934041454471298,\n",
              "  -0.0009934041454471298,\n",
              "  -0.0009934041454471298,\n",
              "  -0.0009934041454471298,\n",
              "  -0.0009934041454471298,\n",
              "  -0.0009934041454471298,\n",
              "  -0.0009934041454471298,\n",
              "  -0.0009934041454471298,\n",
              "  -0.0009934041454471298,\n",
              "  -0.0009934041454471298,\n",
              "  -0.0009934041454471298,\n",
              "  -0.0009934041454471298,\n",
              "  -0.0009934041454471298,\n",
              "  -0.0009934041454471298,\n",
              "  -0.0009934041454471298,\n",
              "  -0.0009934041454471298,\n",
              "  -0.0009934041454471298,\n",
              "  -0.0009934041454471298,\n",
              "  -0.0009934041454471298,\n",
              "  -0.0009934041454471298,\n",
              "  -0.0009934041454471298,\n",
              "  -0.0009934041454471298,\n",
              "  -0.0009934041454471298,\n",
              "  -0.0009934041454471298,\n",
              "  -0.0009934041454471298,\n",
              "  -0.0009934041454471298,\n",
              "  -0.0009934041454471298,\n",
              "  -0.0009934041454471298,\n",
              "  -0.0009934041454471298,\n",
              "  -0.0009934041454471298,\n",
              "  -0.0009934041454471298,\n",
              "  -0.0009934041454471298,\n",
              "  -0.0009934041454471298,\n",
              "  -0.0009934041454471298,\n",
              "  -0.0009934041454471298,\n",
              "  -0.0009934041454471298,\n",
              "  -0.0009934041454471298,\n",
              "  -0.0009934041454471298,\n",
              "  -0.0009934041454471298,\n",
              "  -0.0009934041454471298,\n",
              "  -0.0009934041454471298,\n",
              "  -0.0009934041454471298,\n",
              "  -0.0009934041454471298,\n",
              "  -0.0009934041454471298,\n",
              "  -0.0009934041454471298,\n",
              "  -0.0009934041454471298,\n",
              "  -0.0009934041454471298,\n",
              "  -0.0009934041454471298,\n",
              "  -0.0009934041454471298,\n",
              "  -0.0009934041454471298,\n",
              "  -0.0009934041454471298,\n",
              "  -0.0009934041454471298,\n",
              "  -0.0009934041454471298,\n",
              "  -0.0009934041454471298,\n",
              "  -0.0009934041454471298,\n",
              "  -0.0009934041454471298,\n",
              "  -0.0009934041454471298,\n",
              "  -0.0009934041454471298,\n",
              "  -0.0009934041454471298,\n",
              "  -0.0009934041454471298,\n",
              "  -0.0009934041454471298,\n",
              "  -0.0009934041454471298,\n",
              "  -0.0009934041454471298,\n",
              "  -0.0009934041454471298,\n",
              "  -0.0009934041454471298,\n",
              "  -0.0009934041454471298,\n",
              "  -0.0009934041454471298,\n",
              "  -0.0009934041454471298,\n",
              "  -0.0009934041454471298,\n",
              "  -0.0009934041454471298,\n",
              "  -0.0009934041454471298,\n",
              "  -0.0009934041454471298,\n",
              "  -0.0009934041454471298,\n",
              "  -0.0009934041454471298,\n",
              "  -0.0009934041454471298,\n",
              "  -0.0009934041454471298,\n",
              "  -0.0009934041454471298,\n",
              "  -0.0009934041454471298,\n",
              "  -0.0009934041454471298,\n",
              "  -0.0009934041454471298,\n",
              "  -0.0009934041454471298,\n",
              "  -0.0009934041454471298,\n",
              "  -0.0009934041454471298,\n",
              "  -0.0009934041454471298,\n",
              "  -0.0009934041454471298,\n",
              "  -0.0009934041454471298,\n",
              "  -0.0009934041454471298,\n",
              "  -0.0009934041454471298,\n",
              "  -0.0009934041454471298,\n",
              "  -0.0009934041454471298,\n",
              "  -0.0009934041454471298,\n",
              "  -0.0009934041454471298,\n",
              "  -0.0009934041454471298,\n",
              "  -0.0009934041454471298,\n",
              "  -0.0009934041454471298,\n",
              "  -0.0009934041454471298,\n",
              "  -0.0009934041454471298,\n",
              "  -0.0009934041454471298,\n",
              "  -0.0009934041454471298,\n",
              "  -0.0009934041454471298,\n",
              "  -0.0009934041454471298,\n",
              "  -0.0009934041454471298,\n",
              "  -0.0009934041454471298,\n",
              "  -0.0009934041454471298,\n",
              "  -0.0009934041454471298,\n",
              "  -0.0009934041454471298,\n",
              "  -0.0009934041454471298,\n",
              "  -0.0009934041454471298,\n",
              "  -0.0009934041454471298,\n",
              "  -0.0009934041454471298,\n",
              "  -0.0009934041454471298,\n",
              "  -0.0009934041454471298,\n",
              "  -0.0009934041454471298,\n",
              "  -0.0009934041454471298],\n",
              " 59: [0.0003434934064898698,\n",
              "  0.0003434934064898698,\n",
              "  0.0003434934064898698,\n",
              "  0.0003434934064898698,\n",
              "  0.0003434934064898698,\n",
              "  0.0003434934064898698,\n",
              "  0.0003434934064898698,\n",
              "  0.0003434934064898698,\n",
              "  0.0003434934064898698,\n",
              "  0.0003434934064898698,\n",
              "  0.0003434934064898698,\n",
              "  0.0003434934064898698,\n",
              "  0.0003434934064898698,\n",
              "  0.0003434934064898698,\n",
              "  0.0003434934064898698,\n",
              "  0.0003434934064898698,\n",
              "  0.0003434934064898698,\n",
              "  0.0003434934064898698,\n",
              "  0.0003434934064898698,\n",
              "  0.0003434934064898698,\n",
              "  0.0003434934064898698,\n",
              "  0.0003434934064898698,\n",
              "  0.0003434934064898698,\n",
              "  0.0003434934064898698,\n",
              "  0.0003434934064898698,\n",
              "  0.0003434934064898698,\n",
              "  0.0003434934064898698,\n",
              "  0.0003434934064898698,\n",
              "  0.0003434934064898698,\n",
              "  0.0003434934064898698,\n",
              "  0.0003434934064898698,\n",
              "  0.0003434934064898698,\n",
              "  0.0003434934064898698,\n",
              "  0.0003434934064898698,\n",
              "  0.0003434934064898698,\n",
              "  0.0003434934064898698,\n",
              "  0.0003434934064898698,\n",
              "  0.0003434934064898698,\n",
              "  0.0003434934064898698,\n",
              "  0.0003434934064898698,\n",
              "  0.0003434934064898698,\n",
              "  0.0003434934064898698,\n",
              "  0.0003434934064898698,\n",
              "  0.0003434934064898698,\n",
              "  0.0003434934064898698,\n",
              "  0.0003434934064898698,\n",
              "  0.0003434934064898698,\n",
              "  0.0003434934064898698,\n",
              "  0.0003434934064898698,\n",
              "  0.0003434934064898698,\n",
              "  0.0003434934064898698,\n",
              "  0.0003434934064898698,\n",
              "  0.0003434934064898698,\n",
              "  0.0003434934064898698,\n",
              "  0.0003434934064898698,\n",
              "  0.0003434934064898698,\n",
              "  0.0003434934064898698,\n",
              "  0.0003434934064898698,\n",
              "  0.0003434934064898698,\n",
              "  0.0003434934064898698,\n",
              "  0.0003434934064898698,\n",
              "  0.0003434934064898698,\n",
              "  0.0003434934064898698,\n",
              "  0.0003434934064898698,\n",
              "  0.0003434934064898698,\n",
              "  0.0003434934064898698,\n",
              "  0.0003434934064898698,\n",
              "  0.0003434934064898698,\n",
              "  0.0003434934064898698,\n",
              "  0.0003434934064898698,\n",
              "  0.0003434934064898698,\n",
              "  0.0003434934064898698,\n",
              "  0.0003434934064898698,\n",
              "  0.0003434934064898698,\n",
              "  0.0003434934064898698,\n",
              "  0.0003434934064898698,\n",
              "  0.0003434934064898698,\n",
              "  0.0003434934064898698,\n",
              "  0.0003434934064898698,\n",
              "  0.0003434934064898698,\n",
              "  0.0003434934064898698,\n",
              "  0.0003434934064898698,\n",
              "  0.0003434934064898698,\n",
              "  0.0003434934064898698,\n",
              "  0.0003434934064898698,\n",
              "  0.0003434934064898698,\n",
              "  0.0003434934064898698,\n",
              "  0.0003434934064898698,\n",
              "  0.0003434934064898698,\n",
              "  0.0003434934064898698,\n",
              "  0.0003434934064898698,\n",
              "  0.0003434934064898698,\n",
              "  0.0003434934064898698,\n",
              "  0.0003434934064898698,\n",
              "  0.0003434934064898698,\n",
              "  0.0003434934064898698,\n",
              "  0.0003434934064898698,\n",
              "  0.0003434934064898698,\n",
              "  0.0003434934064898698,\n",
              "  0.0003434934064898698,\n",
              "  0.0003434934064898698,\n",
              "  0.0003434934064898698,\n",
              "  0.0003434934064898698,\n",
              "  0.0003434934064898698,\n",
              "  0.0003434934064898698,\n",
              "  0.0003434934064898698,\n",
              "  0.0003434934064898698,\n",
              "  0.0003434934064898698,\n",
              "  0.0003434934064898698,\n",
              "  0.0003434934064898698,\n",
              "  0.0003434934064898698,\n",
              "  0.0003434934064898698,\n",
              "  0.0003434934064898698,\n",
              "  0.0003434934064898698,\n",
              "  0.0003434934064898698,\n",
              "  0.0003434934064898698,\n",
              "  0.0003434934064898698,\n",
              "  0.0003434934064898698,\n",
              "  0.0003434934064898698,\n",
              "  0.0003434934064898698,\n",
              "  0.0003434934064898698,\n",
              "  0.0003434934064898698,\n",
              "  0.0003434934064898698,\n",
              "  0.0003434934064898698,\n",
              "  0.0003434934064898698,\n",
              "  0.0003434934064898698,\n",
              "  0.0003434934064898698,\n",
              "  0.0003434934064898698],\n",
              " 95: [-0.0021272615649650106,\n",
              "  -0.0021272615649650106,\n",
              "  -0.0021272615649650106,\n",
              "  -0.0021272615649650106,\n",
              "  -0.0021272615649650106,\n",
              "  -0.0021272615649650106,\n",
              "  -0.0021272615649650106,\n",
              "  -0.0021272615649650106,\n",
              "  -0.0021272615649650106,\n",
              "  -0.0021272615649650106,\n",
              "  -0.0021272615649650106,\n",
              "  -0.0021272615649650106,\n",
              "  -0.0021272615649650106,\n",
              "  -0.0021272615649650106,\n",
              "  -0.0021272615649650106,\n",
              "  -0.0021272615649650106,\n",
              "  -0.0021272615649650106,\n",
              "  -0.0021272615649650106,\n",
              "  -0.0021272615649650106,\n",
              "  -0.0021272615649650106,\n",
              "  -0.0021272615649650106,\n",
              "  -0.0021272615649650106,\n",
              "  -0.0021272615649650106,\n",
              "  -0.0021272615649650106,\n",
              "  -0.0021272615649650106,\n",
              "  -0.0021272615649650106,\n",
              "  -0.0021272615649650106,\n",
              "  -0.0021272615649650106,\n",
              "  -0.0021272615649650106,\n",
              "  -0.0021272615649650106,\n",
              "  -0.0021272615649650106,\n",
              "  -0.0021272615649650106,\n",
              "  -0.0021272615649650106,\n",
              "  -0.0021272615649650106,\n",
              "  -0.0021272615649650106,\n",
              "  -0.0021272615649650106,\n",
              "  -0.0021272615649650106,\n",
              "  -0.0021272615649650106,\n",
              "  -0.0021272615649650106,\n",
              "  -0.0021272615649650106,\n",
              "  -0.0021272615649650106,\n",
              "  -0.0021272615649650106,\n",
              "  -0.0021272615649650106,\n",
              "  -0.0021272615649650106,\n",
              "  -0.0021272615649650106,\n",
              "  -0.0021272615649650106,\n",
              "  -0.0021272615649650106,\n",
              "  -0.0021272615649650106,\n",
              "  -0.0021272615649650106,\n",
              "  -0.0021272615649650106,\n",
              "  -0.0021272615649650106,\n",
              "  -0.0021272615649650106,\n",
              "  -0.0021272615649650106,\n",
              "  -0.0021272615649650106,\n",
              "  -0.0021272615649650106,\n",
              "  -0.0021272615649650106,\n",
              "  -0.0021272615649650106,\n",
              "  -0.0021272615649650106,\n",
              "  -0.0021272615649650106,\n",
              "  -0.0021272615649650106,\n",
              "  -0.0021272615649650106,\n",
              "  -0.0021272615649650106,\n",
              "  -0.0021272615649650106,\n",
              "  -0.0021272615649650106,\n",
              "  -0.0021272615649650106,\n",
              "  -0.0021272615649650106,\n",
              "  -0.0021272615649650106,\n",
              "  -0.0021272615649650106,\n",
              "  -0.0021272615649650106,\n",
              "  -0.0021272615649650106,\n",
              "  -0.0021272615649650106,\n",
              "  -0.0021272615649650106,\n",
              "  -0.0021272615649650106,\n",
              "  -0.0021272615649650106,\n",
              "  -0.0021272615649650106,\n",
              "  -0.0021272615649650106,\n",
              "  -0.0021272615649650106,\n",
              "  -0.0021272615649650106,\n",
              "  -0.0021272615649650106,\n",
              "  -0.0021272615649650106,\n",
              "  -0.0021272615649650106,\n",
              "  -0.0021272615649650106,\n",
              "  -0.0021272615649650106,\n",
              "  -0.0021272615649650106,\n",
              "  -0.0021272615649650106,\n",
              "  -0.0021272615649650106,\n",
              "  -0.0021272615649650106,\n",
              "  -0.0021272615649650106,\n",
              "  -0.0021272615649650106,\n",
              "  -0.0021272615649650106,\n",
              "  -0.0021272615649650106,\n",
              "  -0.0021272615649650106,\n",
              "  -0.0021272615649650106,\n",
              "  -0.0021272615649650106,\n",
              "  -0.0021272615649650106,\n",
              "  -0.0021272615649650106,\n",
              "  -0.0021272615649650106,\n",
              "  -0.0021272615649650106,\n",
              "  -0.0021272615649650106,\n",
              "  -0.0021272615649650106,\n",
              "  -0.0021272615649650106,\n",
              "  -0.0021272615649650106,\n",
              "  -0.0021272615649650106,\n",
              "  -0.0021272615649650106,\n",
              "  -0.0021272615649650106,\n",
              "  -0.0021272615649650106,\n",
              "  -0.0021272615649650106,\n",
              "  -0.0021272615649650106,\n",
              "  -0.0021272615649650106,\n",
              "  -0.0021272615649650106,\n",
              "  -0.0021272615649650106,\n",
              "  -0.0021272615649650106,\n",
              "  -0.0021272615649650106,\n",
              "  -0.0021272615649650106,\n",
              "  -0.0021272615649650106,\n",
              "  -0.0021272615649650106,\n",
              "  -0.0021272615649650106,\n",
              "  -0.0021272615649650106,\n",
              "  -0.0021272615649650106,\n",
              "  -0.0021272615649650106,\n",
              "  -0.0021272615649650106,\n",
              "  -0.0021272615649650106,\n",
              "  -0.0021272615649650106,\n",
              "  -0.0021272615649650106,\n",
              "  -0.0021272615649650106,\n",
              "  -0.0021272615649650106,\n",
              "  -0.0021272615649650106,\n",
              "  -0.0021272615649650106],\n",
              " 87: [-0.008885132479917957,\n",
              "  -0.008885132479917957,\n",
              "  -0.008885132479917957,\n",
              "  -0.008885132479917957,\n",
              "  -0.008885132479917957,\n",
              "  -0.008885132479917957,\n",
              "  -0.008885132479917957,\n",
              "  -0.008885132479917957,\n",
              "  -0.008885132479917957,\n",
              "  -0.008885132479917957,\n",
              "  -0.008885132479917957,\n",
              "  -0.008885132479917957,\n",
              "  -0.008885132479917957,\n",
              "  -0.008885132479917957,\n",
              "  -0.008885132479917957,\n",
              "  -0.008885132479917957,\n",
              "  -0.008885132479917957,\n",
              "  -0.008885132479917957,\n",
              "  -0.008885132479917957,\n",
              "  -0.008885132479917957,\n",
              "  -0.008885132479917957,\n",
              "  -0.008885132479917957,\n",
              "  -0.008885132479917957,\n",
              "  -0.008885132479917957,\n",
              "  -0.008885132479917957,\n",
              "  -0.008885132479917957,\n",
              "  -0.008885132479917957,\n",
              "  -0.008885132479917957,\n",
              "  -0.008885132479917957,\n",
              "  -0.008885132479917957,\n",
              "  -0.008885132479917957,\n",
              "  -0.008885132479917957,\n",
              "  -0.008885132479917957,\n",
              "  -0.008885132479917957,\n",
              "  -0.008885132479917957,\n",
              "  -0.008885132479917957,\n",
              "  -0.008885132479917957,\n",
              "  -0.008885132479917957,\n",
              "  -0.008885132479917957,\n",
              "  -0.008885132479917957,\n",
              "  -0.008885132479917957,\n",
              "  -0.008885132479917957,\n",
              "  -0.008885132479917957,\n",
              "  -0.008885132479917957,\n",
              "  -0.008885132479917957,\n",
              "  -0.008885132479917957,\n",
              "  -0.008885132479917957,\n",
              "  -0.008885132479917957,\n",
              "  -0.008885132479917957,\n",
              "  -0.008885132479917957,\n",
              "  -0.008885132479917957,\n",
              "  -0.008885132479917957,\n",
              "  -0.008885132479917957,\n",
              "  -0.008885132479917957,\n",
              "  -0.008885132479917957,\n",
              "  -0.008885132479917957,\n",
              "  -0.008885132479917957,\n",
              "  -0.008885132479917957,\n",
              "  -0.008885132479917957,\n",
              "  -0.008885132479917957,\n",
              "  -0.008885132479917957,\n",
              "  -0.008885132479917957,\n",
              "  -0.008885132479917957,\n",
              "  -0.008885132479917957,\n",
              "  -0.008885132479917957,\n",
              "  -0.008885132479917957,\n",
              "  -0.008885132479917957,\n",
              "  -0.008885132479917957,\n",
              "  -0.008885132479917957,\n",
              "  -0.008885132479917957,\n",
              "  -0.008885132479917957,\n",
              "  -0.008885132479917957,\n",
              "  -0.008885132479917957,\n",
              "  -0.008885132479917957,\n",
              "  -0.008885132479917957,\n",
              "  -0.008885132479917957,\n",
              "  -0.008885132479917957,\n",
              "  -0.008885132479917957,\n",
              "  -0.008885132479917957,\n",
              "  -0.008885132479917957,\n",
              "  -0.008885132479917957,\n",
              "  -0.008885132479917957,\n",
              "  -0.008885132479917957,\n",
              "  -0.008885132479917957,\n",
              "  -0.008885132479917957,\n",
              "  -0.008885132479917957,\n",
              "  -0.008885132479917957,\n",
              "  -0.008885132479917957,\n",
              "  -0.008885132479917957,\n",
              "  -0.008885132479917957,\n",
              "  -0.008885132479917957,\n",
              "  -0.008885132479917957,\n",
              "  -0.008885132479917957,\n",
              "  -0.008885132479917957,\n",
              "  -0.008885132479917957,\n",
              "  -0.008885132479917957,\n",
              "  -0.008885132479917957,\n",
              "  -0.008885132479917957,\n",
              "  -0.008885132479917957,\n",
              "  -0.008885132479917957,\n",
              "  -0.008885132479917957,\n",
              "  -0.008885132479917957,\n",
              "  -0.008885132479917957,\n",
              "  -0.008885132479917957,\n",
              "  -0.008885132479917957,\n",
              "  -0.008885132479917957,\n",
              "  -0.008885132479917957,\n",
              "  -0.008885132479917957,\n",
              "  -0.008885132479917957,\n",
              "  -0.008885132479917957,\n",
              "  -0.008885132479917957,\n",
              "  -0.008885132479917957,\n",
              "  -0.008885132479917957,\n",
              "  -0.008885132479917957,\n",
              "  -0.008885132479917957,\n",
              "  -0.008885132479917957,\n",
              "  -0.008885132479917957,\n",
              "  -0.008885132479917957,\n",
              "  -0.008885132479917957,\n",
              "  -0.008885132479917957,\n",
              "  -0.008885132479917957,\n",
              "  -0.008885132479917957,\n",
              "  -0.008885132479917957,\n",
              "  -0.008885132479917957,\n",
              "  -0.008885132479917957,\n",
              "  -0.008885132479917957,\n",
              "  -0.008885132479917957,\n",
              "  -0.008885132479917957],\n",
              " 23: [-0.003916846379979688,\n",
              "  -0.003916846379979688,\n",
              "  -0.003916846379979688,\n",
              "  -0.003916846379979688,\n",
              "  -0.003916846379979688,\n",
              "  -0.003916846379979688,\n",
              "  -0.003916846379979688,\n",
              "  -0.003916846379979688,\n",
              "  -0.003916846379979688,\n",
              "  -0.003916846379979688,\n",
              "  -0.003916846379979688,\n",
              "  -0.003916846379979688,\n",
              "  -0.003916846379979688,\n",
              "  -0.003916846379979688,\n",
              "  -0.003916846379979688,\n",
              "  -0.003916846379979688,\n",
              "  -0.003916846379979688,\n",
              "  -0.003916846379979688,\n",
              "  -0.003916846379979688,\n",
              "  -0.003916846379979688,\n",
              "  -0.003916846379979688,\n",
              "  -0.003916846379979688,\n",
              "  -0.003916846379979688,\n",
              "  -0.003916846379979688,\n",
              "  -0.003916846379979688,\n",
              "  -0.003916846379979688,\n",
              "  -0.003916846379979688,\n",
              "  -0.003916846379979688,\n",
              "  -0.003916846379979688,\n",
              "  -0.003916846379979688,\n",
              "  -0.003916846379979688,\n",
              "  -0.003916846379979688,\n",
              "  -0.003916846379979688,\n",
              "  -0.003916846379979688,\n",
              "  -0.003916846379979688,\n",
              "  -0.003916846379979688,\n",
              "  -0.003916846379979688,\n",
              "  -0.003916846379979688,\n",
              "  -0.003916846379979688,\n",
              "  -0.003916846379979688,\n",
              "  -0.003916846379979688,\n",
              "  -0.003916846379979688,\n",
              "  -0.003916846379979688,\n",
              "  -0.003916846379979688,\n",
              "  -0.003916846379979688,\n",
              "  -0.003916846379979688,\n",
              "  -0.003916846379979688,\n",
              "  -0.003916846379979688,\n",
              "  -0.003916846379979688,\n",
              "  -0.003916846379979688,\n",
              "  -0.003916846379979688,\n",
              "  -0.003916846379979688,\n",
              "  -0.003916846379979688,\n",
              "  -0.003916846379979688,\n",
              "  -0.003916846379979688,\n",
              "  -0.003916846379979688,\n",
              "  -0.003916846379979688,\n",
              "  -0.003916846379979688,\n",
              "  -0.003916846379979688,\n",
              "  -0.003916846379979688,\n",
              "  -0.003916846379979688,\n",
              "  -0.003916846379979688,\n",
              "  -0.003916846379979688,\n",
              "  -0.003916846379979688,\n",
              "  -0.003916846379979688,\n",
              "  -0.003916846379979688,\n",
              "  -0.003916846379979688,\n",
              "  -0.003916846379979688,\n",
              "  -0.003916846379979688,\n",
              "  -0.003916846379979688,\n",
              "  -0.003916846379979688,\n",
              "  -0.003916846379979688,\n",
              "  -0.003916846379979688,\n",
              "  -0.003916846379979688,\n",
              "  -0.003916846379979688,\n",
              "  -0.003916846379979688,\n",
              "  -0.003916846379979688,\n",
              "  -0.003916846379979688,\n",
              "  -0.003916846379979688,\n",
              "  -0.003916846379979688,\n",
              "  -0.003916846379979688,\n",
              "  -0.003916846379979688,\n",
              "  -0.003916846379979688,\n",
              "  -0.003916846379979688,\n",
              "  -0.003916846379979688,\n",
              "  -0.003916846379979688,\n",
              "  -0.003916846379979688,\n",
              "  -0.003916846379979688,\n",
              "  -0.003916846379979688,\n",
              "  -0.003916846379979688,\n",
              "  -0.003916846379979688,\n",
              "  -0.003916846379979688,\n",
              "  -0.003916846379979688,\n",
              "  -0.003916846379979688,\n",
              "  -0.003916846379979688,\n",
              "  -0.003916846379979688,\n",
              "  -0.003916846379979688,\n",
              "  -0.003916846379979688,\n",
              "  -0.003916846379979688,\n",
              "  -0.003916846379979688,\n",
              "  -0.003916846379979688,\n",
              "  -0.003916846379979688,\n",
              "  -0.003916846379979688,\n",
              "  -0.003916846379979688,\n",
              "  -0.003916846379979688,\n",
              "  -0.003916846379979688,\n",
              "  -0.003916846379979688,\n",
              "  -0.003916846379979688,\n",
              "  -0.003916846379979688,\n",
              "  -0.003916846379979688,\n",
              "  -0.003916846379979688,\n",
              "  -0.003916846379979688,\n",
              "  -0.003916846379979688,\n",
              "  -0.003916846379979688,\n",
              "  -0.003916846379979688,\n",
              "  -0.003916846379979688,\n",
              "  -0.003916846379979688,\n",
              "  -0.003916846379979688,\n",
              "  -0.003916846379979688,\n",
              "  -0.003916846379979688,\n",
              "  -0.003916846379979688,\n",
              "  -0.003916846379979688,\n",
              "  -0.003916846379979688,\n",
              "  -0.003916846379979688,\n",
              "  -0.003916846379979688,\n",
              "  -0.003916846379979688,\n",
              "  -0.003916846379979688,\n",
              "  -0.003916846379979688],\n",
              " 91: [-0.006558611083164578,\n",
              "  -0.006558611083164578,\n",
              "  -0.006558611083164578,\n",
              "  -0.006558611083164578,\n",
              "  -0.006558611083164578,\n",
              "  -0.006558611083164578,\n",
              "  -0.006558611083164578,\n",
              "  -0.006558611083164578,\n",
              "  -0.006558611083164578,\n",
              "  -0.006558611083164578,\n",
              "  -0.006558611083164578,\n",
              "  -0.006558611083164578,\n",
              "  -0.006558611083164578,\n",
              "  -0.006558611083164578,\n",
              "  -0.006558611083164578,\n",
              "  -0.006558611083164578,\n",
              "  -0.006558611083164578,\n",
              "  -0.006558611083164578,\n",
              "  -0.006558611083164578,\n",
              "  -0.006558611083164578,\n",
              "  -0.006558611083164578,\n",
              "  -0.006558611083164578,\n",
              "  -0.006558611083164578,\n",
              "  -0.006558611083164578,\n",
              "  -0.006558611083164578,\n",
              "  -0.006558611083164578,\n",
              "  -0.006558611083164578,\n",
              "  -0.006558611083164578,\n",
              "  -0.006558611083164578,\n",
              "  -0.006558611083164578,\n",
              "  -0.006558611083164578,\n",
              "  -0.006558611083164578,\n",
              "  -0.006558611083164578,\n",
              "  -0.006558611083164578,\n",
              "  -0.006558611083164578,\n",
              "  -0.006558611083164578,\n",
              "  -0.006558611083164578,\n",
              "  -0.006558611083164578,\n",
              "  -0.006558611083164578,\n",
              "  -0.006558611083164578,\n",
              "  -0.006558611083164578,\n",
              "  -0.006558611083164578,\n",
              "  -0.006558611083164578,\n",
              "  -0.006558611083164578,\n",
              "  -0.006558611083164578,\n",
              "  -0.006558611083164578,\n",
              "  -0.006558611083164578,\n",
              "  -0.006558611083164578,\n",
              "  -0.006558611083164578,\n",
              "  -0.006558611083164578,\n",
              "  -0.006558611083164578,\n",
              "  -0.006558611083164578,\n",
              "  -0.006558611083164578,\n",
              "  -0.006558611083164578,\n",
              "  -0.006558611083164578,\n",
              "  -0.006558611083164578,\n",
              "  -0.006558611083164578,\n",
              "  -0.006558611083164578,\n",
              "  -0.006558611083164578,\n",
              "  -0.006558611083164578,\n",
              "  -0.006558611083164578,\n",
              "  -0.006558611083164578,\n",
              "  -0.006558611083164578,\n",
              "  -0.006558611083164578,\n",
              "  -0.006558611083164578,\n",
              "  -0.006558611083164578,\n",
              "  -0.006558611083164578,\n",
              "  -0.006558611083164578,\n",
              "  -0.006558611083164578,\n",
              "  -0.006558611083164578,\n",
              "  -0.006558611083164578,\n",
              "  -0.006558611083164578,\n",
              "  -0.006558611083164578,\n",
              "  -0.006558611083164578,\n",
              "  -0.006558611083164578,\n",
              "  -0.006558611083164578,\n",
              "  -0.006558611083164578,\n",
              "  -0.006558611083164578,\n",
              "  -0.006558611083164578,\n",
              "  -0.006558611083164578,\n",
              "  -0.006558611083164578,\n",
              "  -0.006558611083164578,\n",
              "  -0.006558611083164578,\n",
              "  -0.006558611083164578,\n",
              "  -0.006558611083164578,\n",
              "  -0.006558611083164578,\n",
              "  -0.006558611083164578,\n",
              "  -0.006558611083164578,\n",
              "  -0.006558611083164578,\n",
              "  -0.006558611083164578,\n",
              "  -0.006558611083164578,\n",
              "  -0.006558611083164578,\n",
              "  -0.006558611083164578,\n",
              "  -0.006558611083164578,\n",
              "  -0.006558611083164578,\n",
              "  -0.006558611083164578,\n",
              "  -0.006558611083164578,\n",
              "  -0.006558611083164578,\n",
              "  -0.006558611083164578,\n",
              "  -0.006558611083164578,\n",
              "  -0.006558611083164578,\n",
              "  -0.006558611083164578,\n",
              "  -0.006558611083164578,\n",
              "  -0.006558611083164578,\n",
              "  -0.006558611083164578,\n",
              "  -0.006558611083164578,\n",
              "  -0.006558611083164578,\n",
              "  -0.006558611083164578,\n",
              "  -0.006558611083164578,\n",
              "  -0.006558611083164578,\n",
              "  -0.006558611083164578,\n",
              "  -0.006558611083164578,\n",
              "  -0.006558611083164578,\n",
              "  -0.006558611083164578,\n",
              "  -0.006558611083164578,\n",
              "  -0.006558611083164578,\n",
              "  -0.006558611083164578,\n",
              "  -0.006558611083164578,\n",
              "  -0.006558611083164578,\n",
              "  -0.006558611083164578,\n",
              "  -0.006558611083164578,\n",
              "  -0.006558611083164578,\n",
              "  -0.006558611083164578,\n",
              "  -0.006558611083164578,\n",
              "  -0.006558611083164578,\n",
              "  -0.006558611083164578,\n",
              "  -0.006558611083164578,\n",
              "  -0.006558611083164578],\n",
              " 75: [-0.0052276239512139,\n",
              "  -0.0052276239512139,\n",
              "  -0.0052276239512139,\n",
              "  -0.0052276239512139,\n",
              "  -0.0052276239512139,\n",
              "  -0.0052276239512139,\n",
              "  -0.0052276239512139,\n",
              "  -0.0052276239512139,\n",
              "  -0.0052276239512139,\n",
              "  -0.0052276239512139,\n",
              "  -0.0052276239512139,\n",
              "  -0.0052276239512139,\n",
              "  -0.0052276239512139,\n",
              "  -0.0052276239512139,\n",
              "  -0.0052276239512139,\n",
              "  -0.0052276239512139,\n",
              "  -0.0052276239512139,\n",
              "  -0.0052276239512139,\n",
              "  -0.0052276239512139,\n",
              "  -0.0052276239512139,\n",
              "  -0.0052276239512139,\n",
              "  -0.0052276239512139,\n",
              "  -0.0052276239512139,\n",
              "  -0.0052276239512139,\n",
              "  -0.0052276239512139,\n",
              "  -0.0052276239512139,\n",
              "  -0.0052276239512139,\n",
              "  -0.0052276239512139,\n",
              "  -0.0052276239512139,\n",
              "  -0.0052276239512139,\n",
              "  -0.0052276239512139,\n",
              "  -0.0052276239512139,\n",
              "  -0.0052276239512139,\n",
              "  -0.0052276239512139,\n",
              "  -0.0052276239512139,\n",
              "  -0.0052276239512139,\n",
              "  -0.0052276239512139,\n",
              "  -0.0052276239512139,\n",
              "  -0.0052276239512139,\n",
              "  -0.0052276239512139,\n",
              "  -0.0052276239512139,\n",
              "  -0.0052276239512139,\n",
              "  -0.0052276239512139,\n",
              "  -0.0052276239512139,\n",
              "  -0.0052276239512139,\n",
              "  -0.0052276239512139,\n",
              "  -0.0052276239512139,\n",
              "  -0.0052276239512139,\n",
              "  -0.0052276239512139,\n",
              "  -0.0052276239512139,\n",
              "  -0.0052276239512139,\n",
              "  -0.0052276239512139,\n",
              "  -0.0052276239512139,\n",
              "  -0.0052276239512139,\n",
              "  -0.0052276239512139,\n",
              "  -0.0052276239512139,\n",
              "  -0.0052276239512139,\n",
              "  -0.0052276239512139,\n",
              "  -0.0052276239512139,\n",
              "  -0.0052276239512139,\n",
              "  -0.0052276239512139,\n",
              "  -0.0052276239512139,\n",
              "  -0.0052276239512139,\n",
              "  -0.0052276239512139,\n",
              "  -0.0052276239512139,\n",
              "  -0.0052276239512139,\n",
              "  -0.0052276239512139,\n",
              "  -0.0052276239512139,\n",
              "  -0.0052276239512139,\n",
              "  -0.0052276239512139,\n",
              "  -0.0052276239512139,\n",
              "  -0.0052276239512139,\n",
              "  -0.0052276239512139,\n",
              "  -0.0052276239512139,\n",
              "  -0.0052276239512139,\n",
              "  -0.0052276239512139,\n",
              "  -0.0052276239512139,\n",
              "  -0.0052276239512139,\n",
              "  -0.0052276239512139,\n",
              "  -0.0052276239512139,\n",
              "  -0.0052276239512139,\n",
              "  -0.0052276239512139,\n",
              "  -0.0052276239512139,\n",
              "  -0.0052276239512139,\n",
              "  -0.0052276239512139,\n",
              "  -0.0052276239512139,\n",
              "  -0.0052276239512139,\n",
              "  -0.0052276239512139,\n",
              "  -0.0052276239512139,\n",
              "  -0.0052276239512139,\n",
              "  -0.0052276239512139,\n",
              "  -0.0052276239512139,\n",
              "  -0.0052276239512139,\n",
              "  -0.0052276239512139,\n",
              "  -0.0052276239512139,\n",
              "  -0.0052276239512139,\n",
              "  -0.0052276239512139,\n",
              "  -0.0052276239512139,\n",
              "  -0.0052276239512139,\n",
              "  -0.0052276239512139,\n",
              "  -0.0052276239512139,\n",
              "  -0.0052276239512139,\n",
              "  -0.0052276239512139,\n",
              "  -0.0052276239512139,\n",
              "  -0.0052276239512139,\n",
              "  -0.0052276239512139,\n",
              "  -0.0052276239512139,\n",
              "  -0.0052276239512139,\n",
              "  -0.0052276239512139,\n",
              "  -0.0052276239512139,\n",
              "  -0.0052276239512139,\n",
              "  -0.0052276239512139,\n",
              "  -0.0052276239512139,\n",
              "  -0.0052276239512139,\n",
              "  -0.0052276239512139,\n",
              "  -0.0052276239512139,\n",
              "  -0.0052276239512139,\n",
              "  -0.0052276239512139,\n",
              "  -0.0052276239512139,\n",
              "  -0.0052276239512139,\n",
              "  -0.0052276239512139,\n",
              "  -0.0052276239512139,\n",
              "  -0.0052276239512139,\n",
              "  -0.0052276239512139,\n",
              "  -0.0052276239512139,\n",
              "  -0.0052276239512139,\n",
              "  -0.0052276239512139,\n",
              "  -0.0052276239512139],\n",
              " 79: [-0.008520588761712133,\n",
              "  -0.008520588761712133,\n",
              "  -0.008520588761712133,\n",
              "  -0.008520588761712133,\n",
              "  -0.008520588761712133,\n",
              "  -0.008520588761712133,\n",
              "  -0.008520588761712133,\n",
              "  -0.008520588761712133,\n",
              "  -0.008520588761712133,\n",
              "  -0.008520588761712133,\n",
              "  -0.008520588761712133,\n",
              "  -0.008520588761712133,\n",
              "  -0.008520588761712133,\n",
              "  -0.008520588761712133,\n",
              "  -0.008520588761712133,\n",
              "  -0.008520588761712133,\n",
              "  -0.008520588761712133,\n",
              "  -0.008520588761712133,\n",
              "  -0.008520588761712133,\n",
              "  -0.008520588761712133,\n",
              "  -0.008520588761712133,\n",
              "  -0.008520588761712133,\n",
              "  -0.008520588761712133,\n",
              "  -0.008520588761712133,\n",
              "  -0.008520588761712133,\n",
              "  -0.008520588761712133,\n",
              "  -0.008520588761712133,\n",
              "  -0.008520588761712133,\n",
              "  -0.008520588761712133,\n",
              "  -0.008520588761712133,\n",
              "  -0.008520588761712133,\n",
              "  -0.008520588761712133,\n",
              "  -0.008520588761712133,\n",
              "  -0.008520588761712133,\n",
              "  -0.008520588761712133,\n",
              "  -0.008520588761712133,\n",
              "  -0.008520588761712133,\n",
              "  -0.008520588761712133,\n",
              "  -0.008520588761712133,\n",
              "  -0.008520588761712133,\n",
              "  -0.008520588761712133,\n",
              "  -0.008520588761712133,\n",
              "  -0.008520588761712133,\n",
              "  -0.008520588761712133,\n",
              "  -0.008520588761712133,\n",
              "  -0.008520588761712133,\n",
              "  -0.008520588761712133,\n",
              "  -0.008520588761712133,\n",
              "  -0.008520588761712133,\n",
              "  -0.008520588761712133,\n",
              "  -0.008520588761712133,\n",
              "  -0.008520588761712133,\n",
              "  -0.008520588761712133,\n",
              "  -0.008520588761712133,\n",
              "  -0.008520588761712133,\n",
              "  -0.008520588761712133,\n",
              "  -0.008520588761712133,\n",
              "  -0.008520588761712133,\n",
              "  -0.008520588761712133,\n",
              "  -0.008520588761712133,\n",
              "  -0.008520588761712133,\n",
              "  -0.008520588761712133,\n",
              "  -0.008520588761712133,\n",
              "  -0.008520588761712133,\n",
              "  -0.008520588761712133,\n",
              "  -0.008520588761712133,\n",
              "  -0.008520588761712133,\n",
              "  -0.008520588761712133,\n",
              "  -0.008520588761712133,\n",
              "  -0.008520588761712133,\n",
              "  -0.008520588761712133,\n",
              "  -0.008520588761712133,\n",
              "  -0.008520588761712133,\n",
              "  -0.008520588761712133,\n",
              "  -0.008520588761712133,\n",
              "  -0.008520588761712133,\n",
              "  -0.008520588761712133,\n",
              "  -0.008520588761712133,\n",
              "  -0.008520588761712133,\n",
              "  -0.008520588761712133,\n",
              "  -0.008520588761712133,\n",
              "  -0.008520588761712133,\n",
              "  -0.008520588761712133,\n",
              "  -0.008520588761712133,\n",
              "  -0.008520588761712133,\n",
              "  -0.008520588761712133,\n",
              "  -0.008520588761712133,\n",
              "  -0.008520588761712133,\n",
              "  -0.008520588761712133,\n",
              "  -0.008520588761712133,\n",
              "  -0.008520588761712133,\n",
              "  -0.008520588761712133,\n",
              "  -0.008520588761712133,\n",
              "  -0.008520588761712133,\n",
              "  -0.008520588761712133,\n",
              "  -0.008520588761712133,\n",
              "  -0.008520588761712133,\n",
              "  -0.008520588761712133,\n",
              "  -0.008520588761712133,\n",
              "  -0.008520588761712133,\n",
              "  -0.008520588761712133,\n",
              "  -0.008520588761712133,\n",
              "  -0.008520588761712133,\n",
              "  -0.008520588761712133,\n",
              "  -0.008520588761712133,\n",
              "  -0.008520588761712133,\n",
              "  -0.008520588761712133,\n",
              "  -0.008520588761712133,\n",
              "  -0.008520588761712133,\n",
              "  -0.008520588761712133,\n",
              "  -0.008520588761712133,\n",
              "  -0.008520588761712133,\n",
              "  -0.008520588761712133,\n",
              "  -0.008520588761712133,\n",
              "  -0.008520588761712133,\n",
              "  -0.008520588761712133,\n",
              "  -0.008520588761712133,\n",
              "  -0.008520588761712133,\n",
              "  -0.008520588761712133,\n",
              "  -0.008520588761712133,\n",
              "  -0.008520588761712133,\n",
              "  -0.008520588761712133,\n",
              "  -0.008520588761712133,\n",
              "  -0.008520588761712133,\n",
              "  -0.008520588761712133,\n",
              "  -0.008520588761712133,\n",
              "  -0.008520588761712133,\n",
              "  -0.008520588761712133],\n",
              " 24: [-0.0018739250826911302,\n",
              "  -0.0018739250826911302,\n",
              "  -0.0018739250826911302,\n",
              "  -0.0018739250826911302,\n",
              "  -0.0018739250826911302,\n",
              "  -0.0018739250826911302,\n",
              "  -0.0018739250826911302,\n",
              "  -0.0018739250826911302,\n",
              "  -0.0018739250826911302,\n",
              "  -0.0018739250826911302,\n",
              "  -0.0018739250826911302,\n",
              "  -0.0018739250826911302,\n",
              "  -0.0018739250826911302,\n",
              "  -0.0018739250826911302,\n",
              "  -0.0018739250826911302,\n",
              "  -0.0018739250826911302,\n",
              "  -0.0018739250826911302,\n",
              "  -0.0018739250826911302,\n",
              "  -0.0018739250826911302,\n",
              "  -0.0018739250826911302,\n",
              "  -0.0018739250826911302,\n",
              "  -0.0018739250826911302,\n",
              "  -0.0018739250826911302,\n",
              "  -0.0018739250826911302,\n",
              "  -0.0018739250826911302,\n",
              "  -0.0018739250826911302,\n",
              "  -0.0018739250826911302,\n",
              "  -0.0018739250826911302,\n",
              "  -0.0018739250826911302,\n",
              "  -0.0018739250826911302,\n",
              "  -0.0018739250826911302,\n",
              "  -0.0018739250826911302,\n",
              "  -0.0018739250826911302,\n",
              "  -0.0018739250826911302,\n",
              "  -0.0018739250826911302,\n",
              "  -0.0018739250826911302,\n",
              "  -0.0018739250826911302,\n",
              "  -0.0018739250826911302,\n",
              "  -0.0018739250826911302,\n",
              "  -0.0018739250826911302,\n",
              "  -0.0018739250826911302,\n",
              "  -0.0018739250826911302,\n",
              "  -0.0018739250826911302,\n",
              "  -0.0018739250826911302,\n",
              "  -0.0018739250826911302,\n",
              "  -0.0018739250826911302,\n",
              "  -0.0018739250826911302,\n",
              "  -0.0018739250826911302,\n",
              "  -0.0018739250826911302,\n",
              "  -0.0018739250826911302,\n",
              "  -0.0018739250826911302,\n",
              "  -0.0018739250826911302,\n",
              "  -0.0018739250826911302,\n",
              "  -0.0018739250826911302,\n",
              "  -0.0018739250826911302,\n",
              "  -0.0018739250826911302,\n",
              "  -0.0018739250826911302,\n",
              "  -0.0018739250826911302,\n",
              "  -0.0018739250826911302,\n",
              "  -0.0018739250826911302,\n",
              "  -0.0018739250826911302,\n",
              "  -0.0018739250826911302,\n",
              "  -0.0018739250826911302,\n",
              "  -0.0018739250826911302,\n",
              "  -0.0018739250826911302,\n",
              "  -0.0018739250826911302,\n",
              "  -0.0018739250826911302,\n",
              "  -0.0018739250826911302,\n",
              "  -0.0018739250826911302,\n",
              "  -0.0018739250826911302,\n",
              "  -0.0018739250826911302,\n",
              "  -0.0018739250826911302,\n",
              "  -0.0018739250826911302,\n",
              "  -0.0018739250826911302,\n",
              "  -0.0018739250826911302,\n",
              "  -0.0018739250826911302,\n",
              "  -0.0018739250826911302,\n",
              "  -0.0018739250826911302,\n",
              "  -0.0018739250826911302,\n",
              "  -0.0018739250826911302,\n",
              "  -0.0018739250826911302,\n",
              "  -0.0018739250826911302,\n",
              "  -0.0018739250826911302,\n",
              "  -0.0018739250826911302,\n",
              "  -0.0018739250826911302,\n",
              "  -0.0018739250826911302,\n",
              "  -0.0018739250826911302,\n",
              "  -0.0018739250826911302,\n",
              "  -0.0018739250826911302,\n",
              "  -0.0018739250826911302,\n",
              "  -0.0018739250826911302,\n",
              "  -0.0018739250826911302,\n",
              "  -0.0018739250826911302,\n",
              "  -0.0018739250826911302,\n",
              "  -0.0018739250826911302,\n",
              "  -0.0018739250826911302,\n",
              "  -0.0018739250826911302,\n",
              "  -0.0018739250826911302,\n",
              "  -0.0018739250826911302,\n",
              "  -0.0018739250826911302,\n",
              "  -0.0018739250826911302,\n",
              "  -0.0018739250826911302,\n",
              "  -0.0018739250826911302,\n",
              "  -0.0018739250826911302,\n",
              "  -0.0018739250826911302,\n",
              "  -0.0018739250826911302,\n",
              "  -0.0018739250826911302,\n",
              "  -0.0018739250826911302,\n",
              "  -0.0018739250826911302,\n",
              "  -0.0018739250826911302,\n",
              "  -0.0018739250826911302,\n",
              "  -0.0018739250826911302,\n",
              "  -0.0018739250826911302,\n",
              "  -0.0018739250826911302,\n",
              "  -0.0018739250826911302,\n",
              "  -0.0018739250826911302,\n",
              "  -0.0018739250826911302,\n",
              "  -0.0018739250826911302,\n",
              "  -0.0018739250826911302,\n",
              "  -0.0018739250826911302,\n",
              "  -0.0018739250826911302,\n",
              "  -0.0018739250826911302,\n",
              "  -0.0018739250826911302,\n",
              "  -0.0018739250826911302,\n",
              "  -0.0018739250826911302,\n",
              "  -0.0018739250826911302,\n",
              "  -0.0018739250826911302,\n",
              "  -0.0018739250826911302],\n",
              " 20: [-0.0029339829798118444,\n",
              "  -0.0029339829798118444,\n",
              "  -0.0029339829798118444,\n",
              "  -0.0029339829798118444,\n",
              "  -0.0029339829798118444,\n",
              "  -0.0029339829798118444,\n",
              "  -0.0029339829798118444,\n",
              "  -0.0029339829798118444,\n",
              "  -0.0029339829798118444,\n",
              "  -0.0029339829798118444,\n",
              "  -0.0029339829798118444,\n",
              "  -0.0029339829798118444,\n",
              "  -0.0029339829798118444,\n",
              "  -0.0029339829798118444,\n",
              "  -0.0029339829798118444,\n",
              "  -0.0029339829798118444,\n",
              "  -0.0029339829798118444,\n",
              "  -0.0029339829798118444,\n",
              "  -0.0029339829798118444,\n",
              "  -0.0029339829798118444,\n",
              "  -0.0029339829798118444,\n",
              "  -0.0029339829798118444,\n",
              "  -0.0029339829798118444,\n",
              "  -0.0029339829798118444,\n",
              "  -0.0029339829798118444,\n",
              "  -0.0029339829798118444,\n",
              "  -0.0029339829798118444,\n",
              "  -0.0029339829798118444,\n",
              "  -0.0029339829798118444,\n",
              "  -0.0029339829798118444,\n",
              "  -0.0029339829798118444,\n",
              "  -0.0029339829798118444,\n",
              "  -0.0029339829798118444,\n",
              "  -0.0029339829798118444,\n",
              "  -0.0029339829798118444,\n",
              "  -0.0029339829798118444,\n",
              "  -0.0029339829798118444,\n",
              "  -0.0029339829798118444,\n",
              "  -0.0029339829798118444,\n",
              "  -0.0029339829798118444,\n",
              "  -0.0029339829798118444,\n",
              "  -0.0029339829798118444,\n",
              "  -0.0029339829798118444,\n",
              "  -0.0029339829798118444,\n",
              "  -0.0029339829798118444,\n",
              "  -0.0029339829798118444,\n",
              "  -0.0029339829798118444,\n",
              "  -0.0029339829798118444,\n",
              "  -0.0029339829798118444,\n",
              "  -0.0029339829798118444,\n",
              "  -0.0029339829798118444,\n",
              "  -0.0029339829798118444,\n",
              "  -0.0029339829798118444,\n",
              "  -0.0029339829798118444,\n",
              "  -0.0029339829798118444,\n",
              "  -0.0029339829798118444,\n",
              "  -0.0029339829798118444,\n",
              "  -0.0029339829798118444,\n",
              "  -0.0029339829798118444,\n",
              "  -0.0029339829798118444,\n",
              "  -0.0029339829798118444,\n",
              "  -0.0029339829798118444,\n",
              "  -0.0029339829798118444,\n",
              "  -0.0029339829798118444,\n",
              "  -0.0029339829798118444,\n",
              "  -0.0029339829798118444,\n",
              "  -0.0029339829798118444,\n",
              "  -0.0029339829798118444,\n",
              "  -0.0029339829798118444,\n",
              "  -0.0029339829798118444,\n",
              "  -0.0029339829798118444,\n",
              "  -0.0029339829798118444,\n",
              "  -0.0029339829798118444,\n",
              "  -0.0029339829798118444,\n",
              "  -0.0029339829798118444,\n",
              "  -0.0029339829798118444,\n",
              "  -0.0029339829798118444,\n",
              "  -0.0029339829798118444,\n",
              "  -0.0029339829798118444,\n",
              "  -0.0029339829798118444,\n",
              "  -0.0029339829798118444,\n",
              "  -0.0029339829798118444,\n",
              "  -0.0029339829798118444,\n",
              "  -0.0029339829798118444,\n",
              "  -0.0029339829798118444,\n",
              "  -0.0029339829798118444,\n",
              "  -0.0029339829798118444,\n",
              "  -0.0029339829798118444,\n",
              "  -0.0029339829798118444,\n",
              "  -0.0029339829798118444,\n",
              "  -0.0029339829798118444,\n",
              "  -0.0029339829798118444,\n",
              "  -0.0029339829798118444,\n",
              "  -0.0029339829798118444,\n",
              "  -0.0029339829798118444,\n",
              "  -0.0029339829798118444,\n",
              "  -0.0029339829798118444,\n",
              "  -0.0029339829798118444,\n",
              "  -0.0029339829798118444,\n",
              "  -0.0029339829798118444,\n",
              "  -0.0029339829798118444,\n",
              "  -0.0029339829798118444,\n",
              "  -0.0029339829798118444,\n",
              "  -0.0029339829798118444,\n",
              "  -0.0029339829798118444,\n",
              "  -0.0029339829798118444,\n",
              "  -0.0029339829798118444,\n",
              "  -0.0029339829798118444,\n",
              "  -0.0029339829798118444,\n",
              "  -0.0029339829798118444,\n",
              "  -0.0029339829798118444,\n",
              "  -0.0029339829798118444,\n",
              "  -0.0029339829798118444,\n",
              "  -0.0029339829798118444,\n",
              "  -0.0029339829798118444,\n",
              "  -0.0029339829798118444,\n",
              "  -0.0029339829798118444,\n",
              "  -0.0029339829798118444,\n",
              "  -0.0029339829798118444,\n",
              "  -0.0029339829798118444,\n",
              "  -0.0029339829798118444,\n",
              "  -0.0029339829798118444,\n",
              "  -0.0029339829798118444,\n",
              "  -0.0029339829798118444,\n",
              "  -0.0029339829798118444,\n",
              "  -0.0029339829798118444,\n",
              "  -0.0029339829798118444,\n",
              "  -0.0029339829798118444],\n",
              " 64: [0.0019529770979715977,\n",
              "  0.0019529770979715977,\n",
              "  0.0019529770979715977,\n",
              "  0.0019529770979715977,\n",
              "  0.0019529770979715977,\n",
              "  0.0019529770979715977,\n",
              "  0.0019529770979715977,\n",
              "  0.0019529770979715977,\n",
              "  0.0019529770979715977,\n",
              "  0.0019529770979715977,\n",
              "  0.0019529770979715977,\n",
              "  0.0019529770979715977,\n",
              "  0.0019529770979715977,\n",
              "  0.0019529770979715977,\n",
              "  0.0019529770979715977,\n",
              "  0.0019529770979715977,\n",
              "  0.0019529770979715977,\n",
              "  0.0019529770979715977,\n",
              "  0.0019529770979715977,\n",
              "  0.0019529770979715977,\n",
              "  0.0019529770979715977,\n",
              "  0.0019529770979715977,\n",
              "  0.0019529770979715977,\n",
              "  0.0019529770979715977,\n",
              "  0.0019529770979715977,\n",
              "  0.0019529770979715977,\n",
              "  0.0019529770979715977,\n",
              "  0.0019529770979715977,\n",
              "  0.0019529770979715977,\n",
              "  0.0019529770979715977,\n",
              "  0.0019529770979715977,\n",
              "  0.0019529770979715977,\n",
              "  0.0019529770979715977,\n",
              "  0.0019529770979715977,\n",
              "  0.0019529770979715977,\n",
              "  0.0019529770979715977,\n",
              "  0.0019529770979715977,\n",
              "  0.0019529770979715977,\n",
              "  0.0019529770979715977,\n",
              "  0.0019529770979715977,\n",
              "  0.0019529770979715977,\n",
              "  0.0019529770979715977,\n",
              "  0.0019529770979715977,\n",
              "  0.0019529770979715977,\n",
              "  0.0019529770979715977,\n",
              "  0.0019529770979715977,\n",
              "  0.0019529770979715977,\n",
              "  0.0019529770979715977,\n",
              "  0.0019529770979715977,\n",
              "  0.0019529770979715977,\n",
              "  0.0019529770979715977,\n",
              "  0.0019529770979715977,\n",
              "  0.0019529770979715977,\n",
              "  0.0019529770979715977,\n",
              "  0.0019529770979715977,\n",
              "  0.0019529770979715977,\n",
              "  0.0019529770979715977,\n",
              "  0.0019529770979715977,\n",
              "  0.0019529770979715977,\n",
              "  0.0019529770979715977,\n",
              "  0.0019529770979715977,\n",
              "  0.0019529770979715977,\n",
              "  0.0019529770979715977,\n",
              "  0.0019529770979715977,\n",
              "  0.0019529770979715977,\n",
              "  0.0019529770979715977,\n",
              "  0.0019529770979715977,\n",
              "  0.0019529770979715977,\n",
              "  0.0019529770979715977,\n",
              "  0.0019529770979715977,\n",
              "  0.0019529770979715977,\n",
              "  0.0019529770979715977,\n",
              "  0.0019529770979715977,\n",
              "  0.0019529770979715977,\n",
              "  0.0019529770979715977,\n",
              "  0.0019529770979715977,\n",
              "  0.0019529770979715977,\n",
              "  0.0019529770979715977,\n",
              "  0.0019529770979715977,\n",
              "  0.0019529770979715977,\n",
              "  0.0019529770979715977,\n",
              "  0.0019529770979715977,\n",
              "  0.0019529770979715977,\n",
              "  0.0019529770979715977,\n",
              "  0.0019529770979715977,\n",
              "  0.0019529770979715977,\n",
              "  0.0019529770979715977,\n",
              "  0.0019529770979715977,\n",
              "  0.0019529770979715977,\n",
              "  0.0019529770979715977,\n",
              "  0.0019529770979715977,\n",
              "  0.0019529770979715977,\n",
              "  0.0019529770979715977,\n",
              "  0.0019529770979715977,\n",
              "  0.0019529770979715977,\n",
              "  0.0019529770979715977,\n",
              "  0.0019529770979715977,\n",
              "  0.0019529770979715977,\n",
              "  0.0019529770979715977,\n",
              "  0.0019529770979715977,\n",
              "  0.0019529770979715977,\n",
              "  0.0019529770979715977,\n",
              "  0.0019529770979715977,\n",
              "  0.0019529770979715977,\n",
              "  0.0019529770979715977,\n",
              "  0.0019529770979715977,\n",
              "  0.0019529770979715977,\n",
              "  0.0019529770979715977,\n",
              "  0.0019529770979715977,\n",
              "  0.0019529770979715977,\n",
              "  0.0019529770979715977,\n",
              "  0.0019529770979715977,\n",
              "  0.0019529770979715977,\n",
              "  0.0019529770979715977,\n",
              "  0.0019529770979715977,\n",
              "  0.0019529770979715977,\n",
              "  0.0019529770979715977,\n",
              "  0.0019529770979715977,\n",
              "  0.0019529770979715977,\n",
              "  0.0019529770979715977,\n",
              "  0.0019529770979715977,\n",
              "  0.0019529770979715977,\n",
              "  0.0019529770979715977,\n",
              "  0.0019529770979715977,\n",
              "  0.0019529770979715977,\n",
              "  0.0019529770979715977,\n",
              "  0.0019529770979715977,\n",
              "  0.0019529770979715977],\n",
              " 89: [-0.0014013429999977234,\n",
              "  -0.0014013429999977234,\n",
              "  -0.0014013429999977234,\n",
              "  -0.0014013429999977234,\n",
              "  -0.0014013429999977234,\n",
              "  -0.0014013429999977234,\n",
              "  -0.0014013429999977234,\n",
              "  -0.0014013429999977234,\n",
              "  -0.0014013429999977234,\n",
              "  -0.0014013429999977234,\n",
              "  -0.0014013429999977234,\n",
              "  -0.0014013429999977234,\n",
              "  -0.0014013429999977234,\n",
              "  -0.0014013429999977234,\n",
              "  -0.0014013429999977234,\n",
              "  -0.0014013429999977234,\n",
              "  -0.0014013429999977234,\n",
              "  -0.0014013429999977234,\n",
              "  -0.0014013429999977234,\n",
              "  -0.0014013429999977234,\n",
              "  -0.0014013429999977234,\n",
              "  -0.0014013429999977234,\n",
              "  -0.0014013429999977234,\n",
              "  -0.0014013429999977234,\n",
              "  -0.0014013429999977234,\n",
              "  -0.0014013429999977234,\n",
              "  -0.0014013429999977234,\n",
              "  -0.0014013429999977234,\n",
              "  -0.0014013429999977234,\n",
              "  -0.0014013429999977234,\n",
              "  -0.0014013429999977234,\n",
              "  -0.0014013429999977234,\n",
              "  -0.0014013429999977234,\n",
              "  -0.0014013429999977234,\n",
              "  -0.0014013429999977234,\n",
              "  -0.0014013429999977234,\n",
              "  -0.0014013429999977234,\n",
              "  -0.0014013429999977234,\n",
              "  -0.0014013429999977234,\n",
              "  -0.0014013429999977234,\n",
              "  -0.0014013429999977234,\n",
              "  -0.0014013429999977234,\n",
              "  -0.0014013429999977234,\n",
              "  -0.0014013429999977234,\n",
              "  -0.0014013429999977234,\n",
              "  -0.0014013429999977234,\n",
              "  -0.0014013429999977234,\n",
              "  -0.0014013429999977234,\n",
              "  -0.0014013429999977234,\n",
              "  -0.0014013429999977234,\n",
              "  -0.0014013429999977234,\n",
              "  -0.0014013429999977234,\n",
              "  -0.0014013429999977234,\n",
              "  -0.0014013429999977234,\n",
              "  -0.0014013429999977234,\n",
              "  -0.0014013429999977234,\n",
              "  -0.0014013429999977234,\n",
              "  -0.0014013429999977234,\n",
              "  -0.0014013429999977234,\n",
              "  -0.0014013429999977234,\n",
              "  -0.0014013429999977234,\n",
              "  -0.0014013429999977234,\n",
              "  -0.0014013429999977234,\n",
              "  -0.0014013429999977234,\n",
              "  -0.0014013429999977234,\n",
              "  -0.0014013429999977234,\n",
              "  -0.0014013429999977234,\n",
              "  -0.0014013429999977234,\n",
              "  -0.0014013429999977234,\n",
              "  -0.0014013429999977234,\n",
              "  -0.0014013429999977234,\n",
              "  -0.0014013429999977234,\n",
              "  -0.0014013429999977234,\n",
              "  -0.0014013429999977234,\n",
              "  -0.0014013429999977234,\n",
              "  -0.0014013429999977234,\n",
              "  -0.0014013429999977234,\n",
              "  -0.0014013429999977234,\n",
              "  -0.0014013429999977234,\n",
              "  -0.0014013429999977234,\n",
              "  -0.0014013429999977234,\n",
              "  -0.0014013429999977234,\n",
              "  -0.0014013429999977234,\n",
              "  -0.0014013429999977234,\n",
              "  -0.0014013429999977234,\n",
              "  -0.0014013429999977234,\n",
              "  -0.0014013429999977234,\n",
              "  -0.0014013429999977234,\n",
              "  -0.0014013429999977234,\n",
              "  -0.0014013429999977234,\n",
              "  -0.0014013429999977234,\n",
              "  -0.0014013429999977234,\n",
              "  -0.0014013429999977234,\n",
              "  -0.0014013429999977234,\n",
              "  -0.0014013429999977234,\n",
              "  -0.0014013429999977234,\n",
              "  -0.0014013429999977234,\n",
              "  -0.0014013429999977234,\n",
              "  -0.0014013429999977234,\n",
              "  -0.0014013429999977234,\n",
              "  -0.0014013429999977234,\n",
              "  -0.0014013429999977234,\n",
              "  -0.0014013429999977234,\n",
              "  -0.0014013429999977234,\n",
              "  -0.0014013429999977234,\n",
              "  -0.0014013429999977234,\n",
              "  -0.0014013429999977234,\n",
              "  -0.0014013429999977234,\n",
              "  -0.0014013429999977234,\n",
              "  -0.0014013429999977234,\n",
              "  -0.0014013429999977234,\n",
              "  -0.0014013429999977234,\n",
              "  -0.0014013429999977234,\n",
              "  -0.0014013429999977234,\n",
              "  -0.0014013429999977234,\n",
              "  -0.0014013429999977234,\n",
              "  -0.0014013429999977234,\n",
              "  -0.0014013429999977234,\n",
              "  -0.0014013429999977234,\n",
              "  -0.0014013429999977234,\n",
              "  -0.0014013429999977234,\n",
              "  -0.0014013429999977234,\n",
              "  -0.0014013429999977234,\n",
              "  -0.0014013429999977234,\n",
              "  -0.0014013429999977234,\n",
              "  -0.0014013429999977234,\n",
              "  -0.0014013429999977234,\n",
              "  -0.0014013429999977234],\n",
              " 100: [-0.0019411305202083895,\n",
              "  -0.0019411305202083895,\n",
              "  -0.0019411305202083895,\n",
              "  -0.0019411305202083895,\n",
              "  -0.0019411305202083895,\n",
              "  -0.0019411305202083895,\n",
              "  -0.0019411305202083895,\n",
              "  -0.0019411305202083895,\n",
              "  -0.0019411305202083895,\n",
              "  -0.0019411305202083895,\n",
              "  -0.0019411305202083895,\n",
              "  -0.0019411305202083895,\n",
              "  -0.0019411305202083895,\n",
              "  -0.0019411305202083895,\n",
              "  -0.0019411305202083895,\n",
              "  -0.0019411305202083895,\n",
              "  -0.0019411305202083895,\n",
              "  -0.0019411305202083895,\n",
              "  -0.0019411305202083895,\n",
              "  -0.0019411305202083895,\n",
              "  -0.0019411305202083895,\n",
              "  -0.0019411305202083895,\n",
              "  -0.0019411305202083895,\n",
              "  -0.0019411305202083895,\n",
              "  -0.0019411305202083895,\n",
              "  -0.0019411305202083895,\n",
              "  -0.0019411305202083895,\n",
              "  -0.0019411305202083895,\n",
              "  -0.0019411305202083895,\n",
              "  -0.0019411305202083895,\n",
              "  -0.0019411305202083895,\n",
              "  -0.0019411305202083895,\n",
              "  -0.0019411305202083895,\n",
              "  -0.0019411305202083895,\n",
              "  -0.0019411305202083895,\n",
              "  -0.0019411305202083895,\n",
              "  -0.0019411305202083895,\n",
              "  -0.0019411305202083895,\n",
              "  -0.0019411305202083895,\n",
              "  -0.0019411305202083895,\n",
              "  -0.0019411305202083895,\n",
              "  -0.0019411305202083895,\n",
              "  -0.0019411305202083895,\n",
              "  -0.0019411305202083895,\n",
              "  -0.0019411305202083895,\n",
              "  -0.0019411305202083895,\n",
              "  -0.0019411305202083895,\n",
              "  -0.0019411305202083895,\n",
              "  -0.0019411305202083895,\n",
              "  -0.0019411305202083895,\n",
              "  -0.0019411305202083895,\n",
              "  -0.0019411305202083895,\n",
              "  -0.0019411305202083895,\n",
              "  -0.0019411305202083895,\n",
              "  -0.0019411305202083895,\n",
              "  -0.0019411305202083895,\n",
              "  -0.0019411305202083895,\n",
              "  -0.0019411305202083895,\n",
              "  -0.0019411305202083895,\n",
              "  -0.0019411305202083895,\n",
              "  -0.0019411305202083895,\n",
              "  -0.0019411305202083895,\n",
              "  -0.0019411305202083895,\n",
              "  -0.0019411305202083895,\n",
              "  -0.0019411305202083895,\n",
              "  -0.0019411305202083895,\n",
              "  -0.0019411305202083895,\n",
              "  -0.0019411305202083895,\n",
              "  -0.0019411305202083895,\n",
              "  -0.0019411305202083895,\n",
              "  -0.0019411305202083895,\n",
              "  -0.0019411305202083895,\n",
              "  -0.0019411305202083895,\n",
              "  -0.0019411305202083895,\n",
              "  -0.0019411305202083895,\n",
              "  -0.0019411305202083895,\n",
              "  -0.0019411305202083895,\n",
              "  -0.0019411305202083895,\n",
              "  -0.0019411305202083895,\n",
              "  -0.0019411305202083895,\n",
              "  -0.0019411305202083895,\n",
              "  -0.0019411305202083895,\n",
              "  -0.0019411305202083895,\n",
              "  -0.0019411305202083895,\n",
              "  -0.0019411305202083895,\n",
              "  -0.0019411305202083895,\n",
              "  -0.0019411305202083895,\n",
              "  -0.0019411305202083895,\n",
              "  -0.0019411305202083895,\n",
              "  -0.0019411305202083895,\n",
              "  -0.0019411305202083895,\n",
              "  -0.0019411305202083895,\n",
              "  -0.0019411305202083895,\n",
              "  -0.0019411305202083895,\n",
              "  -0.0019411305202083895,\n",
              "  -0.0019411305202083895,\n",
              "  -0.0019411305202083895,\n",
              "  -0.0019411305202083895,\n",
              "  -0.0019411305202083895,\n",
              "  -0.0019411305202083895,\n",
              "  -0.0019411305202083895,\n",
              "  -0.0019411305202083895,\n",
              "  -0.0019411305202083895,\n",
              "  -0.0019411305202083895,\n",
              "  -0.0019411305202083895,\n",
              "  -0.0019411305202083895,\n",
              "  -0.0019411305202083895,\n",
              "  -0.0019411305202083895,\n",
              "  -0.0019411305202083895,\n",
              "  -0.0019411305202083895,\n",
              "  -0.0019411305202083895,\n",
              "  -0.0019411305202083895,\n",
              "  -0.0019411305202083895,\n",
              "  -0.0019411305202083895,\n",
              "  -0.0019411305202083895,\n",
              "  -0.0019411305202083895,\n",
              "  -0.0019411305202083895,\n",
              "  -0.0019411305202083895,\n",
              "  -0.0019411305202083895,\n",
              "  -0.0019411305202083895,\n",
              "  -0.0019411305202083895,\n",
              "  -0.0019411305202083895,\n",
              "  -0.0019411305202083895,\n",
              "  -0.0019411305202083895,\n",
              "  -0.0019411305202083895,\n",
              "  -0.0019411305202083895,\n",
              "  -0.0019411305202083895,\n",
              "  -0.0019411305202083895],\n",
              " 62: [-0.00339146917576727,\n",
              "  -0.00339146917576727,\n",
              "  -0.00339146917576727,\n",
              "  -0.00339146917576727,\n",
              "  -0.00339146917576727,\n",
              "  -0.00339146917576727,\n",
              "  -0.00339146917576727,\n",
              "  -0.00339146917576727,\n",
              "  -0.00339146917576727,\n",
              "  -0.00339146917576727,\n",
              "  -0.00339146917576727,\n",
              "  -0.00339146917576727,\n",
              "  -0.00339146917576727,\n",
              "  -0.00339146917576727,\n",
              "  -0.00339146917576727,\n",
              "  -0.00339146917576727,\n",
              "  -0.00339146917576727,\n",
              "  -0.00339146917576727,\n",
              "  -0.00339146917576727,\n",
              "  -0.00339146917576727,\n",
              "  -0.00339146917576727,\n",
              "  -0.00339146917576727,\n",
              "  -0.00339146917576727,\n",
              "  -0.00339146917576727,\n",
              "  -0.00339146917576727,\n",
              "  -0.00339146917576727,\n",
              "  -0.00339146917576727,\n",
              "  -0.00339146917576727,\n",
              "  -0.00339146917576727,\n",
              "  -0.00339146917576727,\n",
              "  -0.00339146917576727,\n",
              "  -0.00339146917576727,\n",
              "  -0.00339146917576727,\n",
              "  -0.00339146917576727,\n",
              "  -0.00339146917576727,\n",
              "  -0.00339146917576727,\n",
              "  -0.00339146917576727,\n",
              "  -0.00339146917576727,\n",
              "  -0.00339146917576727,\n",
              "  -0.00339146917576727,\n",
              "  -0.00339146917576727,\n",
              "  -0.00339146917576727,\n",
              "  -0.00339146917576727,\n",
              "  -0.00339146917576727,\n",
              "  -0.00339146917576727,\n",
              "  -0.00339146917576727,\n",
              "  -0.00339146917576727,\n",
              "  -0.00339146917576727,\n",
              "  -0.00339146917576727,\n",
              "  -0.00339146917576727,\n",
              "  -0.00339146917576727,\n",
              "  -0.00339146917576727,\n",
              "  -0.00339146917576727,\n",
              "  -0.00339146917576727,\n",
              "  -0.00339146917576727,\n",
              "  -0.00339146917576727,\n",
              "  -0.00339146917576727,\n",
              "  -0.00339146917576727,\n",
              "  -0.00339146917576727,\n",
              "  -0.00339146917576727,\n",
              "  -0.00339146917576727,\n",
              "  -0.00339146917576727,\n",
              "  -0.00339146917576727,\n",
              "  -0.00339146917576727,\n",
              "  -0.00339146917576727,\n",
              "  -0.00339146917576727,\n",
              "  -0.00339146917576727,\n",
              "  -0.00339146917576727,\n",
              "  -0.00339146917576727,\n",
              "  -0.00339146917576727,\n",
              "  -0.00339146917576727,\n",
              "  -0.00339146917576727,\n",
              "  -0.00339146917576727,\n",
              "  -0.00339146917576727,\n",
              "  -0.00339146917576727,\n",
              "  -0.00339146917576727,\n",
              "  -0.00339146917576727,\n",
              "  -0.00339146917576727,\n",
              "  -0.00339146917576727,\n",
              "  -0.00339146917576727,\n",
              "  -0.00339146917576727,\n",
              "  -0.00339146917576727,\n",
              "  -0.00339146917576727,\n",
              "  -0.00339146917576727,\n",
              "  -0.00339146917576727,\n",
              "  -0.00339146917576727,\n",
              "  -0.00339146917576727,\n",
              "  -0.00339146917576727,\n",
              "  -0.00339146917576727,\n",
              "  -0.00339146917576727,\n",
              "  -0.00339146917576727,\n",
              "  -0.00339146917576727,\n",
              "  -0.00339146917576727,\n",
              "  -0.00339146917576727,\n",
              "  -0.00339146917576727,\n",
              "  -0.00339146917576727,\n",
              "  -0.00339146917576727,\n",
              "  -0.00339146917576727,\n",
              "  -0.00339146917576727,\n",
              "  -0.00339146917576727,\n",
              "  -0.00339146917576727,\n",
              "  -0.00339146917576727,\n",
              "  -0.00339146917576727,\n",
              "  -0.00339146917576727,\n",
              "  -0.00339146917576727,\n",
              "  -0.00339146917576727,\n",
              "  -0.00339146917576727,\n",
              "  -0.00339146917576727,\n",
              "  -0.00339146917576727,\n",
              "  -0.00339146917576727,\n",
              "  -0.00339146917576727,\n",
              "  -0.00339146917576727,\n",
              "  -0.00339146917576727,\n",
              "  -0.00339146917576727,\n",
              "  -0.00339146917576727,\n",
              "  -0.00339146917576727,\n",
              "  -0.00339146917576727,\n",
              "  -0.00339146917576727,\n",
              "  -0.00339146917576727,\n",
              "  -0.00339146917576727,\n",
              "  -0.00339146917576727,\n",
              "  -0.00339146917576727,\n",
              "  -0.00339146917576727,\n",
              "  -0.00339146917576727,\n",
              "  -0.00339146917576727,\n",
              "  -0.00339146917576727,\n",
              "  -0.00339146917576727,\n",
              "  -0.00339146917576727],\n",
              " 16: [-0.0038811076415186108,\n",
              "  -0.0038811076415186108,\n",
              "  -0.0038811076415186108,\n",
              "  -0.0038811076415186108,\n",
              "  -0.0038811076415186108,\n",
              "  -0.0038811076415186108,\n",
              "  -0.0038811076415186108,\n",
              "  -0.0038811076415186108,\n",
              "  -0.0038811076415186108,\n",
              "  -0.0038811076415186108,\n",
              "  -0.0038811076415186108,\n",
              "  -0.0038811076415186108,\n",
              "  -0.0038811076415186108,\n",
              "  -0.0038811076415186108,\n",
              "  -0.0038811076415186108,\n",
              "  -0.0038811076415186108,\n",
              "  -0.0038811076415186108,\n",
              "  -0.0038811076415186108,\n",
              "  -0.0038811076415186108,\n",
              "  -0.0038811076415186108,\n",
              "  -0.0038811076415186108,\n",
              "  -0.0038811076415186108,\n",
              "  -0.0038811076415186108,\n",
              "  -0.0038811076415186108,\n",
              "  -0.0038811076415186108,\n",
              "  -0.0038811076415186108,\n",
              "  -0.0038811076415186108,\n",
              "  -0.0038811076415186108,\n",
              "  -0.0038811076415186108,\n",
              "  -0.0038811076415186108,\n",
              "  -0.0038811076415186108,\n",
              "  -0.0038811076415186108,\n",
              "  -0.0038811076415186108,\n",
              "  -0.0038811076415186108,\n",
              "  -0.0038811076415186108,\n",
              "  -0.0038811076415186108,\n",
              "  -0.0038811076415186108,\n",
              "  -0.0038811076415186108,\n",
              "  -0.0038811076415186108,\n",
              "  -0.0038811076415186108,\n",
              "  -0.0038811076415186108,\n",
              "  -0.0038811076415186108,\n",
              "  -0.0038811076415186108,\n",
              "  -0.0038811076415186108,\n",
              "  -0.0038811076415186108,\n",
              "  -0.0038811076415186108,\n",
              "  -0.0038811076415186108,\n",
              "  -0.0038811076415186108,\n",
              "  -0.0038811076415186108,\n",
              "  -0.0038811076415186108,\n",
              "  -0.0038811076415186108,\n",
              "  -0.0038811076415186108,\n",
              "  -0.0038811076415186108,\n",
              "  -0.0038811076415186108,\n",
              "  -0.0038811076415186108,\n",
              "  -0.0038811076415186108,\n",
              "  -0.0038811076415186108,\n",
              "  -0.0038811076415186108,\n",
              "  -0.0038811076415186108,\n",
              "  -0.0038811076415186108,\n",
              "  -0.0038811076415186108,\n",
              "  -0.0038811076415186108,\n",
              "  -0.0038811076415186108,\n",
              "  -0.0038811076415186108,\n",
              "  -0.0038811076415186108,\n",
              "  -0.0038811076415186108,\n",
              "  -0.0038811076415186108,\n",
              "  -0.0038811076415186108,\n",
              "  -0.0038811076415186108,\n",
              "  -0.0038811076415186108,\n",
              "  -0.0038811076415186108,\n",
              "  -0.0038811076415186108,\n",
              "  -0.0038811076415186108,\n",
              "  -0.0038811076415186108,\n",
              "  -0.0038811076415186108,\n",
              "  -0.0038811076415186108,\n",
              "  -0.0038811076415186108,\n",
              "  -0.0038811076415186108,\n",
              "  -0.0038811076415186108,\n",
              "  -0.0038811076415186108,\n",
              "  -0.0038811076415186108,\n",
              "  -0.0038811076415186108,\n",
              "  -0.0038811076415186108,\n",
              "  -0.0038811076415186108,\n",
              "  -0.0038811076415186108,\n",
              "  -0.0038811076415186108,\n",
              "  -0.0038811076415186108,\n",
              "  -0.0038811076415186108,\n",
              "  -0.0038811076415186108,\n",
              "  -0.0038811076415186108,\n",
              "  -0.0038811076415186108,\n",
              "  -0.0038811076415186108,\n",
              "  -0.0038811076415186108,\n",
              "  -0.0038811076415186108,\n",
              "  -0.0038811076415186108,\n",
              "  -0.0038811076415186108,\n",
              "  -0.0038811076415186108,\n",
              "  -0.0038811076415186108,\n",
              "  -0.0038811076415186108,\n",
              "  -0.0038811076415186108,\n",
              "  -0.0038811076415186108,\n",
              "  -0.0038811076415186108,\n",
              "  -0.0038811076415186108,\n",
              "  -0.0038811076415186108,\n",
              "  -0.0038811076415186108,\n",
              "  -0.0038811076415186108,\n",
              "  -0.0038811076415186108,\n",
              "  -0.0038811076415186108,\n",
              "  -0.0038811076415186108,\n",
              "  -0.0038811076415186108,\n",
              "  -0.0038811076415186108,\n",
              "  -0.0038811076415186108,\n",
              "  -0.0038811076415186108,\n",
              "  -0.0038811076415186108,\n",
              "  -0.0038811076415186108,\n",
              "  -0.0038811076415186108,\n",
              "  -0.0038811076415186108,\n",
              "  -0.0038811076415186108,\n",
              "  -0.0038811076415186108,\n",
              "  -0.0038811076415186108,\n",
              "  -0.0038811076415186108,\n",
              "  -0.0038811076415186108,\n",
              "  -0.0038811076415186108,\n",
              "  -0.0038811076415186108,\n",
              "  -0.0038811076415186108,\n",
              "  -0.0038811076415186108,\n",
              "  -0.0038811076415186108,\n",
              "  -0.0038811076415186108],\n",
              " 2: [-0.0005623344040941447,\n",
              "  -0.0005623344040941447,\n",
              "  -0.0005623344040941447,\n",
              "  -0.0005623344040941447,\n",
              "  -0.0005623344040941447,\n",
              "  -0.0005623344040941447,\n",
              "  -0.0005623344040941447,\n",
              "  -0.0005623344040941447,\n",
              "  -0.0005623344040941447,\n",
              "  -0.0005623344040941447,\n",
              "  -0.0005623344040941447,\n",
              "  -0.0005623344040941447,\n",
              "  -0.0005623344040941447,\n",
              "  -0.0005623344040941447,\n",
              "  -0.0005623344040941447,\n",
              "  -0.0005623344040941447,\n",
              "  -0.0005623344040941447,\n",
              "  -0.0005623344040941447,\n",
              "  -0.0005623344040941447,\n",
              "  -0.0005623344040941447,\n",
              "  -0.0005623344040941447,\n",
              "  -0.0005623344040941447,\n",
              "  -0.0005623344040941447,\n",
              "  -0.0005623344040941447,\n",
              "  -0.0005623344040941447,\n",
              "  -0.0005623344040941447,\n",
              "  -0.0005623344040941447,\n",
              "  -0.0005623344040941447,\n",
              "  -0.0005623344040941447,\n",
              "  -0.0005623344040941447,\n",
              "  -0.0005623344040941447,\n",
              "  -0.0005623344040941447,\n",
              "  -0.0005623344040941447,\n",
              "  -0.0005623344040941447,\n",
              "  -0.0005623344040941447,\n",
              "  -0.0005623344040941447,\n",
              "  -0.0005623344040941447,\n",
              "  -0.0005623344040941447,\n",
              "  -0.0005623344040941447,\n",
              "  -0.0005623344040941447,\n",
              "  -0.0005623344040941447,\n",
              "  -0.0005623344040941447,\n",
              "  -0.0005623344040941447,\n",
              "  -0.0005623344040941447,\n",
              "  -0.0005623344040941447,\n",
              "  -0.0005623344040941447,\n",
              "  -0.0005623344040941447,\n",
              "  -0.0005623344040941447,\n",
              "  -0.0005623344040941447,\n",
              "  -0.0005623344040941447,\n",
              "  -0.0005623344040941447,\n",
              "  -0.0005623344040941447,\n",
              "  -0.0005623344040941447,\n",
              "  -0.0005623344040941447,\n",
              "  -0.0005623344040941447,\n",
              "  -0.0005623344040941447,\n",
              "  -0.0005623344040941447,\n",
              "  -0.0005623344040941447,\n",
              "  -0.0005623344040941447,\n",
              "  -0.0005623344040941447,\n",
              "  -0.0005623344040941447,\n",
              "  -0.0005623344040941447,\n",
              "  -0.0005623344040941447,\n",
              "  -0.0005623344040941447,\n",
              "  -0.0005623344040941447,\n",
              "  -0.0005623344040941447,\n",
              "  -0.0005623344040941447,\n",
              "  -0.0005623344040941447,\n",
              "  -0.0005623344040941447,\n",
              "  -0.0005623344040941447,\n",
              "  -0.0005623344040941447,\n",
              "  -0.0005623344040941447,\n",
              "  -0.0005623344040941447,\n",
              "  -0.0005623344040941447,\n",
              "  -0.0005623344040941447,\n",
              "  -0.0005623344040941447,\n",
              "  -0.0005623344040941447,\n",
              "  -0.0005623344040941447,\n",
              "  -0.0005623344040941447,\n",
              "  -0.0005623344040941447,\n",
              "  -0.0005623344040941447,\n",
              "  -0.0005623344040941447,\n",
              "  -0.0005623344040941447,\n",
              "  -0.0005623344040941447,\n",
              "  -0.0005623344040941447,\n",
              "  -0.0005623344040941447,\n",
              "  -0.0005623344040941447,\n",
              "  -0.0005623344040941447,\n",
              "  -0.0005623344040941447,\n",
              "  -0.0005623344040941447,\n",
              "  -0.0005623344040941447,\n",
              "  -0.0005623344040941447,\n",
              "  -0.0005623344040941447,\n",
              "  -0.0005623344040941447,\n",
              "  -0.0005623344040941447,\n",
              "  -0.0005623344040941447,\n",
              "  -0.0005623344040941447,\n",
              "  -0.0005623344040941447,\n",
              "  -0.0005623344040941447,\n",
              "  -0.0005623344040941447,\n",
              "  -0.0005623344040941447,\n",
              "  -0.0005623344040941447,\n",
              "  -0.0005623344040941447,\n",
              "  -0.0005623344040941447,\n",
              "  -0.0005623344040941447,\n",
              "  -0.0005623344040941447,\n",
              "  -0.0005623344040941447,\n",
              "  -0.0005623344040941447,\n",
              "  -0.0005623344040941447,\n",
              "  -0.0005623344040941447,\n",
              "  -0.0005623344040941447,\n",
              "  -0.0005623344040941447,\n",
              "  -0.0005623344040941447,\n",
              "  -0.0005623344040941447,\n",
              "  -0.0005623344040941447,\n",
              "  -0.0005623344040941447,\n",
              "  -0.0005623344040941447,\n",
              "  -0.0005623344040941447,\n",
              "  -0.0005623344040941447,\n",
              "  -0.0005623344040941447,\n",
              "  -0.0005623344040941447,\n",
              "  -0.0005623344040941447,\n",
              "  -0.0005623344040941447,\n",
              "  -0.0005623344040941447,\n",
              "  -0.0005623344040941447,\n",
              "  -0.0005623344040941447,\n",
              "  -0.0005623344040941447,\n",
              "  -0.0005623344040941447],\n",
              " 41: [0.0032882891482586274,\n",
              "  0.0032882891482586274,\n",
              "  0.0032882891482586274,\n",
              "  0.0032882891482586274,\n",
              "  0.0032882891482586274,\n",
              "  0.0032882891482586274,\n",
              "  0.0032882891482586274,\n",
              "  0.0032882891482586274,\n",
              "  0.0032882891482586274,\n",
              "  0.0032882891482586274,\n",
              "  0.0032882891482586274,\n",
              "  0.0032882891482586274,\n",
              "  0.0032882891482586274,\n",
              "  0.0032882891482586274,\n",
              "  0.0032882891482586274,\n",
              "  0.0032882891482586274,\n",
              "  0.0032882891482586274,\n",
              "  0.0032882891482586274,\n",
              "  0.0032882891482586274,\n",
              "  0.0032882891482586274,\n",
              "  0.0032882891482586274,\n",
              "  0.0032882891482586274,\n",
              "  0.0032882891482586274,\n",
              "  0.0032882891482586274,\n",
              "  0.0032882891482586274,\n",
              "  0.0032882891482586274,\n",
              "  0.0032882891482586274,\n",
              "  0.0032882891482586274,\n",
              "  0.0032882891482586274,\n",
              "  0.0032882891482586274,\n",
              "  0.0032882891482586274,\n",
              "  0.0032882891482586274,\n",
              "  0.0032882891482586274,\n",
              "  0.0032882891482586274,\n",
              "  0.0032882891482586274,\n",
              "  0.0032882891482586274,\n",
              "  0.0032882891482586274,\n",
              "  0.0032882891482586274,\n",
              "  0.0032882891482586274,\n",
              "  0.0032882891482586274,\n",
              "  0.0032882891482586274,\n",
              "  0.0032882891482586274,\n",
              "  0.0032882891482586274,\n",
              "  0.0032882891482586274,\n",
              "  0.0032882891482586274,\n",
              "  0.0032882891482586274,\n",
              "  0.0032882891482586274,\n",
              "  0.0032882891482586274,\n",
              "  0.0032882891482586274,\n",
              "  0.0032882891482586274,\n",
              "  0.0032882891482586274,\n",
              "  0.0032882891482586274,\n",
              "  0.0032882891482586274,\n",
              "  0.0032882891482586274,\n",
              "  0.0032882891482586274,\n",
              "  0.0032882891482586274,\n",
              "  0.0032882891482586274,\n",
              "  0.0032882891482586274,\n",
              "  0.0032882891482586274,\n",
              "  0.0032882891482586274,\n",
              "  0.0032882891482586274,\n",
              "  0.0032882891482586274,\n",
              "  0.0032882891482586274,\n",
              "  0.0032882891482586274,\n",
              "  0.0032882891482586274,\n",
              "  0.0032882891482586274,\n",
              "  0.0032882891482586274,\n",
              "  0.0032882891482586274,\n",
              "  0.0032882891482586274,\n",
              "  0.0032882891482586274,\n",
              "  0.0032882891482586274,\n",
              "  0.0032882891482586274,\n",
              "  0.0032882891482586274,\n",
              "  0.0032882891482586274,\n",
              "  0.0032882891482586274,\n",
              "  0.0032882891482586274,\n",
              "  0.0032882891482586274,\n",
              "  0.0032882891482586274,\n",
              "  0.0032882891482586274,\n",
              "  0.0032882891482586274,\n",
              "  0.0032882891482586274,\n",
              "  0.0032882891482586274,\n",
              "  0.0032882891482586274,\n",
              "  0.0032882891482586274,\n",
              "  0.0032882891482586274,\n",
              "  0.0032882891482586274,\n",
              "  0.0032882891482586274,\n",
              "  0.0032882891482586274,\n",
              "  0.0032882891482586274,\n",
              "  0.0032882891482586274,\n",
              "  0.0032882891482586274,\n",
              "  0.0032882891482586274,\n",
              "  0.0032882891482586274,\n",
              "  0.0032882891482586274,\n",
              "  0.0032882891482586274,\n",
              "  0.0032882891482586274,\n",
              "  0.0032882891482586274,\n",
              "  0.0032882891482586274,\n",
              "  0.0032882891482586274,\n",
              "  0.0032882891482586274,\n",
              "  0.0032882891482586274,\n",
              "  0.0032882891482586274,\n",
              "  0.0032882891482586274,\n",
              "  0.0032882891482586274,\n",
              "  0.0032882891482586274,\n",
              "  0.0032882891482586274,\n",
              "  0.0032882891482586274,\n",
              "  0.0032882891482586274,\n",
              "  0.0032882891482586274,\n",
              "  0.0032882891482586274,\n",
              "  0.0032882891482586274,\n",
              "  0.0032882891482586274,\n",
              "  0.0032882891482586274,\n",
              "  0.0032882891482586274,\n",
              "  0.0032882891482586274,\n",
              "  0.0032882891482586274,\n",
              "  0.0032882891482586274,\n",
              "  0.0032882891482586274,\n",
              "  0.0032882891482586274,\n",
              "  0.0032882891482586274,\n",
              "  0.0032882891482586274,\n",
              "  0.0032882891482586274,\n",
              "  0.0032882891482586274,\n",
              "  0.0032882891482586274,\n",
              "  0.0032882891482586274,\n",
              "  0.0032882891482586274,\n",
              "  0.0032882891482586274,\n",
              "  0.0032882891482586274],\n",
              " 26: [0.002437291957448906,\n",
              "  0.002437291957448906,\n",
              "  0.002437291957448906,\n",
              "  0.002437291957448906,\n",
              "  0.002437291957448906,\n",
              "  0.002437291957448906,\n",
              "  0.002437291957448906,\n",
              "  0.002437291957448906,\n",
              "  0.002437291957448906,\n",
              "  0.002437291957448906,\n",
              "  0.002437291957448906,\n",
              "  0.002437291957448906,\n",
              "  0.002437291957448906,\n",
              "  0.002437291957448906,\n",
              "  0.002437291957448906,\n",
              "  0.002437291957448906,\n",
              "  0.002437291957448906,\n",
              "  0.002437291957448906,\n",
              "  0.002437291957448906,\n",
              "  0.002437291957448906,\n",
              "  0.002437291957448906,\n",
              "  0.002437291957448906,\n",
              "  0.002437291957448906,\n",
              "  0.002437291957448906,\n",
              "  0.002437291957448906,\n",
              "  0.002437291957448906,\n",
              "  0.002437291957448906,\n",
              "  0.002437291957448906,\n",
              "  0.002437291957448906,\n",
              "  0.002437291957448906,\n",
              "  0.002437291957448906,\n",
              "  0.002437291957448906,\n",
              "  0.002437291957448906,\n",
              "  0.002437291957448906,\n",
              "  0.002437291957448906,\n",
              "  0.002437291957448906,\n",
              "  0.002437291957448906,\n",
              "  0.002437291957448906,\n",
              "  0.002437291957448906,\n",
              "  0.002437291957448906,\n",
              "  0.002437291957448906,\n",
              "  0.002437291957448906,\n",
              "  0.002437291957448906,\n",
              "  0.002437291957448906,\n",
              "  0.002437291957448906,\n",
              "  0.002437291957448906,\n",
              "  0.002437291957448906,\n",
              "  0.002437291957448906,\n",
              "  0.002437291957448906,\n",
              "  0.002437291957448906,\n",
              "  0.002437291957448906,\n",
              "  0.002437291957448906,\n",
              "  0.002437291957448906,\n",
              "  0.002437291957448906,\n",
              "  0.002437291957448906,\n",
              "  0.002437291957448906,\n",
              "  0.002437291957448906,\n",
              "  0.002437291957448906,\n",
              "  0.002437291957448906,\n",
              "  0.002437291957448906,\n",
              "  0.002437291957448906,\n",
              "  0.002437291957448906,\n",
              "  0.002437291957448906,\n",
              "  0.002437291957448906,\n",
              "  0.002437291957448906,\n",
              "  0.002437291957448906,\n",
              "  0.002437291957448906,\n",
              "  0.002437291957448906,\n",
              "  0.002437291957448906,\n",
              "  0.002437291957448906,\n",
              "  0.002437291957448906,\n",
              "  0.002437291957448906,\n",
              "  0.002437291957448906,\n",
              "  0.002437291957448906,\n",
              "  0.002437291957448906,\n",
              "  0.002437291957448906,\n",
              "  0.002437291957448906,\n",
              "  0.002437291957448906,\n",
              "  0.002437291957448906,\n",
              "  0.002437291957448906,\n",
              "  0.002437291957448906,\n",
              "  0.002437291957448906,\n",
              "  0.002437291957448906,\n",
              "  0.002437291957448906,\n",
              "  0.002437291957448906,\n",
              "  0.002437291957448906,\n",
              "  0.002437291957448906,\n",
              "  0.002437291957448906,\n",
              "  0.002437291957448906,\n",
              "  0.002437291957448906,\n",
              "  0.002437291957448906,\n",
              "  0.002437291957448906,\n",
              "  0.002437291957448906,\n",
              "  0.002437291957448906,\n",
              "  0.002437291957448906,\n",
              "  0.002437291957448906,\n",
              "  0.002437291957448906,\n",
              "  0.002437291957448906,\n",
              "  0.002437291957448906,\n",
              "  0.002437291957448906,\n",
              "  0.002437291957448906,\n",
              "  0.002437291957448906,\n",
              "  0.002437291957448906,\n",
              "  0.002437291957448906,\n",
              "  0.002437291957448906,\n",
              "  0.002437291957448906,\n",
              "  0.002437291957448906,\n",
              "  0.002437291957448906,\n",
              "  0.002437291957448906,\n",
              "  0.002437291957448906,\n",
              "  0.002437291957448906,\n",
              "  0.002437291957448906,\n",
              "  0.002437291957448906,\n",
              "  0.002437291957448906,\n",
              "  0.002437291957448906,\n",
              "  0.002437291957448906,\n",
              "  0.002437291957448906,\n",
              "  0.002437291957448906,\n",
              "  0.002437291957448906,\n",
              "  0.002437291957448906,\n",
              "  0.002437291957448906,\n",
              "  0.002437291957448906,\n",
              "  0.002437291957448906,\n",
              "  0.002437291957448906,\n",
              "  0.002437291957448906,\n",
              "  0.002437291957448906,\n",
              "  0.002437291957448906,\n",
              "  0.002437291957448906],\n",
              " 45: [-0.0011726628058568167,\n",
              "  -0.0011726628058568167,\n",
              "  -0.0011726628058568167,\n",
              "  -0.0011726628058568167,\n",
              "  -0.0011726628058568167,\n",
              "  -0.0011726628058568167,\n",
              "  -0.0011726628058568167,\n",
              "  -0.0011726628058568167,\n",
              "  -0.0011726628058568167,\n",
              "  -0.0011726628058568167,\n",
              "  -0.0011726628058568167,\n",
              "  -0.0011726628058568167,\n",
              "  -0.0011726628058568167,\n",
              "  -0.0011726628058568167,\n",
              "  -0.0011726628058568167,\n",
              "  -0.0011726628058568167,\n",
              "  -0.0011726628058568167,\n",
              "  -0.0011726628058568167,\n",
              "  -0.0011726628058568167,\n",
              "  -0.0011726628058568167,\n",
              "  -0.0011726628058568167,\n",
              "  -0.0011726628058568167,\n",
              "  -0.0011726628058568167,\n",
              "  -0.0011726628058568167,\n",
              "  -0.0011726628058568167,\n",
              "  -0.0011726628058568167,\n",
              "  -0.0011726628058568167,\n",
              "  -0.0011726628058568167,\n",
              "  -0.0011726628058568167,\n",
              "  -0.0011726628058568167,\n",
              "  -0.0011726628058568167,\n",
              "  -0.0011726628058568167,\n",
              "  -0.0011726628058568167,\n",
              "  -0.0011726628058568167,\n",
              "  -0.0011726628058568167,\n",
              "  -0.0011726628058568167,\n",
              "  -0.0011726628058568167,\n",
              "  -0.0011726628058568167,\n",
              "  -0.0011726628058568167,\n",
              "  -0.0011726628058568167,\n",
              "  -0.0011726628058568167,\n",
              "  -0.0011726628058568167,\n",
              "  -0.0011726628058568167,\n",
              "  -0.0011726628058568167,\n",
              "  -0.0011726628058568167,\n",
              "  -0.0011726628058568167,\n",
              "  -0.0011726628058568167,\n",
              "  -0.0011726628058568167,\n",
              "  -0.0011726628058568167,\n",
              "  -0.0011726628058568167,\n",
              "  -0.0011726628058568167,\n",
              "  -0.0011726628058568167,\n",
              "  -0.0011726628058568167,\n",
              "  -0.0011726628058568167,\n",
              "  -0.0011726628058568167,\n",
              "  -0.0011726628058568167,\n",
              "  -0.0011726628058568167,\n",
              "  -0.0011726628058568167,\n",
              "  -0.0011726628058568167,\n",
              "  -0.0011726628058568167,\n",
              "  -0.0011726628058568167,\n",
              "  -0.0011726628058568167,\n",
              "  -0.0011726628058568167,\n",
              "  -0.0011726628058568167,\n",
              "  -0.0011726628058568167,\n",
              "  -0.0011726628058568167,\n",
              "  -0.0011726628058568167,\n",
              "  -0.0011726628058568167,\n",
              "  -0.0011726628058568167,\n",
              "  -0.0011726628058568167,\n",
              "  -0.0011726628058568167,\n",
              "  -0.0011726628058568167,\n",
              "  -0.0011726628058568167,\n",
              "  -0.0011726628058568167,\n",
              "  -0.0011726628058568167,\n",
              "  -0.0011726628058568167,\n",
              "  -0.0011726628058568167,\n",
              "  -0.0011726628058568167,\n",
              "  -0.0011726628058568167,\n",
              "  -0.0011726628058568167,\n",
              "  -0.0011726628058568167,\n",
              "  -0.0011726628058568167,\n",
              "  -0.0011726628058568167,\n",
              "  -0.0011726628058568167,\n",
              "  -0.0011726628058568167,\n",
              "  -0.0011726628058568167,\n",
              "  -0.0011726628058568167,\n",
              "  -0.0011726628058568167,\n",
              "  -0.0011726628058568167,\n",
              "  -0.0011726628058568167,\n",
              "  -0.0011726628058568167,\n",
              "  -0.0011726628058568167,\n",
              "  -0.0011726628058568167,\n",
              "  -0.0011726628058568167,\n",
              "  -0.0011726628058568167,\n",
              "  -0.0011726628058568167,\n",
              "  -0.0011726628058568167,\n",
              "  -0.0011726628058568167,\n",
              "  -0.0011726628058568167,\n",
              "  -0.0011726628058568167,\n",
              "  -0.0011726628058568167,\n",
              "  -0.0011726628058568167,\n",
              "  -0.0011726628058568167,\n",
              "  -0.0011726628058568167,\n",
              "  -0.0011726628058568167,\n",
              "  -0.0011726628058568167,\n",
              "  -0.0011726628058568167,\n",
              "  -0.0011726628058568167,\n",
              "  -0.0011726628058568167,\n",
              "  -0.0011726628058568167,\n",
              "  -0.0011726628058568167,\n",
              "  -0.0011726628058568167,\n",
              "  -0.0011726628058568167,\n",
              "  -0.0011726628058568167,\n",
              "  -0.0011726628058568167,\n",
              "  -0.0011726628058568167,\n",
              "  -0.0011726628058568167,\n",
              "  -0.0011726628058568167,\n",
              "  -0.0011726628058568167,\n",
              "  -0.0011726628058568167,\n",
              "  -0.0011726628058568167,\n",
              "  -0.0011726628058568167,\n",
              "  -0.0011726628058568167,\n",
              "  -0.0011726628058568167,\n",
              "  -0.0011726628058568167,\n",
              "  -0.0011726628058568167,\n",
              "  -0.0011726628058568167,\n",
              "  -0.0011726628058568167],\n",
              " 67: [0.0011617915843089577,\n",
              "  0.0011617915843089577,\n",
              "  0.0011617915843089577,\n",
              "  0.0011617915843089577,\n",
              "  0.0011617915843089577,\n",
              "  0.0011617915843089577,\n",
              "  0.0011617915843089577,\n",
              "  0.0011617915843089577,\n",
              "  0.0011617915843089577,\n",
              "  0.0011617915843089577,\n",
              "  0.0011617915843089577,\n",
              "  0.0011617915843089577,\n",
              "  0.0011617915843089577,\n",
              "  0.0011617915843089577,\n",
              "  0.0011617915843089577,\n",
              "  0.0011617915843089577,\n",
              "  0.0011617915843089577,\n",
              "  0.0011617915843089577,\n",
              "  0.0011617915843089577,\n",
              "  0.0011617915843089577,\n",
              "  0.0011617915843089577,\n",
              "  0.0011617915843089577,\n",
              "  0.0011617915843089577,\n",
              "  0.0011617915843089577,\n",
              "  0.0011617915843089577,\n",
              "  0.0011617915843089577,\n",
              "  0.0011617915843089577,\n",
              "  0.0011617915843089577,\n",
              "  0.0011617915843089577,\n",
              "  0.0011617915843089577,\n",
              "  0.0011617915843089577,\n",
              "  0.0011617915843089577,\n",
              "  0.0011617915843089577,\n",
              "  0.0011617915843089577,\n",
              "  0.0011617915843089577,\n",
              "  0.0011617915843089577,\n",
              "  0.0011617915843089577,\n",
              "  0.0011617915843089577,\n",
              "  0.0011617915843089577,\n",
              "  0.0011617915843089577,\n",
              "  0.0011617915843089577,\n",
              "  0.0011617915843089577,\n",
              "  0.0011617915843089577,\n",
              "  0.0011617915843089577,\n",
              "  0.0011617915843089577,\n",
              "  0.0011617915843089577,\n",
              "  0.0011617915843089577,\n",
              "  0.0011617915843089577,\n",
              "  0.0011617915843089577,\n",
              "  0.0011617915843089577,\n",
              "  0.0011617915843089577,\n",
              "  0.0011617915843089577,\n",
              "  0.0011617915843089577,\n",
              "  0.0011617915843089577,\n",
              "  0.0011617915843089577,\n",
              "  0.0011617915843089577,\n",
              "  0.0011617915843089577,\n",
              "  0.0011617915843089577,\n",
              "  0.0011617915843089577,\n",
              "  0.0011617915843089577,\n",
              "  0.0011617915843089577,\n",
              "  0.0011617915843089577,\n",
              "  0.0011617915843089577,\n",
              "  0.0011617915843089577,\n",
              "  0.0011617915843089577,\n",
              "  0.0011617915843089577,\n",
              "  0.0011617915843089577,\n",
              "  0.0011617915843089577,\n",
              "  0.0011617915843089577,\n",
              "  0.0011617915843089577,\n",
              "  0.0011617915843089577,\n",
              "  0.0011617915843089577,\n",
              "  0.0011617915843089577,\n",
              "  0.0011617915843089577,\n",
              "  0.0011617915843089577,\n",
              "  0.0011617915843089577,\n",
              "  0.0011617915843089577,\n",
              "  0.0011617915843089577,\n",
              "  0.0011617915843089577,\n",
              "  0.0011617915843089577,\n",
              "  0.0011617915843089577,\n",
              "  0.0011617915843089577,\n",
              "  0.0011617915843089577,\n",
              "  0.0011617915843089577,\n",
              "  0.0011617915843089577,\n",
              "  0.0011617915843089577,\n",
              "  0.0011617915843089577,\n",
              "  0.0011617915843089577,\n",
              "  0.0011617915843089577,\n",
              "  0.0011617915843089577,\n",
              "  0.0011617915843089577,\n",
              "  0.0011617915843089577,\n",
              "  0.0011617915843089577,\n",
              "  0.0011617915843089577,\n",
              "  0.0011617915843089577,\n",
              "  0.0011617915843089577,\n",
              "  0.0011617915843089577,\n",
              "  0.0011617915843089577,\n",
              "  0.0011617915843089577,\n",
              "  0.0011617915843089577,\n",
              "  0.0011617915843089577,\n",
              "  0.0011617915843089577,\n",
              "  0.0011617915843089577,\n",
              "  0.0011617915843089577,\n",
              "  0.0011617915843089577,\n",
              "  0.0011617915843089577,\n",
              "  0.0011617915843089577,\n",
              "  0.0011617915843089577,\n",
              "  0.0011617915843089577,\n",
              "  0.0011617915843089577,\n",
              "  0.0011617915843089577,\n",
              "  0.0011617915843089577,\n",
              "  0.0011617915843089577,\n",
              "  0.0011617915843089577,\n",
              "  0.0011617915843089577,\n",
              "  0.0011617915843089577,\n",
              "  0.0011617915843089577,\n",
              "  0.0011617915843089577,\n",
              "  0.0011617915843089577,\n",
              "  0.0011617915843089577,\n",
              "  0.0011617915843089577,\n",
              "  0.0011617915843089577,\n",
              "  0.0011617915843089577,\n",
              "  0.0011617915843089577,\n",
              "  0.0011617915843089577,\n",
              "  0.0011617915843089577,\n",
              "  0.0011617915843089577,\n",
              "  0.0011617915843089577],\n",
              " 1: [-0.0022658109255644376,\n",
              "  -0.0022658109255644376,\n",
              "  -0.0022658109255644376,\n",
              "  -0.0022658109255644376,\n",
              "  -0.0022658109255644376,\n",
              "  -0.0022658109255644376,\n",
              "  -0.0022658109255644376,\n",
              "  -0.0022658109255644376,\n",
              "  -0.0022658109255644376,\n",
              "  -0.0022658109255644376,\n",
              "  -0.0022658109255644376,\n",
              "  -0.0022658109255644376,\n",
              "  -0.0022658109255644376,\n",
              "  -0.0022658109255644376,\n",
              "  -0.0022658109255644376,\n",
              "  -0.0022658109255644376,\n",
              "  -0.0022658109255644376,\n",
              "  -0.0022658109255644376,\n",
              "  -0.0022658109255644376,\n",
              "  -0.0022658109255644376,\n",
              "  -0.0022658109255644376,\n",
              "  -0.0022658109255644376,\n",
              "  -0.0022658109255644376,\n",
              "  -0.0022658109255644376,\n",
              "  -0.0022658109255644376,\n",
              "  -0.0022658109255644376,\n",
              "  -0.0022658109255644376,\n",
              "  -0.0022658109255644376,\n",
              "  -0.0022658109255644376,\n",
              "  -0.0022658109255644376,\n",
              "  -0.0022658109255644376,\n",
              "  -0.0022658109255644376,\n",
              "  -0.0022658109255644376,\n",
              "  -0.0022658109255644376,\n",
              "  -0.0022658109255644376,\n",
              "  -0.0022658109255644376,\n",
              "  -0.0022658109255644376,\n",
              "  -0.0022658109255644376,\n",
              "  -0.0022658109255644376,\n",
              "  -0.0022658109255644376,\n",
              "  -0.0022658109255644376,\n",
              "  -0.0022658109255644376,\n",
              "  -0.0022658109255644376,\n",
              "  -0.0022658109255644376,\n",
              "  -0.0022658109255644376,\n",
              "  -0.0022658109255644376,\n",
              "  -0.0022658109255644376,\n",
              "  -0.0022658109255644376,\n",
              "  -0.0022658109255644376,\n",
              "  -0.0022658109255644376,\n",
              "  -0.0022658109255644376,\n",
              "  -0.0022658109255644376,\n",
              "  -0.0022658109255644376,\n",
              "  -0.0022658109255644376,\n",
              "  -0.0022658109255644376,\n",
              "  -0.0022658109255644376,\n",
              "  -0.0022658109255644376,\n",
              "  -0.0022658109255644376,\n",
              "  -0.0022658109255644376,\n",
              "  -0.0022658109255644376,\n",
              "  -0.0022658109255644376,\n",
              "  -0.0022658109255644376,\n",
              "  -0.0022658109255644376,\n",
              "  -0.0022658109255644376,\n",
              "  -0.0022658109255644376,\n",
              "  -0.0022658109255644376,\n",
              "  -0.0022658109255644376,\n",
              "  -0.0022658109255644376,\n",
              "  -0.0022658109255644376,\n",
              "  -0.0022658109255644376,\n",
              "  -0.0022658109255644376,\n",
              "  -0.0022658109255644376,\n",
              "  -0.0022658109255644376,\n",
              "  -0.0022658109255644376,\n",
              "  -0.0022658109255644376,\n",
              "  -0.0022658109255644376,\n",
              "  -0.0022658109255644376,\n",
              "  -0.0022658109255644376,\n",
              "  -0.0022658109255644376,\n",
              "  -0.0022658109255644376,\n",
              "  -0.0022658109255644376,\n",
              "  -0.0022658109255644376,\n",
              "  -0.0022658109255644376,\n",
              "  -0.0022658109255644376,\n",
              "  -0.0022658109255644376,\n",
              "  -0.0022658109255644376,\n",
              "  -0.0022658109255644376,\n",
              "  -0.0022658109255644376,\n",
              "  -0.0022658109255644376,\n",
              "  -0.0022658109255644376,\n",
              "  -0.0022658109255644376,\n",
              "  -0.0022658109255644376,\n",
              "  -0.0022658109255644376,\n",
              "  -0.0022658109255644376,\n",
              "  -0.0022658109255644376,\n",
              "  -0.0022658109255644376,\n",
              "  -0.0022658109255644376,\n",
              "  -0.0022658109255644376,\n",
              "  -0.0022658109255644376,\n",
              "  -0.0022658109255644376,\n",
              "  -0.0022658109255644376,\n",
              "  -0.0022658109255644376,\n",
              "  -0.0022658109255644376,\n",
              "  -0.0022658109255644376,\n",
              "  -0.0022658109255644376,\n",
              "  -0.0022658109255644376,\n",
              "  -0.0022658109255644376,\n",
              "  -0.0022658109255644376,\n",
              "  -0.0022658109255644376,\n",
              "  -0.0022658109255644376,\n",
              "  -0.0022658109255644376,\n",
              "  -0.0022658109255644376,\n",
              "  -0.0022658109255644376,\n",
              "  -0.0022658109255644376,\n",
              "  -0.0022658109255644376,\n",
              "  -0.0022658109255644376,\n",
              "  -0.0022658109255644376,\n",
              "  -0.0022658109255644376,\n",
              "  -0.0022658109255644376,\n",
              "  -0.0022658109255644376,\n",
              "  -0.0022658109255644376,\n",
              "  -0.0022658109255644376,\n",
              "  -0.0022658109255644376,\n",
              "  -0.0022658109255644376,\n",
              "  -0.0022658109255644376,\n",
              "  -0.0022658109255644376,\n",
              "  -0.0022658109255644376,\n",
              "  -0.0022658109255644376],\n",
              " 61: [-0.0077307270948949736,\n",
              "  -0.0077307270948949736,\n",
              "  -0.0077307270948949736,\n",
              "  -0.0077307270948949736,\n",
              "  -0.0077307270948949736,\n",
              "  -0.0077307270948949736,\n",
              "  -0.0077307270948949736,\n",
              "  -0.0077307270948949736,\n",
              "  -0.0077307270948949736,\n",
              "  -0.0077307270948949736,\n",
              "  -0.0077307270948949736,\n",
              "  -0.0077307270948949736,\n",
              "  -0.0077307270948949736,\n",
              "  -0.0077307270948949736,\n",
              "  -0.0077307270948949736,\n",
              "  -0.0077307270948949736,\n",
              "  -0.0077307270948949736,\n",
              "  -0.0077307270948949736,\n",
              "  -0.0077307270948949736,\n",
              "  -0.0077307270948949736,\n",
              "  -0.0077307270948949736,\n",
              "  -0.0077307270948949736,\n",
              "  -0.0077307270948949736,\n",
              "  -0.0077307270948949736,\n",
              "  -0.0077307270948949736,\n",
              "  -0.0077307270948949736,\n",
              "  -0.0077307270948949736,\n",
              "  -0.0077307270948949736,\n",
              "  -0.0077307270948949736,\n",
              "  -0.0077307270948949736,\n",
              "  -0.0077307270948949736,\n",
              "  -0.0077307270948949736,\n",
              "  -0.0077307270948949736,\n",
              "  -0.0077307270948949736,\n",
              "  -0.0077307270948949736,\n",
              "  -0.0077307270948949736,\n",
              "  -0.0077307270948949736,\n",
              "  -0.0077307270948949736,\n",
              "  -0.0077307270948949736,\n",
              "  -0.0077307270948949736,\n",
              "  -0.0077307270948949736,\n",
              "  -0.0077307270948949736,\n",
              "  -0.0077307270948949736,\n",
              "  -0.0077307270948949736,\n",
              "  -0.0077307270948949736,\n",
              "  -0.0077307270948949736,\n",
              "  -0.0077307270948949736,\n",
              "  -0.0077307270948949736,\n",
              "  -0.0077307270948949736,\n",
              "  -0.0077307270948949736,\n",
              "  -0.0077307270948949736,\n",
              "  -0.0077307270948949736,\n",
              "  -0.0077307270948949736,\n",
              "  -0.0077307270948949736,\n",
              "  -0.0077307270948949736,\n",
              "  -0.0077307270948949736,\n",
              "  -0.0077307270948949736,\n",
              "  -0.0077307270948949736,\n",
              "  -0.0077307270948949736,\n",
              "  -0.0077307270948949736,\n",
              "  -0.0077307270948949736,\n",
              "  -0.0077307270948949736,\n",
              "  -0.0077307270948949736,\n",
              "  -0.0077307270948949736,\n",
              "  -0.0077307270948949736,\n",
              "  -0.0077307270948949736,\n",
              "  -0.0077307270948949736,\n",
              "  -0.0077307270948949736,\n",
              "  -0.0077307270948949736,\n",
              "  -0.0077307270948949736,\n",
              "  -0.0077307270948949736,\n",
              "  -0.0077307270948949736,\n",
              "  -0.0077307270948949736,\n",
              "  -0.0077307270948949736,\n",
              "  -0.0077307270948949736,\n",
              "  -0.0077307270948949736,\n",
              "  -0.0077307270948949736,\n",
              "  -0.0077307270948949736,\n",
              "  -0.0077307270948949736,\n",
              "  -0.0077307270948949736,\n",
              "  -0.0077307270948949736,\n",
              "  -0.0077307270948949736,\n",
              "  -0.0077307270948949736,\n",
              "  -0.0077307270948949736,\n",
              "  -0.0077307270948949736,\n",
              "  -0.0077307270948949736,\n",
              "  -0.0077307270948949736,\n",
              "  -0.0077307270948949736,\n",
              "  -0.0077307270948949736,\n",
              "  -0.0077307270948949736,\n",
              "  -0.0077307270948949736,\n",
              "  -0.0077307270948949736,\n",
              "  -0.0077307270948949736,\n",
              "  -0.0077307270948949736,\n",
              "  -0.0077307270948949736,\n",
              "  -0.0077307270948949736,\n",
              "  -0.0077307270948949736,\n",
              "  -0.0077307270948949736,\n",
              "  -0.0077307270948949736,\n",
              "  -0.0077307270948949736,\n",
              "  -0.0077307270948949736,\n",
              "  -0.0077307270948949736,\n",
              "  -0.0077307270948949736,\n",
              "  -0.0077307270948949736,\n",
              "  -0.0077307270948949736,\n",
              "  -0.0077307270948949736,\n",
              "  -0.0077307270948949736,\n",
              "  -0.0077307270948949736,\n",
              "  -0.0077307270948949736,\n",
              "  -0.0077307270948949736,\n",
              "  -0.0077307270948949736,\n",
              "  -0.0077307270948949736,\n",
              "  -0.0077307270948949736,\n",
              "  -0.0077307270948949736,\n",
              "  -0.0077307270948949736,\n",
              "  -0.0077307270948949736,\n",
              "  -0.0077307270948949736,\n",
              "  -0.0077307270948949736,\n",
              "  -0.0077307270948949736,\n",
              "  -0.0077307270948949736,\n",
              "  -0.0077307270948949736,\n",
              "  -0.0077307270948949736,\n",
              "  -0.0077307270948949736,\n",
              "  -0.0077307270948949736,\n",
              "  -0.0077307270948949736,\n",
              "  -0.0077307270948949736,\n",
              "  -0.0077307270948949736,\n",
              "  -0.0077307270948949736],\n",
              " 54: [-0.005418993974672048,\n",
              "  -0.005418993974672048,\n",
              "  -0.005418993974672048,\n",
              "  -0.005418993974672048,\n",
              "  -0.005418993974672048,\n",
              "  -0.005418993974672048,\n",
              "  -0.005418993974672048,\n",
              "  -0.005418993974672048,\n",
              "  -0.005418993974672048,\n",
              "  -0.005418993974672048,\n",
              "  -0.005418993974672048,\n",
              "  -0.005418993974672048,\n",
              "  -0.005418993974672048,\n",
              "  -0.005418993974672048,\n",
              "  -0.005418993974672048,\n",
              "  -0.005418993974672048,\n",
              "  -0.005418993974672048,\n",
              "  -0.005418993974672048,\n",
              "  -0.005418993974672048,\n",
              "  -0.005418993974672048,\n",
              "  -0.005418993974672048,\n",
              "  -0.005418993974672048,\n",
              "  -0.005418993974672048,\n",
              "  -0.005418993974672048,\n",
              "  -0.005418993974672048,\n",
              "  -0.005418993974672048,\n",
              "  -0.005418993974672048,\n",
              "  -0.005418993974672048,\n",
              "  -0.005418993974672048,\n",
              "  -0.005418993974672048,\n",
              "  -0.005418993974672048,\n",
              "  -0.005418993974672048,\n",
              "  -0.005418993974672048,\n",
              "  -0.005418993974672048,\n",
              "  -0.005418993974672048,\n",
              "  -0.005418993974672048,\n",
              "  -0.005418993974672048,\n",
              "  -0.005418993974672048,\n",
              "  -0.005418993974672048,\n",
              "  -0.005418993974672048,\n",
              "  -0.005418993974672048,\n",
              "  -0.005418993974672048,\n",
              "  -0.005418993974672048,\n",
              "  -0.005418993974672048,\n",
              "  -0.005418993974672048,\n",
              "  -0.005418993974672048,\n",
              "  -0.005418993974672048,\n",
              "  -0.005418993974672048,\n",
              "  -0.005418993974672048,\n",
              "  -0.005418993974672048,\n",
              "  -0.005418993974672048,\n",
              "  -0.005418993974672048,\n",
              "  -0.005418993974672048,\n",
              "  -0.005418993974672048,\n",
              "  -0.005418993974672048,\n",
              "  -0.005418993974672048,\n",
              "  -0.005418993974672048,\n",
              "  -0.005418993974672048,\n",
              "  -0.005418993974672048,\n",
              "  -0.005418993974672048,\n",
              "  -0.005418993974672048,\n",
              "  -0.005418993974672048,\n",
              "  -0.005418993974672048,\n",
              "  -0.005418993974672048,\n",
              "  -0.005418993974672048,\n",
              "  -0.005418993974672048,\n",
              "  -0.005418993974672048,\n",
              "  -0.005418993974672048,\n",
              "  -0.005418993974672048,\n",
              "  -0.005418993974672048,\n",
              "  -0.005418993974672048,\n",
              "  -0.005418993974672048,\n",
              "  -0.005418993974672048,\n",
              "  -0.005418993974672048,\n",
              "  -0.005418993974672048,\n",
              "  -0.005418993974672048,\n",
              "  -0.005418993974672048,\n",
              "  -0.005418993974672048,\n",
              "  -0.005418993974672048,\n",
              "  -0.005418993974672048,\n",
              "  -0.005418993974672048,\n",
              "  -0.005418993974672048,\n",
              "  -0.005418993974672048,\n",
              "  -0.005418993974672048,\n",
              "  -0.005418993974672048,\n",
              "  -0.005418993974672048,\n",
              "  -0.005418993974672048,\n",
              "  -0.005418993974672048,\n",
              "  -0.005418993974672048,\n",
              "  -0.005418993974672048,\n",
              "  -0.005418993974672048,\n",
              "  -0.005418993974672048,\n",
              "  -0.005418993974672048,\n",
              "  -0.005418993974672048,\n",
              "  -0.005418993974672048,\n",
              "  -0.005418993974672048,\n",
              "  -0.005418993974672048,\n",
              "  -0.005418993974672048,\n",
              "  -0.005418993974672048,\n",
              "  -0.005418993974672048,\n",
              "  -0.005418993974672048,\n",
              "  -0.005418993974672048,\n",
              "  -0.005418993974672048,\n",
              "  -0.005418993974672048,\n",
              "  -0.005418993974672048,\n",
              "  -0.005418993974672048,\n",
              "  -0.005418993974672048,\n",
              "  -0.005418993974672048,\n",
              "  -0.005418993974672048,\n",
              "  -0.005418993974672048,\n",
              "  -0.005418993974672048,\n",
              "  -0.005418993974672048,\n",
              "  -0.005418993974672048,\n",
              "  -0.005418993974672048,\n",
              "  -0.005418993974672048,\n",
              "  -0.005418993974672048,\n",
              "  -0.005418993974672048,\n",
              "  -0.005418993974672048,\n",
              "  -0.005418993974672048,\n",
              "  -0.005418993974672048,\n",
              "  -0.005418993974672048,\n",
              "  -0.005418993974672048,\n",
              "  -0.005418993974672048,\n",
              "  -0.005418993974672048,\n",
              "  -0.005418993974672048,\n",
              "  -0.005418993974672048,\n",
              "  -0.005418993974672048,\n",
              "  -0.005418993974672048],\n",
              " 39: [-0.0007424353325404809,\n",
              "  -0.0007424353325404809,\n",
              "  -0.0007424353325404809,\n",
              "  -0.0007424353325404809,\n",
              "  -0.0007424353325404809,\n",
              "  -0.0007424353325404809,\n",
              "  -0.0007424353325404809,\n",
              "  -0.0007424353325404809,\n",
              "  -0.0007424353325404809,\n",
              "  -0.0007424353325404809,\n",
              "  -0.0007424353325404809,\n",
              "  -0.0007424353325404809,\n",
              "  -0.0007424353325404809,\n",
              "  -0.0007424353325404809,\n",
              "  -0.0007424353325404809,\n",
              "  -0.0007424353325404809,\n",
              "  -0.0007424353325404809,\n",
              "  -0.0007424353325404809,\n",
              "  -0.0007424353325404809,\n",
              "  -0.0007424353325404809,\n",
              "  -0.0007424353325404809,\n",
              "  -0.0007424353325404809,\n",
              "  -0.0007424353325404809,\n",
              "  -0.0007424353325404809,\n",
              "  -0.0007424353325404809,\n",
              "  -0.0007424353325404809,\n",
              "  -0.0007424353325404809,\n",
              "  -0.0007424353325404809,\n",
              "  -0.0007424353325404809,\n",
              "  -0.0007424353325404809,\n",
              "  -0.0007424353325404809,\n",
              "  -0.0007424353325404809,\n",
              "  -0.0007424353325404809,\n",
              "  -0.0007424353325404809,\n",
              "  -0.0007424353325404809,\n",
              "  -0.0007424353325404809,\n",
              "  -0.0007424353325404809,\n",
              "  -0.0007424353325404809,\n",
              "  -0.0007424353325404809,\n",
              "  -0.0007424353325404809,\n",
              "  -0.0007424353325404809,\n",
              "  -0.0007424353325404809,\n",
              "  -0.0007424353325404809,\n",
              "  -0.0007424353325404809,\n",
              "  -0.0007424353325404809,\n",
              "  -0.0007424353325404809,\n",
              "  -0.0007424353325404809,\n",
              "  -0.0007424353325404809,\n",
              "  -0.0007424353325404809,\n",
              "  -0.0007424353325404809,\n",
              "  -0.0007424353325404809,\n",
              "  -0.0007424353325404809,\n",
              "  -0.0007424353325404809,\n",
              "  -0.0007424353325404809,\n",
              "  -0.0007424353325404809,\n",
              "  -0.0007424353325404809,\n",
              "  -0.0007424353325404809,\n",
              "  -0.0007424353325404809,\n",
              "  -0.0007424353325404809,\n",
              "  -0.0007424353325404809,\n",
              "  -0.0007424353325404809,\n",
              "  -0.0007424353325404809,\n",
              "  -0.0007424353325404809,\n",
              "  -0.0007424353325404809,\n",
              "  -0.0007424353325404809,\n",
              "  -0.0007424353325404809,\n",
              "  -0.0007424353325404809,\n",
              "  -0.0007424353325404809,\n",
              "  -0.0007424353325404809,\n",
              "  -0.0007424353325404809,\n",
              "  -0.0007424353325404809,\n",
              "  -0.0007424353325404809,\n",
              "  -0.0007424353325404809,\n",
              "  -0.0007424353325404809,\n",
              "  -0.0007424353325404809,\n",
              "  -0.0007424353325404809,\n",
              "  -0.0007424353325404809,\n",
              "  -0.0007424353325404809,\n",
              "  -0.0007424353325404809,\n",
              "  -0.0007424353325404809,\n",
              "  -0.0007424353325404809,\n",
              "  -0.0007424353325404809,\n",
              "  -0.0007424353325404809,\n",
              "  -0.0007424353325404809,\n",
              "  -0.0007424353325404809,\n",
              "  -0.0007424353325404809,\n",
              "  -0.0007424353325404809,\n",
              "  -0.0007424353325404809,\n",
              "  -0.0007424353325404809,\n",
              "  -0.0007424353325404809,\n",
              "  -0.0007424353325404809,\n",
              "  -0.0007424353325404809,\n",
              "  -0.0007424353325404809,\n",
              "  -0.0007424353325404809,\n",
              "  -0.0007424353325404809,\n",
              "  -0.0007424353325404809,\n",
              "  -0.0007424353325404809,\n",
              "  -0.0007424353325404809,\n",
              "  -0.0007424353325404809,\n",
              "  -0.0007424353325404809,\n",
              "  -0.0007424353325404809,\n",
              "  -0.0007424353325404809,\n",
              "  -0.0007424353325404809,\n",
              "  -0.0007424353325404809,\n",
              "  -0.0007424353325404809,\n",
              "  -0.0007424353325404809,\n",
              "  -0.0007424353325404809,\n",
              "  -0.0007424353325404809,\n",
              "  -0.0007424353325404809,\n",
              "  -0.0007424353325404809,\n",
              "  -0.0007424353325404809,\n",
              "  -0.0007424353325404809,\n",
              "  -0.0007424353325404809,\n",
              "  -0.0007424353325404809,\n",
              "  -0.0007424353325404809,\n",
              "  -0.0007424353325404809,\n",
              "  -0.0007424353325404809,\n",
              "  -0.0007424353325404809,\n",
              "  -0.0007424353325404809,\n",
              "  -0.0007424353325404809,\n",
              "  -0.0007424353325404809,\n",
              "  -0.0007424353325404809,\n",
              "  -0.0007424353325404809,\n",
              "  -0.0007424353325404809,\n",
              "  -0.0007424353325404809,\n",
              "  -0.0007424353325404809,\n",
              "  -0.0007424353325404809,\n",
              "  -0.0007424353325404809],\n",
              " 7: [0.0005414539646153571,\n",
              "  0.0005414539646153571,\n",
              "  0.0005414539646153571,\n",
              "  0.0005414539646153571,\n",
              "  0.0005414539646153571,\n",
              "  0.0005414539646153571,\n",
              "  0.0005414539646153571,\n",
              "  0.0005414539646153571,\n",
              "  0.0005414539646153571,\n",
              "  0.0005414539646153571,\n",
              "  0.0005414539646153571,\n",
              "  0.0005414539646153571,\n",
              "  0.0005414539646153571,\n",
              "  0.0005414539646153571,\n",
              "  0.0005414539646153571,\n",
              "  0.0005414539646153571,\n",
              "  0.0005414539646153571,\n",
              "  0.0005414539646153571,\n",
              "  0.0005414539646153571,\n",
              "  0.0005414539646153571,\n",
              "  0.0005414539646153571,\n",
              "  0.0005414539646153571,\n",
              "  0.0005414539646153571,\n",
              "  0.0005414539646153571,\n",
              "  0.0005414539646153571,\n",
              "  0.0005414539646153571,\n",
              "  0.0005414539646153571,\n",
              "  0.0005414539646153571,\n",
              "  0.0005414539646153571,\n",
              "  0.0005414539646153571,\n",
              "  0.0005414539646153571,\n",
              "  0.0005414539646153571,\n",
              "  0.0005414539646153571,\n",
              "  0.0005414539646153571,\n",
              "  0.0005414539646153571,\n",
              "  0.0005414539646153571,\n",
              "  0.0005414539646153571,\n",
              "  0.0005414539646153571,\n",
              "  0.0005414539646153571,\n",
              "  0.0005414539646153571,\n",
              "  0.0005414539646153571,\n",
              "  0.0005414539646153571,\n",
              "  0.0005414539646153571,\n",
              "  0.0005414539646153571,\n",
              "  0.0005414539646153571,\n",
              "  0.0005414539646153571,\n",
              "  0.0005414539646153571,\n",
              "  0.0005414539646153571,\n",
              "  0.0005414539646153571,\n",
              "  0.0005414539646153571,\n",
              "  0.0005414539646153571,\n",
              "  0.0005414539646153571,\n",
              "  0.0005414539646153571,\n",
              "  0.0005414539646153571,\n",
              "  0.0005414539646153571,\n",
              "  0.0005414539646153571,\n",
              "  0.0005414539646153571,\n",
              "  0.0005414539646153571,\n",
              "  0.0005414539646153571,\n",
              "  0.0005414539646153571,\n",
              "  0.0005414539646153571,\n",
              "  0.0005414539646153571,\n",
              "  0.0005414539646153571,\n",
              "  0.0005414539646153571,\n",
              "  0.0005414539646153571,\n",
              "  0.0005414539646153571,\n",
              "  0.0005414539646153571,\n",
              "  0.0005414539646153571,\n",
              "  0.0005414539646153571,\n",
              "  0.0005414539646153571,\n",
              "  0.0005414539646153571,\n",
              "  0.0005414539646153571,\n",
              "  0.0005414539646153571,\n",
              "  0.0005414539646153571,\n",
              "  0.0005414539646153571,\n",
              "  0.0005414539646153571,\n",
              "  0.0005414539646153571,\n",
              "  0.0005414539646153571,\n",
              "  0.0005414539646153571,\n",
              "  0.0005414539646153571,\n",
              "  0.0005414539646153571,\n",
              "  0.0005414539646153571,\n",
              "  0.0005414539646153571,\n",
              "  0.0005414539646153571,\n",
              "  0.0005414539646153571,\n",
              "  0.0005414539646153571,\n",
              "  0.0005414539646153571,\n",
              "  0.0005414539646153571,\n",
              "  0.0005414539646153571,\n",
              "  0.0005414539646153571,\n",
              "  0.0005414539646153571,\n",
              "  0.0005414539646153571,\n",
              "  0.0005414539646153571,\n",
              "  0.0005414539646153571,\n",
              "  0.0005414539646153571,\n",
              "  0.0005414539646153571,\n",
              "  0.0005414539646153571,\n",
              "  0.0005414539646153571,\n",
              "  0.0005414539646153571,\n",
              "  0.0005414539646153571,\n",
              "  0.0005414539646153571,\n",
              "  0.0005414539646153571,\n",
              "  0.0005414539646153571,\n",
              "  0.0005414539646153571,\n",
              "  0.0005414539646153571,\n",
              "  0.0005414539646153571,\n",
              "  0.0005414539646153571,\n",
              "  0.0005414539646153571,\n",
              "  0.0005414539646153571,\n",
              "  0.0005414539646153571,\n",
              "  0.0005414539646153571,\n",
              "  0.0005414539646153571,\n",
              "  0.0005414539646153571,\n",
              "  0.0005414539646153571,\n",
              "  0.0005414539646153571,\n",
              "  0.0005414539646153571,\n",
              "  0.0005414539646153571,\n",
              "  0.0005414539646153571,\n",
              "  0.0005414539646153571,\n",
              "  0.0005414539646153571,\n",
              "  0.0005414539646153571,\n",
              "  0.0005414539646153571,\n",
              "  0.0005414539646153571,\n",
              "  0.0005414539646153571,\n",
              "  0.0005414539646153571,\n",
              "  0.0005414539646153571,\n",
              "  0.0005414539646153571,\n",
              "  0.0005414539646153571],\n",
              " 12: [0.0032606456779831205,\n",
              "  0.0032606456779831205,\n",
              "  0.0032606456779831205,\n",
              "  0.0032606456779831205,\n",
              "  0.0032606456779831205,\n",
              "  0.0032606456779831205,\n",
              "  0.0032606456779831205,\n",
              "  0.0032606456779831205,\n",
              "  0.0032606456779831205,\n",
              "  0.0032606456779831205,\n",
              "  0.0032606456779831205,\n",
              "  0.0032606456779831205,\n",
              "  0.0032606456779831205,\n",
              "  0.0032606456779831205,\n",
              "  0.0032606456779831205,\n",
              "  0.0032606456779831205,\n",
              "  0.0032606456779831205,\n",
              "  0.0032606456779831205,\n",
              "  0.0032606456779831205,\n",
              "  0.0032606456779831205,\n",
              "  0.0032606456779831205,\n",
              "  0.0032606456779831205,\n",
              "  0.0032606456779831205,\n",
              "  0.0032606456779831205,\n",
              "  0.0032606456779831205,\n",
              "  0.0032606456779831205,\n",
              "  0.0032606456779831205,\n",
              "  0.0032606456779831205,\n",
              "  0.0032606456779831205,\n",
              "  0.0032606456779831205,\n",
              "  0.0032606456779831205,\n",
              "  0.0032606456779831205,\n",
              "  0.0032606456779831205,\n",
              "  0.0032606456779831205,\n",
              "  0.0032606456779831205,\n",
              "  0.0032606456779831205,\n",
              "  0.0032606456779831205,\n",
              "  0.0032606456779831205,\n",
              "  0.0032606456779831205,\n",
              "  0.0032606456779831205,\n",
              "  0.0032606456779831205,\n",
              "  0.0032606456779831205,\n",
              "  0.0032606456779831205,\n",
              "  0.0032606456779831205,\n",
              "  0.0032606456779831205,\n",
              "  0.0032606456779831205,\n",
              "  0.0032606456779831205,\n",
              "  0.0032606456779831205,\n",
              "  0.0032606456779831205,\n",
              "  0.0032606456779831205,\n",
              "  0.0032606456779831205,\n",
              "  0.0032606456779831205,\n",
              "  0.0032606456779831205,\n",
              "  0.0032606456779831205,\n",
              "  0.0032606456779831205,\n",
              "  0.0032606456779831205,\n",
              "  0.0032606456779831205,\n",
              "  0.0032606456779831205,\n",
              "  0.0032606456779831205,\n",
              "  0.0032606456779831205,\n",
              "  0.0032606456779831205,\n",
              "  0.0032606456779831205,\n",
              "  0.0032606456779831205,\n",
              "  0.0032606456779831205,\n",
              "  0.0032606456779831205,\n",
              "  0.0032606456779831205,\n",
              "  0.0032606456779831205,\n",
              "  0.0032606456779831205,\n",
              "  0.0032606456779831205,\n",
              "  0.0032606456779831205,\n",
              "  0.0032606456779831205,\n",
              "  0.0032606456779831205,\n",
              "  0.0032606456779831205,\n",
              "  0.0032606456779831205,\n",
              "  0.0032606456779831205,\n",
              "  0.0032606456779831205,\n",
              "  0.0032606456779831205,\n",
              "  0.0032606456779831205,\n",
              "  0.0032606456779831205,\n",
              "  0.0032606456779831205,\n",
              "  0.0032606456779831205,\n",
              "  0.0032606456779831205,\n",
              "  0.0032606456779831205,\n",
              "  0.0032606456779831205,\n",
              "  0.0032606456779831205,\n",
              "  0.0032606456779831205,\n",
              "  0.0032606456779831205,\n",
              "  0.0032606456779831205,\n",
              "  0.0032606456779831205,\n",
              "  0.0032606456779831205,\n",
              "  0.0032606456779831205,\n",
              "  0.0032606456779831205,\n",
              "  0.0032606456779831205,\n",
              "  0.0032606456779831205,\n",
              "  0.0032606456779831205,\n",
              "  0.0032606456779831205,\n",
              "  0.0032606456779831205,\n",
              "  0.0032606456779831205,\n",
              "  0.0032606456779831205,\n",
              "  0.0032606456779831205,\n",
              "  0.0032606456779831205,\n",
              "  0.0032606456779831205,\n",
              "  0.0032606456779831205,\n",
              "  0.0032606456779831205,\n",
              "  0.0032606456779831205,\n",
              "  0.0032606456779831205,\n",
              "  0.0032606456779831205,\n",
              "  0.0032606456779831205,\n",
              "  0.0032606456779831205,\n",
              "  0.0032606456779831205,\n",
              "  0.0032606456779831205,\n",
              "  0.0032606456779831205,\n",
              "  0.0032606456779831205,\n",
              "  0.0032606456779831205,\n",
              "  0.0032606456779831205,\n",
              "  0.0032606456779831205,\n",
              "  0.0032606456779831205,\n",
              "  0.0032606456779831205,\n",
              "  0.0032606456779831205,\n",
              "  0.0032606456779831205,\n",
              "  0.0032606456779831205,\n",
              "  0.0032606456779831205,\n",
              "  0.0032606456779831205,\n",
              "  0.0032606456779831205,\n",
              "  0.0032606456779831205,\n",
              "  0.0032606456779831205,\n",
              "  0.0032606456779831205,\n",
              "  0.0032606456779831205],\n",
              " 29: [-0.006608410763874417,\n",
              "  -0.006608410763874417,\n",
              "  -0.006608410763874417,\n",
              "  -0.006608410763874417,\n",
              "  -0.006608410763874417,\n",
              "  -0.006608410763874417,\n",
              "  -0.006608410763874417,\n",
              "  -0.006608410763874417,\n",
              "  -0.006608410763874417,\n",
              "  -0.006608410763874417,\n",
              "  -0.006608410763874417,\n",
              "  -0.006608410763874417,\n",
              "  -0.006608410763874417,\n",
              "  -0.006608410763874417,\n",
              "  -0.006608410763874417,\n",
              "  -0.006608410763874417,\n",
              "  -0.006608410763874417,\n",
              "  -0.006608410763874417,\n",
              "  -0.006608410763874417,\n",
              "  -0.006608410763874417,\n",
              "  -0.006608410763874417,\n",
              "  -0.006608410763874417,\n",
              "  -0.006608410763874417,\n",
              "  -0.006608410763874417,\n",
              "  -0.006608410763874417,\n",
              "  -0.006608410763874417,\n",
              "  -0.006608410763874417,\n",
              "  -0.006608410763874417,\n",
              "  -0.006608410763874417,\n",
              "  -0.006608410763874417,\n",
              "  -0.006608410763874417,\n",
              "  -0.006608410763874417,\n",
              "  -0.006608410763874417,\n",
              "  -0.006608410763874417,\n",
              "  -0.006608410763874417,\n",
              "  -0.006608410763874417,\n",
              "  -0.006608410763874417,\n",
              "  -0.006608410763874417,\n",
              "  -0.006608410763874417,\n",
              "  -0.006608410763874417,\n",
              "  -0.006608410763874417,\n",
              "  -0.006608410763874417,\n",
              "  -0.006608410763874417,\n",
              "  -0.006608410763874417,\n",
              "  -0.006608410763874417,\n",
              "  -0.006608410763874417,\n",
              "  -0.006608410763874417,\n",
              "  -0.006608410763874417,\n",
              "  -0.006608410763874417,\n",
              "  -0.006608410763874417,\n",
              "  -0.006608410763874417,\n",
              "  -0.006608410763874417,\n",
              "  -0.006608410763874417,\n",
              "  -0.006608410763874417,\n",
              "  -0.006608410763874417,\n",
              "  -0.006608410763874417,\n",
              "  -0.006608410763874417,\n",
              "  -0.006608410763874417,\n",
              "  -0.006608410763874417,\n",
              "  -0.006608410763874417,\n",
              "  -0.006608410763874417,\n",
              "  -0.006608410763874417,\n",
              "  -0.006608410763874417,\n",
              "  -0.006608410763874417,\n",
              "  -0.006608410763874417,\n",
              "  -0.006608410763874417,\n",
              "  -0.006608410763874417,\n",
              "  -0.006608410763874417,\n",
              "  -0.006608410763874417,\n",
              "  -0.006608410763874417,\n",
              "  -0.006608410763874417,\n",
              "  -0.006608410763874417,\n",
              "  -0.006608410763874417,\n",
              "  -0.006608410763874417,\n",
              "  -0.006608410763874417,\n",
              "  -0.006608410763874417,\n",
              "  -0.006608410763874417,\n",
              "  -0.006608410763874417,\n",
              "  -0.006608410763874417,\n",
              "  -0.006608410763874417,\n",
              "  -0.006608410763874417,\n",
              "  -0.006608410763874417,\n",
              "  -0.006608410763874417,\n",
              "  -0.006608410763874417,\n",
              "  -0.006608410763874417,\n",
              "  -0.006608410763874417,\n",
              "  -0.006608410763874417,\n",
              "  -0.006608410763874417,\n",
              "  -0.006608410763874417,\n",
              "  -0.006608410763874417,\n",
              "  -0.006608410763874417,\n",
              "  -0.006608410763874417,\n",
              "  -0.006608410763874417,\n",
              "  -0.006608410763874417,\n",
              "  -0.006608410763874417,\n",
              "  -0.006608410763874417,\n",
              "  -0.006608410763874417,\n",
              "  -0.006608410763874417,\n",
              "  -0.006608410763874417,\n",
              "  -0.006608410763874417,\n",
              "  -0.006608410763874417,\n",
              "  -0.006608410763874417,\n",
              "  -0.006608410763874417,\n",
              "  -0.006608410763874417,\n",
              "  -0.006608410763874417,\n",
              "  -0.006608410763874417,\n",
              "  -0.006608410763874417,\n",
              "  -0.006608410763874417,\n",
              "  -0.006608410763874417,\n",
              "  -0.006608410763874417,\n",
              "  -0.006608410763874417,\n",
              "  -0.006608410763874417,\n",
              "  -0.006608410763874417,\n",
              "  -0.006608410763874417,\n",
              "  -0.006608410763874417,\n",
              "  -0.006608410763874417,\n",
              "  -0.006608410763874417,\n",
              "  -0.006608410763874417,\n",
              "  -0.006608410763874417,\n",
              "  -0.006608410763874417,\n",
              "  -0.006608410763874417,\n",
              "  -0.006608410763874417,\n",
              "  -0.006608410763874417,\n",
              "  -0.006608410763874417,\n",
              "  -0.006608410763874417,\n",
              "  -0.006608410763874417,\n",
              "  -0.006608410763874417,\n",
              "  -0.006608410763874417],\n",
              " 11: [-0.0024485556432409794,\n",
              "  -0.0024485556432409794,\n",
              "  -0.0024485556432409794,\n",
              "  -0.0024485556432409794,\n",
              "  -0.0024485556432409794,\n",
              "  -0.0024485556432409794,\n",
              "  -0.0024485556432409794,\n",
              "  -0.0024485556432409794,\n",
              "  -0.0024485556432409794,\n",
              "  -0.0024485556432409794,\n",
              "  -0.0024485556432409794,\n",
              "  -0.0024485556432409794,\n",
              "  -0.0024485556432409794,\n",
              "  -0.0024485556432409794,\n",
              "  -0.0024485556432409794,\n",
              "  -0.0024485556432409794,\n",
              "  -0.0024485556432409794,\n",
              "  -0.0024485556432409794,\n",
              "  -0.0024485556432409794,\n",
              "  -0.0024485556432409794,\n",
              "  -0.0024485556432409794,\n",
              "  -0.0024485556432409794,\n",
              "  -0.0024485556432409794,\n",
              "  -0.0024485556432409794,\n",
              "  -0.0024485556432409794,\n",
              "  -0.0024485556432409794,\n",
              "  -0.0024485556432409794,\n",
              "  -0.0024485556432409794,\n",
              "  -0.0024485556432409794,\n",
              "  -0.0024485556432409794,\n",
              "  -0.0024485556432409794,\n",
              "  -0.0024485556432409794,\n",
              "  -0.0024485556432409794,\n",
              "  -0.0024485556432409794,\n",
              "  -0.0024485556432409794,\n",
              "  -0.0024485556432409794,\n",
              "  -0.0024485556432409794,\n",
              "  -0.0024485556432409794,\n",
              "  -0.0024485556432409794,\n",
              "  -0.0024485556432409794,\n",
              "  -0.0024485556432409794,\n",
              "  -0.0024485556432409794,\n",
              "  -0.0024485556432409794,\n",
              "  -0.0024485556432409794,\n",
              "  -0.0024485556432409794,\n",
              "  -0.0024485556432409794,\n",
              "  -0.0024485556432409794,\n",
              "  -0.0024485556432409794,\n",
              "  -0.0024485556432409794,\n",
              "  -0.0024485556432409794,\n",
              "  -0.0024485556432409794,\n",
              "  -0.0024485556432409794,\n",
              "  -0.0024485556432409794,\n",
              "  -0.0024485556432409794,\n",
              "  -0.0024485556432409794,\n",
              "  -0.0024485556432409794,\n",
              "  -0.0024485556432409794,\n",
              "  -0.0024485556432409794,\n",
              "  -0.0024485556432409794,\n",
              "  -0.0024485556432409794,\n",
              "  -0.0024485556432409794,\n",
              "  -0.0024485556432409794,\n",
              "  -0.0024485556432409794,\n",
              "  -0.0024485556432409794,\n",
              "  -0.0024485556432409794,\n",
              "  -0.0024485556432409794,\n",
              "  -0.0024485556432409794,\n",
              "  -0.0024485556432409794,\n",
              "  -0.0024485556432409794,\n",
              "  -0.0024485556432409794,\n",
              "  -0.0024485556432409794,\n",
              "  -0.0024485556432409794,\n",
              "  -0.0024485556432409794,\n",
              "  -0.0024485556432409794,\n",
              "  -0.0024485556432409794,\n",
              "  -0.0024485556432409794,\n",
              "  -0.0024485556432409794,\n",
              "  -0.0024485556432409794,\n",
              "  -0.0024485556432409794,\n",
              "  -0.0024485556432409794,\n",
              "  -0.0024485556432409794,\n",
              "  -0.0024485556432409794,\n",
              "  -0.0024485556432409794,\n",
              "  -0.0024485556432409794,\n",
              "  -0.0024485556432409794,\n",
              "  -0.0024485556432409794,\n",
              "  -0.0024485556432409794,\n",
              "  -0.0024485556432409794,\n",
              "  -0.0024485556432409794,\n",
              "  -0.0024485556432409794,\n",
              "  -0.0024485556432409794,\n",
              "  -0.0024485556432409794,\n",
              "  -0.0024485556432409794,\n",
              "  -0.0024485556432409794,\n",
              "  -0.0024485556432409794,\n",
              "  -0.0024485556432409794,\n",
              "  -0.0024485556432409794,\n",
              "  -0.0024485556432409794,\n",
              "  -0.0024485556432409794,\n",
              "  -0.0024485556432409794,\n",
              "  -0.0024485556432409794,\n",
              "  -0.0024485556432409794,\n",
              "  -0.0024485556432409794,\n",
              "  -0.0024485556432409794,\n",
              "  -0.0024485556432409794,\n",
              "  -0.0024485556432409794,\n",
              "  -0.0024485556432409794,\n",
              "  -0.0024485556432409794,\n",
              "  -0.0024485556432409794,\n",
              "  -0.0024485556432409794,\n",
              "  -0.0024485556432409794,\n",
              "  -0.0024485556432409794,\n",
              "  -0.0024485556432409794,\n",
              "  -0.0024485556432409794,\n",
              "  -0.0024485556432409794,\n",
              "  -0.0024485556432409794,\n",
              "  -0.0024485556432409794,\n",
              "  -0.0024485556432409794,\n",
              "  -0.0024485556432409794,\n",
              "  -0.0024485556432409794,\n",
              "  -0.0024485556432409794,\n",
              "  -0.0024485556432409794,\n",
              "  -0.0024485556432409794,\n",
              "  -0.0024485556432409794,\n",
              "  -0.0024485556432409794,\n",
              "  -0.0024485556432409794,\n",
              "  -0.0024485556432409794,\n",
              "  -0.0024485556432409794],\n",
              " 43: [-0.003026920723641524,\n",
              "  -0.003026920723641524,\n",
              "  -0.003026920723641524,\n",
              "  -0.003026920723641524,\n",
              "  -0.003026920723641524,\n",
              "  -0.003026920723641524,\n",
              "  -0.003026920723641524,\n",
              "  -0.003026920723641524,\n",
              "  -0.003026920723641524,\n",
              "  -0.003026920723641524,\n",
              "  -0.003026920723641524,\n",
              "  -0.003026920723641524,\n",
              "  -0.003026920723641524,\n",
              "  -0.003026920723641524,\n",
              "  -0.003026920723641524,\n",
              "  -0.003026920723641524,\n",
              "  -0.003026920723641524,\n",
              "  -0.003026920723641524,\n",
              "  -0.003026920723641524,\n",
              "  -0.003026920723641524,\n",
              "  -0.003026920723641524,\n",
              "  -0.003026920723641524,\n",
              "  -0.003026920723641524,\n",
              "  -0.003026920723641524,\n",
              "  -0.003026920723641524,\n",
              "  -0.003026920723641524,\n",
              "  -0.003026920723641524,\n",
              "  -0.003026920723641524,\n",
              "  -0.003026920723641524,\n",
              "  -0.003026920723641524,\n",
              "  -0.003026920723641524,\n",
              "  -0.003026920723641524,\n",
              "  -0.003026920723641524,\n",
              "  -0.003026920723641524,\n",
              "  -0.003026920723641524,\n",
              "  -0.003026920723641524,\n",
              "  -0.003026920723641524,\n",
              "  -0.003026920723641524,\n",
              "  -0.003026920723641524,\n",
              "  -0.003026920723641524,\n",
              "  -0.003026920723641524,\n",
              "  -0.003026920723641524,\n",
              "  -0.003026920723641524,\n",
              "  -0.003026920723641524,\n",
              "  -0.003026920723641524,\n",
              "  -0.003026920723641524,\n",
              "  -0.003026920723641524,\n",
              "  -0.003026920723641524,\n",
              "  -0.003026920723641524,\n",
              "  -0.003026920723641524,\n",
              "  -0.003026920723641524,\n",
              "  -0.003026920723641524,\n",
              "  -0.003026920723641524,\n",
              "  -0.003026920723641524,\n",
              "  -0.003026920723641524,\n",
              "  -0.003026920723641524,\n",
              "  -0.003026920723641524,\n",
              "  -0.003026920723641524,\n",
              "  -0.003026920723641524,\n",
              "  -0.003026920723641524,\n",
              "  -0.003026920723641524,\n",
              "  -0.003026920723641524,\n",
              "  -0.003026920723641524,\n",
              "  -0.003026920723641524,\n",
              "  -0.003026920723641524,\n",
              "  -0.003026920723641524,\n",
              "  -0.003026920723641524,\n",
              "  -0.003026920723641524,\n",
              "  -0.003026920723641524,\n",
              "  -0.003026920723641524,\n",
              "  -0.003026920723641524,\n",
              "  -0.003026920723641524,\n",
              "  -0.003026920723641524,\n",
              "  -0.003026920723641524,\n",
              "  -0.003026920723641524,\n",
              "  -0.003026920723641524,\n",
              "  -0.003026920723641524,\n",
              "  -0.003026920723641524,\n",
              "  -0.003026920723641524,\n",
              "  -0.003026920723641524,\n",
              "  -0.003026920723641524,\n",
              "  -0.003026920723641524,\n",
              "  -0.003026920723641524,\n",
              "  -0.003026920723641524,\n",
              "  -0.003026920723641524,\n",
              "  -0.003026920723641524,\n",
              "  -0.003026920723641524,\n",
              "  -0.003026920723641524,\n",
              "  -0.003026920723641524,\n",
              "  -0.003026920723641524,\n",
              "  -0.003026920723641524,\n",
              "  -0.003026920723641524,\n",
              "  -0.003026920723641524,\n",
              "  -0.003026920723641524,\n",
              "  -0.003026920723641524,\n",
              "  -0.003026920723641524,\n",
              "  -0.003026920723641524,\n",
              "  -0.003026920723641524,\n",
              "  -0.003026920723641524,\n",
              "  -0.003026920723641524,\n",
              "  -0.003026920723641524,\n",
              "  -0.003026920723641524,\n",
              "  -0.003026920723641524,\n",
              "  -0.003026920723641524,\n",
              "  -0.003026920723641524,\n",
              "  -0.003026920723641524,\n",
              "  -0.003026920723641524,\n",
              "  -0.003026920723641524,\n",
              "  -0.003026920723641524,\n",
              "  -0.003026920723641524,\n",
              "  -0.003026920723641524,\n",
              "  -0.003026920723641524,\n",
              "  -0.003026920723641524,\n",
              "  -0.003026920723641524,\n",
              "  -0.003026920723641524,\n",
              "  -0.003026920723641524,\n",
              "  -0.003026920723641524,\n",
              "  -0.003026920723641524,\n",
              "  -0.003026920723641524,\n",
              "  -0.003026920723641524,\n",
              "  -0.003026920723641524,\n",
              "  -0.003026920723641524,\n",
              "  -0.003026920723641524,\n",
              "  -0.003026920723641524,\n",
              "  -0.003026920723641524,\n",
              "  -0.003026920723641524,\n",
              "  -0.003026920723641524,\n",
              "  -0.003026920723641524],\n",
              " 98: [-0.0003465661266091047,\n",
              "  -0.0003465661266091047,\n",
              "  -0.0003465661266091047,\n",
              "  -0.0003465661266091047,\n",
              "  -0.0003465661266091047,\n",
              "  -0.0003465661266091047,\n",
              "  -0.0003465661266091047,\n",
              "  -0.0003465661266091047,\n",
              "  -0.0003465661266091047,\n",
              "  -0.0003465661266091047,\n",
              "  -0.0003465661266091047,\n",
              "  -0.0003465661266091047,\n",
              "  -0.0003465661266091047,\n",
              "  -0.0003465661266091047,\n",
              "  -0.0003465661266091047,\n",
              "  -0.0003465661266091047,\n",
              "  -0.0003465661266091047,\n",
              "  -0.0003465661266091047,\n",
              "  -0.0003465661266091047,\n",
              "  -0.0003465661266091047,\n",
              "  -0.0003465661266091047,\n",
              "  -0.0003465661266091047,\n",
              "  -0.0003465661266091047,\n",
              "  -0.0003465661266091047,\n",
              "  -0.0003465661266091047,\n",
              "  -0.0003465661266091047,\n",
              "  -0.0003465661266091047,\n",
              "  -0.0003465661266091047,\n",
              "  -0.0003465661266091047,\n",
              "  -0.0003465661266091047,\n",
              "  -0.0003465661266091047,\n",
              "  -0.0003465661266091047,\n",
              "  -0.0003465661266091047,\n",
              "  -0.0003465661266091047,\n",
              "  -0.0003465661266091047,\n",
              "  -0.0003465661266091047,\n",
              "  -0.0003465661266091047,\n",
              "  -0.0003465661266091047,\n",
              "  -0.0003465661266091047,\n",
              "  -0.0003465661266091047,\n",
              "  -0.0003465661266091047,\n",
              "  -0.0003465661266091047,\n",
              "  -0.0003465661266091047,\n",
              "  -0.0003465661266091047,\n",
              "  -0.0003465661266091047,\n",
              "  -0.0003465661266091047,\n",
              "  -0.0003465661266091047,\n",
              "  -0.0003465661266091047,\n",
              "  -0.0003465661266091047,\n",
              "  -0.0003465661266091047,\n",
              "  -0.0003465661266091047,\n",
              "  -0.0003465661266091047,\n",
              "  -0.0003465661266091047,\n",
              "  -0.0003465661266091047,\n",
              "  -0.0003465661266091047,\n",
              "  -0.0003465661266091047,\n",
              "  -0.0003465661266091047,\n",
              "  -0.0003465661266091047,\n",
              "  -0.0003465661266091047,\n",
              "  -0.0003465661266091047,\n",
              "  -0.0003465661266091047,\n",
              "  -0.0003465661266091047,\n",
              "  -0.0003465661266091047,\n",
              "  -0.0003465661266091047,\n",
              "  -0.0003465661266091047,\n",
              "  -0.0003465661266091047,\n",
              "  -0.0003465661266091047,\n",
              "  -0.0003465661266091047,\n",
              "  -0.0003465661266091047,\n",
              "  -0.0003465661266091047,\n",
              "  -0.0003465661266091047,\n",
              "  -0.0003465661266091047,\n",
              "  -0.0003465661266091047,\n",
              "  -0.0003465661266091047,\n",
              "  -0.0003465661266091047,\n",
              "  -0.0003465661266091047,\n",
              "  -0.0003465661266091047,\n",
              "  -0.0003465661266091047,\n",
              "  -0.0003465661266091047,\n",
              "  -0.0003465661266091047,\n",
              "  -0.0003465661266091047,\n",
              "  -0.0003465661266091047,\n",
              "  -0.0003465661266091047,\n",
              "  -0.0003465661266091047,\n",
              "  -0.0003465661266091047,\n",
              "  -0.0003465661266091047,\n",
              "  -0.0003465661266091047,\n",
              "  -0.0003465661266091047,\n",
              "  -0.0003465661266091047,\n",
              "  -0.0003465661266091047,\n",
              "  -0.0003465661266091047,\n",
              "  -0.0003465661266091047,\n",
              "  -0.0003465661266091047,\n",
              "  -0.0003465661266091047,\n",
              "  -0.0003465661266091047,\n",
              "  -0.0003465661266091047,\n",
              "  -0.0003465661266091047,\n",
              "  -0.0003465661266091047,\n",
              "  -0.0003465661266091047,\n",
              "  -0.0003465661266091047,\n",
              "  -0.0003465661266091047,\n",
              "  -0.0003465661266091047,\n",
              "  -0.0003465661266091047,\n",
              "  -0.0003465661266091047,\n",
              "  -0.0003465661266091047,\n",
              "  -0.0003465661266091047,\n",
              "  -0.0003465661266091047,\n",
              "  -0.0003465661266091047,\n",
              "  -0.0003465661266091047,\n",
              "  -0.0003465661266091047,\n",
              "  -0.0003465661266091047,\n",
              "  -0.0003465661266091047,\n",
              "  -0.0003465661266091047,\n",
              "  -0.0003465661266091047,\n",
              "  -0.0003465661266091047,\n",
              "  -0.0003465661266091047,\n",
              "  -0.0003465661266091047,\n",
              "  -0.0003465661266091047,\n",
              "  -0.0003465661266091047,\n",
              "  -0.0003465661266091047,\n",
              "  -0.0003465661266091047,\n",
              "  -0.0003465661266091047,\n",
              "  -0.0003465661266091047,\n",
              "  -0.0003465661266091047,\n",
              "  -0.0003465661266091047,\n",
              "  -0.0003465661266091047,\n",
              "  -0.0003465661266091047,\n",
              "  -0.0003465661266091047],\n",
              " 63: [-0.006513816018923535,\n",
              "  -0.006513816018923535,\n",
              "  -0.006513816018923535,\n",
              "  -0.006513816018923535,\n",
              "  -0.006513816018923535,\n",
              "  -0.006513816018923535,\n",
              "  -0.006513816018923535,\n",
              "  -0.006513816018923535,\n",
              "  -0.006513816018923535,\n",
              "  -0.006513816018923535,\n",
              "  -0.006513816018923535,\n",
              "  -0.006513816018923535,\n",
              "  -0.006513816018923535,\n",
              "  -0.006513816018923535,\n",
              "  -0.006513816018923535,\n",
              "  -0.006513816018923535,\n",
              "  -0.006513816018923535,\n",
              "  -0.006513816018923535,\n",
              "  -0.006513816018923535,\n",
              "  -0.006513816018923535,\n",
              "  -0.006513816018923535,\n",
              "  -0.006513816018923535,\n",
              "  -0.006513816018923535,\n",
              "  -0.006513816018923535,\n",
              "  -0.006513816018923535,\n",
              "  -0.006513816018923535,\n",
              "  -0.006513816018923535,\n",
              "  -0.006513816018923535,\n",
              "  -0.006513816018923535,\n",
              "  -0.006513816018923535,\n",
              "  -0.006513816018923535,\n",
              "  -0.006513816018923535,\n",
              "  -0.006513816018923535,\n",
              "  -0.006513816018923535,\n",
              "  -0.006513816018923535,\n",
              "  -0.006513816018923535,\n",
              "  -0.006513816018923535,\n",
              "  -0.006513816018923535,\n",
              "  -0.006513816018923535,\n",
              "  -0.006513816018923535,\n",
              "  -0.006513816018923535,\n",
              "  -0.006513816018923535,\n",
              "  -0.006513816018923535,\n",
              "  -0.006513816018923535,\n",
              "  -0.006513816018923535,\n",
              "  -0.006513816018923535,\n",
              "  -0.006513816018923535,\n",
              "  -0.006513816018923535,\n",
              "  -0.006513816018923535,\n",
              "  -0.006513816018923535,\n",
              "  -0.006513816018923535,\n",
              "  -0.006513816018923535,\n",
              "  -0.006513816018923535,\n",
              "  -0.006513816018923535,\n",
              "  -0.006513816018923535,\n",
              "  -0.006513816018923535,\n",
              "  -0.006513816018923535,\n",
              "  -0.006513816018923535,\n",
              "  -0.006513816018923535,\n",
              "  -0.006513816018923535,\n",
              "  -0.006513816018923535,\n",
              "  -0.006513816018923535,\n",
              "  -0.006513816018923535,\n",
              "  -0.006513816018923535,\n",
              "  -0.006513816018923535,\n",
              "  -0.006513816018923535,\n",
              "  -0.006513816018923535,\n",
              "  -0.006513816018923535,\n",
              "  -0.006513816018923535,\n",
              "  -0.006513816018923535,\n",
              "  -0.006513816018923535,\n",
              "  -0.006513816018923535,\n",
              "  -0.006513816018923535,\n",
              "  -0.006513816018923535,\n",
              "  -0.006513816018923535,\n",
              "  -0.006513816018923535,\n",
              "  -0.006513816018923535,\n",
              "  -0.006513816018923535,\n",
              "  -0.006513816018923535,\n",
              "  -0.006513816018923535,\n",
              "  -0.006513816018923535,\n",
              "  -0.006513816018923535,\n",
              "  -0.006513816018923535,\n",
              "  -0.006513816018923535,\n",
              "  -0.006513816018923535,\n",
              "  -0.006513816018923535,\n",
              "  -0.006513816018923535,\n",
              "  -0.006513816018923535,\n",
              "  -0.006513816018923535,\n",
              "  -0.006513816018923535,\n",
              "  -0.006513816018923535,\n",
              "  -0.006513816018923535,\n",
              "  -0.006513816018923535,\n",
              "  -0.006513816018923535,\n",
              "  -0.006513816018923535,\n",
              "  -0.006513816018923535,\n",
              "  -0.006513816018923535,\n",
              "  -0.006513816018923535,\n",
              "  -0.006513816018923535,\n",
              "  -0.006513816018923535,\n",
              "  -0.006513816018923535,\n",
              "  -0.006513816018923535,\n",
              "  -0.006513816018923535,\n",
              "  -0.006513816018923535,\n",
              "  -0.006513816018923535,\n",
              "  -0.006513816018923535,\n",
              "  -0.006513816018923535,\n",
              "  -0.006513816018923535,\n",
              "  -0.006513816018923535,\n",
              "  -0.006513816018923535,\n",
              "  -0.006513816018923535,\n",
              "  -0.006513816018923535,\n",
              "  -0.006513816018923535,\n",
              "  -0.006513816018923535,\n",
              "  -0.006513816018923535,\n",
              "  -0.006513816018923535,\n",
              "  -0.006513816018923535,\n",
              "  -0.006513816018923535,\n",
              "  -0.006513816018923535,\n",
              "  -0.006513816018923535,\n",
              "  -0.006513816018923535,\n",
              "  -0.006513816018923535,\n",
              "  -0.006513816018923535,\n",
              "  -0.006513816018923535,\n",
              "  -0.006513816018923535,\n",
              "  -0.006513816018923535,\n",
              "  -0.006513816018923535,\n",
              "  -0.006513816018923535],\n",
              " 15: [0.007293057453352958,\n",
              "  0.007293057453352958,\n",
              "  0.007293057453352958,\n",
              "  0.007293057453352958,\n",
              "  0.007293057453352958,\n",
              "  0.007293057453352958,\n",
              "  0.007293057453352958,\n",
              "  0.007293057453352958,\n",
              "  0.007293057453352958,\n",
              "  0.007293057453352958,\n",
              "  0.007293057453352958,\n",
              "  0.007293057453352958,\n",
              "  0.007293057453352958,\n",
              "  0.007293057453352958,\n",
              "  0.007293057453352958,\n",
              "  0.007293057453352958,\n",
              "  0.007293057453352958,\n",
              "  0.007293057453352958,\n",
              "  0.007293057453352958,\n",
              "  0.007293057453352958,\n",
              "  0.007293057453352958,\n",
              "  0.007293057453352958,\n",
              "  0.007293057453352958,\n",
              "  0.007293057453352958,\n",
              "  0.007293057453352958,\n",
              "  0.007293057453352958,\n",
              "  0.007293057453352958,\n",
              "  0.007293057453352958,\n",
              "  0.007293057453352958,\n",
              "  0.007293057453352958,\n",
              "  0.007293057453352958,\n",
              "  0.007293057453352958,\n",
              "  0.007293057453352958,\n",
              "  0.007293057453352958,\n",
              "  0.007293057453352958,\n",
              "  0.007293057453352958,\n",
              "  0.007293057453352958,\n",
              "  0.007293057453352958,\n",
              "  0.007293057453352958,\n",
              "  0.007293057453352958,\n",
              "  0.007293057453352958,\n",
              "  0.007293057453352958,\n",
              "  0.007293057453352958,\n",
              "  0.007293057453352958,\n",
              "  0.007293057453352958,\n",
              "  0.007293057453352958,\n",
              "  0.007293057453352958,\n",
              "  0.007293057453352958,\n",
              "  0.007293057453352958,\n",
              "  0.007293057453352958,\n",
              "  0.007293057453352958,\n",
              "  0.007293057453352958,\n",
              "  0.007293057453352958,\n",
              "  0.007293057453352958,\n",
              "  0.007293057453352958,\n",
              "  0.007293057453352958,\n",
              "  0.007293057453352958,\n",
              "  0.007293057453352958,\n",
              "  0.007293057453352958,\n",
              "  0.007293057453352958,\n",
              "  0.007293057453352958,\n",
              "  0.007293057453352958,\n",
              "  0.007293057453352958,\n",
              "  0.007293057453352958,\n",
              "  0.007293057453352958,\n",
              "  0.007293057453352958,\n",
              "  0.007293057453352958,\n",
              "  0.007293057453352958,\n",
              "  0.007293057453352958,\n",
              "  0.007293057453352958,\n",
              "  0.007293057453352958,\n",
              "  0.007293057453352958,\n",
              "  0.007293057453352958,\n",
              "  0.007293057453352958,\n",
              "  0.007293057453352958,\n",
              "  0.007293057453352958,\n",
              "  0.007293057453352958,\n",
              "  0.007293057453352958,\n",
              "  0.007293057453352958,\n",
              "  0.007293057453352958,\n",
              "  0.007293057453352958,\n",
              "  0.007293057453352958,\n",
              "  0.007293057453352958,\n",
              "  0.007293057453352958,\n",
              "  0.007293057453352958,\n",
              "  0.007293057453352958,\n",
              "  0.007293057453352958,\n",
              "  0.007293057453352958,\n",
              "  0.007293057453352958,\n",
              "  0.007293057453352958,\n",
              "  0.007293057453352958,\n",
              "  0.007293057453352958,\n",
              "  0.007293057453352958,\n",
              "  0.007293057453352958,\n",
              "  0.007293057453352958,\n",
              "  0.007293057453352958,\n",
              "  0.007293057453352958,\n",
              "  0.007293057453352958,\n",
              "  0.007293057453352958,\n",
              "  0.007293057453352958,\n",
              "  0.007293057453352958,\n",
              "  0.007293057453352958,\n",
              "  0.007293057453352958,\n",
              "  0.007293057453352958,\n",
              "  0.007293057453352958,\n",
              "  0.007293057453352958,\n",
              "  0.007293057453352958,\n",
              "  0.007293057453352958,\n",
              "  0.007293057453352958,\n",
              "  0.007293057453352958,\n",
              "  0.007293057453352958,\n",
              "  0.007293057453352958,\n",
              "  0.007293057453352958,\n",
              "  0.007293057453352958,\n",
              "  0.007293057453352958,\n",
              "  0.007293057453352958,\n",
              "  0.007293057453352958,\n",
              "  0.007293057453352958,\n",
              "  0.007293057453352958,\n",
              "  0.007293057453352958,\n",
              "  0.007293057453352958,\n",
              "  0.007293057453352958,\n",
              "  0.007293057453352958,\n",
              "  0.007293057453352958,\n",
              "  0.007293057453352958,\n",
              "  0.007293057453352958,\n",
              "  0.007293057453352958,\n",
              "  0.007293057453352958],\n",
              " 55: [-0.006962067845961428,\n",
              "  -0.006962067845961428,\n",
              "  -0.006962067845961428,\n",
              "  -0.006962067845961428,\n",
              "  -0.006962067845961428,\n",
              "  -0.006962067845961428,\n",
              "  -0.006962067845961428,\n",
              "  -0.006962067845961428,\n",
              "  -0.006962067845961428,\n",
              "  -0.006962067845961428,\n",
              "  -0.006962067845961428,\n",
              "  -0.006962067845961428,\n",
              "  -0.006962067845961428,\n",
              "  -0.006962067845961428,\n",
              "  -0.006962067845961428,\n",
              "  -0.006962067845961428,\n",
              "  -0.006962067845961428,\n",
              "  -0.006962067845961428,\n",
              "  -0.006962067845961428,\n",
              "  -0.006962067845961428,\n",
              "  -0.006962067845961428,\n",
              "  -0.006962067845961428,\n",
              "  -0.006962067845961428,\n",
              "  -0.006962067845961428,\n",
              "  -0.006962067845961428,\n",
              "  -0.006962067845961428,\n",
              "  -0.006962067845961428,\n",
              "  -0.006962067845961428,\n",
              "  -0.006962067845961428,\n",
              "  -0.006962067845961428,\n",
              "  -0.006962067845961428,\n",
              "  -0.006962067845961428,\n",
              "  -0.006962067845961428,\n",
              "  -0.006962067845961428,\n",
              "  -0.006962067845961428,\n",
              "  -0.006962067845961428,\n",
              "  -0.006962067845961428,\n",
              "  -0.006962067845961428,\n",
              "  -0.006962067845961428,\n",
              "  -0.006962067845961428,\n",
              "  -0.006962067845961428,\n",
              "  -0.006962067845961428,\n",
              "  -0.006962067845961428,\n",
              "  -0.006962067845961428,\n",
              "  -0.006962067845961428,\n",
              "  -0.006962067845961428,\n",
              "  -0.006962067845961428,\n",
              "  -0.006962067845961428,\n",
              "  -0.006962067845961428,\n",
              "  -0.006962067845961428,\n",
              "  -0.006962067845961428,\n",
              "  -0.006962067845961428,\n",
              "  -0.006962067845961428,\n",
              "  -0.006962067845961428,\n",
              "  -0.006962067845961428,\n",
              "  -0.006962067845961428,\n",
              "  -0.006962067845961428,\n",
              "  -0.006962067845961428,\n",
              "  -0.006962067845961428,\n",
              "  -0.006962067845961428,\n",
              "  -0.006962067845961428,\n",
              "  -0.006962067845961428,\n",
              "  -0.006962067845961428,\n",
              "  -0.006962067845961428,\n",
              "  -0.006962067845961428,\n",
              "  -0.006962067845961428,\n",
              "  -0.006962067845961428,\n",
              "  -0.006962067845961428,\n",
              "  -0.006962067845961428,\n",
              "  -0.006962067845961428,\n",
              "  -0.006962067845961428,\n",
              "  -0.006962067845961428,\n",
              "  -0.006962067845961428,\n",
              "  -0.006962067845961428,\n",
              "  -0.006962067845961428,\n",
              "  -0.006962067845961428,\n",
              "  -0.006962067845961428,\n",
              "  -0.006962067845961428,\n",
              "  -0.006962067845961428,\n",
              "  -0.006962067845961428,\n",
              "  -0.006962067845961428,\n",
              "  -0.006962067845961428,\n",
              "  -0.006962067845961428,\n",
              "  -0.006962067845961428,\n",
              "  -0.006962067845961428,\n",
              "  -0.006962067845961428,\n",
              "  -0.006962067845961428,\n",
              "  -0.006962067845961428,\n",
              "  -0.006962067845961428,\n",
              "  -0.006962067845961428,\n",
              "  -0.006962067845961428,\n",
              "  -0.006962067845961428,\n",
              "  -0.006962067845961428,\n",
              "  -0.006962067845961428,\n",
              "  -0.006962067845961428,\n",
              "  -0.006962067845961428,\n",
              "  -0.006962067845961428,\n",
              "  -0.006962067845961428,\n",
              "  -0.006962067845961428,\n",
              "  -0.006962067845961428,\n",
              "  -0.006962067845961428,\n",
              "  -0.006962067845961428,\n",
              "  -0.006962067845961428,\n",
              "  -0.006962067845961428,\n",
              "  -0.006962067845961428,\n",
              "  -0.006962067845961428,\n",
              "  -0.006962067845961428,\n",
              "  -0.006962067845961428,\n",
              "  -0.006962067845961428,\n",
              "  -0.006962067845961428,\n",
              "  -0.006962067845961428,\n",
              "  -0.006962067845961428,\n",
              "  -0.006962067845961428,\n",
              "  -0.006962067845961428,\n",
              "  -0.006962067845961428,\n",
              "  -0.006962067845961428,\n",
              "  -0.006962067845961428,\n",
              "  -0.006962067845961428,\n",
              "  -0.006962067845961428,\n",
              "  -0.006962067845961428,\n",
              "  -0.006962067845961428,\n",
              "  -0.006962067845961428,\n",
              "  -0.006962067845961428,\n",
              "  -0.006962067845961428,\n",
              "  -0.006962067845961428,\n",
              "  -0.006962067845961428,\n",
              "  -0.006962067845961428,\n",
              "  -0.006962067845961428],\n",
              " 38: [-0.0008356519647350069,\n",
              "  -0.0008356519647350069,\n",
              "  -0.0008356519647350069,\n",
              "  -0.0008356519647350069,\n",
              "  -0.0008356519647350069,\n",
              "  -0.0008356519647350069,\n",
              "  -0.0008356519647350069,\n",
              "  -0.0008356519647350069,\n",
              "  -0.0008356519647350069,\n",
              "  -0.0008356519647350069,\n",
              "  -0.0008356519647350069,\n",
              "  -0.0008356519647350069,\n",
              "  -0.0008356519647350069,\n",
              "  -0.0008356519647350069,\n",
              "  -0.0008356519647350069,\n",
              "  -0.0008356519647350069,\n",
              "  -0.0008356519647350069,\n",
              "  -0.0008356519647350069,\n",
              "  -0.0008356519647350069,\n",
              "  -0.0008356519647350069,\n",
              "  -0.0008356519647350069,\n",
              "  -0.0008356519647350069,\n",
              "  -0.0008356519647350069,\n",
              "  -0.0008356519647350069,\n",
              "  -0.0008356519647350069,\n",
              "  -0.0008356519647350069,\n",
              "  -0.0008356519647350069,\n",
              "  -0.0008356519647350069,\n",
              "  -0.0008356519647350069,\n",
              "  -0.0008356519647350069,\n",
              "  -0.0008356519647350069,\n",
              "  -0.0008356519647350069,\n",
              "  -0.0008356519647350069,\n",
              "  -0.0008356519647350069,\n",
              "  -0.0008356519647350069,\n",
              "  -0.0008356519647350069,\n",
              "  -0.0008356519647350069,\n",
              "  -0.0008356519647350069,\n",
              "  -0.0008356519647350069,\n",
              "  -0.0008356519647350069,\n",
              "  -0.0008356519647350069,\n",
              "  -0.0008356519647350069,\n",
              "  -0.0008356519647350069,\n",
              "  -0.0008356519647350069,\n",
              "  -0.0008356519647350069,\n",
              "  -0.0008356519647350069,\n",
              "  -0.0008356519647350069,\n",
              "  -0.0008356519647350069,\n",
              "  -0.0008356519647350069,\n",
              "  -0.0008356519647350069,\n",
              "  -0.0008356519647350069,\n",
              "  -0.0008356519647350069,\n",
              "  -0.0008356519647350069,\n",
              "  -0.0008356519647350069,\n",
              "  -0.0008356519647350069,\n",
              "  -0.0008356519647350069,\n",
              "  -0.0008356519647350069,\n",
              "  -0.0008356519647350069,\n",
              "  -0.0008356519647350069,\n",
              "  -0.0008356519647350069,\n",
              "  -0.0008356519647350069,\n",
              "  -0.0008356519647350069,\n",
              "  -0.0008356519647350069,\n",
              "  -0.0008356519647350069,\n",
              "  -0.0008356519647350069,\n",
              "  -0.0008356519647350069,\n",
              "  -0.0008356519647350069,\n",
              "  -0.0008356519647350069,\n",
              "  -0.0008356519647350069,\n",
              "  -0.0008356519647350069,\n",
              "  -0.0008356519647350069,\n",
              "  -0.0008356519647350069,\n",
              "  -0.0008356519647350069,\n",
              "  -0.0008356519647350069,\n",
              "  -0.0008356519647350069,\n",
              "  -0.0008356519647350069,\n",
              "  -0.0008356519647350069,\n",
              "  -0.0008356519647350069,\n",
              "  -0.0008356519647350069,\n",
              "  -0.0008356519647350069,\n",
              "  -0.0008356519647350069,\n",
              "  -0.0008356519647350069,\n",
              "  -0.0008356519647350069,\n",
              "  -0.0008356519647350069,\n",
              "  -0.0008356519647350069,\n",
              "  -0.0008356519647350069,\n",
              "  -0.0008356519647350069,\n",
              "  -0.0008356519647350069,\n",
              "  -0.0008356519647350069,\n",
              "  -0.0008356519647350069,\n",
              "  -0.0008356519647350069,\n",
              "  -0.0008356519647350069,\n",
              "  -0.0008356519647350069,\n",
              "  -0.0008356519647350069,\n",
              "  -0.0008356519647350069,\n",
              "  -0.0008356519647350069,\n",
              "  -0.0008356519647350069,\n",
              "  -0.0008356519647350069,\n",
              "  -0.0008356519647350069,\n",
              "  -0.0008356519647350069,\n",
              "  -0.0008356519647350069,\n",
              "  -0.0008356519647350069,\n",
              "  -0.0008356519647350069,\n",
              "  -0.0008356519647350069,\n",
              "  -0.0008356519647350069,\n",
              "  -0.0008356519647350069,\n",
              "  -0.0008356519647350069,\n",
              "  -0.0008356519647350069,\n",
              "  -0.0008356519647350069,\n",
              "  -0.0008356519647350069,\n",
              "  -0.0008356519647350069,\n",
              "  -0.0008356519647350069,\n",
              "  -0.0008356519647350069,\n",
              "  -0.0008356519647350069,\n",
              "  -0.0008356519647350069,\n",
              "  -0.0008356519647350069,\n",
              "  -0.0008356519647350069,\n",
              "  -0.0008356519647350069,\n",
              "  -0.0008356519647350069,\n",
              "  -0.0008356519647350069,\n",
              "  -0.0008356519647350069,\n",
              "  -0.0008356519647350069,\n",
              "  -0.0008356519647350069,\n",
              "  -0.0008356519647350069,\n",
              "  -0.0008356519647350069,\n",
              "  -0.0008356519647350069,\n",
              "  -0.0008356519647350069,\n",
              "  -0.0008356519647350069],\n",
              " 36: [-0.0007514767166867387,\n",
              "  -0.0007514767166867387,\n",
              "  -0.0007514767166867387,\n",
              "  -0.0007514767166867387,\n",
              "  -0.0007514767166867387,\n",
              "  -0.0007514767166867387,\n",
              "  -0.0007514767166867387,\n",
              "  -0.0007514767166867387,\n",
              "  -0.0007514767166867387,\n",
              "  -0.0007514767166867387,\n",
              "  -0.0007514767166867387,\n",
              "  -0.0007514767166867387,\n",
              "  -0.0007514767166867387,\n",
              "  -0.0007514767166867387,\n",
              "  -0.0007514767166867387,\n",
              "  -0.0007514767166867387,\n",
              "  -0.0007514767166867387,\n",
              "  -0.0007514767166867387,\n",
              "  -0.0007514767166867387,\n",
              "  -0.0007514767166867387,\n",
              "  -0.0007514767166867387,\n",
              "  -0.0007514767166867387,\n",
              "  -0.0007514767166867387,\n",
              "  -0.0007514767166867387,\n",
              "  -0.0007514767166867387,\n",
              "  -0.0007514767166867387,\n",
              "  -0.0007514767166867387,\n",
              "  -0.0007514767166867387,\n",
              "  -0.0007514767166867387,\n",
              "  -0.0007514767166867387,\n",
              "  -0.0007514767166867387,\n",
              "  -0.0007514767166867387,\n",
              "  -0.0007514767166867387,\n",
              "  -0.0007514767166867387,\n",
              "  -0.0007514767166867387,\n",
              "  -0.0007514767166867387,\n",
              "  -0.0007514767166867387,\n",
              "  -0.0007514767166867387,\n",
              "  -0.0007514767166867387,\n",
              "  -0.0007514767166867387,\n",
              "  -0.0007514767166867387,\n",
              "  -0.0007514767166867387,\n",
              "  -0.0007514767166867387,\n",
              "  -0.0007514767166867387,\n",
              "  -0.0007514767166867387,\n",
              "  -0.0007514767166867387,\n",
              "  -0.0007514767166867387,\n",
              "  -0.0007514767166867387,\n",
              "  -0.0007514767166867387,\n",
              "  -0.0007514767166867387,\n",
              "  -0.0007514767166867387,\n",
              "  -0.0007514767166867387,\n",
              "  -0.0007514767166867387,\n",
              "  -0.0007514767166867387,\n",
              "  -0.0007514767166867387,\n",
              "  -0.0007514767166867387,\n",
              "  -0.0007514767166867387,\n",
              "  -0.0007514767166867387,\n",
              "  -0.0007514767166867387,\n",
              "  -0.0007514767166867387,\n",
              "  -0.0007514767166867387,\n",
              "  -0.0007514767166867387,\n",
              "  -0.0007514767166867387,\n",
              "  -0.0007514767166867387,\n",
              "  -0.0007514767166867387,\n",
              "  -0.0007514767166867387,\n",
              "  -0.0007514767166867387,\n",
              "  -0.0007514767166867387,\n",
              "  -0.0007514767166867387,\n",
              "  -0.0007514767166867387,\n",
              "  -0.0007514767166867387,\n",
              "  -0.0007514767166867387,\n",
              "  -0.0007514767166867387,\n",
              "  -0.0007514767166867387,\n",
              "  -0.0007514767166867387,\n",
              "  -0.0007514767166867387,\n",
              "  -0.0007514767166867387,\n",
              "  -0.0007514767166867387,\n",
              "  -0.0007514767166867387,\n",
              "  -0.0007514767166867387,\n",
              "  -0.0007514767166867387,\n",
              "  -0.0007514767166867387,\n",
              "  -0.0007514767166867387,\n",
              "  -0.0007514767166867387,\n",
              "  -0.0007514767166867387,\n",
              "  -0.0007514767166867387,\n",
              "  -0.0007514767166867387,\n",
              "  -0.0007514767166867387,\n",
              "  -0.0007514767166867387,\n",
              "  -0.0007514767166867387,\n",
              "  -0.0007514767166867387,\n",
              "  -0.0007514767166867387,\n",
              "  -0.0007514767166867387,\n",
              "  -0.0007514767166867387,\n",
              "  -0.0007514767166867387,\n",
              "  -0.0007514767166867387,\n",
              "  -0.0007514767166867387,\n",
              "  -0.0007514767166867387,\n",
              "  -0.0007514767166867387,\n",
              "  -0.0007514767166867387,\n",
              "  -0.0007514767166867387,\n",
              "  -0.0007514767166867387,\n",
              "  -0.0007514767166867387,\n",
              "  -0.0007514767166867387,\n",
              "  -0.0007514767166867387,\n",
              "  -0.0007514767166867387,\n",
              "  -0.0007514767166867387,\n",
              "  -0.0007514767166867387,\n",
              "  -0.0007514767166867387,\n",
              "  -0.0007514767166867387,\n",
              "  -0.0007514767166867387,\n",
              "  -0.0007514767166867387,\n",
              "  -0.0007514767166867387,\n",
              "  -0.0007514767166867387,\n",
              "  -0.0007514767166867387,\n",
              "  -0.0007514767166867387,\n",
              "  -0.0007514767166867387,\n",
              "  -0.0007514767166867387,\n",
              "  -0.0007514767166867387,\n",
              "  -0.0007514767166867387,\n",
              "  -0.0007514767166867387,\n",
              "  -0.0007514767166867387,\n",
              "  -0.0007514767166867387,\n",
              "  -0.0007514767166867387,\n",
              "  -0.0007514767166867387,\n",
              "  -0.0007514767166867387,\n",
              "  -0.0007514767166867387,\n",
              "  -0.0007514767166867387],\n",
              " 78: [-0.0029041120906185824,\n",
              "  -0.0029041120906185824,\n",
              "  -0.0029041120906185824,\n",
              "  -0.0029041120906185824,\n",
              "  -0.0029041120906185824,\n",
              "  -0.0029041120906185824,\n",
              "  -0.0029041120906185824,\n",
              "  -0.0029041120906185824,\n",
              "  -0.0029041120906185824,\n",
              "  -0.0029041120906185824,\n",
              "  -0.0029041120906185824,\n",
              "  -0.0029041120906185824,\n",
              "  -0.0029041120906185824,\n",
              "  -0.0029041120906185824,\n",
              "  -0.0029041120906185824,\n",
              "  -0.0029041120906185824,\n",
              "  -0.0029041120906185824,\n",
              "  -0.0029041120906185824,\n",
              "  -0.0029041120906185824,\n",
              "  -0.0029041120906185824,\n",
              "  -0.0029041120906185824,\n",
              "  -0.0029041120906185824,\n",
              "  -0.0029041120906185824,\n",
              "  -0.0029041120906185824,\n",
              "  -0.0029041120906185824,\n",
              "  -0.0029041120906185824,\n",
              "  -0.0029041120906185824,\n",
              "  -0.0029041120906185824,\n",
              "  -0.0029041120906185824,\n",
              "  -0.0029041120906185824,\n",
              "  -0.0029041120906185824,\n",
              "  -0.0029041120906185824,\n",
              "  -0.0029041120906185824,\n",
              "  -0.0029041120906185824,\n",
              "  -0.0029041120906185824,\n",
              "  -0.0029041120906185824,\n",
              "  -0.0029041120906185824,\n",
              "  -0.0029041120906185824,\n",
              "  -0.0029041120906185824,\n",
              "  -0.0029041120906185824,\n",
              "  -0.0029041120906185824,\n",
              "  -0.0029041120906185824,\n",
              "  -0.0029041120906185824,\n",
              "  -0.0029041120906185824,\n",
              "  -0.0029041120906185824,\n",
              "  -0.0029041120906185824,\n",
              "  -0.0029041120906185824,\n",
              "  -0.0029041120906185824,\n",
              "  -0.0029041120906185824,\n",
              "  -0.0029041120906185824,\n",
              "  -0.0029041120906185824,\n",
              "  -0.0029041120906185824,\n",
              "  -0.0029041120906185824,\n",
              "  -0.0029041120906185824,\n",
              "  -0.0029041120906185824,\n",
              "  -0.0029041120906185824,\n",
              "  -0.0029041120906185824,\n",
              "  -0.0029041120906185824,\n",
              "  -0.0029041120906185824,\n",
              "  -0.0029041120906185824,\n",
              "  -0.0029041120906185824,\n",
              "  -0.0029041120906185824,\n",
              "  -0.0029041120906185824,\n",
              "  -0.0029041120906185824,\n",
              "  -0.0029041120906185824,\n",
              "  -0.0029041120906185824,\n",
              "  -0.0029041120906185824,\n",
              "  -0.0029041120906185824,\n",
              "  -0.0029041120906185824,\n",
              "  -0.0029041120906185824,\n",
              "  -0.0029041120906185824,\n",
              "  -0.0029041120906185824,\n",
              "  -0.0029041120906185824,\n",
              "  -0.0029041120906185824,\n",
              "  -0.0029041120906185824,\n",
              "  -0.0029041120906185824,\n",
              "  -0.0029041120906185824,\n",
              "  -0.0029041120906185824,\n",
              "  -0.0029041120906185824,\n",
              "  -0.0029041120906185824,\n",
              "  -0.0029041120906185824,\n",
              "  -0.0029041120906185824,\n",
              "  -0.0029041120906185824,\n",
              "  -0.0029041120906185824,\n",
              "  -0.0029041120906185824,\n",
              "  -0.0029041120906185824,\n",
              "  -0.0029041120906185824,\n",
              "  -0.0029041120906185824,\n",
              "  -0.0029041120906185824,\n",
              "  -0.0029041120906185824,\n",
              "  -0.0029041120906185824,\n",
              "  -0.0029041120906185824,\n",
              "  -0.0029041120906185824,\n",
              "  -0.0029041120906185824,\n",
              "  -0.0029041120906185824,\n",
              "  -0.0029041120906185824,\n",
              "  -0.0029041120906185824,\n",
              "  -0.0029041120906185824,\n",
              "  -0.0029041120906185824,\n",
              "  -0.0029041120906185824,\n",
              "  -0.0029041120906185824,\n",
              "  -0.0029041120906185824,\n",
              "  -0.0029041120906185824,\n",
              "  -0.0029041120906185824,\n",
              "  -0.0029041120906185824,\n",
              "  -0.0029041120906185824,\n",
              "  -0.0029041120906185824,\n",
              "  -0.0029041120906185824,\n",
              "  -0.0029041120906185824,\n",
              "  -0.0029041120906185824,\n",
              "  -0.0029041120906185824,\n",
              "  -0.0029041120906185824,\n",
              "  -0.0029041120906185824,\n",
              "  -0.0029041120906185824,\n",
              "  -0.0029041120906185824,\n",
              "  -0.0029041120906185824,\n",
              "  -0.0029041120906185824,\n",
              "  -0.0029041120906185824,\n",
              "  -0.0029041120906185824,\n",
              "  -0.0029041120906185824,\n",
              "  -0.0029041120906185824,\n",
              "  -0.0029041120906185824,\n",
              "  -0.0029041120906185824,\n",
              "  -0.0029041120906185824,\n",
              "  -0.0029041120906185824,\n",
              "  -0.0029041120906185824,\n",
              "  -0.0029041120906185824,\n",
              "  -0.0029041120906185824],\n",
              " 3: [-0.00313217518851161,\n",
              "  -0.00313217518851161,\n",
              "  -0.00313217518851161,\n",
              "  -0.00313217518851161,\n",
              "  -0.00313217518851161,\n",
              "  -0.00313217518851161,\n",
              "  -0.00313217518851161,\n",
              "  -0.00313217518851161,\n",
              "  -0.00313217518851161,\n",
              "  -0.00313217518851161,\n",
              "  -0.00313217518851161,\n",
              "  -0.00313217518851161,\n",
              "  -0.00313217518851161,\n",
              "  -0.00313217518851161,\n",
              "  -0.00313217518851161,\n",
              "  -0.00313217518851161,\n",
              "  -0.00313217518851161,\n",
              "  -0.00313217518851161,\n",
              "  -0.00313217518851161,\n",
              "  -0.00313217518851161,\n",
              "  -0.00313217518851161,\n",
              "  -0.00313217518851161,\n",
              "  -0.00313217518851161,\n",
              "  -0.00313217518851161,\n",
              "  -0.00313217518851161,\n",
              "  -0.00313217518851161,\n",
              "  -0.00313217518851161,\n",
              "  -0.00313217518851161,\n",
              "  -0.00313217518851161,\n",
              "  -0.00313217518851161,\n",
              "  -0.00313217518851161,\n",
              "  -0.00313217518851161,\n",
              "  -0.00313217518851161,\n",
              "  -0.00313217518851161,\n",
              "  -0.00313217518851161,\n",
              "  -0.00313217518851161,\n",
              "  -0.00313217518851161,\n",
              "  -0.00313217518851161,\n",
              "  -0.00313217518851161,\n",
              "  -0.00313217518851161,\n",
              "  -0.00313217518851161,\n",
              "  -0.00313217518851161,\n",
              "  -0.00313217518851161,\n",
              "  -0.00313217518851161,\n",
              "  -0.00313217518851161,\n",
              "  -0.00313217518851161,\n",
              "  -0.00313217518851161,\n",
              "  -0.00313217518851161,\n",
              "  -0.00313217518851161,\n",
              "  -0.00313217518851161,\n",
              "  -0.00313217518851161,\n",
              "  -0.00313217518851161,\n",
              "  -0.00313217518851161,\n",
              "  -0.00313217518851161,\n",
              "  -0.00313217518851161,\n",
              "  -0.00313217518851161,\n",
              "  -0.00313217518851161,\n",
              "  -0.00313217518851161,\n",
              "  -0.00313217518851161,\n",
              "  -0.00313217518851161,\n",
              "  -0.00313217518851161,\n",
              "  -0.00313217518851161,\n",
              "  -0.00313217518851161,\n",
              "  -0.00313217518851161,\n",
              "  -0.00313217518851161,\n",
              "  -0.00313217518851161,\n",
              "  -0.00313217518851161,\n",
              "  -0.00313217518851161,\n",
              "  -0.00313217518851161,\n",
              "  -0.00313217518851161,\n",
              "  -0.00313217518851161,\n",
              "  -0.00313217518851161,\n",
              "  -0.00313217518851161,\n",
              "  -0.00313217518851161,\n",
              "  -0.00313217518851161,\n",
              "  -0.00313217518851161,\n",
              "  -0.00313217518851161,\n",
              "  -0.00313217518851161,\n",
              "  -0.00313217518851161,\n",
              "  -0.00313217518851161,\n",
              "  -0.00313217518851161,\n",
              "  -0.00313217518851161,\n",
              "  -0.00313217518851161,\n",
              "  -0.00313217518851161,\n",
              "  -0.00313217518851161,\n",
              "  -0.00313217518851161,\n",
              "  -0.00313217518851161,\n",
              "  -0.00313217518851161,\n",
              "  -0.00313217518851161,\n",
              "  -0.00313217518851161,\n",
              "  -0.00313217518851161,\n",
              "  -0.00313217518851161,\n",
              "  -0.00313217518851161,\n",
              "  -0.00313217518851161,\n",
              "  -0.00313217518851161,\n",
              "  -0.00313217518851161,\n",
              "  -0.00313217518851161,\n",
              "  -0.00313217518851161,\n",
              "  -0.00313217518851161,\n",
              "  -0.00313217518851161,\n",
              "  -0.00313217518851161,\n",
              "  -0.00313217518851161,\n",
              "  -0.00313217518851161,\n",
              "  -0.00313217518851161,\n",
              "  -0.00313217518851161,\n",
              "  -0.00313217518851161,\n",
              "  -0.00313217518851161,\n",
              "  -0.00313217518851161,\n",
              "  -0.00313217518851161,\n",
              "  -0.00313217518851161,\n",
              "  -0.00313217518851161,\n",
              "  -0.00313217518851161,\n",
              "  -0.00313217518851161,\n",
              "  -0.00313217518851161,\n",
              "  -0.00313217518851161,\n",
              "  -0.00313217518851161,\n",
              "  -0.00313217518851161,\n",
              "  -0.00313217518851161,\n",
              "  -0.00313217518851161,\n",
              "  -0.00313217518851161,\n",
              "  -0.00313217518851161,\n",
              "  -0.00313217518851161,\n",
              "  -0.00313217518851161,\n",
              "  -0.00313217518851161,\n",
              "  -0.00313217518851161,\n",
              "  -0.00313217518851161,\n",
              "  -0.00313217518851161,\n",
              "  -0.00313217518851161],\n",
              " 30: [-0.005712646076972305,\n",
              "  -0.005712646076972305,\n",
              "  -0.005712646076972305,\n",
              "  -0.005712646076972305,\n",
              "  -0.005712646076972305,\n",
              "  -0.005712646076972305,\n",
              "  -0.005712646076972305,\n",
              "  -0.005712646076972305,\n",
              "  -0.005712646076972305,\n",
              "  -0.005712646076972305,\n",
              "  -0.005712646076972305,\n",
              "  -0.005712646076972305,\n",
              "  -0.005712646076972305,\n",
              "  -0.005712646076972305,\n",
              "  -0.005712646076972305,\n",
              "  -0.005712646076972305,\n",
              "  -0.005712646076972305,\n",
              "  -0.005712646076972305,\n",
              "  -0.005712646076972305,\n",
              "  -0.005712646076972305,\n",
              "  -0.005712646076972305,\n",
              "  -0.005712646076972305,\n",
              "  -0.005712646076972305,\n",
              "  -0.005712646076972305,\n",
              "  -0.005712646076972305,\n",
              "  -0.005712646076972305,\n",
              "  -0.005712646076972305,\n",
              "  -0.005712646076972305,\n",
              "  -0.005712646076972305,\n",
              "  -0.005712646076972305,\n",
              "  -0.005712646076972305,\n",
              "  -0.005712646076972305,\n",
              "  -0.005712646076972305,\n",
              "  -0.005712646076972305,\n",
              "  -0.005712646076972305,\n",
              "  -0.005712646076972305,\n",
              "  -0.005712646076972305,\n",
              "  -0.005712646076972305,\n",
              "  -0.005712646076972305,\n",
              "  -0.005712646076972305,\n",
              "  -0.005712646076972305,\n",
              "  -0.005712646076972305,\n",
              "  -0.005712646076972305,\n",
              "  -0.005712646076972305,\n",
              "  -0.005712646076972305,\n",
              "  -0.005712646076972305,\n",
              "  -0.005712646076972305,\n",
              "  -0.005712646076972305,\n",
              "  -0.005712646076972305,\n",
              "  -0.005712646076972305,\n",
              "  -0.005712646076972305,\n",
              "  -0.005712646076972305,\n",
              "  -0.005712646076972305,\n",
              "  -0.005712646076972305,\n",
              "  -0.005712646076972305,\n",
              "  -0.005712646076972305,\n",
              "  -0.005712646076972305,\n",
              "  -0.005712646076972305,\n",
              "  -0.005712646076972305,\n",
              "  -0.005712646076972305,\n",
              "  -0.005712646076972305,\n",
              "  -0.005712646076972305,\n",
              "  -0.005712646076972305,\n",
              "  -0.005712646076972305,\n",
              "  -0.005712646076972305,\n",
              "  -0.005712646076972305,\n",
              "  -0.005712646076972305,\n",
              "  -0.005712646076972305,\n",
              "  -0.005712646076972305,\n",
              "  -0.005712646076972305,\n",
              "  -0.005712646076972305,\n",
              "  -0.005712646076972305,\n",
              "  -0.005712646076972305,\n",
              "  -0.005712646076972305,\n",
              "  -0.005712646076972305,\n",
              "  -0.005712646076972305,\n",
              "  -0.005712646076972305,\n",
              "  -0.005712646076972305,\n",
              "  -0.005712646076972305,\n",
              "  -0.005712646076972305,\n",
              "  -0.005712646076972305,\n",
              "  -0.005712646076972305,\n",
              "  -0.005712646076972305,\n",
              "  -0.005712646076972305,\n",
              "  -0.005712646076972305,\n",
              "  -0.005712646076972305,\n",
              "  -0.005712646076972305,\n",
              "  -0.005712646076972305,\n",
              "  -0.005712646076972305,\n",
              "  -0.005712646076972305,\n",
              "  -0.005712646076972305,\n",
              "  -0.005712646076972305,\n",
              "  -0.005712646076972305,\n",
              "  -0.005712646076972305,\n",
              "  -0.005712646076972305,\n",
              "  -0.005712646076972305,\n",
              "  -0.005712646076972305,\n",
              "  -0.005712646076972305,\n",
              "  -0.005712646076972305,\n",
              "  -0.005712646076972305,\n",
              "  -0.005712646076972305,\n",
              "  -0.005712646076972305,\n",
              "  -0.005712646076972305,\n",
              "  -0.005712646076972305,\n",
              "  -0.005712646076972305,\n",
              "  -0.005712646076972305,\n",
              "  -0.005712646076972305,\n",
              "  -0.005712646076972305,\n",
              "  -0.005712646076972305,\n",
              "  -0.005712646076972305,\n",
              "  -0.005712646076972305,\n",
              "  -0.005712646076972305,\n",
              "  -0.005712646076972305,\n",
              "  -0.005712646076972305,\n",
              "  -0.005712646076972305,\n",
              "  -0.005712646076972305,\n",
              "  -0.005712646076972305,\n",
              "  -0.005712646076972305,\n",
              "  -0.005712646076972305,\n",
              "  -0.005712646076972305,\n",
              "  -0.005712646076972305,\n",
              "  -0.005712646076972305,\n",
              "  -0.005712646076972305,\n",
              "  -0.005712646076972305,\n",
              "  -0.005712646076972305,\n",
              "  -0.005712646076972305,\n",
              "  -0.005712646076972305,\n",
              "  -0.005712646076972305],\n",
              " 57: [0.001495776009051042,\n",
              "  0.001495776009051042,\n",
              "  0.001495776009051042,\n",
              "  0.001495776009051042,\n",
              "  0.001495776009051042,\n",
              "  0.001495776009051042,\n",
              "  0.001495776009051042,\n",
              "  0.001495776009051042,\n",
              "  0.001495776009051042,\n",
              "  0.001495776009051042,\n",
              "  0.001495776009051042,\n",
              "  0.001495776009051042,\n",
              "  0.001495776009051042,\n",
              "  0.001495776009051042,\n",
              "  0.001495776009051042,\n",
              "  0.001495776009051042,\n",
              "  0.001495776009051042,\n",
              "  0.001495776009051042,\n",
              "  0.001495776009051042,\n",
              "  0.001495776009051042,\n",
              "  0.001495776009051042,\n",
              "  0.001495776009051042,\n",
              "  0.001495776009051042,\n",
              "  0.001495776009051042,\n",
              "  0.001495776009051042,\n",
              "  0.001495776009051042,\n",
              "  0.001495776009051042,\n",
              "  0.001495776009051042,\n",
              "  0.001495776009051042,\n",
              "  0.001495776009051042,\n",
              "  0.001495776009051042,\n",
              "  0.001495776009051042,\n",
              "  0.001495776009051042,\n",
              "  0.001495776009051042,\n",
              "  0.001495776009051042,\n",
              "  0.001495776009051042,\n",
              "  0.001495776009051042,\n",
              "  0.001495776009051042,\n",
              "  0.001495776009051042,\n",
              "  0.001495776009051042,\n",
              "  0.001495776009051042,\n",
              "  0.001495776009051042,\n",
              "  0.001495776009051042,\n",
              "  0.001495776009051042,\n",
              "  0.001495776009051042,\n",
              "  0.001495776009051042,\n",
              "  0.001495776009051042,\n",
              "  0.001495776009051042,\n",
              "  0.001495776009051042,\n",
              "  0.001495776009051042,\n",
              "  0.001495776009051042,\n",
              "  0.001495776009051042,\n",
              "  0.001495776009051042,\n",
              "  0.001495776009051042,\n",
              "  0.001495776009051042,\n",
              "  0.001495776009051042,\n",
              "  0.001495776009051042,\n",
              "  0.001495776009051042,\n",
              "  0.001495776009051042,\n",
              "  0.001495776009051042,\n",
              "  0.001495776009051042,\n",
              "  0.001495776009051042,\n",
              "  0.001495776009051042,\n",
              "  0.001495776009051042,\n",
              "  0.001495776009051042,\n",
              "  0.001495776009051042,\n",
              "  0.001495776009051042,\n",
              "  0.001495776009051042,\n",
              "  0.001495776009051042,\n",
              "  0.001495776009051042,\n",
              "  0.001495776009051042,\n",
              "  0.001495776009051042,\n",
              "  0.001495776009051042,\n",
              "  0.001495776009051042,\n",
              "  0.001495776009051042,\n",
              "  0.001495776009051042,\n",
              "  0.001495776009051042,\n",
              "  0.001495776009051042,\n",
              "  0.001495776009051042,\n",
              "  0.001495776009051042,\n",
              "  0.001495776009051042,\n",
              "  0.001495776009051042,\n",
              "  0.001495776009051042,\n",
              "  0.001495776009051042,\n",
              "  0.001495776009051042,\n",
              "  0.001495776009051042,\n",
              "  0.001495776009051042,\n",
              "  0.001495776009051042,\n",
              "  0.001495776009051042,\n",
              "  0.001495776009051042,\n",
              "  0.001495776009051042,\n",
              "  0.001495776009051042,\n",
              "  0.001495776009051042,\n",
              "  0.001495776009051042,\n",
              "  0.001495776009051042,\n",
              "  0.001495776009051042,\n",
              "  0.001495776009051042,\n",
              "  0.001495776009051042,\n",
              "  0.001495776009051042,\n",
              "  0.001495776009051042,\n",
              "  0.001495776009051042,\n",
              "  0.001495776009051042,\n",
              "  0.001495776009051042,\n",
              "  0.001495776009051042,\n",
              "  0.001495776009051042,\n",
              "  0.001495776009051042,\n",
              "  0.001495776009051042,\n",
              "  0.001495776009051042,\n",
              "  0.001495776009051042,\n",
              "  0.001495776009051042,\n",
              "  0.001495776009051042,\n",
              "  0.001495776009051042,\n",
              "  0.001495776009051042,\n",
              "  0.001495776009051042,\n",
              "  0.001495776009051042,\n",
              "  0.001495776009051042,\n",
              "  0.001495776009051042,\n",
              "  0.001495776009051042,\n",
              "  0.001495776009051042,\n",
              "  0.001495776009051042,\n",
              "  0.001495776009051042,\n",
              "  0.001495776009051042,\n",
              "  0.001495776009051042,\n",
              "  0.001495776009051042,\n",
              "  0.001495776009051042,\n",
              "  0.001495776009051042,\n",
              "  0.001495776009051042,\n",
              "  0.001495776009051042],\n",
              " 73: [-0.00034010024819508544,\n",
              "  -0.00034010024819508544,\n",
              "  -0.00034010024819508544,\n",
              "  -0.00034010024819508544,\n",
              "  -0.00034010024819508544,\n",
              "  -0.00034010024819508544,\n",
              "  -0.00034010024819508544,\n",
              "  -0.00034010024819508544,\n",
              "  -0.00034010024819508544,\n",
              "  -0.00034010024819508544,\n",
              "  -0.00034010024819508544,\n",
              "  -0.00034010024819508544,\n",
              "  -0.00034010024819508544,\n",
              "  -0.00034010024819508544,\n",
              "  -0.00034010024819508544,\n",
              "  -0.00034010024819508544,\n",
              "  -0.00034010024819508544,\n",
              "  -0.00034010024819508544,\n",
              "  -0.00034010024819508544,\n",
              "  -0.00034010024819508544,\n",
              "  -0.00034010024819508544,\n",
              "  -0.00034010024819508544,\n",
              "  -0.00034010024819508544,\n",
              "  -0.00034010024819508544,\n",
              "  -0.00034010024819508544,\n",
              "  -0.00034010024819508544,\n",
              "  -0.00034010024819508544,\n",
              "  -0.00034010024819508544,\n",
              "  -0.00034010024819508544,\n",
              "  -0.00034010024819508544,\n",
              "  -0.00034010024819508544,\n",
              "  -0.00034010024819508544,\n",
              "  -0.00034010024819508544,\n",
              "  -0.00034010024819508544,\n",
              "  -0.00034010024819508544,\n",
              "  -0.00034010024819508544,\n",
              "  -0.00034010024819508544,\n",
              "  -0.00034010024819508544,\n",
              "  -0.00034010024819508544,\n",
              "  -0.00034010024819508544,\n",
              "  -0.00034010024819508544,\n",
              "  -0.00034010024819508544,\n",
              "  -0.00034010024819508544,\n",
              "  -0.00034010024819508544,\n",
              "  -0.00034010024819508544,\n",
              "  -0.00034010024819508544,\n",
              "  -0.00034010024819508544,\n",
              "  -0.00034010024819508544,\n",
              "  -0.00034010024819508544,\n",
              "  -0.00034010024819508544,\n",
              "  -0.00034010024819508544,\n",
              "  -0.00034010024819508544,\n",
              "  -0.00034010024819508544,\n",
              "  -0.00034010024819508544,\n",
              "  -0.00034010024819508544,\n",
              "  -0.00034010024819508544,\n",
              "  -0.00034010024819508544,\n",
              "  -0.00034010024819508544,\n",
              "  -0.00034010024819508544,\n",
              "  -0.00034010024819508544,\n",
              "  -0.00034010024819508544,\n",
              "  -0.00034010024819508544,\n",
              "  -0.00034010024819508544,\n",
              "  -0.00034010024819508544,\n",
              "  -0.00034010024819508544,\n",
              "  -0.00034010024819508544,\n",
              "  -0.00034010024819508544,\n",
              "  -0.00034010024819508544,\n",
              "  -0.00034010024819508544,\n",
              "  -0.00034010024819508544,\n",
              "  -0.00034010024819508544,\n",
              "  -0.00034010024819508544,\n",
              "  -0.00034010024819508544,\n",
              "  -0.00034010024819508544,\n",
              "  -0.00034010024819508544,\n",
              "  -0.00034010024819508544,\n",
              "  -0.00034010024819508544,\n",
              "  -0.00034010024819508544,\n",
              "  -0.00034010024819508544,\n",
              "  -0.00034010024819508544,\n",
              "  -0.00034010024819508544,\n",
              "  -0.00034010024819508544,\n",
              "  -0.00034010024819508544,\n",
              "  -0.00034010024819508544,\n",
              "  -0.00034010024819508544,\n",
              "  -0.00034010024819508544,\n",
              "  -0.00034010024819508544,\n",
              "  -0.00034010024819508544,\n",
              "  -0.00034010024819508544,\n",
              "  -0.00034010024819508544,\n",
              "  -0.00034010024819508544,\n",
              "  -0.00034010024819508544,\n",
              "  -0.00034010024819508544,\n",
              "  -0.00034010024819508544,\n",
              "  -0.00034010024819508544,\n",
              "  -0.00034010024819508544,\n",
              "  -0.00034010024819508544,\n",
              "  -0.00034010024819508544,\n",
              "  -0.00034010024819508544,\n",
              "  -0.00034010024819508544,\n",
              "  -0.00034010024819508544,\n",
              "  -0.00034010024819508544,\n",
              "  -0.00034010024819508544,\n",
              "  -0.00034010024819508544,\n",
              "  -0.00034010024819508544,\n",
              "  -0.00034010024819508544,\n",
              "  -0.00034010024819508544,\n",
              "  -0.00034010024819508544,\n",
              "  -0.00034010024819508544,\n",
              "  -0.00034010024819508544,\n",
              "  -0.00034010024819508544,\n",
              "  -0.00034010024819508544,\n",
              "  -0.00034010024819508544,\n",
              "  -0.00034010024819508544,\n",
              "  -0.00034010024819508544,\n",
              "  -0.00034010024819508544,\n",
              "  -0.00034010024819508544,\n",
              "  -0.00034010024819508544,\n",
              "  -0.00034010024819508544,\n",
              "  -0.00034010024819508544,\n",
              "  -0.00034010024819508544,\n",
              "  -0.00034010024819508544,\n",
              "  -0.00034010024819508544,\n",
              "  -0.00034010024819508544,\n",
              "  -0.00034010024819508544,\n",
              "  -0.00034010024819508544,\n",
              "  -0.00034010024819508544,\n",
              "  -0.00034010024819508544],\n",
              " 25: [-0.010081037966301665,\n",
              "  -0.010081037966301665,\n",
              "  -0.010081037966301665,\n",
              "  -0.010081037966301665,\n",
              "  -0.010081037966301665,\n",
              "  -0.010081037966301665,\n",
              "  -0.010081037966301665,\n",
              "  -0.010081037966301665,\n",
              "  -0.010081037966301665,\n",
              "  -0.010081037966301665,\n",
              "  -0.010081037966301665,\n",
              "  -0.010081037966301665,\n",
              "  -0.010081037966301665,\n",
              "  -0.010081037966301665,\n",
              "  -0.010081037966301665,\n",
              "  -0.010081037966301665,\n",
              "  -0.010081037966301665,\n",
              "  -0.010081037966301665,\n",
              "  -0.010081037966301665,\n",
              "  -0.010081037966301665,\n",
              "  -0.010081037966301665,\n",
              "  -0.010081037966301665,\n",
              "  -0.010081037966301665,\n",
              "  -0.010081037966301665,\n",
              "  -0.010081037966301665,\n",
              "  -0.010081037966301665,\n",
              "  -0.010081037966301665,\n",
              "  -0.010081037966301665,\n",
              "  -0.010081037966301665,\n",
              "  -0.010081037966301665,\n",
              "  -0.010081037966301665,\n",
              "  -0.010081037966301665,\n",
              "  -0.010081037966301665,\n",
              "  -0.010081037966301665,\n",
              "  -0.010081037966301665,\n",
              "  -0.010081037966301665,\n",
              "  -0.010081037966301665,\n",
              "  -0.010081037966301665,\n",
              "  -0.010081037966301665,\n",
              "  -0.010081037966301665,\n",
              "  -0.010081037966301665,\n",
              "  -0.010081037966301665,\n",
              "  -0.010081037966301665,\n",
              "  -0.010081037966301665,\n",
              "  -0.010081037966301665,\n",
              "  -0.010081037966301665,\n",
              "  -0.010081037966301665,\n",
              "  -0.010081037966301665,\n",
              "  -0.010081037966301665,\n",
              "  -0.010081037966301665,\n",
              "  -0.010081037966301665,\n",
              "  -0.010081037966301665,\n",
              "  -0.010081037966301665,\n",
              "  -0.010081037966301665,\n",
              "  -0.010081037966301665,\n",
              "  -0.010081037966301665,\n",
              "  -0.010081037966301665,\n",
              "  -0.010081037966301665,\n",
              "  -0.010081037966301665,\n",
              "  -0.010081037966301665,\n",
              "  -0.010081037966301665,\n",
              "  -0.010081037966301665,\n",
              "  -0.010081037966301665,\n",
              "  -0.010081037966301665,\n",
              "  -0.010081037966301665,\n",
              "  -0.010081037966301665,\n",
              "  -0.010081037966301665,\n",
              "  -0.010081037966301665,\n",
              "  -0.010081037966301665,\n",
              "  -0.010081037966301665,\n",
              "  -0.010081037966301665,\n",
              "  -0.010081037966301665,\n",
              "  -0.010081037966301665,\n",
              "  -0.010081037966301665,\n",
              "  -0.010081037966301665,\n",
              "  -0.010081037966301665,\n",
              "  -0.010081037966301665,\n",
              "  -0.010081037966301665,\n",
              "  -0.010081037966301665,\n",
              "  -0.010081037966301665,\n",
              "  -0.010081037966301665,\n",
              "  -0.010081037966301665,\n",
              "  -0.010081037966301665,\n",
              "  -0.010081037966301665,\n",
              "  -0.010081037966301665,\n",
              "  -0.010081037966301665,\n",
              "  -0.010081037966301665,\n",
              "  -0.010081037966301665,\n",
              "  -0.010081037966301665,\n",
              "  -0.010081037966301665,\n",
              "  -0.010081037966301665,\n",
              "  -0.010081037966301665,\n",
              "  -0.010081037966301665,\n",
              "  -0.010081037966301665,\n",
              "  -0.010081037966301665,\n",
              "  -0.010081037966301665,\n",
              "  -0.010081037966301665,\n",
              "  -0.010081037966301665,\n",
              "  -0.010081037966301665,\n",
              "  -0.010081037966301665,\n",
              "  -0.010081037966301665,\n",
              "  -0.010081037966301665,\n",
              "  -0.010081037966301665,\n",
              "  -0.010081037966301665,\n",
              "  -0.010081037966301665,\n",
              "  -0.010081037966301665,\n",
              "  -0.010081037966301665,\n",
              "  -0.010081037966301665,\n",
              "  -0.010081037966301665,\n",
              "  -0.010081037966301665,\n",
              "  -0.010081037966301665,\n",
              "  -0.010081037966301665,\n",
              "  -0.010081037966301665,\n",
              "  -0.010081037966301665,\n",
              "  -0.010081037966301665,\n",
              "  -0.010081037966301665,\n",
              "  -0.010081037966301665,\n",
              "  -0.010081037966301665,\n",
              "  -0.010081037966301665,\n",
              "  -0.010081037966301665,\n",
              "  -0.010081037966301665,\n",
              "  -0.010081037966301665,\n",
              "  -0.010081037966301665,\n",
              "  -0.010081037966301665,\n",
              "  -0.010081037966301665,\n",
              "  -0.010081037966301665,\n",
              "  -0.010081037966301665,\n",
              "  -0.010081037966301665],\n",
              " 5: [3.142919649690157e-05,\n",
              "  3.142919649690157e-05,\n",
              "  3.142919649690157e-05,\n",
              "  3.142919649690157e-05,\n",
              "  3.142919649690157e-05,\n",
              "  3.142919649690157e-05,\n",
              "  3.142919649690157e-05,\n",
              "  3.142919649690157e-05,\n",
              "  3.142919649690157e-05,\n",
              "  3.142919649690157e-05,\n",
              "  3.142919649690157e-05,\n",
              "  3.142919649690157e-05,\n",
              "  3.142919649690157e-05,\n",
              "  3.142919649690157e-05,\n",
              "  3.142919649690157e-05,\n",
              "  3.142919649690157e-05,\n",
              "  3.142919649690157e-05,\n",
              "  3.142919649690157e-05,\n",
              "  3.142919649690157e-05,\n",
              "  3.142919649690157e-05,\n",
              "  3.142919649690157e-05,\n",
              "  3.142919649690157e-05,\n",
              "  3.142919649690157e-05,\n",
              "  3.142919649690157e-05,\n",
              "  3.142919649690157e-05,\n",
              "  3.142919649690157e-05,\n",
              "  3.142919649690157e-05,\n",
              "  3.142919649690157e-05,\n",
              "  3.142919649690157e-05,\n",
              "  3.142919649690157e-05,\n",
              "  3.142919649690157e-05,\n",
              "  3.142919649690157e-05,\n",
              "  3.142919649690157e-05,\n",
              "  3.142919649690157e-05,\n",
              "  3.142919649690157e-05,\n",
              "  3.142919649690157e-05,\n",
              "  3.142919649690157e-05,\n",
              "  3.142919649690157e-05,\n",
              "  3.142919649690157e-05,\n",
              "  3.142919649690157e-05,\n",
              "  3.142919649690157e-05,\n",
              "  3.142919649690157e-05,\n",
              "  3.142919649690157e-05,\n",
              "  3.142919649690157e-05,\n",
              "  3.142919649690157e-05,\n",
              "  3.142919649690157e-05,\n",
              "  3.142919649690157e-05,\n",
              "  3.142919649690157e-05,\n",
              "  3.142919649690157e-05,\n",
              "  3.142919649690157e-05,\n",
              "  3.142919649690157e-05,\n",
              "  3.142919649690157e-05,\n",
              "  3.142919649690157e-05,\n",
              "  3.142919649690157e-05,\n",
              "  3.142919649690157e-05,\n",
              "  3.142919649690157e-05,\n",
              "  3.142919649690157e-05,\n",
              "  3.142919649690157e-05,\n",
              "  3.142919649690157e-05,\n",
              "  3.142919649690157e-05,\n",
              "  3.142919649690157e-05,\n",
              "  3.142919649690157e-05,\n",
              "  3.142919649690157e-05,\n",
              "  3.142919649690157e-05,\n",
              "  3.142919649690157e-05,\n",
              "  3.142919649690157e-05,\n",
              "  3.142919649690157e-05,\n",
              "  3.142919649690157e-05,\n",
              "  3.142919649690157e-05,\n",
              "  3.142919649690157e-05,\n",
              "  3.142919649690157e-05,\n",
              "  3.142919649690157e-05,\n",
              "  3.142919649690157e-05,\n",
              "  3.142919649690157e-05,\n",
              "  3.142919649690157e-05,\n",
              "  3.142919649690157e-05,\n",
              "  3.142919649690157e-05,\n",
              "  3.142919649690157e-05,\n",
              "  3.142919649690157e-05,\n",
              "  3.142919649690157e-05,\n",
              "  3.142919649690157e-05,\n",
              "  3.142919649690157e-05,\n",
              "  3.142919649690157e-05,\n",
              "  3.142919649690157e-05,\n",
              "  3.142919649690157e-05,\n",
              "  3.142919649690157e-05,\n",
              "  3.142919649690157e-05,\n",
              "  3.142919649690157e-05,\n",
              "  3.142919649690157e-05,\n",
              "  3.142919649690157e-05,\n",
              "  3.142919649690157e-05,\n",
              "  3.142919649690157e-05,\n",
              "  3.142919649690157e-05,\n",
              "  3.142919649690157e-05,\n",
              "  3.142919649690157e-05,\n",
              "  3.142919649690157e-05,\n",
              "  3.142919649690157e-05,\n",
              "  3.142919649690157e-05,\n",
              "  3.142919649690157e-05,\n",
              "  3.142919649690157e-05,\n",
              "  3.142919649690157e-05,\n",
              "  3.142919649690157e-05,\n",
              "  3.142919649690157e-05,\n",
              "  3.142919649690157e-05,\n",
              "  3.142919649690157e-05,\n",
              "  3.142919649690157e-05,\n",
              "  3.142919649690157e-05,\n",
              "  3.142919649690157e-05,\n",
              "  3.142919649690157e-05,\n",
              "  3.142919649690157e-05,\n",
              "  3.142919649690157e-05,\n",
              "  3.142919649690157e-05,\n",
              "  3.142919649690157e-05,\n",
              "  3.142919649690157e-05,\n",
              "  3.142919649690157e-05,\n",
              "  3.142919649690157e-05,\n",
              "  3.142919649690157e-05,\n",
              "  3.142919649690157e-05,\n",
              "  3.142919649690157e-05,\n",
              "  3.142919649690157e-05,\n",
              "  3.142919649690157e-05,\n",
              "  3.142919649690157e-05,\n",
              "  3.142919649690157e-05,\n",
              "  3.142919649690157e-05,\n",
              "  3.142919649690157e-05,\n",
              "  3.142919649690157e-05,\n",
              "  3.142919649690157e-05,\n",
              "  3.142919649690157e-05],\n",
              " 53: [-0.00014576242756447755,\n",
              "  -0.00014576242756447755,\n",
              "  -0.00014576242756447755,\n",
              "  -0.00014576242756447755,\n",
              "  -0.00014576242756447755,\n",
              "  -0.00014576242756447755,\n",
              "  -0.00014576242756447755,\n",
              "  -0.00014576242756447755,\n",
              "  -0.00014576242756447755,\n",
              "  -0.00014576242756447755,\n",
              "  -0.00014576242756447755,\n",
              "  -0.00014576242756447755,\n",
              "  -0.00014576242756447755,\n",
              "  -0.00014576242756447755,\n",
              "  -0.00014576242756447755,\n",
              "  -0.00014576242756447755,\n",
              "  -0.00014576242756447755,\n",
              "  -0.00014576242756447755,\n",
              "  -0.00014576242756447755,\n",
              "  -0.00014576242756447755,\n",
              "  -0.00014576242756447755,\n",
              "  -0.00014576242756447755,\n",
              "  -0.00014576242756447755,\n",
              "  -0.00014576242756447755,\n",
              "  -0.00014576242756447755,\n",
              "  -0.00014576242756447755,\n",
              "  -0.00014576242756447755,\n",
              "  -0.00014576242756447755,\n",
              "  -0.00014576242756447755,\n",
              "  -0.00014576242756447755,\n",
              "  -0.00014576242756447755,\n",
              "  -0.00014576242756447755,\n",
              "  -0.00014576242756447755,\n",
              "  -0.00014576242756447755,\n",
              "  -0.00014576242756447755,\n",
              "  -0.00014576242756447755,\n",
              "  -0.00014576242756447755,\n",
              "  -0.00014576242756447755,\n",
              "  -0.00014576242756447755,\n",
              "  -0.00014576242756447755,\n",
              "  -0.00014576242756447755,\n",
              "  -0.00014576242756447755,\n",
              "  -0.00014576242756447755,\n",
              "  -0.00014576242756447755,\n",
              "  -0.00014576242756447755,\n",
              "  -0.00014576242756447755,\n",
              "  -0.00014576242756447755,\n",
              "  -0.00014576242756447755,\n",
              "  -0.00014576242756447755,\n",
              "  -0.00014576242756447755,\n",
              "  -0.00014576242756447755,\n",
              "  -0.00014576242756447755,\n",
              "  -0.00014576242756447755,\n",
              "  -0.00014576242756447755,\n",
              "  -0.00014576242756447755,\n",
              "  -0.00014576242756447755,\n",
              "  -0.00014576242756447755,\n",
              "  -0.00014576242756447755,\n",
              "  -0.00014576242756447755,\n",
              "  -0.00014576242756447755,\n",
              "  -0.00014576242756447755,\n",
              "  -0.00014576242756447755,\n",
              "  -0.00014576242756447755,\n",
              "  -0.00014576242756447755,\n",
              "  -0.00014576242756447755,\n",
              "  -0.00014576242756447755,\n",
              "  -0.00014576242756447755,\n",
              "  -0.00014576242756447755,\n",
              "  -0.00014576242756447755,\n",
              "  -0.00014576242756447755,\n",
              "  -0.00014576242756447755,\n",
              "  -0.00014576242756447755,\n",
              "  -0.00014576242756447755,\n",
              "  -0.00014576242756447755,\n",
              "  -0.00014576242756447755,\n",
              "  -0.00014576242756447755,\n",
              "  -0.00014576242756447755,\n",
              "  -0.00014576242756447755,\n",
              "  -0.00014576242756447755,\n",
              "  -0.00014576242756447755,\n",
              "  -0.00014576242756447755,\n",
              "  -0.00014576242756447755,\n",
              "  -0.00014576242756447755,\n",
              "  -0.00014576242756447755,\n",
              "  -0.00014576242756447755,\n",
              "  -0.00014576242756447755,\n",
              "  -0.00014576242756447755,\n",
              "  -0.00014576242756447755,\n",
              "  -0.00014576242756447755,\n",
              "  -0.00014576242756447755,\n",
              "  -0.00014576242756447755,\n",
              "  -0.00014576242756447755,\n",
              "  -0.00014576242756447755,\n",
              "  -0.00014576242756447755,\n",
              "  -0.00014576242756447755,\n",
              "  -0.00014576242756447755,\n",
              "  -0.00014576242756447755,\n",
              "  -0.00014576242756447755,\n",
              "  -0.00014576242756447755,\n",
              "  -0.00014576242756447755,\n",
              "  -0.00014576242756447755,\n",
              "  -0.00014576242756447755,\n",
              "  -0.00014576242756447755,\n",
              "  -0.00014576242756447755,\n",
              "  -0.00014576242756447755,\n",
              "  -0.00014576242756447755,\n",
              "  -0.00014576242756447755,\n",
              "  -0.00014576242756447755,\n",
              "  -0.00014576242756447755,\n",
              "  -0.00014576242756447755,\n",
              "  -0.00014576242756447755,\n",
              "  -0.00014576242756447755,\n",
              "  -0.00014576242756447755,\n",
              "  -0.00014576242756447755,\n",
              "  -0.00014576242756447755,\n",
              "  -0.00014576242756447755,\n",
              "  -0.00014576242756447755,\n",
              "  -0.00014576242756447755,\n",
              "  -0.00014576242756447755,\n",
              "  -0.00014576242756447755,\n",
              "  -0.00014576242756447755,\n",
              "  -0.00014576242756447755,\n",
              "  -0.00014576242756447755,\n",
              "  -0.00014576242756447755,\n",
              "  -0.00014576242756447755,\n",
              "  -0.00014576242756447755,\n",
              "  -0.00014576242756447755,\n",
              "  -0.00014576242756447755],\n",
              " 90: [-0.0047458792505494785,\n",
              "  -0.0047458792505494785,\n",
              "  -0.0047458792505494785,\n",
              "  -0.0047458792505494785,\n",
              "  -0.0047458792505494785,\n",
              "  -0.0047458792505494785,\n",
              "  -0.0047458792505494785,\n",
              "  -0.0047458792505494785,\n",
              "  -0.0047458792505494785,\n",
              "  -0.0047458792505494785,\n",
              "  -0.0047458792505494785,\n",
              "  -0.0047458792505494785,\n",
              "  -0.0047458792505494785,\n",
              "  -0.0047458792505494785,\n",
              "  -0.0047458792505494785,\n",
              "  -0.0047458792505494785,\n",
              "  -0.0047458792505494785,\n",
              "  -0.0047458792505494785,\n",
              "  -0.0047458792505494785,\n",
              "  -0.0047458792505494785,\n",
              "  -0.0047458792505494785,\n",
              "  -0.0047458792505494785,\n",
              "  -0.0047458792505494785,\n",
              "  -0.0047458792505494785,\n",
              "  -0.0047458792505494785,\n",
              "  -0.0047458792505494785,\n",
              "  -0.0047458792505494785,\n",
              "  -0.0047458792505494785,\n",
              "  -0.0047458792505494785,\n",
              "  -0.0047458792505494785,\n",
              "  -0.0047458792505494785,\n",
              "  -0.0047458792505494785,\n",
              "  -0.0047458792505494785,\n",
              "  -0.0047458792505494785,\n",
              "  -0.0047458792505494785,\n",
              "  -0.0047458792505494785,\n",
              "  -0.0047458792505494785,\n",
              "  -0.0047458792505494785,\n",
              "  -0.0047458792505494785,\n",
              "  -0.0047458792505494785,\n",
              "  -0.0047458792505494785,\n",
              "  -0.0047458792505494785,\n",
              "  -0.0047458792505494785,\n",
              "  -0.0047458792505494785,\n",
              "  -0.0047458792505494785,\n",
              "  -0.0047458792505494785,\n",
              "  -0.0047458792505494785,\n",
              "  -0.0047458792505494785,\n",
              "  -0.0047458792505494785,\n",
              "  -0.0047458792505494785,\n",
              "  -0.0047458792505494785,\n",
              "  -0.0047458792505494785,\n",
              "  -0.0047458792505494785,\n",
              "  -0.0047458792505494785,\n",
              "  -0.0047458792505494785,\n",
              "  -0.0047458792505494785,\n",
              "  -0.0047458792505494785,\n",
              "  -0.0047458792505494785,\n",
              "  -0.0047458792505494785,\n",
              "  -0.0047458792505494785,\n",
              "  -0.0047458792505494785,\n",
              "  -0.0047458792505494785,\n",
              "  -0.0047458792505494785,\n",
              "  -0.0047458792505494785,\n",
              "  -0.0047458792505494785,\n",
              "  -0.0047458792505494785,\n",
              "  -0.0047458792505494785,\n",
              "  -0.0047458792505494785,\n",
              "  -0.0047458792505494785,\n",
              "  -0.0047458792505494785,\n",
              "  -0.0047458792505494785,\n",
              "  -0.0047458792505494785,\n",
              "  -0.0047458792505494785,\n",
              "  -0.0047458792505494785,\n",
              "  -0.0047458792505494785,\n",
              "  -0.0047458792505494785,\n",
              "  -0.0047458792505494785,\n",
              "  -0.0047458792505494785,\n",
              "  -0.0047458792505494785,\n",
              "  -0.0047458792505494785,\n",
              "  -0.0047458792505494785,\n",
              "  -0.0047458792505494785,\n",
              "  -0.0047458792505494785,\n",
              "  -0.0047458792505494785,\n",
              "  -0.0047458792505494785,\n",
              "  -0.0047458792505494785,\n",
              "  -0.0047458792505494785,\n",
              "  -0.0047458792505494785,\n",
              "  -0.0047458792505494785,\n",
              "  -0.0047458792505494785,\n",
              "  -0.0047458792505494785,\n",
              "  -0.0047458792505494785,\n",
              "  -0.0047458792505494785,\n",
              "  -0.0047458792505494785,\n",
              "  -0.0047458792505494785,\n",
              "  -0.0047458792505494785,\n",
              "  -0.0047458792505494785,\n",
              "  -0.0047458792505494785,\n",
              "  -0.0047458792505494785,\n",
              "  -0.0047458792505494785,\n",
              "  -0.0047458792505494785,\n",
              "  -0.0047458792505494785,\n",
              "  -0.0047458792505494785,\n",
              "  -0.0047458792505494785,\n",
              "  -0.0047458792505494785,\n",
              "  -0.0047458792505494785,\n",
              "  -0.0047458792505494785,\n",
              "  -0.0047458792505494785,\n",
              "  -0.0047458792505494785,\n",
              "  -0.0047458792505494785,\n",
              "  -0.0047458792505494785,\n",
              "  -0.0047458792505494785,\n",
              "  -0.0047458792505494785,\n",
              "  -0.0047458792505494785,\n",
              "  -0.0047458792505494785,\n",
              "  -0.0047458792505494785,\n",
              "  -0.0047458792505494785,\n",
              "  -0.0047458792505494785,\n",
              "  -0.0047458792505494785,\n",
              "  -0.0047458792505494785,\n",
              "  -0.0047458792505494785,\n",
              "  -0.0047458792505494785,\n",
              "  -0.0047458792505494785,\n",
              "  -0.0047458792505494785,\n",
              "  -0.0047458792505494785,\n",
              "  -0.0047458792505494785,\n",
              "  -0.0047458792505494785,\n",
              "  -0.0047458792505494785],\n",
              " 0: [-0.006798014070227509,\n",
              "  -0.006798014070227509,\n",
              "  -0.006798014070227509,\n",
              "  -0.006798014070227509,\n",
              "  -0.006798014070227509,\n",
              "  -0.006798014070227509,\n",
              "  -0.006798014070227509,\n",
              "  -0.006798014070227509,\n",
              "  -0.006798014070227509,\n",
              "  -0.006798014070227509,\n",
              "  -0.006798014070227509,\n",
              "  -0.006798014070227509,\n",
              "  -0.006798014070227509,\n",
              "  -0.006798014070227509,\n",
              "  -0.006798014070227509,\n",
              "  -0.006798014070227509,\n",
              "  -0.006798014070227509,\n",
              "  -0.006798014070227509,\n",
              "  -0.006798014070227509,\n",
              "  -0.006798014070227509,\n",
              "  -0.006798014070227509,\n",
              "  -0.006798014070227509,\n",
              "  -0.006798014070227509,\n",
              "  -0.006798014070227509,\n",
              "  -0.006798014070227509,\n",
              "  -0.006798014070227509,\n",
              "  -0.006798014070227509,\n",
              "  -0.006798014070227509,\n",
              "  -0.006798014070227509,\n",
              "  -0.006798014070227509,\n",
              "  -0.006798014070227509,\n",
              "  -0.006798014070227509,\n",
              "  -0.006798014070227509,\n",
              "  -0.006798014070227509,\n",
              "  -0.006798014070227509,\n",
              "  -0.006798014070227509,\n",
              "  -0.006798014070227509,\n",
              "  -0.006798014070227509,\n",
              "  -0.006798014070227509,\n",
              "  -0.006798014070227509,\n",
              "  -0.006798014070227509,\n",
              "  -0.006798014070227509,\n",
              "  -0.006798014070227509,\n",
              "  -0.006798014070227509,\n",
              "  -0.006798014070227509,\n",
              "  -0.006798014070227509,\n",
              "  -0.006798014070227509,\n",
              "  -0.006798014070227509,\n",
              "  -0.006798014070227509,\n",
              "  -0.006798014070227509,\n",
              "  -0.006798014070227509,\n",
              "  -0.006798014070227509,\n",
              "  -0.006798014070227509,\n",
              "  -0.006798014070227509,\n",
              "  -0.006798014070227509,\n",
              "  -0.006798014070227509,\n",
              "  -0.006798014070227509,\n",
              "  -0.006798014070227509,\n",
              "  -0.006798014070227509,\n",
              "  -0.006798014070227509,\n",
              "  -0.006798014070227509,\n",
              "  -0.006798014070227509,\n",
              "  -0.006798014070227509,\n",
              "  -0.006798014070227509,\n",
              "  -0.006798014070227509,\n",
              "  -0.006798014070227509,\n",
              "  -0.006798014070227509,\n",
              "  -0.006798014070227509,\n",
              "  -0.006798014070227509,\n",
              "  -0.006798014070227509,\n",
              "  -0.006798014070227509,\n",
              "  -0.006798014070227509,\n",
              "  -0.006798014070227509,\n",
              "  -0.006798014070227509,\n",
              "  -0.006798014070227509,\n",
              "  -0.006798014070227509,\n",
              "  -0.006798014070227509,\n",
              "  -0.006798014070227509,\n",
              "  -0.006798014070227509,\n",
              "  -0.006798014070227509,\n",
              "  -0.006798014070227509,\n",
              "  -0.006798014070227509,\n",
              "  -0.006798014070227509,\n",
              "  -0.006798014070227509,\n",
              "  -0.006798014070227509,\n",
              "  -0.006798014070227509,\n",
              "  -0.006798014070227509,\n",
              "  -0.006798014070227509,\n",
              "  -0.006798014070227509,\n",
              "  -0.006798014070227509,\n",
              "  -0.006798014070227509,\n",
              "  -0.006798014070227509,\n",
              "  -0.006798014070227509,\n",
              "  -0.006798014070227509,\n",
              "  -0.006798014070227509,\n",
              "  -0.006798014070227509,\n",
              "  -0.006798014070227509,\n",
              "  -0.006798014070227509,\n",
              "  -0.006798014070227509,\n",
              "  -0.006798014070227509,\n",
              "  -0.006798014070227509,\n",
              "  -0.006798014070227509,\n",
              "  -0.006798014070227509,\n",
              "  -0.006798014070227509,\n",
              "  -0.006798014070227509,\n",
              "  -0.006798014070227509,\n",
              "  -0.006798014070227509,\n",
              "  -0.006798014070227509,\n",
              "  -0.006798014070227509,\n",
              "  -0.006798014070227509,\n",
              "  -0.006798014070227509,\n",
              "  -0.006798014070227509,\n",
              "  -0.006798014070227509,\n",
              "  -0.006798014070227509,\n",
              "  -0.006798014070227509,\n",
              "  -0.006798014070227509,\n",
              "  -0.006798014070227509,\n",
              "  -0.006798014070227509,\n",
              "  -0.006798014070227509,\n",
              "  -0.006798014070227509,\n",
              "  -0.006798014070227509,\n",
              "  -0.006798014070227509,\n",
              "  -0.006798014070227509,\n",
              "  -0.006798014070227509,\n",
              "  -0.006798014070227509,\n",
              "  -0.006798014070227509,\n",
              "  -0.006798014070227509,\n",
              "  -0.006798014070227509],\n",
              " 92: [0.002004485666475375,\n",
              "  0.002004485666475375,\n",
              "  0.002004485666475375,\n",
              "  0.002004485666475375,\n",
              "  0.002004485666475375,\n",
              "  0.002004485666475375,\n",
              "  0.002004485666475375,\n",
              "  0.002004485666475375,\n",
              "  0.002004485666475375,\n",
              "  0.002004485666475375,\n",
              "  0.002004485666475375,\n",
              "  0.002004485666475375,\n",
              "  0.002004485666475375,\n",
              "  0.002004485666475375,\n",
              "  0.002004485666475375,\n",
              "  0.002004485666475375,\n",
              "  0.002004485666475375,\n",
              "  0.002004485666475375,\n",
              "  0.002004485666475375,\n",
              "  0.002004485666475375,\n",
              "  0.002004485666475375,\n",
              "  0.002004485666475375,\n",
              "  0.002004485666475375,\n",
              "  0.002004485666475375,\n",
              "  0.002004485666475375,\n",
              "  0.002004485666475375,\n",
              "  0.002004485666475375,\n",
              "  0.002004485666475375,\n",
              "  0.002004485666475375,\n",
              "  0.002004485666475375,\n",
              "  0.002004485666475375,\n",
              "  0.002004485666475375,\n",
              "  0.002004485666475375,\n",
              "  0.002004485666475375,\n",
              "  0.002004485666475375,\n",
              "  0.002004485666475375,\n",
              "  0.002004485666475375,\n",
              "  0.002004485666475375,\n",
              "  0.002004485666475375,\n",
              "  0.002004485666475375,\n",
              "  0.002004485666475375,\n",
              "  0.002004485666475375,\n",
              "  0.002004485666475375,\n",
              "  0.002004485666475375,\n",
              "  0.002004485666475375,\n",
              "  0.002004485666475375,\n",
              "  0.002004485666475375,\n",
              "  0.002004485666475375,\n",
              "  0.002004485666475375,\n",
              "  0.002004485666475375,\n",
              "  0.002004485666475375,\n",
              "  0.002004485666475375,\n",
              "  0.002004485666475375,\n",
              "  0.002004485666475375,\n",
              "  0.002004485666475375,\n",
              "  0.002004485666475375,\n",
              "  0.002004485666475375,\n",
              "  0.002004485666475375,\n",
              "  0.002004485666475375,\n",
              "  0.002004485666475375,\n",
              "  0.002004485666475375,\n",
              "  0.002004485666475375,\n",
              "  0.002004485666475375,\n",
              "  0.002004485666475375,\n",
              "  0.002004485666475375,\n",
              "  0.002004485666475375,\n",
              "  0.002004485666475375,\n",
              "  0.002004485666475375,\n",
              "  0.002004485666475375,\n",
              "  0.002004485666475375,\n",
              "  0.002004485666475375,\n",
              "  0.002004485666475375,\n",
              "  0.002004485666475375,\n",
              "  0.002004485666475375,\n",
              "  0.002004485666475375,\n",
              "  0.002004485666475375,\n",
              "  0.002004485666475375,\n",
              "  0.002004485666475375,\n",
              "  0.002004485666475375,\n",
              "  0.002004485666475375,\n",
              "  0.002004485666475375,\n",
              "  0.002004485666475375,\n",
              "  0.002004485666475375,\n",
              "  0.002004485666475375,\n",
              "  0.002004485666475375,\n",
              "  0.002004485666475375,\n",
              "  0.002004485666475375,\n",
              "  0.002004485666475375,\n",
              "  0.002004485666475375,\n",
              "  0.002004485666475375,\n",
              "  0.002004485666475375,\n",
              "  0.002004485666475375,\n",
              "  0.002004485666475375,\n",
              "  0.002004485666475375,\n",
              "  0.002004485666475375,\n",
              "  0.002004485666475375,\n",
              "  0.002004485666475375,\n",
              "  0.002004485666475375,\n",
              "  0.002004485666475375,\n",
              "  0.002004485666475375,\n",
              "  0.002004485666475375,\n",
              "  0.002004485666475375,\n",
              "  0.002004485666475375,\n",
              "  0.002004485666475375,\n",
              "  0.002004485666475375,\n",
              "  0.002004485666475375,\n",
              "  0.002004485666475375,\n",
              "  0.002004485666475375,\n",
              "  0.002004485666475375,\n",
              "  0.002004485666475375,\n",
              "  0.002004485666475375,\n",
              "  0.002004485666475375,\n",
              "  0.002004485666475375,\n",
              "  0.002004485666475375,\n",
              "  0.002004485666475375,\n",
              "  0.002004485666475375,\n",
              "  0.002004485666475375,\n",
              "  0.002004485666475375,\n",
              "  0.002004485666475375,\n",
              "  0.002004485666475375,\n",
              "  0.002004485666475375,\n",
              "  0.002004485666475375,\n",
              "  0.002004485666475375,\n",
              "  0.002004485666475375,\n",
              "  0.002004485666475375,\n",
              "  0.002004485666475375,\n",
              "  0.002004485666475375,\n",
              "  0.002004485666475375],\n",
              " 9: [0.0004330956244302797,\n",
              "  0.0004330956244302797,\n",
              "  0.0004330956244302797,\n",
              "  0.0004330956244302797,\n",
              "  0.0004330956244302797,\n",
              "  0.0004330956244302797,\n",
              "  0.0004330956244302797,\n",
              "  0.0004330956244302797,\n",
              "  0.0004330956244302797,\n",
              "  0.0004330956244302797,\n",
              "  0.0004330956244302797,\n",
              "  0.0004330956244302797,\n",
              "  0.0004330956244302797,\n",
              "  0.0004330956244302797,\n",
              "  0.0004330956244302797,\n",
              "  0.0004330956244302797,\n",
              "  0.0004330956244302797,\n",
              "  0.0004330956244302797,\n",
              "  0.0004330956244302797,\n",
              "  0.0004330956244302797,\n",
              "  0.0004330956244302797,\n",
              "  0.0004330956244302797,\n",
              "  0.0004330956244302797,\n",
              "  0.0004330956244302797,\n",
              "  0.0004330956244302797,\n",
              "  0.0004330956244302797,\n",
              "  0.0004330956244302797,\n",
              "  0.0004330956244302797,\n",
              "  0.0004330956244302797,\n",
              "  0.0004330956244302797,\n",
              "  0.0004330956244302797,\n",
              "  0.0004330956244302797,\n",
              "  0.0004330956244302797,\n",
              "  0.0004330956244302797,\n",
              "  0.0004330956244302797,\n",
              "  0.0004330956244302797,\n",
              "  0.0004330956244302797,\n",
              "  0.0004330956244302797,\n",
              "  0.0004330956244302797,\n",
              "  0.0004330956244302797,\n",
              "  0.0004330956244302797,\n",
              "  0.0004330956244302797,\n",
              "  0.0004330956244302797,\n",
              "  0.0004330956244302797,\n",
              "  0.0004330956244302797,\n",
              "  0.0004330956244302797,\n",
              "  0.0004330956244302797,\n",
              "  0.0004330956244302797,\n",
              "  0.0004330956244302797,\n",
              "  0.0004330956244302797,\n",
              "  0.0004330956244302797,\n",
              "  0.0004330956244302797,\n",
              "  0.0004330956244302797,\n",
              "  0.0004330956244302797,\n",
              "  0.0004330956244302797,\n",
              "  0.0004330956244302797,\n",
              "  0.0004330956244302797,\n",
              "  0.0004330956244302797,\n",
              "  0.0004330956244302797,\n",
              "  0.0004330956244302797,\n",
              "  0.0004330956244302797,\n",
              "  0.0004330956244302797,\n",
              "  0.0004330956244302797,\n",
              "  0.0004330956244302797,\n",
              "  0.0004330956244302797,\n",
              "  0.0004330956244302797,\n",
              "  0.0004330956244302797,\n",
              "  0.0004330956244302797,\n",
              "  0.0004330956244302797,\n",
              "  0.0004330956244302797,\n",
              "  0.0004330956244302797,\n",
              "  0.0004330956244302797,\n",
              "  0.0004330956244302797,\n",
              "  0.0004330956244302797,\n",
              "  0.0004330956244302797,\n",
              "  0.0004330956244302797,\n",
              "  0.0004330956244302797,\n",
              "  0.0004330956244302797,\n",
              "  0.0004330956244302797,\n",
              "  0.0004330956244302797,\n",
              "  0.0004330956244302797,\n",
              "  0.0004330956244302797,\n",
              "  0.0004330956244302797,\n",
              "  0.0004330956244302797,\n",
              "  0.0004330956244302797,\n",
              "  0.0004330956244302797,\n",
              "  0.0004330956244302797,\n",
              "  0.0004330956244302797,\n",
              "  0.0004330956244302797,\n",
              "  0.0004330956244302797,\n",
              "  0.0004330956244302797,\n",
              "  0.0004330956244302797,\n",
              "  0.0004330956244302797,\n",
              "  0.0004330956244302797,\n",
              "  0.0004330956244302797,\n",
              "  0.0004330956244302797,\n",
              "  0.0004330956244302797,\n",
              "  0.0004330956244302797,\n",
              "  0.0004330956244302797,\n",
              "  0.0004330956244302797,\n",
              "  0.0004330956244302797,\n",
              "  0.0004330956244302797,\n",
              "  0.0004330956244302797,\n",
              "  0.0004330956244302797,\n",
              "  0.0004330956244302797,\n",
              "  0.0004330956244302797,\n",
              "  0.0004330956244302797,\n",
              "  0.0004330956244302797,\n",
              "  0.0004330956244302797,\n",
              "  0.0004330956244302797,\n",
              "  0.0004330956244302797,\n",
              "  0.0004330956244302797,\n",
              "  0.0004330956244302797,\n",
              "  0.0004330956244302797,\n",
              "  0.0004330956244302797,\n",
              "  0.0004330956244302797,\n",
              "  0.0004330956244302797,\n",
              "  0.0004330956244302797,\n",
              "  0.0004330956244302797,\n",
              "  0.0004330956244302797,\n",
              "  0.0004330956244302797,\n",
              "  0.0004330956244302797,\n",
              "  0.0004330956244302797,\n",
              "  0.0004330956244302797,\n",
              "  0.0004330956244302797,\n",
              "  0.0004330956244302797,\n",
              "  0.0004330956244302797,\n",
              "  0.0004330956244302797],\n",
              " 68: [-0.008145624068674806,\n",
              "  -0.008145624068674806,\n",
              "  -0.008145624068674806,\n",
              "  -0.008145624068674806,\n",
              "  -0.008145624068674806,\n",
              "  -0.008145624068674806,\n",
              "  -0.008145624068674806,\n",
              "  -0.008145624068674806,\n",
              "  -0.008145624068674806,\n",
              "  -0.008145624068674806,\n",
              "  -0.008145624068674806,\n",
              "  -0.008145624068674806,\n",
              "  -0.008145624068674806,\n",
              "  -0.008145624068674806,\n",
              "  -0.008145624068674806,\n",
              "  -0.008145624068674806,\n",
              "  -0.008145624068674806,\n",
              "  -0.008145624068674806,\n",
              "  -0.008145624068674806,\n",
              "  -0.008145624068674806,\n",
              "  -0.008145624068674806,\n",
              "  -0.008145624068674806,\n",
              "  -0.008145624068674806,\n",
              "  -0.008145624068674806,\n",
              "  -0.008145624068674806,\n",
              "  -0.008145624068674806,\n",
              "  -0.008145624068674806,\n",
              "  -0.008145624068674806,\n",
              "  -0.008145624068674806,\n",
              "  -0.008145624068674806,\n",
              "  -0.008145624068674806,\n",
              "  -0.008145624068674806,\n",
              "  -0.008145624068674806,\n",
              "  -0.008145624068674806,\n",
              "  -0.008145624068674806,\n",
              "  -0.008145624068674806,\n",
              "  -0.008145624068674806,\n",
              "  -0.008145624068674806,\n",
              "  -0.008145624068674806,\n",
              "  -0.008145624068674806,\n",
              "  -0.008145624068674806,\n",
              "  -0.008145624068674806,\n",
              "  -0.008145624068674806,\n",
              "  -0.008145624068674806,\n",
              "  -0.008145624068674806,\n",
              "  -0.008145624068674806,\n",
              "  -0.008145624068674806,\n",
              "  -0.008145624068674806,\n",
              "  -0.008145624068674806,\n",
              "  -0.008145624068674806,\n",
              "  -0.008145624068674806,\n",
              "  -0.008145624068674806,\n",
              "  -0.008145624068674806,\n",
              "  -0.008145624068674806,\n",
              "  -0.008145624068674806,\n",
              "  -0.008145624068674806,\n",
              "  -0.008145624068674806,\n",
              "  -0.008145624068674806,\n",
              "  -0.008145624068674806,\n",
              "  -0.008145624068674806,\n",
              "  -0.008145624068674806,\n",
              "  -0.008145624068674806,\n",
              "  -0.008145624068674806,\n",
              "  -0.008145624068674806,\n",
              "  -0.008145624068674806,\n",
              "  -0.008145624068674806,\n",
              "  -0.008145624068674806,\n",
              "  -0.008145624068674806,\n",
              "  -0.008145624068674806,\n",
              "  -0.008145624068674806,\n",
              "  -0.008145624068674806,\n",
              "  -0.008145624068674806,\n",
              "  -0.008145624068674806,\n",
              "  -0.008145624068674806,\n",
              "  -0.008145624068674806,\n",
              "  -0.008145624068674806,\n",
              "  -0.008145624068674806,\n",
              "  -0.008145624068674806,\n",
              "  -0.008145624068674806,\n",
              "  -0.008145624068674806,\n",
              "  -0.008145624068674806,\n",
              "  -0.008145624068674806,\n",
              "  -0.008145624068674806,\n",
              "  -0.008145624068674806,\n",
              "  -0.008145624068674806,\n",
              "  -0.008145624068674806,\n",
              "  -0.008145624068674806,\n",
              "  -0.008145624068674806,\n",
              "  -0.008145624068674806,\n",
              "  -0.008145624068674806,\n",
              "  -0.008145624068674806,\n",
              "  -0.008145624068674806,\n",
              "  -0.008145624068674806,\n",
              "  -0.008145624068674806,\n",
              "  -0.008145624068674806,\n",
              "  -0.008145624068674806,\n",
              "  -0.008145624068674806,\n",
              "  -0.008145624068674806,\n",
              "  -0.008145624068674806,\n",
              "  -0.008145624068674806,\n",
              "  -0.008145624068674806,\n",
              "  -0.008145624068674806,\n",
              "  -0.008145624068674806,\n",
              "  -0.008145624068674806,\n",
              "  -0.008145624068674806,\n",
              "  -0.008145624068674806,\n",
              "  -0.008145624068674806,\n",
              "  -0.008145624068674806,\n",
              "  -0.008145624068674806,\n",
              "  -0.008145624068674806,\n",
              "  -0.008145624068674806,\n",
              "  -0.008145624068674806,\n",
              "  -0.008145624068674806,\n",
              "  -0.008145624068674806,\n",
              "  -0.008145624068674806,\n",
              "  -0.008145624068674806,\n",
              "  -0.008145624068674806,\n",
              "  -0.008145624068674806,\n",
              "  -0.008145624068674806,\n",
              "  -0.008145624068674806,\n",
              "  -0.008145624068674806,\n",
              "  -0.008145624068674806,\n",
              "  -0.008145624068674806,\n",
              "  -0.008145624068674806,\n",
              "  -0.008145624068674806,\n",
              "  -0.008145624068674806,\n",
              "  -0.008145624068674806,\n",
              "  -0.008145624068674806],\n",
              " 8: [0.005278139444271801,\n",
              "  0.005278139444271801,\n",
              "  0.005278139444271801,\n",
              "  0.005278139444271801,\n",
              "  0.005278139444271801,\n",
              "  0.005278139444271801,\n",
              "  0.005278139444271801,\n",
              "  0.005278139444271801,\n",
              "  0.005278139444271801,\n",
              "  0.005278139444271801,\n",
              "  0.005278139444271801,\n",
              "  0.005278139444271801,\n",
              "  0.005278139444271801,\n",
              "  0.005278139444271801,\n",
              "  0.005278139444271801,\n",
              "  0.005278139444271801,\n",
              "  0.005278139444271801,\n",
              "  0.005278139444271801,\n",
              "  0.005278139444271801,\n",
              "  0.005278139444271801,\n",
              "  0.005278139444271801,\n",
              "  0.005278139444271801,\n",
              "  0.005278139444271801,\n",
              "  0.005278139444271801,\n",
              "  0.005278139444271801,\n",
              "  0.005278139444271801,\n",
              "  0.005278139444271801,\n",
              "  0.005278139444271801,\n",
              "  0.005278139444271801,\n",
              "  0.005278139444271801,\n",
              "  0.005278139444271801,\n",
              "  0.005278139444271801,\n",
              "  0.005278139444271801,\n",
              "  0.005278139444271801,\n",
              "  0.005278139444271801,\n",
              "  0.005278139444271801,\n",
              "  0.005278139444271801,\n",
              "  0.005278139444271801,\n",
              "  0.005278139444271801,\n",
              "  0.005278139444271801,\n",
              "  0.005278139444271801,\n",
              "  0.005278139444271801,\n",
              "  0.005278139444271801,\n",
              "  0.005278139444271801,\n",
              "  0.005278139444271801,\n",
              "  0.005278139444271801,\n",
              "  0.005278139444271801,\n",
              "  0.005278139444271801,\n",
              "  0.005278139444271801,\n",
              "  0.005278139444271801,\n",
              "  0.005278139444271801,\n",
              "  0.005278139444271801,\n",
              "  0.005278139444271801,\n",
              "  0.005278139444271801,\n",
              "  0.005278139444271801,\n",
              "  0.005278139444271801,\n",
              "  0.005278139444271801,\n",
              "  0.005278139444271801,\n",
              "  0.005278139444271801,\n",
              "  0.005278139444271801,\n",
              "  0.005278139444271801,\n",
              "  0.005278139444271801,\n",
              "  0.005278139444271801,\n",
              "  0.005278139444271801,\n",
              "  0.005278139444271801,\n",
              "  0.005278139444271801,\n",
              "  0.005278139444271801,\n",
              "  0.005278139444271801,\n",
              "  0.005278139444271801,\n",
              "  0.005278139444271801,\n",
              "  0.005278139444271801,\n",
              "  0.005278139444271801,\n",
              "  0.005278139444271801,\n",
              "  0.005278139444271801,\n",
              "  0.005278139444271801,\n",
              "  0.005278139444271801,\n",
              "  0.005278139444271801,\n",
              "  0.005278139444271801,\n",
              "  0.005278139444271801,\n",
              "  0.005278139444271801,\n",
              "  0.005278139444271801,\n",
              "  0.005278139444271801,\n",
              "  0.005278139444271801,\n",
              "  0.005278139444271801,\n",
              "  0.005278139444271801,\n",
              "  0.005278139444271801,\n",
              "  0.005278139444271801,\n",
              "  0.005278139444271801,\n",
              "  0.005278139444271801,\n",
              "  0.005278139444271801,\n",
              "  0.005278139444271801,\n",
              "  0.005278139444271801,\n",
              "  0.005278139444271801,\n",
              "  0.005278139444271801,\n",
              "  0.005278139444271801,\n",
              "  0.005278139444271801,\n",
              "  0.005278139444271801,\n",
              "  0.005278139444271801,\n",
              "  0.005278139444271801,\n",
              "  0.005278139444271801,\n",
              "  0.005278139444271801,\n",
              "  0.005278139444271801,\n",
              "  0.005278139444271801,\n",
              "  0.005278139444271801,\n",
              "  0.005278139444271801,\n",
              "  0.005278139444271801,\n",
              "  0.005278139444271801,\n",
              "  0.005278139444271801,\n",
              "  0.005278139444271801,\n",
              "  0.005278139444271801,\n",
              "  0.005278139444271801,\n",
              "  0.005278139444271801,\n",
              "  0.005278139444271801,\n",
              "  0.005278139444271801,\n",
              "  0.005278139444271801,\n",
              "  0.005278139444271801,\n",
              "  0.005278139444271801,\n",
              "  0.005278139444271801,\n",
              "  0.005278139444271801,\n",
              "  0.005278139444271801,\n",
              "  0.005278139444271801,\n",
              "  0.005278139444271801,\n",
              "  0.005278139444271801,\n",
              "  0.005278139444271801,\n",
              "  0.005278139444271801,\n",
              "  0.005278139444271801,\n",
              "  0.005278139444271801,\n",
              "  0.005278139444271801],\n",
              " 28: [-0.00256355621968396,\n",
              "  -0.00256355621968396,\n",
              "  -0.00256355621968396,\n",
              "  -0.00256355621968396,\n",
              "  -0.00256355621968396,\n",
              "  -0.00256355621968396,\n",
              "  -0.00256355621968396,\n",
              "  -0.00256355621968396,\n",
              "  -0.00256355621968396,\n",
              "  -0.00256355621968396,\n",
              "  -0.00256355621968396,\n",
              "  -0.00256355621968396,\n",
              "  -0.00256355621968396,\n",
              "  -0.00256355621968396,\n",
              "  -0.00256355621968396,\n",
              "  -0.00256355621968396,\n",
              "  -0.00256355621968396,\n",
              "  -0.00256355621968396,\n",
              "  -0.00256355621968396,\n",
              "  -0.00256355621968396,\n",
              "  -0.00256355621968396,\n",
              "  -0.00256355621968396,\n",
              "  -0.00256355621968396,\n",
              "  -0.00256355621968396,\n",
              "  -0.00256355621968396,\n",
              "  -0.00256355621968396,\n",
              "  -0.00256355621968396,\n",
              "  -0.00256355621968396,\n",
              "  -0.00256355621968396,\n",
              "  -0.00256355621968396,\n",
              "  -0.00256355621968396,\n",
              "  -0.00256355621968396,\n",
              "  -0.00256355621968396,\n",
              "  -0.00256355621968396,\n",
              "  -0.00256355621968396,\n",
              "  -0.00256355621968396,\n",
              "  -0.00256355621968396,\n",
              "  -0.00256355621968396,\n",
              "  -0.00256355621968396,\n",
              "  -0.00256355621968396,\n",
              "  -0.00256355621968396,\n",
              "  -0.00256355621968396,\n",
              "  -0.00256355621968396,\n",
              "  -0.00256355621968396,\n",
              "  -0.00256355621968396,\n",
              "  -0.00256355621968396,\n",
              "  -0.00256355621968396,\n",
              "  -0.00256355621968396,\n",
              "  -0.00256355621968396,\n",
              "  -0.00256355621968396,\n",
              "  -0.00256355621968396,\n",
              "  -0.00256355621968396,\n",
              "  -0.00256355621968396,\n",
              "  -0.00256355621968396,\n",
              "  -0.00256355621968396,\n",
              "  -0.00256355621968396,\n",
              "  -0.00256355621968396,\n",
              "  -0.00256355621968396,\n",
              "  -0.00256355621968396,\n",
              "  -0.00256355621968396,\n",
              "  -0.00256355621968396,\n",
              "  -0.00256355621968396,\n",
              "  -0.00256355621968396,\n",
              "  -0.00256355621968396,\n",
              "  -0.00256355621968396,\n",
              "  -0.00256355621968396,\n",
              "  -0.00256355621968396,\n",
              "  -0.00256355621968396,\n",
              "  -0.00256355621968396,\n",
              "  -0.00256355621968396,\n",
              "  -0.00256355621968396,\n",
              "  -0.00256355621968396,\n",
              "  -0.00256355621968396,\n",
              "  -0.00256355621968396,\n",
              "  -0.00256355621968396,\n",
              "  -0.00256355621968396,\n",
              "  -0.00256355621968396,\n",
              "  -0.00256355621968396,\n",
              "  -0.00256355621968396,\n",
              "  -0.00256355621968396,\n",
              "  -0.00256355621968396,\n",
              "  -0.00256355621968396,\n",
              "  -0.00256355621968396,\n",
              "  -0.00256355621968396,\n",
              "  -0.00256355621968396,\n",
              "  -0.00256355621968396,\n",
              "  -0.00256355621968396,\n",
              "  -0.00256355621968396,\n",
              "  -0.00256355621968396,\n",
              "  -0.00256355621968396,\n",
              "  -0.00256355621968396,\n",
              "  -0.00256355621968396,\n",
              "  -0.00256355621968396,\n",
              "  -0.00256355621968396,\n",
              "  -0.00256355621968396,\n",
              "  -0.00256355621968396,\n",
              "  -0.00256355621968396,\n",
              "  -0.00256355621968396,\n",
              "  -0.00256355621968396,\n",
              "  -0.00256355621968396,\n",
              "  -0.00256355621968396,\n",
              "  -0.00256355621968396,\n",
              "  -0.00256355621968396,\n",
              "  -0.00256355621968396,\n",
              "  -0.00256355621968396,\n",
              "  -0.00256355621968396,\n",
              "  -0.00256355621968396,\n",
              "  -0.00256355621968396,\n",
              "  -0.00256355621968396,\n",
              "  -0.00256355621968396,\n",
              "  -0.00256355621968396,\n",
              "  -0.00256355621968396,\n",
              "  -0.00256355621968396,\n",
              "  -0.00256355621968396,\n",
              "  -0.00256355621968396,\n",
              "  -0.00256355621968396,\n",
              "  -0.00256355621968396,\n",
              "  -0.00256355621968396,\n",
              "  -0.00256355621968396,\n",
              "  -0.00256355621968396,\n",
              "  -0.00256355621968396,\n",
              "  -0.00256355621968396,\n",
              "  -0.00256355621968396,\n",
              "  -0.00256355621968396,\n",
              "  -0.00256355621968396,\n",
              "  -0.00256355621968396,\n",
              "  -0.00256355621968396,\n",
              "  -0.00256355621968396],\n",
              " 50: [0.0007517706235375954,\n",
              "  0.0007517706235375954,\n",
              "  0.0007517706235375954,\n",
              "  0.0007517706235375954,\n",
              "  0.0007517706235375954,\n",
              "  0.0007517706235375954,\n",
              "  0.0007517706235375954,\n",
              "  0.0007517706235375954,\n",
              "  0.0007517706235375954,\n",
              "  0.0007517706235375954,\n",
              "  0.0007517706235375954,\n",
              "  0.0007517706235375954,\n",
              "  0.0007517706235375954,\n",
              "  0.0007517706235375954,\n",
              "  0.0007517706235375954,\n",
              "  0.0007517706235375954,\n",
              "  0.0007517706235375954,\n",
              "  0.0007517706235375954,\n",
              "  0.0007517706235375954,\n",
              "  0.0007517706235375954,\n",
              "  0.0007517706235375954,\n",
              "  0.0007517706235375954,\n",
              "  0.0007517706235375954,\n",
              "  0.0007517706235375954,\n",
              "  0.0007517706235375954,\n",
              "  0.0007517706235375954,\n",
              "  0.0007517706235375954,\n",
              "  0.0007517706235375954,\n",
              "  0.0007517706235375954,\n",
              "  0.0007517706235375954,\n",
              "  0.0007517706235375954,\n",
              "  0.0007517706235375954,\n",
              "  0.0007517706235375954,\n",
              "  0.0007517706235375954,\n",
              "  0.0007517706235375954,\n",
              "  0.0007517706235375954,\n",
              "  0.0007517706235375954,\n",
              "  0.0007517706235375954,\n",
              "  0.0007517706235375954,\n",
              "  0.0007517706235375954,\n",
              "  0.0007517706235375954,\n",
              "  0.0007517706235375954,\n",
              "  0.0007517706235375954,\n",
              "  0.0007517706235375954,\n",
              "  0.0007517706235375954,\n",
              "  0.0007517706235375954,\n",
              "  0.0007517706235375954,\n",
              "  0.0007517706235375954,\n",
              "  0.0007517706235375954,\n",
              "  0.0007517706235375954,\n",
              "  0.0007517706235375954,\n",
              "  0.0007517706235375954,\n",
              "  0.0007517706235375954,\n",
              "  0.0007517706235375954,\n",
              "  0.0007517706235375954,\n",
              "  0.0007517706235375954,\n",
              "  0.0007517706235375954,\n",
              "  0.0007517706235375954,\n",
              "  0.0007517706235375954,\n",
              "  0.0007517706235375954,\n",
              "  0.0007517706235375954,\n",
              "  0.0007517706235375954,\n",
              "  0.0007517706235375954,\n",
              "  0.0007517706235375954,\n",
              "  0.0007517706235375954,\n",
              "  0.0007517706235375954,\n",
              "  0.0007517706235375954,\n",
              "  0.0007517706235375954,\n",
              "  0.0007517706235375954,\n",
              "  0.0007517706235375954,\n",
              "  0.0007517706235375954,\n",
              "  0.0007517706235375954,\n",
              "  0.0007517706235375954,\n",
              "  0.0007517706235375954,\n",
              "  0.0007517706235375954,\n",
              "  0.0007517706235375954,\n",
              "  0.0007517706235375954,\n",
              "  0.0007517706235375954,\n",
              "  0.0007517706235375954,\n",
              "  0.0007517706235375954,\n",
              "  0.0007517706235375954,\n",
              "  0.0007517706235375954,\n",
              "  0.0007517706235375954,\n",
              "  0.0007517706235375954,\n",
              "  0.0007517706235375954,\n",
              "  0.0007517706235375954,\n",
              "  0.0007517706235375954,\n",
              "  0.0007517706235375954,\n",
              "  0.0007517706235375954,\n",
              "  0.0007517706235375954,\n",
              "  0.0007517706235375954,\n",
              "  0.0007517706235375954,\n",
              "  0.0007517706235375954,\n",
              "  0.0007517706235375954,\n",
              "  0.0007517706235375954,\n",
              "  0.0007517706235375954,\n",
              "  0.0007517706235375954,\n",
              "  0.0007517706235375954,\n",
              "  0.0007517706235375954,\n",
              "  0.0007517706235375954,\n",
              "  0.0007517706235375954,\n",
              "  0.0007517706235375954,\n",
              "  0.0007517706235375954,\n",
              "  0.0007517706235375954,\n",
              "  0.0007517706235375954,\n",
              "  0.0007517706235375954,\n",
              "  0.0007517706235375954,\n",
              "  0.0007517706235375954,\n",
              "  0.0007517706235375954,\n",
              "  0.0007517706235375954,\n",
              "  0.0007517706235375954,\n",
              "  0.0007517706235375954,\n",
              "  0.0007517706235375954,\n",
              "  0.0007517706235375954,\n",
              "  0.0007517706235375954,\n",
              "  0.0007517706235375954,\n",
              "  0.0007517706235375954,\n",
              "  0.0007517706235375954,\n",
              "  0.0007517706235375954,\n",
              "  0.0007517706235375954,\n",
              "  0.0007517706235375954,\n",
              "  0.0007517706235375954,\n",
              "  0.0007517706235375954,\n",
              "  0.0007517706235375954,\n",
              "  0.0007517706235375954,\n",
              "  0.0007517706235375954,\n",
              "  0.0007517706235375954,\n",
              "  0.0007517706235375954],\n",
              " 22: [0.0013700718059226347,\n",
              "  0.0013700718059226347,\n",
              "  0.0013700718059226347,\n",
              "  0.0013700718059226347,\n",
              "  0.0013700718059226347,\n",
              "  0.0013700718059226347,\n",
              "  0.0013700718059226347,\n",
              "  0.0013700718059226347,\n",
              "  0.0013700718059226347,\n",
              "  0.0013700718059226347,\n",
              "  0.0013700718059226347,\n",
              "  0.0013700718059226347,\n",
              "  0.0013700718059226347,\n",
              "  0.0013700718059226347,\n",
              "  0.0013700718059226347,\n",
              "  0.0013700718059226347,\n",
              "  0.0013700718059226347,\n",
              "  0.0013700718059226347,\n",
              "  0.0013700718059226347,\n",
              "  0.0013700718059226347,\n",
              "  0.0013700718059226347,\n",
              "  0.0013700718059226347,\n",
              "  0.0013700718059226347,\n",
              "  0.0013700718059226347,\n",
              "  0.0013700718059226347,\n",
              "  0.0013700718059226347,\n",
              "  0.0013700718059226347,\n",
              "  0.0013700718059226347,\n",
              "  0.0013700718059226347,\n",
              "  0.0013700718059226347,\n",
              "  0.0013700718059226347,\n",
              "  0.0013700718059226347,\n",
              "  0.0013700718059226347,\n",
              "  0.0013700718059226347,\n",
              "  0.0013700718059226347,\n",
              "  0.0013700718059226347,\n",
              "  0.0013700718059226347,\n",
              "  0.0013700718059226347,\n",
              "  0.0013700718059226347,\n",
              "  0.0013700718059226347,\n",
              "  0.0013700718059226347,\n",
              "  0.0013700718059226347,\n",
              "  0.0013700718059226347,\n",
              "  0.0013700718059226347,\n",
              "  0.0013700718059226347,\n",
              "  0.0013700718059226347,\n",
              "  0.0013700718059226347,\n",
              "  0.0013700718059226347,\n",
              "  0.0013700718059226347,\n",
              "  0.0013700718059226347,\n",
              "  0.0013700718059226347,\n",
              "  0.0013700718059226347,\n",
              "  0.0013700718059226347,\n",
              "  0.0013700718059226347,\n",
              "  0.0013700718059226347,\n",
              "  0.0013700718059226347,\n",
              "  0.0013700718059226347,\n",
              "  0.0013700718059226347,\n",
              "  0.0013700718059226347,\n",
              "  0.0013700718059226347,\n",
              "  0.0013700718059226347,\n",
              "  0.0013700718059226347,\n",
              "  0.0013700718059226347,\n",
              "  0.0013700718059226347,\n",
              "  0.0013700718059226347,\n",
              "  0.0013700718059226347,\n",
              "  0.0013700718059226347,\n",
              "  0.0013700718059226347,\n",
              "  0.0013700718059226347,\n",
              "  0.0013700718059226347,\n",
              "  0.0013700718059226347,\n",
              "  0.0013700718059226347,\n",
              "  0.0013700718059226347,\n",
              "  0.0013700718059226347,\n",
              "  0.0013700718059226347,\n",
              "  0.0013700718059226347,\n",
              "  0.0013700718059226347,\n",
              "  0.0013700718059226347,\n",
              "  0.0013700718059226347,\n",
              "  0.0013700718059226347,\n",
              "  0.0013700718059226347,\n",
              "  0.0013700718059226347,\n",
              "  0.0013700718059226347,\n",
              "  0.0013700718059226347,\n",
              "  0.0013700718059226347,\n",
              "  0.0013700718059226347,\n",
              "  0.0013700718059226347,\n",
              "  0.0013700718059226347,\n",
              "  0.0013700718059226347,\n",
              "  0.0013700718059226347,\n",
              "  0.0013700718059226347,\n",
              "  0.0013700718059226347,\n",
              "  0.0013700718059226347,\n",
              "  0.0013700718059226347,\n",
              "  0.0013700718059226347,\n",
              "  0.0013700718059226347,\n",
              "  0.0013700718059226347,\n",
              "  0.0013700718059226347,\n",
              "  0.0013700718059226347,\n",
              "  0.0013700718059226347,\n",
              "  0.0013700718059226347,\n",
              "  0.0013700718059226347,\n",
              "  0.0013700718059226347,\n",
              "  0.0013700718059226347,\n",
              "  0.0013700718059226347,\n",
              "  0.0013700718059226347,\n",
              "  0.0013700718059226347,\n",
              "  0.0013700718059226347,\n",
              "  0.0013700718059226347,\n",
              "  0.0013700718059226347,\n",
              "  0.0013700718059226347,\n",
              "  0.0013700718059226347,\n",
              "  0.0013700718059226347,\n",
              "  0.0013700718059226347,\n",
              "  0.0013700718059226347,\n",
              "  0.0013700718059226347,\n",
              "  0.0013700718059226347,\n",
              "  0.0013700718059226347,\n",
              "  0.0013700718059226347,\n",
              "  0.0013700718059226347,\n",
              "  0.0013700718059226347,\n",
              "  0.0013700718059226347,\n",
              "  0.0013700718059226347,\n",
              "  0.0013700718059226347,\n",
              "  0.0013700718059226347,\n",
              "  0.0013700718059226347,\n",
              "  0.0013700718059226347,\n",
              "  0.0013700718059226347],\n",
              " 96: [-0.004818765691197768,\n",
              "  -0.004818765691197768,\n",
              "  -0.004818765691197768,\n",
              "  -0.004818765691197768,\n",
              "  -0.004818765691197768,\n",
              "  -0.004818765691197768,\n",
              "  -0.004818765691197768,\n",
              "  -0.004818765691197768,\n",
              "  -0.004818765691197768,\n",
              "  -0.004818765691197768,\n",
              "  -0.004818765691197768,\n",
              "  -0.004818765691197768,\n",
              "  -0.004818765691197768,\n",
              "  -0.004818765691197768,\n",
              "  -0.004818765691197768,\n",
              "  -0.004818765691197768,\n",
              "  -0.004818765691197768,\n",
              "  -0.004818765691197768,\n",
              "  -0.004818765691197768,\n",
              "  -0.004818765691197768,\n",
              "  -0.004818765691197768,\n",
              "  -0.004818765691197768,\n",
              "  -0.004818765691197768,\n",
              "  -0.004818765691197768,\n",
              "  -0.004818765691197768,\n",
              "  -0.004818765691197768,\n",
              "  -0.004818765691197768,\n",
              "  -0.004818765691197768,\n",
              "  -0.004818765691197768,\n",
              "  -0.004818765691197768,\n",
              "  -0.004818765691197768,\n",
              "  -0.004818765691197768,\n",
              "  -0.004818765691197768,\n",
              "  -0.004818765691197768,\n",
              "  -0.004818765691197768,\n",
              "  -0.004818765691197768,\n",
              "  -0.004818765691197768,\n",
              "  -0.004818765691197768,\n",
              "  -0.004818765691197768,\n",
              "  -0.004818765691197768,\n",
              "  -0.004818765691197768,\n",
              "  -0.004818765691197768,\n",
              "  -0.004818765691197768,\n",
              "  -0.004818765691197768,\n",
              "  -0.004818765691197768,\n",
              "  -0.004818765691197768,\n",
              "  -0.004818765691197768,\n",
              "  -0.004818765691197768,\n",
              "  -0.004818765691197768,\n",
              "  -0.004818765691197768,\n",
              "  -0.004818765691197768,\n",
              "  -0.004818765691197768,\n",
              "  -0.004818765691197768,\n",
              "  -0.004818765691197768,\n",
              "  -0.004818765691197768,\n",
              "  -0.004818765691197768,\n",
              "  -0.004818765691197768,\n",
              "  -0.004818765691197768,\n",
              "  -0.004818765691197768,\n",
              "  -0.004818765691197768,\n",
              "  -0.004818765691197768,\n",
              "  -0.004818765691197768,\n",
              "  -0.004818765691197768,\n",
              "  -0.004818765691197768,\n",
              "  -0.004818765691197768,\n",
              "  -0.004818765691197768,\n",
              "  -0.004818765691197768,\n",
              "  -0.004818765691197768,\n",
              "  -0.004818765691197768,\n",
              "  -0.004818765691197768,\n",
              "  -0.004818765691197768,\n",
              "  -0.004818765691197768,\n",
              "  -0.004818765691197768,\n",
              "  -0.004818765691197768,\n",
              "  -0.004818765691197768,\n",
              "  -0.004818765691197768,\n",
              "  -0.004818765691197768,\n",
              "  -0.004818765691197768,\n",
              "  -0.004818765691197768,\n",
              "  -0.004818765691197768,\n",
              "  -0.004818765691197768,\n",
              "  -0.004818765691197768,\n",
              "  -0.004818765691197768,\n",
              "  -0.004818765691197768,\n",
              "  -0.004818765691197768,\n",
              "  -0.004818765691197768,\n",
              "  -0.004818765691197768,\n",
              "  -0.004818765691197768,\n",
              "  -0.004818765691197768,\n",
              "  -0.004818765691197768,\n",
              "  -0.004818765691197768,\n",
              "  -0.004818765691197768,\n",
              "  -0.004818765691197768,\n",
              "  -0.004818765691197768,\n",
              "  -0.004818765691197768,\n",
              "  -0.004818765691197768,\n",
              "  -0.004818765691197768,\n",
              "  -0.004818765691197768,\n",
              "  -0.004818765691197768,\n",
              "  -0.004818765691197768,\n",
              "  -0.004818765691197768,\n",
              "  -0.004818765691197768,\n",
              "  -0.004818765691197768,\n",
              "  -0.004818765691197768,\n",
              "  -0.004818765691197768,\n",
              "  -0.004818765691197768,\n",
              "  -0.004818765691197768,\n",
              "  -0.004818765691197768,\n",
              "  -0.004818765691197768,\n",
              "  -0.004818765691197768,\n",
              "  -0.004818765691197768,\n",
              "  -0.004818765691197768,\n",
              "  -0.004818765691197768,\n",
              "  -0.004818765691197768,\n",
              "  -0.004818765691197768,\n",
              "  -0.004818765691197768,\n",
              "  -0.004818765691197768,\n",
              "  -0.004818765691197768,\n",
              "  -0.004818765691197768,\n",
              "  -0.004818765691197768,\n",
              "  -0.004818765691197768,\n",
              "  -0.004818765691197768,\n",
              "  -0.004818765691197768,\n",
              "  -0.004818765691197768,\n",
              "  -0.004818765691197768,\n",
              "  -0.004818765691197768,\n",
              "  -0.004818765691197768,\n",
              "  -0.004818765691197768],\n",
              " 31: [-0.0010649070045474218,\n",
              "  -0.0010649070045474218,\n",
              "  -0.0010649070045474218,\n",
              "  -0.0010649070045474218,\n",
              "  -0.0010649070045474218,\n",
              "  -0.0010649070045474218,\n",
              "  -0.0010649070045474218,\n",
              "  -0.0010649070045474218,\n",
              "  -0.0010649070045474218,\n",
              "  -0.0010649070045474218,\n",
              "  -0.0010649070045474218,\n",
              "  -0.0010649070045474218,\n",
              "  -0.0010649070045474218,\n",
              "  -0.0010649070045474218,\n",
              "  -0.0010649070045474218,\n",
              "  -0.0010649070045474218,\n",
              "  -0.0010649070045474218,\n",
              "  -0.0010649070045474218,\n",
              "  -0.0010649070045474218,\n",
              "  -0.0010649070045474218,\n",
              "  -0.0010649070045474218,\n",
              "  -0.0010649070045474218,\n",
              "  -0.0010649070045474218,\n",
              "  -0.0010649070045474218,\n",
              "  -0.0010649070045474218,\n",
              "  -0.0010649070045474218,\n",
              "  -0.0010649070045474218,\n",
              "  -0.0010649070045474218,\n",
              "  -0.0010649070045474218,\n",
              "  -0.0010649070045474218,\n",
              "  -0.0010649070045474218,\n",
              "  -0.0010649070045474218,\n",
              "  -0.0010649070045474218,\n",
              "  -0.0010649070045474218,\n",
              "  -0.0010649070045474218,\n",
              "  -0.0010649070045474218,\n",
              "  -0.0010649070045474218,\n",
              "  -0.0010649070045474218,\n",
              "  -0.0010649070045474218,\n",
              "  -0.0010649070045474218,\n",
              "  -0.0010649070045474218,\n",
              "  -0.0010649070045474218,\n",
              "  -0.0010649070045474218,\n",
              "  -0.0010649070045474218,\n",
              "  -0.0010649070045474218,\n",
              "  -0.0010649070045474218,\n",
              "  -0.0010649070045474218,\n",
              "  -0.0010649070045474218,\n",
              "  -0.0010649070045474218,\n",
              "  -0.0010649070045474218,\n",
              "  -0.0010649070045474218,\n",
              "  -0.0010649070045474218,\n",
              "  -0.0010649070045474218,\n",
              "  -0.0010649070045474218,\n",
              "  -0.0010649070045474218,\n",
              "  -0.0010649070045474218,\n",
              "  -0.0010649070045474218,\n",
              "  -0.0010649070045474218,\n",
              "  -0.0010649070045474218,\n",
              "  -0.0010649070045474218,\n",
              "  -0.0010649070045474218,\n",
              "  -0.0010649070045474218,\n",
              "  -0.0010649070045474218,\n",
              "  -0.0010649070045474218,\n",
              "  -0.0010649070045474218,\n",
              "  -0.0010649070045474218,\n",
              "  -0.0010649070045474218,\n",
              "  -0.0010649070045474218,\n",
              "  -0.0010649070045474218,\n",
              "  -0.0010649070045474218,\n",
              "  -0.0010649070045474218,\n",
              "  -0.0010649070045474218,\n",
              "  -0.0010649070045474218,\n",
              "  -0.0010649070045474218,\n",
              "  -0.0010649070045474218,\n",
              "  -0.0010649070045474218,\n",
              "  -0.0010649070045474218,\n",
              "  -0.0010649070045474218,\n",
              "  -0.0010649070045474218,\n",
              "  -0.0010649070045474218,\n",
              "  -0.0010649070045474218,\n",
              "  -0.0010649070045474218,\n",
              "  -0.0010649070045474218,\n",
              "  -0.0010649070045474218,\n",
              "  -0.0010649070045474218,\n",
              "  -0.0010649070045474218,\n",
              "  -0.0010649070045474218,\n",
              "  -0.0010649070045474218,\n",
              "  -0.0010649070045474218,\n",
              "  -0.0010649070045474218,\n",
              "  -0.0010649070045474218,\n",
              "  -0.0010649070045474218,\n",
              "  -0.0010649070045474218,\n",
              "  -0.0010649070045474218,\n",
              "  -0.0010649070045474218,\n",
              "  -0.0010649070045474218,\n",
              "  -0.0010649070045474218,\n",
              "  -0.0010649070045474218,\n",
              "  -0.0010649070045474218,\n",
              "  -0.0010649070045474218,\n",
              "  -0.0010649070045474218,\n",
              "  -0.0010649070045474218,\n",
              "  -0.0010649070045474218,\n",
              "  -0.0010649070045474218,\n",
              "  -0.0010649070045474218,\n",
              "  -0.0010649070045474218,\n",
              "  -0.0010649070045474218,\n",
              "  -0.0010649070045474218,\n",
              "  -0.0010649070045474218,\n",
              "  -0.0010649070045474218,\n",
              "  -0.0010649070045474218,\n",
              "  -0.0010649070045474218,\n",
              "  -0.0010649070045474218,\n",
              "  -0.0010649070045474218,\n",
              "  -0.0010649070045474218,\n",
              "  -0.0010649070045474218,\n",
              "  -0.0010649070045474218,\n",
              "  -0.0010649070045474218,\n",
              "  -0.0010649070045474218,\n",
              "  -0.0010649070045474218,\n",
              "  -0.0010649070045474218,\n",
              "  -0.0010649070045474218,\n",
              "  -0.0010649070045474218,\n",
              "  -0.0010649070045474218,\n",
              "  -0.0010649070045474218,\n",
              "  -0.0010649070045474218,\n",
              "  -0.0010649070045474218,\n",
              "  -0.0010649070045474218],\n",
              " 47: [-4.9552925702300854e-05,\n",
              "  -4.9552925702300854e-05,\n",
              "  -4.9552925702300854e-05,\n",
              "  -4.9552925702300854e-05,\n",
              "  -4.9552925702300854e-05,\n",
              "  -4.9552925702300854e-05,\n",
              "  -4.9552925702300854e-05,\n",
              "  -4.9552925702300854e-05,\n",
              "  -4.9552925702300854e-05,\n",
              "  -4.9552925702300854e-05,\n",
              "  -4.9552925702300854e-05,\n",
              "  -4.9552925702300854e-05,\n",
              "  -4.9552925702300854e-05,\n",
              "  -4.9552925702300854e-05,\n",
              "  -4.9552925702300854e-05,\n",
              "  -4.9552925702300854e-05,\n",
              "  -4.9552925702300854e-05,\n",
              "  -4.9552925702300854e-05,\n",
              "  -4.9552925702300854e-05,\n",
              "  -4.9552925702300854e-05,\n",
              "  -4.9552925702300854e-05,\n",
              "  -4.9552925702300854e-05,\n",
              "  -4.9552925702300854e-05,\n",
              "  -4.9552925702300854e-05,\n",
              "  -4.9552925702300854e-05,\n",
              "  -4.9552925702300854e-05,\n",
              "  -4.9552925702300854e-05,\n",
              "  -4.9552925702300854e-05,\n",
              "  -4.9552925702300854e-05,\n",
              "  -4.9552925702300854e-05,\n",
              "  -4.9552925702300854e-05,\n",
              "  -4.9552925702300854e-05,\n",
              "  -4.9552925702300854e-05,\n",
              "  -4.9552925702300854e-05,\n",
              "  -4.9552925702300854e-05,\n",
              "  -4.9552925702300854e-05,\n",
              "  -4.9552925702300854e-05,\n",
              "  -4.9552925702300854e-05,\n",
              "  -4.9552925702300854e-05,\n",
              "  -4.9552925702300854e-05,\n",
              "  -4.9552925702300854e-05,\n",
              "  -4.9552925702300854e-05,\n",
              "  -4.9552925702300854e-05,\n",
              "  -4.9552925702300854e-05,\n",
              "  -4.9552925702300854e-05,\n",
              "  -4.9552925702300854e-05,\n",
              "  -4.9552925702300854e-05,\n",
              "  -4.9552925702300854e-05,\n",
              "  -4.9552925702300854e-05,\n",
              "  -4.9552925702300854e-05,\n",
              "  -4.9552925702300854e-05,\n",
              "  -4.9552925702300854e-05,\n",
              "  -4.9552925702300854e-05,\n",
              "  -4.9552925702300854e-05,\n",
              "  -4.9552925702300854e-05,\n",
              "  -4.9552925702300854e-05,\n",
              "  -4.9552925702300854e-05,\n",
              "  -4.9552925702300854e-05,\n",
              "  -4.9552925702300854e-05,\n",
              "  -4.9552925702300854e-05,\n",
              "  -4.9552925702300854e-05,\n",
              "  -4.9552925702300854e-05,\n",
              "  -4.9552925702300854e-05,\n",
              "  -4.9552925702300854e-05,\n",
              "  -4.9552925702300854e-05,\n",
              "  -4.9552925702300854e-05,\n",
              "  -4.9552925702300854e-05,\n",
              "  -4.9552925702300854e-05,\n",
              "  -4.9552925702300854e-05,\n",
              "  -4.9552925702300854e-05,\n",
              "  -4.9552925702300854e-05,\n",
              "  -4.9552925702300854e-05,\n",
              "  -4.9552925702300854e-05,\n",
              "  -4.9552925702300854e-05,\n",
              "  -4.9552925702300854e-05,\n",
              "  -4.9552925702300854e-05,\n",
              "  -4.9552925702300854e-05,\n",
              "  -4.9552925702300854e-05,\n",
              "  -4.9552925702300854e-05,\n",
              "  -4.9552925702300854e-05,\n",
              "  -4.9552925702300854e-05,\n",
              "  -4.9552925702300854e-05,\n",
              "  -4.9552925702300854e-05,\n",
              "  -4.9552925702300854e-05,\n",
              "  -4.9552925702300854e-05,\n",
              "  -4.9552925702300854e-05,\n",
              "  -4.9552925702300854e-05,\n",
              "  -4.9552925702300854e-05,\n",
              "  -4.9552925702300854e-05,\n",
              "  -4.9552925702300854e-05,\n",
              "  -4.9552925702300854e-05,\n",
              "  -4.9552925702300854e-05,\n",
              "  -4.9552925702300854e-05,\n",
              "  -4.9552925702300854e-05,\n",
              "  -4.9552925702300854e-05,\n",
              "  -4.9552925702300854e-05,\n",
              "  -4.9552925702300854e-05,\n",
              "  -4.9552925702300854e-05,\n",
              "  -4.9552925702300854e-05,\n",
              "  -4.9552925702300854e-05,\n",
              "  -4.9552925702300854e-05,\n",
              "  -4.9552925702300854e-05,\n",
              "  -4.9552925702300854e-05,\n",
              "  -4.9552925702300854e-05,\n",
              "  -4.9552925702300854e-05,\n",
              "  -4.9552925702300854e-05,\n",
              "  -4.9552925702300854e-05,\n",
              "  -4.9552925702300854e-05,\n",
              "  -4.9552925702300854e-05,\n",
              "  -4.9552925702300854e-05,\n",
              "  -4.9552925702300854e-05,\n",
              "  -4.9552925702300854e-05,\n",
              "  -4.9552925702300854e-05,\n",
              "  -4.9552925702300854e-05,\n",
              "  -4.9552925702300854e-05,\n",
              "  -4.9552925702300854e-05,\n",
              "  -4.9552925702300854e-05,\n",
              "  -4.9552925702300854e-05,\n",
              "  -4.9552925702300854e-05,\n",
              "  -4.9552925702300854e-05,\n",
              "  -4.9552925702300854e-05,\n",
              "  -4.9552925702300854e-05,\n",
              "  -4.9552925702300854e-05,\n",
              "  -4.9552925702300854e-05,\n",
              "  -4.9552925702300854e-05,\n",
              "  -4.9552925702300854e-05,\n",
              "  -4.9552925702300854e-05,\n",
              "  -4.9552925702300854e-05],\n",
              " 69: [-0.010562647850747453,\n",
              "  -0.010562647850747453,\n",
              "  -0.010562647850747453,\n",
              "  -0.010562647850747453,\n",
              "  -0.010562647850747453,\n",
              "  -0.010562647850747453,\n",
              "  -0.010562647850747453,\n",
              "  -0.010562647850747453,\n",
              "  -0.010562647850747453,\n",
              "  -0.010562647850747453,\n",
              "  -0.010562647850747453,\n",
              "  -0.010562647850747453,\n",
              "  -0.010562647850747453,\n",
              "  -0.010562647850747453,\n",
              "  -0.010562647850747453,\n",
              "  -0.010562647850747453,\n",
              "  -0.010562647850747453,\n",
              "  -0.010562647850747453,\n",
              "  -0.010562647850747453,\n",
              "  -0.010562647850747453,\n",
              "  -0.010562647850747453,\n",
              "  -0.010562647850747453,\n",
              "  -0.010562647850747453,\n",
              "  -0.010562647850747453,\n",
              "  -0.010562647850747453,\n",
              "  -0.010562647850747453,\n",
              "  -0.010562647850747453,\n",
              "  -0.010562647850747453,\n",
              "  -0.010562647850747453,\n",
              "  -0.010562647850747453,\n",
              "  -0.010562647850747453,\n",
              "  -0.010562647850747453,\n",
              "  -0.010562647850747453,\n",
              "  -0.010562647850747453,\n",
              "  -0.010562647850747453,\n",
              "  -0.010562647850747453,\n",
              "  -0.010562647850747453,\n",
              "  -0.010562647850747453,\n",
              "  -0.010562647850747453,\n",
              "  -0.010562647850747453,\n",
              "  -0.010562647850747453,\n",
              "  -0.010562647850747453,\n",
              "  -0.010562647850747453,\n",
              "  -0.010562647850747453,\n",
              "  -0.010562647850747453,\n",
              "  -0.010562647850747453,\n",
              "  -0.010562647850747453,\n",
              "  -0.010562647850747453,\n",
              "  -0.010562647850747453,\n",
              "  -0.010562647850747453,\n",
              "  -0.010562647850747453,\n",
              "  -0.010562647850747453,\n",
              "  -0.010562647850747453,\n",
              "  -0.010562647850747453,\n",
              "  -0.010562647850747453,\n",
              "  -0.010562647850747453,\n",
              "  -0.010562647850747453,\n",
              "  -0.010562647850747453,\n",
              "  -0.010562647850747453,\n",
              "  -0.010562647850747453,\n",
              "  -0.010562647850747453,\n",
              "  -0.010562647850747453,\n",
              "  -0.010562647850747453,\n",
              "  -0.010562647850747453,\n",
              "  -0.010562647850747453,\n",
              "  -0.010562647850747453,\n",
              "  -0.010562647850747453,\n",
              "  -0.010562647850747453,\n",
              "  -0.010562647850747453,\n",
              "  -0.010562647850747453,\n",
              "  -0.010562647850747453,\n",
              "  -0.010562647850747453,\n",
              "  -0.010562647850747453,\n",
              "  -0.010562647850747453,\n",
              "  -0.010562647850747453,\n",
              "  -0.010562647850747453,\n",
              "  -0.010562647850747453,\n",
              "  -0.010562647850747453,\n",
              "  -0.010562647850747453,\n",
              "  -0.010562647850747453,\n",
              "  -0.010562647850747453,\n",
              "  -0.010562647850747453,\n",
              "  -0.010562647850747453,\n",
              "  -0.010562647850747453,\n",
              "  -0.010562647850747453,\n",
              "  -0.010562647850747453,\n",
              "  -0.010562647850747453,\n",
              "  -0.010562647850747453,\n",
              "  -0.010562647850747453,\n",
              "  -0.010562647850747453,\n",
              "  -0.010562647850747453,\n",
              "  -0.010562647850747453,\n",
              "  -0.010562647850747453,\n",
              "  -0.010562647850747453,\n",
              "  -0.010562647850747453,\n",
              "  -0.010562647850747453,\n",
              "  -0.010562647850747453,\n",
              "  -0.010562647850747453,\n",
              "  -0.010562647850747453,\n",
              "  -0.010562647850747453,\n",
              "  -0.010562647850747453,\n",
              "  -0.010562647850747453,\n",
              "  -0.010562647850747453,\n",
              "  -0.010562647850747453,\n",
              "  -0.010562647850747453,\n",
              "  -0.010562647850747453,\n",
              "  -0.010562647850747453,\n",
              "  -0.010562647850747453,\n",
              "  -0.010562647850747453,\n",
              "  -0.010562647850747453,\n",
              "  -0.010562647850747453,\n",
              "  -0.010562647850747453,\n",
              "  -0.010562647850747453,\n",
              "  -0.010562647850747453,\n",
              "  -0.010562647850747453,\n",
              "  -0.010562647850747453,\n",
              "  -0.010562647850747453,\n",
              "  -0.010562647850747453,\n",
              "  -0.010562647850747453,\n",
              "  -0.010562647850747453,\n",
              "  -0.010562647850747453,\n",
              "  -0.010562647850747453,\n",
              "  -0.010562647850747453,\n",
              "  -0.010562647850747453,\n",
              "  -0.010562647850747453,\n",
              "  -0.010562647850747453,\n",
              "  -0.010562647850747453,\n",
              "  -0.010562647850747453],\n",
              " 34: [-0.0023647743214496586,\n",
              "  -0.0023647743214496586,\n",
              "  -0.0023647743214496586,\n",
              "  -0.0023647743214496586,\n",
              "  -0.0023647743214496586,\n",
              "  -0.0023647743214496586,\n",
              "  -0.0023647743214496586,\n",
              "  -0.0023647743214496586,\n",
              "  -0.0023647743214496586,\n",
              "  -0.0023647743214496586,\n",
              "  -0.0023647743214496586,\n",
              "  -0.0023647743214496586,\n",
              "  -0.0023647743214496586,\n",
              "  -0.0023647743214496586,\n",
              "  -0.0023647743214496586,\n",
              "  -0.0023647743214496586,\n",
              "  -0.0023647743214496586,\n",
              "  -0.0023647743214496586,\n",
              "  -0.0023647743214496586,\n",
              "  -0.0023647743214496586,\n",
              "  -0.0023647743214496586,\n",
              "  -0.0023647743214496586,\n",
              "  -0.0023647743214496586,\n",
              "  -0.0023647743214496586,\n",
              "  -0.0023647743214496586,\n",
              "  -0.0023647743214496586,\n",
              "  -0.0023647743214496586,\n",
              "  -0.0023647743214496586,\n",
              "  -0.0023647743214496586,\n",
              "  -0.0023647743214496586,\n",
              "  -0.0023647743214496586,\n",
              "  -0.0023647743214496586,\n",
              "  -0.0023647743214496586,\n",
              "  -0.0023647743214496586,\n",
              "  -0.0023647743214496586,\n",
              "  -0.0023647743214496586,\n",
              "  -0.0023647743214496586,\n",
              "  -0.0023647743214496586,\n",
              "  -0.0023647743214496586,\n",
              "  -0.0023647743214496586,\n",
              "  -0.0023647743214496586,\n",
              "  -0.0023647743214496586,\n",
              "  -0.0023647743214496586,\n",
              "  -0.0023647743214496586,\n",
              "  -0.0023647743214496586,\n",
              "  -0.0023647743214496586,\n",
              "  -0.0023647743214496586,\n",
              "  -0.0023647743214496586,\n",
              "  -0.0023647743214496586,\n",
              "  -0.0023647743214496586,\n",
              "  -0.0023647743214496586,\n",
              "  -0.0023647743214496586,\n",
              "  -0.0023647743214496586,\n",
              "  -0.0023647743214496586,\n",
              "  -0.0023647743214496586,\n",
              "  -0.0023647743214496586,\n",
              "  -0.0023647743214496586,\n",
              "  -0.0023647743214496586,\n",
              "  -0.0023647743214496586,\n",
              "  -0.0023647743214496586,\n",
              "  -0.0023647743214496586,\n",
              "  -0.0023647743214496586,\n",
              "  -0.0023647743214496586,\n",
              "  -0.0023647743214496586,\n",
              "  -0.0023647743214496586,\n",
              "  -0.0023647743214496586,\n",
              "  -0.0023647743214496586,\n",
              "  -0.0023647743214496586,\n",
              "  -0.0023647743214496586,\n",
              "  -0.0023647743214496586,\n",
              "  -0.0023647743214496586,\n",
              "  -0.0023647743214496586,\n",
              "  -0.0023647743214496586,\n",
              "  -0.0023647743214496586,\n",
              "  -0.0023647743214496586,\n",
              "  -0.0023647743214496586,\n",
              "  -0.0023647743214496586,\n",
              "  -0.0023647743214496586,\n",
              "  -0.0023647743214496586,\n",
              "  -0.0023647743214496586,\n",
              "  -0.0023647743214496586,\n",
              "  -0.0023647743214496586,\n",
              "  -0.0023647743214496586,\n",
              "  -0.0023647743214496586,\n",
              "  -0.0023647743214496586,\n",
              "  -0.0023647743214496586,\n",
              "  -0.0023647743214496586,\n",
              "  -0.0023647743214496586,\n",
              "  -0.0023647743214496586,\n",
              "  -0.0023647743214496586,\n",
              "  -0.0023647743214496586,\n",
              "  -0.0023647743214496586,\n",
              "  -0.0023647743214496586,\n",
              "  -0.0023647743214496586,\n",
              "  -0.0023647743214496586,\n",
              "  -0.0023647743214496586,\n",
              "  -0.0023647743214496586,\n",
              "  -0.0023647743214496586,\n",
              "  -0.0023647743214496586,\n",
              "  -0.0023647743214496586,\n",
              "  -0.0023647743214496586,\n",
              "  -0.0023647743214496586,\n",
              "  -0.0023647743214496586,\n",
              "  -0.0023647743214496586,\n",
              "  -0.0023647743214496586,\n",
              "  -0.0023647743214496586,\n",
              "  -0.0023647743214496586,\n",
              "  -0.0023647743214496586,\n",
              "  -0.0023647743214496586,\n",
              "  -0.0023647743214496586,\n",
              "  -0.0023647743214496586,\n",
              "  -0.0023647743214496586,\n",
              "  -0.0023647743214496586,\n",
              "  -0.0023647743214496586,\n",
              "  -0.0023647743214496586,\n",
              "  -0.0023647743214496586,\n",
              "  -0.0023647743214496586,\n",
              "  -0.0023647743214496586,\n",
              "  -0.0023647743214496586,\n",
              "  -0.0023647743214496586,\n",
              "  -0.0023647743214496586,\n",
              "  -0.0023647743214496586,\n",
              "  -0.0023647743214496586,\n",
              "  -0.0023647743214496586,\n",
              "  -0.0023647743214496586,\n",
              "  -0.0023647743214496586,\n",
              "  -0.0023647743214496586,\n",
              "  -0.0023647743214496586],\n",
              " 52: [-0.007477670475054765,\n",
              "  -0.007477670475054765,\n",
              "  -0.007477670475054765,\n",
              "  -0.007477670475054765,\n",
              "  -0.007477670475054765,\n",
              "  -0.007477670475054765,\n",
              "  -0.007477670475054765,\n",
              "  -0.007477670475054765,\n",
              "  -0.007477670475054765,\n",
              "  -0.007477670475054765,\n",
              "  -0.007477670475054765,\n",
              "  -0.007477670475054765,\n",
              "  -0.007477670475054765,\n",
              "  -0.007477670475054765,\n",
              "  -0.007477670475054765,\n",
              "  -0.007477670475054765,\n",
              "  -0.007477670475054765,\n",
              "  -0.007477670475054765,\n",
              "  -0.007477670475054765,\n",
              "  -0.007477670475054765,\n",
              "  -0.007477670475054765,\n",
              "  -0.007477670475054765,\n",
              "  -0.007477670475054765,\n",
              "  -0.007477670475054765,\n",
              "  -0.007477670475054765,\n",
              "  -0.007477670475054765,\n",
              "  -0.007477670475054765,\n",
              "  -0.007477670475054765,\n",
              "  -0.007477670475054765,\n",
              "  -0.007477670475054765,\n",
              "  -0.007477670475054765,\n",
              "  -0.007477670475054765,\n",
              "  -0.007477670475054765,\n",
              "  -0.007477670475054765,\n",
              "  -0.007477670475054765,\n",
              "  -0.007477670475054765,\n",
              "  -0.007477670475054765,\n",
              "  -0.007477670475054765,\n",
              "  -0.007477670475054765,\n",
              "  -0.007477670475054765,\n",
              "  -0.007477670475054765,\n",
              "  -0.007477670475054765,\n",
              "  -0.007477670475054765,\n",
              "  -0.007477670475054765,\n",
              "  -0.007477670475054765,\n",
              "  -0.007477670475054765,\n",
              "  -0.007477670475054765,\n",
              "  -0.007477670475054765,\n",
              "  -0.007477670475054765,\n",
              "  -0.007477670475054765,\n",
              "  -0.007477670475054765,\n",
              "  -0.007477670475054765,\n",
              "  -0.007477670475054765,\n",
              "  -0.007477670475054765,\n",
              "  -0.007477670475054765,\n",
              "  -0.007477670475054765,\n",
              "  -0.007477670475054765,\n",
              "  -0.007477670475054765,\n",
              "  -0.007477670475054765,\n",
              "  -0.007477670475054765,\n",
              "  -0.007477670475054765,\n",
              "  -0.007477670475054765,\n",
              "  -0.007477670475054765,\n",
              "  -0.007477670475054765,\n",
              "  -0.007477670475054765,\n",
              "  -0.007477670475054765,\n",
              "  -0.007477670475054765,\n",
              "  -0.007477670475054765,\n",
              "  -0.007477670475054765,\n",
              "  -0.007477670475054765,\n",
              "  -0.007477670475054765,\n",
              "  -0.007477670475054765,\n",
              "  -0.007477670475054765,\n",
              "  -0.007477670475054765,\n",
              "  -0.007477670475054765,\n",
              "  -0.007477670475054765,\n",
              "  -0.007477670475054765,\n",
              "  -0.007477670475054765,\n",
              "  -0.007477670475054765,\n",
              "  -0.007477670475054765,\n",
              "  -0.007477670475054765,\n",
              "  -0.007477670475054765,\n",
              "  -0.007477670475054765,\n",
              "  -0.007477670475054765,\n",
              "  -0.007477670475054765,\n",
              "  -0.007477670475054765,\n",
              "  -0.007477670475054765,\n",
              "  -0.007477670475054765,\n",
              "  -0.007477670475054765,\n",
              "  -0.007477670475054765,\n",
              "  -0.007477670475054765,\n",
              "  -0.007477670475054765,\n",
              "  -0.007477670475054765,\n",
              "  -0.007477670475054765,\n",
              "  -0.007477670475054765,\n",
              "  -0.007477670475054765,\n",
              "  -0.007477670475054765,\n",
              "  -0.007477670475054765,\n",
              "  -0.007477670475054765,\n",
              "  -0.007477670475054765,\n",
              "  -0.007477670475054765,\n",
              "  -0.007477670475054765,\n",
              "  -0.007477670475054765,\n",
              "  -0.007477670475054765,\n",
              "  -0.007477670475054765,\n",
              "  -0.007477670475054765,\n",
              "  -0.007477670475054765,\n",
              "  -0.007477670475054765,\n",
              "  -0.007477670475054765,\n",
              "  -0.007477670475054765,\n",
              "  -0.007477670475054765,\n",
              "  -0.007477670475054765,\n",
              "  -0.007477670475054765,\n",
              "  -0.007477670475054765,\n",
              "  -0.007477670475054765,\n",
              "  -0.007477670475054765,\n",
              "  -0.007477670475054765,\n",
              "  -0.007477670475054765,\n",
              "  -0.007477670475054765,\n",
              "  -0.007477670475054765,\n",
              "  -0.007477670475054765,\n",
              "  -0.007477670475054765,\n",
              "  -0.007477670475054765,\n",
              "  -0.007477670475054765,\n",
              "  -0.007477670475054765,\n",
              "  -0.007477670475054765,\n",
              "  -0.007477670475054765,\n",
              "  -0.007477670475054765],\n",
              " 21: [-0.0020686600059889315,\n",
              "  -0.0020686600059889315,\n",
              "  -0.0020686600059889315,\n",
              "  -0.0020686600059889315,\n",
              "  -0.0020686600059889315,\n",
              "  -0.0020686600059889315,\n",
              "  -0.0020686600059889315,\n",
              "  -0.0020686600059889315,\n",
              "  -0.0020686600059889315,\n",
              "  -0.0020686600059889315,\n",
              "  -0.0020686600059889315,\n",
              "  -0.0020686600059889315,\n",
              "  -0.0020686600059889315,\n",
              "  -0.0020686600059889315,\n",
              "  -0.0020686600059889315,\n",
              "  -0.0020686600059889315,\n",
              "  -0.0020686600059889315,\n",
              "  -0.0020686600059889315,\n",
              "  -0.0020686600059889315,\n",
              "  -0.0020686600059889315,\n",
              "  -0.0020686600059889315,\n",
              "  -0.0020686600059889315,\n",
              "  -0.0020686600059889315,\n",
              "  -0.0020686600059889315,\n",
              "  -0.0020686600059889315,\n",
              "  -0.0020686600059889315,\n",
              "  -0.0020686600059889315,\n",
              "  -0.0020686600059889315,\n",
              "  -0.0020686600059889315,\n",
              "  -0.0020686600059889315,\n",
              "  -0.0020686600059889315,\n",
              "  -0.0020686600059889315,\n",
              "  -0.0020686600059889315,\n",
              "  -0.0020686600059889315,\n",
              "  -0.0020686600059889315,\n",
              "  -0.0020686600059889315,\n",
              "  -0.0020686600059889315,\n",
              "  -0.0020686600059889315,\n",
              "  -0.0020686600059889315,\n",
              "  -0.0020686600059889315,\n",
              "  -0.0020686600059889315,\n",
              "  -0.0020686600059889315,\n",
              "  -0.0020686600059889315,\n",
              "  -0.0020686600059889315,\n",
              "  -0.0020686600059889315,\n",
              "  -0.0020686600059889315,\n",
              "  -0.0020686600059889315,\n",
              "  -0.0020686600059889315,\n",
              "  -0.0020686600059889315,\n",
              "  -0.0020686600059889315,\n",
              "  -0.0020686600059889315,\n",
              "  -0.0020686600059889315,\n",
              "  -0.0020686600059889315,\n",
              "  -0.0020686600059889315,\n",
              "  -0.0020686600059889315,\n",
              "  -0.0020686600059889315,\n",
              "  -0.0020686600059889315,\n",
              "  -0.0020686600059889315,\n",
              "  -0.0020686600059889315,\n",
              "  -0.0020686600059889315,\n",
              "  -0.0020686600059889315,\n",
              "  -0.0020686600059889315,\n",
              "  -0.0020686600059889315,\n",
              "  -0.0020686600059889315,\n",
              "  -0.0020686600059889315,\n",
              "  -0.0020686600059889315,\n",
              "  -0.0020686600059889315,\n",
              "  -0.0020686600059889315,\n",
              "  -0.0020686600059889315,\n",
              "  -0.0020686600059889315,\n",
              "  -0.0020686600059889315,\n",
              "  -0.0020686600059889315,\n",
              "  -0.0020686600059889315,\n",
              "  -0.0020686600059889315,\n",
              "  -0.0020686600059889315,\n",
              "  -0.0020686600059889315,\n",
              "  -0.0020686600059889315,\n",
              "  -0.0020686600059889315,\n",
              "  -0.0020686600059889315,\n",
              "  -0.0020686600059889315,\n",
              "  -0.0020686600059889315,\n",
              "  -0.0020686600059889315,\n",
              "  -0.0020686600059889315,\n",
              "  -0.0020686600059889315,\n",
              "  -0.0020686600059889315,\n",
              "  -0.0020686600059889315,\n",
              "  -0.0020686600059889315,\n",
              "  -0.0020686600059889315,\n",
              "  -0.0020686600059889315,\n",
              "  -0.0020686600059889315,\n",
              "  -0.0020686600059889315,\n",
              "  -0.0020686600059889315,\n",
              "  -0.0020686600059889315,\n",
              "  -0.0020686600059889315,\n",
              "  -0.0020686600059889315,\n",
              "  -0.0020686600059889315,\n",
              "  -0.0020686600059889315,\n",
              "  -0.0020686600059889315,\n",
              "  -0.0020686600059889315,\n",
              "  -0.0020686600059889315,\n",
              "  -0.0020686600059889315,\n",
              "  -0.0020686600059889315,\n",
              "  -0.0020686600059889315,\n",
              "  -0.0020686600059889315,\n",
              "  -0.0020686600059889315,\n",
              "  -0.0020686600059889315,\n",
              "  -0.0020686600059889315,\n",
              "  -0.0020686600059889315,\n",
              "  -0.0020686600059889315,\n",
              "  -0.0020686600059889315,\n",
              "  -0.0020686600059889315,\n",
              "  -0.0020686600059889315,\n",
              "  -0.0020686600059889315,\n",
              "  -0.0020686600059889315,\n",
              "  -0.0020686600059889315,\n",
              "  -0.0020686600059889315,\n",
              "  -0.0020686600059889315,\n",
              "  -0.0020686600059889315,\n",
              "  -0.0020686600059889315,\n",
              "  -0.0020686600059889315,\n",
              "  -0.0020686600059889315,\n",
              "  -0.0020686600059889315,\n",
              "  -0.0020686600059889315,\n",
              "  -0.0020686600059889315,\n",
              "  -0.0020686600059889315,\n",
              "  -0.0020686600059889315,\n",
              "  -0.0020686600059889315,\n",
              "  -0.0020686600059889315],\n",
              " 81: [-0.0008026708237593994,\n",
              "  -0.0008026708237593994,\n",
              "  -0.0008026708237593994,\n",
              "  -0.0008026708237593994,\n",
              "  -0.0008026708237593994,\n",
              "  -0.0008026708237593994,\n",
              "  -0.0008026708237593994,\n",
              "  -0.0008026708237593994,\n",
              "  -0.0008026708237593994,\n",
              "  -0.0008026708237593994,\n",
              "  -0.0008026708237593994,\n",
              "  -0.0008026708237593994,\n",
              "  -0.0008026708237593994,\n",
              "  -0.0008026708237593994,\n",
              "  -0.0008026708237593994,\n",
              "  -0.0008026708237593994,\n",
              "  -0.0008026708237593994,\n",
              "  -0.0008026708237593994,\n",
              "  -0.0008026708237593994,\n",
              "  -0.0008026708237593994,\n",
              "  -0.0008026708237593994,\n",
              "  -0.0008026708237593994,\n",
              "  -0.0008026708237593994,\n",
              "  -0.0008026708237593994,\n",
              "  -0.0008026708237593994,\n",
              "  -0.0008026708237593994,\n",
              "  -0.0008026708237593994,\n",
              "  -0.0008026708237593994,\n",
              "  -0.0008026708237593994,\n",
              "  -0.0008026708237593994,\n",
              "  -0.0008026708237593994,\n",
              "  -0.0008026708237593994,\n",
              "  -0.0008026708237593994,\n",
              "  -0.0008026708237593994,\n",
              "  -0.0008026708237593994,\n",
              "  -0.0008026708237593994,\n",
              "  -0.0008026708237593994,\n",
              "  -0.0008026708237593994,\n",
              "  -0.0008026708237593994,\n",
              "  -0.0008026708237593994,\n",
              "  -0.0008026708237593994,\n",
              "  -0.0008026708237593994,\n",
              "  -0.0008026708237593994,\n",
              "  -0.0008026708237593994,\n",
              "  -0.0008026708237593994,\n",
              "  -0.0008026708237593994,\n",
              "  -0.0008026708237593994,\n",
              "  -0.0008026708237593994,\n",
              "  -0.0008026708237593994,\n",
              "  -0.0008026708237593994,\n",
              "  -0.0008026708237593994,\n",
              "  -0.0008026708237593994,\n",
              "  -0.0008026708237593994,\n",
              "  -0.0008026708237593994,\n",
              "  -0.0008026708237593994,\n",
              "  -0.0008026708237593994,\n",
              "  -0.0008026708237593994,\n",
              "  -0.0008026708237593994,\n",
              "  -0.0008026708237593994,\n",
              "  -0.0008026708237593994,\n",
              "  -0.0008026708237593994,\n",
              "  -0.0008026708237593994,\n",
              "  -0.0008026708237593994,\n",
              "  -0.0008026708237593994,\n",
              "  -0.0008026708237593994,\n",
              "  -0.0008026708237593994,\n",
              "  -0.0008026708237593994,\n",
              "  -0.0008026708237593994,\n",
              "  -0.0008026708237593994,\n",
              "  -0.0008026708237593994,\n",
              "  -0.0008026708237593994,\n",
              "  -0.0008026708237593994,\n",
              "  -0.0008026708237593994,\n",
              "  -0.0008026708237593994,\n",
              "  -0.0008026708237593994,\n",
              "  -0.0008026708237593994,\n",
              "  -0.0008026708237593994,\n",
              "  -0.0008026708237593994,\n",
              "  -0.0008026708237593994,\n",
              "  -0.0008026708237593994,\n",
              "  -0.0008026708237593994,\n",
              "  -0.0008026708237593994,\n",
              "  -0.0008026708237593994,\n",
              "  -0.0008026708237593994,\n",
              "  -0.0008026708237593994,\n",
              "  -0.0008026708237593994,\n",
              "  -0.0008026708237593994,\n",
              "  -0.0008026708237593994,\n",
              "  -0.0008026708237593994,\n",
              "  -0.0008026708237593994,\n",
              "  -0.0008026708237593994,\n",
              "  -0.0008026708237593994,\n",
              "  -0.0008026708237593994,\n",
              "  -0.0008026708237593994,\n",
              "  -0.0008026708237593994,\n",
              "  -0.0008026708237593994,\n",
              "  -0.0008026708237593994,\n",
              "  -0.0008026708237593994,\n",
              "  -0.0008026708237593994,\n",
              "  -0.0008026708237593994,\n",
              "  -0.0008026708237593994,\n",
              "  -0.0008026708237593994,\n",
              "  -0.0008026708237593994,\n",
              "  -0.0008026708237593994,\n",
              "  -0.0008026708237593994,\n",
              "  -0.0008026708237593994,\n",
              "  -0.0008026708237593994,\n",
              "  -0.0008026708237593994,\n",
              "  -0.0008026708237593994,\n",
              "  -0.0008026708237593994,\n",
              "  -0.0008026708237593994,\n",
              "  -0.0008026708237593994,\n",
              "  -0.0008026708237593994,\n",
              "  -0.0008026708237593994,\n",
              "  -0.0008026708237593994,\n",
              "  -0.0008026708237593994,\n",
              "  -0.0008026708237593994,\n",
              "  -0.0008026708237593994,\n",
              "  -0.0008026708237593994,\n",
              "  -0.0008026708237593994,\n",
              "  -0.0008026708237593994,\n",
              "  -0.0008026708237593994,\n",
              "  -0.0008026708237593994,\n",
              "  -0.0008026708237593994,\n",
              "  -0.0008026708237593994,\n",
              "  -0.0008026708237593994,\n",
              "  -0.0008026708237593994,\n",
              "  -0.0008026708237593994],\n",
              " 49: [0.0012866560027759988,\n",
              "  0.0012866560027759988,\n",
              "  0.0012866560027759988,\n",
              "  0.0012866560027759988,\n",
              "  0.0012866560027759988,\n",
              "  0.0012866560027759988,\n",
              "  0.0012866560027759988,\n",
              "  0.0012866560027759988,\n",
              "  0.0012866560027759988,\n",
              "  0.0012866560027759988,\n",
              "  0.0012866560027759988,\n",
              "  0.0012866560027759988,\n",
              "  0.0012866560027759988,\n",
              "  0.0012866560027759988,\n",
              "  0.0012866560027759988,\n",
              "  0.0012866560027759988,\n",
              "  0.0012866560027759988,\n",
              "  0.0012866560027759988,\n",
              "  0.0012866560027759988,\n",
              "  0.0012866560027759988,\n",
              "  0.0012866560027759988,\n",
              "  0.0012866560027759988,\n",
              "  0.0012866560027759988,\n",
              "  0.0012866560027759988,\n",
              "  0.0012866560027759988,\n",
              "  0.0012866560027759988,\n",
              "  0.0012866560027759988,\n",
              "  0.0012866560027759988,\n",
              "  0.0012866560027759988,\n",
              "  0.0012866560027759988,\n",
              "  0.0012866560027759988,\n",
              "  0.0012866560027759988,\n",
              "  0.0012866560027759988,\n",
              "  0.0012866560027759988,\n",
              "  0.0012866560027759988,\n",
              "  0.0012866560027759988,\n",
              "  0.0012866560027759988,\n",
              "  0.0012866560027759988,\n",
              "  0.0012866560027759988,\n",
              "  0.0012866560027759988,\n",
              "  0.0012866560027759988,\n",
              "  0.0012866560027759988,\n",
              "  0.0012866560027759988,\n",
              "  0.0012866560027759988,\n",
              "  0.0012866560027759988,\n",
              "  0.0012866560027759988,\n",
              "  0.0012866560027759988,\n",
              "  0.0012866560027759988,\n",
              "  0.0012866560027759988,\n",
              "  0.0012866560027759988,\n",
              "  0.0012866560027759988,\n",
              "  0.0012866560027759988,\n",
              "  0.0012866560027759988,\n",
              "  0.0012866560027759988,\n",
              "  0.0012866560027759988,\n",
              "  0.0012866560027759988,\n",
              "  0.0012866560027759988,\n",
              "  0.0012866560027759988,\n",
              "  0.0012866560027759988,\n",
              "  0.0012866560027759988,\n",
              "  0.0012866560027759988,\n",
              "  0.0012866560027759988,\n",
              "  0.0012866560027759988,\n",
              "  0.0012866560027759988,\n",
              "  0.0012866560027759988,\n",
              "  0.0012866560027759988,\n",
              "  0.0012866560027759988,\n",
              "  0.0012866560027759988,\n",
              "  0.0012866560027759988,\n",
              "  0.0012866560027759988,\n",
              "  0.0012866560027759988,\n",
              "  0.0012866560027759988,\n",
              "  0.0012866560027759988,\n",
              "  0.0012866560027759988,\n",
              "  0.0012866560027759988,\n",
              "  0.0012866560027759988,\n",
              "  0.0012866560027759988,\n",
              "  0.0012866560027759988,\n",
              "  0.0012866560027759988,\n",
              "  0.0012866560027759988,\n",
              "  0.0012866560027759988,\n",
              "  0.0012866560027759988,\n",
              "  0.0012866560027759988,\n",
              "  0.0012866560027759988,\n",
              "  0.0012866560027759988,\n",
              "  0.0012866560027759988,\n",
              "  0.0012866560027759988,\n",
              "  0.0012866560027759988,\n",
              "  0.0012866560027759988,\n",
              "  0.0012866560027759988,\n",
              "  0.0012866560027759988,\n",
              "  0.0012866560027759988,\n",
              "  0.0012866560027759988,\n",
              "  0.0012866560027759988,\n",
              "  0.0012866560027759988,\n",
              "  0.0012866560027759988,\n",
              "  0.0012866560027759988,\n",
              "  0.0012866560027759988,\n",
              "  0.0012866560027759988,\n",
              "  0.0012866560027759988,\n",
              "  0.0012866560027759988,\n",
              "  0.0012866560027759988,\n",
              "  0.0012866560027759988,\n",
              "  0.0012866560027759988,\n",
              "  0.0012866560027759988,\n",
              "  0.0012866560027759988,\n",
              "  0.0012866560027759988,\n",
              "  0.0012866560027759988,\n",
              "  0.0012866560027759988,\n",
              "  0.0012866560027759988,\n",
              "  0.0012866560027759988,\n",
              "  0.0012866560027759988,\n",
              "  0.0012866560027759988,\n",
              "  0.0012866560027759988,\n",
              "  0.0012866560027759988,\n",
              "  0.0012866560027759988,\n",
              "  0.0012866560027759988,\n",
              "  0.0012866560027759988,\n",
              "  0.0012866560027759988,\n",
              "  0.0012866560027759988,\n",
              "  0.0012866560027759988,\n",
              "  0.0012866560027759988,\n",
              "  0.0012866560027759988,\n",
              "  0.0012866560027759988,\n",
              "  0.0012866560027759988,\n",
              "  0.0012866560027759988,\n",
              "  0.0012866560027759988,\n",
              "  0.0012866560027759988],\n",
              " 46: [-0.004445597929588985,\n",
              "  -0.004445597929588985,\n",
              "  -0.004445597929588985,\n",
              "  -0.004445597929588985,\n",
              "  -0.004445597929588985,\n",
              "  -0.004445597929588985,\n",
              "  -0.004445597929588985,\n",
              "  -0.004445597929588985,\n",
              "  -0.004445597929588985,\n",
              "  -0.004445597929588985,\n",
              "  -0.004445597929588985,\n",
              "  -0.004445597929588985,\n",
              "  -0.004445597929588985,\n",
              "  -0.004445597929588985,\n",
              "  -0.004445597929588985,\n",
              "  -0.004445597929588985,\n",
              "  -0.004445597929588985,\n",
              "  -0.004445597929588985,\n",
              "  -0.004445597929588985,\n",
              "  -0.004445597929588985,\n",
              "  -0.004445597929588985,\n",
              "  -0.004445597929588985,\n",
              "  -0.004445597929588985,\n",
              "  -0.004445597929588985,\n",
              "  -0.004445597929588985,\n",
              "  -0.004445597929588985,\n",
              "  -0.004445597929588985,\n",
              "  -0.004445597929588985,\n",
              "  -0.004445597929588985,\n",
              "  -0.004445597929588985,\n",
              "  -0.004445597929588985,\n",
              "  -0.004445597929588985,\n",
              "  -0.004445597929588985,\n",
              "  -0.004445597929588985,\n",
              "  -0.004445597929588985,\n",
              "  -0.004445597929588985,\n",
              "  -0.004445597929588985,\n",
              "  -0.004445597929588985,\n",
              "  -0.004445597929588985,\n",
              "  -0.004445597929588985,\n",
              "  -0.004445597929588985,\n",
              "  -0.004445597929588985,\n",
              "  -0.004445597929588985,\n",
              "  -0.004445597929588985,\n",
              "  -0.004445597929588985,\n",
              "  -0.004445597929588985,\n",
              "  -0.004445597929588985,\n",
              "  -0.004445597929588985,\n",
              "  -0.004445597929588985,\n",
              "  -0.004445597929588985,\n",
              "  -0.004445597929588985,\n",
              "  -0.004445597929588985,\n",
              "  -0.004445597929588985,\n",
              "  -0.004445597929588985,\n",
              "  -0.004445597929588985,\n",
              "  -0.004445597929588985,\n",
              "  -0.004445597929588985,\n",
              "  -0.004445597929588985,\n",
              "  -0.004445597929588985,\n",
              "  -0.004445597929588985,\n",
              "  -0.004445597929588985,\n",
              "  -0.004445597929588985,\n",
              "  -0.004445597929588985,\n",
              "  -0.004445597929588985,\n",
              "  -0.004445597929588985,\n",
              "  -0.004445597929588985,\n",
              "  -0.004445597929588985,\n",
              "  -0.004445597929588985,\n",
              "  -0.004445597929588985,\n",
              "  -0.004445597929588985,\n",
              "  -0.004445597929588985,\n",
              "  -0.004445597929588985,\n",
              "  -0.004445597929588985,\n",
              "  -0.004445597929588985,\n",
              "  -0.004445597929588985,\n",
              "  -0.004445597929588985,\n",
              "  -0.004445597929588985,\n",
              "  -0.004445597929588985,\n",
              "  -0.004445597929588985,\n",
              "  -0.004445597929588985,\n",
              "  -0.004445597929588985,\n",
              "  -0.004445597929588985,\n",
              "  -0.004445597929588985,\n",
              "  -0.004445597929588985,\n",
              "  -0.004445597929588985,\n",
              "  -0.004445597929588985,\n",
              "  -0.004445597929588985,\n",
              "  -0.004445597929588985,\n",
              "  -0.004445597929588985,\n",
              "  -0.004445597929588985,\n",
              "  -0.004445597929588985,\n",
              "  -0.004445597929588985,\n",
              "  -0.004445597929588985,\n",
              "  -0.004445597929588985,\n",
              "  -0.004445597929588985,\n",
              "  -0.004445597929588985,\n",
              "  -0.004445597929588985,\n",
              "  -0.004445597929588985,\n",
              "  -0.004445597929588985,\n",
              "  -0.004445597929588985,\n",
              "  -0.004445597929588985,\n",
              "  -0.004445597929588985,\n",
              "  -0.004445597929588985,\n",
              "  -0.004445597929588985,\n",
              "  -0.004445597929588985,\n",
              "  -0.004445597929588985,\n",
              "  -0.004445597929588985,\n",
              "  -0.004445597929588985,\n",
              "  -0.004445597929588985,\n",
              "  -0.004445597929588985,\n",
              "  -0.004445597929588985,\n",
              "  -0.004445597929588985,\n",
              "  -0.004445597929588985,\n",
              "  -0.004445597929588985,\n",
              "  -0.004445597929588985,\n",
              "  -0.004445597929588985,\n",
              "  -0.004445597929588985,\n",
              "  -0.004445597929588985,\n",
              "  -0.004445597929588985,\n",
              "  -0.004445597929588985,\n",
              "  -0.004445597929588985,\n",
              "  -0.004445597929588985,\n",
              "  -0.004445597929588985,\n",
              "  -0.004445597929588985,\n",
              "  -0.004445597929588985,\n",
              "  -0.004445597929588985,\n",
              "  -0.004445597929588985,\n",
              "  -0.004445597929588985],\n",
              " 65: [-0.0012824337654819828,\n",
              "  -0.0012824337654819828,\n",
              "  -0.0012824337654819828,\n",
              "  -0.0012824337654819828,\n",
              "  -0.0012824337654819828,\n",
              "  -0.0012824337654819828,\n",
              "  -0.0012824337654819828,\n",
              "  -0.0012824337654819828,\n",
              "  -0.0012824337654819828,\n",
              "  -0.0012824337654819828,\n",
              "  -0.0012824337654819828,\n",
              "  -0.0012824337654819828,\n",
              "  -0.0012824337654819828,\n",
              "  -0.0012824337654819828,\n",
              "  -0.0012824337654819828,\n",
              "  -0.0012824337654819828,\n",
              "  -0.0012824337654819828,\n",
              "  -0.0012824337654819828,\n",
              "  -0.0012824337654819828,\n",
              "  -0.0012824337654819828,\n",
              "  -0.0012824337654819828,\n",
              "  -0.0012824337654819828,\n",
              "  -0.0012824337654819828,\n",
              "  -0.0012824337654819828,\n",
              "  -0.0012824337654819828,\n",
              "  -0.0012824337654819828,\n",
              "  -0.0012824337654819828,\n",
              "  -0.0012824337654819828,\n",
              "  -0.0012824337654819828,\n",
              "  -0.0012824337654819828,\n",
              "  -0.0012824337654819828,\n",
              "  -0.0012824337654819828,\n",
              "  -0.0012824337654819828,\n",
              "  -0.0012824337654819828,\n",
              "  -0.0012824337654819828,\n",
              "  -0.0012824337654819828,\n",
              "  -0.0012824337654819828,\n",
              "  -0.0012824337654819828,\n",
              "  -0.0012824337654819828,\n",
              "  -0.0012824337654819828,\n",
              "  -0.0012824337654819828,\n",
              "  -0.0012824337654819828,\n",
              "  -0.0012824337654819828,\n",
              "  -0.0012824337654819828,\n",
              "  -0.0012824337654819828,\n",
              "  -0.0012824337654819828,\n",
              "  -0.0012824337654819828,\n",
              "  -0.0012824337654819828,\n",
              "  -0.0012824337654819828,\n",
              "  -0.0012824337654819828,\n",
              "  -0.0012824337654819828,\n",
              "  -0.0012824337654819828,\n",
              "  -0.0012824337654819828,\n",
              "  -0.0012824337654819828,\n",
              "  -0.0012824337654819828,\n",
              "  -0.0012824337654819828,\n",
              "  -0.0012824337654819828,\n",
              "  -0.0012824337654819828,\n",
              "  -0.0012824337654819828,\n",
              "  -0.0012824337654819828,\n",
              "  -0.0012824337654819828,\n",
              "  -0.0012824337654819828,\n",
              "  -0.0012824337654819828,\n",
              "  -0.0012824337654819828,\n",
              "  -0.0012824337654819828,\n",
              "  -0.0012824337654819828,\n",
              "  -0.0012824337654819828,\n",
              "  -0.0012824337654819828,\n",
              "  -0.0012824337654819828,\n",
              "  -0.0012824337654819828,\n",
              "  -0.0012824337654819828,\n",
              "  -0.0012824337654819828,\n",
              "  -0.0012824337654819828,\n",
              "  -0.0012824337654819828,\n",
              "  -0.0012824337654819828,\n",
              "  -0.0012824337654819828,\n",
              "  -0.0012824337654819828,\n",
              "  -0.0012824337654819828,\n",
              "  -0.0012824337654819828,\n",
              "  -0.0012824337654819828,\n",
              "  -0.0012824337654819828,\n",
              "  -0.0012824337654819828,\n",
              "  -0.0012824337654819828,\n",
              "  -0.0012824337654819828,\n",
              "  -0.0012824337654819828,\n",
              "  -0.0012824337654819828,\n",
              "  -0.0012824337654819828,\n",
              "  -0.0012824337654819828,\n",
              "  -0.0012824337654819828,\n",
              "  -0.0012824337654819828,\n",
              "  -0.0012824337654819828,\n",
              "  -0.0012824337654819828,\n",
              "  -0.0012824337654819828,\n",
              "  -0.0012824337654819828,\n",
              "  -0.0012824337654819828,\n",
              "  -0.0012824337654819828,\n",
              "  -0.0012824337654819828,\n",
              "  -0.0012824337654819828,\n",
              "  -0.0012824337654819828,\n",
              "  -0.0012824337654819828,\n",
              "  -0.0012824337654819828,\n",
              "  -0.0012824337654819828,\n",
              "  -0.0012824337654819828,\n",
              "  -0.0012824337654819828,\n",
              "  -0.0012824337654819828,\n",
              "  -0.0012824337654819828,\n",
              "  -0.0012824337654819828,\n",
              "  -0.0012824337654819828,\n",
              "  -0.0012824337654819828,\n",
              "  -0.0012824337654819828,\n",
              "  -0.0012824337654819828,\n",
              "  -0.0012824337654819828,\n",
              "  -0.0012824337654819828,\n",
              "  -0.0012824337654819828,\n",
              "  -0.0012824337654819828,\n",
              "  -0.0012824337654819828,\n",
              "  -0.0012824337654819828,\n",
              "  -0.0012824337654819828,\n",
              "  -0.0012824337654819828,\n",
              "  -0.0012824337654819828,\n",
              "  -0.0012824337654819828,\n",
              "  -0.0012824337654819828,\n",
              "  -0.0012824337654819828,\n",
              "  -0.0012824337654819828,\n",
              "  -0.0012824337654819828,\n",
              "  -0.0012824337654819828,\n",
              "  -0.0012824337654819828,\n",
              "  -0.0012824337654819828],\n",
              " 94: [-0.002627935271448223,\n",
              "  -0.002627935271448223,\n",
              "  -0.002627935271448223,\n",
              "  -0.002627935271448223,\n",
              "  -0.002627935271448223,\n",
              "  -0.002627935271448223,\n",
              "  -0.002627935271448223,\n",
              "  -0.002627935271448223,\n",
              "  -0.002627935271448223,\n",
              "  -0.002627935271448223,\n",
              "  -0.002627935271448223,\n",
              "  -0.002627935271448223,\n",
              "  -0.002627935271448223,\n",
              "  -0.002627935271448223,\n",
              "  -0.002627935271448223,\n",
              "  -0.002627935271448223,\n",
              "  -0.002627935271448223,\n",
              "  -0.002627935271448223,\n",
              "  -0.002627935271448223,\n",
              "  -0.002627935271448223,\n",
              "  -0.002627935271448223,\n",
              "  -0.002627935271448223,\n",
              "  -0.002627935271448223,\n",
              "  -0.002627935271448223,\n",
              "  -0.002627935271448223,\n",
              "  -0.002627935271448223,\n",
              "  -0.002627935271448223,\n",
              "  -0.002627935271448223,\n",
              "  -0.002627935271448223,\n",
              "  -0.002627935271448223,\n",
              "  -0.002627935271448223,\n",
              "  -0.002627935271448223,\n",
              "  -0.002627935271448223,\n",
              "  -0.002627935271448223,\n",
              "  -0.002627935271448223,\n",
              "  -0.002627935271448223,\n",
              "  -0.002627935271448223,\n",
              "  -0.002627935271448223,\n",
              "  -0.002627935271448223,\n",
              "  -0.002627935271448223,\n",
              "  -0.002627935271448223,\n",
              "  -0.002627935271448223,\n",
              "  -0.002627935271448223,\n",
              "  -0.002627935271448223,\n",
              "  -0.002627935271448223,\n",
              "  -0.002627935271448223,\n",
              "  -0.002627935271448223,\n",
              "  -0.002627935271448223,\n",
              "  -0.002627935271448223,\n",
              "  -0.002627935271448223,\n",
              "  -0.002627935271448223,\n",
              "  -0.002627935271448223,\n",
              "  -0.002627935271448223,\n",
              "  -0.002627935271448223,\n",
              "  -0.002627935271448223,\n",
              "  -0.002627935271448223,\n",
              "  -0.002627935271448223,\n",
              "  -0.002627935271448223,\n",
              "  -0.002627935271448223,\n",
              "  -0.002627935271448223,\n",
              "  -0.002627935271448223,\n",
              "  -0.002627935271448223,\n",
              "  -0.002627935271448223,\n",
              "  -0.002627935271448223,\n",
              "  -0.002627935271448223,\n",
              "  -0.002627935271448223,\n",
              "  -0.002627935271448223,\n",
              "  -0.002627935271448223,\n",
              "  -0.002627935271448223,\n",
              "  -0.002627935271448223,\n",
              "  -0.002627935271448223,\n",
              "  -0.002627935271448223,\n",
              "  -0.002627935271448223,\n",
              "  -0.002627935271448223,\n",
              "  -0.002627935271448223,\n",
              "  -0.002627935271448223,\n",
              "  -0.002627935271448223,\n",
              "  -0.002627935271448223,\n",
              "  -0.002627935271448223,\n",
              "  -0.002627935271448223,\n",
              "  -0.002627935271448223,\n",
              "  -0.002627935271448223,\n",
              "  -0.002627935271448223,\n",
              "  -0.002627935271448223,\n",
              "  -0.002627935271448223,\n",
              "  -0.002627935271448223,\n",
              "  -0.002627935271448223,\n",
              "  -0.002627935271448223,\n",
              "  -0.002627935271448223,\n",
              "  -0.002627935271448223,\n",
              "  -0.002627935271448223,\n",
              "  -0.002627935271448223,\n",
              "  -0.002627935271448223,\n",
              "  -0.002627935271448223,\n",
              "  -0.002627935271448223,\n",
              "  -0.002627935271448223,\n",
              "  -0.002627935271448223,\n",
              "  -0.002627935271448223,\n",
              "  -0.002627935271448223,\n",
              "  -0.002627935271448223,\n",
              "  -0.002627935271448223,\n",
              "  -0.002627935271448223,\n",
              "  -0.002627935271448223,\n",
              "  -0.002627935271448223,\n",
              "  -0.002627935271448223,\n",
              "  -0.002627935271448223,\n",
              "  -0.002627935271448223,\n",
              "  -0.002627935271448223,\n",
              "  -0.002627935271448223,\n",
              "  -0.002627935271448223,\n",
              "  -0.002627935271448223,\n",
              "  -0.002627935271448223,\n",
              "  -0.002627935271448223,\n",
              "  -0.002627935271448223,\n",
              "  -0.002627935271448223,\n",
              "  -0.002627935271448223,\n",
              "  -0.002627935271448223,\n",
              "  -0.002627935271448223,\n",
              "  -0.002627935271448223,\n",
              "  -0.002627935271448223,\n",
              "  -0.002627935271448223,\n",
              "  -0.002627935271448223,\n",
              "  -0.002627935271448223,\n",
              "  -0.002627935271448223,\n",
              "  -0.002627935271448223,\n",
              "  -0.002627935271448223,\n",
              "  -0.002627935271448223,\n",
              "  -0.002627935271448223],\n",
              " 32: [-0.004126426458242349,\n",
              "  -0.004126426458242349,\n",
              "  -0.004126426458242349,\n",
              "  -0.004126426458242349,\n",
              "  -0.004126426458242349,\n",
              "  -0.004126426458242349,\n",
              "  -0.004126426458242349,\n",
              "  -0.004126426458242349,\n",
              "  -0.004126426458242349,\n",
              "  -0.004126426458242349,\n",
              "  -0.004126426458242349,\n",
              "  -0.004126426458242349,\n",
              "  -0.004126426458242349,\n",
              "  -0.004126426458242349,\n",
              "  -0.004126426458242349,\n",
              "  -0.004126426458242349,\n",
              "  -0.004126426458242349,\n",
              "  -0.004126426458242349,\n",
              "  -0.004126426458242349,\n",
              "  -0.004126426458242349,\n",
              "  -0.004126426458242349,\n",
              "  -0.004126426458242349,\n",
              "  -0.004126426458242349,\n",
              "  -0.004126426458242349,\n",
              "  -0.004126426458242349,\n",
              "  -0.004126426458242349,\n",
              "  -0.004126426458242349,\n",
              "  -0.004126426458242349,\n",
              "  -0.004126426458242349,\n",
              "  -0.004126426458242349,\n",
              "  -0.004126426458242349,\n",
              "  -0.004126426458242349,\n",
              "  -0.004126426458242349,\n",
              "  -0.004126426458242349,\n",
              "  -0.004126426458242349,\n",
              "  -0.004126426458242349,\n",
              "  -0.004126426458242349,\n",
              "  -0.004126426458242349,\n",
              "  -0.004126426458242349,\n",
              "  -0.004126426458242349,\n",
              "  -0.004126426458242349,\n",
              "  -0.004126426458242349,\n",
              "  -0.004126426458242349,\n",
              "  -0.004126426458242349,\n",
              "  -0.004126426458242349,\n",
              "  -0.004126426458242349,\n",
              "  -0.004126426458242349,\n",
              "  -0.004126426458242349,\n",
              "  -0.004126426458242349,\n",
              "  -0.004126426458242349,\n",
              "  -0.004126426458242349,\n",
              "  -0.004126426458242349,\n",
              "  -0.004126426458242349,\n",
              "  -0.004126426458242349,\n",
              "  -0.004126426458242349,\n",
              "  -0.004126426458242349,\n",
              "  -0.004126426458242349,\n",
              "  -0.004126426458242349,\n",
              "  -0.004126426458242349,\n",
              "  -0.004126426458242349,\n",
              "  -0.004126426458242349,\n",
              "  -0.004126426458242349,\n",
              "  -0.004126426458242349,\n",
              "  -0.004126426458242349,\n",
              "  -0.004126426458242349,\n",
              "  -0.004126426458242349,\n",
              "  -0.004126426458242349,\n",
              "  -0.004126426458242349,\n",
              "  -0.004126426458242349,\n",
              "  -0.004126426458242349,\n",
              "  -0.004126426458242349,\n",
              "  -0.004126426458242349,\n",
              "  -0.004126426458242349,\n",
              "  -0.004126426458242349,\n",
              "  -0.004126426458242349,\n",
              "  -0.004126426458242349,\n",
              "  -0.004126426458242349,\n",
              "  -0.004126426458242349,\n",
              "  -0.004126426458242349,\n",
              "  -0.004126426458242349,\n",
              "  -0.004126426458242349,\n",
              "  -0.004126426458242349,\n",
              "  -0.004126426458242349,\n",
              "  -0.004126426458242349,\n",
              "  -0.004126426458242349,\n",
              "  -0.004126426458242349,\n",
              "  -0.004126426458242349,\n",
              "  -0.004126426458242349,\n",
              "  -0.004126426458242349,\n",
              "  -0.004126426458242349,\n",
              "  -0.004126426458242349,\n",
              "  -0.004126426458242349,\n",
              "  -0.004126426458242349,\n",
              "  -0.004126426458242349,\n",
              "  -0.004126426458242349,\n",
              "  -0.004126426458242349,\n",
              "  -0.004126426458242349,\n",
              "  -0.004126426458242349,\n",
              "  -0.004126426458242349,\n",
              "  -0.004126426458242349,\n",
              "  -0.004126426458242349,\n",
              "  -0.004126426458242349,\n",
              "  -0.004126426458242349,\n",
              "  -0.004126426458242349,\n",
              "  -0.004126426458242349,\n",
              "  -0.004126426458242349,\n",
              "  -0.004126426458242349,\n",
              "  -0.004126426458242349,\n",
              "  -0.004126426458242349,\n",
              "  -0.004126426458242349,\n",
              "  -0.004126426458242349,\n",
              "  -0.004126426458242349,\n",
              "  -0.004126426458242349,\n",
              "  -0.004126426458242349,\n",
              "  -0.004126426458242349,\n",
              "  -0.004126426458242349,\n",
              "  -0.004126426458242349,\n",
              "  -0.004126426458242349,\n",
              "  -0.004126426458242349,\n",
              "  -0.004126426458242349,\n",
              "  -0.004126426458242349,\n",
              "  -0.004126426458242349,\n",
              "  -0.004126426458242349,\n",
              "  -0.004126426458242349,\n",
              "  -0.004126426458242349,\n",
              "  -0.004126426458242349,\n",
              "  -0.004126426458242349,\n",
              "  -0.004126426458242349],\n",
              " 56: [0.0017292923639615765,\n",
              "  0.0017292923639615765,\n",
              "  0.0017292923639615765,\n",
              "  0.0017292923639615765,\n",
              "  0.0017292923639615765,\n",
              "  0.0017292923639615765,\n",
              "  0.0017292923639615765,\n",
              "  0.0017292923639615765,\n",
              "  0.0017292923639615765,\n",
              "  0.0017292923639615765,\n",
              "  0.0017292923639615765,\n",
              "  0.0017292923639615765,\n",
              "  0.0017292923639615765,\n",
              "  0.0017292923639615765,\n",
              "  0.0017292923639615765,\n",
              "  0.0017292923639615765,\n",
              "  0.0017292923639615765,\n",
              "  0.0017292923639615765,\n",
              "  0.0017292923639615765,\n",
              "  0.0017292923639615765,\n",
              "  0.0017292923639615765,\n",
              "  0.0017292923639615765,\n",
              "  0.0017292923639615765,\n",
              "  0.0017292923639615765,\n",
              "  0.0017292923639615765,\n",
              "  0.0017292923639615765,\n",
              "  0.0017292923639615765,\n",
              "  0.0017292923639615765,\n",
              "  0.0017292923639615765,\n",
              "  0.0017292923639615765,\n",
              "  0.0017292923639615765,\n",
              "  0.0017292923639615765,\n",
              "  0.0017292923639615765,\n",
              "  0.0017292923639615765,\n",
              "  0.0017292923639615765,\n",
              "  0.0017292923639615765,\n",
              "  0.0017292923639615765,\n",
              "  0.0017292923639615765,\n",
              "  0.0017292923639615765,\n",
              "  0.0017292923639615765,\n",
              "  0.0017292923639615765,\n",
              "  0.0017292923639615765,\n",
              "  0.0017292923639615765,\n",
              "  0.0017292923639615765,\n",
              "  0.0017292923639615765,\n",
              "  0.0017292923639615765,\n",
              "  0.0017292923639615765,\n",
              "  0.0017292923639615765,\n",
              "  0.0017292923639615765,\n",
              "  0.0017292923639615765,\n",
              "  0.0017292923639615765,\n",
              "  0.0017292923639615765,\n",
              "  0.0017292923639615765,\n",
              "  0.0017292923639615765,\n",
              "  0.0017292923639615765,\n",
              "  0.0017292923639615765,\n",
              "  0.0017292923639615765,\n",
              "  0.0017292923639615765,\n",
              "  0.0017292923639615765,\n",
              "  0.0017292923639615765,\n",
              "  0.0017292923639615765,\n",
              "  0.0017292923639615765,\n",
              "  0.0017292923639615765,\n",
              "  0.0017292923639615765,\n",
              "  0.0017292923639615765,\n",
              "  0.0017292923639615765,\n",
              "  0.0017292923639615765,\n",
              "  0.0017292923639615765,\n",
              "  0.0017292923639615765,\n",
              "  0.0017292923639615765,\n",
              "  0.0017292923639615765,\n",
              "  0.0017292923639615765,\n",
              "  0.0017292923639615765,\n",
              "  0.0017292923639615765,\n",
              "  0.0017292923639615765,\n",
              "  0.0017292923639615765,\n",
              "  0.0017292923639615765,\n",
              "  0.0017292923639615765,\n",
              "  0.0017292923639615765,\n",
              "  0.0017292923639615765,\n",
              "  0.0017292923639615765,\n",
              "  0.0017292923639615765,\n",
              "  0.0017292923639615765,\n",
              "  0.0017292923639615765,\n",
              "  0.0017292923639615765,\n",
              "  0.0017292923639615765,\n",
              "  0.0017292923639615765,\n",
              "  0.0017292923639615765,\n",
              "  0.0017292923639615765,\n",
              "  0.0017292923639615765,\n",
              "  0.0017292923639615765,\n",
              "  0.0017292923639615765,\n",
              "  0.0017292923639615765,\n",
              "  0.0017292923639615765,\n",
              "  0.0017292923639615765,\n",
              "  0.0017292923639615765,\n",
              "  0.0017292923639615765,\n",
              "  0.0017292923639615765,\n",
              "  0.0017292923639615765,\n",
              "  0.0017292923639615765,\n",
              "  0.0017292923639615765,\n",
              "  0.0017292923639615765,\n",
              "  0.0017292923639615765,\n",
              "  0.0017292923639615765,\n",
              "  0.0017292923639615765,\n",
              "  0.0017292923639615765,\n",
              "  0.0017292923639615765,\n",
              "  0.0017292923639615765,\n",
              "  0.0017292923639615765,\n",
              "  0.0017292923639615765,\n",
              "  0.0017292923639615765,\n",
              "  0.0017292923639615765,\n",
              "  0.0017292923639615765,\n",
              "  0.0017292923639615765,\n",
              "  0.0017292923639615765,\n",
              "  0.0017292923639615765,\n",
              "  0.0017292923639615765,\n",
              "  0.0017292923639615765,\n",
              "  0.0017292923639615765,\n",
              "  0.0017292923639615765,\n",
              "  0.0017292923639615765,\n",
              "  0.0017292923639615765,\n",
              "  0.0017292923639615765,\n",
              "  0.0017292923639615765,\n",
              "  0.0017292923639615765,\n",
              "  0.0017292923639615765,\n",
              "  0.0017292923639615765,\n",
              "  0.0017292923639615765],\n",
              " 77: [-0.008253768613940338,\n",
              "  -0.008253768613940338,\n",
              "  -0.008253768613940338,\n",
              "  -0.008253768613940338,\n",
              "  -0.008253768613940338,\n",
              "  -0.008253768613940338,\n",
              "  -0.008253768613940338,\n",
              "  -0.008253768613940338,\n",
              "  -0.008253768613940338,\n",
              "  -0.008253768613940338,\n",
              "  -0.008253768613940338,\n",
              "  -0.008253768613940338,\n",
              "  -0.008253768613940338,\n",
              "  -0.008253768613940338,\n",
              "  -0.008253768613940338,\n",
              "  -0.008253768613940338,\n",
              "  -0.008253768613940338,\n",
              "  -0.008253768613940338,\n",
              "  -0.008253768613940338,\n",
              "  -0.008253768613940338,\n",
              "  -0.008253768613940338,\n",
              "  -0.008253768613940338,\n",
              "  -0.008253768613940338,\n",
              "  -0.008253768613940338,\n",
              "  -0.008253768613940338,\n",
              "  -0.008253768613940338,\n",
              "  -0.008253768613940338,\n",
              "  -0.008253768613940338,\n",
              "  -0.008253768613940338,\n",
              "  -0.008253768613940338,\n",
              "  -0.008253768613940338,\n",
              "  -0.008253768613940338,\n",
              "  -0.008253768613940338,\n",
              "  -0.008253768613940338,\n",
              "  -0.008253768613940338,\n",
              "  -0.008253768613940338,\n",
              "  -0.008253768613940338,\n",
              "  -0.008253768613940338,\n",
              "  -0.008253768613940338,\n",
              "  -0.008253768613940338,\n",
              "  -0.008253768613940338,\n",
              "  -0.008253768613940338,\n",
              "  -0.008253768613940338,\n",
              "  -0.008253768613940338,\n",
              "  -0.008253768613940338,\n",
              "  -0.008253768613940338,\n",
              "  -0.008253768613940338,\n",
              "  -0.008253768613940338,\n",
              "  -0.008253768613940338,\n",
              "  -0.008253768613940338,\n",
              "  -0.008253768613940338,\n",
              "  -0.008253768613940338,\n",
              "  -0.008253768613940338,\n",
              "  -0.008253768613940338,\n",
              "  -0.008253768613940338,\n",
              "  -0.008253768613940338,\n",
              "  -0.008253768613940338,\n",
              "  -0.008253768613940338,\n",
              "  -0.008253768613940338,\n",
              "  -0.008253768613940338,\n",
              "  -0.008253768613940338,\n",
              "  -0.008253768613940338,\n",
              "  -0.008253768613940338,\n",
              "  -0.008253768613940338,\n",
              "  -0.008253768613940338,\n",
              "  -0.008253768613940338,\n",
              "  -0.008253768613940338,\n",
              "  -0.008253768613940338,\n",
              "  -0.008253768613940338,\n",
              "  -0.008253768613940338,\n",
              "  -0.008253768613940338,\n",
              "  -0.008253768613940338,\n",
              "  -0.008253768613940338,\n",
              "  -0.008253768613940338,\n",
              "  -0.008253768613940338,\n",
              "  -0.008253768613940338,\n",
              "  -0.008253768613940338,\n",
              "  -0.008253768613940338,\n",
              "  -0.008253768613940338,\n",
              "  -0.008253768613940338,\n",
              "  -0.008253768613940338,\n",
              "  -0.008253768613940338,\n",
              "  -0.008253768613940338,\n",
              "  -0.008253768613940338,\n",
              "  -0.008253768613940338,\n",
              "  -0.008253768613940338,\n",
              "  -0.008253768613940338,\n",
              "  -0.008253768613940338,\n",
              "  -0.008253768613940338,\n",
              "  -0.008253768613940338,\n",
              "  -0.008253768613940338,\n",
              "  -0.008253768613940338,\n",
              "  -0.008253768613940338,\n",
              "  -0.008253768613940338,\n",
              "  -0.008253768613940338,\n",
              "  -0.008253768613940338,\n",
              "  -0.008253768613940338,\n",
              "  -0.008253768613940338,\n",
              "  -0.008253768613940338,\n",
              "  -0.008253768613940338,\n",
              "  -0.008253768613940338,\n",
              "  -0.008253768613940338,\n",
              "  -0.008253768613940338,\n",
              "  -0.008253768613940338,\n",
              "  -0.008253768613940338,\n",
              "  -0.008253768613940338,\n",
              "  -0.008253768613940338,\n",
              "  -0.008253768613940338,\n",
              "  -0.008253768613940338,\n",
              "  -0.008253768613940338,\n",
              "  -0.008253768613940338,\n",
              "  -0.008253768613940338,\n",
              "  -0.008253768613940338,\n",
              "  -0.008253768613940338,\n",
              "  -0.008253768613940338,\n",
              "  -0.008253768613940338,\n",
              "  -0.008253768613940338,\n",
              "  -0.008253768613940338,\n",
              "  -0.008253768613940338,\n",
              "  -0.008253768613940338,\n",
              "  -0.008253768613940338,\n",
              "  -0.008253768613940338,\n",
              "  -0.008253768613940338,\n",
              "  -0.008253768613940338,\n",
              "  -0.008253768613940338,\n",
              "  -0.008253768613940338,\n",
              "  -0.008253768613940338,\n",
              "  -0.008253768613940338],\n",
              " 6: [0.0018514421690269955,\n",
              "  0.0018514421690269955,\n",
              "  0.0018514421690269955,\n",
              "  0.0018514421690269955,\n",
              "  0.0018514421690269955,\n",
              "  0.0018514421690269955,\n",
              "  0.0018514421690269955,\n",
              "  0.0018514421690269955,\n",
              "  0.0018514421690269955,\n",
              "  0.0018514421690269955,\n",
              "  0.0018514421690269955,\n",
              "  0.0018514421690269955,\n",
              "  0.0018514421690269955,\n",
              "  0.0018514421690269955,\n",
              "  0.0018514421690269955,\n",
              "  0.0018514421690269955,\n",
              "  0.0018514421690269955,\n",
              "  0.0018514421690269955,\n",
              "  0.0018514421690269955,\n",
              "  0.0018514421690269955,\n",
              "  0.0018514421690269955,\n",
              "  0.0018514421690269955,\n",
              "  0.0018514421690269955,\n",
              "  0.0018514421690269955,\n",
              "  0.0018514421690269955,\n",
              "  0.0018514421690269955,\n",
              "  0.0018514421690269955,\n",
              "  0.0018514421690269955,\n",
              "  0.0018514421690269955,\n",
              "  0.0018514421690269955,\n",
              "  0.0018514421690269955,\n",
              "  0.0018514421690269955,\n",
              "  0.0018514421690269955,\n",
              "  0.0018514421690269955,\n",
              "  0.0018514421690269955,\n",
              "  0.0018514421690269955,\n",
              "  0.0018514421690269955,\n",
              "  0.0018514421690269955,\n",
              "  0.0018514421690269955,\n",
              "  0.0018514421690269955,\n",
              "  0.0018514421690269955,\n",
              "  0.0018514421690269955,\n",
              "  0.0018514421690269955,\n",
              "  0.0018514421690269955,\n",
              "  0.0018514421690269955,\n",
              "  0.0018514421690269955,\n",
              "  0.0018514421690269955,\n",
              "  0.0018514421690269955,\n",
              "  0.0018514421690269955,\n",
              "  0.0018514421690269955,\n",
              "  0.0018514421690269955,\n",
              "  0.0018514421690269955,\n",
              "  0.0018514421690269955,\n",
              "  0.0018514421690269955,\n",
              "  0.0018514421690269955,\n",
              "  0.0018514421690269955,\n",
              "  0.0018514421690269955,\n",
              "  0.0018514421690269955,\n",
              "  0.0018514421690269955,\n",
              "  0.0018514421690269955,\n",
              "  0.0018514421690269955,\n",
              "  0.0018514421690269955,\n",
              "  0.0018514421690269955,\n",
              "  0.0018514421690269955,\n",
              "  0.0018514421690269955,\n",
              "  0.0018514421690269955,\n",
              "  0.0018514421690269955,\n",
              "  0.0018514421690269955,\n",
              "  0.0018514421690269955,\n",
              "  0.0018514421690269955,\n",
              "  0.0018514421690269955,\n",
              "  0.0018514421690269955,\n",
              "  0.0018514421690269955,\n",
              "  0.0018514421690269955,\n",
              "  0.0018514421690269955,\n",
              "  0.0018514421690269955,\n",
              "  0.0018514421690269955,\n",
              "  0.0018514421690269955,\n",
              "  0.0018514421690269955,\n",
              "  0.0018514421690269955,\n",
              "  0.0018514421690269955,\n",
              "  0.0018514421690269955,\n",
              "  0.0018514421690269955,\n",
              "  0.0018514421690269955,\n",
              "  0.0018514421690269955,\n",
              "  0.0018514421690269955,\n",
              "  0.0018514421690269955,\n",
              "  0.0018514421690269955,\n",
              "  0.0018514421690269955,\n",
              "  0.0018514421690269955,\n",
              "  0.0018514421690269955,\n",
              "  0.0018514421690269955,\n",
              "  0.0018514421690269955,\n",
              "  0.0018514421690269955,\n",
              "  0.0018514421690269955,\n",
              "  0.0018514421690269955,\n",
              "  0.0018514421690269955,\n",
              "  0.0018514421690269955,\n",
              "  0.0018514421690269955,\n",
              "  0.0018514421690269955,\n",
              "  0.0018514421690269955,\n",
              "  0.0018514421690269955,\n",
              "  0.0018514421690269955,\n",
              "  0.0018514421690269955,\n",
              "  0.0018514421690269955,\n",
              "  0.0018514421690269955,\n",
              "  0.0018514421690269955,\n",
              "  0.0018514421690269955,\n",
              "  0.0018514421690269955,\n",
              "  0.0018514421690269955,\n",
              "  0.0018514421690269955,\n",
              "  0.0018514421690269955,\n",
              "  0.0018514421690269955,\n",
              "  0.0018514421690269955,\n",
              "  0.0018514421690269955,\n",
              "  0.0018514421690269955,\n",
              "  0.0018514421690269955,\n",
              "  0.0018514421690269955,\n",
              "  0.0018514421690269955,\n",
              "  0.0018514421690269955,\n",
              "  0.0018514421690269955,\n",
              "  0.0018514421690269955,\n",
              "  0.0018514421690269955,\n",
              "  0.0018514421690269955,\n",
              "  0.0018514421690269955,\n",
              "  0.0018514421690269955,\n",
              "  0.0018514421690269955,\n",
              "  0.0018514421690269955],\n",
              " 86: [-0.00036976695446355734,\n",
              "  -0.00036976695446355734,\n",
              "  -0.00036976695446355734,\n",
              "  -0.00036976695446355734,\n",
              "  -0.00036976695446355734,\n",
              "  -0.00036976695446355734,\n",
              "  -0.00036976695446355734,\n",
              "  -0.00036976695446355734,\n",
              "  -0.00036976695446355734,\n",
              "  -0.00036976695446355734,\n",
              "  -0.00036976695446355734,\n",
              "  -0.00036976695446355734,\n",
              "  -0.00036976695446355734,\n",
              "  -0.00036976695446355734,\n",
              "  -0.00036976695446355734,\n",
              "  -0.00036976695446355734,\n",
              "  -0.00036976695446355734,\n",
              "  -0.00036976695446355734,\n",
              "  -0.00036976695446355734,\n",
              "  -0.00036976695446355734,\n",
              "  -0.00036976695446355734,\n",
              "  -0.00036976695446355734,\n",
              "  -0.00036976695446355734,\n",
              "  -0.00036976695446355734,\n",
              "  -0.00036976695446355734,\n",
              "  -0.00036976695446355734,\n",
              "  -0.00036976695446355734,\n",
              "  -0.00036976695446355734,\n",
              "  -0.00036976695446355734,\n",
              "  -0.00036976695446355734,\n",
              "  -0.00036976695446355734,\n",
              "  -0.00036976695446355734,\n",
              "  -0.00036976695446355734,\n",
              "  -0.00036976695446355734,\n",
              "  -0.00036976695446355734,\n",
              "  -0.00036976695446355734,\n",
              "  -0.00036976695446355734,\n",
              "  -0.00036976695446355734,\n",
              "  -0.00036976695446355734,\n",
              "  -0.00036976695446355734,\n",
              "  -0.00036976695446355734,\n",
              "  -0.00036976695446355734,\n",
              "  -0.00036976695446355734,\n",
              "  -0.00036976695446355734,\n",
              "  -0.00036976695446355734,\n",
              "  -0.00036976695446355734,\n",
              "  -0.00036976695446355734,\n",
              "  -0.00036976695446355734,\n",
              "  -0.00036976695446355734,\n",
              "  -0.00036976695446355734,\n",
              "  -0.00036976695446355734,\n",
              "  -0.00036976695446355734,\n",
              "  -0.00036976695446355734,\n",
              "  -0.00036976695446355734,\n",
              "  -0.00036976695446355734,\n",
              "  -0.00036976695446355734,\n",
              "  -0.00036976695446355734,\n",
              "  -0.00036976695446355734,\n",
              "  -0.00036976695446355734,\n",
              "  -0.00036976695446355734,\n",
              "  -0.00036976695446355734,\n",
              "  -0.00036976695446355734,\n",
              "  -0.00036976695446355734,\n",
              "  -0.00036976695446355734,\n",
              "  -0.00036976695446355734,\n",
              "  -0.00036976695446355734,\n",
              "  -0.00036976695446355734,\n",
              "  -0.00036976695446355734,\n",
              "  -0.00036976695446355734,\n",
              "  -0.00036976695446355734,\n",
              "  -0.00036976695446355734,\n",
              "  -0.00036976695446355734,\n",
              "  -0.00036976695446355734,\n",
              "  -0.00036976695446355734,\n",
              "  -0.00036976695446355734,\n",
              "  -0.00036976695446355734,\n",
              "  -0.00036976695446355734,\n",
              "  -0.00036976695446355734,\n",
              "  -0.00036976695446355734,\n",
              "  -0.00036976695446355734,\n",
              "  -0.00036976695446355734,\n",
              "  -0.00036976695446355734,\n",
              "  -0.00036976695446355734,\n",
              "  -0.00036976695446355734,\n",
              "  -0.00036976695446355734,\n",
              "  -0.00036976695446355734,\n",
              "  -0.00036976695446355734,\n",
              "  -0.00036976695446355734,\n",
              "  -0.00036976695446355734,\n",
              "  -0.00036976695446355734,\n",
              "  -0.00036976695446355734,\n",
              "  -0.00036976695446355734,\n",
              "  -0.00036976695446355734,\n",
              "  -0.00036976695446355734,\n",
              "  -0.00036976695446355734,\n",
              "  -0.00036976695446355734,\n",
              "  -0.00036976695446355734,\n",
              "  -0.00036976695446355734,\n",
              "  -0.00036976695446355734,\n",
              "  -0.00036976695446355734,\n",
              "  -0.00036976695446355734,\n",
              "  -0.00036976695446355734,\n",
              "  -0.00036976695446355734,\n",
              "  -0.00036976695446355734,\n",
              "  -0.00036976695446355734,\n",
              "  -0.00036976695446355734,\n",
              "  -0.00036976695446355734,\n",
              "  -0.00036976695446355734,\n",
              "  -0.00036976695446355734,\n",
              "  -0.00036976695446355734,\n",
              "  -0.00036976695446355734,\n",
              "  -0.00036976695446355734,\n",
              "  -0.00036976695446355734,\n",
              "  -0.00036976695446355734,\n",
              "  -0.00036976695446355734,\n",
              "  -0.00036976695446355734,\n",
              "  -0.00036976695446355734,\n",
              "  -0.00036976695446355734,\n",
              "  -0.00036976695446355734,\n",
              "  -0.00036976695446355734,\n",
              "  -0.00036976695446355734,\n",
              "  -0.00036976695446355734,\n",
              "  -0.00036976695446355734,\n",
              "  -0.00036976695446355734,\n",
              "  -0.00036976695446355734,\n",
              "  -0.00036976695446355734,\n",
              "  -0.00036976695446355734,\n",
              "  -0.00036976695446355734],\n",
              " 88: [-0.007225651401313371,\n",
              "  -0.007225651401313371,\n",
              "  -0.007225651401313371,\n",
              "  -0.007225651401313371,\n",
              "  -0.007225651401313371,\n",
              "  -0.007225651401313371,\n",
              "  -0.007225651401313371,\n",
              "  -0.007225651401313371,\n",
              "  -0.007225651401313371,\n",
              "  -0.007225651401313371,\n",
              "  -0.007225651401313371,\n",
              "  -0.007225651401313371,\n",
              "  -0.007225651401313371,\n",
              "  -0.007225651401313371,\n",
              "  -0.007225651401313371,\n",
              "  -0.007225651401313371,\n",
              "  -0.007225651401313371,\n",
              "  -0.007225651401313371,\n",
              "  -0.007225651401313371,\n",
              "  -0.007225651401313371,\n",
              "  -0.007225651401313371,\n",
              "  -0.007225651401313371,\n",
              "  -0.007225651401313371,\n",
              "  -0.007225651401313371,\n",
              "  -0.007225651401313371,\n",
              "  -0.007225651401313371,\n",
              "  -0.007225651401313371,\n",
              "  -0.007225651401313371,\n",
              "  -0.007225651401313371,\n",
              "  -0.007225651401313371,\n",
              "  -0.007225651401313371,\n",
              "  -0.007225651401313371,\n",
              "  -0.007225651401313371,\n",
              "  -0.007225651401313371,\n",
              "  -0.007225651401313371,\n",
              "  -0.007225651401313371,\n",
              "  -0.007225651401313371,\n",
              "  -0.007225651401313371,\n",
              "  -0.007225651401313371,\n",
              "  -0.007225651401313371,\n",
              "  -0.007225651401313371,\n",
              "  -0.007225651401313371,\n",
              "  -0.007225651401313371,\n",
              "  -0.007225651401313371,\n",
              "  -0.007225651401313371,\n",
              "  -0.007225651401313371,\n",
              "  -0.007225651401313371,\n",
              "  -0.007225651401313371,\n",
              "  -0.007225651401313371,\n",
              "  -0.007225651401313371,\n",
              "  -0.007225651401313371,\n",
              "  -0.007225651401313371,\n",
              "  -0.007225651401313371,\n",
              "  -0.007225651401313371,\n",
              "  -0.007225651401313371,\n",
              "  -0.007225651401313371,\n",
              "  -0.007225651401313371,\n",
              "  -0.007225651401313371,\n",
              "  -0.007225651401313371,\n",
              "  -0.007225651401313371,\n",
              "  -0.007225651401313371,\n",
              "  -0.007225651401313371,\n",
              "  -0.007225651401313371,\n",
              "  -0.007225651401313371,\n",
              "  -0.007225651401313371,\n",
              "  -0.007225651401313371,\n",
              "  -0.007225651401313371,\n",
              "  -0.007225651401313371,\n",
              "  -0.007225651401313371,\n",
              "  -0.007225651401313371,\n",
              "  -0.007225651401313371,\n",
              "  -0.007225651401313371,\n",
              "  -0.007225651401313371,\n",
              "  -0.007225651401313371,\n",
              "  -0.007225651401313371,\n",
              "  -0.007225651401313371,\n",
              "  -0.007225651401313371,\n",
              "  -0.007225651401313371,\n",
              "  -0.007225651401313371,\n",
              "  -0.007225651401313371,\n",
              "  -0.007225651401313371,\n",
              "  -0.007225651401313371,\n",
              "  -0.007225651401313371,\n",
              "  -0.007225651401313371,\n",
              "  -0.007225651401313371,\n",
              "  -0.007225651401313371,\n",
              "  -0.007225651401313371,\n",
              "  -0.007225651401313371,\n",
              "  -0.007225651401313371,\n",
              "  -0.007225651401313371,\n",
              "  -0.007225651401313371,\n",
              "  -0.007225651401313371,\n",
              "  -0.007225651401313371,\n",
              "  -0.007225651401313371,\n",
              "  -0.007225651401313371,\n",
              "  -0.007225651401313371,\n",
              "  -0.007225651401313371,\n",
              "  -0.007225651401313371,\n",
              "  -0.007225651401313371,\n",
              "  -0.007225651401313371,\n",
              "  -0.007225651401313371,\n",
              "  -0.007225651401313371,\n",
              "  -0.007225651401313371,\n",
              "  -0.007225651401313371,\n",
              "  -0.007225651401313371,\n",
              "  -0.007225651401313371,\n",
              "  -0.007225651401313371,\n",
              "  -0.007225651401313371,\n",
              "  -0.007225651401313371,\n",
              "  -0.007225651401313371,\n",
              "  -0.007225651401313371,\n",
              "  -0.007225651401313371,\n",
              "  -0.007225651401313371,\n",
              "  -0.007225651401313371,\n",
              "  -0.007225651401313371,\n",
              "  -0.007225651401313371,\n",
              "  -0.007225651401313371,\n",
              "  -0.007225651401313371,\n",
              "  -0.007225651401313371,\n",
              "  -0.007225651401313371,\n",
              "  -0.007225651401313371,\n",
              "  -0.007225651401313371,\n",
              "  -0.007225651401313371,\n",
              "  -0.007225651401313371,\n",
              "  -0.007225651401313371,\n",
              "  -0.007225651401313371,\n",
              "  -0.007225651401313371,\n",
              "  -0.007225651401313371],\n",
              " 33: [-0.007838155988793005,\n",
              "  -0.007838155988793005,\n",
              "  -0.007838155988793005,\n",
              "  -0.007838155988793005,\n",
              "  -0.007838155988793005,\n",
              "  -0.007838155988793005,\n",
              "  -0.007838155988793005,\n",
              "  -0.007838155988793005,\n",
              "  -0.007838155988793005,\n",
              "  -0.007838155988793005,\n",
              "  -0.007838155988793005,\n",
              "  -0.007838155988793005,\n",
              "  -0.007838155988793005,\n",
              "  -0.007838155988793005,\n",
              "  -0.007838155988793005,\n",
              "  -0.007838155988793005,\n",
              "  -0.007838155988793005,\n",
              "  -0.007838155988793005,\n",
              "  -0.007838155988793005,\n",
              "  -0.007838155988793005,\n",
              "  -0.007838155988793005,\n",
              "  -0.007838155988793005,\n",
              "  -0.007838155988793005,\n",
              "  -0.007838155988793005,\n",
              "  -0.007838155988793005,\n",
              "  -0.007838155988793005,\n",
              "  -0.007838155988793005,\n",
              "  -0.007838155988793005,\n",
              "  -0.007838155988793005,\n",
              "  -0.007838155988793005,\n",
              "  -0.007838155988793005,\n",
              "  -0.007838155988793005,\n",
              "  -0.007838155988793005,\n",
              "  -0.007838155988793005,\n",
              "  -0.007838155988793005,\n",
              "  -0.007838155988793005,\n",
              "  -0.007838155988793005,\n",
              "  -0.007838155988793005,\n",
              "  -0.007838155988793005,\n",
              "  -0.007838155988793005,\n",
              "  -0.007838155988793005,\n",
              "  -0.007838155988793005,\n",
              "  -0.007838155988793005,\n",
              "  -0.007838155988793005,\n",
              "  -0.007838155988793005,\n",
              "  -0.007838155988793005,\n",
              "  -0.007838155988793005,\n",
              "  -0.007838155988793005,\n",
              "  -0.007838155988793005,\n",
              "  -0.007838155988793005,\n",
              "  -0.007838155988793005,\n",
              "  -0.007838155988793005,\n",
              "  -0.007838155988793005,\n",
              "  -0.007838155988793005,\n",
              "  -0.007838155988793005,\n",
              "  -0.007838155988793005,\n",
              "  -0.007838155988793005,\n",
              "  -0.007838155988793005,\n",
              "  -0.007838155988793005,\n",
              "  -0.007838155988793005,\n",
              "  -0.007838155988793005,\n",
              "  -0.007838155988793005,\n",
              "  -0.007838155988793005,\n",
              "  -0.007838155988793005,\n",
              "  -0.007838155988793005,\n",
              "  -0.007838155988793005,\n",
              "  -0.007838155988793005,\n",
              "  -0.007838155988793005,\n",
              "  -0.007838155988793005,\n",
              "  -0.007838155988793005,\n",
              "  -0.007838155988793005,\n",
              "  -0.007838155988793005,\n",
              "  -0.007838155988793005,\n",
              "  -0.007838155988793005,\n",
              "  -0.007838155988793005,\n",
              "  -0.007838155988793005,\n",
              "  -0.007838155988793005,\n",
              "  -0.007838155988793005,\n",
              "  -0.007838155988793005,\n",
              "  -0.007838155988793005,\n",
              "  -0.007838155988793005,\n",
              "  -0.007838155988793005,\n",
              "  -0.007838155988793005,\n",
              "  -0.007838155988793005,\n",
              "  -0.007838155988793005,\n",
              "  -0.007838155988793005,\n",
              "  -0.007838155988793005,\n",
              "  -0.007838155988793005,\n",
              "  -0.007838155988793005,\n",
              "  -0.007838155988793005,\n",
              "  -0.007838155988793005,\n",
              "  -0.007838155988793005,\n",
              "  -0.007838155988793005,\n",
              "  -0.007838155988793005,\n",
              "  -0.007838155988793005,\n",
              "  -0.007838155988793005,\n",
              "  -0.007838155988793005,\n",
              "  -0.007838155988793005,\n",
              "  -0.007838155988793005,\n",
              "  -0.007838155988793005,\n",
              "  -0.007838155988793005,\n",
              "  -0.007838155988793005,\n",
              "  -0.007838155988793005,\n",
              "  -0.007838155988793005,\n",
              "  -0.007838155988793005,\n",
              "  -0.007838155988793005,\n",
              "  -0.007838155988793005,\n",
              "  -0.007838155988793005,\n",
              "  -0.007838155988793005,\n",
              "  -0.007838155988793005,\n",
              "  -0.007838155988793005,\n",
              "  -0.007838155988793005,\n",
              "  -0.007838155988793005,\n",
              "  -0.007838155988793005,\n",
              "  -0.007838155988793005,\n",
              "  -0.007838155988793005,\n",
              "  -0.007838155988793005,\n",
              "  -0.007838155988793005,\n",
              "  -0.007838155988793005,\n",
              "  -0.007838155988793005,\n",
              "  -0.007838155988793005,\n",
              "  -0.007838155988793005,\n",
              "  -0.007838155988793005,\n",
              "  -0.007838155988793005,\n",
              "  -0.007838155988793005,\n",
              "  -0.007838155988793005,\n",
              "  -0.007838155988793005,\n",
              "  -0.007838155988793005],\n",
              " 71: [-0.00374586333600746,\n",
              "  -0.00374586333600746,\n",
              "  -0.00374586333600746,\n",
              "  -0.00374586333600746,\n",
              "  -0.00374586333600746,\n",
              "  -0.00374586333600746,\n",
              "  -0.00374586333600746,\n",
              "  -0.00374586333600746,\n",
              "  -0.00374586333600746,\n",
              "  -0.00374586333600746,\n",
              "  -0.00374586333600746,\n",
              "  -0.00374586333600746,\n",
              "  -0.00374586333600746,\n",
              "  -0.00374586333600746,\n",
              "  -0.00374586333600746,\n",
              "  -0.00374586333600746,\n",
              "  -0.00374586333600746,\n",
              "  -0.00374586333600746,\n",
              "  -0.00374586333600746,\n",
              "  -0.00374586333600746,\n",
              "  -0.00374586333600746,\n",
              "  -0.00374586333600746,\n",
              "  -0.00374586333600746,\n",
              "  -0.00374586333600746,\n",
              "  -0.00374586333600746,\n",
              "  -0.00374586333600746,\n",
              "  -0.00374586333600746,\n",
              "  -0.00374586333600746,\n",
              "  -0.00374586333600746,\n",
              "  -0.00374586333600746,\n",
              "  -0.00374586333600746,\n",
              "  -0.00374586333600746,\n",
              "  -0.00374586333600746,\n",
              "  -0.00374586333600746,\n",
              "  -0.00374586333600746,\n",
              "  -0.00374586333600746,\n",
              "  -0.00374586333600746,\n",
              "  -0.00374586333600746,\n",
              "  -0.00374586333600746,\n",
              "  -0.00374586333600746,\n",
              "  -0.00374586333600746,\n",
              "  -0.00374586333600746,\n",
              "  -0.00374586333600746,\n",
              "  -0.00374586333600746,\n",
              "  -0.00374586333600746,\n",
              "  -0.00374586333600746,\n",
              "  -0.00374586333600746,\n",
              "  -0.00374586333600746,\n",
              "  -0.00374586333600746,\n",
              "  -0.00374586333600746,\n",
              "  -0.00374586333600746,\n",
              "  -0.00374586333600746,\n",
              "  -0.00374586333600746,\n",
              "  -0.00374586333600746,\n",
              "  -0.00374586333600746,\n",
              "  -0.00374586333600746,\n",
              "  -0.00374586333600746,\n",
              "  -0.00374586333600746,\n",
              "  -0.00374586333600746,\n",
              "  -0.00374586333600746,\n",
              "  -0.00374586333600746,\n",
              "  -0.00374586333600746,\n",
              "  -0.00374586333600746,\n",
              "  -0.00374586333600746,\n",
              "  -0.00374586333600746,\n",
              "  -0.00374586333600746,\n",
              "  -0.00374586333600746,\n",
              "  -0.00374586333600746,\n",
              "  -0.00374586333600746,\n",
              "  -0.00374586333600746,\n",
              "  -0.00374586333600746,\n",
              "  -0.00374586333600746,\n",
              "  -0.00374586333600746,\n",
              "  -0.00374586333600746,\n",
              "  -0.00374586333600746,\n",
              "  -0.00374586333600746,\n",
              "  -0.00374586333600746,\n",
              "  -0.00374586333600746,\n",
              "  -0.00374586333600746,\n",
              "  -0.00374586333600746,\n",
              "  -0.00374586333600746,\n",
              "  -0.00374586333600746,\n",
              "  -0.00374586333600746,\n",
              "  -0.00374586333600746,\n",
              "  -0.00374586333600746,\n",
              "  -0.00374586333600746,\n",
              "  -0.00374586333600746,\n",
              "  -0.00374586333600746,\n",
              "  -0.00374586333600746,\n",
              "  -0.00374586333600746,\n",
              "  -0.00374586333600746,\n",
              "  -0.00374586333600746,\n",
              "  -0.00374586333600746,\n",
              "  -0.00374586333600746,\n",
              "  -0.00374586333600746,\n",
              "  -0.00374586333600746,\n",
              "  -0.00374586333600746,\n",
              "  -0.00374586333600746,\n",
              "  -0.00374586333600746,\n",
              "  -0.00374586333600746,\n",
              "  -0.00374586333600746,\n",
              "  -0.00374586333600746,\n",
              "  -0.00374586333600746,\n",
              "  -0.00374586333600746,\n",
              "  -0.00374586333600746,\n",
              "  -0.00374586333600746,\n",
              "  -0.00374586333600746,\n",
              "  -0.00374586333600746,\n",
              "  -0.00374586333600746,\n",
              "  -0.00374586333600746,\n",
              "  -0.00374586333600746,\n",
              "  -0.00374586333600746,\n",
              "  -0.00374586333600746,\n",
              "  -0.00374586333600746,\n",
              "  -0.00374586333600746,\n",
              "  -0.00374586333600746,\n",
              "  -0.00374586333600746,\n",
              "  -0.00374586333600746,\n",
              "  -0.00374586333600746,\n",
              "  -0.00374586333600746,\n",
              "  -0.00374586333600746,\n",
              "  -0.00374586333600746,\n",
              "  -0.00374586333600746,\n",
              "  -0.00374586333600746,\n",
              "  -0.00374586333600746,\n",
              "  -0.00374586333600746,\n",
              "  -0.00374586333600746,\n",
              "  -0.00374586333600746],\n",
              " 27: [3.9489414120907895e-06,\n",
              "  3.9489414120907895e-06,\n",
              "  3.9489414120907895e-06,\n",
              "  3.9489414120907895e-06,\n",
              "  3.9489414120907895e-06,\n",
              "  3.9489414120907895e-06,\n",
              "  3.9489414120907895e-06,\n",
              "  3.9489414120907895e-06,\n",
              "  3.9489414120907895e-06,\n",
              "  3.9489414120907895e-06,\n",
              "  3.9489414120907895e-06,\n",
              "  3.9489414120907895e-06,\n",
              "  3.9489414120907895e-06,\n",
              "  3.9489414120907895e-06,\n",
              "  3.9489414120907895e-06,\n",
              "  3.9489414120907895e-06,\n",
              "  3.9489414120907895e-06,\n",
              "  3.9489414120907895e-06,\n",
              "  3.9489414120907895e-06,\n",
              "  3.9489414120907895e-06,\n",
              "  3.9489414120907895e-06,\n",
              "  3.9489414120907895e-06,\n",
              "  3.9489414120907895e-06,\n",
              "  3.9489414120907895e-06,\n",
              "  3.9489414120907895e-06,\n",
              "  3.9489414120907895e-06,\n",
              "  3.9489414120907895e-06,\n",
              "  3.9489414120907895e-06,\n",
              "  3.9489414120907895e-06,\n",
              "  3.9489414120907895e-06,\n",
              "  3.9489414120907895e-06,\n",
              "  3.9489414120907895e-06,\n",
              "  3.9489414120907895e-06,\n",
              "  3.9489414120907895e-06,\n",
              "  3.9489414120907895e-06,\n",
              "  3.9489414120907895e-06,\n",
              "  3.9489414120907895e-06,\n",
              "  3.9489414120907895e-06,\n",
              "  3.9489414120907895e-06,\n",
              "  3.9489414120907895e-06,\n",
              "  3.9489414120907895e-06,\n",
              "  3.9489414120907895e-06,\n",
              "  3.9489414120907895e-06,\n",
              "  3.9489414120907895e-06,\n",
              "  3.9489414120907895e-06,\n",
              "  3.9489414120907895e-06,\n",
              "  3.9489414120907895e-06,\n",
              "  3.9489414120907895e-06,\n",
              "  3.9489414120907895e-06,\n",
              "  3.9489414120907895e-06,\n",
              "  3.9489414120907895e-06,\n",
              "  3.9489414120907895e-06,\n",
              "  3.9489414120907895e-06,\n",
              "  3.9489414120907895e-06,\n",
              "  3.9489414120907895e-06,\n",
              "  3.9489414120907895e-06,\n",
              "  3.9489414120907895e-06,\n",
              "  3.9489414120907895e-06,\n",
              "  3.9489414120907895e-06,\n",
              "  3.9489414120907895e-06,\n",
              "  3.9489414120907895e-06,\n",
              "  3.9489414120907895e-06,\n",
              "  3.9489414120907895e-06,\n",
              "  3.9489414120907895e-06,\n",
              "  3.9489414120907895e-06,\n",
              "  3.9489414120907895e-06,\n",
              "  3.9489414120907895e-06,\n",
              "  3.9489414120907895e-06,\n",
              "  3.9489414120907895e-06,\n",
              "  3.9489414120907895e-06,\n",
              "  3.9489414120907895e-06,\n",
              "  3.9489414120907895e-06,\n",
              "  3.9489414120907895e-06,\n",
              "  3.9489414120907895e-06,\n",
              "  3.9489414120907895e-06,\n",
              "  3.9489414120907895e-06,\n",
              "  3.9489414120907895e-06,\n",
              "  3.9489414120907895e-06,\n",
              "  3.9489414120907895e-06,\n",
              "  3.9489414120907895e-06,\n",
              "  3.9489414120907895e-06,\n",
              "  3.9489414120907895e-06,\n",
              "  3.9489414120907895e-06,\n",
              "  3.9489414120907895e-06,\n",
              "  3.9489414120907895e-06,\n",
              "  3.9489414120907895e-06,\n",
              "  3.9489414120907895e-06,\n",
              "  3.9489414120907895e-06,\n",
              "  3.9489414120907895e-06,\n",
              "  3.9489414120907895e-06,\n",
              "  3.9489414120907895e-06,\n",
              "  3.9489414120907895e-06,\n",
              "  3.9489414120907895e-06,\n",
              "  3.9489414120907895e-06,\n",
              "  3.9489414120907895e-06,\n",
              "  3.9489414120907895e-06,\n",
              "  3.9489414120907895e-06,\n",
              "  3.9489414120907895e-06,\n",
              "  3.9489414120907895e-06,\n",
              "  3.9489414120907895e-06,\n",
              "  3.9489414120907895e-06,\n",
              "  3.9489414120907895e-06,\n",
              "  3.9489414120907895e-06,\n",
              "  3.9489414120907895e-06,\n",
              "  3.9489414120907895e-06,\n",
              "  3.9489414120907895e-06,\n",
              "  3.9489414120907895e-06,\n",
              "  3.9489414120907895e-06,\n",
              "  3.9489414120907895e-06,\n",
              "  3.9489414120907895e-06,\n",
              "  3.9489414120907895e-06,\n",
              "  3.9489414120907895e-06,\n",
              "  3.9489414120907895e-06,\n",
              "  3.9489414120907895e-06,\n",
              "  3.9489414120907895e-06,\n",
              "  3.9489414120907895e-06,\n",
              "  3.9489414120907895e-06,\n",
              "  3.9489414120907895e-06,\n",
              "  3.9489414120907895e-06,\n",
              "  3.9489414120907895e-06,\n",
              "  3.9489414120907895e-06,\n",
              "  3.9489414120907895e-06,\n",
              "  3.9489414120907895e-06,\n",
              "  3.9489414120907895e-06,\n",
              "  3.9489414120907895e-06,\n",
              "  3.9489414120907895e-06,\n",
              "  3.9489414120907895e-06,\n",
              "  3.9489414120907895e-06],\n",
              " 93: [-0.0019605309153121198,\n",
              "  -0.0019605309153121198,\n",
              "  -0.0019605309153121198,\n",
              "  -0.0019605309153121198,\n",
              "  -0.0019605309153121198,\n",
              "  -0.0019605309153121198,\n",
              "  -0.0019605309153121198,\n",
              "  -0.0019605309153121198,\n",
              "  -0.0019605309153121198,\n",
              "  -0.0019605309153121198,\n",
              "  -0.0019605309153121198,\n",
              "  -0.0019605309153121198,\n",
              "  -0.0019605309153121198,\n",
              "  -0.0019605309153121198,\n",
              "  -0.0019605309153121198,\n",
              "  -0.0019605309153121198,\n",
              "  -0.0019605309153121198,\n",
              "  -0.0019605309153121198,\n",
              "  -0.0019605309153121198,\n",
              "  -0.0019605309153121198,\n",
              "  -0.0019605309153121198,\n",
              "  -0.0019605309153121198,\n",
              "  -0.0019605309153121198,\n",
              "  -0.0019605309153121198,\n",
              "  -0.0019605309153121198,\n",
              "  -0.0019605309153121198,\n",
              "  -0.0019605309153121198,\n",
              "  -0.0019605309153121198,\n",
              "  -0.0019605309153121198,\n",
              "  -0.0019605309153121198,\n",
              "  -0.0019605309153121198,\n",
              "  -0.0019605309153121198,\n",
              "  -0.0019605309153121198,\n",
              "  -0.0019605309153121198,\n",
              "  -0.0019605309153121198,\n",
              "  -0.0019605309153121198,\n",
              "  -0.0019605309153121198,\n",
              "  -0.0019605309153121198,\n",
              "  -0.0019605309153121198,\n",
              "  -0.0019605309153121198,\n",
              "  -0.0019605309153121198,\n",
              "  -0.0019605309153121198,\n",
              "  -0.0019605309153121198,\n",
              "  -0.0019605309153121198,\n",
              "  -0.0019605309153121198,\n",
              "  -0.0019605309153121198,\n",
              "  -0.0019605309153121198,\n",
              "  -0.0019605309153121198,\n",
              "  -0.0019605309153121198,\n",
              "  -0.0019605309153121198,\n",
              "  -0.0019605309153121198,\n",
              "  -0.0019605309153121198,\n",
              "  -0.0019605309153121198,\n",
              "  -0.0019605309153121198,\n",
              "  -0.0019605309153121198,\n",
              "  -0.0019605309153121198,\n",
              "  -0.0019605309153121198,\n",
              "  -0.0019605309153121198,\n",
              "  -0.0019605309153121198,\n",
              "  -0.0019605309153121198,\n",
              "  -0.0019605309153121198,\n",
              "  -0.0019605309153121198,\n",
              "  -0.0019605309153121198,\n",
              "  -0.0019605309153121198,\n",
              "  -0.0019605309153121198,\n",
              "  -0.0019605309153121198,\n",
              "  -0.0019605309153121198,\n",
              "  -0.0019605309153121198,\n",
              "  -0.0019605309153121198,\n",
              "  -0.0019605309153121198,\n",
              "  -0.0019605309153121198,\n",
              "  -0.0019605309153121198,\n",
              "  -0.0019605309153121198,\n",
              "  -0.0019605309153121198,\n",
              "  -0.0019605309153121198,\n",
              "  -0.0019605309153121198,\n",
              "  -0.0019605309153121198,\n",
              "  -0.0019605309153121198,\n",
              "  -0.0019605309153121198,\n",
              "  -0.0019605309153121198,\n",
              "  -0.0019605309153121198,\n",
              "  -0.0019605309153121198,\n",
              "  -0.0019605309153121198,\n",
              "  -0.0019605309153121198,\n",
              "  -0.0019605309153121198,\n",
              "  -0.0019605309153121198,\n",
              "  -0.0019605309153121198,\n",
              "  -0.0019605309153121198,\n",
              "  -0.0019605309153121198,\n",
              "  -0.0019605309153121198,\n",
              "  -0.0019605309153121198,\n",
              "  -0.0019605309153121198,\n",
              "  -0.0019605309153121198,\n",
              "  -0.0019605309153121198,\n",
              "  -0.0019605309153121198,\n",
              "  -0.0019605309153121198,\n",
              "  -0.0019605309153121198,\n",
              "  -0.0019605309153121198,\n",
              "  -0.0019605309153121198,\n",
              "  -0.0019605309153121198,\n",
              "  -0.0019605309153121198,\n",
              "  -0.0019605309153121198,\n",
              "  -0.0019605309153121198,\n",
              "  -0.0019605309153121198,\n",
              "  -0.0019605309153121198,\n",
              "  -0.0019605309153121198,\n",
              "  -0.0019605309153121198,\n",
              "  -0.0019605309153121198,\n",
              "  -0.0019605309153121198,\n",
              "  -0.0019605309153121198,\n",
              "  -0.0019605309153121198,\n",
              "  -0.0019605309153121198,\n",
              "  -0.0019605309153121198,\n",
              "  -0.0019605309153121198,\n",
              "  -0.0019605309153121198,\n",
              "  -0.0019605309153121198,\n",
              "  -0.0019605309153121198,\n",
              "  -0.0019605309153121198,\n",
              "  -0.0019605309153121198,\n",
              "  -0.0019605309153121198,\n",
              "  -0.0019605309153121198,\n",
              "  -0.0019605309153121198,\n",
              "  -0.0019605309153121198,\n",
              "  -0.0019605309153121198,\n",
              "  -0.0019605309153121198,\n",
              "  -0.0019605309153121198,\n",
              "  -0.0019605309153121198,\n",
              "  -0.0019605309153121198],\n",
              " 99: [-0.0020534846412374463,\n",
              "  -0.0020534846412374463,\n",
              "  -0.0020534846412374463,\n",
              "  -0.0020534846412374463,\n",
              "  -0.0020534846412374463,\n",
              "  -0.0020534846412374463,\n",
              "  -0.0020534846412374463,\n",
              "  -0.0020534846412374463,\n",
              "  -0.0020534846412374463,\n",
              "  -0.0020534846412374463,\n",
              "  -0.0020534846412374463,\n",
              "  -0.0020534846412374463,\n",
              "  -0.0020534846412374463,\n",
              "  -0.0020534846412374463,\n",
              "  -0.0020534846412374463,\n",
              "  -0.0020534846412374463,\n",
              "  -0.0020534846412374463,\n",
              "  -0.0020534846412374463,\n",
              "  -0.0020534846412374463,\n",
              "  -0.0020534846412374463,\n",
              "  -0.0020534846412374463,\n",
              "  -0.0020534846412374463,\n",
              "  -0.0020534846412374463,\n",
              "  -0.0020534846412374463,\n",
              "  -0.0020534846412374463,\n",
              "  -0.0020534846412374463,\n",
              "  -0.0020534846412374463,\n",
              "  -0.0020534846412374463,\n",
              "  -0.0020534846412374463,\n",
              "  -0.0020534846412374463,\n",
              "  -0.0020534846412374463,\n",
              "  -0.0020534846412374463,\n",
              "  -0.0020534846412374463,\n",
              "  -0.0020534846412374463,\n",
              "  -0.0020534846412374463,\n",
              "  -0.0020534846412374463,\n",
              "  -0.0020534846412374463,\n",
              "  -0.0020534846412374463,\n",
              "  -0.0020534846412374463,\n",
              "  -0.0020534846412374463,\n",
              "  -0.0020534846412374463,\n",
              "  -0.0020534846412374463,\n",
              "  -0.0020534846412374463,\n",
              "  -0.0020534846412374463,\n",
              "  -0.0020534846412374463,\n",
              "  -0.0020534846412374463,\n",
              "  -0.0020534846412374463,\n",
              "  -0.0020534846412374463,\n",
              "  -0.0020534846412374463,\n",
              "  -0.0020534846412374463,\n",
              "  -0.0020534846412374463,\n",
              "  -0.0020534846412374463,\n",
              "  -0.0020534846412374463,\n",
              "  -0.0020534846412374463,\n",
              "  -0.0020534846412374463,\n",
              "  -0.0020534846412374463,\n",
              "  -0.0020534846412374463,\n",
              "  -0.0020534846412374463,\n",
              "  -0.0020534846412374463,\n",
              "  -0.0020534846412374463,\n",
              "  -0.0020534846412374463,\n",
              "  -0.0020534846412374463,\n",
              "  -0.0020534846412374463,\n",
              "  -0.0020534846412374463,\n",
              "  -0.0020534846412374463,\n",
              "  -0.0020534846412374463,\n",
              "  -0.0020534846412374463,\n",
              "  -0.0020534846412374463,\n",
              "  -0.0020534846412374463,\n",
              "  -0.0020534846412374463,\n",
              "  -0.0020534846412374463,\n",
              "  -0.0020534846412374463,\n",
              "  -0.0020534846412374463,\n",
              "  -0.0020534846412374463,\n",
              "  -0.0020534846412374463,\n",
              "  -0.0020534846412374463,\n",
              "  -0.0020534846412374463,\n",
              "  -0.0020534846412374463,\n",
              "  -0.0020534846412374463,\n",
              "  -0.0020534846412374463,\n",
              "  -0.0020534846412374463,\n",
              "  -0.0020534846412374463,\n",
              "  -0.0020534846412374463,\n",
              "  -0.0020534846412374463,\n",
              "  -0.0020534846412374463,\n",
              "  -0.0020534846412374463,\n",
              "  -0.0020534846412374463,\n",
              "  -0.0020534846412374463,\n",
              "  -0.0020534846412374463,\n",
              "  -0.0020534846412374463,\n",
              "  -0.0020534846412374463,\n",
              "  -0.0020534846412374463,\n",
              "  -0.0020534846412374463,\n",
              "  -0.0020534846412374463,\n",
              "  -0.0020534846412374463,\n",
              "  -0.0020534846412374463,\n",
              "  -0.0020534846412374463,\n",
              "  -0.0020534846412374463,\n",
              "  -0.0020534846412374463,\n",
              "  -0.0020534846412374463,\n",
              "  -0.0020534846412374463,\n",
              "  -0.0020534846412374463,\n",
              "  -0.0020534846412374463,\n",
              "  -0.0020534846412374463,\n",
              "  -0.0020534846412374463,\n",
              "  -0.0020534846412374463,\n",
              "  -0.0020534846412374463,\n",
              "  -0.0020534846412374463,\n",
              "  -0.0020534846412374463,\n",
              "  -0.0020534846412374463,\n",
              "  -0.0020534846412374463,\n",
              "  -0.0020534846412374463,\n",
              "  -0.0020534846412374463,\n",
              "  -0.0020534846412374463,\n",
              "  -0.0020534846412374463,\n",
              "  -0.0020534846412374463,\n",
              "  -0.0020534846412374463,\n",
              "  -0.0020534846412374463,\n",
              "  -0.0020534846412374463,\n",
              "  -0.0020534846412374463,\n",
              "  -0.0020534846412374463,\n",
              "  -0.0020534846412374463,\n",
              "  -0.0020534846412374463,\n",
              "  -0.0020534846412374463,\n",
              "  -0.0020534846412374463,\n",
              "  -0.0020534846412374463,\n",
              "  -0.0020534846412374463,\n",
              "  -0.0020534846412374463],\n",
              " 17: [-0.003923068274616526,\n",
              "  -0.003923068274616526,\n",
              "  -0.003923068274616526,\n",
              "  -0.003923068274616526,\n",
              "  -0.003923068274616526,\n",
              "  -0.003923068274616526,\n",
              "  -0.003923068274616526,\n",
              "  -0.003923068274616526,\n",
              "  -0.003923068274616526,\n",
              "  -0.003923068274616526,\n",
              "  -0.003923068274616526,\n",
              "  -0.003923068274616526,\n",
              "  -0.003923068274616526,\n",
              "  -0.003923068274616526,\n",
              "  -0.003923068274616526,\n",
              "  -0.003923068274616526,\n",
              "  -0.003923068274616526,\n",
              "  -0.003923068274616526,\n",
              "  -0.003923068274616526,\n",
              "  -0.003923068274616526,\n",
              "  -0.003923068274616526,\n",
              "  -0.003923068274616526,\n",
              "  -0.003923068274616526,\n",
              "  -0.003923068274616526,\n",
              "  -0.003923068274616526,\n",
              "  -0.003923068274616526,\n",
              "  -0.003923068274616526,\n",
              "  -0.003923068274616526,\n",
              "  -0.003923068274616526,\n",
              "  -0.003923068274616526,\n",
              "  -0.003923068274616526,\n",
              "  -0.003923068274616526,\n",
              "  -0.003923068274616526,\n",
              "  -0.003923068274616526,\n",
              "  -0.003923068274616526,\n",
              "  -0.003923068274616526,\n",
              "  -0.003923068274616526,\n",
              "  -0.003923068274616526,\n",
              "  -0.003923068274616526,\n",
              "  -0.003923068274616526,\n",
              "  -0.003923068274616526,\n",
              "  -0.003923068274616526,\n",
              "  -0.003923068274616526,\n",
              "  -0.003923068274616526,\n",
              "  -0.003923068274616526,\n",
              "  -0.003923068274616526,\n",
              "  -0.003923068274616526,\n",
              "  -0.003923068274616526,\n",
              "  -0.003923068274616526,\n",
              "  -0.003923068274616526,\n",
              "  -0.003923068274616526,\n",
              "  -0.003923068274616526,\n",
              "  -0.003923068274616526,\n",
              "  -0.003923068274616526,\n",
              "  -0.003923068274616526,\n",
              "  -0.003923068274616526,\n",
              "  -0.003923068274616526,\n",
              "  -0.003923068274616526,\n",
              "  -0.003923068274616526,\n",
              "  -0.003923068274616526,\n",
              "  -0.003923068274616526,\n",
              "  -0.003923068274616526,\n",
              "  -0.003923068274616526,\n",
              "  -0.003923068274616526,\n",
              "  -0.003923068274616526,\n",
              "  -0.003923068274616526,\n",
              "  -0.003923068274616526,\n",
              "  -0.003923068274616526,\n",
              "  -0.003923068274616526,\n",
              "  -0.003923068274616526,\n",
              "  -0.003923068274616526,\n",
              "  -0.003923068274616526,\n",
              "  -0.003923068274616526,\n",
              "  -0.003923068274616526,\n",
              "  -0.003923068274616526,\n",
              "  -0.003923068274616526,\n",
              "  -0.003923068274616526,\n",
              "  -0.003923068274616526,\n",
              "  -0.003923068274616526,\n",
              "  -0.003923068274616526,\n",
              "  -0.003923068274616526,\n",
              "  -0.003923068274616526,\n",
              "  -0.003923068274616526,\n",
              "  -0.003923068274616526,\n",
              "  -0.003923068274616526,\n",
              "  -0.003923068274616526,\n",
              "  -0.003923068274616526,\n",
              "  -0.003923068274616526,\n",
              "  -0.003923068274616526,\n",
              "  -0.003923068274616526,\n",
              "  -0.003923068274616526,\n",
              "  -0.003923068274616526,\n",
              "  -0.003923068274616526,\n",
              "  -0.003923068274616526,\n",
              "  -0.003923068274616526,\n",
              "  -0.003923068274616526,\n",
              "  -0.003923068274616526,\n",
              "  -0.003923068274616526,\n",
              "  -0.003923068274616526,\n",
              "  -0.003923068274616526,\n",
              "  -0.003923068274616526,\n",
              "  -0.003923068274616526,\n",
              "  -0.003923068274616526,\n",
              "  -0.003923068274616526,\n",
              "  -0.003923068274616526,\n",
              "  -0.003923068274616526,\n",
              "  -0.003923068274616526,\n",
              "  -0.003923068274616526,\n",
              "  -0.003923068274616526,\n",
              "  -0.003923068274616526,\n",
              "  -0.003923068274616526,\n",
              "  -0.003923068274616526,\n",
              "  -0.003923068274616526,\n",
              "  -0.003923068274616526,\n",
              "  -0.003923068274616526,\n",
              "  -0.003923068274616526,\n",
              "  -0.003923068274616526,\n",
              "  -0.003923068274616526,\n",
              "  -0.003923068274616526,\n",
              "  -0.003923068274616526,\n",
              "  -0.003923068274616526,\n",
              "  -0.003923068274616526,\n",
              "  -0.003923068274616526,\n",
              "  -0.003923068274616526,\n",
              "  -0.003923068274616526,\n",
              "  -0.003923068274616526,\n",
              "  -0.003923068274616526,\n",
              "  -0.003923068274616526],\n",
              " 80: [0.00018036735673376825,\n",
              "  0.00018036735673376825,\n",
              "  0.00018036735673376825,\n",
              "  0.00018036735673376825,\n",
              "  0.00018036735673376825,\n",
              "  0.00018036735673376825,\n",
              "  0.00018036735673376825,\n",
              "  0.00018036735673376825,\n",
              "  0.00018036735673376825,\n",
              "  0.00018036735673376825,\n",
              "  0.00018036735673376825,\n",
              "  0.00018036735673376825,\n",
              "  0.00018036735673376825,\n",
              "  0.00018036735673376825,\n",
              "  0.00018036735673376825,\n",
              "  0.00018036735673376825,\n",
              "  0.00018036735673376825,\n",
              "  0.00018036735673376825,\n",
              "  0.00018036735673376825,\n",
              "  0.00018036735673376825,\n",
              "  0.00018036735673376825,\n",
              "  0.00018036735673376825,\n",
              "  0.00018036735673376825,\n",
              "  0.00018036735673376825,\n",
              "  0.00018036735673376825,\n",
              "  0.00018036735673376825,\n",
              "  0.00018036735673376825,\n",
              "  0.00018036735673376825,\n",
              "  0.00018036735673376825,\n",
              "  0.00018036735673376825,\n",
              "  0.00018036735673376825,\n",
              "  0.00018036735673376825,\n",
              "  0.00018036735673376825,\n",
              "  0.00018036735673376825,\n",
              "  0.00018036735673376825,\n",
              "  0.00018036735673376825,\n",
              "  0.00018036735673376825,\n",
              "  0.00018036735673376825,\n",
              "  0.00018036735673376825,\n",
              "  0.00018036735673376825,\n",
              "  0.00018036735673376825,\n",
              "  0.00018036735673376825,\n",
              "  0.00018036735673376825,\n",
              "  0.00018036735673376825,\n",
              "  0.00018036735673376825,\n",
              "  0.00018036735673376825,\n",
              "  0.00018036735673376825,\n",
              "  0.00018036735673376825,\n",
              "  0.00018036735673376825,\n",
              "  0.00018036735673376825,\n",
              "  0.00018036735673376825,\n",
              "  0.00018036735673376825,\n",
              "  0.00018036735673376825,\n",
              "  0.00018036735673376825,\n",
              "  0.00018036735673376825,\n",
              "  0.00018036735673376825,\n",
              "  0.00018036735673376825,\n",
              "  0.00018036735673376825,\n",
              "  0.00018036735673376825,\n",
              "  0.00018036735673376825,\n",
              "  0.00018036735673376825,\n",
              "  0.00018036735673376825,\n",
              "  0.00018036735673376825,\n",
              "  0.00018036735673376825,\n",
              "  0.00018036735673376825,\n",
              "  0.00018036735673376825,\n",
              "  0.00018036735673376825,\n",
              "  0.00018036735673376825,\n",
              "  0.00018036735673376825,\n",
              "  0.00018036735673376825,\n",
              "  0.00018036735673376825,\n",
              "  0.00018036735673376825,\n",
              "  0.00018036735673376825,\n",
              "  0.00018036735673376825,\n",
              "  0.00018036735673376825,\n",
              "  0.00018036735673376825,\n",
              "  0.00018036735673376825,\n",
              "  0.00018036735673376825,\n",
              "  0.00018036735673376825,\n",
              "  0.00018036735673376825,\n",
              "  0.00018036735673376825,\n",
              "  0.00018036735673376825,\n",
              "  0.00018036735673376825,\n",
              "  0.00018036735673376825,\n",
              "  0.00018036735673376825,\n",
              "  0.00018036735673376825,\n",
              "  0.00018036735673376825,\n",
              "  0.00018036735673376825,\n",
              "  0.00018036735673376825,\n",
              "  0.00018036735673376825,\n",
              "  0.00018036735673376825,\n",
              "  0.00018036735673376825,\n",
              "  0.00018036735673376825,\n",
              "  0.00018036735673376825,\n",
              "  0.00018036735673376825,\n",
              "  0.00018036735673376825,\n",
              "  0.00018036735673376825,\n",
              "  0.00018036735673376825,\n",
              "  0.00018036735673376825,\n",
              "  0.00018036735673376825,\n",
              "  0.00018036735673376825,\n",
              "  0.00018036735673376825,\n",
              "  0.00018036735673376825,\n",
              "  0.00018036735673376825,\n",
              "  0.00018036735673376825,\n",
              "  0.00018036735673376825,\n",
              "  0.00018036735673376825,\n",
              "  0.00018036735673376825,\n",
              "  0.00018036735673376825,\n",
              "  0.00018036735673376825,\n",
              "  0.00018036735673376825,\n",
              "  0.00018036735673376825,\n",
              "  0.00018036735673376825,\n",
              "  0.00018036735673376825,\n",
              "  0.00018036735673376825,\n",
              "  0.00018036735673376825,\n",
              "  0.00018036735673376825,\n",
              "  0.00018036735673376825,\n",
              "  0.00018036735673376825,\n",
              "  0.00018036735673376825,\n",
              "  0.00018036735673376825,\n",
              "  0.00018036735673376825,\n",
              "  0.00018036735673376825,\n",
              "  0.00018036735673376825,\n",
              "  0.00018036735673376825,\n",
              "  0.00018036735673376825,\n",
              "  0.00018036735673376825,\n",
              "  0.00018036735673376825],\n",
              " 18: [-0.0020895639008813305,\n",
              "  -0.0020895639008813305,\n",
              "  -0.0020895639008813305,\n",
              "  -0.0020895639008813305,\n",
              "  -0.0020895639008813305,\n",
              "  -0.0020895639008813305,\n",
              "  -0.0020895639008813305,\n",
              "  -0.0020895639008813305,\n",
              "  -0.0020895639008813305,\n",
              "  -0.0020895639008813305,\n",
              "  -0.0020895639008813305,\n",
              "  -0.0020895639008813305,\n",
              "  -0.0020895639008813305,\n",
              "  -0.0020895639008813305,\n",
              "  -0.0020895639008813305,\n",
              "  -0.0020895639008813305,\n",
              "  -0.0020895639008813305,\n",
              "  -0.0020895639008813305,\n",
              "  -0.0020895639008813305,\n",
              "  -0.0020895639008813305,\n",
              "  -0.0020895639008813305,\n",
              "  -0.0020895639008813305,\n",
              "  -0.0020895639008813305,\n",
              "  -0.0020895639008813305,\n",
              "  -0.0020895639008813305,\n",
              "  -0.0020895639008813305,\n",
              "  -0.0020895639008813305,\n",
              "  -0.0020895639008813305,\n",
              "  -0.0020895639008813305,\n",
              "  -0.0020895639008813305,\n",
              "  -0.0020895639008813305,\n",
              "  -0.0020895639008813305,\n",
              "  -0.0020895639008813305,\n",
              "  -0.0020895639008813305,\n",
              "  -0.0020895639008813305,\n",
              "  -0.0020895639008813305,\n",
              "  -0.0020895639008813305,\n",
              "  -0.0020895639008813305,\n",
              "  -0.0020895639008813305,\n",
              "  -0.0020895639008813305,\n",
              "  -0.0020895639008813305,\n",
              "  -0.0020895639008813305,\n",
              "  -0.0020895639008813305,\n",
              "  -0.0020895639008813305,\n",
              "  -0.0020895639008813305,\n",
              "  -0.0020895639008813305,\n",
              "  -0.0020895639008813305,\n",
              "  -0.0020895639008813305,\n",
              "  -0.0020895639008813305,\n",
              "  -0.0020895639008813305,\n",
              "  -0.0020895639008813305,\n",
              "  -0.0020895639008813305,\n",
              "  -0.0020895639008813305,\n",
              "  -0.0020895639008813305,\n",
              "  -0.0020895639008813305,\n",
              "  -0.0020895639008813305,\n",
              "  -0.0020895639008813305,\n",
              "  -0.0020895639008813305,\n",
              "  -0.0020895639008813305,\n",
              "  -0.0020895639008813305,\n",
              "  -0.0020895639008813305,\n",
              "  -0.0020895639008813305,\n",
              "  -0.0020895639008813305,\n",
              "  -0.0020895639008813305,\n",
              "  -0.0020895639008813305,\n",
              "  -0.0020895639008813305,\n",
              "  -0.0020895639008813305,\n",
              "  -0.0020895639008813305,\n",
              "  -0.0020895639008813305,\n",
              "  -0.0020895639008813305,\n",
              "  -0.0020895639008813305,\n",
              "  -0.0020895639008813305,\n",
              "  -0.0020895639008813305,\n",
              "  -0.0020895639008813305,\n",
              "  -0.0020895639008813305,\n",
              "  -0.0020895639008813305,\n",
              "  -0.0020895639008813305,\n",
              "  -0.0020895639008813305,\n",
              "  -0.0020895639008813305,\n",
              "  -0.0020895639008813305,\n",
              "  -0.0020895639008813305,\n",
              "  -0.0020895639008813305,\n",
              "  -0.0020895639008813305,\n",
              "  -0.0020895639008813305,\n",
              "  -0.0020895639008813305,\n",
              "  -0.0020895639008813305,\n",
              "  -0.0020895639008813305,\n",
              "  -0.0020895639008813305,\n",
              "  -0.0020895639008813305,\n",
              "  -0.0020895639008813305,\n",
              "  -0.0020895639008813305,\n",
              "  -0.0020895639008813305,\n",
              "  -0.0020895639008813305,\n",
              "  -0.0020895639008813305,\n",
              "  -0.0020895639008813305,\n",
              "  -0.0020895639008813305,\n",
              "  -0.0020895639008813305,\n",
              "  -0.0020895639008813305,\n",
              "  -0.0020895639008813305,\n",
              "  -0.0020895639008813305,\n",
              "  -0.0020895639008813305,\n",
              "  -0.0020895639008813305,\n",
              "  -0.0020895639008813305,\n",
              "  -0.0020895639008813305,\n",
              "  -0.0020895639008813305,\n",
              "  -0.0020895639008813305,\n",
              "  -0.0020895639008813305,\n",
              "  -0.0020895639008813305,\n",
              "  -0.0020895639008813305,\n",
              "  -0.0020895639008813305,\n",
              "  -0.0020895639008813305,\n",
              "  -0.0020895639008813305,\n",
              "  -0.0020895639008813305,\n",
              "  -0.0020895639008813305,\n",
              "  -0.0020895639008813305,\n",
              "  -0.0020895639008813305,\n",
              "  -0.0020895639008813305,\n",
              "  -0.0020895639008813305,\n",
              "  -0.0020895639008813305,\n",
              "  -0.0020895639008813305,\n",
              "  -0.0020895639008813305,\n",
              "  -0.0020895639008813305,\n",
              "  -0.0020895639008813305,\n",
              "  -0.0020895639008813305,\n",
              "  -0.0020895639008813305,\n",
              "  -0.0020895639008813305,\n",
              "  -0.0020895639008813305,\n",
              "  -0.0020895639008813305],\n",
              " 66: [-0.0021936577786618727,\n",
              "  -0.0021936577786618727,\n",
              "  -0.0021936577786618727,\n",
              "  -0.0021936577786618727,\n",
              "  -0.0021936577786618727,\n",
              "  -0.0021936577786618727,\n",
              "  -0.0021936577786618727,\n",
              "  -0.0021936577786618727,\n",
              "  -0.0021936577786618727,\n",
              "  -0.0021936577786618727,\n",
              "  -0.0021936577786618727,\n",
              "  -0.0021936577786618727,\n",
              "  -0.0021936577786618727,\n",
              "  -0.0021936577786618727,\n",
              "  -0.0021936577786618727,\n",
              "  -0.0021936577786618727,\n",
              "  -0.0021936577786618727,\n",
              "  -0.0021936577786618727,\n",
              "  -0.0021936577786618727,\n",
              "  -0.0021936577786618727,\n",
              "  -0.0021936577786618727,\n",
              "  -0.0021936577786618727,\n",
              "  -0.0021936577786618727,\n",
              "  -0.0021936577786618727,\n",
              "  -0.0021936577786618727,\n",
              "  -0.0021936577786618727,\n",
              "  -0.0021936577786618727,\n",
              "  -0.0021936577786618727,\n",
              "  -0.0021936577786618727,\n",
              "  -0.0021936577786618727,\n",
              "  -0.0021936577786618727,\n",
              "  -0.0021936577786618727,\n",
              "  -0.0021936577786618727,\n",
              "  -0.0021936577786618727,\n",
              "  -0.0021936577786618727,\n",
              "  -0.0021936577786618727,\n",
              "  -0.0021936577786618727,\n",
              "  -0.0021936577786618727,\n",
              "  -0.0021936577786618727,\n",
              "  -0.0021936577786618727,\n",
              "  -0.0021936577786618727,\n",
              "  -0.0021936577786618727,\n",
              "  -0.0021936577786618727,\n",
              "  -0.0021936577786618727,\n",
              "  -0.0021936577786618727,\n",
              "  -0.0021936577786618727,\n",
              "  -0.0021936577786618727,\n",
              "  -0.0021936577786618727,\n",
              "  -0.0021936577786618727,\n",
              "  -0.0021936577786618727,\n",
              "  -0.0021936577786618727,\n",
              "  -0.0021936577786618727,\n",
              "  -0.0021936577786618727,\n",
              "  -0.0021936577786618727,\n",
              "  -0.0021936577786618727,\n",
              "  -0.0021936577786618727,\n",
              "  -0.0021936577786618727,\n",
              "  -0.0021936577786618727,\n",
              "  -0.0021936577786618727,\n",
              "  -0.0021936577786618727,\n",
              "  -0.0021936577786618727,\n",
              "  -0.0021936577786618727,\n",
              "  -0.0021936577786618727,\n",
              "  -0.0021936577786618727,\n",
              "  -0.0021936577786618727,\n",
              "  -0.0021936577786618727,\n",
              "  -0.0021936577786618727,\n",
              "  -0.0021936577786618727,\n",
              "  -0.0021936577786618727,\n",
              "  -0.0021936577786618727,\n",
              "  -0.0021936577786618727,\n",
              "  -0.0021936577786618727,\n",
              "  -0.0021936577786618727,\n",
              "  -0.0021936577786618727,\n",
              "  -0.0021936577786618727,\n",
              "  -0.0021936577786618727,\n",
              "  -0.0021936577786618727,\n",
              "  -0.0021936577786618727,\n",
              "  -0.0021936577786618727,\n",
              "  -0.0021936577786618727,\n",
              "  -0.0021936577786618727,\n",
              "  -0.0021936577786618727,\n",
              "  -0.0021936577786618727,\n",
              "  -0.0021936577786618727,\n",
              "  -0.0021936577786618727,\n",
              "  -0.0021936577786618727,\n",
              "  -0.0021936577786618727,\n",
              "  -0.0021936577786618727,\n",
              "  -0.0021936577786618727,\n",
              "  -0.0021936577786618727,\n",
              "  -0.0021936577786618727,\n",
              "  -0.0021936577786618727,\n",
              "  -0.0021936577786618727,\n",
              "  -0.0021936577786618727,\n",
              "  -0.0021936577786618727,\n",
              "  -0.0021936577786618727,\n",
              "  -0.0021936577786618727,\n",
              "  -0.0021936577786618727,\n",
              "  -0.0021936577786618727,\n",
              "  -0.0021936577786618727,\n",
              "  -0.0021936577786618727,\n",
              "  -0.0021936577786618727,\n",
              "  -0.0021936577786618727,\n",
              "  -0.0021936577786618727,\n",
              "  -0.0021936577786618727,\n",
              "  -0.0021936577786618727,\n",
              "  -0.0021936577786618727,\n",
              "  -0.0021936577786618727,\n",
              "  -0.0021936577786618727,\n",
              "  -0.0021936577786618727,\n",
              "  -0.0021936577786618727,\n",
              "  -0.0021936577786618727,\n",
              "  -0.0021936577786618727,\n",
              "  -0.0021936577786618727,\n",
              "  -0.0021936577786618727,\n",
              "  -0.0021936577786618727,\n",
              "  -0.0021936577786618727,\n",
              "  -0.0021936577786618727,\n",
              "  -0.0021936577786618727,\n",
              "  -0.0021936577786618727,\n",
              "  -0.0021936577786618727,\n",
              "  -0.0021936577786618727,\n",
              "  -0.0021936577786618727,\n",
              "  -0.0021936577786618727,\n",
              "  -0.0021936577786618727,\n",
              "  -0.0021936577786618727,\n",
              "  -0.0021936577786618727,\n",
              "  -0.0021936577786618727],\n",
              " 14: [0.0025356179285154212,\n",
              "  0.0025356179285154212,\n",
              "  0.0025356179285154212,\n",
              "  0.0025356179285154212,\n",
              "  0.0025356179285154212,\n",
              "  0.0025356179285154212,\n",
              "  0.0025356179285154212,\n",
              "  0.0025356179285154212,\n",
              "  0.0025356179285154212,\n",
              "  0.0025356179285154212,\n",
              "  0.0025356179285154212,\n",
              "  0.0025356179285154212,\n",
              "  0.0025356179285154212,\n",
              "  0.0025356179285154212,\n",
              "  0.0025356179285154212,\n",
              "  0.0025356179285154212,\n",
              "  0.0025356179285154212,\n",
              "  0.0025356179285154212,\n",
              "  0.0025356179285154212,\n",
              "  0.0025356179285154212,\n",
              "  0.0025356179285154212,\n",
              "  0.0025356179285154212,\n",
              "  0.0025356179285154212,\n",
              "  0.0025356179285154212,\n",
              "  0.0025356179285154212,\n",
              "  0.0025356179285154212,\n",
              "  0.0025356179285154212,\n",
              "  0.0025356179285154212,\n",
              "  0.0025356179285154212,\n",
              "  0.0025356179285154212,\n",
              "  0.0025356179285154212,\n",
              "  0.0025356179285154212,\n",
              "  0.0025356179285154212,\n",
              "  0.0025356179285154212,\n",
              "  0.0025356179285154212,\n",
              "  0.0025356179285154212,\n",
              "  0.0025356179285154212,\n",
              "  0.0025356179285154212,\n",
              "  0.0025356179285154212,\n",
              "  0.0025356179285154212,\n",
              "  0.0025356179285154212,\n",
              "  0.0025356179285154212,\n",
              "  0.0025356179285154212,\n",
              "  0.0025356179285154212,\n",
              "  0.0025356179285154212,\n",
              "  0.0025356179285154212,\n",
              "  0.0025356179285154212,\n",
              "  0.0025356179285154212,\n",
              "  0.0025356179285154212,\n",
              "  0.0025356179285154212,\n",
              "  0.0025356179285154212,\n",
              "  0.0025356179285154212,\n",
              "  0.0025356179285154212,\n",
              "  0.0025356179285154212,\n",
              "  0.0025356179285154212,\n",
              "  0.0025356179285154212,\n",
              "  0.0025356179285154212,\n",
              "  0.0025356179285154212,\n",
              "  0.0025356179285154212,\n",
              "  0.0025356179285154212,\n",
              "  0.0025356179285154212,\n",
              "  0.0025356179285154212,\n",
              "  0.0025356179285154212,\n",
              "  0.0025356179285154212,\n",
              "  0.0025356179285154212,\n",
              "  0.0025356179285154212,\n",
              "  0.0025356179285154212,\n",
              "  0.0025356179285154212,\n",
              "  0.0025356179285154212,\n",
              "  0.0025356179285154212,\n",
              "  0.0025356179285154212,\n",
              "  0.0025356179285154212,\n",
              "  0.0025356179285154212,\n",
              "  0.0025356179285154212,\n",
              "  0.0025356179285154212,\n",
              "  0.0025356179285154212,\n",
              "  0.0025356179285154212,\n",
              "  0.0025356179285154212,\n",
              "  0.0025356179285154212,\n",
              "  0.0025356179285154212,\n",
              "  0.0025356179285154212,\n",
              "  0.0025356179285154212,\n",
              "  0.0025356179285154212,\n",
              "  0.0025356179285154212,\n",
              "  0.0025356179285154212,\n",
              "  0.0025356179285154212,\n",
              "  0.0025356179285154212,\n",
              "  0.0025356179285154212,\n",
              "  0.0025356179285154212,\n",
              "  0.0025356179285154212,\n",
              "  0.0025356179285154212,\n",
              "  0.0025356179285154212,\n",
              "  0.0025356179285154212,\n",
              "  0.0025356179285154212,\n",
              "  0.0025356179285154212,\n",
              "  0.0025356179285154212,\n",
              "  0.0025356179285154212,\n",
              "  0.0025356179285154212,\n",
              "  0.0025356179285154212,\n",
              "  0.0025356179285154212,\n",
              "  0.0025356179285154212,\n",
              "  0.0025356179285154212,\n",
              "  0.0025356179285154212,\n",
              "  0.0025356179285154212,\n",
              "  0.0025356179285154212,\n",
              "  0.0025356179285154212,\n",
              "  0.0025356179285154212,\n",
              "  0.0025356179285154212,\n",
              "  0.0025356179285154212,\n",
              "  0.0025356179285154212,\n",
              "  0.0025356179285154212,\n",
              "  0.0025356179285154212,\n",
              "  0.0025356179285154212,\n",
              "  0.0025356179285154212,\n",
              "  0.0025356179285154212,\n",
              "  0.0025356179285154212,\n",
              "  0.0025356179285154212,\n",
              "  0.0025356179285154212,\n",
              "  0.0025356179285154212,\n",
              "  0.0025356179285154212,\n",
              "  0.0025356179285154212,\n",
              "  0.0025356179285154212,\n",
              "  0.0025356179285154212,\n",
              "  0.0025356179285154212,\n",
              "  0.0025356179285154212,\n",
              "  0.0025356179285154212,\n",
              "  0.0025356179285154212,\n",
              "  0.0025356179285154212],\n",
              " 101: [-0.00164130347320679,\n",
              "  -0.00164130347320679,\n",
              "  -0.00164130347320679,\n",
              "  -0.00164130347320679,\n",
              "  -0.00164130347320679,\n",
              "  -0.00164130347320679,\n",
              "  -0.00164130347320679,\n",
              "  -0.00164130347320679,\n",
              "  -0.00164130347320679,\n",
              "  -0.00164130347320679,\n",
              "  -0.00164130347320679,\n",
              "  -0.00164130347320679,\n",
              "  -0.00164130347320679,\n",
              "  -0.00164130347320679,\n",
              "  -0.00164130347320679,\n",
              "  -0.00164130347320679,\n",
              "  -0.00164130347320679,\n",
              "  -0.00164130347320679,\n",
              "  -0.00164130347320679,\n",
              "  -0.00164130347320679,\n",
              "  -0.00164130347320679,\n",
              "  -0.00164130347320679,\n",
              "  -0.00164130347320679,\n",
              "  -0.00164130347320679,\n",
              "  -0.00164130347320679,\n",
              "  -0.00164130347320679,\n",
              "  -0.00164130347320679,\n",
              "  -0.00164130347320679,\n",
              "  -0.00164130347320679,\n",
              "  -0.00164130347320679,\n",
              "  -0.00164130347320679,\n",
              "  -0.00164130347320679,\n",
              "  -0.00164130347320679,\n",
              "  -0.00164130347320679,\n",
              "  -0.00164130347320679,\n",
              "  -0.00164130347320679,\n",
              "  -0.00164130347320679,\n",
              "  -0.00164130347320679,\n",
              "  -0.00164130347320679,\n",
              "  -0.00164130347320679,\n",
              "  -0.00164130347320679,\n",
              "  -0.00164130347320679,\n",
              "  -0.00164130347320679,\n",
              "  -0.00164130347320679,\n",
              "  -0.00164130347320679,\n",
              "  -0.00164130347320679,\n",
              "  -0.00164130347320679,\n",
              "  -0.00164130347320679,\n",
              "  -0.00164130347320679,\n",
              "  -0.00164130347320679,\n",
              "  -0.00164130347320679,\n",
              "  -0.00164130347320679,\n",
              "  -0.00164130347320679,\n",
              "  -0.00164130347320679,\n",
              "  -0.00164130347320679,\n",
              "  -0.00164130347320679,\n",
              "  -0.00164130347320679,\n",
              "  -0.00164130347320679,\n",
              "  -0.00164130347320679,\n",
              "  -0.00164130347320679,\n",
              "  -0.00164130347320679,\n",
              "  -0.00164130347320679,\n",
              "  -0.00164130347320679,\n",
              "  -0.00164130347320679,\n",
              "  -0.00164130347320679,\n",
              "  -0.00164130347320679,\n",
              "  -0.00164130347320679,\n",
              "  -0.00164130347320679,\n",
              "  -0.00164130347320679,\n",
              "  -0.00164130347320679,\n",
              "  -0.00164130347320679,\n",
              "  -0.00164130347320679,\n",
              "  -0.00164130347320679,\n",
              "  -0.00164130347320679,\n",
              "  -0.00164130347320679,\n",
              "  -0.00164130347320679,\n",
              "  -0.00164130347320679,\n",
              "  -0.00164130347320679,\n",
              "  -0.00164130347320679,\n",
              "  -0.00164130347320679,\n",
              "  -0.00164130347320679,\n",
              "  -0.00164130347320679,\n",
              "  -0.00164130347320679,\n",
              "  -0.00164130347320679,\n",
              "  -0.00164130347320679,\n",
              "  -0.00164130347320679,\n",
              "  -0.00164130347320679,\n",
              "  -0.00164130347320679,\n",
              "  -0.00164130347320679,\n",
              "  -0.00164130347320679,\n",
              "  -0.00164130347320679,\n",
              "  -0.00164130347320679,\n",
              "  -0.00164130347320679,\n",
              "  -0.00164130347320679,\n",
              "  -0.00164130347320679,\n",
              "  -0.00164130347320679,\n",
              "  -0.00164130347320679,\n",
              "  -0.00164130347320679,\n",
              "  -0.00164130347320679,\n",
              "  -0.00164130347320679,\n",
              "  -0.00164130347320679,\n",
              "  -0.00164130347320679,\n",
              "  -0.00164130347320679,\n",
              "  -0.00164130347320679,\n",
              "  -0.00164130347320679,\n",
              "  -0.00164130347320679,\n",
              "  -0.00164130347320679,\n",
              "  -0.00164130347320679,\n",
              "  -0.00164130347320679,\n",
              "  -0.00164130347320679,\n",
              "  -0.00164130347320679,\n",
              "  -0.00164130347320679,\n",
              "  -0.00164130347320679,\n",
              "  -0.00164130347320679,\n",
              "  -0.00164130347320679,\n",
              "  -0.00164130347320679,\n",
              "  -0.00164130347320679,\n",
              "  -0.00164130347320679,\n",
              "  -0.00164130347320679,\n",
              "  -0.00164130347320679,\n",
              "  -0.00164130347320679,\n",
              "  -0.00164130347320679,\n",
              "  -0.00164130347320679,\n",
              "  -0.00164130347320679,\n",
              "  -0.00164130347320679,\n",
              "  -0.00164130347320679,\n",
              "  -0.00164130347320679,\n",
              "  -0.00164130347320679],\n",
              " 44: [-0.004899540571386751,\n",
              "  -0.004899540571386751,\n",
              "  -0.004899540571386751,\n",
              "  -0.004899540571386751,\n",
              "  -0.004899540571386751,\n",
              "  -0.004899540571386751,\n",
              "  -0.004899540571386751,\n",
              "  -0.004899540571386751,\n",
              "  -0.004899540571386751,\n",
              "  -0.004899540571386751,\n",
              "  -0.004899540571386751,\n",
              "  -0.004899540571386751,\n",
              "  -0.004899540571386751,\n",
              "  -0.004899540571386751,\n",
              "  -0.004899540571386751,\n",
              "  -0.004899540571386751,\n",
              "  -0.004899540571386751,\n",
              "  -0.004899540571386751,\n",
              "  -0.004899540571386751,\n",
              "  -0.004899540571386751,\n",
              "  -0.004899540571386751,\n",
              "  -0.004899540571386751,\n",
              "  -0.004899540571386751,\n",
              "  -0.004899540571386751,\n",
              "  -0.004899540571386751,\n",
              "  -0.004899540571386751,\n",
              "  -0.004899540571386751,\n",
              "  -0.004899540571386751,\n",
              "  -0.004899540571386751,\n",
              "  -0.004899540571386751,\n",
              "  -0.004899540571386751,\n",
              "  -0.004899540571386751,\n",
              "  -0.004899540571386751,\n",
              "  -0.004899540571386751,\n",
              "  -0.004899540571386751,\n",
              "  -0.004899540571386751,\n",
              "  -0.004899540571386751,\n",
              "  -0.004899540571386751,\n",
              "  -0.004899540571386751,\n",
              "  -0.004899540571386751,\n",
              "  -0.004899540571386751,\n",
              "  -0.004899540571386751,\n",
              "  -0.004899540571386751,\n",
              "  -0.004899540571386751,\n",
              "  -0.004899540571386751,\n",
              "  -0.004899540571386751,\n",
              "  -0.004899540571386751,\n",
              "  -0.004899540571386751,\n",
              "  -0.004899540571386751,\n",
              "  -0.004899540571386751,\n",
              "  -0.004899540571386751,\n",
              "  -0.004899540571386751,\n",
              "  -0.004899540571386751,\n",
              "  -0.004899540571386751,\n",
              "  -0.004899540571386751,\n",
              "  -0.004899540571386751,\n",
              "  -0.004899540571386751,\n",
              "  -0.004899540571386751,\n",
              "  -0.004899540571386751,\n",
              "  -0.004899540571386751,\n",
              "  -0.004899540571386751,\n",
              "  -0.004899540571386751,\n",
              "  -0.004899540571386751,\n",
              "  -0.004899540571386751,\n",
              "  -0.004899540571386751,\n",
              "  -0.004899540571386751,\n",
              "  -0.004899540571386751,\n",
              "  -0.004899540571386751,\n",
              "  -0.004899540571386751,\n",
              "  -0.004899540571386751,\n",
              "  -0.004899540571386751,\n",
              "  -0.004899540571386751,\n",
              "  -0.004899540571386751,\n",
              "  -0.004899540571386751,\n",
              "  -0.004899540571386751,\n",
              "  -0.004899540571386751,\n",
              "  -0.004899540571386751,\n",
              "  -0.004899540571386751,\n",
              "  -0.004899540571386751,\n",
              "  -0.004899540571386751,\n",
              "  -0.004899540571386751,\n",
              "  -0.004899540571386751,\n",
              "  -0.004899540571386751,\n",
              "  -0.004899540571386751,\n",
              "  -0.004899540571386751,\n",
              "  -0.004899540571386751,\n",
              "  -0.004899540571386751,\n",
              "  -0.004899540571386751,\n",
              "  -0.004899540571386751,\n",
              "  -0.004899540571386751,\n",
              "  -0.004899540571386751,\n",
              "  -0.004899540571386751,\n",
              "  -0.004899540571386751,\n",
              "  -0.004899540571386751,\n",
              "  -0.004899540571386751,\n",
              "  -0.004899540571386751,\n",
              "  -0.004899540571386751,\n",
              "  -0.004899540571386751,\n",
              "  -0.004899540571386751,\n",
              "  -0.004899540571386751,\n",
              "  -0.004899540571386751,\n",
              "  -0.004899540571386751,\n",
              "  -0.004899540571386751,\n",
              "  -0.004899540571386751,\n",
              "  -0.004899540571386751,\n",
              "  -0.004899540571386751,\n",
              "  -0.004899540571386751,\n",
              "  -0.004899540571386751,\n",
              "  -0.004899540571386751,\n",
              "  -0.004899540571386751,\n",
              "  -0.004899540571386751,\n",
              "  -0.004899540571386751,\n",
              "  -0.004899540571386751,\n",
              "  -0.004899540571386751,\n",
              "  -0.004899540571386751,\n",
              "  -0.004899540571386751,\n",
              "  -0.004899540571386751,\n",
              "  -0.004899540571386751,\n",
              "  -0.004899540571386751,\n",
              "  -0.004899540571386751,\n",
              "  -0.004899540571386751,\n",
              "  -0.004899540571386751,\n",
              "  -0.004899540571386751,\n",
              "  -0.004899540571386751,\n",
              "  -0.004899540571386751,\n",
              "  -0.004899540571386751,\n",
              "  -0.004899540571386751,\n",
              "  -0.004899540571386751],\n",
              " 74: [0.00039304736947087804,\n",
              "  0.00039304736947087804,\n",
              "  0.00039304736947087804,\n",
              "  0.00039304736947087804,\n",
              "  0.00039304736947087804,\n",
              "  0.00039304736947087804,\n",
              "  0.00039304736947087804,\n",
              "  0.00039304736947087804,\n",
              "  0.00039304736947087804,\n",
              "  0.00039304736947087804,\n",
              "  0.00039304736947087804,\n",
              "  0.00039304736947087804,\n",
              "  0.00039304736947087804,\n",
              "  0.00039304736947087804,\n",
              "  0.00039304736947087804,\n",
              "  0.00039304736947087804,\n",
              "  0.00039304736947087804,\n",
              "  0.00039304736947087804,\n",
              "  0.00039304736947087804,\n",
              "  0.00039304736947087804,\n",
              "  0.00039304736947087804,\n",
              "  0.00039304736947087804,\n",
              "  0.00039304736947087804,\n",
              "  0.00039304736947087804,\n",
              "  0.00039304736947087804,\n",
              "  0.00039304736947087804,\n",
              "  0.00039304736947087804,\n",
              "  0.00039304736947087804,\n",
              "  0.00039304736947087804,\n",
              "  0.00039304736947087804,\n",
              "  0.00039304736947087804,\n",
              "  0.00039304736947087804,\n",
              "  0.00039304736947087804,\n",
              "  0.00039304736947087804,\n",
              "  0.00039304736947087804,\n",
              "  0.00039304736947087804,\n",
              "  0.00039304736947087804,\n",
              "  0.00039304736947087804,\n",
              "  0.00039304736947087804,\n",
              "  0.00039304736947087804,\n",
              "  0.00039304736947087804,\n",
              "  0.00039304736947087804,\n",
              "  0.00039304736947087804,\n",
              "  0.00039304736947087804,\n",
              "  0.00039304736947087804,\n",
              "  0.00039304736947087804,\n",
              "  0.00039304736947087804,\n",
              "  0.00039304736947087804,\n",
              "  0.00039304736947087804,\n",
              "  0.00039304736947087804,\n",
              "  0.00039304736947087804,\n",
              "  0.00039304736947087804,\n",
              "  0.00039304736947087804,\n",
              "  0.00039304736947087804,\n",
              "  0.00039304736947087804,\n",
              "  0.00039304736947087804,\n",
              "  0.00039304736947087804,\n",
              "  0.00039304736947087804,\n",
              "  0.00039304736947087804,\n",
              "  0.00039304736947087804,\n",
              "  0.00039304736947087804,\n",
              "  0.00039304736947087804,\n",
              "  0.00039304736947087804,\n",
              "  0.00039304736947087804,\n",
              "  0.00039304736947087804,\n",
              "  0.00039304736947087804,\n",
              "  0.00039304736947087804,\n",
              "  0.00039304736947087804,\n",
              "  0.00039304736947087804,\n",
              "  0.00039304736947087804,\n",
              "  0.00039304736947087804,\n",
              "  0.00039304736947087804,\n",
              "  0.00039304736947087804,\n",
              "  0.00039304736947087804,\n",
              "  0.00039304736947087804,\n",
              "  0.00039304736947087804,\n",
              "  0.00039304736947087804,\n",
              "  0.00039304736947087804,\n",
              "  0.00039304736947087804,\n",
              "  0.00039304736947087804,\n",
              "  0.00039304736947087804,\n",
              "  0.00039304736947087804,\n",
              "  0.00039304736947087804,\n",
              "  0.00039304736947087804,\n",
              "  0.00039304736947087804,\n",
              "  0.00039304736947087804,\n",
              "  0.00039304736947087804,\n",
              "  0.00039304736947087804,\n",
              "  0.00039304736947087804,\n",
              "  0.00039304736947087804,\n",
              "  0.00039304736947087804,\n",
              "  0.00039304736947087804,\n",
              "  0.00039304736947087804,\n",
              "  0.00039304736947087804,\n",
              "  0.00039304736947087804,\n",
              "  0.00039304736947087804,\n",
              "  0.00039304736947087804,\n",
              "  0.00039304736947087804,\n",
              "  0.00039304736947087804,\n",
              "  0.00039304736947087804,\n",
              "  0.00039304736947087804,\n",
              "  0.00039304736947087804,\n",
              "  0.00039304736947087804,\n",
              "  0.00039304736947087804,\n",
              "  0.00039304736947087804,\n",
              "  0.00039304736947087804,\n",
              "  0.00039304736947087804,\n",
              "  0.00039304736947087804,\n",
              "  0.00039304736947087804,\n",
              "  0.00039304736947087804,\n",
              "  0.00039304736947087804,\n",
              "  0.00039304736947087804,\n",
              "  0.00039304736947087804,\n",
              "  0.00039304736947087804,\n",
              "  0.00039304736947087804,\n",
              "  0.00039304736947087804,\n",
              "  0.00039304736947087804,\n",
              "  0.00039304736947087804,\n",
              "  0.00039304736947087804,\n",
              "  0.00039304736947087804,\n",
              "  0.00039304736947087804,\n",
              "  0.00039304736947087804,\n",
              "  0.00039304736947087804,\n",
              "  0.00039304736947087804,\n",
              "  0.00039304736947087804,\n",
              "  0.00039304736947087804,\n",
              "  0.00039304736947087804,\n",
              "  0.00039304736947087804],\n",
              " 4: [-0.0008715839612705167,\n",
              "  -0.0008715839612705167,\n",
              "  -0.0008715839612705167,\n",
              "  -0.0008715839612705167,\n",
              "  -0.0008715839612705167,\n",
              "  -0.0008715839612705167,\n",
              "  -0.0008715839612705167,\n",
              "  -0.0008715839612705167,\n",
              "  -0.0008715839612705167,\n",
              "  -0.0008715839612705167,\n",
              "  -0.0008715839612705167,\n",
              "  -0.0008715839612705167,\n",
              "  -0.0008715839612705167,\n",
              "  -0.0008715839612705167,\n",
              "  -0.0008715839612705167,\n",
              "  -0.0008715839612705167,\n",
              "  -0.0008715839612705167,\n",
              "  -0.0008715839612705167,\n",
              "  -0.0008715839612705167,\n",
              "  -0.0008715839612705167,\n",
              "  -0.0008715839612705167,\n",
              "  -0.0008715839612705167,\n",
              "  -0.0008715839612705167,\n",
              "  -0.0008715839612705167,\n",
              "  -0.0008715839612705167,\n",
              "  -0.0008715839612705167,\n",
              "  -0.0008715839612705167,\n",
              "  -0.0008715839612705167,\n",
              "  -0.0008715839612705167,\n",
              "  -0.0008715839612705167,\n",
              "  -0.0008715839612705167,\n",
              "  -0.0008715839612705167,\n",
              "  -0.0008715839612705167,\n",
              "  -0.0008715839612705167,\n",
              "  -0.0008715839612705167,\n",
              "  -0.0008715839612705167,\n",
              "  -0.0008715839612705167,\n",
              "  -0.0008715839612705167,\n",
              "  -0.0008715839612705167,\n",
              "  -0.0008715839612705167,\n",
              "  -0.0008715839612705167,\n",
              "  -0.0008715839612705167,\n",
              "  -0.0008715839612705167,\n",
              "  -0.0008715839612705167,\n",
              "  -0.0008715839612705167,\n",
              "  -0.0008715839612705167,\n",
              "  -0.0008715839612705167,\n",
              "  -0.0008715839612705167,\n",
              "  -0.0008715839612705167,\n",
              "  -0.0008715839612705167,\n",
              "  -0.0008715839612705167,\n",
              "  -0.0008715839612705167,\n",
              "  -0.0008715839612705167,\n",
              "  -0.0008715839612705167,\n",
              "  -0.0008715839612705167,\n",
              "  -0.0008715839612705167,\n",
              "  -0.0008715839612705167,\n",
              "  -0.0008715839612705167,\n",
              "  -0.0008715839612705167,\n",
              "  -0.0008715839612705167,\n",
              "  -0.0008715839612705167,\n",
              "  -0.0008715839612705167,\n",
              "  -0.0008715839612705167,\n",
              "  -0.0008715839612705167,\n",
              "  -0.0008715839612705167,\n",
              "  -0.0008715839612705167,\n",
              "  -0.0008715839612705167,\n",
              "  -0.0008715839612705167,\n",
              "  -0.0008715839612705167,\n",
              "  -0.0008715839612705167,\n",
              "  -0.0008715839612705167,\n",
              "  -0.0008715839612705167,\n",
              "  -0.0008715839612705167,\n",
              "  -0.0008715839612705167,\n",
              "  -0.0008715839612705167,\n",
              "  -0.0008715839612705167,\n",
              "  -0.0008715839612705167,\n",
              "  -0.0008715839612705167,\n",
              "  -0.0008715839612705167,\n",
              "  -0.0008715839612705167,\n",
              "  -0.0008715839612705167,\n",
              "  -0.0008715839612705167,\n",
              "  -0.0008715839612705167,\n",
              "  -0.0008715839612705167,\n",
              "  -0.0008715839612705167,\n",
              "  -0.0008715839612705167,\n",
              "  -0.0008715839612705167,\n",
              "  -0.0008715839612705167,\n",
              "  -0.0008715839612705167,\n",
              "  -0.0008715839612705167,\n",
              "  -0.0008715839612705167,\n",
              "  -0.0008715839612705167,\n",
              "  -0.0008715839612705167,\n",
              "  -0.0008715839612705167,\n",
              "  -0.0008715839612705167,\n",
              "  -0.0008715839612705167,\n",
              "  -0.0008715839612705167,\n",
              "  -0.0008715839612705167,\n",
              "  -0.0008715839612705167,\n",
              "  -0.0008715839612705167,\n",
              "  -0.0008715839612705167,\n",
              "  -0.0008715839612705167,\n",
              "  -0.0008715839612705167,\n",
              "  -0.0008715839612705167,\n",
              "  -0.0008715839612705167,\n",
              "  -0.0008715839612705167,\n",
              "  -0.0008715839612705167,\n",
              "  -0.0008715839612705167,\n",
              "  -0.0008715839612705167,\n",
              "  -0.0008715839612705167,\n",
              "  -0.0008715839612705167,\n",
              "  -0.0008715839612705167,\n",
              "  -0.0008715839612705167,\n",
              "  -0.0008715839612705167,\n",
              "  -0.0008715839612705167,\n",
              "  -0.0008715839612705167,\n",
              "  -0.0008715839612705167,\n",
              "  -0.0008715839612705167,\n",
              "  -0.0008715839612705167,\n",
              "  -0.0008715839612705167,\n",
              "  -0.0008715839612705167,\n",
              "  -0.0008715839612705167,\n",
              "  -0.0008715839612705167,\n",
              "  -0.0008715839612705167,\n",
              "  -0.0008715839612705167,\n",
              "  -0.0008715839612705167,\n",
              "  -0.0008715839612705167,\n",
              "  -0.0008715839612705167],\n",
              " 85: [-0.006972145922190975,\n",
              "  -0.006972145922190975,\n",
              "  -0.006972145922190975,\n",
              "  -0.006972145922190975,\n",
              "  -0.006972145922190975,\n",
              "  -0.006972145922190975,\n",
              "  -0.006972145922190975,\n",
              "  -0.006972145922190975,\n",
              "  -0.006972145922190975,\n",
              "  -0.006972145922190975,\n",
              "  -0.006972145922190975,\n",
              "  -0.006972145922190975,\n",
              "  -0.006972145922190975,\n",
              "  -0.006972145922190975,\n",
              "  -0.006972145922190975,\n",
              "  -0.006972145922190975,\n",
              "  -0.006972145922190975,\n",
              "  -0.006972145922190975,\n",
              "  -0.006972145922190975,\n",
              "  -0.006972145922190975,\n",
              "  -0.006972145922190975,\n",
              "  -0.006972145922190975,\n",
              "  -0.006972145922190975,\n",
              "  -0.006972145922190975,\n",
              "  -0.006972145922190975,\n",
              "  -0.006972145922190975,\n",
              "  -0.006972145922190975,\n",
              "  -0.006972145922190975,\n",
              "  -0.006972145922190975,\n",
              "  -0.006972145922190975,\n",
              "  -0.006972145922190975,\n",
              "  -0.006972145922190975,\n",
              "  -0.006972145922190975,\n",
              "  -0.006972145922190975,\n",
              "  -0.006972145922190975,\n",
              "  -0.006972145922190975,\n",
              "  -0.006972145922190975,\n",
              "  -0.006972145922190975,\n",
              "  -0.006972145922190975,\n",
              "  -0.006972145922190975,\n",
              "  -0.006972145922190975,\n",
              "  -0.006972145922190975,\n",
              "  -0.006972145922190975,\n",
              "  -0.006972145922190975,\n",
              "  -0.006972145922190975,\n",
              "  -0.006972145922190975,\n",
              "  -0.006972145922190975,\n",
              "  -0.006972145922190975,\n",
              "  -0.006972145922190975,\n",
              "  -0.006972145922190975,\n",
              "  -0.006972145922190975,\n",
              "  -0.006972145922190975,\n",
              "  -0.006972145922190975,\n",
              "  -0.006972145922190975,\n",
              "  -0.006972145922190975,\n",
              "  -0.006972145922190975,\n",
              "  -0.006972145922190975,\n",
              "  -0.006972145922190975,\n",
              "  -0.006972145922190975,\n",
              "  -0.006972145922190975,\n",
              "  -0.006972145922190975,\n",
              "  -0.006972145922190975,\n",
              "  -0.006972145922190975,\n",
              "  -0.006972145922190975,\n",
              "  -0.006972145922190975,\n",
              "  -0.006972145922190975,\n",
              "  -0.006972145922190975,\n",
              "  -0.006972145922190975,\n",
              "  -0.006972145922190975,\n",
              "  -0.006972145922190975,\n",
              "  -0.006972145922190975,\n",
              "  -0.006972145922190975,\n",
              "  -0.006972145922190975,\n",
              "  -0.006972145922190975,\n",
              "  -0.006972145922190975,\n",
              "  -0.006972145922190975,\n",
              "  -0.006972145922190975,\n",
              "  -0.006972145922190975,\n",
              "  -0.006972145922190975,\n",
              "  -0.006972145922190975,\n",
              "  -0.006972145922190975,\n",
              "  -0.006972145922190975,\n",
              "  -0.006972145922190975,\n",
              "  -0.006972145922190975,\n",
              "  -0.006972145922190975,\n",
              "  -0.006972145922190975,\n",
              "  -0.006972145922190975,\n",
              "  -0.006972145922190975,\n",
              "  -0.006972145922190975,\n",
              "  -0.006972145922190975,\n",
              "  -0.006972145922190975,\n",
              "  -0.006972145922190975,\n",
              "  -0.006972145922190975,\n",
              "  -0.006972145922190975,\n",
              "  -0.006972145922190975,\n",
              "  -0.006972145922190975,\n",
              "  -0.006972145922190975,\n",
              "  -0.006972145922190975,\n",
              "  -0.006972145922190975,\n",
              "  -0.006972145922190975,\n",
              "  -0.006972145922190975,\n",
              "  -0.006972145922190975,\n",
              "  -0.006972145922190975,\n",
              "  -0.006972145922190975,\n",
              "  -0.006972145922190975,\n",
              "  -0.006972145922190975,\n",
              "  -0.006972145922190975,\n",
              "  -0.006972145922190975,\n",
              "  -0.006972145922190975,\n",
              "  -0.006972145922190975,\n",
              "  -0.006972145922190975,\n",
              "  -0.006972145922190975,\n",
              "  -0.006972145922190975,\n",
              "  -0.006972145922190975,\n",
              "  -0.006972145922190975,\n",
              "  -0.006972145922190975,\n",
              "  -0.006972145922190975,\n",
              "  -0.006972145922190975,\n",
              "  -0.006972145922190975,\n",
              "  -0.006972145922190975,\n",
              "  -0.006972145922190975,\n",
              "  -0.006972145922190975,\n",
              "  -0.006972145922190975,\n",
              "  -0.006972145922190975,\n",
              "  -0.006972145922190975,\n",
              "  -0.006972145922190975,\n",
              "  -0.006972145922190975,\n",
              "  -0.006972145922190975],\n",
              " 82: [-0.006795822842832422,\n",
              "  -0.006795822842832422,\n",
              "  -0.006795822842832422,\n",
              "  -0.006795822842832422,\n",
              "  -0.006795822842832422,\n",
              "  -0.006795822842832422,\n",
              "  -0.006795822842832422,\n",
              "  -0.006795822842832422,\n",
              "  -0.006795822842832422,\n",
              "  -0.006795822842832422,\n",
              "  -0.006795822842832422,\n",
              "  -0.006795822842832422,\n",
              "  -0.006795822842832422,\n",
              "  -0.006795822842832422,\n",
              "  -0.006795822842832422,\n",
              "  -0.006795822842832422,\n",
              "  -0.006795822842832422,\n",
              "  -0.006795822842832422,\n",
              "  -0.006795822842832422,\n",
              "  -0.006795822842832422,\n",
              "  -0.006795822842832422,\n",
              "  -0.006795822842832422,\n",
              "  -0.006795822842832422,\n",
              "  -0.006795822842832422,\n",
              "  -0.006795822842832422,\n",
              "  -0.006795822842832422,\n",
              "  -0.006795822842832422,\n",
              "  -0.006795822842832422,\n",
              "  -0.006795822842832422,\n",
              "  -0.006795822842832422,\n",
              "  -0.006795822842832422,\n",
              "  -0.006795822842832422,\n",
              "  -0.006795822842832422,\n",
              "  -0.006795822842832422,\n",
              "  -0.006795822842832422,\n",
              "  -0.006795822842832422,\n",
              "  -0.006795822842832422,\n",
              "  -0.006795822842832422,\n",
              "  -0.006795822842832422,\n",
              "  -0.006795822842832422,\n",
              "  -0.006795822842832422,\n",
              "  -0.006795822842832422,\n",
              "  -0.006795822842832422,\n",
              "  -0.006795822842832422,\n",
              "  -0.006795822842832422,\n",
              "  -0.006795822842832422,\n",
              "  -0.006795822842832422,\n",
              "  -0.006795822842832422,\n",
              "  -0.006795822842832422,\n",
              "  -0.006795822842832422,\n",
              "  -0.006795822842832422,\n",
              "  -0.006795822842832422,\n",
              "  -0.006795822842832422,\n",
              "  -0.006795822842832422,\n",
              "  -0.006795822842832422,\n",
              "  -0.006795822842832422,\n",
              "  -0.006795822842832422,\n",
              "  -0.006795822842832422,\n",
              "  -0.006795822842832422,\n",
              "  -0.006795822842832422,\n",
              "  -0.006795822842832422,\n",
              "  -0.006795822842832422,\n",
              "  -0.006795822842832422,\n",
              "  -0.006795822842832422,\n",
              "  -0.006795822842832422,\n",
              "  -0.006795822842832422,\n",
              "  -0.006795822842832422,\n",
              "  -0.006795822842832422,\n",
              "  -0.006795822842832422,\n",
              "  -0.006795822842832422,\n",
              "  -0.006795822842832422,\n",
              "  -0.006795822842832422,\n",
              "  -0.006795822842832422,\n",
              "  -0.006795822842832422,\n",
              "  -0.006795822842832422,\n",
              "  -0.006795822842832422,\n",
              "  -0.006795822842832422,\n",
              "  -0.006795822842832422,\n",
              "  -0.006795822842832422,\n",
              "  -0.006795822842832422,\n",
              "  -0.006795822842832422,\n",
              "  -0.006795822842832422,\n",
              "  -0.006795822842832422,\n",
              "  -0.006795822842832422,\n",
              "  -0.006795822842832422,\n",
              "  -0.006795822842832422,\n",
              "  -0.006795822842832422,\n",
              "  -0.006795822842832422,\n",
              "  -0.006795822842832422,\n",
              "  -0.006795822842832422,\n",
              "  -0.006795822842832422,\n",
              "  -0.006795822842832422,\n",
              "  -0.006795822842832422,\n",
              "  -0.006795822842832422,\n",
              "  -0.006795822842832422,\n",
              "  -0.006795822842832422,\n",
              "  -0.006795822842832422,\n",
              "  -0.006795822842832422,\n",
              "  -0.006795822842832422,\n",
              "  -0.006795822842832422,\n",
              "  -0.006795822842832422,\n",
              "  -0.006795822842832422,\n",
              "  -0.006795822842832422,\n",
              "  -0.006795822842832422,\n",
              "  -0.006795822842832422,\n",
              "  -0.006795822842832422,\n",
              "  -0.006795822842832422,\n",
              "  -0.006795822842832422,\n",
              "  -0.006795822842832422,\n",
              "  -0.006795822842832422,\n",
              "  -0.006795822842832422,\n",
              "  -0.006795822842832422,\n",
              "  -0.006795822842832422,\n",
              "  -0.006795822842832422,\n",
              "  -0.006795822842832422,\n",
              "  -0.006795822842832422,\n",
              "  -0.006795822842832422,\n",
              "  -0.006795822842832422,\n",
              "  -0.006795822842832422,\n",
              "  -0.006795822842832422,\n",
              "  -0.006795822842832422,\n",
              "  -0.006795822842832422,\n",
              "  -0.006795822842832422,\n",
              "  -0.006795822842832422,\n",
              "  -0.006795822842832422,\n",
              "  -0.006795822842832422,\n",
              "  -0.006795822842832422,\n",
              "  -0.006795822842832422],\n",
              " 10: [-0.006136039166449336,\n",
              "  -0.006136039166449336,\n",
              "  -0.006136039166449336,\n",
              "  -0.006136039166449336,\n",
              "  -0.006136039166449336,\n",
              "  -0.006136039166449336,\n",
              "  -0.006136039166449336,\n",
              "  -0.006136039166449336,\n",
              "  -0.006136039166449336,\n",
              "  -0.006136039166449336,\n",
              "  -0.006136039166449336,\n",
              "  -0.006136039166449336,\n",
              "  -0.006136039166449336,\n",
              "  -0.006136039166449336,\n",
              "  -0.006136039166449336,\n",
              "  -0.006136039166449336,\n",
              "  -0.006136039166449336,\n",
              "  -0.006136039166449336,\n",
              "  -0.006136039166449336,\n",
              "  -0.006136039166449336,\n",
              "  -0.006136039166449336,\n",
              "  -0.006136039166449336,\n",
              "  -0.006136039166449336,\n",
              "  -0.006136039166449336,\n",
              "  -0.006136039166449336,\n",
              "  -0.006136039166449336,\n",
              "  -0.006136039166449336,\n",
              "  -0.006136039166449336,\n",
              "  -0.006136039166449336,\n",
              "  -0.006136039166449336,\n",
              "  -0.006136039166449336,\n",
              "  -0.006136039166449336,\n",
              "  -0.006136039166449336,\n",
              "  -0.006136039166449336,\n",
              "  -0.006136039166449336,\n",
              "  -0.006136039166449336,\n",
              "  -0.006136039166449336,\n",
              "  -0.006136039166449336,\n",
              "  -0.006136039166449336,\n",
              "  -0.006136039166449336,\n",
              "  -0.006136039166449336,\n",
              "  -0.006136039166449336,\n",
              "  -0.006136039166449336,\n",
              "  -0.006136039166449336,\n",
              "  -0.006136039166449336,\n",
              "  -0.006136039166449336,\n",
              "  -0.006136039166449336,\n",
              "  -0.006136039166449336,\n",
              "  -0.006136039166449336,\n",
              "  -0.006136039166449336,\n",
              "  -0.006136039166449336,\n",
              "  -0.006136039166449336,\n",
              "  -0.006136039166449336,\n",
              "  -0.006136039166449336,\n",
              "  -0.006136039166449336,\n",
              "  -0.006136039166449336,\n",
              "  -0.006136039166449336,\n",
              "  -0.006136039166449336,\n",
              "  -0.006136039166449336,\n",
              "  -0.006136039166449336,\n",
              "  -0.006136039166449336,\n",
              "  -0.006136039166449336,\n",
              "  -0.006136039166449336,\n",
              "  -0.006136039166449336,\n",
              "  -0.006136039166449336,\n",
              "  -0.006136039166449336,\n",
              "  -0.006136039166449336,\n",
              "  -0.006136039166449336,\n",
              "  -0.006136039166449336,\n",
              "  -0.006136039166449336,\n",
              "  -0.006136039166449336,\n",
              "  -0.006136039166449336,\n",
              "  -0.006136039166449336,\n",
              "  -0.006136039166449336,\n",
              "  -0.006136039166449336,\n",
              "  -0.006136039166449336,\n",
              "  -0.006136039166449336,\n",
              "  -0.006136039166449336,\n",
              "  -0.006136039166449336,\n",
              "  -0.006136039166449336,\n",
              "  -0.006136039166449336,\n",
              "  -0.006136039166449336,\n",
              "  -0.006136039166449336,\n",
              "  -0.006136039166449336,\n",
              "  -0.006136039166449336,\n",
              "  -0.006136039166449336,\n",
              "  -0.006136039166449336,\n",
              "  -0.006136039166449336,\n",
              "  -0.006136039166449336,\n",
              "  -0.006136039166449336,\n",
              "  -0.006136039166449336,\n",
              "  -0.006136039166449336,\n",
              "  -0.006136039166449336,\n",
              "  -0.006136039166449336,\n",
              "  -0.006136039166449336,\n",
              "  -0.006136039166449336,\n",
              "  -0.006136039166449336,\n",
              "  -0.006136039166449336,\n",
              "  -0.006136039166449336,\n",
              "  -0.006136039166449336,\n",
              "  -0.006136039166449336,\n",
              "  -0.006136039166449336,\n",
              "  -0.006136039166449336,\n",
              "  -0.006136039166449336,\n",
              "  -0.006136039166449336,\n",
              "  -0.006136039166449336,\n",
              "  -0.006136039166449336,\n",
              "  -0.006136039166449336,\n",
              "  -0.006136039166449336,\n",
              "  -0.006136039166449336,\n",
              "  -0.006136039166449336,\n",
              "  -0.006136039166449336,\n",
              "  -0.006136039166449336,\n",
              "  -0.006136039166449336,\n",
              "  -0.006136039166449336,\n",
              "  -0.006136039166449336,\n",
              "  -0.006136039166449336,\n",
              "  -0.006136039166449336,\n",
              "  -0.006136039166449336,\n",
              "  -0.006136039166449336,\n",
              "  -0.006136039166449336,\n",
              "  -0.006136039166449336,\n",
              "  -0.006136039166449336,\n",
              "  -0.006136039166449336,\n",
              "  -0.006136039166449336,\n",
              "  -0.006136039166449336,\n",
              "  -0.006136039166449336,\n",
              "  -0.006136039166449336],\n",
              " 13: [-0.0013952526314824354,\n",
              "  -0.0013952526314824354,\n",
              "  -0.0013952526314824354,\n",
              "  -0.0013952526314824354,\n",
              "  -0.0013952526314824354,\n",
              "  -0.0013952526314824354,\n",
              "  -0.0013952526314824354,\n",
              "  -0.0013952526314824354,\n",
              "  -0.0013952526314824354,\n",
              "  -0.0013952526314824354,\n",
              "  -0.0013952526314824354,\n",
              "  -0.0013952526314824354,\n",
              "  -0.0013952526314824354,\n",
              "  -0.0013952526314824354,\n",
              "  -0.0013952526314824354,\n",
              "  -0.0013952526314824354,\n",
              "  -0.0013952526314824354,\n",
              "  -0.0013952526314824354,\n",
              "  -0.0013952526314824354,\n",
              "  -0.0013952526314824354,\n",
              "  -0.0013952526314824354,\n",
              "  -0.0013952526314824354,\n",
              "  -0.0013952526314824354,\n",
              "  -0.0013952526314824354,\n",
              "  -0.0013952526314824354,\n",
              "  -0.0013952526314824354,\n",
              "  -0.0013952526314824354,\n",
              "  -0.0013952526314824354,\n",
              "  -0.0013952526314824354,\n",
              "  -0.0013952526314824354,\n",
              "  -0.0013952526314824354,\n",
              "  -0.0013952526314824354,\n",
              "  -0.0013952526314824354,\n",
              "  -0.0013952526314824354,\n",
              "  -0.0013952526314824354,\n",
              "  -0.0013952526314824354,\n",
              "  -0.0013952526314824354,\n",
              "  -0.0013952526314824354,\n",
              "  -0.0013952526314824354,\n",
              "  -0.0013952526314824354,\n",
              "  -0.0013952526314824354,\n",
              "  -0.0013952526314824354,\n",
              "  -0.0013952526314824354,\n",
              "  -0.0013952526314824354,\n",
              "  -0.0013952526314824354,\n",
              "  -0.0013952526314824354,\n",
              "  -0.0013952526314824354,\n",
              "  -0.0013952526314824354,\n",
              "  -0.0013952526314824354,\n",
              "  -0.0013952526314824354,\n",
              "  -0.0013952526314824354,\n",
              "  -0.0013952526314824354,\n",
              "  -0.0013952526314824354,\n",
              "  -0.0013952526314824354,\n",
              "  -0.0013952526314824354,\n",
              "  -0.0013952526314824354,\n",
              "  -0.0013952526314824354,\n",
              "  -0.0013952526314824354,\n",
              "  -0.0013952526314824354,\n",
              "  -0.0013952526314824354,\n",
              "  -0.0013952526314824354,\n",
              "  -0.0013952526314824354,\n",
              "  -0.0013952526314824354,\n",
              "  -0.0013952526314824354,\n",
              "  -0.0013952526314824354,\n",
              "  -0.0013952526314824354,\n",
              "  -0.0013952526314824354,\n",
              "  -0.0013952526314824354,\n",
              "  -0.0013952526314824354,\n",
              "  -0.0013952526314824354,\n",
              "  -0.0013952526314824354,\n",
              "  -0.0013952526314824354,\n",
              "  -0.0013952526314824354,\n",
              "  -0.0013952526314824354,\n",
              "  -0.0013952526314824354,\n",
              "  -0.0013952526314824354,\n",
              "  -0.0013952526314824354,\n",
              "  -0.0013952526314824354,\n",
              "  -0.0013952526314824354,\n",
              "  -0.0013952526314824354,\n",
              "  -0.0013952526314824354,\n",
              "  -0.0013952526314824354,\n",
              "  -0.0013952526314824354,\n",
              "  -0.0013952526314824354,\n",
              "  -0.0013952526314824354,\n",
              "  -0.0013952526314824354,\n",
              "  -0.0013952526314824354,\n",
              "  -0.0013952526314824354,\n",
              "  -0.0013952526314824354,\n",
              "  -0.0013952526314824354,\n",
              "  -0.0013952526314824354,\n",
              "  -0.0013952526314824354,\n",
              "  -0.0013952526314824354,\n",
              "  -0.0013952526314824354,\n",
              "  -0.0013952526314824354,\n",
              "  -0.0013952526314824354,\n",
              "  -0.0013952526314824354,\n",
              "  -0.0013952526314824354,\n",
              "  -0.0013952526314824354,\n",
              "  -0.0013952526314824354,\n",
              "  -0.0013952526314824354,\n",
              "  -0.0013952526314824354,\n",
              "  -0.0013952526314824354,\n",
              "  -0.0013952526314824354,\n",
              "  -0.0013952526314824354,\n",
              "  -0.0013952526314824354,\n",
              "  -0.0013952526314824354,\n",
              "  -0.0013952526314824354,\n",
              "  -0.0013952526314824354,\n",
              "  -0.0013952526314824354,\n",
              "  -0.0013952526314824354,\n",
              "  -0.0013952526314824354,\n",
              "  -0.0013952526314824354,\n",
              "  -0.0013952526314824354,\n",
              "  -0.0013952526314824354,\n",
              "  -0.0013952526314824354,\n",
              "  -0.0013952526314824354,\n",
              "  -0.0013952526314824354,\n",
              "  -0.0013952526314824354,\n",
              "  -0.0013952526314824354,\n",
              "  -0.0013952526314824354,\n",
              "  -0.0013952526314824354,\n",
              "  -0.0013952526314824354,\n",
              "  -0.0013952526314824354,\n",
              "  -0.0013952526314824354,\n",
              "  -0.0013952526314824354,\n",
              "  -0.0013952526314824354,\n",
              "  -0.0013952526314824354],\n",
              " 37: [-0.00883977357261756,\n",
              "  -0.00883977357261756,\n",
              "  -0.00883977357261756,\n",
              "  -0.00883977357261756,\n",
              "  -0.00883977357261756,\n",
              "  -0.00883977357261756,\n",
              "  -0.00883977357261756,\n",
              "  -0.00883977357261756,\n",
              "  -0.00883977357261756,\n",
              "  -0.00883977357261756,\n",
              "  -0.00883977357261756,\n",
              "  -0.00883977357261756,\n",
              "  -0.00883977357261756,\n",
              "  -0.00883977357261756,\n",
              "  -0.00883977357261756,\n",
              "  -0.00883977357261756,\n",
              "  -0.00883977357261756,\n",
              "  -0.00883977357261756,\n",
              "  -0.00883977357261756,\n",
              "  -0.00883977357261756,\n",
              "  -0.00883977357261756,\n",
              "  -0.00883977357261756,\n",
              "  -0.00883977357261756,\n",
              "  -0.00883977357261756,\n",
              "  -0.00883977357261756,\n",
              "  -0.00883977357261756,\n",
              "  -0.00883977357261756,\n",
              "  -0.00883977357261756,\n",
              "  -0.00883977357261756,\n",
              "  -0.00883977357261756,\n",
              "  -0.00883977357261756,\n",
              "  -0.00883977357261756,\n",
              "  -0.00883977357261756,\n",
              "  -0.00883977357261756,\n",
              "  -0.00883977357261756,\n",
              "  -0.00883977357261756,\n",
              "  -0.00883977357261756,\n",
              "  -0.00883977357261756,\n",
              "  -0.00883977357261756,\n",
              "  -0.00883977357261756,\n",
              "  -0.00883977357261756,\n",
              "  -0.00883977357261756,\n",
              "  -0.00883977357261756,\n",
              "  -0.00883977357261756,\n",
              "  -0.00883977357261756,\n",
              "  -0.00883977357261756,\n",
              "  -0.00883977357261756,\n",
              "  -0.00883977357261756,\n",
              "  -0.00883977357261756,\n",
              "  -0.00883977357261756,\n",
              "  -0.00883977357261756,\n",
              "  -0.00883977357261756,\n",
              "  -0.00883977357261756,\n",
              "  -0.00883977357261756,\n",
              "  -0.00883977357261756,\n",
              "  -0.00883977357261756,\n",
              "  -0.00883977357261756,\n",
              "  -0.00883977357261756,\n",
              "  -0.00883977357261756,\n",
              "  -0.00883977357261756,\n",
              "  -0.00883977357261756,\n",
              "  -0.00883977357261756,\n",
              "  -0.00883977357261756,\n",
              "  -0.00883977357261756,\n",
              "  -0.00883977357261756,\n",
              "  -0.00883977357261756,\n",
              "  -0.00883977357261756,\n",
              "  -0.00883977357261756,\n",
              "  -0.00883977357261756,\n",
              "  -0.00883977357261756,\n",
              "  -0.00883977357261756,\n",
              "  -0.00883977357261756,\n",
              "  -0.00883977357261756,\n",
              "  -0.00883977357261756,\n",
              "  -0.00883977357261756,\n",
              "  -0.00883977357261756,\n",
              "  -0.00883977357261756,\n",
              "  -0.00883977357261756,\n",
              "  -0.00883977357261756,\n",
              "  -0.00883977357261756,\n",
              "  -0.00883977357261756,\n",
              "  -0.00883977357261756,\n",
              "  -0.00883977357261756,\n",
              "  -0.00883977357261756,\n",
              "  -0.00883977357261756,\n",
              "  -0.00883977357261756,\n",
              "  -0.00883977357261756,\n",
              "  -0.00883977357261756,\n",
              "  -0.00883977357261756,\n",
              "  -0.00883977357261756,\n",
              "  -0.00883977357261756,\n",
              "  -0.00883977357261756,\n",
              "  -0.00883977357261756,\n",
              "  -0.00883977357261756,\n",
              "  -0.00883977357261756,\n",
              "  -0.00883977357261756,\n",
              "  -0.00883977357261756,\n",
              "  -0.00883977357261756,\n",
              "  -0.00883977357261756,\n",
              "  -0.00883977357261756,\n",
              "  -0.00883977357261756,\n",
              "  -0.00883977357261756,\n",
              "  -0.00883977357261756,\n",
              "  -0.00883977357261756,\n",
              "  -0.00883977357261756,\n",
              "  -0.00883977357261756,\n",
              "  -0.00883977357261756,\n",
              "  -0.00883977357261756,\n",
              "  -0.00883977357261756,\n",
              "  -0.00883977357261756,\n",
              "  -0.00883977357261756,\n",
              "  -0.00883977357261756,\n",
              "  -0.00883977357261756,\n",
              "  -0.00883977357261756,\n",
              "  -0.00883977357261756,\n",
              "  -0.00883977357261756,\n",
              "  -0.00883977357261756,\n",
              "  -0.00883977357261756,\n",
              "  -0.00883977357261756,\n",
              "  -0.00883977357261756,\n",
              "  -0.00883977357261756,\n",
              "  -0.00883977357261756,\n",
              "  -0.00883977357261756,\n",
              "  -0.00883977357261756,\n",
              "  -0.00883977357261756,\n",
              "  -0.00883977357261756,\n",
              "  -0.00883977357261756,\n",
              "  -0.00883977357261756],\n",
              " 76: [0.004205114434626012,\n",
              "  0.004205114434626012,\n",
              "  0.004205114434626012,\n",
              "  0.004205114434626012,\n",
              "  0.004205114434626012,\n",
              "  0.004205114434626012,\n",
              "  0.004205114434626012,\n",
              "  0.004205114434626012,\n",
              "  0.004205114434626012,\n",
              "  0.004205114434626012,\n",
              "  0.004205114434626012,\n",
              "  0.004205114434626012,\n",
              "  0.004205114434626012,\n",
              "  0.004205114434626012,\n",
              "  0.004205114434626012,\n",
              "  0.004205114434626012,\n",
              "  0.004205114434626012,\n",
              "  0.004205114434626012,\n",
              "  0.004205114434626012,\n",
              "  0.004205114434626012,\n",
              "  0.004205114434626012,\n",
              "  0.004205114434626012,\n",
              "  0.004205114434626012,\n",
              "  0.004205114434626012,\n",
              "  0.004205114434626012,\n",
              "  0.004205114434626012,\n",
              "  0.004205114434626012,\n",
              "  0.004205114434626012,\n",
              "  0.004205114434626012,\n",
              "  0.004205114434626012,\n",
              "  0.004205114434626012,\n",
              "  0.004205114434626012,\n",
              "  0.004205114434626012,\n",
              "  0.004205114434626012,\n",
              "  0.004205114434626012,\n",
              "  0.004205114434626012,\n",
              "  0.004205114434626012,\n",
              "  0.004205114434626012,\n",
              "  0.004205114434626012,\n",
              "  0.004205114434626012,\n",
              "  0.004205114434626012,\n",
              "  0.004205114434626012,\n",
              "  0.004205114434626012,\n",
              "  0.004205114434626012,\n",
              "  0.004205114434626012,\n",
              "  0.004205114434626012,\n",
              "  0.004205114434626012,\n",
              "  0.004205114434626012,\n",
              "  0.004205114434626012,\n",
              "  0.004205114434626012,\n",
              "  0.004205114434626012,\n",
              "  0.004205114434626012,\n",
              "  0.004205114434626012,\n",
              "  0.004205114434626012,\n",
              "  0.004205114434626012,\n",
              "  0.004205114434626012,\n",
              "  0.004205114434626012,\n",
              "  0.004205114434626012,\n",
              "  0.004205114434626012,\n",
              "  0.004205114434626012,\n",
              "  0.004205114434626012,\n",
              "  0.004205114434626012,\n",
              "  0.004205114434626012,\n",
              "  0.004205114434626012,\n",
              "  0.004205114434626012,\n",
              "  0.004205114434626012,\n",
              "  0.004205114434626012,\n",
              "  0.004205114434626012,\n",
              "  0.004205114434626012,\n",
              "  0.004205114434626012,\n",
              "  0.004205114434626012,\n",
              "  0.004205114434626012,\n",
              "  0.004205114434626012,\n",
              "  0.004205114434626012,\n",
              "  0.004205114434626012,\n",
              "  0.004205114434626012,\n",
              "  0.004205114434626012,\n",
              "  0.004205114434626012,\n",
              "  0.004205114434626012,\n",
              "  0.004205114434626012,\n",
              "  0.004205114434626012,\n",
              "  0.004205114434626012,\n",
              "  0.004205114434626012,\n",
              "  0.004205114434626012,\n",
              "  0.004205114434626012,\n",
              "  0.004205114434626012,\n",
              "  0.004205114434626012,\n",
              "  0.004205114434626012,\n",
              "  0.004205114434626012,\n",
              "  0.004205114434626012,\n",
              "  0.004205114434626012,\n",
              "  0.004205114434626012,\n",
              "  0.004205114434626012,\n",
              "  0.004205114434626012,\n",
              "  0.004205114434626012,\n",
              "  0.004205114434626012,\n",
              "  0.004205114434626012,\n",
              "  0.004205114434626012,\n",
              "  0.004205114434626012,\n",
              "  0.004205114434626012,\n",
              "  0.004205114434626012,\n",
              "  0.004205114434626012,\n",
              "  0.004205114434626012,\n",
              "  0.004205114434626012,\n",
              "  0.004205114434626012,\n",
              "  0.004205114434626012,\n",
              "  0.004205114434626012,\n",
              "  0.004205114434626012,\n",
              "  0.004205114434626012,\n",
              "  0.004205114434626012,\n",
              "  0.004205114434626012,\n",
              "  0.004205114434626012,\n",
              "  0.004205114434626012,\n",
              "  0.004205114434626012,\n",
              "  0.004205114434626012,\n",
              "  0.004205114434626012,\n",
              "  0.004205114434626012,\n",
              "  0.004205114434626012,\n",
              "  0.004205114434626012,\n",
              "  0.004205114434626012,\n",
              "  0.004205114434626012,\n",
              "  0.004205114434626012,\n",
              "  0.004205114434626012,\n",
              "  0.004205114434626012,\n",
              "  0.004205114434626012,\n",
              "  0.004205114434626012,\n",
              "  0.004205114434626012,\n",
              "  0.004205114434626012],\n",
              " 19: [-0.0041664389236757415,\n",
              "  -0.0041664389236757415,\n",
              "  -0.0041664389236757415,\n",
              "  -0.0041664389236757415,\n",
              "  -0.0041664389236757415,\n",
              "  -0.0041664389236757415,\n",
              "  -0.0041664389236757415,\n",
              "  -0.0041664389236757415,\n",
              "  -0.0041664389236757415,\n",
              "  -0.0041664389236757415,\n",
              "  -0.0041664389236757415,\n",
              "  -0.0041664389236757415,\n",
              "  -0.0041664389236757415,\n",
              "  -0.0041664389236757415,\n",
              "  -0.0041664389236757415,\n",
              "  -0.0041664389236757415,\n",
              "  -0.0041664389236757415,\n",
              "  -0.0041664389236757415,\n",
              "  -0.0041664389236757415,\n",
              "  -0.0041664389236757415,\n",
              "  -0.0041664389236757415,\n",
              "  -0.0041664389236757415,\n",
              "  -0.0041664389236757415,\n",
              "  -0.0041664389236757415,\n",
              "  -0.0041664389236757415,\n",
              "  -0.0041664389236757415,\n",
              "  -0.0041664389236757415,\n",
              "  -0.0041664389236757415,\n",
              "  -0.0041664389236757415,\n",
              "  -0.0041664389236757415,\n",
              "  -0.0041664389236757415,\n",
              "  -0.0041664389236757415,\n",
              "  -0.0041664389236757415,\n",
              "  -0.0041664389236757415,\n",
              "  -0.0041664389236757415,\n",
              "  -0.0041664389236757415,\n",
              "  -0.0041664389236757415,\n",
              "  -0.0041664389236757415,\n",
              "  -0.0041664389236757415,\n",
              "  -0.0041664389236757415,\n",
              "  -0.0041664389236757415,\n",
              "  -0.0041664389236757415,\n",
              "  -0.0041664389236757415,\n",
              "  -0.0041664389236757415,\n",
              "  -0.0041664389236757415,\n",
              "  -0.0041664389236757415,\n",
              "  -0.0041664389236757415,\n",
              "  -0.0041664389236757415,\n",
              "  -0.0041664389236757415,\n",
              "  -0.0041664389236757415,\n",
              "  -0.0041664389236757415,\n",
              "  -0.0041664389236757415,\n",
              "  -0.0041664389236757415,\n",
              "  -0.0041664389236757415,\n",
              "  -0.0041664389236757415,\n",
              "  -0.0041664389236757415,\n",
              "  -0.0041664389236757415,\n",
              "  -0.0041664389236757415,\n",
              "  -0.0041664389236757415,\n",
              "  -0.0041664389236757415,\n",
              "  -0.0041664389236757415,\n",
              "  -0.0041664389236757415,\n",
              "  -0.0041664389236757415,\n",
              "  -0.0041664389236757415,\n",
              "  -0.0041664389236757415,\n",
              "  -0.0041664389236757415,\n",
              "  -0.0041664389236757415,\n",
              "  -0.0041664389236757415,\n",
              "  -0.0041664389236757415,\n",
              "  -0.0041664389236757415,\n",
              "  -0.0041664389236757415,\n",
              "  -0.0041664389236757415,\n",
              "  -0.0041664389236757415,\n",
              "  -0.0041664389236757415,\n",
              "  -0.0041664389236757415,\n",
              "  -0.0041664389236757415,\n",
              "  -0.0041664389236757415,\n",
              "  -0.0041664389236757415,\n",
              "  -0.0041664389236757415,\n",
              "  -0.0041664389236757415,\n",
              "  -0.0041664389236757415,\n",
              "  -0.0041664389236757415,\n",
              "  -0.0041664389236757415,\n",
              "  -0.0041664389236757415,\n",
              "  -0.0041664389236757415,\n",
              "  -0.0041664389236757415,\n",
              "  -0.0041664389236757415,\n",
              "  -0.0041664389236757415,\n",
              "  -0.0041664389236757415,\n",
              "  -0.0041664389236757415,\n",
              "  -0.0041664389236757415,\n",
              "  -0.0041664389236757415,\n",
              "  -0.0041664389236757415,\n",
              "  -0.0041664389236757415,\n",
              "  -0.0041664389236757415,\n",
              "  -0.0041664389236757415,\n",
              "  -0.0041664389236757415,\n",
              "  -0.0041664389236757415,\n",
              "  -0.0041664389236757415,\n",
              "  -0.0041664389236757415,\n",
              "  -0.0041664389236757415,\n",
              "  -0.0041664389236757415,\n",
              "  -0.0041664389236757415,\n",
              "  -0.0041664389236757415,\n",
              "  -0.0041664389236757415,\n",
              "  -0.0041664389236757415,\n",
              "  -0.0041664389236757415,\n",
              "  -0.0041664389236757415,\n",
              "  -0.0041664389236757415,\n",
              "  -0.0041664389236757415,\n",
              "  -0.0041664389236757415,\n",
              "  -0.0041664389236757415,\n",
              "  -0.0041664389236757415,\n",
              "  -0.0041664389236757415,\n",
              "  -0.0041664389236757415,\n",
              "  -0.0041664389236757415,\n",
              "  -0.0041664389236757415,\n",
              "  -0.0041664389236757415,\n",
              "  -0.0041664389236757415,\n",
              "  -0.0041664389236757415,\n",
              "  -0.0041664389236757415,\n",
              "  -0.0041664389236757415,\n",
              "  -0.0041664389236757415,\n",
              "  -0.0041664389236757415,\n",
              "  -0.0041664389236757415,\n",
              "  -0.0041664389236757415,\n",
              "  -0.0041664389236757415,\n",
              "  -0.0041664389236757415],\n",
              " 97: [-0.0016920433554332703,\n",
              "  -0.0016920433554332703,\n",
              "  -0.0016920433554332703,\n",
              "  -0.0016920433554332703,\n",
              "  -0.0016920433554332703,\n",
              "  -0.0016920433554332703,\n",
              "  -0.0016920433554332703,\n",
              "  -0.0016920433554332703,\n",
              "  -0.0016920433554332703,\n",
              "  -0.0016920433554332703,\n",
              "  -0.0016920433554332703,\n",
              "  -0.0016920433554332703,\n",
              "  -0.0016920433554332703,\n",
              "  -0.0016920433554332703,\n",
              "  -0.0016920433554332703,\n",
              "  -0.0016920433554332703,\n",
              "  -0.0016920433554332703,\n",
              "  -0.0016920433554332703,\n",
              "  -0.0016920433554332703,\n",
              "  -0.0016920433554332703,\n",
              "  -0.0016920433554332703,\n",
              "  -0.0016920433554332703,\n",
              "  -0.0016920433554332703,\n",
              "  -0.0016920433554332703,\n",
              "  -0.0016920433554332703,\n",
              "  -0.0016920433554332703,\n",
              "  -0.0016920433554332703,\n",
              "  -0.0016920433554332703,\n",
              "  -0.0016920433554332703,\n",
              "  -0.0016920433554332703,\n",
              "  -0.0016920433554332703,\n",
              "  -0.0016920433554332703,\n",
              "  -0.0016920433554332703,\n",
              "  -0.0016920433554332703,\n",
              "  -0.0016920433554332703,\n",
              "  -0.0016920433554332703,\n",
              "  -0.0016920433554332703,\n",
              "  -0.0016920433554332703,\n",
              "  -0.0016920433554332703,\n",
              "  -0.0016920433554332703,\n",
              "  -0.0016920433554332703,\n",
              "  -0.0016920433554332703,\n",
              "  -0.0016920433554332703,\n",
              "  -0.0016920433554332703,\n",
              "  -0.0016920433554332703,\n",
              "  -0.0016920433554332703,\n",
              "  -0.0016920433554332703,\n",
              "  -0.0016920433554332703,\n",
              "  -0.0016920433554332703,\n",
              "  -0.0016920433554332703,\n",
              "  -0.0016920433554332703,\n",
              "  -0.0016920433554332703,\n",
              "  -0.0016920433554332703,\n",
              "  -0.0016920433554332703,\n",
              "  -0.0016920433554332703,\n",
              "  -0.0016920433554332703,\n",
              "  -0.0016920433554332703,\n",
              "  -0.0016920433554332703,\n",
              "  -0.0016920433554332703,\n",
              "  -0.0016920433554332703,\n",
              "  -0.0016920433554332703,\n",
              "  -0.0016920433554332703,\n",
              "  -0.0016920433554332703,\n",
              "  -0.0016920433554332703,\n",
              "  -0.0016920433554332703,\n",
              "  -0.0016920433554332703,\n",
              "  -0.0016920433554332703,\n",
              "  -0.0016920433554332703,\n",
              "  -0.0016920433554332703,\n",
              "  -0.0016920433554332703,\n",
              "  -0.0016920433554332703,\n",
              "  -0.0016920433554332703,\n",
              "  -0.0016920433554332703,\n",
              "  -0.0016920433554332703,\n",
              "  -0.0016920433554332703,\n",
              "  -0.0016920433554332703,\n",
              "  -0.0016920433554332703,\n",
              "  -0.0016920433554332703,\n",
              "  -0.0016920433554332703,\n",
              "  -0.0016920433554332703,\n",
              "  -0.0016920433554332703,\n",
              "  -0.0016920433554332703,\n",
              "  -0.0016920433554332703,\n",
              "  -0.0016920433554332703,\n",
              "  -0.0016920433554332703,\n",
              "  -0.0016920433554332703,\n",
              "  -0.0016920433554332703,\n",
              "  -0.0016920433554332703,\n",
              "  -0.0016920433554332703,\n",
              "  -0.0016920433554332703,\n",
              "  -0.0016920433554332703,\n",
              "  -0.0016920433554332703,\n",
              "  -0.0016920433554332703,\n",
              "  -0.0016920433554332703,\n",
              "  -0.0016920433554332703,\n",
              "  -0.0016920433554332703,\n",
              "  -0.0016920433554332703,\n",
              "  -0.0016920433554332703,\n",
              "  -0.0016920433554332703,\n",
              "  -0.0016920433554332703,\n",
              "  -0.0016920433554332703,\n",
              "  -0.0016920433554332703,\n",
              "  -0.0016920433554332703,\n",
              "  -0.0016920433554332703,\n",
              "  -0.0016920433554332703,\n",
              "  -0.0016920433554332703,\n",
              "  -0.0016920433554332703,\n",
              "  -0.0016920433554332703,\n",
              "  -0.0016920433554332703,\n",
              "  -0.0016920433554332703,\n",
              "  -0.0016920433554332703,\n",
              "  -0.0016920433554332703,\n",
              "  -0.0016920433554332703,\n",
              "  -0.0016920433554332703,\n",
              "  -0.0016920433554332703,\n",
              "  -0.0016920433554332703,\n",
              "  -0.0016920433554332703,\n",
              "  -0.0016920433554332703,\n",
              "  -0.0016920433554332703,\n",
              "  -0.0016920433554332703,\n",
              "  -0.0016920433554332703,\n",
              "  -0.0016920433554332703,\n",
              "  -0.0016920433554332703,\n",
              "  -0.0016920433554332703,\n",
              "  -0.0016920433554332703,\n",
              "  -0.0016920433554332703,\n",
              "  -0.0016920433554332703,\n",
              "  -0.0016920433554332703]}"
            ]
          },
          "metadata": {},
          "execution_count": 22
        }
      ]
    },
    {
      "cell_type": "code",
      "source": [
        "epochs = 50\n",
        "alpha = 0.5\n",
        "batch_size = 16\n",
        "n_examples_per_class = 4\n",
        "EMA_lr = 0.9\n",
        "optimizer = tf.keras.optimizers.Adam(learning_rate=0.0003)\n",
        "\n",
        "\n",
        "# Calculate initial centers\n",
        "centers = tf.Variable(initial_value=tf.random.normal((102, 128), mean=0.0, stddev=0.5))\n",
        "\n",
        "# Loop through all samples\n",
        "\n",
        "for index in range(102):\n",
        "    # category_features = all_features[y_train == index]\n",
        "    category_center = all_features[y_train == index]\n",
        "    # if len(category_features) > 0:\n",
        "    if len(category_center) > 0 :\n",
        "        # category_center = tf.reduce_mean(category_features, axis=0)\n",
        "        centers[index].assign(category_center)\n",
        "\n",
        "# Training\n",
        "for epoch in tqdm(range(epochs)):\n",
        "    total_loss = 0.0\n",
        "    num_batches = 0\n",
        "    for batch_x, batch_y in batch_me(images=x_train, labels=y_train, batch_size=batch_size, samples_per_class=n_examples_per_class):\n",
        "        # Capture Gradients\n",
        "        with tf.GradientTape() as tape:\n",
        "            # Extract Features per batch\n",
        "            temps = model(batch_x, training=False)\n",
        "            # Seprate labels and their features\n",
        "            predictions = temps[0]\n",
        "            features = temps[1]\n",
        "            # initialize batch centers\n",
        "            batch_centers = centers.numpy()[batch_y]\n",
        "            # Calculate Batch Centers\n",
        "            for index in range(batch_size):\n",
        "                instance_features = features[index]\n",
        "                instance_mean = tf.reduce_mean(instance_features, axis=0)\n",
        "                batch_centers[index] = instance_mean\n",
        "\n",
        "            # Center-Loss calculation\n",
        "            c_loss = center_loss(features, batch_centers)\n",
        "            # Combine it with CategoricalCrossEntropyLoss\n",
        "            cls_loss = tf.keras.losses.CategoricalCrossentropy()(batch_y, predictions)\n",
        "            # Total Loss\n",
        "            loss = (c_loss * alpha) + cls_loss\n",
        "\n",
        "        # Calculate Gradients\n",
        "        gradients = tape.gradient(loss, model.trainable_variables)\n",
        "        optimizer.apply_gradients(zip(gradients, model.trainable_variables))\n",
        "\n",
        "        # Update training loss\n",
        "        total_loss += loss\n",
        "        num_batches += 1\n",
        "\n",
        "    # Calculate training Loss\n",
        "    training_loss = total_loss / num_batches\n",
        "\n",
        "\n",
        "    \"\"\"Validation\"\"\"\n",
        "    val_temps = model(x_test)\n",
        "    # Extract Validation Features and Labels\n",
        "    val_predictions = val_temps[0]\n",
        "    val_features = val_temps[1]\n",
        "\n",
        "    # Center Calcualtion\n",
        "    val_batch_centers = centers.numpy()[y_test]\n",
        "    for idx in range(len(y_test)):\n",
        "        val_instance_features = val_features[idx]\n",
        "        val_instance_mean = tf.reduce_mean(val_instance_features, axis=0)\n",
        "        val_batch_centers[idx] = val_instance_mean\n",
        "\n",
        "    # Loss Calculation\n",
        "    val_c_loss = center_loss(val_features, val_batch_centers)\n",
        "    val_cls_loss = tf.keras.losses.CategoricalCrossentropy()(y_test, val_predictions)\n",
        "    val_loss = (val_c_loss * alpha) + val_cls_loss\n",
        "\n",
        "    print(f\"Epoch {epoch + 1}/{epochs} - Training Loss: {training_loss:.4f} - Validation Loss: {val_loss.numpy():.4f}\")\n",
        "\n",
        "    # Centers Update Frequency\n",
        "    for index in range(102):\n",
        "        category_features = all_features[y_train == index]\n",
        "        if len(category_features)>0:\n",
        "            category_center = tf.reduce_mean(category_features, axis=0)\n",
        "            centers[index].assign((1.0 - EMA_lr) * centers[index]) + (EMA_lr * category_center)\n",
        "            print(f\"Centers updated - Step : {epoch+1}\\n\")\n"
      ],
      "metadata": {
        "id": "bKK1T4Aqiha8",
        "colab": {
          "base_uri": "https://localhost:8080/",
          "height": 425
        },
        "outputId": "5efa1537-41ea-4d47-8cdc-486f41b7f814"
      },
      "execution_count": 23,
      "outputs": [
        {
          "output_type": "stream",
          "name": "stderr",
          "text": [
            "  0%|          | 0/50 [00:14<?, ?it/s]\n"
          ]
        },
        {
          "output_type": "error",
          "ename": "InvalidArgumentError",
          "evalue": "ignored",
          "traceback": [
            "\u001b[0;31m---------------------------------------------------------------------------\u001b[0m",
            "\u001b[0;31mInvalidArgumentError\u001b[0m                      Traceback (most recent call last)",
            "\u001b[0;32m<ipython-input-23-8cccc4b6823b>\u001b[0m in \u001b[0;36m<cell line: 23>\u001b[0;34m()\u001b[0m\n\u001b[1;32m     37\u001b[0m             \u001b[0;32mfor\u001b[0m \u001b[0mindex\u001b[0m \u001b[0;32min\u001b[0m \u001b[0mrange\u001b[0m\u001b[0;34m(\u001b[0m\u001b[0mbatch_size\u001b[0m\u001b[0;34m)\u001b[0m\u001b[0;34m:\u001b[0m\u001b[0;34m\u001b[0m\u001b[0;34m\u001b[0m\u001b[0m\n\u001b[1;32m     38\u001b[0m                 \u001b[0minstance_features\u001b[0m \u001b[0;34m=\u001b[0m \u001b[0mfeatures\u001b[0m\u001b[0;34m[\u001b[0m\u001b[0mindex\u001b[0m\u001b[0;34m]\u001b[0m\u001b[0;34m\u001b[0m\u001b[0;34m\u001b[0m\u001b[0m\n\u001b[0;32m---> 39\u001b[0;31m                 \u001b[0minstance_mean\u001b[0m \u001b[0;34m=\u001b[0m \u001b[0mtf\u001b[0m\u001b[0;34m.\u001b[0m\u001b[0mreduce_mean\u001b[0m\u001b[0;34m(\u001b[0m\u001b[0minstance_features\u001b[0m\u001b[0;34m,\u001b[0m \u001b[0maxis\u001b[0m\u001b[0;34m=\u001b[0m\u001b[0;36m0\u001b[0m\u001b[0;34m)\u001b[0m\u001b[0;34m\u001b[0m\u001b[0;34m\u001b[0m\u001b[0m\n\u001b[0m\u001b[1;32m     40\u001b[0m                 \u001b[0mbatch_centers\u001b[0m\u001b[0;34m[\u001b[0m\u001b[0mindex\u001b[0m\u001b[0;34m]\u001b[0m \u001b[0;34m=\u001b[0m \u001b[0minstance_mean\u001b[0m\u001b[0;34m\u001b[0m\u001b[0;34m\u001b[0m\u001b[0m\n\u001b[1;32m     41\u001b[0m \u001b[0;34m\u001b[0m\u001b[0m\n",
            "\u001b[0;32m/usr/local/lib/python3.10/dist-packages/tensorflow/python/util/traceback_utils.py\u001b[0m in \u001b[0;36merror_handler\u001b[0;34m(*args, **kwargs)\u001b[0m\n\u001b[1;32m    151\u001b[0m     \u001b[0;32mexcept\u001b[0m \u001b[0mException\u001b[0m \u001b[0;32mas\u001b[0m \u001b[0me\u001b[0m\u001b[0;34m:\u001b[0m\u001b[0;34m\u001b[0m\u001b[0;34m\u001b[0m\u001b[0m\n\u001b[1;32m    152\u001b[0m       \u001b[0mfiltered_tb\u001b[0m \u001b[0;34m=\u001b[0m \u001b[0m_process_traceback_frames\u001b[0m\u001b[0;34m(\u001b[0m\u001b[0me\u001b[0m\u001b[0;34m.\u001b[0m\u001b[0m__traceback__\u001b[0m\u001b[0;34m)\u001b[0m\u001b[0;34m\u001b[0m\u001b[0;34m\u001b[0m\u001b[0m\n\u001b[0;32m--> 153\u001b[0;31m       \u001b[0;32mraise\u001b[0m \u001b[0me\u001b[0m\u001b[0;34m.\u001b[0m\u001b[0mwith_traceback\u001b[0m\u001b[0;34m(\u001b[0m\u001b[0mfiltered_tb\u001b[0m\u001b[0;34m)\u001b[0m \u001b[0;32mfrom\u001b[0m \u001b[0;32mNone\u001b[0m\u001b[0;34m\u001b[0m\u001b[0;34m\u001b[0m\u001b[0m\n\u001b[0m\u001b[1;32m    154\u001b[0m     \u001b[0;32mfinally\u001b[0m\u001b[0;34m:\u001b[0m\u001b[0;34m\u001b[0m\u001b[0;34m\u001b[0m\u001b[0m\n\u001b[1;32m    155\u001b[0m       \u001b[0;32mdel\u001b[0m \u001b[0mfiltered_tb\u001b[0m\u001b[0;34m\u001b[0m\u001b[0;34m\u001b[0m\u001b[0m\n",
            "\u001b[0;32m/usr/local/lib/python3.10/dist-packages/tensorflow/python/framework/ops.py\u001b[0m in \u001b[0;36mraise_from_not_ok_status\u001b[0;34m(e, name)\u001b[0m\n\u001b[1;32m   7260\u001b[0m \u001b[0;32mdef\u001b[0m \u001b[0mraise_from_not_ok_status\u001b[0m\u001b[0;34m(\u001b[0m\u001b[0me\u001b[0m\u001b[0;34m,\u001b[0m \u001b[0mname\u001b[0m\u001b[0;34m)\u001b[0m\u001b[0;34m:\u001b[0m\u001b[0;34m\u001b[0m\u001b[0;34m\u001b[0m\u001b[0m\n\u001b[1;32m   7261\u001b[0m   \u001b[0me\u001b[0m\u001b[0;34m.\u001b[0m\u001b[0mmessage\u001b[0m \u001b[0;34m+=\u001b[0m \u001b[0;34m(\u001b[0m\u001b[0;34m\" name: \"\u001b[0m \u001b[0;34m+\u001b[0m \u001b[0mname\u001b[0m \u001b[0;32mif\u001b[0m \u001b[0mname\u001b[0m \u001b[0;32mis\u001b[0m \u001b[0;32mnot\u001b[0m \u001b[0;32mNone\u001b[0m \u001b[0;32melse\u001b[0m \u001b[0;34m\"\"\u001b[0m\u001b[0;34m)\u001b[0m\u001b[0;34m\u001b[0m\u001b[0;34m\u001b[0m\u001b[0m\n\u001b[0;32m-> 7262\u001b[0;31m   \u001b[0;32mraise\u001b[0m \u001b[0mcore\u001b[0m\u001b[0;34m.\u001b[0m\u001b[0m_status_to_exception\u001b[0m\u001b[0;34m(\u001b[0m\u001b[0me\u001b[0m\u001b[0;34m)\u001b[0m \u001b[0;32mfrom\u001b[0m \u001b[0;32mNone\u001b[0m  \u001b[0;31m# pylint: disable=protected-access\u001b[0m\u001b[0;34m\u001b[0m\u001b[0;34m\u001b[0m\u001b[0m\n\u001b[0m\u001b[1;32m   7263\u001b[0m \u001b[0;34m\u001b[0m\u001b[0m\n\u001b[1;32m   7264\u001b[0m \u001b[0;34m\u001b[0m\u001b[0m\n",
            "\u001b[0;31mInvalidArgumentError\u001b[0m: {{function_node __wrapped__Mean_device_/job:localhost/replica:0/task:0/device:CPU:0}} Invalid reduction dimension (0 for input with 0 dimension(s) [Op:Mean]"
          ]
        }
      ]
    },
    {
      "cell_type": "markdown",
      "source": [
        "# **TODO**\n",
        "\n",
        "*The provided code seems to be an attempt to train a model for image similarity using both center loss and categorical cross-entropy loss on the Oxford 102 flowers dataset. Overall, the code structure and approach are reasonable, but there are a few areas that could be improved or clarified*:\n",
        "\n",
        "\n",
        "- **Center Update**: The code updates the center values using the centers variable, but it initializes this variable with a random normal distribution. It might be more effective to initialize the centers with zeros, as this provides a better starting point.\n",
        "\n",
        "- **Center Calculation**: The code calculates the batch centers for each batch using the mean of the feature vectors. However, in this implementation, the same center values are updated for each category within the batch. It's more common to calculate centers per category over the entire training set and then update them as the training progresses.\n",
        "\n",
        "- **Learning Rate Schedule**: Consider using a learning rate schedule, such as the tf.keras.optimizers.schedules module, to adjust the learning rate during training. This can help with convergence and stability.\n",
        "\n",
        "- **Batch Size and Center Calculation**: The current code calculates centers based on batch_y, which means it uses the current batch for calculating centers. This might lead to unstable center values. It's better to accumulate the feature vectors for each category over the entire training set and then calculate centers after an epoch.\n",
        "\n",
        "- **Batch Normalization**: The model uses a pretrained EfficientNet model, which is a good choice. However, consider using batch normalization layers after the hub layer to improve training stability.\n",
        "\n",
        "- **Variable Names**: Some variable names could be more descriptive. For example, temps and val_temps might be better named as outputs or something similar.\n",
        "\n",
        "- **Validation Loop**: The validation loop calculates the loss for the entire validation set but doesn't update any values. It's common to calculate metrics such as accuracy as well.\n",
        "\n",
        "- **Center Loss Term**: The alpha parameter is used to weight the center loss term. You might need to experiment with this value to achieve a good balance between the two loss components.\n",
        "\n",
        "- **Normalization**: While the preprocessing of images includes scaling them to the range [0, 1], you may also consider standardizing the images (subtracting mean and dividing by standard deviation) to help convergence.\n",
        "\n",
        "- **Model Checkpoints**: Consider using model checkpoints to save the best model during training based on validation performance."
      ],
      "metadata": {
        "id": "a_CfAejMT_OT"
      }
    },
    {
      "cell_type": "code",
      "source": [],
      "metadata": {
        "id": "MKdUxQYAihdL"
      },
      "execution_count": null,
      "outputs": []
    },
    {
      "cell_type": "code",
      "source": [],
      "metadata": {
        "id": "sWkM0I4Oou66"
      },
      "execution_count": null,
      "outputs": []
    },
    {
      "cell_type": "code",
      "source": [],
      "metadata": {
        "id": "iQsaftUPou9S"
      },
      "execution_count": null,
      "outputs": []
    }
  ]
}